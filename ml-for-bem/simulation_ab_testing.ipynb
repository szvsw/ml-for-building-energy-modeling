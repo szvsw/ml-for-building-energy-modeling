{
 "cells": [
  {
   "cell_type": "code",
   "execution_count": 1,
   "metadata": {},
   "outputs": [
    {
     "name": "stderr",
     "output_type": "stream",
     "text": [
      "WARNING:pint.util:Redefining 'h' (<class 'pint.definitions.UnitDefinition'>)\n",
      "WARNING:pint.util:Redefining 'm3' (<class 'pint.definitions.UnitDefinition'>)\n",
      "WARNING:pint.util:Redefining 'm³' (<class 'pint.definitions.UnitDefinition'>)\n",
      "WARNING:pint.util:Redefining 'ft3' (<class 'pint.definitions.UnitDefinition'>)\n",
      "WARNING:pint.util:Redefining 'ft³' (<class 'pint.definitions.UnitDefinition'>)\n",
      "WARNING:pint.util:Redefining 'ft2' (<class 'pint.definitions.UnitDefinition'>)\n",
      "WARNING:pint.util:Redefining 'ft²' (<class 'pint.definitions.UnitDefinition'>)\n",
      "WARNING:pint.util:Redefining 'm2' (<class 'pint.definitions.UnitDefinition'>)\n",
      "WARNING:pint.util:Redefining 'm²' (<class 'pint.definitions.UnitDefinition'>)\n",
      "WARNING:pint.util:Redefining 'inch2' (<class 'pint.definitions.UnitDefinition'>)\n",
      "WARNING:pint.util:Redefining 'inch²' (<class 'pint.definitions.UnitDefinition'>)\n",
      "WARNING:pint.util:Redefining 'delta_degree_Celsius' (<class 'pint.definitions.UnitDefinition'>)\n",
      "WARNING:pint.util:Redefining 'Δ°C' (<class 'pint.definitions.UnitDefinition'>)\n",
      "WARNING:pint.util:Redefining 'Δcelsius' (<class 'pint.definitions.UnitDefinition'>)\n",
      "WARNING:pint.util:Redefining 'ΔdegC' (<class 'pint.definitions.UnitDefinition'>)\n",
      "WARNING:pint.util:Redefining 'ΔdegreeC' (<class 'pint.definitions.UnitDefinition'>)\n",
      "WARNING:pint.util:Redefining 'delta_celsius' (<class 'pint.definitions.UnitDefinition'>)\n",
      "WARNING:pint.util:Redefining 'delta_degC' (<class 'pint.definitions.UnitDefinition'>)\n",
      "WARNING:pint.util:Redefining 'delta_degreeC' (<class 'pint.definitions.UnitDefinition'>)\n",
      "WARNING:pint.util:Redefining 'degree_Celsius' (<class 'pint.definitions.UnitDefinition'>)\n",
      "WARNING:pint.util:Redefining '°C' (<class 'pint.definitions.UnitDefinition'>)\n",
      "WARNING:pint.util:Redefining 'celsius' (<class 'pint.definitions.UnitDefinition'>)\n",
      "WARNING:pint.util:Redefining 'degC' (<class 'pint.definitions.UnitDefinition'>)\n",
      "WARNING:pint.util:Redefining 'degreeC' (<class 'pint.definitions.UnitDefinition'>)\n",
      "WARNING:pint.util:Redefining 'C' (<class 'pint.definitions.UnitDefinition'>)\n",
      "ERROR:Schema:Failed to import a package! Be wary about continuing...\n",
      "Traceback (most recent call last):\n",
      "  File \"c:\\Users\\szvsw\\repos\\ml-for-building-energy-modeling\\ml-for-bem\\schema.py\", line 25, in <module>\n",
      "    from pyumi.shoeboxer.shoebox import ShoeBox\n",
      "ModuleNotFoundError: No module named 'pyumi'\n"
     ]
    }
   ],
   "source": [
    "from schema import WhiteboxSimulation, Schema\n",
    "from nrel_uitls import CLIMATEZONES, RESTYPES\n",
    "import json\n",
    "import numpy as np\n",
    "\n",
    "schema = Schema()\n",
    "\n",
    "height = 3\n",
    "width = 4\n",
    "facade_2_footprint = 0.303\n",
    "perim_2_footprint = 0.5\n",
    "\n",
    "depth = height / facade_2_footprint\n",
    "area = width * depth\n",
    "perim_area = perim_2_footprint * area\n",
    "core_area = (1-perim_2_footprint) * area\n",
    "\n",
    "with open(\"./data/city_map.json\",\"r\") as f:\n",
    "    city_map = json.load(f)\n",
    "storage_vector = schema.generate_empty_storage_vector()\n",
    "schema.update_storage_vector(storage_vector, parameter=\"climate_zone\", value=CLIMATEZONES[\"2A\"])\n",
    "schema.update_storage_vector(storage_vector, parameter=\"vintage\", value=1920)\n",
    "schema.update_storage_vector(storage_vector, parameter=\"program_type\", value=RESTYPES[\"Multi-Family with 5+ Units\"])\n",
    "schema.update_storage_vector(storage_vector, parameter=\"base_epw\", value=city_map[\"NY, New York\"][\"idx\"])\n",
    "schema.update_storage_vector(storage_vector, \"height\", height)\n",
    "schema.update_storage_vector(storage_vector, \"width\", width)\n",
    "schema.update_storage_vector(storage_vector, \"facade_2_footprint\", facade_2_footprint)\n",
    "schema.update_storage_vector(storage_vector, \"perim_2_footprint\", perim_2_footprint)\n",
    "schema.update_storage_vector(storage_vector, \"roof_2_footprint\", 0.0)\n",
    "schema.update_storage_vector(storage_vector, \"footprint_2_ground\", 0.0)\n",
    "schema.update_storage_vector(storage_vector, \"wwr\", 0.3)\n",
    "schema.update_storage_vector(storage_vector, \"orientation\", 0)\n",
    "schema.update_storage_vector(storage_vector, \"HeatingSetpoint\", 19)\n",
    "schema.update_storage_vector(storage_vector, \"CoolingSetpoint\", 23)\n",
    "schema.update_storage_vector(storage_vector, \"LightingPowerDensity\", 4.5)\n",
    "schema.update_storage_vector(storage_vector, \"EquipmentPowerDensity\", 1.33)\n",
    "schema.update_storage_vector(storage_vector, \"PeopleDensity\", 0.05)\n",
    "schema.update_storage_vector(storage_vector, \"Infiltration\", 0.5)\n",
    "schema.update_storage_vector(storage_vector, \"FacadeMass\", 32550) \n",
    "schema.update_storage_vector(storage_vector, \"RoofMass\", 37889)\n",
    "schema.update_storage_vector(storage_vector, \"FacadeRValue\", 6)\n",
    "schema.update_storage_vector(storage_vector, \"RoofRValue\", 6)\n",
    "schema.update_storage_vector(storage_vector, \"SlabRValue\", 6)\n",
    "schema.update_storage_vector(storage_vector, \"WindowSettings\", np.array([6,0.5,0.7])) \n",
    "\n"
   ]
  },
  {
   "cell_type": "markdown",
   "metadata": {},
   "source": [
    "# Run Surrogate"
   ]
  },
  {
   "cell_type": "code",
   "execution_count": 2,
   "metadata": {},
   "outputs": [
    {
     "name": "stdout",
     "output_type": "stream",
     "text": [
      "Couldn't import dot_parser, loading of dot files will not be possible.\n"
     ]
    }
   ],
   "source": [
    "from surrogate import Surrogate\n",
    "import torch\n",
    "import matplotlib.pyplot as plt"
   ]
  },
  {
   "cell_type": "code",
   "execution_count": 3,
   "metadata": {},
   "outputs": [
    {
     "name": "stderr",
     "output_type": "stream",
     "text": [
      "INFO:Surrogate:Using cuda for surrogate model.\n",
      "INFO:Surrogate:Loading the full dataset into main RAM...\n",
      "INFO:Surrogate:Finished loading the full dataset.\n",
      "INFO:Surrogate:Full Input Batch Size (in storage form, not MLVec Form): 382.750176MB\n",
      "INFO:Surrogate:Loading climate data...\n",
      "INFO:Surrogate:Finished loading climate data.\n",
      "INFO:Surrogate:Permuting dataset...\n",
      "INFO:Surrogate:Dataset permuted.\n",
      "INFO:Surrogate:28 building parameters per input vector\n",
      "INFO:Surrogate:11 timeseries per input vector\n",
      "INFO:Surrogate:4 timeseries per output vector\n",
      "INFO:Surrogate:12 timesteps in output.\n",
      "INFO:Surrogate:Initializing machine learning objects...\n",
      "INFO:Surrogate:ML objects initialized.\n"
     ]
    }
   ],
   "source": [
    "surrogate = Surrogate(schema=schema, checkpoint=\"batch_permute_lower_lr/batch_permute_lower_lr_202307250612_002_350000.pt\")"
   ]
  },
  {
   "cell_type": "code",
   "execution_count": 11,
   "metadata": {},
   "outputs": [
    {
     "data": {
      "text/plain": [
       "(1, 92)"
      ]
     },
     "execution_count": 11,
     "metadata": {},
     "output_type": "execute_result"
    }
   ],
   "source": [
    "surrogate.full_storage_batch[450000:450000+2].shape"
   ]
  },
  {
   "cell_type": "code",
   "execution_count": 4,
   "metadata": {},
   "outputs": [
    {
     "name": "stderr",
     "output_type": "stream",
     "text": [
      "INFO:Surrogate:Constructing climate timeseries for batch...\n",
      "INFO:Surrogate:Climate timeseries for batch constructed.\n",
      "INFO:Surrogate:Constructing schedules for batch...\n",
      "INFO:Surrogate:Schedules for batch constructed.\n",
      "INFO:Surrogate:Constructing building vector for batch...\n",
      "INFO:Surrogate:Building vector for batch constructed.\n"
     ]
    }
   ],
   "source": [
    "batch = storage_vector.reshape(1,-1)\n",
    "batch = np.vstack((batch,batch))\n",
    "ts = surrogate.get_batch_climate_timeseries(batch)\n",
    "scheds = surrogate.get_batch_schedules(batch)\n",
    "ts = np.concatenate((ts,scheds),axis = 1)\n",
    "bv = surrogate.get_batch_building_vector(batch)\n",
    "area_norm = (area - surrogate.area_min) / (surrogate.area_max - surrogate.area_min)\n",
    "perim_area_norm = (perim_area - surrogate.area_perim_min) / (surrogate.area_perim_max - surrogate.area_perim_min)\n",
    "core_area_norm = (core_area - surrogate.area_core_min) / (surrogate.area_core_max - surrogate.area_core_min)\n",
    "\n",
    "bv = np.concatenate ([bv, np.array([ [area_norm, perim_area_norm, core_area_norm] ]).repeat(2,axis=0) ], axis=1)\n",
    "bv = np.repeat(bv.reshape(2,-1,1), surrogate.output_resolution, axis=2)\n",
    "\n"
   ]
  },
  {
   "cell_type": "code",
   "execution_count": 5,
   "metadata": {},
   "outputs": [],
   "source": [
    "ts = torch.Tensor(ts).to('cuda')\n",
    "bv = torch.Tensor(bv).to('cuda')"
   ]
  },
  {
   "cell_type": "code",
   "execution_count": 6,
   "metadata": {},
   "outputs": [],
   "source": [
    "surrogate.timeseries_net.eval()\n",
    "surrogate.energy_net.eval()\n",
    "latent = surrogate.timeseries_net(ts)\n",
    "x = torch.concatenate((latent,bv), axis=1)\n",
    "results = surrogate.energy_net(x)"
   ]
  },
  {
   "cell_type": "code",
   "execution_count": 12,
   "metadata": {},
   "outputs": [
    {
     "data": {
      "text/plain": [
       "<matplotlib.legend.Legend at 0x231e3aac880>"
      ]
     },
     "execution_count": 12,
     "metadata": {},
     "output_type": "execute_result"
    },
    {
     "data": {
      "image/png": "[encoded data removed]",
      "text/plain": [
       "<Figure size 640x480 with 1 Axes>"
      ]
     },
     "metadata": {},
     "output_type": "display_data"
    }
   ],
   "source": [
    "plt.figure()\n",
    "for i in range(4):\n",
    "    res = results[0][i].detach().cpu().numpy()\n",
    "    label = \"\"\n",
    "    if i == 0:\n",
    "        res = res*(surrogate.eui_perim_heating_max - surrogate.eui_perim_heating_min) + surrogate.eui_perim_heating_min\n",
    "        label = \"Perim Heating\"\n",
    "    elif i == 1:\n",
    "        res = res*(surrogate.eui_perim_cooling_max - surrogate.eui_perim_cooling_min) + surrogate.eui_perim_cooling_min\n",
    "        label = \"Perim Cooling\"\n",
    "    elif i == 2:\n",
    "        res = res*(surrogate.eui_core_heating_max - surrogate.eui_core_heating_min) + surrogate.eui_core_heating_min\n",
    "        label = \"Core Heating\"\n",
    "    elif i == 3:\n",
    "        res = res*(surrogate.eui_core_cooling_max - surrogate.eui_core_cooling_min) + surrogate.eui_core_cooling_min\n",
    "        label = \"Core Cooling\"\n",
    "    plt.plot(res, label=label)\n",
    "plt.legend()"
   ]
  },
  {
   "cell_type": "markdown",
   "metadata": {},
   "source": [
    "# EPlus Sim"
   ]
  },
  {
   "cell_type": "code",
   "execution_count": 2,
   "metadata": {},
   "outputs": [],
   "source": [
    "import matplotlib.pyplot as plt"
   ]
  },
  {
   "cell_type": "code",
   "execution_count": 3,
   "metadata": {},
   "outputs": [
    {
     "name": "stderr",
     "output_type": "stream",
     "text": [
      "WARNING:archetypal:Modeling layer thinner (less) than 0.003 m (not recommended) for MaterialLayer '1836130356544:Simple Glazing with thickness of 0.002 m'\n"
     ]
    },
    {
     "name": "stdout",
     "output_type": "stream",
     "text": [
      "\n",
      "\n",
      "------------------------------\n",
      "EPW: c:\\Users\\szvsw\\repos\\ml-for-building-energy-modeling\\ml-for-bem\\data\\epws\\city_epws_indexed\\cityidx_0001_USA_NY-New York Central Prk Obs Belv.725033_TMY3.epw\n",
      "Selected Template: PROG_03_VINTAGE_00_MASS_1\n",
      "---ShoeboxConfig---\n",
      "Height 3.0\n",
      "Width 4.0\n",
      "WWR 0.3\n",
      "Facade2Foot 0.303\n",
      "Perim2Foot 0.5\n",
      "Foot2Gnd [adia %] 0.05\n",
      "Roof2Gnd [adia %] 0.05\n",
      "Orientation 0.0\n",
      "---PERIM/CORE Values---\n",
      "Heating Setpoint: 19.0 19.0\n",
      "Cooling Setpoint: 23.0 23.0\n",
      "Equipment Power Density: 1.33 1.33\n",
      "Lighting Power Density: 4.5 4.5\n",
      "People Density: 0.05 0.05\n",
      "Infiltration: 0.5 0.5\n",
      "Roof HeatCap: 38392.99128294026 38392.99128294026\n",
      "Facade HeatCap: 34939.75858762089 34939.75858762089\n",
      "U Window: 198.82006253010596\n",
      "VLT 0.7\n",
      "Roof RSI: 6.0\n",
      "Facade RSI: 6.0\n",
      "Slab RSI: 6.0\n",
      "Partition RSI: 0.6526162790697675\n",
      "Ground RSI: 6.0\n",
      "Roof Assembly: [12:Concrete_Dense with thickness of 0.004 m, 19:Plywood_Board with thickness of 0.015 m, 20:Fiberglass_Batts with thickness of 0.248 m, 14:Gypsum_Board with thickness of 0.015 m]\n",
      "Facade Assembly: [19:Plywood_Board with thickness of 0.020 m, 20:Fiberglass_Batts with thickness of 0.246 m, 14:Gypsum_Board with thickness of 0.015 m]\n",
      "Partition Assembly: [14:Gypsum_Board with thickness of 0.015 m, 20:Fiberglass_Batts with thickness of 0.020 m, 14:Gypsum_Board with thickness of 0.015 m]\n",
      "Slab Assembly: [20:Fiberglass_Batts with thickness of 0.252 m, 12:Concrete_Dense with thickness of 0.200 m, 17:Ceramic_Tile with thickness of 0.020 m]\n",
      "Window Assembly: [1836130356544:Simple Glazing with thickness of 0.002 m]\n"
     ]
    },
    {
     "name": "stderr",
     "output_type": "stream",
     "text": [
      "C:\\EnergyPlusV9-2-0\\ExpandObjects.EXE #0-fa34a5bd-2cb8-11ee-a9ba-c4d0e3f88094.idf: 4.00it [00:00, 17.2it/s]\n",
      "C:\\EnergyPlusV9-2-0\\energyplus.exe fa34a5bd-2cb8-11ee-a9ba-c4d0e3f88094.idf: 55it [00:01, 34.66it/s]\n"
     ]
    }
   ],
   "source": [
    "whitebox_sim = WhiteboxSimulation(schema, storage_vector)\n",
    "whitebox_sim.summarize()\n",
    "res_h, res_m = whitebox_sim.simulate()"
   ]
  },
  {
   "cell_type": "code",
   "execution_count": 4,
   "metadata": {},
   "outputs": [
    {
     "data": {
      "text/plain": [
       "(39.603960396039604, 19.801980198019802, 19.801980198019802)"
      ]
     },
     "execution_count": 4,
     "metadata": {},
     "output_type": "execute_result"
    }
   ],
   "source": [
    "area = whitebox_sim.shoebox_config.width * whitebox_sim.shoebox_config.height / whitebox_sim.shoebox_config.facade_2_footprint\n",
    "perim_area = area * perim_2_footprint\n",
    "core_area = area * (1-perim_2_footprint)\n",
    "area, perim_area, core_area"
   ]
  },
  {
   "cell_type": "code",
   "execution_count": 5,
   "metadata": {},
   "outputs": [
    {
     "data": {
      "text/html": [
       "<div>\n",
       "<style scoped>\n",
       "    .dataframe tbody tr th:only-of-type {\n",
       "        vertical-align: middle;\n",
       "    }\n",
       "\n",
       "    .dataframe tbody tr th {\n",
       "        vertical-align: top;\n",
       "    }\n",
       "\n",
       "    .dataframe thead tr th {\n",
       "        text-align: left;\n",
       "    }\n",
       "</style>\n",
       "<table border=\"1\" class=\"dataframe\">\n",
       "  <thead>\n",
       "    <tr>\n",
       "      <th>IndexGroup</th>\n",
       "      <th colspan=\"4\" halign=\"left\">System</th>\n",
       "    </tr>\n",
       "    <tr>\n",
       "      <th>KeyValue</th>\n",
       "      <th colspan=\"2\" halign=\"left\">BLOCK PERIM STOREY 0 IDEAL LOADS AIR SYSTEM</th>\n",
       "      <th colspan=\"2\" halign=\"left\">BLOCK CORE STOREY 0 IDEAL LOADS AIR SYSTEM</th>\n",
       "    </tr>\n",
       "    <tr>\n",
       "      <th>Name</th>\n",
       "      <th>Zone Ideal Loads Zone Total Heating Energy</th>\n",
       "      <th>Zone Ideal Loads Zone Total Cooling Energy</th>\n",
       "      <th>Zone Ideal Loads Zone Total Heating Energy</th>\n",
       "      <th>Zone Ideal Loads Zone Total Cooling Energy</th>\n",
       "    </tr>\n",
       "  </thead>\n",
       "  <tbody>\n",
       "    <tr>\n",
       "      <th>2018-01-01</th>\n",
       "      <td>700.562154</td>\n",
       "      <td>1.628639e-11</td>\n",
       "      <td>536.083573</td>\n",
       "      <td>0.000009</td>\n",
       "    </tr>\n",
       "    <tr>\n",
       "      <th>2018-02-01</th>\n",
       "      <td>487.020480</td>\n",
       "      <td>2.773601e+00</td>\n",
       "      <td>398.488631</td>\n",
       "      <td>0.000106</td>\n",
       "    </tr>\n",
       "    <tr>\n",
       "      <th>2018-03-01</th>\n",
       "      <td>364.691311</td>\n",
       "      <td>1.610829e+01</td>\n",
       "      <td>309.260951</td>\n",
       "      <td>0.000173</td>\n",
       "    </tr>\n",
       "    <tr>\n",
       "      <th>2018-04-01</th>\n",
       "      <td>228.584351</td>\n",
       "      <td>3.436608e+01</td>\n",
       "      <td>191.761750</td>\n",
       "      <td>1.957090</td>\n",
       "    </tr>\n",
       "    <tr>\n",
       "      <th>2018-05-01</th>\n",
       "      <td>110.934066</td>\n",
       "      <td>9.003668e+01</td>\n",
       "      <td>95.646179</td>\n",
       "      <td>15.293134</td>\n",
       "    </tr>\n",
       "    <tr>\n",
       "      <th>2018-06-01</th>\n",
       "      <td>13.674898</td>\n",
       "      <td>1.305248e+02</td>\n",
       "      <td>13.651673</td>\n",
       "      <td>16.504090</td>\n",
       "    </tr>\n",
       "    <tr>\n",
       "      <th>2018-07-01</th>\n",
       "      <td>1.718163</td>\n",
       "      <td>2.313625e+02</td>\n",
       "      <td>2.675660</td>\n",
       "      <td>53.841283</td>\n",
       "    </tr>\n",
       "    <tr>\n",
       "      <th>2018-08-01</th>\n",
       "      <td>11.859834</td>\n",
       "      <td>1.839281e+02</td>\n",
       "      <td>14.476310</td>\n",
       "      <td>25.387001</td>\n",
       "    </tr>\n",
       "    <tr>\n",
       "      <th>2018-09-01</th>\n",
       "      <td>35.702359</td>\n",
       "      <td>1.105483e+02</td>\n",
       "      <td>42.565065</td>\n",
       "      <td>1.785300</td>\n",
       "    </tr>\n",
       "    <tr>\n",
       "      <th>2018-10-01</th>\n",
       "      <td>175.140099</td>\n",
       "      <td>3.380313e+01</td>\n",
       "      <td>181.190055</td>\n",
       "      <td>0.000055</td>\n",
       "    </tr>\n",
       "    <tr>\n",
       "      <th>2018-11-01</th>\n",
       "      <td>325.068479</td>\n",
       "      <td>2.339861e+01</td>\n",
       "      <td>282.469193</td>\n",
       "      <td>0.000048</td>\n",
       "    </tr>\n",
       "    <tr>\n",
       "      <th>2018-12-01</th>\n",
       "      <td>579.573948</td>\n",
       "      <td>9.240938e-01</td>\n",
       "      <td>456.324393</td>\n",
       "      <td>0.000011</td>\n",
       "    </tr>\n",
       "  </tbody>\n",
       "</table>\n",
       "</div>"
      ],
      "text/plain": [
       "IndexGroup                                      System  \\\n",
       "KeyValue   BLOCK PERIM STOREY 0 IDEAL LOADS AIR SYSTEM   \n",
       "Name        Zone Ideal Loads Zone Total Heating Energy   \n",
       "2018-01-01                                  700.562154   \n",
       "2018-02-01                                  487.020480   \n",
       "2018-03-01                                  364.691311   \n",
       "2018-04-01                                  228.584351   \n",
       "2018-05-01                                  110.934066   \n",
       "2018-06-01                                   13.674898   \n",
       "2018-07-01                                    1.718163   \n",
       "2018-08-01                                   11.859834   \n",
       "2018-09-01                                   35.702359   \n",
       "2018-10-01                                  175.140099   \n",
       "2018-11-01                                  325.068479   \n",
       "2018-12-01                                  579.573948   \n",
       "\n",
       "IndexGroup                                             \\\n",
       "KeyValue                                                \n",
       "Name       Zone Ideal Loads Zone Total Cooling Energy   \n",
       "2018-01-01                               1.628639e-11   \n",
       "2018-02-01                               2.773601e+00   \n",
       "2018-03-01                               1.610829e+01   \n",
       "2018-04-01                               3.436608e+01   \n",
       "2018-05-01                               9.003668e+01   \n",
       "2018-06-01                               1.305248e+02   \n",
       "2018-07-01                               2.313625e+02   \n",
       "2018-08-01                               1.839281e+02   \n",
       "2018-09-01                               1.105483e+02   \n",
       "2018-10-01                               3.380313e+01   \n",
       "2018-11-01                               2.339861e+01   \n",
       "2018-12-01                               9.240938e-01   \n",
       "\n",
       "IndexGroup                                             \\\n",
       "KeyValue   BLOCK CORE STOREY 0 IDEAL LOADS AIR SYSTEM   \n",
       "Name       Zone Ideal Loads Zone Total Heating Energy   \n",
       "2018-01-01                                 536.083573   \n",
       "2018-02-01                                 398.488631   \n",
       "2018-03-01                                 309.260951   \n",
       "2018-04-01                                 191.761750   \n",
       "2018-05-01                                  95.646179   \n",
       "2018-06-01                                  13.651673   \n",
       "2018-07-01                                   2.675660   \n",
       "2018-08-01                                  14.476310   \n",
       "2018-09-01                                  42.565065   \n",
       "2018-10-01                                 181.190055   \n",
       "2018-11-01                                 282.469193   \n",
       "2018-12-01                                 456.324393   \n",
       "\n",
       "IndexGroup                                             \n",
       "KeyValue                                               \n",
       "Name       Zone Ideal Loads Zone Total Cooling Energy  \n",
       "2018-01-01                                   0.000009  \n",
       "2018-02-01                                   0.000106  \n",
       "2018-03-01                                   0.000173  \n",
       "2018-04-01                                   1.957090  \n",
       "2018-05-01                                  15.293134  \n",
       "2018-06-01                                  16.504090  \n",
       "2018-07-01                                  53.841283  \n",
       "2018-08-01                                  25.387001  \n",
       "2018-09-01                                   1.785300  \n",
       "2018-10-01                                   0.000055  \n",
       "2018-11-01                                   0.000048  \n",
       "2018-12-01                                   0.000011  "
      ]
     },
     "execution_count": 5,
     "metadata": {},
     "output_type": "execute_result"
    }
   ],
   "source": [
    "res_m = res_m * 2.777e-7\n",
    "res_m"
   ]
  },
  {
   "cell_type": "code",
   "execution_count": 6,
   "metadata": {},
   "outputs": [],
   "source": [
    "res_m = res_m.values.T\n",
    "res_m = res_m / np.array([perim_area, perim_area, core_area, core_area]).reshape(-1,1)\n"
   ]
  },
  {
   "cell_type": "code",
   "execution_count": 22,
   "metadata": {},
   "outputs": [
    {
     "data": {
      "text/plain": [
       "array([[3.53783888e+01, 2.45945342e+01, 1.84169112e+01, 1.15435097e+01,\n",
       "        5.60217033e+00, 6.90582366e-01, 8.67672420e-02, 5.98921634e-01,\n",
       "        1.80296911e+00, 8.84457498e+00, 1.64159582e+01, 2.92684844e+01],\n",
       "       [8.22462836e-13, 1.40066840e-01, 8.13468679e-01, 1.73548692e+00,\n",
       "        4.54685226e+00, 6.59150175e+00, 1.16838043e+01, 9.28836931e+00,\n",
       "        5.58269014e+00, 1.70705816e+00, 1.18162965e+00, 4.66667356e-02],\n",
       "       [2.70722204e+01, 2.01236759e+01, 1.56176780e+01, 9.68396839e+00,\n",
       "        4.83013204e+00, 6.89409473e-01, 1.35120824e-01, 7.31053672e-01,\n",
       "        2.14953579e+00, 9.15009777e+00, 1.42646942e+01, 2.30443818e+01],\n",
       "       [4.44912262e-07, 5.36361885e-06, 8.72754556e-06, 9.88330624e-02,\n",
       "        7.72303285e-01, 8.33456547e-01, 2.71898479e+00, 1.28204356e+00,\n",
       "        9.01576290e-02, 2.78955524e-06, 2.41267909e-06, 5.75733107e-07]])"
      ]
     },
     "execution_count": 22,
     "metadata": {},
     "output_type": "execute_result"
    }
   ],
   "source": [
    "res_m"
   ]
  },
  {
   "cell_type": "code",
   "execution_count": 8,
   "metadata": {},
   "outputs": [
    {
     "data": {
      "image/png": "[encoded data removed]",
      "text/plain": [
       "<Figure size 640x480 with 1 Axes>"
      ]
     },
     "metadata": {},
     "output_type": "display_data"
    }
   ],
   "source": [
    "plt.figure()\n",
    "for i in range(4):\n",
    "    plt.plot(res_m[i])"
   ]
  }
 ],
 "metadata": {
  "kernelspec": {
   "display_name": "Python 3",
   "language": "python",
   "name": "python3"
  },
  "language_info": {
   "codemirror_mode": {
    "name": "ipython",
    "version": 3
   },
   "file_extension": ".py",
   "mimetype": "text/x-python",
   "name": "python",
   "nbconvert_exporter": "python",
   "pygments_lexer": "ipython3",
   "version": "3.8.16"
  },
  "orig_nbformat": 4
 },
 "nbformat": 4,
 "nbformat_minor": 2
}

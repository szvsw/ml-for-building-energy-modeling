{
 "cells": [
  {
   "cell_type": "markdown",
   "metadata": {},
   "source": [
    "You will need the google bucket credentials file for this to work.\n",
    "\n",
    "console.cloud.google.com > login > IAM & permissions > Service Account > scripting bot > add key > json > download > rename to \"bucket-key.json\" > add it to the \"/credentials\" folder in this repo"
   ]
  },
  {
   "cell_type": "code",
   "execution_count": null,
   "metadata": {},
   "outputs": [],
   "source": [
    "from storage import upload_to_bucket, download_from_bucket\n",
    "import shutil\n",
    "import os"
   ]
  },
  {
   "cell_type": "code",
   "execution_count": null,
   "metadata": {},
   "outputs": [],
   "source": [
    "\n",
    "download_from_bucket(\"epws/global_epws_indexed.zip\", \"./data/epws/global_epws_indexed.zip\")\n",
    "os.makedirs(\"./data/epws/global_epws_indexed\", exist_ok=True)\n",
    "shutil.unpack_archive(\"./data/epws/global_epws_indexed.zip\", \"./data/epws/global_epws_indexed\")"
   ]
  }
 ],
 "metadata": {
  "language_info": {
   "name": "python"
  },
  "orig_nbformat": 4
 },
 "nbformat": 4,
 "nbformat_minor": 2
}

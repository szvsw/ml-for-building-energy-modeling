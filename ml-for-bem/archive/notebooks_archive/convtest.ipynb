{
 "cells": [
  {
   "cell_type": "code",
   "execution_count": 1,
   "metadata": {},
   "outputs": [
    {
     "name": "stdout",
     "output_type": "stream",
     "text": [
      "Couldn't import dot_parser, loading of dot files will not be possible.\n"
     ]
    }
   ],
   "source": [
    "from networks import ConvNeXt1DStageConfig, ConvNeXt1D, MonthlyEnergyCNN, ConvNet, Conv1DStageConfig\n",
    "import torch\n",
    "from torchsummary import summary"
   ]
  },
  {
   "cell_type": "code",
   "execution_count": 2,
   "metadata": {},
   "outputs": [
    {
     "name": "stdout",
     "output_type": "stream",
     "text": [
      "torch.Size([35, 128, 8760])\n",
      "327680\n",
      "256\n",
      "32768\n"
     ]
    },
    {
     "name": "stderr",
     "output_type": "stream",
     "text": [
      "/home/paperspace/anaconda3/envs/ml-for-bem-training/lib/python3.8/site-packages/torch/nn/modules/conv.py:309: UserWarning: Using padding='same' with even kernel lengths and odd dilation may require a zero-padded copy of the input be created (Triggered internally at /opt/conda/conda-bld/pytorch_1682343998658/work/aten/src/ATen/native/Convolution.cpp:1003.)\n",
      "  return F.conv1d(input, weight, bias, self.stride,\n"
     ]
    }
   ],
   "source": [
    "b = 35\n",
    "c = 128\n",
    "l = 8760\n",
    "k = 10\n",
    "\n",
    "pooler = torch.nn.AdaptiveAvgPool1d(12)\n",
    "linear = torch.nn.Linear(128, 64)\n",
    "conv = torch.nn.Conv1d(\n",
    "    in_channels=c,\n",
    "    out_channels=2*c,\n",
    "    kernel_size=k,\n",
    "    padding='same',\n",
    "    stride=1,\n",
    ")\n",
    "\n",
    "input = torch.randn((b,c,l))\n",
    "print(input.shape)\n",
    "conv(input).shape\n",
    "for param in conv.parameters():\n",
    "    print(param.numel())\n",
    "print(c*2*c)"
   ]
  },
  {
   "cell_type": "code",
   "execution_count": 3,
   "metadata": {},
   "outputs": [],
   "source": [
    "device = 'cuda'"
   ]
  },
  {
   "cell_type": "code",
   "execution_count": 4,
   "metadata": {},
   "outputs": [
    {
     "name": "stdout",
     "output_type": "stream",
     "text": [
      "----------------------------------------------------------------\n",
      "        Layer (type)               Output Shape         Param #\n",
      "================================================================\n",
      "            Conv1d-1             [-1, 64, 8760]             768\n",
      "       BatchNorm1d-2             [-1, 64, 8760]             128\n",
      "            Conv1d-3             [-1, 64, 8760]          34,560\n",
      "       BatchNorm1d-4             [-1, 64, 8760]             128\n",
      "         LeakyReLU-5             [-1, 64, 8760]               0\n",
      "       Conv1DBlock-6             [-1, 64, 8760]               0\n",
      "            Conv1d-7             [-1, 64, 8760]         102,464\n",
      "       BatchNorm1d-8             [-1, 64, 8760]             128\n",
      "         LeakyReLU-9             [-1, 64, 8760]               0\n",
      "      Conv1DBlock-10             [-1, 64, 8760]               0\n",
      "           Conv1d-11             [-1, 64, 8760]          36,928\n",
      "      BatchNorm1d-12             [-1, 64, 8760]             128\n",
      "        LeakyReLU-13             [-1, 64, 8760]               0\n",
      "      Conv1DBlock-14             [-1, 64, 8760]               0\n",
      "      Conv1DStage-15             [-1, 64, 8760]               0\n",
      "           Conv1d-16            [-1, 128, 8760]           8,320\n",
      "      BatchNorm1d-17            [-1, 128, 8760]             256\n",
      "           Conv1d-18            [-1, 128, 8760]         401,536\n",
      "      BatchNorm1d-19            [-1, 128, 8760]             256\n",
      "        LeakyReLU-20            [-1, 128, 8760]               0\n",
      "      Conv1DBlock-21            [-1, 128, 8760]               0\n",
      "           Conv1d-22            [-1, 128, 8760]         409,728\n",
      "      BatchNorm1d-23            [-1, 128, 8760]             256\n",
      "        LeakyReLU-24            [-1, 128, 8760]               0\n",
      "      Conv1DBlock-25            [-1, 128, 8760]               0\n",
      "           Conv1d-26            [-1, 128, 8760]         147,584\n",
      "      BatchNorm1d-27            [-1, 128, 8760]             256\n",
      "        LeakyReLU-28            [-1, 128, 8760]               0\n",
      "      Conv1DBlock-29            [-1, 128, 8760]               0\n",
      "      Conv1DStage-30            [-1, 128, 8760]               0\n",
      "         Identity-31            [-1, 128, 8760]               0\n",
      "      BatchNorm1d-32            [-1, 128, 8760]             256\n",
      "           Conv1d-33            [-1, 128, 8760]         802,944\n",
      "      BatchNorm1d-34            [-1, 128, 8760]             256\n",
      "        LeakyReLU-35            [-1, 128, 8760]               0\n",
      "      Conv1DBlock-36            [-1, 128, 8760]               0\n",
      "           Conv1d-37            [-1, 128, 8760]         409,728\n",
      "      BatchNorm1d-38            [-1, 128, 8760]             256\n",
      "        LeakyReLU-39            [-1, 128, 8760]               0\n",
      "      Conv1DBlock-40            [-1, 128, 8760]               0\n",
      "           Conv1d-41            [-1, 128, 8760]         147,584\n",
      "      BatchNorm1d-42            [-1, 128, 8760]             256\n",
      "        LeakyReLU-43            [-1, 128, 8760]               0\n",
      "      Conv1DBlock-44            [-1, 128, 8760]               0\n",
      "      Conv1DStage-45            [-1, 128, 8760]               0\n",
      "          Permute-46            [-1, 8760, 128]               0\n",
      "           Linear-47             [-1, 8760, 22]           2,838\n",
      "          Permute-48             [-1, 22, 8760]               0\n",
      "           Conv1d-49               [-1, 22, 12]         353,342\n",
      "      BatchNorm1d-50               [-1, 22, 12]              44\n",
      "        LeakyReLU-51               [-1, 22, 12]               0\n",
      "      Conv1DBlock-52               [-1, 22, 12]               0\n",
      "================================================================\n",
      "Total params: 2,860,928\n",
      "Trainable params: 2,860,928\n",
      "Non-trainable params: 0\n",
      "----------------------------------------------------------------\n",
      "Input size (MB): 0.37\n",
      "Forward/backward pass size (MB): 332.30\n",
      "Params size (MB): 10.91\n",
      "Estimated Total Size (MB): 343.59\n",
      "----------------------------------------------------------------\n"
     ]
    }
   ],
   "source": [
    "b = 35\n",
    "c = 11\n",
    "l = 8760\n",
    "latent = 22\n",
    "latent_length = 12\n",
    "# net = MonthlyEnergyCNN(in_channels=c, out_channels=latent, n_feature_maps=64).to(device)\n",
    "# summary(net, (c,l))\n",
    "conf = Conv1DStageConfig.Base(c)\n",
    "net = ConvNet(conf, latent, latent_length).to(device)\n",
    "summary(net, (c,l))"
   ]
  },
  {
   "cell_type": "code",
   "execution_count": null,
   "metadata": {},
   "outputs": [],
   "source": [
    "batch_size = 25\n",
    "channel_size = 11\n",
    "timeseries_size = 8760\n",
    "timeseries_final_size = 12"
   ]
  },
  {
   "cell_type": "code",
   "execution_count": null,
   "metadata": {},
   "outputs": [],
   "source": [
    "net = ConvNeXt1D(\n",
    "    in_channels=channel_size,\n",
    "    series_output_size=timeseries_final_size,\n",
    "    stage_configs=[\n",
    "        ConvNeXt1DStageConfig(64, 256, num_layers=3),\n",
    "        ConvNeXt1DStageConfig(256, 512, num_layers=3),\n",
    "        ConvNeXt1DStageConfig(512, 256, num_layers=9),\n",
    "        ConvNeXt1DStageConfig(256, 64, num_layers=3),\n",
    "    ]\n",
    ").to(device)\n",
    "summary(net, input_size=(channel_size, timeseries_size))"
   ]
  },
  {
   "cell_type": "code",
   "execution_count": null,
   "metadata": {},
   "outputs": [],
   "source": [
    "batch = torch.randn((batch_size, channel_size, timeseries_size)).to(device)"
   ]
  },
  {
   "cell_type": "code",
   "execution_count": null,
   "metadata": {},
   "outputs": [],
   "source": [
    "y = net(batch)\n",
    "print(y.shape)\n",
    "l = torch.mean(y*y)\n",
    "l.backward()"
   ]
  }
 ],
 "metadata": {
  "kernelspec": {
   "display_name": "ml-for-bem-training",
   "language": "python",
   "name": "python3"
  },
  "language_info": {
   "codemirror_mode": {
    "name": "ipython",
    "version": 3
   },
   "file_extension": ".py",
   "mimetype": "text/x-python",
   "name": "python",
   "nbconvert_exporter": "python",
   "pygments_lexer": "ipython3",
   "version": "3.8.16"
  },
  "orig_nbformat": 4
 },
 "nbformat": 4,
 "nbformat_minor": 2
}

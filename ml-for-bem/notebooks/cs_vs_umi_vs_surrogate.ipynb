{
 "cells": [
  {
   "attachments": {},
   "cell_type": "markdown",
   "metadata": {},
   "source": [
    "# Comparison of Florianopolis Geometry\n",
    "Multiple climate zones, comparison of CS 5-zone, umi and surrogate"
   ]
  },
  {
   "cell_type": "code",
   "execution_count": 1,
   "metadata": {},
   "outputs": [
    {
     "name": "stderr",
     "output_type": "stream",
     "text": [
      "c:\\Users\\zoelh\\AppData\\Local\\anaconda3\\envs\\ml-for-bem\\lib\\site-packages\\outdated\\utils.py:14: OutdatedPackageWarning: The package energy-pandas is out of date. Your version is 0.3.3, the latest is 0.3.4.\n",
      "Set the environment variable OUTDATED_IGNORE=1 to disable these warnings.\n",
      "  return warn(\n"
     ]
    },
    {
     "name": "stdout",
     "output_type": "stream",
     "text": [
      "[Taichi] version 1.6.0, llvm 15.0.1, commit f1c6fbbd, win, python 3.8.16\n",
      "[Taichi] Starting on arch=cuda\n"
     ]
    }
   ],
   "source": [
    "# import plotly\n",
    "import plotly.express as px\n",
    "import pandas as pd\n",
    "import numpy as np\n",
    "import os\n",
    "from pathlib import Path\n",
    "from geomeppy.patches import EpBunch\n",
    "from utils.schedules import get_schedules\n",
    "from utils.constants import *\n",
    "import json\n",
    "from archetypal import IDF, BuildingTemplate\n",
    "from archetypal.umi_template import UmiTemplateLibrary\n",
    "from umi.ubem import init_template\n",
    "\n",
    "run_name = \"CSboston\"\n",
    "ref_buildings_path = \"D:/Users/zoelh/Dropbox (MIT)/Thesis Work/Building Energy References/ReferenceBuildings\"\n",
    "results_dir = \"D:/DATA/FlorianopolisBase/BostonBaseline\"\n",
    "shallow_results_dir = \"D:/DATA/FlorianopolisBase/BostonShallow\"\n",
    "# guids = pd.read_csv(Path(results_dir) / \"guids.csv\", header=None)\n",
    "# Get grasshopper json data for config\n",
    "gh_data_dir = Path(results_dir) / \"SingleBuildings\" / f\"epjsonsettings_{run_name}_ParametricZoneSettings.json\""
   ]
  },
  {
   "cell_type": "code",
   "execution_count": 2,
   "metadata": {},
   "outputs": [
    {
     "data": {
      "text/plain": [
       "8760"
      ]
     },
     "execution_count": 2,
     "metadata": {},
     "output_type": "execute_result"
    }
   ],
   "source": [
    "month_map = {\n",
    "    \"january\": 744,\n",
    "    \"february\": 672,\n",
    "    \"march\": 744,\n",
    "    \"april\": 720,\n",
    "    \"may\": 744,\n",
    "    \"june\": 720,\n",
    "    \"july\": 744,\n",
    "    \"august\": 744,\n",
    "    \"september\": 720,\n",
    "    \"october\": 744,\n",
    "    \"november\": 720,\n",
    "    \"december\": 744,\n",
    "}\n",
    "sum(list(month_map.values()))"
   ]
  },
  {
   "attachments": {},
   "cell_type": "markdown",
   "metadata": {},
   "source": [
    "## Umi results"
   ]
  },
  {
   "cell_type": "code",
   "execution_count": 32,
   "metadata": {},
   "outputs": [],
   "source": [
    "# Import umi results for 4A (boston)\n",
    "dfs = []\n",
    "for load in [\"heating\", \"cooling\"]:\n",
    "    df = pd.read_csv(Path(results_dir, f\"UMI_florianopolis_test_bos_{load}.csv\"))\n",
    "    df[\"load\"] = load\n",
    "    dfs.append(df)\n",
    "umi_df = pd.concat(dfs)"
   ]
  },
  {
   "cell_type": "code",
   "execution_count": 33,
   "metadata": {},
   "outputs": [],
   "source": [
    "umi_df[\"annual\"] = umi_df[[str(x) for x in range(1, 8761)]].sum(axis=1)"
   ]
  },
  {
   "cell_type": "code",
   "execution_count": 102,
   "metadata": {},
   "outputs": [
    {
     "data": {
      "text/html": [
       "<div>\n",
       "<style scoped>\n",
       "    .dataframe tbody tr th:only-of-type {\n",
       "        vertical-align: middle;\n",
       "    }\n",
       "\n",
       "    .dataframe tbody tr th {\n",
       "        vertical-align: top;\n",
       "    }\n",
       "\n",
       "    .dataframe thead th {\n",
       "        text-align: right;\n",
       "    }\n",
       "</style>\n",
       "<table border=\"1\" class=\"dataframe\">\n",
       "  <thead>\n",
       "    <tr style=\"text-align: right;\">\n",
       "      <th></th>\n",
       "      <th>Building Id</th>\n",
       "      <th>Building Name</th>\n",
       "      <th>Metric</th>\n",
       "      <th>Units</th>\n",
       "      <th>Resolution</th>\n",
       "      <th>1</th>\n",
       "      <th>2</th>\n",
       "      <th>3</th>\n",
       "      <th>4</th>\n",
       "      <th>5</th>\n",
       "      <th>...</th>\n",
       "      <th>8753</th>\n",
       "      <th>8754</th>\n",
       "      <th>8755</th>\n",
       "      <th>8756</th>\n",
       "      <th>8757</th>\n",
       "      <th>8758</th>\n",
       "      <th>8759</th>\n",
       "      <th>8760</th>\n",
       "      <th>load</th>\n",
       "      <th>annual</th>\n",
       "    </tr>\n",
       "  </thead>\n",
       "  <tbody>\n",
       "    <tr>\n",
       "      <th>0</th>\n",
       "      <td>03b1d5a3-ebbf-4560-a399-b81bc391f9f7</td>\n",
       "      <td>03b1d5a3-ebbf-4560-a399-b81bc391f9f7</td>\n",
       "      <td>SDL/Heating</td>\n",
       "      <td>kWh</td>\n",
       "      <td>Hourly</td>\n",
       "      <td>0</td>\n",
       "      <td>0</td>\n",
       "      <td>0</td>\n",
       "      <td>0</td>\n",
       "      <td>0</td>\n",
       "      <td>...</td>\n",
       "      <td>0</td>\n",
       "      <td>0</td>\n",
       "      <td>0</td>\n",
       "      <td>0</td>\n",
       "      <td>0</td>\n",
       "      <td>0</td>\n",
       "      <td>0</td>\n",
       "      <td>0</td>\n",
       "      <td>heating</td>\n",
       "      <td>8803.872406</td>\n",
       "    </tr>\n",
       "    <tr>\n",
       "      <th>1</th>\n",
       "      <td>06e706f2-dcac-4c99-a4da-0afbdba2aa9a</td>\n",
       "      <td>06e706f2-dcac-4c99-a4da-0afbdba2aa9a</td>\n",
       "      <td>SDL/Heating</td>\n",
       "      <td>kWh</td>\n",
       "      <td>Hourly</td>\n",
       "      <td>0</td>\n",
       "      <td>0</td>\n",
       "      <td>0</td>\n",
       "      <td>0</td>\n",
       "      <td>0</td>\n",
       "      <td>...</td>\n",
       "      <td>0</td>\n",
       "      <td>0</td>\n",
       "      <td>0</td>\n",
       "      <td>0</td>\n",
       "      <td>0</td>\n",
       "      <td>0</td>\n",
       "      <td>0</td>\n",
       "      <td>0</td>\n",
       "      <td>heating</td>\n",
       "      <td>32649.884940</td>\n",
       "    </tr>\n",
       "    <tr>\n",
       "      <th>2</th>\n",
       "      <td>0b48b5a6-e91b-4fc9-aeaf-5805a420a8e1</td>\n",
       "      <td>0b48b5a6-e91b-4fc9-aeaf-5805a420a8e1</td>\n",
       "      <td>SDL/Heating</td>\n",
       "      <td>kWh</td>\n",
       "      <td>Hourly</td>\n",
       "      <td>0</td>\n",
       "      <td>0</td>\n",
       "      <td>0</td>\n",
       "      <td>0</td>\n",
       "      <td>0</td>\n",
       "      <td>...</td>\n",
       "      <td>0</td>\n",
       "      <td>0</td>\n",
       "      <td>0</td>\n",
       "      <td>0</td>\n",
       "      <td>0</td>\n",
       "      <td>0</td>\n",
       "      <td>0</td>\n",
       "      <td>0</td>\n",
       "      <td>heating</td>\n",
       "      <td>2338.561208</td>\n",
       "    </tr>\n",
       "    <tr>\n",
       "      <th>3</th>\n",
       "      <td>0dabd728-d95f-40d5-8836-eba55eba02c2</td>\n",
       "      <td>0dabd728-d95f-40d5-8836-eba55eba02c2</td>\n",
       "      <td>SDL/Heating</td>\n",
       "      <td>kWh</td>\n",
       "      <td>Hourly</td>\n",
       "      <td>0</td>\n",
       "      <td>0</td>\n",
       "      <td>0</td>\n",
       "      <td>0</td>\n",
       "      <td>0</td>\n",
       "      <td>...</td>\n",
       "      <td>0</td>\n",
       "      <td>0</td>\n",
       "      <td>0</td>\n",
       "      <td>0</td>\n",
       "      <td>0</td>\n",
       "      <td>0</td>\n",
       "      <td>0</td>\n",
       "      <td>0</td>\n",
       "      <td>heating</td>\n",
       "      <td>2219.940068</td>\n",
       "    </tr>\n",
       "    <tr>\n",
       "      <th>4</th>\n",
       "      <td>0e188b41-61da-4d8d-aaf3-be4502ac3cb7</td>\n",
       "      <td>0e188b41-61da-4d8d-aaf3-be4502ac3cb7</td>\n",
       "      <td>SDL/Heating</td>\n",
       "      <td>kWh</td>\n",
       "      <td>Hourly</td>\n",
       "      <td>0</td>\n",
       "      <td>0</td>\n",
       "      <td>0</td>\n",
       "      <td>0</td>\n",
       "      <td>0</td>\n",
       "      <td>...</td>\n",
       "      <td>0</td>\n",
       "      <td>0</td>\n",
       "      <td>0</td>\n",
       "      <td>0</td>\n",
       "      <td>0</td>\n",
       "      <td>0</td>\n",
       "      <td>0</td>\n",
       "      <td>0</td>\n",
       "      <td>heating</td>\n",
       "      <td>4282.442673</td>\n",
       "    </tr>\n",
       "  </tbody>\n",
       "</table>\n",
       "<p>5 rows × 8767 columns</p>\n",
       "</div>"
      ],
      "text/plain": [
       "                            Building Id                         Building Name  \\\n",
       "0  03b1d5a3-ebbf-4560-a399-b81bc391f9f7  03b1d5a3-ebbf-4560-a399-b81bc391f9f7   \n",
       "1  06e706f2-dcac-4c99-a4da-0afbdba2aa9a  06e706f2-dcac-4c99-a4da-0afbdba2aa9a   \n",
       "2  0b48b5a6-e91b-4fc9-aeaf-5805a420a8e1  0b48b5a6-e91b-4fc9-aeaf-5805a420a8e1   \n",
       "3  0dabd728-d95f-40d5-8836-eba55eba02c2  0dabd728-d95f-40d5-8836-eba55eba02c2   \n",
       "4  0e188b41-61da-4d8d-aaf3-be4502ac3cb7  0e188b41-61da-4d8d-aaf3-be4502ac3cb7   \n",
       "\n",
       "        Metric Units Resolution  1  2  3  4  5  ...  8753  8754  8755  8756  \\\n",
       "0  SDL/Heating   kWh     Hourly  0  0  0  0  0  ...     0     0     0     0   \n",
       "1  SDL/Heating   kWh     Hourly  0  0  0  0  0  ...     0     0     0     0   \n",
       "2  SDL/Heating   kWh     Hourly  0  0  0  0  0  ...     0     0     0     0   \n",
       "3  SDL/Heating   kWh     Hourly  0  0  0  0  0  ...     0     0     0     0   \n",
       "4  SDL/Heating   kWh     Hourly  0  0  0  0  0  ...     0     0     0     0   \n",
       "\n",
       "   8757  8758  8759  8760     load        annual  \n",
       "0     0     0     0     0  heating   8803.872406  \n",
       "1     0     0     0     0  heating  32649.884940  \n",
       "2     0     0     0     0  heating   2338.561208  \n",
       "3     0     0     0     0  heating   2219.940068  \n",
       "4     0     0     0     0  heating   4282.442673  \n",
       "\n",
       "[5 rows x 8767 columns]"
      ]
     },
     "execution_count": 102,
     "metadata": {},
     "output_type": "execute_result"
    }
   ],
   "source": [
    "umi_df.head()"
   ]
  },
  {
   "cell_type": "code",
   "execution_count": 34,
   "metadata": {},
   "outputs": [],
   "source": [
    "def get_monthly(df):\n",
    "    h = df.copy()\n",
    "    h.set_index([\"Building Id\", \"load\"], inplace=True)\n",
    "    nums = h[[str(x) for x in range(1, 8761)]]\n",
    "    nums.columns = nums.columns.astype(\"int\")\n",
    "    c = 0\n",
    "    print(nums.shape)\n",
    "    for month, hours in month_map.items():\n",
    "        h[month] = nums.iloc[:, c : c + hours].sum(axis=1)\n",
    "        c += hours\n",
    "    return h[list(list(list(month_map.keys())))]"
   ]
  },
  {
   "cell_type": "code",
   "execution_count": 35,
   "metadata": {},
   "outputs": [
    {
     "name": "stdout",
     "output_type": "stream",
     "text": [
      "(186, 8760)\n"
     ]
    },
    {
     "data": {
      "application/vnd.plotly.v1+json": {
       "config": {
        "plotlyServerURL": "https://plot.ly"
       },
       "data": [
        {
         "alignmentgroup": "True",
         "hovertemplate": "variable=cooling<br>index=%{x}<br>value=%{y}<extra></extra>",
         "legendgroup": "cooling",
         "marker": {
          "color": "#636efa",
          "pattern": {
           "shape": ""
          }
         },
         "name": "cooling",
         "offsetgroup": "cooling",
         "orientation": "v",
         "showlegend": true,
         "textposition": "auto",
         "type": "bar",
         "x": [
          "january",
          "february",
          "march",
          "april",
          "may",
          "june",
          "july",
          "august",
          "september",
          "october",
          "november",
          "december"
         ],
         "xaxis": "x",
         "y": [
          0,
          0,
          0,
          0,
          0,
          44544.76056773761,
          152554.48444065484,
          209717.34729301077,
          133379.55528989492,
          59926.9187683569,
          39907.547209391654,
          24438.31322683806
         ],
         "yaxis": "y"
        },
        {
         "alignmentgroup": "True",
         "hovertemplate": "variable=heating<br>index=%{x}<br>value=%{y}<extra></extra>",
         "legendgroup": "heating",
         "marker": {
          "color": "#EF553B",
          "pattern": {
           "shape": ""
          }
         },
         "name": "heating",
         "offsetgroup": "heating",
         "orientation": "v",
         "showlegend": true,
         "textposition": "auto",
         "type": "bar",
         "x": [
          "january",
          "february",
          "march",
          "april",
          "may",
          "june",
          "july",
          "august",
          "september",
          "october",
          "november",
          "december"
         ],
         "xaxis": "x",
         "y": [
          72766.59454767479,
          318879.0511457513,
          207852.83364363498,
          32974.40966987641,
          0,
          0,
          0,
          0,
          0,
          0,
          0,
          0
         ],
         "yaxis": "y"
        }
       ],
       "layout": {
        "barmode": "relative",
        "legend": {
         "title": {
          "text": "variable"
         },
         "tracegroupgap": 0
        },
        "template": {
         "data": {
          "bar": [
           {
            "error_x": {
             "color": "#2a3f5f"
            },
            "error_y": {
             "color": "#2a3f5f"
            },
            "marker": {
             "line": {
              "color": "#E5ECF6",
              "width": 0.5
             },
             "pattern": {
              "fillmode": "overlay",
              "size": 10,
              "solidity": 0.2
             }
            },
            "type": "bar"
           }
          ],
          "barpolar": [
           {
            "marker": {
             "line": {
              "color": "#E5ECF6",
              "width": 0.5
             },
             "pattern": {
              "fillmode": "overlay",
              "size": 10,
              "solidity": 0.2
             }
            },
            "type": "barpolar"
           }
          ],
          "carpet": [
           {
            "aaxis": {
             "endlinecolor": "#2a3f5f",
             "gridcolor": "white",
             "linecolor": "white",
             "minorgridcolor": "white",
             "startlinecolor": "#2a3f5f"
            },
            "baxis": {
             "endlinecolor": "#2a3f5f",
             "gridcolor": "white",
             "linecolor": "white",
             "minorgridcolor": "white",
             "startlinecolor": "#2a3f5f"
            },
            "type": "carpet"
           }
          ],
          "choropleth": [
           {
            "colorbar": {
             "outlinewidth": 0,
             "ticks": ""
            },
            "type": "choropleth"
           }
          ],
          "contour": [
           {
            "colorbar": {
             "outlinewidth": 0,
             "ticks": ""
            },
            "colorscale": [
             [
              0,
              "#0d0887"
             ],
             [
              0.1111111111111111,
              "#46039f"
             ],
             [
              0.2222222222222222,
              "#7201a8"
             ],
             [
              0.3333333333333333,
              "#9c179e"
             ],
             [
              0.4444444444444444,
              "#bd3786"
             ],
             [
              0.5555555555555556,
              "#d8576b"
             ],
             [
              0.6666666666666666,
              "#ed7953"
             ],
             [
              0.7777777777777778,
              "#fb9f3a"
             ],
             [
              0.8888888888888888,
              "#fdca26"
             ],
             [
              1,
              "#f0f921"
             ]
            ],
            "type": "contour"
           }
          ],
          "contourcarpet": [
           {
            "colorbar": {
             "outlinewidth": 0,
             "ticks": ""
            },
            "type": "contourcarpet"
           }
          ],
          "heatmap": [
           {
            "colorbar": {
             "outlinewidth": 0,
             "ticks": ""
            },
            "colorscale": [
             [
              0,
              "#0d0887"
             ],
             [
              0.1111111111111111,
              "#46039f"
             ],
             [
              0.2222222222222222,
              "#7201a8"
             ],
             [
              0.3333333333333333,
              "#9c179e"
             ],
             [
              0.4444444444444444,
              "#bd3786"
             ],
             [
              0.5555555555555556,
              "#d8576b"
             ],
             [
              0.6666666666666666,
              "#ed7953"
             ],
             [
              0.7777777777777778,
              "#fb9f3a"
             ],
             [
              0.8888888888888888,
              "#fdca26"
             ],
             [
              1,
              "#f0f921"
             ]
            ],
            "type": "heatmap"
           }
          ],
          "heatmapgl": [
           {
            "colorbar": {
             "outlinewidth": 0,
             "ticks": ""
            },
            "colorscale": [
             [
              0,
              "#0d0887"
             ],
             [
              0.1111111111111111,
              "#46039f"
             ],
             [
              0.2222222222222222,
              "#7201a8"
             ],
             [
              0.3333333333333333,
              "#9c179e"
             ],
             [
              0.4444444444444444,
              "#bd3786"
             ],
             [
              0.5555555555555556,
              "#d8576b"
             ],
             [
              0.6666666666666666,
              "#ed7953"
             ],
             [
              0.7777777777777778,
              "#fb9f3a"
             ],
             [
              0.8888888888888888,
              "#fdca26"
             ],
             [
              1,
              "#f0f921"
             ]
            ],
            "type": "heatmapgl"
           }
          ],
          "histogram": [
           {
            "marker": {
             "pattern": {
              "fillmode": "overlay",
              "size": 10,
              "solidity": 0.2
             }
            },
            "type": "histogram"
           }
          ],
          "histogram2d": [
           {
            "colorbar": {
             "outlinewidth": 0,
             "ticks": ""
            },
            "colorscale": [
             [
              0,
              "#0d0887"
             ],
             [
              0.1111111111111111,
              "#46039f"
             ],
             [
              0.2222222222222222,
              "#7201a8"
             ],
             [
              0.3333333333333333,
              "#9c179e"
             ],
             [
              0.4444444444444444,
              "#bd3786"
             ],
             [
              0.5555555555555556,
              "#d8576b"
             ],
             [
              0.6666666666666666,
              "#ed7953"
             ],
             [
              0.7777777777777778,
              "#fb9f3a"
             ],
             [
              0.8888888888888888,
              "#fdca26"
             ],
             [
              1,
              "#f0f921"
             ]
            ],
            "type": "histogram2d"
           }
          ],
          "histogram2dcontour": [
           {
            "colorbar": {
             "outlinewidth": 0,
             "ticks": ""
            },
            "colorscale": [
             [
              0,
              "#0d0887"
             ],
             [
              0.1111111111111111,
              "#46039f"
             ],
             [
              0.2222222222222222,
              "#7201a8"
             ],
             [
              0.3333333333333333,
              "#9c179e"
             ],
             [
              0.4444444444444444,
              "#bd3786"
             ],
             [
              0.5555555555555556,
              "#d8576b"
             ],
             [
              0.6666666666666666,
              "#ed7953"
             ],
             [
              0.7777777777777778,
              "#fb9f3a"
             ],
             [
              0.8888888888888888,
              "#fdca26"
             ],
             [
              1,
              "#f0f921"
             ]
            ],
            "type": "histogram2dcontour"
           }
          ],
          "mesh3d": [
           {
            "colorbar": {
             "outlinewidth": 0,
             "ticks": ""
            },
            "type": "mesh3d"
           }
          ],
          "parcoords": [
           {
            "line": {
             "colorbar": {
              "outlinewidth": 0,
              "ticks": ""
             }
            },
            "type": "parcoords"
           }
          ],
          "pie": [
           {
            "automargin": true,
            "type": "pie"
           }
          ],
          "scatter": [
           {
            "fillpattern": {
             "fillmode": "overlay",
             "size": 10,
             "solidity": 0.2
            },
            "type": "scatter"
           }
          ],
          "scatter3d": [
           {
            "line": {
             "colorbar": {
              "outlinewidth": 0,
              "ticks": ""
             }
            },
            "marker": {
             "colorbar": {
              "outlinewidth": 0,
              "ticks": ""
             }
            },
            "type": "scatter3d"
           }
          ],
          "scattercarpet": [
           {
            "marker": {
             "colorbar": {
              "outlinewidth": 0,
              "ticks": ""
             }
            },
            "type": "scattercarpet"
           }
          ],
          "scattergeo": [
           {
            "marker": {
             "colorbar": {
              "outlinewidth": 0,
              "ticks": ""
             }
            },
            "type": "scattergeo"
           }
          ],
          "scattergl": [
           {
            "marker": {
             "colorbar": {
              "outlinewidth": 0,
              "ticks": ""
             }
            },
            "type": "scattergl"
           }
          ],
          "scattermapbox": [
           {
            "marker": {
             "colorbar": {
              "outlinewidth": 0,
              "ticks": ""
             }
            },
            "type": "scattermapbox"
           }
          ],
          "scatterpolar": [
           {
            "marker": {
             "colorbar": {
              "outlinewidth": 0,
              "ticks": ""
             }
            },
            "type": "scatterpolar"
           }
          ],
          "scatterpolargl": [
           {
            "marker": {
             "colorbar": {
              "outlinewidth": 0,
              "ticks": ""
             }
            },
            "type": "scatterpolargl"
           }
          ],
          "scatterternary": [
           {
            "marker": {
             "colorbar": {
              "outlinewidth": 0,
              "ticks": ""
             }
            },
            "type": "scatterternary"
           }
          ],
          "surface": [
           {
            "colorbar": {
             "outlinewidth": 0,
             "ticks": ""
            },
            "colorscale": [
             [
              0,
              "#0d0887"
             ],
             [
              0.1111111111111111,
              "#46039f"
             ],
             [
              0.2222222222222222,
              "#7201a8"
             ],
             [
              0.3333333333333333,
              "#9c179e"
             ],
             [
              0.4444444444444444,
              "#bd3786"
             ],
             [
              0.5555555555555556,
              "#d8576b"
             ],
             [
              0.6666666666666666,
              "#ed7953"
             ],
             [
              0.7777777777777778,
              "#fb9f3a"
             ],
             [
              0.8888888888888888,
              "#fdca26"
             ],
             [
              1,
              "#f0f921"
             ]
            ],
            "type": "surface"
           }
          ],
          "table": [
           {
            "cells": {
             "fill": {
              "color": "#EBF0F8"
             },
             "line": {
              "color": "white"
             }
            },
            "header": {
             "fill": {
              "color": "#C8D4E3"
             },
             "line": {
              "color": "white"
             }
            },
            "type": "table"
           }
          ]
         },
         "layout": {
          "annotationdefaults": {
           "arrowcolor": "#2a3f5f",
           "arrowhead": 0,
           "arrowwidth": 1
          },
          "autotypenumbers": "strict",
          "coloraxis": {
           "colorbar": {
            "outlinewidth": 0,
            "ticks": ""
           }
          },
          "colorscale": {
           "diverging": [
            [
             0,
             "#8e0152"
            ],
            [
             0.1,
             "#c51b7d"
            ],
            [
             0.2,
             "#de77ae"
            ],
            [
             0.3,
             "#f1b6da"
            ],
            [
             0.4,
             "#fde0ef"
            ],
            [
             0.5,
             "#f7f7f7"
            ],
            [
             0.6,
             "#e6f5d0"
            ],
            [
             0.7,
             "#b8e186"
            ],
            [
             0.8,
             "#7fbc41"
            ],
            [
             0.9,
             "#4d9221"
            ],
            [
             1,
             "#276419"
            ]
           ],
           "sequential": [
            [
             0,
             "#0d0887"
            ],
            [
             0.1111111111111111,
             "#46039f"
            ],
            [
             0.2222222222222222,
             "#7201a8"
            ],
            [
             0.3333333333333333,
             "#9c179e"
            ],
            [
             0.4444444444444444,
             "#bd3786"
            ],
            [
             0.5555555555555556,
             "#d8576b"
            ],
            [
             0.6666666666666666,
             "#ed7953"
            ],
            [
             0.7777777777777778,
             "#fb9f3a"
            ],
            [
             0.8888888888888888,
             "#fdca26"
            ],
            [
             1,
             "#f0f921"
            ]
           ],
           "sequentialminus": [
            [
             0,
             "#0d0887"
            ],
            [
             0.1111111111111111,
             "#46039f"
            ],
            [
             0.2222222222222222,
             "#7201a8"
            ],
            [
             0.3333333333333333,
             "#9c179e"
            ],
            [
             0.4444444444444444,
             "#bd3786"
            ],
            [
             0.5555555555555556,
             "#d8576b"
            ],
            [
             0.6666666666666666,
             "#ed7953"
            ],
            [
             0.7777777777777778,
             "#fb9f3a"
            ],
            [
             0.8888888888888888,
             "#fdca26"
            ],
            [
             1,
             "#f0f921"
            ]
           ]
          },
          "colorway": [
           "#636efa",
           "#EF553B",
           "#00cc96",
           "#ab63fa",
           "#FFA15A",
           "#19d3f3",
           "#FF6692",
           "#B6E880",
           "#FF97FF",
           "#FECB52"
          ],
          "font": {
           "color": "#2a3f5f"
          },
          "geo": {
           "bgcolor": "white",
           "lakecolor": "white",
           "landcolor": "#E5ECF6",
           "showlakes": true,
           "showland": true,
           "subunitcolor": "white"
          },
          "hoverlabel": {
           "align": "left"
          },
          "hovermode": "closest",
          "mapbox": {
           "style": "light"
          },
          "paper_bgcolor": "white",
          "plot_bgcolor": "#E5ECF6",
          "polar": {
           "angularaxis": {
            "gridcolor": "white",
            "linecolor": "white",
            "ticks": ""
           },
           "bgcolor": "#E5ECF6",
           "radialaxis": {
            "gridcolor": "white",
            "linecolor": "white",
            "ticks": ""
           }
          },
          "scene": {
           "xaxis": {
            "backgroundcolor": "#E5ECF6",
            "gridcolor": "white",
            "gridwidth": 2,
            "linecolor": "white",
            "showbackground": true,
            "ticks": "",
            "zerolinecolor": "white"
           },
           "yaxis": {
            "backgroundcolor": "#E5ECF6",
            "gridcolor": "white",
            "gridwidth": 2,
            "linecolor": "white",
            "showbackground": true,
            "ticks": "",
            "zerolinecolor": "white"
           },
           "zaxis": {
            "backgroundcolor": "#E5ECF6",
            "gridcolor": "white",
            "gridwidth": 2,
            "linecolor": "white",
            "showbackground": true,
            "ticks": "",
            "zerolinecolor": "white"
           }
          },
          "shapedefaults": {
           "line": {
            "color": "#2a3f5f"
           }
          },
          "ternary": {
           "aaxis": {
            "gridcolor": "white",
            "linecolor": "white",
            "ticks": ""
           },
           "baxis": {
            "gridcolor": "white",
            "linecolor": "white",
            "ticks": ""
           },
           "bgcolor": "#E5ECF6",
           "caxis": {
            "gridcolor": "white",
            "linecolor": "white",
            "ticks": ""
           }
          },
          "title": {
           "x": 0.05
          },
          "xaxis": {
           "automargin": true,
           "gridcolor": "white",
           "linecolor": "white",
           "ticks": "",
           "title": {
            "standoff": 15
           },
           "zerolinecolor": "white",
           "zerolinewidth": 2
          },
          "yaxis": {
           "automargin": true,
           "gridcolor": "white",
           "linecolor": "white",
           "ticks": "",
           "title": {
            "standoff": 15
           },
           "zerolinecolor": "white",
           "zerolinewidth": 2
          }
         }
        },
        "title": {
         "text": "Long-Form Input"
        },
        "xaxis": {
         "anchor": "y",
         "domain": [
          0,
          1
         ],
         "title": {
          "text": "index"
         }
        },
        "yaxis": {
         "anchor": "x",
         "domain": [
          0,
          1
         ],
         "title": {
          "text": "value"
         }
        }
       }
      }
     },
     "metadata": {},
     "output_type": "display_data"
    }
   ],
   "source": [
    "umi_all_monthly = get_monthly(umi_df).groupby(\"load\").sum()\n",
    "px.bar(umi_all_monthly.T, x=umi_all_monthly.T.index, y=[\"cooling\", \"heating\"], title=\"Long-Form Input\")"
   ]
  },
  {
   "attachments": {},
   "cell_type": "markdown",
   "metadata": {},
   "source": [
    "## CS Results (with shading)"
   ]
  },
  {
   "cell_type": "code",
   "execution_count": 35,
   "metadata": {},
   "outputs": [
    {
     "data": {
      "text/html": [
       "<div>\n",
       "<style scoped>\n",
       "    .dataframe tbody tr th:only-of-type {\n",
       "        vertical-align: middle;\n",
       "    }\n",
       "\n",
       "    .dataframe tbody tr th {\n",
       "        vertical-align: top;\n",
       "    }\n",
       "\n",
       "    .dataframe thead th {\n",
       "        text-align: right;\n",
       "    }\n",
       "</style>\n",
       "<table border=\"1\" class=\"dataframe\">\n",
       "  <thead>\n",
       "    <tr style=\"text-align: right;\">\n",
       "      <th></th>\n",
       "      <th>heating</th>\n",
       "      <th>cooling</th>\n",
       "    </tr>\n",
       "  </thead>\n",
       "  <tbody>\n",
       "    <tr>\n",
       "      <th>0</th>\n",
       "      <td>37.782502</td>\n",
       "      <td>0.651997</td>\n",
       "    </tr>\n",
       "    <tr>\n",
       "      <th>1</th>\n",
       "      <td>30.815120</td>\n",
       "      <td>0.864720</td>\n",
       "    </tr>\n",
       "    <tr>\n",
       "      <th>2</th>\n",
       "      <td>23.912920</td>\n",
       "      <td>1.388140</td>\n",
       "    </tr>\n",
       "    <tr>\n",
       "      <th>3</th>\n",
       "      <td>8.860720</td>\n",
       "      <td>3.217566</td>\n",
       "    </tr>\n",
       "    <tr>\n",
       "      <th>4</th>\n",
       "      <td>1.372989</td>\n",
       "      <td>6.767600</td>\n",
       "    </tr>\n",
       "    <tr>\n",
       "      <th>5</th>\n",
       "      <td>0.100272</td>\n",
       "      <td>16.316632</td>\n",
       "    </tr>\n",
       "    <tr>\n",
       "      <th>6</th>\n",
       "      <td>0.000004</td>\n",
       "      <td>24.082650</td>\n",
       "    </tr>\n",
       "    <tr>\n",
       "      <th>7</th>\n",
       "      <td>0.000000</td>\n",
       "      <td>22.895837</td>\n",
       "    </tr>\n",
       "    <tr>\n",
       "      <th>8</th>\n",
       "      <td>0.074960</td>\n",
       "      <td>11.990431</td>\n",
       "    </tr>\n",
       "    <tr>\n",
       "      <th>9</th>\n",
       "      <td>3.945830</td>\n",
       "      <td>4.262115</td>\n",
       "    </tr>\n",
       "    <tr>\n",
       "      <th>10</th>\n",
       "      <td>13.546572</td>\n",
       "      <td>2.258341</td>\n",
       "    </tr>\n",
       "    <tr>\n",
       "      <th>11</th>\n",
       "      <td>25.982937</td>\n",
       "      <td>0.711896</td>\n",
       "    </tr>\n",
       "  </tbody>\n",
       "</table>\n",
       "</div>"
      ],
      "text/plain": [
       "      heating    cooling\n",
       "0   37.782502   0.651997\n",
       "1   30.815120   0.864720\n",
       "2   23.912920   1.388140\n",
       "3    8.860720   3.217566\n",
       "4    1.372989   6.767600\n",
       "5    0.100272  16.316632\n",
       "6    0.000004  24.082650\n",
       "7    0.000000  22.895837\n",
       "8    0.074960  11.990431\n",
       "9    3.945830   4.262115\n",
       "10  13.546572   2.258341\n",
       "11  25.982937   0.711896"
      ]
     },
     "execution_count": 35,
     "metadata": {},
     "output_type": "execute_result"
    }
   ],
   "source": [
    "# CS with shading\n",
    "with open(Path(results_dir) / f\"results-out_{run_name}_all.json\", \"r\") as f:\n",
    "# with open(Path(\"D:/DATA/FlorianopolisBase/BostonBaseline/results-out-CS_boston.json\"), \"r\") as f:\n",
    "    CS_results = json.load(f)\n",
    "CS_results = pd.DataFrame.from_dict(CS_results)\n",
    "CS_results"
   ]
  },
  {
   "cell_type": "code",
   "execution_count": 36,
   "metadata": {},
   "outputs": [
    {
     "data": {
      "text/html": [
       "<div>\n",
       "<style scoped>\n",
       "    .dataframe tbody tr th:only-of-type {\n",
       "        vertical-align: middle;\n",
       "    }\n",
       "\n",
       "    .dataframe tbody tr th {\n",
       "        vertical-align: top;\n",
       "    }\n",
       "\n",
       "    .dataframe thead tr th {\n",
       "        text-align: left;\n",
       "    }\n",
       "</style>\n",
       "<table border=\"1\" class=\"dataframe\">\n",
       "  <thead>\n",
       "    <tr>\n",
       "      <th></th>\n",
       "      <th colspan=\"10\" halign=\"left\">heating</th>\n",
       "      <th>...</th>\n",
       "      <th colspan=\"10\" halign=\"left\">cooling</th>\n",
       "    </tr>\n",
       "    <tr>\n",
       "      <th></th>\n",
       "      <th>january</th>\n",
       "      <th>february</th>\n",
       "      <th>march</th>\n",
       "      <th>april</th>\n",
       "      <th>may</th>\n",
       "      <th>june</th>\n",
       "      <th>july</th>\n",
       "      <th>august</th>\n",
       "      <th>september</th>\n",
       "      <th>october</th>\n",
       "      <th>...</th>\n",
       "      <th>march</th>\n",
       "      <th>april</th>\n",
       "      <th>may</th>\n",
       "      <th>june</th>\n",
       "      <th>july</th>\n",
       "      <th>august</th>\n",
       "      <th>september</th>\n",
       "      <th>october</th>\n",
       "      <th>november</th>\n",
       "      <th>december</th>\n",
       "    </tr>\n",
       "  </thead>\n",
       "  <tbody>\n",
       "    <tr>\n",
       "      <th>017ecc40-ddbf-481c-9f31-b8e0bc37d4bd</th>\n",
       "      <td>111.650910</td>\n",
       "      <td>90.942701</td>\n",
       "      <td>71.758115</td>\n",
       "      <td>28.140261</td>\n",
       "      <td>5.287326</td>\n",
       "      <td>0.556407</td>\n",
       "      <td>0.0</td>\n",
       "      <td>0.0</td>\n",
       "      <td>0.387711</td>\n",
       "      <td>15.157001</td>\n",
       "      <td>...</td>\n",
       "      <td>1.034355</td>\n",
       "      <td>4.165585</td>\n",
       "      <td>11.300644</td>\n",
       "      <td>30.753820</td>\n",
       "      <td>45.365826</td>\n",
       "      <td>42.817734</td>\n",
       "      <td>21.273434</td>\n",
       "      <td>5.586400</td>\n",
       "      <td>2.995909</td>\n",
       "      <td>0.586115</td>\n",
       "    </tr>\n",
       "    <tr>\n",
       "      <th>02e58b5c-19bf-4681-ad73-caaf40755166</th>\n",
       "      <td>78.226751</td>\n",
       "      <td>63.373139</td>\n",
       "      <td>50.192400</td>\n",
       "      <td>18.511447</td>\n",
       "      <td>2.496971</td>\n",
       "      <td>0.154491</td>\n",
       "      <td>0.0</td>\n",
       "      <td>0.0</td>\n",
       "      <td>0.036622</td>\n",
       "      <td>8.636031</td>\n",
       "      <td>...</td>\n",
       "      <td>0.533748</td>\n",
       "      <td>2.301947</td>\n",
       "      <td>5.988246</td>\n",
       "      <td>22.965712</td>\n",
       "      <td>36.666122</td>\n",
       "      <td>34.475236</td>\n",
       "      <td>14.995683</td>\n",
       "      <td>3.799237</td>\n",
       "      <td>2.027236</td>\n",
       "      <td>0.298786</td>\n",
       "    </tr>\n",
       "    <tr>\n",
       "      <th>05e64858-d58d-4e02-aace-5792e97c8cea</th>\n",
       "      <td>75.364362</td>\n",
       "      <td>61.143618</td>\n",
       "      <td>48.031179</td>\n",
       "      <td>17.433406</td>\n",
       "      <td>2.213414</td>\n",
       "      <td>0.123035</td>\n",
       "      <td>0.0</td>\n",
       "      <td>0.0</td>\n",
       "      <td>0.035377</td>\n",
       "      <td>8.062470</td>\n",
       "      <td>...</td>\n",
       "      <td>0.543592</td>\n",
       "      <td>2.113125</td>\n",
       "      <td>6.371521</td>\n",
       "      <td>23.019585</td>\n",
       "      <td>36.436533</td>\n",
       "      <td>34.268420</td>\n",
       "      <td>14.919657</td>\n",
       "      <td>3.360987</td>\n",
       "      <td>1.753602</td>\n",
       "      <td>0.313343</td>\n",
       "    </tr>\n",
       "    <tr>\n",
       "      <th>094b90f3-f000-4e23-8deb-37ca43f1c3d7</th>\n",
       "      <td>99.310705</td>\n",
       "      <td>81.974780</td>\n",
       "      <td>66.540557</td>\n",
       "      <td>26.964513</td>\n",
       "      <td>4.611036</td>\n",
       "      <td>0.308343</td>\n",
       "      <td>0.0</td>\n",
       "      <td>0.0</td>\n",
       "      <td>0.253258</td>\n",
       "      <td>13.484575</td>\n",
       "      <td>...</td>\n",
       "      <td>0.200386</td>\n",
       "      <td>1.265397</td>\n",
       "      <td>3.818800</td>\n",
       "      <td>19.758603</td>\n",
       "      <td>33.922338</td>\n",
       "      <td>31.578789</td>\n",
       "      <td>12.237198</td>\n",
       "      <td>2.728774</td>\n",
       "      <td>1.337415</td>\n",
       "      <td>0.151048</td>\n",
       "    </tr>\n",
       "    <tr>\n",
       "      <th>0a9a2f97-6ff6-46e2-938d-9f17e00f083f</th>\n",
       "      <td>76.586732</td>\n",
       "      <td>62.323101</td>\n",
       "      <td>49.044948</td>\n",
       "      <td>17.951447</td>\n",
       "      <td>2.294593</td>\n",
       "      <td>0.128449</td>\n",
       "      <td>0.0</td>\n",
       "      <td>0.0</td>\n",
       "      <td>0.040403</td>\n",
       "      <td>8.355381</td>\n",
       "      <td>...</td>\n",
       "      <td>0.406040</td>\n",
       "      <td>1.952692</td>\n",
       "      <td>6.410223</td>\n",
       "      <td>23.243016</td>\n",
       "      <td>36.880518</td>\n",
       "      <td>34.728428</td>\n",
       "      <td>15.104905</td>\n",
       "      <td>3.237357</td>\n",
       "      <td>1.525407</td>\n",
       "      <td>0.236591</td>\n",
       "    </tr>\n",
       "  </tbody>\n",
       "</table>\n",
       "<p>5 rows × 24 columns</p>\n",
       "</div>"
      ],
      "text/plain": [
       "                                         heating                        \\\n",
       "                                         january   february      march   \n",
       "017ecc40-ddbf-481c-9f31-b8e0bc37d4bd  111.650910  90.942701  71.758115   \n",
       "02e58b5c-19bf-4681-ad73-caaf40755166   78.226751  63.373139  50.192400   \n",
       "05e64858-d58d-4e02-aace-5792e97c8cea   75.364362  61.143618  48.031179   \n",
       "094b90f3-f000-4e23-8deb-37ca43f1c3d7   99.310705  81.974780  66.540557   \n",
       "0a9a2f97-6ff6-46e2-938d-9f17e00f083f   76.586732  62.323101  49.044948   \n",
       "\n",
       "                                                                          \\\n",
       "                                          april       may      june july   \n",
       "017ecc40-ddbf-481c-9f31-b8e0bc37d4bd  28.140261  5.287326  0.556407  0.0   \n",
       "02e58b5c-19bf-4681-ad73-caaf40755166  18.511447  2.496971  0.154491  0.0   \n",
       "05e64858-d58d-4e02-aace-5792e97c8cea  17.433406  2.213414  0.123035  0.0   \n",
       "094b90f3-f000-4e23-8deb-37ca43f1c3d7  26.964513  4.611036  0.308343  0.0   \n",
       "0a9a2f97-6ff6-46e2-938d-9f17e00f083f  17.951447  2.294593  0.128449  0.0   \n",
       "\n",
       "                                                                  ...  \\\n",
       "                                     august september    october  ...   \n",
       "017ecc40-ddbf-481c-9f31-b8e0bc37d4bd    0.0  0.387711  15.157001  ...   \n",
       "02e58b5c-19bf-4681-ad73-caaf40755166    0.0  0.036622   8.636031  ...   \n",
       "05e64858-d58d-4e02-aace-5792e97c8cea    0.0  0.035377   8.062470  ...   \n",
       "094b90f3-f000-4e23-8deb-37ca43f1c3d7    0.0  0.253258  13.484575  ...   \n",
       "0a9a2f97-6ff6-46e2-938d-9f17e00f083f    0.0  0.040403   8.355381  ...   \n",
       "\n",
       "                                       cooling                       \\\n",
       "                                         march     april        may   \n",
       "017ecc40-ddbf-481c-9f31-b8e0bc37d4bd  1.034355  4.165585  11.300644   \n",
       "02e58b5c-19bf-4681-ad73-caaf40755166  0.533748  2.301947   5.988246   \n",
       "05e64858-d58d-4e02-aace-5792e97c8cea  0.543592  2.113125   6.371521   \n",
       "094b90f3-f000-4e23-8deb-37ca43f1c3d7  0.200386  1.265397   3.818800   \n",
       "0a9a2f97-6ff6-46e2-938d-9f17e00f083f  0.406040  1.952692   6.410223   \n",
       "\n",
       "                                                                       \\\n",
       "                                           june       july     august   \n",
       "017ecc40-ddbf-481c-9f31-b8e0bc37d4bd  30.753820  45.365826  42.817734   \n",
       "02e58b5c-19bf-4681-ad73-caaf40755166  22.965712  36.666122  34.475236   \n",
       "05e64858-d58d-4e02-aace-5792e97c8cea  23.019585  36.436533  34.268420   \n",
       "094b90f3-f000-4e23-8deb-37ca43f1c3d7  19.758603  33.922338  31.578789   \n",
       "0a9a2f97-6ff6-46e2-938d-9f17e00f083f  23.243016  36.880518  34.728428   \n",
       "\n",
       "                                                                               \n",
       "                                      september   october  november  december  \n",
       "017ecc40-ddbf-481c-9f31-b8e0bc37d4bd  21.273434  5.586400  2.995909  0.586115  \n",
       "02e58b5c-19bf-4681-ad73-caaf40755166  14.995683  3.799237  2.027236  0.298786  \n",
       "05e64858-d58d-4e02-aace-5792e97c8cea  14.919657  3.360987  1.753602  0.313343  \n",
       "094b90f3-f000-4e23-8deb-37ca43f1c3d7  12.237198  2.728774  1.337415  0.151048  \n",
       "0a9a2f97-6ff6-46e2-938d-9f17e00f083f  15.104905  3.237357  1.525407  0.236591  \n",
       "\n",
       "[5 rows x 24 columns]"
      ]
     },
     "execution_count": 36,
     "metadata": {},
     "output_type": "execute_result"
    }
   ],
   "source": [
    "# CS individual buildings\n",
    "files = [x for x in os.listdir(Path(results_dir) / \"SingleBuildings\") if \"results-out\" in x]\n",
    "assert len(files) == 93\n",
    "\n",
    "CS_building_results = {}\n",
    "for fname in files:\n",
    "    building_id = fname.split(\"_\")[-1].split(\".json\")[0]\n",
    "    with open(Path(results_dir) / \"SingleBuildings\" / fname, \"r\") as f:\n",
    "        r = json.load(f)\n",
    "        res_dict = {}\n",
    "        for l in [\"heating\", \"cooling\"]:\n",
    "            res_dict.update({(l, k): r for k, r in zip(month_map.keys(), r[l])})\n",
    "        CS_building_results[building_id] = res_dict\n",
    "CS_building_results = pd.DataFrame.from_dict(CS_building_results).T\n",
    "# CS_building_results['guid']= guids\n",
    "# CS_building_results.set_index('guid', inplace=True)\n",
    "CS_building_results.head()"
   ]
  },
  {
   "cell_type": "code",
   "execution_count": 37,
   "metadata": {},
   "outputs": [
    {
     "data": {
      "text/html": [
       "<div>\n",
       "<style scoped>\n",
       "    .dataframe tbody tr th:only-of-type {\n",
       "        vertical-align: middle;\n",
       "    }\n",
       "\n",
       "    .dataframe tbody tr th {\n",
       "        vertical-align: top;\n",
       "    }\n",
       "\n",
       "    .dataframe thead tr th {\n",
       "        text-align: left;\n",
       "    }\n",
       "</style>\n",
       "<table border=\"1\" class=\"dataframe\">\n",
       "  <thead>\n",
       "    <tr>\n",
       "      <th></th>\n",
       "      <th colspan=\"10\" halign=\"left\">heating</th>\n",
       "      <th>...</th>\n",
       "      <th colspan=\"10\" halign=\"left\">cooling</th>\n",
       "    </tr>\n",
       "    <tr>\n",
       "      <th></th>\n",
       "      <th>january</th>\n",
       "      <th>february</th>\n",
       "      <th>march</th>\n",
       "      <th>april</th>\n",
       "      <th>may</th>\n",
       "      <th>june</th>\n",
       "      <th>july</th>\n",
       "      <th>august</th>\n",
       "      <th>september</th>\n",
       "      <th>october</th>\n",
       "      <th>...</th>\n",
       "      <th>march</th>\n",
       "      <th>april</th>\n",
       "      <th>may</th>\n",
       "      <th>june</th>\n",
       "      <th>july</th>\n",
       "      <th>august</th>\n",
       "      <th>september</th>\n",
       "      <th>october</th>\n",
       "      <th>november</th>\n",
       "      <th>december</th>\n",
       "    </tr>\n",
       "  </thead>\n",
       "  <tbody>\n",
       "    <tr>\n",
       "      <th>73ddd747-14ca-4769-b39a-d8ca915b9846</th>\n",
       "      <td>NaN</td>\n",
       "      <td>NaN</td>\n",
       "      <td>NaN</td>\n",
       "      <td>NaN</td>\n",
       "      <td>NaN</td>\n",
       "      <td>NaN</td>\n",
       "      <td>NaN</td>\n",
       "      <td>NaN</td>\n",
       "      <td>NaN</td>\n",
       "      <td>NaN</td>\n",
       "      <td>...</td>\n",
       "      <td>NaN</td>\n",
       "      <td>NaN</td>\n",
       "      <td>NaN</td>\n",
       "      <td>NaN</td>\n",
       "      <td>NaN</td>\n",
       "      <td>NaN</td>\n",
       "      <td>NaN</td>\n",
       "      <td>NaN</td>\n",
       "      <td>NaN</td>\n",
       "      <td>NaN</td>\n",
       "    </tr>\n",
       "  </tbody>\n",
       "</table>\n",
       "<p>1 rows × 24 columns</p>\n",
       "</div>"
      ],
      "text/plain": [
       "                                     heating                                \\\n",
       "                                     january february march april may june   \n",
       "73ddd747-14ca-4769-b39a-d8ca915b9846     NaN      NaN   NaN   NaN NaN  NaN   \n",
       "\n",
       "                                                                    ...  \\\n",
       "                                     july august september october  ...   \n",
       "73ddd747-14ca-4769-b39a-d8ca915b9846  NaN    NaN       NaN     NaN  ...   \n",
       "\n",
       "                                     cooling                             \\\n",
       "                                       march april may june july august   \n",
       "73ddd747-14ca-4769-b39a-d8ca915b9846     NaN   NaN NaN  NaN  NaN    NaN   \n",
       "\n",
       "                                                                          \n",
       "                                     september october november december  \n",
       "73ddd747-14ca-4769-b39a-d8ca915b9846       NaN     NaN      NaN      NaN  \n",
       "\n",
       "[1 rows x 24 columns]"
      ]
     },
     "execution_count": 37,
     "metadata": {},
     "output_type": "execute_result"
    }
   ],
   "source": [
    "CS_building_results.loc[np.isnan(CS_building_results['heating']['january'])]"
   ]
  },
  {
   "attachments": {},
   "cell_type": "markdown",
   "metadata": {},
   "source": [
    "## Model results"
   ]
  },
  {
   "cell_type": "code",
   "execution_count": 38,
   "metadata": {},
   "outputs": [],
   "source": [
    "# Load template settings from rhino\n",
    "with open(gh_data_dir, 'r') as f:\n",
    "    gh_data = json.load(f)\n",
    "COP_COOLING = 3.32337\n",
    "COP_HEATING = 0.75"
   ]
  },
  {
   "cell_type": "code",
   "execution_count": 18,
   "metadata": {},
   "outputs": [],
   "source": [
    "# Load in GH data for custom template\n",
    "if gh_data[\"Conditioning\"][\"HeatRecoveryType\"] == \"None\":\n",
    "    hrv = 0\n",
    "else:\n",
    "    hrv = HRV[gh_data[\"Conditioning\"][\"HeatRecoveryType\"]].value \n",
    "if \"occ\" in gh_data[\"Conditioning\"][\"MechVentSchedule\"].lower():\n",
    "    vent_mode = 2\n",
    "else:\n",
    "    vent_mode = 0 #TODO\n",
    "rval = 4.88\n",
    "config = {\n",
    "    \"FacadeMass\": 0, #TODO\n",
    "    \"RoofMass\": 0,\n",
    "    \"FacadeRValue\": rval,\n",
    "    \"RoofRValue\": rval,\n",
    "    \"SlabRValue\": rval,\n",
    "    \"WindowUValue\": float(gh_data[\"SimpleWindow\"][\"uval\"]),\n",
    "    \"WindowShgc\": float(gh_data[\"SimpleWindow\"][\"shgc\"]),\n",
    "    \"PeopleDensity\": float(gh_data[\"Loads\"][\"PeopleDensity\"]),\n",
    "    \"EquipmentPowerDensity\": float(gh_data[\"Loads\"][\"EquipmentPowerDensity\"]),\n",
    "    \"LightingPowerDensity\": float(gh_data[\"Loads\"][\"LightingPowerDensity\"]),\n",
    "    \"HeatingSetpoint\": float(gh_data[\"Conditioning\"][\"HeatingSetpoint\"]),\n",
    "    \"CoolingSetpoint\": float(gh_data[\"Conditioning\"][\"CoolingSetpoint\"]),\n",
    "    \"cop_heating\": 1,\n",
    "    \"cop_cooling\": 1,\n",
    "    \"VentilationMode\": vent_mode,\n",
    "    \"VentilationPerArea\": float(gh_data[\"Conditioning\"][\"MinFreshAirArea\"])/1000,\n",
    "    \"VentilationPerPerson\": float(gh_data[\"Conditioning\"][\"MinFreshAirPerson\"])/1000,\n",
    "    \"EconomizerSettings\": Econ[gh_data[\"Conditioning\"][\"EconomizerType\"]].value,\n",
    "    \"RecoverySettings\": hrv,\n",
    "    \"Infiltration\": float(gh_data[\"Infiltration\"][\"InfiltrationFlowPerExteriorSurfaceArea\"]),\n",
    "    # \"wwr\": gh_data[\"ShoeboxConfig\"][\"wwr\"],\n",
    "    # \"roof_2_footprint\": gh_data[\"ShoeboxConfig\"][\"roof_2_footprint\"],\n",
    "    # \"ground_2_footprint\": gh_data[\"ShoeboxConfig\"][\"ground_2_footprint\"],\n",
    "    # \"orientation\": gh_data[\"ShoeboxConfig\"][\"orientation\"],\n",
    "    # \"width\": gh_data[\"ShoeboxConfig\"][\"width\"],\n",
    "    # \"height\": gh_data[\"ShoeboxConfig\"][\"height\"],\n",
    "    # \"perim_depth\": gh_data[\"ShoeboxConfig\"][\"perim_depth\"],\n",
    "    # \"core_depth\": gh_data[\"ShoeboxConfig\"][\"core_depth\"],\n",
    "    # \"building_idx\": 0,\n",
    "    # \"edge_length\": 1,\n",
    "    # \"edge_weight\": 1,\n",
    "    # \"weight\": 1,\n",
    "    \"template_idx\": 0,\n",
    "    \"template_name\": \"ParametricZoneSettings\",\n",
    "    # \"floor_name\": \"none\",\n",
    "}\n",
    "for i in range(12):\n",
    "    config[f\"shading_{i}\"] = 0"
   ]
  },
  {
   "cell_type": "code",
   "execution_count": 26,
   "metadata": {},
   "outputs": [
    {
     "name": "stdout",
     "output_type": "stream",
     "text": [
      "Schedule index: 5\n"
     ]
    }
   ],
   "source": [
    "import geopandas as gpd\n",
    "from ladybug.epw import EPW\n",
    "\n",
    "gdf = gpd.read_file(\n",
    "    Path(\"D:/Users/zoelh/Dropbox (MIT)/Thesis Work/Florianopolis\")\n",
    "    / \"Florianopolis_Baseline.zip\"\n",
    ")\n",
    "\n",
    "# dict to store key fields for known gis files\n",
    "id_cols = {\n",
    "    \"florianpolis\": {\n",
    "        \"height_col\": \"HEIGHT\",\n",
    "        \"id_col\": \"OBJECTID\",\n",
    "        \"template_name_col\": \"template_name\",\n",
    "        \"wwr_col\": \"wwr\",\n",
    "    }\n",
    "}\n",
    "\n",
    "\"\"\"\n",
    "Select EPW\n",
    "\"\"\"\n",
    "# epw_fp = (\n",
    "#     Path(\n",
    "#         \"D:/Users/zoelh/Dropbox (MIT)/Thesis Work/Building Energy References/ReferenceBuildings\"\n",
    "#     )\n",
    "#     / \"USA_FL-MIAMI.722020_TMY2-12839.epw\"\n",
    "# )\n",
    "epw_fp = (\"C:/ProgramData/Solemma/Common/WeatherData/EPW/USA_MA_Boston-Logan.Intl.AP.725090_TMYx.2004-2018.epw\")\n",
    "epw = EPW(epw_fp)\n",
    "\n",
    "\n",
    "\"\"\"\n",
    "Make Schedules\n",
    "\"\"\"\n",
    "schedules = pd.read_hdf(\"data/schedules.h5\")\n",
    "idx = gh_data[\"ShoeboxConfig\"][\"schedule_index\"]\n",
    "print(\"Schedule index:\", idx)\n",
    "selected_schedule = schedules.loc[schedules.index[idx*3][0]].to_numpy()\n",
    "\"\"\"\n",
    "Template lib as tuple\n",
    "\"\"\"\n",
    "template_df = pd.Series(config)\n",
    "template_df = pd.to_numeric(template_df, errors=\"ignore\")\n",
    "template_df = pd.DataFrame.from_dict(config, orient=\"index\").T\n",
    "template_lib = (template_df, np.expand_dims(selected_schedule, axis=0))\n",
    "# template_lib = UmiTemplateLibrary.open(\n",
    "#     Path(\n",
    "#         \"D:/Users/zoelh/Dropbox (MIT)/Thesis Work/Building Energy References/ArchetypalReferences\"\n",
    "#     )\n",
    "#     / \"DefaultTemplateLibrary_1A.json\"\n",
    "# )\n",
    "\n",
    "# Insert dummy template names\n",
    "gdf[id_cols[\"florianpolis\"][\"template_name_col\"]] = \"ParametricZoneSettings\"\n",
    "# np.random.choice(\n",
    "#     [t.Name for t in template_lib.BuildingTemplates], size=gdf.shape[0]\n",
    "# )\n",
    "\n",
    "# insert wwrs\n",
    "gdf[id_cols[\"florianpolis\"][\"wwr_col\"]] = float(gh_data[\"ShoeboxConfig\"][\"wwr\"])\n"
   ]
  },
  {
   "cell_type": "code",
   "execution_count": 27,
   "metadata": {},
   "outputs": [
    {
     "name": "stderr",
     "output_type": "stream",
     "text": [
      "DEBUG:UMI:INITIAL GEOMETRY CHECK: 0 NaNs, 0 open polygons\n",
      "DEBUG:UMI:GEOMETRY REPORT\n",
      "DEBUG:UMI:GEOMETRY, CRS: 0 NaNs, 0 open polygons\n",
      "WARNING:UMI:Duplicate ids in building gdf! Overwriting with new ids.\n",
      "DEBUG:UMI:CORES, CRS: 0 NaNs, 41 open polygons\n",
      "DEBUG:UMI:AREA: 0 NaNs, 0 infs\n",
      "DEBUG:UMI:CORE_AREAS: 0 NaNs, 0 infs\n",
      "INFO:Radiation Analysis:Beginning sky matrix extraction...\n",
      "INFO:Radiation Analysis:Building Count: 93\n",
      "INFO:Radiation Analysis:Approximate Sensor Count: 6049\n",
      "INFO:Radiation Analysis:QuadTree Depth: 8\n",
      "INFO:Radiation Analysis:Initializing azimuths from provided sky...\n",
      "INFO:Radiation Analysis:Initializing elevations from provided Sky...\n",
      "INFO:Radiation Analysis:Initializing buildings...\n",
      "INFO:Radiation Analysis:Extracting edges...\n",
      "DEBUG:UMI:Built sb df from gis features, 0 NaNs\n",
      "DEBUG:UMI:Assigned sb dimensions in df from gis features, 0 NaNs\n",
      "DEBUG:UMI:Added template features, 0 NaNs\n",
      "DEBUG:UMI:Dropping unnecessary shoeboxes...\n",
      "DEBUG:UMI:Shoeboxes built... 0 NaNs\n",
      "INFO:UMI:Processed UMI in 3.72 seconds\n"
     ]
    }
   ],
   "source": [
    "from umi.ubem import UBEM\n",
    "\n",
    "ubem = UBEM(\n",
    "    gdf=gdf,\n",
    "    epw=epw,\n",
    "    **id_cols[\"florianpolis\"],\n",
    "    template_lib=template_lib,\n",
    "    sensor_spacing=3,\n",
    "    shoebox_width=3,\n",
    "    floor_to_floor_height=3,\n",
    "    perim_offset=3,\n",
    "    shoebox_gen_type=\"edge_unshaded\",\n",
    ")"
   ]
  },
  {
   "cell_type": "code",
   "execution_count": 28,
   "metadata": {},
   "outputs": [
    {
     "name": "stdout",
     "output_type": "stream",
     "text": [
      "buildings 93 sbs 1022\n"
     ]
    }
   ],
   "source": [
    "# ubem.prepare_epw_features(epw=EPW(\"C:/ProgramData/Solemma/Common/WeatherData/EPW/USA_MA_Boston-Logan.Intl.AP.725090_TMYx.2004-2018.epw\"))\n",
    "features, schedules, climate = ubem.prepare_for_surrogate()\n",
    "print(\"buildings\", len(ubem.gis_features_df), \"sbs\", len(features))"
   ]
  },
  {
   "cell_type": "code",
   "execution_count": 29,
   "metadata": {},
   "outputs": [
    {
     "name": "stderr",
     "output_type": "stream",
     "text": [
      "c:\\Users\\zoelh\\AppData\\Local\\anaconda3\\envs\\ml-for-bem\\lib\\site-packages\\lightning\\pytorch\\utilities\\parsing.py:198: Attribute 'target_transform' is an instance of `nn.Module` and is already saved during checkpointing. It is recommended to ignore them using `self.save_hyperparameters(ignore=['target_transform'])`.\n",
      "c:\\Users\\zoelh\\AppData\\Local\\anaconda3\\envs\\ml-for-bem\\lib\\site-packages\\lightning\\pytorch\\utilities\\parsing.py:198: Attribute 'weather_transform' is an instance of `nn.Module` and is already saved during checkpointing. It is recommended to ignore them using `self.save_hyperparameters(ignore=['weather_transform'])`.\n",
      "INFO: GPU available: True (cuda), used: True\n",
      "INFO:lightning.pytorch.utilities.rank_zero:GPU available: True (cuda), used: True\n",
      "INFO: TPU available: False, using: 0 TPU cores\n",
      "INFO:lightning.pytorch.utilities.rank_zero:TPU available: False, using: 0 TPU cores\n",
      "INFO: IPU available: False, using: 0 IPUs\n",
      "INFO:lightning.pytorch.utilities.rank_zero:IPU available: False, using: 0 IPUs\n",
      "INFO: HPU available: False, using: 0 HPUs\n",
      "INFO:lightning.pytorch.utilities.rank_zero:HPU available: False, using: 0 HPUs\n"
     ]
    }
   ],
   "source": [
    "from ml.surrogate import Surrogate\n",
    "from ml.predict import predict_ubem\n",
    "from lightning.pytorch import Trainer\n",
    "import torch\n",
    "\n",
    "bucket = \"ml-for-bem\"\n",
    "remote_experiment = \"full_climate_zone/v7\"\n",
    "local_data_dir = \"data/lightning\"\n",
    "\n",
    "registry = \"ml-for-building-energy-modeling/model-registry\"\n",
    "model = \"Global UBEM Shoebox Surrogate with Combined TS Embedder\"\n",
    "tag = \"v3\"\n",
    "resource = \"model.ckpt\"\n",
    "\n",
    "surrogate = Surrogate.load_from_registry(registry, model, tag, resource)\n",
    "surrogate.model.eval()\n",
    "\n",
    "trainer = Trainer(\n",
    "    accelerator=\"auto\",\n",
    "    devices=\"auto\",\n",
    "    strategy=\"auto\",\n",
    "    enable_progress_bar=True,\n",
    ")"
   ]
  },
  {
   "cell_type": "code",
   "execution_count": null,
   "metadata": {},
   "outputs": [],
   "source": [
    "torch.set_float32_matmul_precision(\"medium\")\n",
    "shoebox_predictions, monthly_predictions, annual_predictions = predict_ubem(\n",
    "    trainer=trainer,\n",
    "    surrogate=surrogate,\n",
    "    features=features,\n",
    "    schedules=schedules,\n",
    "    climate=climate,\n",
    "    batch_size=32,\n",
    "    apply_cops=False,\n",
    ")"
   ]
  },
  {
   "cell_type": "code",
   "execution_count": 31,
   "metadata": {},
   "outputs": [
    {
     "data": {
      "text/html": [
       "<div>\n",
       "<style scoped>\n",
       "    .dataframe tbody tr th:only-of-type {\n",
       "        vertical-align: middle;\n",
       "    }\n",
       "\n",
       "    .dataframe tbody tr th {\n",
       "        vertical-align: top;\n",
       "    }\n",
       "\n",
       "    .dataframe thead th {\n",
       "        text-align: right;\n",
       "    }\n",
       "</style>\n",
       "<table border=\"1\" class=\"dataframe\">\n",
       "  <thead>\n",
       "    <tr style=\"text-align: right;\">\n",
       "      <th>Name</th>\n",
       "      <th>Cooling</th>\n",
       "      <th>Heating</th>\n",
       "    </tr>\n",
       "  </thead>\n",
       "  <tbody>\n",
       "    <tr>\n",
       "      <th>count</th>\n",
       "      <td>93.000000</td>\n",
       "      <td>93.000000</td>\n",
       "    </tr>\n",
       "    <tr>\n",
       "      <th>mean</th>\n",
       "      <td>168.837799</td>\n",
       "      <td>49.142276</td>\n",
       "    </tr>\n",
       "    <tr>\n",
       "      <th>std</th>\n",
       "      <td>20.106980</td>\n",
       "      <td>35.165712</td>\n",
       "    </tr>\n",
       "    <tr>\n",
       "      <th>min</th>\n",
       "      <td>118.318098</td>\n",
       "      <td>3.765823</td>\n",
       "    </tr>\n",
       "    <tr>\n",
       "      <th>25%</th>\n",
       "      <td>156.455286</td>\n",
       "      <td>24.136605</td>\n",
       "    </tr>\n",
       "    <tr>\n",
       "      <th>50%</th>\n",
       "      <td>169.586641</td>\n",
       "      <td>40.078268</td>\n",
       "    </tr>\n",
       "    <tr>\n",
       "      <th>75%</th>\n",
       "      <td>180.082742</td>\n",
       "      <td>61.528392</td>\n",
       "    </tr>\n",
       "    <tr>\n",
       "      <th>max</th>\n",
       "      <td>218.218751</td>\n",
       "      <td>151.444340</td>\n",
       "    </tr>\n",
       "  </tbody>\n",
       "</table>\n",
       "</div>"
      ],
      "text/plain": [
       "Name      Cooling     Heating\n",
       "count   93.000000   93.000000\n",
       "mean   168.837799   49.142276\n",
       "std     20.106980   35.165712\n",
       "min    118.318098    3.765823\n",
       "25%    156.455286   24.136605\n",
       "50%    169.586641   40.078268\n",
       "75%    180.082742   61.528392\n",
       "max    218.218751  151.444340"
      ]
     },
     "execution_count": 31,
     "metadata": {},
     "output_type": "execute_result"
    }
   ],
   "source": [
    "annual_predictions.describe()"
   ]
  },
  {
   "cell_type": "code",
   "execution_count": 32,
   "metadata": {},
   "outputs": [
    {
     "data": {
      "text/html": [
       "<div>\n",
       "<style scoped>\n",
       "    .dataframe tbody tr th:only-of-type {\n",
       "        vertical-align: middle;\n",
       "    }\n",
       "\n",
       "    .dataframe tbody tr th {\n",
       "        vertical-align: top;\n",
       "    }\n",
       "\n",
       "    .dataframe thead tr th {\n",
       "        text-align: left;\n",
       "    }\n",
       "\n",
       "    .dataframe thead tr:last-of-type th {\n",
       "        text-align: right;\n",
       "    }\n",
       "</style>\n",
       "<table border=\"1\" class=\"dataframe\">\n",
       "  <thead>\n",
       "    <tr>\n",
       "      <th>Name</th>\n",
       "      <th colspan=\"10\" halign=\"left\">Cooling</th>\n",
       "      <th>...</th>\n",
       "      <th colspan=\"10\" halign=\"left\">Heating</th>\n",
       "    </tr>\n",
       "    <tr>\n",
       "      <th></th>\n",
       "      <th>2018-01-01</th>\n",
       "      <th>2018-02-01</th>\n",
       "      <th>2018-03-01</th>\n",
       "      <th>2018-04-01</th>\n",
       "      <th>2018-05-01</th>\n",
       "      <th>2018-06-01</th>\n",
       "      <th>2018-07-01</th>\n",
       "      <th>2018-08-01</th>\n",
       "      <th>2018-09-01</th>\n",
       "      <th>2018-10-01</th>\n",
       "      <th>...</th>\n",
       "      <th>2018-03-01</th>\n",
       "      <th>2018-04-01</th>\n",
       "      <th>2018-05-01</th>\n",
       "      <th>2018-06-01</th>\n",
       "      <th>2018-07-01</th>\n",
       "      <th>2018-08-01</th>\n",
       "      <th>2018-09-01</th>\n",
       "      <th>2018-10-01</th>\n",
       "      <th>2018-11-01</th>\n",
       "      <th>2018-12-01</th>\n",
       "    </tr>\n",
       "    <tr>\n",
       "      <th>building_id</th>\n",
       "      <th></th>\n",
       "      <th></th>\n",
       "      <th></th>\n",
       "      <th></th>\n",
       "      <th></th>\n",
       "      <th></th>\n",
       "      <th></th>\n",
       "      <th></th>\n",
       "      <th></th>\n",
       "      <th></th>\n",
       "      <th></th>\n",
       "      <th></th>\n",
       "      <th></th>\n",
       "      <th></th>\n",
       "      <th></th>\n",
       "      <th></th>\n",
       "      <th></th>\n",
       "      <th></th>\n",
       "      <th></th>\n",
       "      <th></th>\n",
       "      <th></th>\n",
       "    </tr>\n",
       "  </thead>\n",
       "  <tbody>\n",
       "    <tr>\n",
       "      <th>0</th>\n",
       "      <td>4.535458</td>\n",
       "      <td>6.002228</td>\n",
       "      <td>9.153663</td>\n",
       "      <td>14.420216</td>\n",
       "      <td>19.858925</td>\n",
       "      <td>26.447049</td>\n",
       "      <td>31.451484</td>\n",
       "      <td>30.309914</td>\n",
       "      <td>22.721187</td>\n",
       "      <td>15.244874</td>\n",
       "      <td>...</td>\n",
       "      <td>0.572919</td>\n",
       "      <td>0.038899</td>\n",
       "      <td>-0.024420</td>\n",
       "      <td>-0.020415</td>\n",
       "      <td>-0.020082</td>\n",
       "      <td>-0.018092</td>\n",
       "      <td>-0.019666</td>\n",
       "      <td>-0.003006</td>\n",
       "      <td>0.295710</td>\n",
       "      <td>1.100824</td>\n",
       "    </tr>\n",
       "    <tr>\n",
       "      <th>1</th>\n",
       "      <td>1.805474</td>\n",
       "      <td>2.722429</td>\n",
       "      <td>4.550512</td>\n",
       "      <td>8.888773</td>\n",
       "      <td>14.714762</td>\n",
       "      <td>23.997343</td>\n",
       "      <td>31.377067</td>\n",
       "      <td>30.032457</td>\n",
       "      <td>20.284910</td>\n",
       "      <td>10.774946</td>\n",
       "      <td>...</td>\n",
       "      <td>4.340377</td>\n",
       "      <td>0.466511</td>\n",
       "      <td>-0.028693</td>\n",
       "      <td>-0.024842</td>\n",
       "      <td>-0.022203</td>\n",
       "      <td>-0.019966</td>\n",
       "      <td>-0.021144</td>\n",
       "      <td>0.106169</td>\n",
       "      <td>2.178456</td>\n",
       "      <td>6.281199</td>\n",
       "    </tr>\n",
       "    <tr>\n",
       "      <th>2</th>\n",
       "      <td>0.631394</td>\n",
       "      <td>1.424839</td>\n",
       "      <td>2.879859</td>\n",
       "      <td>7.587852</td>\n",
       "      <td>14.484407</td>\n",
       "      <td>27.785799</td>\n",
       "      <td>37.937318</td>\n",
       "      <td>36.070107</td>\n",
       "      <td>21.888065</td>\n",
       "      <td>9.628818</td>\n",
       "      <td>...</td>\n",
       "      <td>7.776507</td>\n",
       "      <td>0.966353</td>\n",
       "      <td>-0.025439</td>\n",
       "      <td>-0.025940</td>\n",
       "      <td>-0.024834</td>\n",
       "      <td>-0.021619</td>\n",
       "      <td>-0.020184</td>\n",
       "      <td>0.313027</td>\n",
       "      <td>4.220110</td>\n",
       "      <td>11.262413</td>\n",
       "    </tr>\n",
       "    <tr>\n",
       "      <th>3</th>\n",
       "      <td>2.560088</td>\n",
       "      <td>3.705572</td>\n",
       "      <td>6.084950</td>\n",
       "      <td>11.385499</td>\n",
       "      <td>17.682210</td>\n",
       "      <td>26.371654</td>\n",
       "      <td>33.091536</td>\n",
       "      <td>31.760703</td>\n",
       "      <td>21.945344</td>\n",
       "      <td>12.603615</td>\n",
       "      <td>...</td>\n",
       "      <td>2.207517</td>\n",
       "      <td>0.212426</td>\n",
       "      <td>-0.027474</td>\n",
       "      <td>-0.023514</td>\n",
       "      <td>-0.021955</td>\n",
       "      <td>-0.019566</td>\n",
       "      <td>-0.020335</td>\n",
       "      <td>0.035563</td>\n",
       "      <td>1.139890</td>\n",
       "      <td>3.561051</td>\n",
       "    </tr>\n",
       "    <tr>\n",
       "      <th>4</th>\n",
       "      <td>0.227550</td>\n",
       "      <td>0.677045</td>\n",
       "      <td>1.232711</td>\n",
       "      <td>3.970586</td>\n",
       "      <td>9.733421</td>\n",
       "      <td>22.426092</td>\n",
       "      <td>32.173011</td>\n",
       "      <td>30.227935</td>\n",
       "      <td>17.158100</td>\n",
       "      <td>6.234859</td>\n",
       "      <td>...</td>\n",
       "      <td>11.675836</td>\n",
       "      <td>1.426944</td>\n",
       "      <td>-0.031173</td>\n",
       "      <td>-0.030126</td>\n",
       "      <td>-0.024434</td>\n",
       "      <td>-0.022083</td>\n",
       "      <td>-0.022849</td>\n",
       "      <td>0.283401</td>\n",
       "      <td>6.087343</td>\n",
       "      <td>15.815843</td>\n",
       "    </tr>\n",
       "  </tbody>\n",
       "</table>\n",
       "<p>5 rows × 24 columns</p>\n",
       "</div>"
      ],
      "text/plain": [
       "Name           Cooling                                                         \\\n",
       "            2018-01-01 2018-02-01 2018-03-01 2018-04-01 2018-05-01 2018-06-01   \n",
       "building_id                                                                     \n",
       "0             4.535458   6.002228   9.153663  14.420216  19.858925  26.447049   \n",
       "1             1.805474   2.722429   4.550512   8.888773  14.714762  23.997343   \n",
       "2             0.631394   1.424839   2.879859   7.587852  14.484407  27.785799   \n",
       "3             2.560088   3.705572   6.084950  11.385499  17.682210  26.371654   \n",
       "4             0.227550   0.677045   1.232711   3.970586   9.733421  22.426092   \n",
       "\n",
       "Name                                                     ...    Heating  \\\n",
       "            2018-07-01 2018-08-01 2018-09-01 2018-10-01  ... 2018-03-01   \n",
       "building_id                                              ...              \n",
       "0            31.451484  30.309914  22.721187  15.244874  ...   0.572919   \n",
       "1            31.377067  30.032457  20.284910  10.774946  ...   4.340377   \n",
       "2            37.937318  36.070107  21.888065   9.628818  ...   7.776507   \n",
       "3            33.091536  31.760703  21.945344  12.603615  ...   2.207517   \n",
       "4            32.173011  30.227935  17.158100   6.234859  ...  11.675836   \n",
       "\n",
       "Name                                                                           \\\n",
       "            2018-04-01 2018-05-01 2018-06-01 2018-07-01 2018-08-01 2018-09-01   \n",
       "building_id                                                                     \n",
       "0             0.038899  -0.024420  -0.020415  -0.020082  -0.018092  -0.019666   \n",
       "1             0.466511  -0.028693  -0.024842  -0.022203  -0.019966  -0.021144   \n",
       "2             0.966353  -0.025439  -0.025940  -0.024834  -0.021619  -0.020184   \n",
       "3             0.212426  -0.027474  -0.023514  -0.021955  -0.019566  -0.020335   \n",
       "4             1.426944  -0.031173  -0.030126  -0.024434  -0.022083  -0.022849   \n",
       "\n",
       "Name                                          \n",
       "            2018-10-01 2018-11-01 2018-12-01  \n",
       "building_id                                   \n",
       "0            -0.003006   0.295710   1.100824  \n",
       "1             0.106169   2.178456   6.281199  \n",
       "2             0.313027   4.220110  11.262413  \n",
       "3             0.035563   1.139890   3.561051  \n",
       "4             0.283401   6.087343  15.815843  \n",
       "\n",
       "[5 rows x 24 columns]"
      ]
     },
     "execution_count": 32,
     "metadata": {},
     "output_type": "execute_result"
    }
   ],
   "source": [
    "monthly_predictions.head()"
   ]
  },
  {
   "attachments": {},
   "cell_type": "markdown",
   "metadata": {},
   "source": [
    "## Compare"
   ]
  },
  {
   "cell_type": "code",
   "execution_count": 39,
   "metadata": {},
   "outputs": [],
   "source": [
    "tfa = ubem.gis_features_df.bldg_footprint_area * ubem.gis_features_df.floor_count"
   ]
  },
  {
   "cell_type": "code",
   "execution_count": 49,
   "metadata": {},
   "outputs": [
    {
     "data": {
      "application/vnd.plotly.v1+json": {
       "config": {
        "plotlyServerURL": "https://plot.ly"
       },
       "data": [
        {
         "alignmentgroup": "True",
         "hovertemplate": "variable=wide_variable_0<br>x=%{x}<br>value=%{y}<extra></extra>",
         "legendgroup": "wide_variable_0",
         "marker": {
          "color": "#636efa",
          "pattern": {
           "shape": ""
          }
         },
         "name": "wide_variable_0",
         "offsetgroup": "wide_variable_0",
         "orientation": "v",
         "showlegend": true,
         "textposition": "auto",
         "type": "bar",
         "x": [
          0,
          1,
          2,
          3,
          4,
          5,
          6,
          7,
          8,
          9,
          10,
          11,
          12,
          13,
          14,
          15,
          16,
          17,
          18,
          19,
          20,
          21,
          22,
          23,
          24,
          25,
          26,
          27,
          28,
          29,
          30,
          31,
          32,
          33,
          34,
          35,
          36,
          37,
          38,
          39,
          40,
          41,
          42,
          43,
          44,
          45,
          46,
          47,
          48,
          49,
          50,
          51,
          52,
          53,
          54,
          55,
          56,
          57,
          58,
          59,
          60,
          61,
          62,
          63,
          64,
          65,
          66,
          67,
          68,
          69,
          70,
          71,
          72,
          73,
          74,
          75,
          76,
          77,
          78,
          79,
          80,
          81,
          82,
          83,
          84,
          85,
          86,
          87,
          88,
          89,
          90,
          91,
          92
         ],
         "xaxis": "x",
         "y": [
          58.50718847398686,
          47.0680786589627,
          49.405277215009015,
          53.126842767913,
          37.97671022085697,
          58.25277885189132,
          52.66547976201033,
          49.10568904821481,
          49.528842654206954,
          52.78727802993248,
          47.214029743139925,
          50.76370391684185,
          56.48452368221869,
          53.227894219157015,
          46.31924882974459,
          47.43654376430626,
          35.60184321074491,
          51.85690140269463,
          52.527142837383025,
          51.79351034456005,
          51.92016666448513,
          46.767289417348024,
          57.117641896589504,
          46.33916284204896,
          57.15769388416322,
          44.875645507665844,
          50.64006648418112,
          57.86895398120681,
          49.1623847395796,
          49.48449169316194,
          53.39327872126097,
          39.75919448100751,
          51.03319854230922,
          55.13651397627451,
          39.745945064913585,
          47.29467829065478,
          51.012337075918616,
          47.51692609633172,
          48.77424724182026,
          58.10046951611378,
          47.34917198251744,
          39.23006794855171,
          46.66803022680336,
          54.18678690464411,
          52.247147038987315,
          46.732798790963955,
          46.73774053899631,
          58.74049539573486,
          65.66188853568266,
          64.56140244342055,
          63.59857172133255,
          51.43393352927385,
          36.794774379619994,
          46.83689168189179,
          47.25613069025177,
          46.272016805115086,
          53.432847460403146,
          55.37903499949337,
          47.04339439601966,
          56.87439922911964,
          58.681407424182275,
          52.795746328280586,
          59.409543256908265,
          51.32071649233006,
          47.24139635125973,
          43.19511400243687,
          55.511855170920754,
          47.19119083323588,
          48.7174326028574,
          43.633464407105535,
          58.598518617493404,
          52.48200320505756,
          51.46686313210559,
          58.22675123399764,
          62.36520034515226,
          51.348793958817105,
          52.94341860197792,
          59.04238090552035,
          49.48193198381356,
          58.11886693527865,
          44.93744600803584,
          47.616001829710505,
          49.59597844310824,
          50.447315488113006,
          51.06557832490527,
          54.39440426516518,
          52.682775140766914,
          51.02851640427955,
          46.5966357948583,
          46.18755642407824,
          53.01945592971407,
          47.07729981012412,
          36.487819380924094
         ],
         "yaxis": "y"
        },
        {
         "alignmentgroup": "True",
         "hovertemplate": "variable=wide_variable_1<br>x=%{x}<br>value=%{y}<extra></extra>",
         "legendgroup": "wide_variable_1",
         "marker": {
          "color": "#EF553B",
          "pattern": {
           "shape": ""
          }
         },
         "name": "wide_variable_1",
         "offsetgroup": "wide_variable_1",
         "orientation": "v",
         "showlegend": true,
         "textposition": "auto",
         "type": "bar",
         "x": [
          0,
          1,
          2,
          3,
          4,
          5,
          6,
          7,
          8,
          9,
          10,
          11,
          12,
          13,
          14,
          15,
          16,
          17,
          18,
          19,
          20,
          21,
          22,
          23,
          24,
          25,
          26,
          27,
          28,
          29,
          30,
          31,
          32,
          33,
          34,
          35,
          36,
          37,
          38,
          39,
          40,
          41,
          42,
          43,
          44,
          45,
          46,
          47,
          48,
          49,
          50,
          51,
          52,
          53,
          54,
          55,
          56,
          57,
          58,
          59,
          60,
          61,
          62,
          63,
          64,
          65,
          66,
          67,
          68,
          69,
          70,
          71,
          72,
          73,
          74,
          75,
          76,
          77,
          78,
          79,
          80,
          81,
          82,
          83,
          84,
          85,
          86,
          87,
          88,
          89,
          90,
          91,
          92
         ],
         "xaxis": "x",
         "y": [
          167.157213,
          124.40817600000001,
          123.545294,
          107.16681400000002,
          124.08081200000001,
          130.932784,
          150.10377200000002,
          139.19023899999996,
          93.999181,
          150.187345,
          102.648754,
          87.691172,
          76.530734,
          171.01784199999997,
          77.987312,
          120.82255999999998,
          115.48103000000002,
          100.30899600000001,
          107.155395,
          99.802444,
          100.412715,
          151.756771,
          161.883342,
          150.773312,
          154.174902,
          162.119742,
          141.95962700000004,
          101.55907900000001,
          83.74993,
          175.42039200000002,
          108.720074,
          106.627976,
          145.672679,
          128.183363,
          114.766191,
          0,
          152.44936099999998,
          93.66733099999999,
          94.60639400000001,
          100.04672400000001,
          96.730177,
          110.77565100000001,
          101.62570699999999,
          152.74472699999998,
          94.57046299999999,
          124.96824999999998,
          103.04923199999999,
          96.25342,
          122.978543,
          97.32013500000001,
          130.82822699999997,
          149.90019500000002,
          101.76336900000001,
          143.655044,
          162.91421799999998,
          98.456421,
          118.48553100000001,
          112.46871200000001,
          133.525505,
          91.71152699999999,
          131.62611500000003,
          125.76896700000002,
          117.85320199999998,
          100.40946299999999,
          137.73318599999996,
          121.092779,
          97.74179699999999,
          118.42704299999998,
          117.25645300000001,
          129.98725900000002,
          136.66433,
          81.101663,
          139.721484,
          111.560751,
          99.873416,
          163.33811500000002,
          102.95912700000001,
          156.83405699999997,
          137.61000700000002,
          86.101974,
          113.61637199999998,
          102.87018799999998,
          124.80424500000001,
          165.86833299999998,
          129.888599,
          118.18178300000001,
          174.25259,
          134.22292,
          87.72859700000001,
          153.61727100000002,
          112.34192900000001,
          97.597765,
          122.11679999999998
         ],
         "yaxis": "y"
        }
       ],
       "layout": {
        "barmode": "group",
        "legend": {
         "title": {
          "text": "variable"
         },
         "tracegroupgap": 0
        },
        "template": {
         "data": {
          "bar": [
           {
            "error_x": {
             "color": "#2a3f5f"
            },
            "error_y": {
             "color": "#2a3f5f"
            },
            "marker": {
             "line": {
              "color": "#E5ECF6",
              "width": 0.5
             },
             "pattern": {
              "fillmode": "overlay",
              "size": 10,
              "solidity": 0.2
             }
            },
            "type": "bar"
           }
          ],
          "barpolar": [
           {
            "marker": {
             "line": {
              "color": "#E5ECF6",
              "width": 0.5
             },
             "pattern": {
              "fillmode": "overlay",
              "size": 10,
              "solidity": 0.2
             }
            },
            "type": "barpolar"
           }
          ],
          "carpet": [
           {
            "aaxis": {
             "endlinecolor": "#2a3f5f",
             "gridcolor": "white",
             "linecolor": "white",
             "minorgridcolor": "white",
             "startlinecolor": "#2a3f5f"
            },
            "baxis": {
             "endlinecolor": "#2a3f5f",
             "gridcolor": "white",
             "linecolor": "white",
             "minorgridcolor": "white",
             "startlinecolor": "#2a3f5f"
            },
            "type": "carpet"
           }
          ],
          "choropleth": [
           {
            "colorbar": {
             "outlinewidth": 0,
             "ticks": ""
            },
            "type": "choropleth"
           }
          ],
          "contour": [
           {
            "colorbar": {
             "outlinewidth": 0,
             "ticks": ""
            },
            "colorscale": [
             [
              0,
              "#0d0887"
             ],
             [
              0.1111111111111111,
              "#46039f"
             ],
             [
              0.2222222222222222,
              "#7201a8"
             ],
             [
              0.3333333333333333,
              "#9c179e"
             ],
             [
              0.4444444444444444,
              "#bd3786"
             ],
             [
              0.5555555555555556,
              "#d8576b"
             ],
             [
              0.6666666666666666,
              "#ed7953"
             ],
             [
              0.7777777777777778,
              "#fb9f3a"
             ],
             [
              0.8888888888888888,
              "#fdca26"
             ],
             [
              1,
              "#f0f921"
             ]
            ],
            "type": "contour"
           }
          ],
          "contourcarpet": [
           {
            "colorbar": {
             "outlinewidth": 0,
             "ticks": ""
            },
            "type": "contourcarpet"
           }
          ],
          "heatmap": [
           {
            "colorbar": {
             "outlinewidth": 0,
             "ticks": ""
            },
            "colorscale": [
             [
              0,
              "#0d0887"
             ],
             [
              0.1111111111111111,
              "#46039f"
             ],
             [
              0.2222222222222222,
              "#7201a8"
             ],
             [
              0.3333333333333333,
              "#9c179e"
             ],
             [
              0.4444444444444444,
              "#bd3786"
             ],
             [
              0.5555555555555556,
              "#d8576b"
             ],
             [
              0.6666666666666666,
              "#ed7953"
             ],
             [
              0.7777777777777778,
              "#fb9f3a"
             ],
             [
              0.8888888888888888,
              "#fdca26"
             ],
             [
              1,
              "#f0f921"
             ]
            ],
            "type": "heatmap"
           }
          ],
          "heatmapgl": [
           {
            "colorbar": {
             "outlinewidth": 0,
             "ticks": ""
            },
            "colorscale": [
             [
              0,
              "#0d0887"
             ],
             [
              0.1111111111111111,
              "#46039f"
             ],
             [
              0.2222222222222222,
              "#7201a8"
             ],
             [
              0.3333333333333333,
              "#9c179e"
             ],
             [
              0.4444444444444444,
              "#bd3786"
             ],
             [
              0.5555555555555556,
              "#d8576b"
             ],
             [
              0.6666666666666666,
              "#ed7953"
             ],
             [
              0.7777777777777778,
              "#fb9f3a"
             ],
             [
              0.8888888888888888,
              "#fdca26"
             ],
             [
              1,
              "#f0f921"
             ]
            ],
            "type": "heatmapgl"
           }
          ],
          "histogram": [
           {
            "marker": {
             "pattern": {
              "fillmode": "overlay",
              "size": 10,
              "solidity": 0.2
             }
            },
            "type": "histogram"
           }
          ],
          "histogram2d": [
           {
            "colorbar": {
             "outlinewidth": 0,
             "ticks": ""
            },
            "colorscale": [
             [
              0,
              "#0d0887"
             ],
             [
              0.1111111111111111,
              "#46039f"
             ],
             [
              0.2222222222222222,
              "#7201a8"
             ],
             [
              0.3333333333333333,
              "#9c179e"
             ],
             [
              0.4444444444444444,
              "#bd3786"
             ],
             [
              0.5555555555555556,
              "#d8576b"
             ],
             [
              0.6666666666666666,
              "#ed7953"
             ],
             [
              0.7777777777777778,
              "#fb9f3a"
             ],
             [
              0.8888888888888888,
              "#fdca26"
             ],
             [
              1,
              "#f0f921"
             ]
            ],
            "type": "histogram2d"
           }
          ],
          "histogram2dcontour": [
           {
            "colorbar": {
             "outlinewidth": 0,
             "ticks": ""
            },
            "colorscale": [
             [
              0,
              "#0d0887"
             ],
             [
              0.1111111111111111,
              "#46039f"
             ],
             [
              0.2222222222222222,
              "#7201a8"
             ],
             [
              0.3333333333333333,
              "#9c179e"
             ],
             [
              0.4444444444444444,
              "#bd3786"
             ],
             [
              0.5555555555555556,
              "#d8576b"
             ],
             [
              0.6666666666666666,
              "#ed7953"
             ],
             [
              0.7777777777777778,
              "#fb9f3a"
             ],
             [
              0.8888888888888888,
              "#fdca26"
             ],
             [
              1,
              "#f0f921"
             ]
            ],
            "type": "histogram2dcontour"
           }
          ],
          "mesh3d": [
           {
            "colorbar": {
             "outlinewidth": 0,
             "ticks": ""
            },
            "type": "mesh3d"
           }
          ],
          "parcoords": [
           {
            "line": {
             "colorbar": {
              "outlinewidth": 0,
              "ticks": ""
             }
            },
            "type": "parcoords"
           }
          ],
          "pie": [
           {
            "automargin": true,
            "type": "pie"
           }
          ],
          "scatter": [
           {
            "fillpattern": {
             "fillmode": "overlay",
             "size": 10,
             "solidity": 0.2
            },
            "type": "scatter"
           }
          ],
          "scatter3d": [
           {
            "line": {
             "colorbar": {
              "outlinewidth": 0,
              "ticks": ""
             }
            },
            "marker": {
             "colorbar": {
              "outlinewidth": 0,
              "ticks": ""
             }
            },
            "type": "scatter3d"
           }
          ],
          "scattercarpet": [
           {
            "marker": {
             "colorbar": {
              "outlinewidth": 0,
              "ticks": ""
             }
            },
            "type": "scattercarpet"
           }
          ],
          "scattergeo": [
           {
            "marker": {
             "colorbar": {
              "outlinewidth": 0,
              "ticks": ""
             }
            },
            "type": "scattergeo"
           }
          ],
          "scattergl": [
           {
            "marker": {
             "colorbar": {
              "outlinewidth": 0,
              "ticks": ""
             }
            },
            "type": "scattergl"
           }
          ],
          "scattermapbox": [
           {
            "marker": {
             "colorbar": {
              "outlinewidth": 0,
              "ticks": ""
             }
            },
            "type": "scattermapbox"
           }
          ],
          "scatterpolar": [
           {
            "marker": {
             "colorbar": {
              "outlinewidth": 0,
              "ticks": ""
             }
            },
            "type": "scatterpolar"
           }
          ],
          "scatterpolargl": [
           {
            "marker": {
             "colorbar": {
              "outlinewidth": 0,
              "ticks": ""
             }
            },
            "type": "scatterpolargl"
           }
          ],
          "scatterternary": [
           {
            "marker": {
             "colorbar": {
              "outlinewidth": 0,
              "ticks": ""
             }
            },
            "type": "scatterternary"
           }
          ],
          "surface": [
           {
            "colorbar": {
             "outlinewidth": 0,
             "ticks": ""
            },
            "colorscale": [
             [
              0,
              "#0d0887"
             ],
             [
              0.1111111111111111,
              "#46039f"
             ],
             [
              0.2222222222222222,
              "#7201a8"
             ],
             [
              0.3333333333333333,
              "#9c179e"
             ],
             [
              0.4444444444444444,
              "#bd3786"
             ],
             [
              0.5555555555555556,
              "#d8576b"
             ],
             [
              0.6666666666666666,
              "#ed7953"
             ],
             [
              0.7777777777777778,
              "#fb9f3a"
             ],
             [
              0.8888888888888888,
              "#fdca26"
             ],
             [
              1,
              "#f0f921"
             ]
            ],
            "type": "surface"
           }
          ],
          "table": [
           {
            "cells": {
             "fill": {
              "color": "#EBF0F8"
             },
             "line": {
              "color": "white"
             }
            },
            "header": {
             "fill": {
              "color": "#C8D4E3"
             },
             "line": {
              "color": "white"
             }
            },
            "type": "table"
           }
          ]
         },
         "layout": {
          "annotationdefaults": {
           "arrowcolor": "#2a3f5f",
           "arrowhead": 0,
           "arrowwidth": 1
          },
          "autotypenumbers": "strict",
          "coloraxis": {
           "colorbar": {
            "outlinewidth": 0,
            "ticks": ""
           }
          },
          "colorscale": {
           "diverging": [
            [
             0,
             "#8e0152"
            ],
            [
             0.1,
             "#c51b7d"
            ],
            [
             0.2,
             "#de77ae"
            ],
            [
             0.3,
             "#f1b6da"
            ],
            [
             0.4,
             "#fde0ef"
            ],
            [
             0.5,
             "#f7f7f7"
            ],
            [
             0.6,
             "#e6f5d0"
            ],
            [
             0.7,
             "#b8e186"
            ],
            [
             0.8,
             "#7fbc41"
            ],
            [
             0.9,
             "#4d9221"
            ],
            [
             1,
             "#276419"
            ]
           ],
           "sequential": [
            [
             0,
             "#0d0887"
            ],
            [
             0.1111111111111111,
             "#46039f"
            ],
            [
             0.2222222222222222,
             "#7201a8"
            ],
            [
             0.3333333333333333,
             "#9c179e"
            ],
            [
             0.4444444444444444,
             "#bd3786"
            ],
            [
             0.5555555555555556,
             "#d8576b"
            ],
            [
             0.6666666666666666,
             "#ed7953"
            ],
            [
             0.7777777777777778,
             "#fb9f3a"
            ],
            [
             0.8888888888888888,
             "#fdca26"
            ],
            [
             1,
             "#f0f921"
            ]
           ],
           "sequentialminus": [
            [
             0,
             "#0d0887"
            ],
            [
             0.1111111111111111,
             "#46039f"
            ],
            [
             0.2222222222222222,
             "#7201a8"
            ],
            [
             0.3333333333333333,
             "#9c179e"
            ],
            [
             0.4444444444444444,
             "#bd3786"
            ],
            [
             0.5555555555555556,
             "#d8576b"
            ],
            [
             0.6666666666666666,
             "#ed7953"
            ],
            [
             0.7777777777777778,
             "#fb9f3a"
            ],
            [
             0.8888888888888888,
             "#fdca26"
            ],
            [
             1,
             "#f0f921"
            ]
           ]
          },
          "colorway": [
           "#636efa",
           "#EF553B",
           "#00cc96",
           "#ab63fa",
           "#FFA15A",
           "#19d3f3",
           "#FF6692",
           "#B6E880",
           "#FF97FF",
           "#FECB52"
          ],
          "font": {
           "color": "#2a3f5f"
          },
          "geo": {
           "bgcolor": "white",
           "lakecolor": "white",
           "landcolor": "#E5ECF6",
           "showlakes": true,
           "showland": true,
           "subunitcolor": "white"
          },
          "hoverlabel": {
           "align": "left"
          },
          "hovermode": "closest",
          "mapbox": {
           "style": "light"
          },
          "paper_bgcolor": "white",
          "plot_bgcolor": "#E5ECF6",
          "polar": {
           "angularaxis": {
            "gridcolor": "white",
            "linecolor": "white",
            "ticks": ""
           },
           "bgcolor": "#E5ECF6",
           "radialaxis": {
            "gridcolor": "white",
            "linecolor": "white",
            "ticks": ""
           }
          },
          "scene": {
           "xaxis": {
            "backgroundcolor": "#E5ECF6",
            "gridcolor": "white",
            "gridwidth": 2,
            "linecolor": "white",
            "showbackground": true,
            "ticks": "",
            "zerolinecolor": "white"
           },
           "yaxis": {
            "backgroundcolor": "#E5ECF6",
            "gridcolor": "white",
            "gridwidth": 2,
            "linecolor": "white",
            "showbackground": true,
            "ticks": "",
            "zerolinecolor": "white"
           },
           "zaxis": {
            "backgroundcolor": "#E5ECF6",
            "gridcolor": "white",
            "gridwidth": 2,
            "linecolor": "white",
            "showbackground": true,
            "ticks": "",
            "zerolinecolor": "white"
           }
          },
          "shapedefaults": {
           "line": {
            "color": "#2a3f5f"
           }
          },
          "ternary": {
           "aaxis": {
            "gridcolor": "white",
            "linecolor": "white",
            "ticks": ""
           },
           "baxis": {
            "gridcolor": "white",
            "linecolor": "white",
            "ticks": ""
           },
           "bgcolor": "#E5ECF6",
           "caxis": {
            "gridcolor": "white",
            "linecolor": "white",
            "ticks": ""
           }
          },
          "title": {
           "x": 0.05
          },
          "xaxis": {
           "automargin": true,
           "gridcolor": "white",
           "linecolor": "white",
           "ticks": "",
           "title": {
            "standoff": 15
           },
           "zerolinecolor": "white",
           "zerolinewidth": 2
          },
          "yaxis": {
           "automargin": true,
           "gridcolor": "white",
           "linecolor": "white",
           "ticks": "",
           "title": {
            "standoff": 15
           },
           "zerolinecolor": "white",
           "zerolinewidth": 2
          }
         }
        },
        "title": {
         "text": "Florianopolis Cooling with COP: CS (red), surrogate (blue)"
        },
        "xaxis": {
         "anchor": "y",
         "domain": [
          0,
          1
         ],
         "title": {
          "text": "x"
         }
        },
        "yaxis": {
         "anchor": "x",
         "domain": [
          0,
          1
         ],
         "title": {
          "text": "value"
         }
        }
       }
      }
     },
     "metadata": {},
     "output_type": "display_data"
    }
   ],
   "source": [
    "# px.bar(x=annual_predictions.index, y=annual_predictions[\"Cooling\"], title=\"Surrogate\")\n",
    "fig = px.bar(\n",
    "    x=annual_predictions.index,\n",
    "    y=[\n",
    "        annual_predictions.Cooling.divide(COP_COOLING),\n",
    "        # umi_df[umi_df[\"load\"] == \"cooling\"][\"annual\"].divide(tfa, axis=0),\n",
    "        CS_building_results['cooling'].sum(axis=1),\n",
    "    ],\n",
    "    title=\"Florianopolis Cooling with COP: CS (red), surrogate (blue)\",\n",
    "    barmode=\"group\"\n",
    ")\n",
    "fig.show()"
   ]
  },
  {
   "cell_type": "code",
   "execution_count": 44,
   "metadata": {},
   "outputs": [
    {
     "data": {
      "application/vnd.plotly.v1+json": {
       "config": {
        "plotlyServerURL": "https://plot.ly"
       },
       "data": [
        {
         "alignmentgroup": "True",
         "hovertemplate": "variable=wide_variable_0<br>x=%{x}<br>value=%{y}<extra></extra>",
         "legendgroup": "wide_variable_0",
         "marker": {
          "color": "#636efa",
          "pattern": {
           "shape": ""
          }
         },
         "name": "wide_variable_0",
         "offsetgroup": "wide_variable_0",
         "orientation": "v",
         "showlegend": true,
         "textposition": "auto",
         "type": "bar",
         "x": [
          0,
          1,
          2,
          3,
          4,
          5,
          6,
          7,
          8,
          9,
          10,
          11,
          12,
          13,
          14,
          15,
          16,
          17,
          18,
          19,
          20,
          21,
          22,
          23,
          24,
          25,
          26,
          27,
          28,
          29,
          30,
          31,
          32,
          33,
          34,
          35,
          36,
          37,
          38,
          39,
          40,
          41,
          42,
          43,
          44,
          45,
          46,
          47,
          48,
          49,
          50,
          51,
          52,
          53,
          54,
          55,
          56,
          57,
          58,
          59,
          60,
          61,
          62,
          63,
          64,
          65,
          66,
          67,
          68,
          69,
          70,
          71,
          72,
          73,
          74,
          75,
          76,
          77,
          78,
          79,
          80,
          81,
          82,
          83,
          84,
          85,
          86,
          87,
          88,
          89,
          90,
          91,
          92
         ],
         "xaxis": "x",
         "y": [
          8.395528002214219,
          43.909897136584654,
          76.42587657195492,
          24.984321068843894,
          108.16921784149845,
          5.021097625429584,
          24.859720589552904,
          36.025812698848185,
          18.52996259497344,
          45.59662913000202,
          46.42779466990194,
          23.38738135507054,
          14.927912497795594,
          17.43448650784214,
          37.02601091424987,
          47.42478691908408,
          80.37565814878712,
          26.409212652026735,
          46.944710266836495,
          36.043154994549006,
          40.027543633074636,
          38.51788452954175,
          9.041062729304407,
          35.71067957480839,
          10.071490276911726,
          30.318841106726765,
          38.16650257602276,
          8.530944970860558,
          73.30513301617584,
          74.73339914332071,
          32.18214046058132,
          120.15731006848127,
          47.814567163879794,
          27.743916661997947,
          119.63738977010314,
          62.07333036327191,
          26.602789549721255,
          55.71114346858791,
          63.79895211735616,
          74.11057325642193,
          54.49705440480009,
          108.91682380184996,
          59.487990100626185,
          24.626584351699535,
          53.43769120005442,
          52.75424842196918,
          51.16563766440344,
          61.743163143767184,
          84.86563564624488,
          79.43141429126628,
          75.29263207941749,
          34.34813256483446,
          91.33311366572836,
          47.849367653906256,
          46.97563012054312,
          53.19407812145459,
          26.70848324534663,
          14.160595572937057,
          48.16095276096561,
          12.163238263254483,
          5.9436618522124265,
          189.49108896937764,
          82.6506543775805,
          77.1481234147068,
          160.06195010751605,
          144.5530692339577,
          93.888819309114,
          171.70535562540127,
          179.22423020521776,
          147.55386476535637,
          61.55167593345485,
          201.92578675135346,
          189.53576777288242,
          103.07930036831162,
          93.59611218996126,
          82.00564535414584,
          90.22998318931694,
          116.16936414473041,
          73.61309967819308,
          5.684953231324069,
          153.86209275623432,
          178.19074733075308,
          68.92781562377631,
          78.30044388230051,
          82.03785661991105,
          62.49361955460663,
          53.66495033331477,
          29.95707118553128,
          61.30375380776195,
          44.4920264772378,
          26.85765466165626,
          41.31139059298184,
          104.94307246881304
         ],
         "yaxis": "y"
        },
        {
         "alignmentgroup": "True",
         "hovertemplate": "variable=wide_variable_1<br>x=%{x}<br>value=%{y}<extra></extra>",
         "legendgroup": "wide_variable_1",
         "marker": {
          "color": "#EF553B",
          "pattern": {
           "shape": ""
          }
         },
         "name": "wide_variable_1",
         "offsetgroup": "wide_variable_1",
         "orientation": "v",
         "showlegend": true,
         "textposition": "auto",
         "type": "bar",
         "x": [
          0,
          1,
          2,
          3,
          4,
          5,
          6,
          7,
          8,
          9,
          10,
          11,
          12,
          13,
          14,
          15,
          16,
          17,
          18,
          19,
          20,
          21,
          22,
          23,
          24,
          25,
          26,
          27,
          28,
          29,
          30,
          31,
          32,
          33,
          34,
          35,
          36,
          37,
          38,
          39,
          40,
          41,
          42,
          43,
          44,
          45,
          46,
          47,
          48,
          49,
          50,
          51,
          52,
          53,
          54,
          55,
          56,
          57,
          58,
          59,
          60,
          61,
          62,
          63,
          64,
          65,
          66,
          67,
          68,
          69,
          70,
          71,
          72,
          73,
          74,
          75,
          76,
          77,
          78,
          79,
          80,
          81,
          82,
          83,
          84,
          85,
          86,
          87,
          88,
          89,
          90,
          91,
          92
         ],
         "xaxis": "x",
         "y": [
          451.28901699999994,
          306.479315,
          294.54220799999996,
          405.474845,
          300.904049,
          211.040884,
          445.29417400000006,
          384.126622,
          212.087879,
          342.469778,
          243.17319400000002,
          104.592816,
          158.30906199999998,
          540.263559,
          331.140305,
          374.1746609999999,
          166.169435,
          51.26939500000001,
          619.2664000000001,
          46.859677,
          233.27006300000002,
          458.56117499999993,
          472.03983199999993,
          450.92917,
          326.751505,
          413.004803,
          303.161721,
          232.758222,
          179.69527399999998,
          578.221412,
          640.8770529999999,
          103.25173000000002,
          391.38365500000003,
          332.99338100000006,
          444.99658999999997,
          0,
          326.20295000000004,
          189.00339000000002,
          226.64403199999998,
          266.987571,
          132.219673,
          109.158641,
          74.148765,
          427.32214999999997,
          430.47912399999996,
          319.090922,
          332.29225099999996,
          224.584835,
          297.10467,
          403.71864700000003,
          835.552186,
          443.69528199999996,
          69.091882,
          305.14785699999993,
          519.174387,
          66.36737099999999,
          157.95627,
          148.764533,
          358.697041,
          114.11051199999997,
          352.93861499999997,
          720.8449840000001,
          293.736166,
          230.918981,
          376.455639,
          205.930947,
          101.18481399999999,
          196.628831,
          276.86392,
          323.482883,
          346.38325299999997,
          469.192046,
          389.05600100000004,
          149.539496,
          53.579966000000006,
          370.419627,
          192.709815,
          485.6454729999999,
          279.09057099999995,
          271.605289,
          280.831782,
          72.93413199999999,
          299.82742,
          383.393036,
          230.150278,
          283.9064,
          627.102457,
          341.00747700000005,
          196.96054900000001,
          469.003734,
          276.11512700000003,
          436.9969689999999,
          381.00423600000005
         ],
         "yaxis": "y"
        }
       ],
       "layout": {
        "barmode": "group",
        "legend": {
         "title": {
          "text": "variable"
         },
         "tracegroupgap": 0
        },
        "template": {
         "data": {
          "bar": [
           {
            "error_x": {
             "color": "#2a3f5f"
            },
            "error_y": {
             "color": "#2a3f5f"
            },
            "marker": {
             "line": {
              "color": "#E5ECF6",
              "width": 0.5
             },
             "pattern": {
              "fillmode": "overlay",
              "size": 10,
              "solidity": 0.2
             }
            },
            "type": "bar"
           }
          ],
          "barpolar": [
           {
            "marker": {
             "line": {
              "color": "#E5ECF6",
              "width": 0.5
             },
             "pattern": {
              "fillmode": "overlay",
              "size": 10,
              "solidity": 0.2
             }
            },
            "type": "barpolar"
           }
          ],
          "carpet": [
           {
            "aaxis": {
             "endlinecolor": "#2a3f5f",
             "gridcolor": "white",
             "linecolor": "white",
             "minorgridcolor": "white",
             "startlinecolor": "#2a3f5f"
            },
            "baxis": {
             "endlinecolor": "#2a3f5f",
             "gridcolor": "white",
             "linecolor": "white",
             "minorgridcolor": "white",
             "startlinecolor": "#2a3f5f"
            },
            "type": "carpet"
           }
          ],
          "choropleth": [
           {
            "colorbar": {
             "outlinewidth": 0,
             "ticks": ""
            },
            "type": "choropleth"
           }
          ],
          "contour": [
           {
            "colorbar": {
             "outlinewidth": 0,
             "ticks": ""
            },
            "colorscale": [
             [
              0,
              "#0d0887"
             ],
             [
              0.1111111111111111,
              "#46039f"
             ],
             [
              0.2222222222222222,
              "#7201a8"
             ],
             [
              0.3333333333333333,
              "#9c179e"
             ],
             [
              0.4444444444444444,
              "#bd3786"
             ],
             [
              0.5555555555555556,
              "#d8576b"
             ],
             [
              0.6666666666666666,
              "#ed7953"
             ],
             [
              0.7777777777777778,
              "#fb9f3a"
             ],
             [
              0.8888888888888888,
              "#fdca26"
             ],
             [
              1,
              "#f0f921"
             ]
            ],
            "type": "contour"
           }
          ],
          "contourcarpet": [
           {
            "colorbar": {
             "outlinewidth": 0,
             "ticks": ""
            },
            "type": "contourcarpet"
           }
          ],
          "heatmap": [
           {
            "colorbar": {
             "outlinewidth": 0,
             "ticks": ""
            },
            "colorscale": [
             [
              0,
              "#0d0887"
             ],
             [
              0.1111111111111111,
              "#46039f"
             ],
             [
              0.2222222222222222,
              "#7201a8"
             ],
             [
              0.3333333333333333,
              "#9c179e"
             ],
             [
              0.4444444444444444,
              "#bd3786"
             ],
             [
              0.5555555555555556,
              "#d8576b"
             ],
             [
              0.6666666666666666,
              "#ed7953"
             ],
             [
              0.7777777777777778,
              "#fb9f3a"
             ],
             [
              0.8888888888888888,
              "#fdca26"
             ],
             [
              1,
              "#f0f921"
             ]
            ],
            "type": "heatmap"
           }
          ],
          "heatmapgl": [
           {
            "colorbar": {
             "outlinewidth": 0,
             "ticks": ""
            },
            "colorscale": [
             [
              0,
              "#0d0887"
             ],
             [
              0.1111111111111111,
              "#46039f"
             ],
             [
              0.2222222222222222,
              "#7201a8"
             ],
             [
              0.3333333333333333,
              "#9c179e"
             ],
             [
              0.4444444444444444,
              "#bd3786"
             ],
             [
              0.5555555555555556,
              "#d8576b"
             ],
             [
              0.6666666666666666,
              "#ed7953"
             ],
             [
              0.7777777777777778,
              "#fb9f3a"
             ],
             [
              0.8888888888888888,
              "#fdca26"
             ],
             [
              1,
              "#f0f921"
             ]
            ],
            "type": "heatmapgl"
           }
          ],
          "histogram": [
           {
            "marker": {
             "pattern": {
              "fillmode": "overlay",
              "size": 10,
              "solidity": 0.2
             }
            },
            "type": "histogram"
           }
          ],
          "histogram2d": [
           {
            "colorbar": {
             "outlinewidth": 0,
             "ticks": ""
            },
            "colorscale": [
             [
              0,
              "#0d0887"
             ],
             [
              0.1111111111111111,
              "#46039f"
             ],
             [
              0.2222222222222222,
              "#7201a8"
             ],
             [
              0.3333333333333333,
              "#9c179e"
             ],
             [
              0.4444444444444444,
              "#bd3786"
             ],
             [
              0.5555555555555556,
              "#d8576b"
             ],
             [
              0.6666666666666666,
              "#ed7953"
             ],
             [
              0.7777777777777778,
              "#fb9f3a"
             ],
             [
              0.8888888888888888,
              "#fdca26"
             ],
             [
              1,
              "#f0f921"
             ]
            ],
            "type": "histogram2d"
           }
          ],
          "histogram2dcontour": [
           {
            "colorbar": {
             "outlinewidth": 0,
             "ticks": ""
            },
            "colorscale": [
             [
              0,
              "#0d0887"
             ],
             [
              0.1111111111111111,
              "#46039f"
             ],
             [
              0.2222222222222222,
              "#7201a8"
             ],
             [
              0.3333333333333333,
              "#9c179e"
             ],
             [
              0.4444444444444444,
              "#bd3786"
             ],
             [
              0.5555555555555556,
              "#d8576b"
             ],
             [
              0.6666666666666666,
              "#ed7953"
             ],
             [
              0.7777777777777778,
              "#fb9f3a"
             ],
             [
              0.8888888888888888,
              "#fdca26"
             ],
             [
              1,
              "#f0f921"
             ]
            ],
            "type": "histogram2dcontour"
           }
          ],
          "mesh3d": [
           {
            "colorbar": {
             "outlinewidth": 0,
             "ticks": ""
            },
            "type": "mesh3d"
           }
          ],
          "parcoords": [
           {
            "line": {
             "colorbar": {
              "outlinewidth": 0,
              "ticks": ""
             }
            },
            "type": "parcoords"
           }
          ],
          "pie": [
           {
            "automargin": true,
            "type": "pie"
           }
          ],
          "scatter": [
           {
            "fillpattern": {
             "fillmode": "overlay",
             "size": 10,
             "solidity": 0.2
            },
            "type": "scatter"
           }
          ],
          "scatter3d": [
           {
            "line": {
             "colorbar": {
              "outlinewidth": 0,
              "ticks": ""
             }
            },
            "marker": {
             "colorbar": {
              "outlinewidth": 0,
              "ticks": ""
             }
            },
            "type": "scatter3d"
           }
          ],
          "scattercarpet": [
           {
            "marker": {
             "colorbar": {
              "outlinewidth": 0,
              "ticks": ""
             }
            },
            "type": "scattercarpet"
           }
          ],
          "scattergeo": [
           {
            "marker": {
             "colorbar": {
              "outlinewidth": 0,
              "ticks": ""
             }
            },
            "type": "scattergeo"
           }
          ],
          "scattergl": [
           {
            "marker": {
             "colorbar": {
              "outlinewidth": 0,
              "ticks": ""
             }
            },
            "type": "scattergl"
           }
          ],
          "scattermapbox": [
           {
            "marker": {
             "colorbar": {
              "outlinewidth": 0,
              "ticks": ""
             }
            },
            "type": "scattermapbox"
           }
          ],
          "scatterpolar": [
           {
            "marker": {
             "colorbar": {
              "outlinewidth": 0,
              "ticks": ""
             }
            },
            "type": "scatterpolar"
           }
          ],
          "scatterpolargl": [
           {
            "marker": {
             "colorbar": {
              "outlinewidth": 0,
              "ticks": ""
             }
            },
            "type": "scatterpolargl"
           }
          ],
          "scatterternary": [
           {
            "marker": {
             "colorbar": {
              "outlinewidth": 0,
              "ticks": ""
             }
            },
            "type": "scatterternary"
           }
          ],
          "surface": [
           {
            "colorbar": {
             "outlinewidth": 0,
             "ticks": ""
            },
            "colorscale": [
             [
              0,
              "#0d0887"
             ],
             [
              0.1111111111111111,
              "#46039f"
             ],
             [
              0.2222222222222222,
              "#7201a8"
             ],
             [
              0.3333333333333333,
              "#9c179e"
             ],
             [
              0.4444444444444444,
              "#bd3786"
             ],
             [
              0.5555555555555556,
              "#d8576b"
             ],
             [
              0.6666666666666666,
              "#ed7953"
             ],
             [
              0.7777777777777778,
              "#fb9f3a"
             ],
             [
              0.8888888888888888,
              "#fdca26"
             ],
             [
              1,
              "#f0f921"
             ]
            ],
            "type": "surface"
           }
          ],
          "table": [
           {
            "cells": {
             "fill": {
              "color": "#EBF0F8"
             },
             "line": {
              "color": "white"
             }
            },
            "header": {
             "fill": {
              "color": "#C8D4E3"
             },
             "line": {
              "color": "white"
             }
            },
            "type": "table"
           }
          ]
         },
         "layout": {
          "annotationdefaults": {
           "arrowcolor": "#2a3f5f",
           "arrowhead": 0,
           "arrowwidth": 1
          },
          "autotypenumbers": "strict",
          "coloraxis": {
           "colorbar": {
            "outlinewidth": 0,
            "ticks": ""
           }
          },
          "colorscale": {
           "diverging": [
            [
             0,
             "#8e0152"
            ],
            [
             0.1,
             "#c51b7d"
            ],
            [
             0.2,
             "#de77ae"
            ],
            [
             0.3,
             "#f1b6da"
            ],
            [
             0.4,
             "#fde0ef"
            ],
            [
             0.5,
             "#f7f7f7"
            ],
            [
             0.6,
             "#e6f5d0"
            ],
            [
             0.7,
             "#b8e186"
            ],
            [
             0.8,
             "#7fbc41"
            ],
            [
             0.9,
             "#4d9221"
            ],
            [
             1,
             "#276419"
            ]
           ],
           "sequential": [
            [
             0,
             "#0d0887"
            ],
            [
             0.1111111111111111,
             "#46039f"
            ],
            [
             0.2222222222222222,
             "#7201a8"
            ],
            [
             0.3333333333333333,
             "#9c179e"
            ],
            [
             0.4444444444444444,
             "#bd3786"
            ],
            [
             0.5555555555555556,
             "#d8576b"
            ],
            [
             0.6666666666666666,
             "#ed7953"
            ],
            [
             0.7777777777777778,
             "#fb9f3a"
            ],
            [
             0.8888888888888888,
             "#fdca26"
            ],
            [
             1,
             "#f0f921"
            ]
           ],
           "sequentialminus": [
            [
             0,
             "#0d0887"
            ],
            [
             0.1111111111111111,
             "#46039f"
            ],
            [
             0.2222222222222222,
             "#7201a8"
            ],
            [
             0.3333333333333333,
             "#9c179e"
            ],
            [
             0.4444444444444444,
             "#bd3786"
            ],
            [
             0.5555555555555556,
             "#d8576b"
            ],
            [
             0.6666666666666666,
             "#ed7953"
            ],
            [
             0.7777777777777778,
             "#fb9f3a"
            ],
            [
             0.8888888888888888,
             "#fdca26"
            ],
            [
             1,
             "#f0f921"
            ]
           ]
          },
          "colorway": [
           "#636efa",
           "#EF553B",
           "#00cc96",
           "#ab63fa",
           "#FFA15A",
           "#19d3f3",
           "#FF6692",
           "#B6E880",
           "#FF97FF",
           "#FECB52"
          ],
          "font": {
           "color": "#2a3f5f"
          },
          "geo": {
           "bgcolor": "white",
           "lakecolor": "white",
           "landcolor": "#E5ECF6",
           "showlakes": true,
           "showland": true,
           "subunitcolor": "white"
          },
          "hoverlabel": {
           "align": "left"
          },
          "hovermode": "closest",
          "mapbox": {
           "style": "light"
          },
          "paper_bgcolor": "white",
          "plot_bgcolor": "#E5ECF6",
          "polar": {
           "angularaxis": {
            "gridcolor": "white",
            "linecolor": "white",
            "ticks": ""
           },
           "bgcolor": "#E5ECF6",
           "radialaxis": {
            "gridcolor": "white",
            "linecolor": "white",
            "ticks": ""
           }
          },
          "scene": {
           "xaxis": {
            "backgroundcolor": "#E5ECF6",
            "gridcolor": "white",
            "gridwidth": 2,
            "linecolor": "white",
            "showbackground": true,
            "ticks": "",
            "zerolinecolor": "white"
           },
           "yaxis": {
            "backgroundcolor": "#E5ECF6",
            "gridcolor": "white",
            "gridwidth": 2,
            "linecolor": "white",
            "showbackground": true,
            "ticks": "",
            "zerolinecolor": "white"
           },
           "zaxis": {
            "backgroundcolor": "#E5ECF6",
            "gridcolor": "white",
            "gridwidth": 2,
            "linecolor": "white",
            "showbackground": true,
            "ticks": "",
            "zerolinecolor": "white"
           }
          },
          "shapedefaults": {
           "line": {
            "color": "#2a3f5f"
           }
          },
          "ternary": {
           "aaxis": {
            "gridcolor": "white",
            "linecolor": "white",
            "ticks": ""
           },
           "baxis": {
            "gridcolor": "white",
            "linecolor": "white",
            "ticks": ""
           },
           "bgcolor": "#E5ECF6",
           "caxis": {
            "gridcolor": "white",
            "linecolor": "white",
            "ticks": ""
           }
          },
          "title": {
           "x": 0.05
          },
          "xaxis": {
           "automargin": true,
           "gridcolor": "white",
           "linecolor": "white",
           "ticks": "",
           "title": {
            "standoff": 15
           },
           "zerolinecolor": "white",
           "zerolinewidth": 2
          },
          "yaxis": {
           "automargin": true,
           "gridcolor": "white",
           "linecolor": "white",
           "ticks": "",
           "title": {
            "standoff": 15
           },
           "zerolinecolor": "white",
           "zerolinewidth": 2
          }
         }
        },
        "title": {
         "text": "Florianopolis Heating with COP: CS (red), surrogate (blue)"
        },
        "xaxis": {
         "anchor": "y",
         "domain": [
          0,
          1
         ],
         "title": {
          "text": "x"
         }
        },
        "yaxis": {
         "anchor": "x",
         "domain": [
          0,
          1
         ],
         "title": {
          "text": "value"
         }
        }
       }
      }
     },
     "metadata": {},
     "output_type": "display_data"
    }
   ],
   "source": [
    "\n",
    "fig = px.bar(\n",
    "    x=annual_predictions.index,\n",
    "    y=[\n",
    "        annual_predictions.Heating.divide(COP_HEATING),\n",
    "        # umi_df[umi_df[\"load\"] == \"heating\"][\"annual\"].divide(tfa, axis=0),\n",
    "        CS_building_results['heating'].sum(axis=1),\n",
    "    ],\n",
    "    title=\"Florianopolis Heating with COP: CS (red), surrogate (blue)\",\n",
    "    barmode=\"group\"\n",
    ")\n",
    "fig.show()"
   ]
  },
  {
   "cell_type": "code",
   "execution_count": 38,
   "metadata": {},
   "outputs": [
    {
     "name": "stdout",
     "output_type": "stream",
     "text": [
      "(186, 8760)\n"
     ]
    },
    {
     "data": {
      "text/html": [
       "<div>\n",
       "<style scoped>\n",
       "    .dataframe tbody tr th:only-of-type {\n",
       "        vertical-align: middle;\n",
       "    }\n",
       "\n",
       "    .dataframe tbody tr th {\n",
       "        vertical-align: top;\n",
       "    }\n",
       "\n",
       "    .dataframe thead th {\n",
       "        text-align: right;\n",
       "    }\n",
       "</style>\n",
       "<table border=\"1\" class=\"dataframe\">\n",
       "  <thead>\n",
       "    <tr style=\"text-align: right;\">\n",
       "      <th></th>\n",
       "      <th>january</th>\n",
       "      <th>february</th>\n",
       "      <th>march</th>\n",
       "      <th>april</th>\n",
       "      <th>may</th>\n",
       "      <th>june</th>\n",
       "      <th>july</th>\n",
       "      <th>august</th>\n",
       "      <th>september</th>\n",
       "      <th>october</th>\n",
       "      <th>november</th>\n",
       "      <th>december</th>\n",
       "    </tr>\n",
       "    <tr>\n",
       "      <th>load</th>\n",
       "      <th></th>\n",
       "      <th></th>\n",
       "      <th></th>\n",
       "      <th></th>\n",
       "      <th></th>\n",
       "      <th></th>\n",
       "      <th></th>\n",
       "      <th></th>\n",
       "      <th></th>\n",
       "      <th></th>\n",
       "      <th></th>\n",
       "      <th></th>\n",
       "    </tr>\n",
       "  </thead>\n",
       "  <tbody>\n",
       "    <tr>\n",
       "      <th>cooling</th>\n",
       "      <td>0.000000</td>\n",
       "      <td>0.00000</td>\n",
       "      <td>0.000000</td>\n",
       "      <td>0.000000</td>\n",
       "      <td>0.0</td>\n",
       "      <td>0.720345</td>\n",
       "      <td>2.467</td>\n",
       "      <td>3.391396</td>\n",
       "      <td>2.156917</td>\n",
       "      <td>0.969094</td>\n",
       "      <td>0.645356</td>\n",
       "      <td>0.395199</td>\n",
       "    </tr>\n",
       "    <tr>\n",
       "      <th>heating</th>\n",
       "      <td>1.176728</td>\n",
       "      <td>5.15668</td>\n",
       "      <td>3.361244</td>\n",
       "      <td>0.533238</td>\n",
       "      <td>0.0</td>\n",
       "      <td>0.000000</td>\n",
       "      <td>0.000</td>\n",
       "      <td>0.000000</td>\n",
       "      <td>0.000000</td>\n",
       "      <td>0.000000</td>\n",
       "      <td>0.000000</td>\n",
       "      <td>0.000000</td>\n",
       "    </tr>\n",
       "  </tbody>\n",
       "</table>\n",
       "</div>"
      ],
      "text/plain": [
       "          january  february     march     april  may      june   july  \\\n",
       "load                                                                    \n",
       "cooling  0.000000   0.00000  0.000000  0.000000  0.0  0.720345  2.467   \n",
       "heating  1.176728   5.15668  3.361244  0.533238  0.0  0.000000  0.000   \n",
       "\n",
       "           august  september   october  november  december  \n",
       "load                                                        \n",
       "cooling  3.391396   2.156917  0.969094  0.645356  0.395199  \n",
       "heating  0.000000   0.000000  0.000000  0.000000  0.000000  "
      ]
     },
     "execution_count": 38,
     "metadata": {},
     "output_type": "execute_result"
    }
   ],
   "source": [
    "umi_df_mon_norm = get_monthly(umi_df).groupby(\"load\").sum().divide(tfa.sum())\n",
    "umi_df_mon_norm"
   ]
  },
  {
   "cell_type": "code",
   "execution_count": 66,
   "metadata": {},
   "outputs": [
    {
     "data": {
      "application/vnd.plotly.v1+json": {
       "config": {
        "plotlyServerURL": "https://plot.ly"
       },
       "data": [
        {
         "mode": "lines+markers",
         "name": "Surrogate, Cooling",
         "type": "scatter",
         "x": [
          "january",
          "february",
          "march",
          "april",
          "may",
          "june",
          "july",
          "august",
          "september",
          "october",
          "november",
          "december"
         ],
         "y": [
          1.1702940811883167,
          1.5078326783528115,
          2.2859316817284374,
          3.7070179838716912,
          5.375877302851521,
          7.662467779602631,
          9.473778732477827,
          9.104831112430215,
          6.509658373611516,
          4.060102749711525,
          2.295400987494713,
          1.3134654096860319
         ]
        },
        {
         "mode": "lines+markers",
         "name": "Surrogate, Heating",
         "type": "scatter",
         "x": [
          "january",
          "february",
          "march",
          "april",
          "may",
          "june",
          "july",
          "august",
          "september",
          "october",
          "november",
          "december"
         ],
         "y": [
          8.305189411013513,
          6.644900643931061,
          3.0600462780791005,
          0.325034783553049,
          -0.03151623550726441,
          -0.028152512223517265,
          -0.02675950857184895,
          -0.024438701691790334,
          -0.024454043272432554,
          0.07124632055681955,
          1.6110148796064356,
          4.6681456627003
         ]
        },
        {
         "mode": "lines+markers",
         "name": "CS context, Cooling",
         "type": "scatter",
         "x": [
          "january",
          "february",
          "march",
          "april",
          "may",
          "june",
          "july",
          "august",
          "september",
          "october",
          "november",
          "december"
         ],
         "y": [
          0.651997,
          0.86472,
          1.38814,
          3.217566,
          6.7676,
          16.316632,
          24.08265,
          22.895837,
          11.990431,
          4.262115,
          2.258341,
          0.711896
         ]
        },
        {
         "mode": "lines+markers",
         "name": "CS context, Heating",
         "type": "scatter",
         "x": [
          "january",
          "february",
          "march",
          "april",
          "may",
          "june",
          "july",
          "august",
          "september",
          "october",
          "november",
          "december"
         ],
         "y": [
          37.782502,
          30.81512,
          23.91292,
          8.86072,
          1.372989,
          0.100272,
          0.0000038198,
          0,
          0.07496,
          3.94583,
          13.546572,
          25.982937
         ]
        },
        {
         "mode": "lines+markers",
         "name": "CS no-shad, Cooling",
         "type": "scatter",
         "x": [
          "january",
          "february",
          "march",
          "april",
          "may",
          "june",
          "july",
          "august",
          "september",
          "october",
          "november",
          "december"
         ],
         "y": [
          0.32349513671355873,
          0.4515880921709479,
          0.7128254699323996,
          2.532233705067262,
          7.109356797455615,
          22.691434333371323,
          35.14135808563002,
          33.19672732710628,
          15.23669267052937,
          3.8112523076238016,
          1.9203979991063593,
          0.3841846775970062
         ]
        },
        {
         "mode": "lines+markers",
         "name": "CS no-shad, Heating",
         "type": "scatter",
         "x": [
          "january",
          "february",
          "march",
          "april",
          "may",
          "june",
          "july",
          "august",
          "september",
          "october",
          "november",
          "december"
         ],
         "y": [
          75.73719184751394,
          61.7415304947944,
          48.73234720699324,
          18.488504003525147,
          2.8746481209860595,
          0.21995540995069143,
          0,
          0,
          0.12591868969955533,
          9.006863990794423,
          29.1828878522222,
          54.600654547093484
         ]
        }
       ],
       "layout": {
        "autosize": false,
        "height": 600,
        "template": {
         "data": {
          "bar": [
           {
            "error_x": {
             "color": "#2a3f5f"
            },
            "error_y": {
             "color": "#2a3f5f"
            },
            "marker": {
             "line": {
              "color": "#E5ECF6",
              "width": 0.5
             },
             "pattern": {
              "fillmode": "overlay",
              "size": 10,
              "solidity": 0.2
             }
            },
            "type": "bar"
           }
          ],
          "barpolar": [
           {
            "marker": {
             "line": {
              "color": "#E5ECF6",
              "width": 0.5
             },
             "pattern": {
              "fillmode": "overlay",
              "size": 10,
              "solidity": 0.2
             }
            },
            "type": "barpolar"
           }
          ],
          "carpet": [
           {
            "aaxis": {
             "endlinecolor": "#2a3f5f",
             "gridcolor": "white",
             "linecolor": "white",
             "minorgridcolor": "white",
             "startlinecolor": "#2a3f5f"
            },
            "baxis": {
             "endlinecolor": "#2a3f5f",
             "gridcolor": "white",
             "linecolor": "white",
             "minorgridcolor": "white",
             "startlinecolor": "#2a3f5f"
            },
            "type": "carpet"
           }
          ],
          "choropleth": [
           {
            "colorbar": {
             "outlinewidth": 0,
             "ticks": ""
            },
            "type": "choropleth"
           }
          ],
          "contour": [
           {
            "colorbar": {
             "outlinewidth": 0,
             "ticks": ""
            },
            "colorscale": [
             [
              0,
              "#0d0887"
             ],
             [
              0.1111111111111111,
              "#46039f"
             ],
             [
              0.2222222222222222,
              "#7201a8"
             ],
             [
              0.3333333333333333,
              "#9c179e"
             ],
             [
              0.4444444444444444,
              "#bd3786"
             ],
             [
              0.5555555555555556,
              "#d8576b"
             ],
             [
              0.6666666666666666,
              "#ed7953"
             ],
             [
              0.7777777777777778,
              "#fb9f3a"
             ],
             [
              0.8888888888888888,
              "#fdca26"
             ],
             [
              1,
              "#f0f921"
             ]
            ],
            "type": "contour"
           }
          ],
          "contourcarpet": [
           {
            "colorbar": {
             "outlinewidth": 0,
             "ticks": ""
            },
            "type": "contourcarpet"
           }
          ],
          "heatmap": [
           {
            "colorbar": {
             "outlinewidth": 0,
             "ticks": ""
            },
            "colorscale": [
             [
              0,
              "#0d0887"
             ],
             [
              0.1111111111111111,
              "#46039f"
             ],
             [
              0.2222222222222222,
              "#7201a8"
             ],
             [
              0.3333333333333333,
              "#9c179e"
             ],
             [
              0.4444444444444444,
              "#bd3786"
             ],
             [
              0.5555555555555556,
              "#d8576b"
             ],
             [
              0.6666666666666666,
              "#ed7953"
             ],
             [
              0.7777777777777778,
              "#fb9f3a"
             ],
             [
              0.8888888888888888,
              "#fdca26"
             ],
             [
              1,
              "#f0f921"
             ]
            ],
            "type": "heatmap"
           }
          ],
          "heatmapgl": [
           {
            "colorbar": {
             "outlinewidth": 0,
             "ticks": ""
            },
            "colorscale": [
             [
              0,
              "#0d0887"
             ],
             [
              0.1111111111111111,
              "#46039f"
             ],
             [
              0.2222222222222222,
              "#7201a8"
             ],
             [
              0.3333333333333333,
              "#9c179e"
             ],
             [
              0.4444444444444444,
              "#bd3786"
             ],
             [
              0.5555555555555556,
              "#d8576b"
             ],
             [
              0.6666666666666666,
              "#ed7953"
             ],
             [
              0.7777777777777778,
              "#fb9f3a"
             ],
             [
              0.8888888888888888,
              "#fdca26"
             ],
             [
              1,
              "#f0f921"
             ]
            ],
            "type": "heatmapgl"
           }
          ],
          "histogram": [
           {
            "marker": {
             "pattern": {
              "fillmode": "overlay",
              "size": 10,
              "solidity": 0.2
             }
            },
            "type": "histogram"
           }
          ],
          "histogram2d": [
           {
            "colorbar": {
             "outlinewidth": 0,
             "ticks": ""
            },
            "colorscale": [
             [
              0,
              "#0d0887"
             ],
             [
              0.1111111111111111,
              "#46039f"
             ],
             [
              0.2222222222222222,
              "#7201a8"
             ],
             [
              0.3333333333333333,
              "#9c179e"
             ],
             [
              0.4444444444444444,
              "#bd3786"
             ],
             [
              0.5555555555555556,
              "#d8576b"
             ],
             [
              0.6666666666666666,
              "#ed7953"
             ],
             [
              0.7777777777777778,
              "#fb9f3a"
             ],
             [
              0.8888888888888888,
              "#fdca26"
             ],
             [
              1,
              "#f0f921"
             ]
            ],
            "type": "histogram2d"
           }
          ],
          "histogram2dcontour": [
           {
            "colorbar": {
             "outlinewidth": 0,
             "ticks": ""
            },
            "colorscale": [
             [
              0,
              "#0d0887"
             ],
             [
              0.1111111111111111,
              "#46039f"
             ],
             [
              0.2222222222222222,
              "#7201a8"
             ],
             [
              0.3333333333333333,
              "#9c179e"
             ],
             [
              0.4444444444444444,
              "#bd3786"
             ],
             [
              0.5555555555555556,
              "#d8576b"
             ],
             [
              0.6666666666666666,
              "#ed7953"
             ],
             [
              0.7777777777777778,
              "#fb9f3a"
             ],
             [
              0.8888888888888888,
              "#fdca26"
             ],
             [
              1,
              "#f0f921"
             ]
            ],
            "type": "histogram2dcontour"
           }
          ],
          "mesh3d": [
           {
            "colorbar": {
             "outlinewidth": 0,
             "ticks": ""
            },
            "type": "mesh3d"
           }
          ],
          "parcoords": [
           {
            "line": {
             "colorbar": {
              "outlinewidth": 0,
              "ticks": ""
             }
            },
            "type": "parcoords"
           }
          ],
          "pie": [
           {
            "automargin": true,
            "type": "pie"
           }
          ],
          "scatter": [
           {
            "fillpattern": {
             "fillmode": "overlay",
             "size": 10,
             "solidity": 0.2
            },
            "type": "scatter"
           }
          ],
          "scatter3d": [
           {
            "line": {
             "colorbar": {
              "outlinewidth": 0,
              "ticks": ""
             }
            },
            "marker": {
             "colorbar": {
              "outlinewidth": 0,
              "ticks": ""
             }
            },
            "type": "scatter3d"
           }
          ],
          "scattercarpet": [
           {
            "marker": {
             "colorbar": {
              "outlinewidth": 0,
              "ticks": ""
             }
            },
            "type": "scattercarpet"
           }
          ],
          "scattergeo": [
           {
            "marker": {
             "colorbar": {
              "outlinewidth": 0,
              "ticks": ""
             }
            },
            "type": "scattergeo"
           }
          ],
          "scattergl": [
           {
            "marker": {
             "colorbar": {
              "outlinewidth": 0,
              "ticks": ""
             }
            },
            "type": "scattergl"
           }
          ],
          "scattermapbox": [
           {
            "marker": {
             "colorbar": {
              "outlinewidth": 0,
              "ticks": ""
             }
            },
            "type": "scattermapbox"
           }
          ],
          "scatterpolar": [
           {
            "marker": {
             "colorbar": {
              "outlinewidth": 0,
              "ticks": ""
             }
            },
            "type": "scatterpolar"
           }
          ],
          "scatterpolargl": [
           {
            "marker": {
             "colorbar": {
              "outlinewidth": 0,
              "ticks": ""
             }
            },
            "type": "scatterpolargl"
           }
          ],
          "scatterternary": [
           {
            "marker": {
             "colorbar": {
              "outlinewidth": 0,
              "ticks": ""
             }
            },
            "type": "scatterternary"
           }
          ],
          "surface": [
           {
            "colorbar": {
             "outlinewidth": 0,
             "ticks": ""
            },
            "colorscale": [
             [
              0,
              "#0d0887"
             ],
             [
              0.1111111111111111,
              "#46039f"
             ],
             [
              0.2222222222222222,
              "#7201a8"
             ],
             [
              0.3333333333333333,
              "#9c179e"
             ],
             [
              0.4444444444444444,
              "#bd3786"
             ],
             [
              0.5555555555555556,
              "#d8576b"
             ],
             [
              0.6666666666666666,
              "#ed7953"
             ],
             [
              0.7777777777777778,
              "#fb9f3a"
             ],
             [
              0.8888888888888888,
              "#fdca26"
             ],
             [
              1,
              "#f0f921"
             ]
            ],
            "type": "surface"
           }
          ],
          "table": [
           {
            "cells": {
             "fill": {
              "color": "#EBF0F8"
             },
             "line": {
              "color": "white"
             }
            },
            "header": {
             "fill": {
              "color": "#C8D4E3"
             },
             "line": {
              "color": "white"
             }
            },
            "type": "table"
           }
          ]
         },
         "layout": {
          "annotationdefaults": {
           "arrowcolor": "#2a3f5f",
           "arrowhead": 0,
           "arrowwidth": 1
          },
          "autotypenumbers": "strict",
          "coloraxis": {
           "colorbar": {
            "outlinewidth": 0,
            "ticks": ""
           }
          },
          "colorscale": {
           "diverging": [
            [
             0,
             "#8e0152"
            ],
            [
             0.1,
             "#c51b7d"
            ],
            [
             0.2,
             "#de77ae"
            ],
            [
             0.3,
             "#f1b6da"
            ],
            [
             0.4,
             "#fde0ef"
            ],
            [
             0.5,
             "#f7f7f7"
            ],
            [
             0.6,
             "#e6f5d0"
            ],
            [
             0.7,
             "#b8e186"
            ],
            [
             0.8,
             "#7fbc41"
            ],
            [
             0.9,
             "#4d9221"
            ],
            [
             1,
             "#276419"
            ]
           ],
           "sequential": [
            [
             0,
             "#0d0887"
            ],
            [
             0.1111111111111111,
             "#46039f"
            ],
            [
             0.2222222222222222,
             "#7201a8"
            ],
            [
             0.3333333333333333,
             "#9c179e"
            ],
            [
             0.4444444444444444,
             "#bd3786"
            ],
            [
             0.5555555555555556,
             "#d8576b"
            ],
            [
             0.6666666666666666,
             "#ed7953"
            ],
            [
             0.7777777777777778,
             "#fb9f3a"
            ],
            [
             0.8888888888888888,
             "#fdca26"
            ],
            [
             1,
             "#f0f921"
            ]
           ],
           "sequentialminus": [
            [
             0,
             "#0d0887"
            ],
            [
             0.1111111111111111,
             "#46039f"
            ],
            [
             0.2222222222222222,
             "#7201a8"
            ],
            [
             0.3333333333333333,
             "#9c179e"
            ],
            [
             0.4444444444444444,
             "#bd3786"
            ],
            [
             0.5555555555555556,
             "#d8576b"
            ],
            [
             0.6666666666666666,
             "#ed7953"
            ],
            [
             0.7777777777777778,
             "#fb9f3a"
            ],
            [
             0.8888888888888888,
             "#fdca26"
            ],
            [
             1,
             "#f0f921"
            ]
           ]
          },
          "colorway": [
           "#636efa",
           "#EF553B",
           "#00cc96",
           "#ab63fa",
           "#FFA15A",
           "#19d3f3",
           "#FF6692",
           "#B6E880",
           "#FF97FF",
           "#FECB52"
          ],
          "font": {
           "color": "#2a3f5f"
          },
          "geo": {
           "bgcolor": "white",
           "lakecolor": "white",
           "landcolor": "#E5ECF6",
           "showlakes": true,
           "showland": true,
           "subunitcolor": "white"
          },
          "hoverlabel": {
           "align": "left"
          },
          "hovermode": "closest",
          "mapbox": {
           "style": "light"
          },
          "paper_bgcolor": "white",
          "plot_bgcolor": "#E5ECF6",
          "polar": {
           "angularaxis": {
            "gridcolor": "white",
            "linecolor": "white",
            "ticks": ""
           },
           "bgcolor": "#E5ECF6",
           "radialaxis": {
            "gridcolor": "white",
            "linecolor": "white",
            "ticks": ""
           }
          },
          "scene": {
           "xaxis": {
            "backgroundcolor": "#E5ECF6",
            "gridcolor": "white",
            "gridwidth": 2,
            "linecolor": "white",
            "showbackground": true,
            "ticks": "",
            "zerolinecolor": "white"
           },
           "yaxis": {
            "backgroundcolor": "#E5ECF6",
            "gridcolor": "white",
            "gridwidth": 2,
            "linecolor": "white",
            "showbackground": true,
            "ticks": "",
            "zerolinecolor": "white"
           },
           "zaxis": {
            "backgroundcolor": "#E5ECF6",
            "gridcolor": "white",
            "gridwidth": 2,
            "linecolor": "white",
            "showbackground": true,
            "ticks": "",
            "zerolinecolor": "white"
           }
          },
          "shapedefaults": {
           "line": {
            "color": "#2a3f5f"
           }
          },
          "ternary": {
           "aaxis": {
            "gridcolor": "white",
            "linecolor": "white",
            "ticks": ""
           },
           "baxis": {
            "gridcolor": "white",
            "linecolor": "white",
            "ticks": ""
           },
           "bgcolor": "#E5ECF6",
           "caxis": {
            "gridcolor": "white",
            "linecolor": "white",
            "ticks": ""
           }
          },
          "title": {
           "x": 0.05
          },
          "xaxis": {
           "automargin": true,
           "gridcolor": "white",
           "linecolor": "white",
           "ticks": "",
           "title": {
            "standoff": 15
           },
           "zerolinecolor": "white",
           "zerolinewidth": 2
          },
          "yaxis": {
           "automargin": true,
           "gridcolor": "white",
           "linecolor": "white",
           "ticks": "",
           "title": {
            "standoff": 15
           },
           "zerolinecolor": "white",
           "zerolinewidth": 2
          }
         }
        },
        "title": {
         "text": "Surrogate, CS context, and CS-no shading average normalized heating and cooling"
        },
        "width": 800
       }
      }
     },
     "metadata": {},
     "output_type": "display_data"
    }
   ],
   "source": [
    "import plotly.graph_objects as go\n",
    "\n",
    "fig = go.Figure()\n",
    "fig.add_trace(\n",
    "    go.Scatter(\n",
    "        x = list(month_map.keys()),\n",
    "        y = monthly_predictions[\"Cooling\"].multiply(tfa, axis=0).sum(axis=0).divide(tfa.sum()*COP_COOLING),\n",
    "        mode='lines+markers',\n",
    "        name = \"Surrogate, Cooling\"\n",
    "    )\n",
    ")\n",
    "fig.add_trace(\n",
    "    go.Scatter(\n",
    "        x = list(month_map.keys()),\n",
    "        y = monthly_predictions[\"Heating\"].multiply(tfa, axis=0).sum(axis=0).divide(tfa.sum()*COP_HEATING),\n",
    "        mode='lines+markers',\n",
    "        name = \"Surrogate, Heating\"\n",
    "    )\n",
    ")\n",
    "fig.add_trace(\n",
    "    go.Scatter(\n",
    "        x = list(month_map.keys()),\n",
    "        y = CS_results[\"cooling\"],\n",
    "        mode='lines+markers',\n",
    "        name = \"CS context, Cooling\"\n",
    "    )\n",
    ")\n",
    "fig.add_trace(\n",
    "    go.Scatter(\n",
    "        x = list(month_map.keys()),\n",
    "        y = CS_results[\"heating\"],\n",
    "        mode='lines+markers',\n",
    "        name = \"CS context, Heating\"\n",
    "    )\n",
    ")\n",
    "fig.add_trace(\n",
    "    go.Scatter(\n",
    "        x = list(month_map.keys()),\n",
    "        y = CS_building_results['cooling'].multiply(list(tfa), axis=0).sum(axis=0).divide(tfa.sum()),\n",
    "        mode='lines+markers',\n",
    "        name = \"CS no-shad, Cooling\"\n",
    "    )\n",
    ")\n",
    "fig.add_trace(\n",
    "    go.Scatter(\n",
    "        x = list(month_map.keys()),\n",
    "        y = CS_building_results['heating'].multiply(list(tfa), axis=0).sum(axis=0).divide(tfa.sum()),\n",
    "        mode='lines+markers',\n",
    "        name = \"CS no-shad, Heating\"\n",
    "    )\n",
    ")\n",
    "\n",
    "# colors = []\n",
    "# for i in range(4):\n",
    "#     fig.data[i].line.color = colors[i]\n",
    "fig.update_layout(\n",
    "    title=\"Surrogate, CS context, and CS-no shading average normalized heating and cooling\",\n",
    "    autosize=False,\n",
    "    width=800,\n",
    "    height=600,\n",
    ")\n",
    "fig.show()"
   ]
  },
  {
   "attachments": {},
   "cell_type": "markdown",
   "metadata": {},
   "source": [
    "# Shallow Upgrade"
   ]
  },
  {
   "attachments": {},
   "cell_type": "markdown",
   "metadata": {},
   "source": [
    "## CS Results"
   ]
  },
  {
   "cell_type": "code",
   "execution_count": 18,
   "metadata": {},
   "outputs": [
    {
     "data": {
      "text/html": [
       "<div>\n",
       "<style scoped>\n",
       "    .dataframe tbody tr th:only-of-type {\n",
       "        vertical-align: middle;\n",
       "    }\n",
       "\n",
       "    .dataframe tbody tr th {\n",
       "        vertical-align: top;\n",
       "    }\n",
       "\n",
       "    .dataframe thead th {\n",
       "        text-align: right;\n",
       "    }\n",
       "</style>\n",
       "<table border=\"1\" class=\"dataframe\">\n",
       "  <thead>\n",
       "    <tr style=\"text-align: right;\">\n",
       "      <th></th>\n",
       "      <th>heating</th>\n",
       "      <th>cooling</th>\n",
       "    </tr>\n",
       "  </thead>\n",
       "  <tbody>\n",
       "    <tr>\n",
       "      <th>0</th>\n",
       "      <td>22.477821</td>\n",
       "      <td>0.224322</td>\n",
       "    </tr>\n",
       "    <tr>\n",
       "      <th>1</th>\n",
       "      <td>16.568589</td>\n",
       "      <td>0.334789</td>\n",
       "    </tr>\n",
       "    <tr>\n",
       "      <th>2</th>\n",
       "      <td>12.775908</td>\n",
       "      <td>0.479481</td>\n",
       "    </tr>\n",
       "    <tr>\n",
       "      <th>3</th>\n",
       "      <td>4.114498</td>\n",
       "      <td>1.184509</td>\n",
       "    </tr>\n",
       "    <tr>\n",
       "      <th>4</th>\n",
       "      <td>1.032315</td>\n",
       "      <td>2.731751</td>\n",
       "    </tr>\n",
       "    <tr>\n",
       "      <th>5</th>\n",
       "      <td>0.269734</td>\n",
       "      <td>4.966134</td>\n",
       "    </tr>\n",
       "    <tr>\n",
       "      <th>6</th>\n",
       "      <td>0.015241</td>\n",
       "      <td>6.698250</td>\n",
       "    </tr>\n",
       "    <tr>\n",
       "      <th>7</th>\n",
       "      <td>0.024786</td>\n",
       "      <td>6.592109</td>\n",
       "    </tr>\n",
       "    <tr>\n",
       "      <th>8</th>\n",
       "      <td>0.280518</td>\n",
       "      <td>3.864128</td>\n",
       "    </tr>\n",
       "    <tr>\n",
       "      <th>9</th>\n",
       "      <td>2.737289</td>\n",
       "      <td>1.620085</td>\n",
       "    </tr>\n",
       "    <tr>\n",
       "      <th>10</th>\n",
       "      <td>7.922957</td>\n",
       "      <td>0.839806</td>\n",
       "    </tr>\n",
       "    <tr>\n",
       "      <th>11</th>\n",
       "      <td>14.404169</td>\n",
       "      <td>0.228752</td>\n",
       "    </tr>\n",
       "  </tbody>\n",
       "</table>\n",
       "</div>"
      ],
      "text/plain": [
       "      heating   cooling\n",
       "0   22.477821  0.224322\n",
       "1   16.568589  0.334789\n",
       "2   12.775908  0.479481\n",
       "3    4.114498  1.184509\n",
       "4    1.032315  2.731751\n",
       "5    0.269734  4.966134\n",
       "6    0.015241  6.698250\n",
       "7    0.024786  6.592109\n",
       "8    0.280518  3.864128\n",
       "9    2.737289  1.620085\n",
       "10   7.922957  0.839806\n",
       "11  14.404169  0.228752"
      ]
     },
     "execution_count": 18,
     "metadata": {},
     "output_type": "execute_result"
    }
   ],
   "source": [
    "# CS with shading\n",
    "with open(Path(shallow_results_dir, \"results-out-CS_boston_shallow.json\"), \"r\") as f:\n",
    "    CS_shallow_results = json.load(f)\n",
    "CS_shallow_results = pd.DataFrame.from_dict(CS_results)\n",
    "CS_shallow_results"
   ]
  },
  {
   "cell_type": "code",
   "execution_count": 19,
   "metadata": {},
   "outputs": [
    {
     "data": {
      "text/html": [
       "<div>\n",
       "<style scoped>\n",
       "    .dataframe tbody tr th:only-of-type {\n",
       "        vertical-align: middle;\n",
       "    }\n",
       "\n",
       "    .dataframe tbody tr th {\n",
       "        vertical-align: top;\n",
       "    }\n",
       "\n",
       "    .dataframe thead tr th {\n",
       "        text-align: left;\n",
       "    }\n",
       "</style>\n",
       "<table border=\"1\" class=\"dataframe\">\n",
       "  <thead>\n",
       "    <tr>\n",
       "      <th></th>\n",
       "      <th colspan=\"10\" halign=\"left\">heating</th>\n",
       "      <th>...</th>\n",
       "      <th colspan=\"10\" halign=\"left\">cooling</th>\n",
       "    </tr>\n",
       "    <tr>\n",
       "      <th></th>\n",
       "      <th>january</th>\n",
       "      <th>february</th>\n",
       "      <th>march</th>\n",
       "      <th>april</th>\n",
       "      <th>may</th>\n",
       "      <th>june</th>\n",
       "      <th>july</th>\n",
       "      <th>august</th>\n",
       "      <th>september</th>\n",
       "      <th>october</th>\n",
       "      <th>...</th>\n",
       "      <th>march</th>\n",
       "      <th>april</th>\n",
       "      <th>may</th>\n",
       "      <th>june</th>\n",
       "      <th>july</th>\n",
       "      <th>august</th>\n",
       "      <th>september</th>\n",
       "      <th>october</th>\n",
       "      <th>november</th>\n",
       "      <th>december</th>\n",
       "    </tr>\n",
       "  </thead>\n",
       "  <tbody>\n",
       "    <tr>\n",
       "      <th>0</th>\n",
       "      <td>10.942497</td>\n",
       "      <td>7.987217</td>\n",
       "      <td>6.431928</td>\n",
       "      <td>2.759895</td>\n",
       "      <td>1.175352</td>\n",
       "      <td>0.312455</td>\n",
       "      <td>0.040475</td>\n",
       "      <td>0.063708</td>\n",
       "      <td>0.531463</td>\n",
       "      <td>2.409826</td>\n",
       "      <td>...</td>\n",
       "      <td>2.141935</td>\n",
       "      <td>3.154461</td>\n",
       "      <td>4.697142</td>\n",
       "      <td>6.304154</td>\n",
       "      <td>7.450702</td>\n",
       "      <td>7.503211</td>\n",
       "      <td>4.870723</td>\n",
       "      <td>3.229816</td>\n",
       "      <td>2.422535</td>\n",
       "      <td>1.144982</td>\n",
       "    </tr>\n",
       "    <tr>\n",
       "      <th>1</th>\n",
       "      <td>12.362149</td>\n",
       "      <td>8.167249</td>\n",
       "      <td>5.917305</td>\n",
       "      <td>1.485072</td>\n",
       "      <td>0.227303</td>\n",
       "      <td>0.039505</td>\n",
       "      <td>0.000232</td>\n",
       "      <td>0.000000</td>\n",
       "      <td>0.068340</td>\n",
       "      <td>1.253316</td>\n",
       "      <td>...</td>\n",
       "      <td>3.396675</td>\n",
       "      <td>5.435102</td>\n",
       "      <td>7.977695</td>\n",
       "      <td>10.812200</td>\n",
       "      <td>12.905640</td>\n",
       "      <td>12.884518</td>\n",
       "      <td>8.287581</td>\n",
       "      <td>5.326634</td>\n",
       "      <td>3.605414</td>\n",
       "      <td>1.489734</td>\n",
       "    </tr>\n",
       "    <tr>\n",
       "      <th>2</th>\n",
       "      <td>10.594664</td>\n",
       "      <td>6.727063</td>\n",
       "      <td>4.563097</td>\n",
       "      <td>0.941800</td>\n",
       "      <td>0.109507</td>\n",
       "      <td>0.018666</td>\n",
       "      <td>0.000089</td>\n",
       "      <td>0.000000</td>\n",
       "      <td>0.034984</td>\n",
       "      <td>0.733368</td>\n",
       "      <td>...</td>\n",
       "      <td>3.474549</td>\n",
       "      <td>5.748709</td>\n",
       "      <td>8.351923</td>\n",
       "      <td>11.267772</td>\n",
       "      <td>13.476894</td>\n",
       "      <td>13.448886</td>\n",
       "      <td>8.753028</td>\n",
       "      <td>5.678030</td>\n",
       "      <td>3.758960</td>\n",
       "      <td>1.488737</td>\n",
       "    </tr>\n",
       "    <tr>\n",
       "      <th>3</th>\n",
       "      <td>36.736075</td>\n",
       "      <td>26.438094</td>\n",
       "      <td>21.102043</td>\n",
       "      <td>7.277118</td>\n",
       "      <td>2.145279</td>\n",
       "      <td>0.423855</td>\n",
       "      <td>0.018595</td>\n",
       "      <td>0.007935</td>\n",
       "      <td>0.541173</td>\n",
       "      <td>5.683254</td>\n",
       "      <td>...</td>\n",
       "      <td>2.735369</td>\n",
       "      <td>4.560194</td>\n",
       "      <td>7.550199</td>\n",
       "      <td>11.534453</td>\n",
       "      <td>14.523765</td>\n",
       "      <td>14.336669</td>\n",
       "      <td>8.674175</td>\n",
       "      <td>4.822938</td>\n",
       "      <td>3.291734</td>\n",
       "      <td>1.352012</td>\n",
       "    </tr>\n",
       "    <tr>\n",
       "      <th>4</th>\n",
       "      <td>1.546287</td>\n",
       "      <td>0.789188</td>\n",
       "      <td>0.245070</td>\n",
       "      <td>0.029862</td>\n",
       "      <td>0.000653</td>\n",
       "      <td>0.000049</td>\n",
       "      <td>0.000000</td>\n",
       "      <td>0.000000</td>\n",
       "      <td>0.000025</td>\n",
       "      <td>0.012384</td>\n",
       "      <td>...</td>\n",
       "      <td>1.209989</td>\n",
       "      <td>2.627393</td>\n",
       "      <td>3.930558</td>\n",
       "      <td>5.324631</td>\n",
       "      <td>6.409222</td>\n",
       "      <td>6.386708</td>\n",
       "      <td>4.393837</td>\n",
       "      <td>2.838789</td>\n",
       "      <td>1.587613</td>\n",
       "      <td>0.560443</td>\n",
       "    </tr>\n",
       "  </tbody>\n",
       "</table>\n",
       "<p>5 rows × 24 columns</p>\n",
       "</div>"
      ],
      "text/plain": [
       "     heating                                                                \\\n",
       "     january   february      march     april       may      june      july   \n",
       "0  10.942497   7.987217   6.431928  2.759895  1.175352  0.312455  0.040475   \n",
       "1  12.362149   8.167249   5.917305  1.485072  0.227303  0.039505  0.000232   \n",
       "2  10.594664   6.727063   4.563097  0.941800  0.109507  0.018666  0.000089   \n",
       "3  36.736075  26.438094  21.102043  7.277118  2.145279  0.423855  0.018595   \n",
       "4   1.546287   0.789188   0.245070  0.029862  0.000653  0.000049  0.000000   \n",
       "\n",
       "                                 ...   cooling                                 \\\n",
       "     august september   october  ...     march     april       may       june   \n",
       "0  0.063708  0.531463  2.409826  ...  2.141935  3.154461  4.697142   6.304154   \n",
       "1  0.000000  0.068340  1.253316  ...  3.396675  5.435102  7.977695  10.812200   \n",
       "2  0.000000  0.034984  0.733368  ...  3.474549  5.748709  8.351923  11.267772   \n",
       "3  0.007935  0.541173  5.683254  ...  2.735369  4.560194  7.550199  11.534453   \n",
       "4  0.000000  0.000025  0.012384  ...  1.209989  2.627393  3.930558   5.324631   \n",
       "\n",
       "                                                                 \n",
       "        july     august september   october  november  december  \n",
       "0   7.450702   7.503211  4.870723  3.229816  2.422535  1.144982  \n",
       "1  12.905640  12.884518  8.287581  5.326634  3.605414  1.489734  \n",
       "2  13.476894  13.448886  8.753028  5.678030  3.758960  1.488737  \n",
       "3  14.523765  14.336669  8.674175  4.822938  3.291734  1.352012  \n",
       "4   6.409222   6.386708  4.393837  2.838789  1.587613  0.560443  \n",
       "\n",
       "[5 rows x 24 columns]"
      ]
     },
     "execution_count": 19,
     "metadata": {},
     "output_type": "execute_result"
    }
   ],
   "source": [
    "# CS individual buildings\n",
    "CS_shallow_building_results = {}\n",
    "for i in range(93):\n",
    "    with open(Path(shallow_results_dir) / \"SingleBuildings\" / f\"results-out-CS_boston_shallow{i}.json\", \"r\") as f:\n",
    "        r = json.load(f)\n",
    "        res_dict = {}\n",
    "        for l in [\"heating\", \"cooling\"]:\n",
    "            res_dict.update({(l, k): r for k, r in zip(month_map.keys(), r[l])})\n",
    "        CS_shallow_building_results[i] = res_dict\n",
    "CS_shallow_building_results = pd.DataFrame.from_dict(CS_shallow_building_results).T\n",
    "CS_shallow_building_results.head()"
   ]
  },
  {
   "cell_type": "code",
   "execution_count": 20,
   "metadata": {},
   "outputs": [
    {
     "data": {
      "text/html": [
       "<div>\n",
       "<style scoped>\n",
       "    .dataframe tbody tr th:only-of-type {\n",
       "        vertical-align: middle;\n",
       "    }\n",
       "\n",
       "    .dataframe tbody tr th {\n",
       "        vertical-align: top;\n",
       "    }\n",
       "\n",
       "    .dataframe thead tr th {\n",
       "        text-align: left;\n",
       "    }\n",
       "</style>\n",
       "<table border=\"1\" class=\"dataframe\">\n",
       "  <thead>\n",
       "    <tr>\n",
       "      <th></th>\n",
       "      <th colspan=\"10\" halign=\"left\">heating</th>\n",
       "      <th>...</th>\n",
       "      <th colspan=\"10\" halign=\"left\">cooling</th>\n",
       "    </tr>\n",
       "    <tr>\n",
       "      <th></th>\n",
       "      <th>january</th>\n",
       "      <th>february</th>\n",
       "      <th>march</th>\n",
       "      <th>april</th>\n",
       "      <th>may</th>\n",
       "      <th>june</th>\n",
       "      <th>july</th>\n",
       "      <th>august</th>\n",
       "      <th>september</th>\n",
       "      <th>october</th>\n",
       "      <th>...</th>\n",
       "      <th>march</th>\n",
       "      <th>april</th>\n",
       "      <th>may</th>\n",
       "      <th>june</th>\n",
       "      <th>july</th>\n",
       "      <th>august</th>\n",
       "      <th>september</th>\n",
       "      <th>october</th>\n",
       "      <th>november</th>\n",
       "      <th>december</th>\n",
       "    </tr>\n",
       "  </thead>\n",
       "  <tbody>\n",
       "  </tbody>\n",
       "</table>\n",
       "<p>0 rows × 24 columns</p>\n",
       "</div>"
      ],
      "text/plain": [
       "Empty DataFrame\n",
       "Columns: [(heating, january), (heating, february), (heating, march), (heating, april), (heating, may), (heating, june), (heating, july), (heating, august), (heating, september), (heating, october), (heating, november), (heating, december), (cooling, january), (cooling, february), (cooling, march), (cooling, april), (cooling, may), (cooling, june), (cooling, july), (cooling, august), (cooling, september), (cooling, october), (cooling, november), (cooling, december)]\n",
       "Index: []\n",
       "\n",
       "[0 rows x 24 columns]"
      ]
     },
     "execution_count": 20,
     "metadata": {},
     "output_type": "execute_result"
    }
   ],
   "source": [
    "CS_shallow_building_results.loc[np.isnan(CS_shallow_building_results['heating']['january'])]"
   ]
  },
  {
   "attachments": {},
   "cell_type": "markdown",
   "metadata": {},
   "source": [
    "## Model Results"
   ]
  },
  {
   "cell_type": "code",
   "execution_count": 21,
   "metadata": {},
   "outputs": [],
   "source": [
    "COP_COOLING = 3.32337\n",
    "COP_HEATING = 0.75"
   ]
  },
  {
   "cell_type": "code",
   "execution_count": 48,
   "metadata": {},
   "outputs": [
    {
     "data": {
      "text/plain": [
       "0       0.0\n",
       "1       0.0\n",
       "2       0.0\n",
       "4       0.0\n",
       "5       0.0\n",
       "       ... \n",
       "1885    0.0\n",
       "1886    0.0\n",
       "1891    0.0\n",
       "1907    0.0\n",
       "1915    0.0\n",
       "Name: VentilationPerPerson, Length: 1022, dtype: object"
      ]
     },
     "execution_count": 48,
     "metadata": {},
     "output_type": "execute_result"
    }
   ],
   "source": [
    "shallow_features.VentilationPerPerson"
   ]
  },
  {
   "cell_type": "code",
   "execution_count": 22,
   "metadata": {},
   "outputs": [
    {
     "name": "stdout",
     "output_type": "stream",
     "text": [
      "buildings 93 sbs 1022\n"
     ]
    }
   ],
   "source": [
    "shallow_features, schedules, climate = ubem.prepare_for_surrogate()\n",
    "print(\"buildings\", len(ubem.gis_features_df), \"sbs\", len(features))"
   ]
  },
  {
   "cell_type": "code",
   "execution_count": 23,
   "metadata": {},
   "outputs": [],
   "source": [
    "# Apply upgrades\n",
    "shallow_features[\"WindowUValue\"] = 1.0\n",
    "shallow_features[\"WindowSHGC\"] =0.65\n",
    "shallow_features[\"HeatingSetpoint\"] = 18 # why are these different???\n",
    "shallow_features[\"RecoverySettings\"] = 1"
   ]
  },
  {
   "cell_type": "code",
   "execution_count": 26,
   "metadata": {},
   "outputs": [
    {
     "name": "stderr",
     "output_type": "stream",
     "text": [
      "WARNING:ml.data:Values for perim_depth are outside of the range [1.25, 12]! Provided data min: 1.157013247206702, max: 2.606666193404431. Data will be clipped before prediction.\n",
      "WARNING:ml.data:Values for core_depth are outside of the range [1.25, 60]! Provided data min: 0.0, max: 2.8232826262831487. Data will be clipped before prediction.\n",
      "WARNING:ml.data:Values for EquipmentPowerDensity are outside of the range [0, 60]! Provided data min: 2.83, max: 864.0. Data will be clipped before prediction.\n",
      "WARNING:ml.data:Values for PeopleDensity are outside of the range [0, 0.5]! Provided data min: 0.0211, max: 0.538. Data will be clipped before prediction.\n",
      "WARNING:ml.data:Values for Infiltration are outside of the range [0.0, 0.001]! Provided data min: 0.0951, max: 0.947. Data will be clipped before prediction.\n",
      "WARNING:ml.data:Values for RoofRValue are outside of the range [0.3, 18]! Provided data min: 0.06254443457009554, max: 3.5319321896721365. Data will be clipped before prediction.\n",
      "WARNING:ml.data:Values for SlabRValue are outside of the range [0.3, 15]! Provided data min: 0.07780320366132723, max: 6.346173469387755. Data will be clipped before prediction.\n",
      "WARNING:ml.data:Values for WindowShgc are outside of the range [0.05, 0.99]! Provided data min: 1.0, max: 1.0. Data will be clipped before prediction.\n",
      "INFO: LOCAL_RANK: 0 - CUDA_VISIBLE_DEVICES: [0]\n",
      "INFO:lightning.pytorch.accelerators.cuda:LOCAL_RANK: 0 - CUDA_VISIBLE_DEVICES: [0]\n",
      "c:\\Users\\zoelh\\AppData\\Local\\anaconda3\\envs\\ml-for-bem\\lib\\site-packages\\lightning\\pytorch\\trainer\\connectors\\data_connector.py:441: The 'predict_dataloader' does not have many workers which may be a bottleneck. Consider increasing the value of the `num_workers` argument` to `num_workers=15` in the `DataLoader` to improve performance.\n"
     ]
    },
    {
     "name": "stdout",
     "output_type": "stream",
     "text": [
      "Predicting DataLoader 0:   0%|          | 0/32 [00:00<?, ?it/s]"
     ]
    },
    {
     "name": "stderr",
     "output_type": "stream",
     "text": [
      "c:\\Users\\zoelh\\AppData\\Local\\anaconda3\\envs\\ml-for-bem\\lib\\site-packages\\torch\\nn\\modules\\conv.py:306: UserWarning: Using padding='same' with even kernel lengths and odd dilation may require a zero-padded copy of the input be created (Triggered internally at C:\\actions-runner\\_work\\pytorch\\pytorch\\builder\\windows\\pytorch\\aten\\src\\ATen\\native\\Convolution.cpp:1009.)\n",
      "  return F.conv1d(input, weight, bias, self.stride,\n"
     ]
    },
    {
     "name": "stdout",
     "output_type": "stream",
     "text": [
      "Predicting DataLoader 0: 100%|██████████| 32/32 [01:59<00:00,  0.27it/s]\n"
     ]
    }
   ],
   "source": [
    "torch.set_float32_matmul_precision(\"medium\")\n",
    "shallow_shoebox_predictions, shallow_monthly_predictions, shallow_annual_predictions = predict_ubem(\n",
    "    trainer=trainer,\n",
    "    surrogate=surrogate,\n",
    "    features=shallow_features,\n",
    "    schedules=schedules,\n",
    "    climate=climate,\n",
    "    batch_size=32,\n",
    "    apply_cops=False,\n",
    ")"
   ]
  },
  {
   "cell_type": "code",
   "execution_count": 46,
   "metadata": {},
   "outputs": [
    {
     "data": {
      "application/vnd.plotly.v1+json": {
       "config": {
        "plotlyServerURL": "https://plot.ly"
       },
       "data": [
        {
         "line": {
          "color": "blue"
         },
         "mode": "lines+markers",
         "name": "CS context, Cooling",
         "type": "scatter",
         "x": [
          "january",
          "february",
          "march",
          "april",
          "may",
          "june",
          "july",
          "august",
          "september",
          "october",
          "november",
          "december"
         ],
         "y": [
          0.224322,
          0.334789,
          0.479481,
          1.184509,
          2.731751,
          4.966134,
          6.69825,
          6.592109,
          3.864128,
          1.620085,
          0.839806,
          0.228752
         ]
        },
        {
         "line": {
          "color": "red"
         },
         "mode": "lines+markers",
         "name": "CS context, Heating",
         "type": "scatter",
         "x": [
          "january",
          "february",
          "march",
          "april",
          "may",
          "june",
          "july",
          "august",
          "september",
          "october",
          "november",
          "december"
         ],
         "y": [
          22.477821,
          16.568589,
          12.775908,
          4.114498,
          1.032315,
          0.269734,
          0.015241,
          0.024786,
          0.280518,
          2.737289,
          7.922957,
          14.404169
         ]
        },
        {
         "line": {
          "color": "blue",
          "dash": "dash"
         },
         "mode": "lines+markers",
         "name": "CS no-shad, Cooling",
         "type": "scatter",
         "x": [
          "january",
          "february",
          "march",
          "april",
          "may",
          "june",
          "july",
          "august",
          "september",
          "october",
          "november",
          "december"
         ],
         "y": [
          1.6872813796730468,
          1.9972361176420805,
          2.6448205145707995,
          4.036838471768284,
          6.060752519226344,
          8.317711605121852,
          9.946911789744394,
          9.94454657071149,
          6.390152771885637,
          4.0995772624610485,
          2.9602463771557646,
          1.3576831654037265
         ]
        },
        {
         "line": {
          "color": "red",
          "dash": "dash"
         },
         "mode": "lines+markers",
         "name": "CS no-shad, Heating",
         "type": "scatter",
         "x": [
          "january",
          "february",
          "march",
          "april",
          "may",
          "june",
          "july",
          "august",
          "september",
          "october",
          "november",
          "december"
         ],
         "y": [
          15.06146364406778,
          10.697834575154188,
          8.418437484507665,
          3.1637375977967834,
          1.162145774926462,
          0.28199825616305896,
          0.029763138710361195,
          0.041854998013369685,
          0.4466748462194425,
          2.6542595316528796,
          6.128795590417375,
          10.187072286677196
         ]
        }
       ],
       "layout": {
        "autosize": false,
        "height": 600,
        "template": {
         "data": {
          "bar": [
           {
            "error_x": {
             "color": "#2a3f5f"
            },
            "error_y": {
             "color": "#2a3f5f"
            },
            "marker": {
             "line": {
              "color": "#E5ECF6",
              "width": 0.5
             },
             "pattern": {
              "fillmode": "overlay",
              "size": 10,
              "solidity": 0.2
             }
            },
            "type": "bar"
           }
          ],
          "barpolar": [
           {
            "marker": {
             "line": {
              "color": "#E5ECF6",
              "width": 0.5
             },
             "pattern": {
              "fillmode": "overlay",
              "size": 10,
              "solidity": 0.2
             }
            },
            "type": "barpolar"
           }
          ],
          "carpet": [
           {
            "aaxis": {
             "endlinecolor": "#2a3f5f",
             "gridcolor": "white",
             "linecolor": "white",
             "minorgridcolor": "white",
             "startlinecolor": "#2a3f5f"
            },
            "baxis": {
             "endlinecolor": "#2a3f5f",
             "gridcolor": "white",
             "linecolor": "white",
             "minorgridcolor": "white",
             "startlinecolor": "#2a3f5f"
            },
            "type": "carpet"
           }
          ],
          "choropleth": [
           {
            "colorbar": {
             "outlinewidth": 0,
             "ticks": ""
            },
            "type": "choropleth"
           }
          ],
          "contour": [
           {
            "colorbar": {
             "outlinewidth": 0,
             "ticks": ""
            },
            "colorscale": [
             [
              0,
              "#0d0887"
             ],
             [
              0.1111111111111111,
              "#46039f"
             ],
             [
              0.2222222222222222,
              "#7201a8"
             ],
             [
              0.3333333333333333,
              "#9c179e"
             ],
             [
              0.4444444444444444,
              "#bd3786"
             ],
             [
              0.5555555555555556,
              "#d8576b"
             ],
             [
              0.6666666666666666,
              "#ed7953"
             ],
             [
              0.7777777777777778,
              "#fb9f3a"
             ],
             [
              0.8888888888888888,
              "#fdca26"
             ],
             [
              1,
              "#f0f921"
             ]
            ],
            "type": "contour"
           }
          ],
          "contourcarpet": [
           {
            "colorbar": {
             "outlinewidth": 0,
             "ticks": ""
            },
            "type": "contourcarpet"
           }
          ],
          "heatmap": [
           {
            "colorbar": {
             "outlinewidth": 0,
             "ticks": ""
            },
            "colorscale": [
             [
              0,
              "#0d0887"
             ],
             [
              0.1111111111111111,
              "#46039f"
             ],
             [
              0.2222222222222222,
              "#7201a8"
             ],
             [
              0.3333333333333333,
              "#9c179e"
             ],
             [
              0.4444444444444444,
              "#bd3786"
             ],
             [
              0.5555555555555556,
              "#d8576b"
             ],
             [
              0.6666666666666666,
              "#ed7953"
             ],
             [
              0.7777777777777778,
              "#fb9f3a"
             ],
             [
              0.8888888888888888,
              "#fdca26"
             ],
             [
              1,
              "#f0f921"
             ]
            ],
            "type": "heatmap"
           }
          ],
          "heatmapgl": [
           {
            "colorbar": {
             "outlinewidth": 0,
             "ticks": ""
            },
            "colorscale": [
             [
              0,
              "#0d0887"
             ],
             [
              0.1111111111111111,
              "#46039f"
             ],
             [
              0.2222222222222222,
              "#7201a8"
             ],
             [
              0.3333333333333333,
              "#9c179e"
             ],
             [
              0.4444444444444444,
              "#bd3786"
             ],
             [
              0.5555555555555556,
              "#d8576b"
             ],
             [
              0.6666666666666666,
              "#ed7953"
             ],
             [
              0.7777777777777778,
              "#fb9f3a"
             ],
             [
              0.8888888888888888,
              "#fdca26"
             ],
             [
              1,
              "#f0f921"
             ]
            ],
            "type": "heatmapgl"
           }
          ],
          "histogram": [
           {
            "marker": {
             "pattern": {
              "fillmode": "overlay",
              "size": 10,
              "solidity": 0.2
             }
            },
            "type": "histogram"
           }
          ],
          "histogram2d": [
           {
            "colorbar": {
             "outlinewidth": 0,
             "ticks": ""
            },
            "colorscale": [
             [
              0,
              "#0d0887"
             ],
             [
              0.1111111111111111,
              "#46039f"
             ],
             [
              0.2222222222222222,
              "#7201a8"
             ],
             [
              0.3333333333333333,
              "#9c179e"
             ],
             [
              0.4444444444444444,
              "#bd3786"
             ],
             [
              0.5555555555555556,
              "#d8576b"
             ],
             [
              0.6666666666666666,
              "#ed7953"
             ],
             [
              0.7777777777777778,
              "#fb9f3a"
             ],
             [
              0.8888888888888888,
              "#fdca26"
             ],
             [
              1,
              "#f0f921"
             ]
            ],
            "type": "histogram2d"
           }
          ],
          "histogram2dcontour": [
           {
            "colorbar": {
             "outlinewidth": 0,
             "ticks": ""
            },
            "colorscale": [
             [
              0,
              "#0d0887"
             ],
             [
              0.1111111111111111,
              "#46039f"
             ],
             [
              0.2222222222222222,
              "#7201a8"
             ],
             [
              0.3333333333333333,
              "#9c179e"
             ],
             [
              0.4444444444444444,
              "#bd3786"
             ],
             [
              0.5555555555555556,
              "#d8576b"
             ],
             [
              0.6666666666666666,
              "#ed7953"
             ],
             [
              0.7777777777777778,
              "#fb9f3a"
             ],
             [
              0.8888888888888888,
              "#fdca26"
             ],
             [
              1,
              "#f0f921"
             ]
            ],
            "type": "histogram2dcontour"
           }
          ],
          "mesh3d": [
           {
            "colorbar": {
             "outlinewidth": 0,
             "ticks": ""
            },
            "type": "mesh3d"
           }
          ],
          "parcoords": [
           {
            "line": {
             "colorbar": {
              "outlinewidth": 0,
              "ticks": ""
             }
            },
            "type": "parcoords"
           }
          ],
          "pie": [
           {
            "automargin": true,
            "type": "pie"
           }
          ],
          "scatter": [
           {
            "fillpattern": {
             "fillmode": "overlay",
             "size": 10,
             "solidity": 0.2
            },
            "type": "scatter"
           }
          ],
          "scatter3d": [
           {
            "line": {
             "colorbar": {
              "outlinewidth": 0,
              "ticks": ""
             }
            },
            "marker": {
             "colorbar": {
              "outlinewidth": 0,
              "ticks": ""
             }
            },
            "type": "scatter3d"
           }
          ],
          "scattercarpet": [
           {
            "marker": {
             "colorbar": {
              "outlinewidth": 0,
              "ticks": ""
             }
            },
            "type": "scattercarpet"
           }
          ],
          "scattergeo": [
           {
            "marker": {
             "colorbar": {
              "outlinewidth": 0,
              "ticks": ""
             }
            },
            "type": "scattergeo"
           }
          ],
          "scattergl": [
           {
            "marker": {
             "colorbar": {
              "outlinewidth": 0,
              "ticks": ""
             }
            },
            "type": "scattergl"
           }
          ],
          "scattermapbox": [
           {
            "marker": {
             "colorbar": {
              "outlinewidth": 0,
              "ticks": ""
             }
            },
            "type": "scattermapbox"
           }
          ],
          "scatterpolar": [
           {
            "marker": {
             "colorbar": {
              "outlinewidth": 0,
              "ticks": ""
             }
            },
            "type": "scatterpolar"
           }
          ],
          "scatterpolargl": [
           {
            "marker": {
             "colorbar": {
              "outlinewidth": 0,
              "ticks": ""
             }
            },
            "type": "scatterpolargl"
           }
          ],
          "scatterternary": [
           {
            "marker": {
             "colorbar": {
              "outlinewidth": 0,
              "ticks": ""
             }
            },
            "type": "scatterternary"
           }
          ],
          "surface": [
           {
            "colorbar": {
             "outlinewidth": 0,
             "ticks": ""
            },
            "colorscale": [
             [
              0,
              "#0d0887"
             ],
             [
              0.1111111111111111,
              "#46039f"
             ],
             [
              0.2222222222222222,
              "#7201a8"
             ],
             [
              0.3333333333333333,
              "#9c179e"
             ],
             [
              0.4444444444444444,
              "#bd3786"
             ],
             [
              0.5555555555555556,
              "#d8576b"
             ],
             [
              0.6666666666666666,
              "#ed7953"
             ],
             [
              0.7777777777777778,
              "#fb9f3a"
             ],
             [
              0.8888888888888888,
              "#fdca26"
             ],
             [
              1,
              "#f0f921"
             ]
            ],
            "type": "surface"
           }
          ],
          "table": [
           {
            "cells": {
             "fill": {
              "color": "#EBF0F8"
             },
             "line": {
              "color": "white"
             }
            },
            "header": {
             "fill": {
              "color": "#C8D4E3"
             },
             "line": {
              "color": "white"
             }
            },
            "type": "table"
           }
          ]
         },
         "layout": {
          "annotationdefaults": {
           "arrowcolor": "#2a3f5f",
           "arrowhead": 0,
           "arrowwidth": 1
          },
          "autotypenumbers": "strict",
          "coloraxis": {
           "colorbar": {
            "outlinewidth": 0,
            "ticks": ""
           }
          },
          "colorscale": {
           "diverging": [
            [
             0,
             "#8e0152"
            ],
            [
             0.1,
             "#c51b7d"
            ],
            [
             0.2,
             "#de77ae"
            ],
            [
             0.3,
             "#f1b6da"
            ],
            [
             0.4,
             "#fde0ef"
            ],
            [
             0.5,
             "#f7f7f7"
            ],
            [
             0.6,
             "#e6f5d0"
            ],
            [
             0.7,
             "#b8e186"
            ],
            [
             0.8,
             "#7fbc41"
            ],
            [
             0.9,
             "#4d9221"
            ],
            [
             1,
             "#276419"
            ]
           ],
           "sequential": [
            [
             0,
             "#0d0887"
            ],
            [
             0.1111111111111111,
             "#46039f"
            ],
            [
             0.2222222222222222,
             "#7201a8"
            ],
            [
             0.3333333333333333,
             "#9c179e"
            ],
            [
             0.4444444444444444,
             "#bd3786"
            ],
            [
             0.5555555555555556,
             "#d8576b"
            ],
            [
             0.6666666666666666,
             "#ed7953"
            ],
            [
             0.7777777777777778,
             "#fb9f3a"
            ],
            [
             0.8888888888888888,
             "#fdca26"
            ],
            [
             1,
             "#f0f921"
            ]
           ],
           "sequentialminus": [
            [
             0,
             "#0d0887"
            ],
            [
             0.1111111111111111,
             "#46039f"
            ],
            [
             0.2222222222222222,
             "#7201a8"
            ],
            [
             0.3333333333333333,
             "#9c179e"
            ],
            [
             0.4444444444444444,
             "#bd3786"
            ],
            [
             0.5555555555555556,
             "#d8576b"
            ],
            [
             0.6666666666666666,
             "#ed7953"
            ],
            [
             0.7777777777777778,
             "#fb9f3a"
            ],
            [
             0.8888888888888888,
             "#fdca26"
            ],
            [
             1,
             "#f0f921"
            ]
           ]
          },
          "colorway": [
           "#636efa",
           "#EF553B",
           "#00cc96",
           "#ab63fa",
           "#FFA15A",
           "#19d3f3",
           "#FF6692",
           "#B6E880",
           "#FF97FF",
           "#FECB52"
          ],
          "font": {
           "color": "#2a3f5f"
          },
          "geo": {
           "bgcolor": "white",
           "lakecolor": "white",
           "landcolor": "#E5ECF6",
           "showlakes": true,
           "showland": true,
           "subunitcolor": "white"
          },
          "hoverlabel": {
           "align": "left"
          },
          "hovermode": "closest",
          "mapbox": {
           "style": "light"
          },
          "paper_bgcolor": "white",
          "plot_bgcolor": "#E5ECF6",
          "polar": {
           "angularaxis": {
            "gridcolor": "white",
            "linecolor": "white",
            "ticks": ""
           },
           "bgcolor": "#E5ECF6",
           "radialaxis": {
            "gridcolor": "white",
            "linecolor": "white",
            "ticks": ""
           }
          },
          "scene": {
           "xaxis": {
            "backgroundcolor": "#E5ECF6",
            "gridcolor": "white",
            "gridwidth": 2,
            "linecolor": "white",
            "showbackground": true,
            "ticks": "",
            "zerolinecolor": "white"
           },
           "yaxis": {
            "backgroundcolor": "#E5ECF6",
            "gridcolor": "white",
            "gridwidth": 2,
            "linecolor": "white",
            "showbackground": true,
            "ticks": "",
            "zerolinecolor": "white"
           },
           "zaxis": {
            "backgroundcolor": "#E5ECF6",
            "gridcolor": "white",
            "gridwidth": 2,
            "linecolor": "white",
            "showbackground": true,
            "ticks": "",
            "zerolinecolor": "white"
           }
          },
          "shapedefaults": {
           "line": {
            "color": "#2a3f5f"
           }
          },
          "ternary": {
           "aaxis": {
            "gridcolor": "white",
            "linecolor": "white",
            "ticks": ""
           },
           "baxis": {
            "gridcolor": "white",
            "linecolor": "white",
            "ticks": ""
           },
           "bgcolor": "#E5ECF6",
           "caxis": {
            "gridcolor": "white",
            "linecolor": "white",
            "ticks": ""
           }
          },
          "title": {
           "x": 0.05
          },
          "xaxis": {
           "automargin": true,
           "gridcolor": "white",
           "linecolor": "white",
           "ticks": "",
           "title": {
            "standoff": 15
           },
           "zerolinecolor": "white",
           "zerolinewidth": 2
          },
          "yaxis": {
           "automargin": true,
           "gridcolor": "white",
           "linecolor": "white",
           "ticks": "",
           "title": {
            "standoff": 15
           },
           "zerolinecolor": "white",
           "zerolinewidth": 2
          }
         }
        },
        "title": {
         "text": "CS context CS-no shading normalized heating and cooling"
        },
        "width": 800
       }
      }
     },
     "metadata": {},
     "output_type": "display_data"
    }
   ],
   "source": [
    "import plotly.graph_objects as go\n",
    "\n",
    "fig = go.Figure()\n",
    "\n",
    "\n",
    "# fig.add_trace(\n",
    "#     go.Scatter(\n",
    "#         x = umi_df_mon_norm.columns,\n",
    "#         y = shallow_monthly_predictions[\"Cooling\"].multiply(tfa, axis=0).sum(axis=0).divide(tfa.sum()*COP_COOLING),\n",
    "#         mode='lines+markers',\n",
    "#         name = \"Surrogate, Cooling\",\n",
    "#         line=dict(color=\"blue\")\n",
    "#     )\n",
    "# )\n",
    "# fig.add_trace(\n",
    "#     go.Scatter(\n",
    "#         x = umi_df_mon_norm.columns,\n",
    "#         y = shallow_monthly_predictions[\"Heating\"].multiply(tfa, axis=0).sum(axis=0).divide(tfa.sum()*COP_HEATING),\n",
    "#         mode='lines+markers',\n",
    "#         name = \"Surrogate, Heating\",\n",
    "#         line=dict(color=\"red\")\n",
    "#     )\n",
    "# )\n",
    "fig.add_trace(\n",
    "    go.Scatter(\n",
    "        x = umi_df_mon_norm.columns,\n",
    "        y = CS_shallow_results[\"cooling\"],\n",
    "        mode='lines+markers',\n",
    "        name = \"CS context, Cooling\",\n",
    "        line=dict(color=\"blue\")\n",
    "    )\n",
    ")\n",
    "fig.add_trace(\n",
    "    go.Scatter(\n",
    "        x = umi_df_mon_norm.columns,\n",
    "        y = CS_shallow_results[\"heating\"],\n",
    "        mode='lines+markers',\n",
    "        name = \"CS context, Heating\",\n",
    "        line=dict(color=\"red\")\n",
    "    )\n",
    ")\n",
    "fig.add_trace(\n",
    "    go.Scatter(\n",
    "        x = umi_df_mon_norm.columns,\n",
    "        y = CS_shallow_building_results['cooling'].multiply(tfa, axis=0).sum(axis=0).divide(tfa.sum()),\n",
    "        mode='lines+markers',\n",
    "        name = \"CS no-shad, Cooling\",\n",
    "        line=dict(color=\"blue\", dash='dash')\n",
    "    )\n",
    ")\n",
    "fig.add_trace(\n",
    "    go.Scatter(\n",
    "        x = umi_df_mon_norm.columns,\n",
    "        y = CS_shallow_building_results['heating'].multiply(tfa, axis=0).sum(axis=0).divide(tfa.sum()),\n",
    "        mode='lines+markers',\n",
    "        name = \"CS no-shad, Heating\",\n",
    "        line=dict(color=\"red\", dash='dash')\n",
    "    )\n",
    ")\n",
    "\n",
    "# colors = []\n",
    "# for i in range(4):\n",
    "#     fig.data[i].line.color = colors[i]\n",
    "fig.update_layout(\n",
    "    title=\"CS context CS-no shading normalized heating and cooling\",\n",
    "    autosize=False,\n",
    "    width=800,\n",
    "    height=600,\n",
    ")\n",
    "fig.show()"
   ]
  },
  {
   "cell_type": "code",
   "execution_count": 45,
   "metadata": {},
   "outputs": [
    {
     "data": {
      "application/vnd.plotly.v1+json": {
       "config": {
        "plotlyServerURL": "https://plot.ly"
       },
       "data": [
        {
         "line": {
          "color": "blue"
         },
         "mode": "lines+markers",
         "name": "Surrogate, Cooling",
         "type": "scatter",
         "x": [
          "january",
          "february",
          "march",
          "april",
          "may",
          "june",
          "july",
          "august",
          "september",
          "october",
          "november",
          "december"
         ],
         "y": [
          1.4809388068274612,
          1.787932357971916,
          2.5496790472103354,
          3.7609330821468054,
          5.480262952196281,
          8.266004463478655,
          10.035809103972332,
          9.719829396905537,
          6.705014220444201,
          4.166361255096903,
          2.578335182018371,
          1.4144927277576385
         ]
        },
        {
         "line": {
          "color": "red"
         },
         "mode": "lines+markers",
         "name": "Surrogate, Heating",
         "type": "scatter",
         "x": [
          "january",
          "february",
          "march",
          "april",
          "may",
          "june",
          "july",
          "august",
          "september",
          "october",
          "november",
          "december"
         ],
         "y": [
          11.840142742135528,
          9.755864497139207,
          5.1646040944892295,
          0.9245295731666129,
          -0.03988002055196768,
          -0.046138858489948656,
          -0.04720896623209428,
          -0.044739641650492726,
          -0.03772114685981751,
          0.44157590236352245,
          3.4469764966346923,
          7.8799644803190905
         ]
        },
        {
         "line": {
          "color": "blue",
          "dash": "dash"
         },
         "mode": "lines+markers",
         "name": "CS no-shad, Cooling",
         "type": "scatter",
         "x": [
          "january",
          "february",
          "march",
          "april",
          "may",
          "june",
          "july",
          "august",
          "september",
          "october",
          "november",
          "december"
         ],
         "y": [
          1.6872813796730468,
          1.9972361176420805,
          2.6448205145707995,
          4.036838471768284,
          6.060752519226344,
          8.317711605121852,
          9.946911789744394,
          9.94454657071149,
          6.390152771885637,
          4.0995772624610485,
          2.9602463771557646,
          1.3576831654037265
         ]
        },
        {
         "line": {
          "color": "red",
          "dash": "dash"
         },
         "mode": "lines+markers",
         "name": "CS no-shad, Heating",
         "type": "scatter",
         "x": [
          "january",
          "february",
          "march",
          "april",
          "may",
          "june",
          "july",
          "august",
          "september",
          "october",
          "november",
          "december"
         ],
         "y": [
          15.06146364406778,
          10.697834575154188,
          8.418437484507665,
          3.1637375977967834,
          1.162145774926462,
          0.28199825616305896,
          0.029763138710361195,
          0.041854998013369685,
          0.4466748462194425,
          2.6542595316528796,
          6.128795590417375,
          10.187072286677196
         ]
        }
       ],
       "layout": {
        "autosize": false,
        "height": 600,
        "template": {
         "data": {
          "bar": [
           {
            "error_x": {
             "color": "#2a3f5f"
            },
            "error_y": {
             "color": "#2a3f5f"
            },
            "marker": {
             "line": {
              "color": "#E5ECF6",
              "width": 0.5
             },
             "pattern": {
              "fillmode": "overlay",
              "size": 10,
              "solidity": 0.2
             }
            },
            "type": "bar"
           }
          ],
          "barpolar": [
           {
            "marker": {
             "line": {
              "color": "#E5ECF6",
              "width": 0.5
             },
             "pattern": {
              "fillmode": "overlay",
              "size": 10,
              "solidity": 0.2
             }
            },
            "type": "barpolar"
           }
          ],
          "carpet": [
           {
            "aaxis": {
             "endlinecolor": "#2a3f5f",
             "gridcolor": "white",
             "linecolor": "white",
             "minorgridcolor": "white",
             "startlinecolor": "#2a3f5f"
            },
            "baxis": {
             "endlinecolor": "#2a3f5f",
             "gridcolor": "white",
             "linecolor": "white",
             "minorgridcolor": "white",
             "startlinecolor": "#2a3f5f"
            },
            "type": "carpet"
           }
          ],
          "choropleth": [
           {
            "colorbar": {
             "outlinewidth": 0,
             "ticks": ""
            },
            "type": "choropleth"
           }
          ],
          "contour": [
           {
            "colorbar": {
             "outlinewidth": 0,
             "ticks": ""
            },
            "colorscale": [
             [
              0,
              "#0d0887"
             ],
             [
              0.1111111111111111,
              "#46039f"
             ],
             [
              0.2222222222222222,
              "#7201a8"
             ],
             [
              0.3333333333333333,
              "#9c179e"
             ],
             [
              0.4444444444444444,
              "#bd3786"
             ],
             [
              0.5555555555555556,
              "#d8576b"
             ],
             [
              0.6666666666666666,
              "#ed7953"
             ],
             [
              0.7777777777777778,
              "#fb9f3a"
             ],
             [
              0.8888888888888888,
              "#fdca26"
             ],
             [
              1,
              "#f0f921"
             ]
            ],
            "type": "contour"
           }
          ],
          "contourcarpet": [
           {
            "colorbar": {
             "outlinewidth": 0,
             "ticks": ""
            },
            "type": "contourcarpet"
           }
          ],
          "heatmap": [
           {
            "colorbar": {
             "outlinewidth": 0,
             "ticks": ""
            },
            "colorscale": [
             [
              0,
              "#0d0887"
             ],
             [
              0.1111111111111111,
              "#46039f"
             ],
             [
              0.2222222222222222,
              "#7201a8"
             ],
             [
              0.3333333333333333,
              "#9c179e"
             ],
             [
              0.4444444444444444,
              "#bd3786"
             ],
             [
              0.5555555555555556,
              "#d8576b"
             ],
             [
              0.6666666666666666,
              "#ed7953"
             ],
             [
              0.7777777777777778,
              "#fb9f3a"
             ],
             [
              0.8888888888888888,
              "#fdca26"
             ],
             [
              1,
              "#f0f921"
             ]
            ],
            "type": "heatmap"
           }
          ],
          "heatmapgl": [
           {
            "colorbar": {
             "outlinewidth": 0,
             "ticks": ""
            },
            "colorscale": [
             [
              0,
              "#0d0887"
             ],
             [
              0.1111111111111111,
              "#46039f"
             ],
             [
              0.2222222222222222,
              "#7201a8"
             ],
             [
              0.3333333333333333,
              "#9c179e"
             ],
             [
              0.4444444444444444,
              "#bd3786"
             ],
             [
              0.5555555555555556,
              "#d8576b"
             ],
             [
              0.6666666666666666,
              "#ed7953"
             ],
             [
              0.7777777777777778,
              "#fb9f3a"
             ],
             [
              0.8888888888888888,
              "#fdca26"
             ],
             [
              1,
              "#f0f921"
             ]
            ],
            "type": "heatmapgl"
           }
          ],
          "histogram": [
           {
            "marker": {
             "pattern": {
              "fillmode": "overlay",
              "size": 10,
              "solidity": 0.2
             }
            },
            "type": "histogram"
           }
          ],
          "histogram2d": [
           {
            "colorbar": {
             "outlinewidth": 0,
             "ticks": ""
            },
            "colorscale": [
             [
              0,
              "#0d0887"
             ],
             [
              0.1111111111111111,
              "#46039f"
             ],
             [
              0.2222222222222222,
              "#7201a8"
             ],
             [
              0.3333333333333333,
              "#9c179e"
             ],
             [
              0.4444444444444444,
              "#bd3786"
             ],
             [
              0.5555555555555556,
              "#d8576b"
             ],
             [
              0.6666666666666666,
              "#ed7953"
             ],
             [
              0.7777777777777778,
              "#fb9f3a"
             ],
             [
              0.8888888888888888,
              "#fdca26"
             ],
             [
              1,
              "#f0f921"
             ]
            ],
            "type": "histogram2d"
           }
          ],
          "histogram2dcontour": [
           {
            "colorbar": {
             "outlinewidth": 0,
             "ticks": ""
            },
            "colorscale": [
             [
              0,
              "#0d0887"
             ],
             [
              0.1111111111111111,
              "#46039f"
             ],
             [
              0.2222222222222222,
              "#7201a8"
             ],
             [
              0.3333333333333333,
              "#9c179e"
             ],
             [
              0.4444444444444444,
              "#bd3786"
             ],
             [
              0.5555555555555556,
              "#d8576b"
             ],
             [
              0.6666666666666666,
              "#ed7953"
             ],
             [
              0.7777777777777778,
              "#fb9f3a"
             ],
             [
              0.8888888888888888,
              "#fdca26"
             ],
             [
              1,
              "#f0f921"
             ]
            ],
            "type": "histogram2dcontour"
           }
          ],
          "mesh3d": [
           {
            "colorbar": {
             "outlinewidth": 0,
             "ticks": ""
            },
            "type": "mesh3d"
           }
          ],
          "parcoords": [
           {
            "line": {
             "colorbar": {
              "outlinewidth": 0,
              "ticks": ""
             }
            },
            "type": "parcoords"
           }
          ],
          "pie": [
           {
            "automargin": true,
            "type": "pie"
           }
          ],
          "scatter": [
           {
            "fillpattern": {
             "fillmode": "overlay",
             "size": 10,
             "solidity": 0.2
            },
            "type": "scatter"
           }
          ],
          "scatter3d": [
           {
            "line": {
             "colorbar": {
              "outlinewidth": 0,
              "ticks": ""
             }
            },
            "marker": {
             "colorbar": {
              "outlinewidth": 0,
              "ticks": ""
             }
            },
            "type": "scatter3d"
           }
          ],
          "scattercarpet": [
           {
            "marker": {
             "colorbar": {
              "outlinewidth": 0,
              "ticks": ""
             }
            },
            "type": "scattercarpet"
           }
          ],
          "scattergeo": [
           {
            "marker": {
             "colorbar": {
              "outlinewidth": 0,
              "ticks": ""
             }
            },
            "type": "scattergeo"
           }
          ],
          "scattergl": [
           {
            "marker": {
             "colorbar": {
              "outlinewidth": 0,
              "ticks": ""
             }
            },
            "type": "scattergl"
           }
          ],
          "scattermapbox": [
           {
            "marker": {
             "colorbar": {
              "outlinewidth": 0,
              "ticks": ""
             }
            },
            "type": "scattermapbox"
           }
          ],
          "scatterpolar": [
           {
            "marker": {
             "colorbar": {
              "outlinewidth": 0,
              "ticks": ""
             }
            },
            "type": "scatterpolar"
           }
          ],
          "scatterpolargl": [
           {
            "marker": {
             "colorbar": {
              "outlinewidth": 0,
              "ticks": ""
             }
            },
            "type": "scatterpolargl"
           }
          ],
          "scatterternary": [
           {
            "marker": {
             "colorbar": {
              "outlinewidth": 0,
              "ticks": ""
             }
            },
            "type": "scatterternary"
           }
          ],
          "surface": [
           {
            "colorbar": {
             "outlinewidth": 0,
             "ticks": ""
            },
            "colorscale": [
             [
              0,
              "#0d0887"
             ],
             [
              0.1111111111111111,
              "#46039f"
             ],
             [
              0.2222222222222222,
              "#7201a8"
             ],
             [
              0.3333333333333333,
              "#9c179e"
             ],
             [
              0.4444444444444444,
              "#bd3786"
             ],
             [
              0.5555555555555556,
              "#d8576b"
             ],
             [
              0.6666666666666666,
              "#ed7953"
             ],
             [
              0.7777777777777778,
              "#fb9f3a"
             ],
             [
              0.8888888888888888,
              "#fdca26"
             ],
             [
              1,
              "#f0f921"
             ]
            ],
            "type": "surface"
           }
          ],
          "table": [
           {
            "cells": {
             "fill": {
              "color": "#EBF0F8"
             },
             "line": {
              "color": "white"
             }
            },
            "header": {
             "fill": {
              "color": "#C8D4E3"
             },
             "line": {
              "color": "white"
             }
            },
            "type": "table"
           }
          ]
         },
         "layout": {
          "annotationdefaults": {
           "arrowcolor": "#2a3f5f",
           "arrowhead": 0,
           "arrowwidth": 1
          },
          "autotypenumbers": "strict",
          "coloraxis": {
           "colorbar": {
            "outlinewidth": 0,
            "ticks": ""
           }
          },
          "colorscale": {
           "diverging": [
            [
             0,
             "#8e0152"
            ],
            [
             0.1,
             "#c51b7d"
            ],
            [
             0.2,
             "#de77ae"
            ],
            [
             0.3,
             "#f1b6da"
            ],
            [
             0.4,
             "#fde0ef"
            ],
            [
             0.5,
             "#f7f7f7"
            ],
            [
             0.6,
             "#e6f5d0"
            ],
            [
             0.7,
             "#b8e186"
            ],
            [
             0.8,
             "#7fbc41"
            ],
            [
             0.9,
             "#4d9221"
            ],
            [
             1,
             "#276419"
            ]
           ],
           "sequential": [
            [
             0,
             "#0d0887"
            ],
            [
             0.1111111111111111,
             "#46039f"
            ],
            [
             0.2222222222222222,
             "#7201a8"
            ],
            [
             0.3333333333333333,
             "#9c179e"
            ],
            [
             0.4444444444444444,
             "#bd3786"
            ],
            [
             0.5555555555555556,
             "#d8576b"
            ],
            [
             0.6666666666666666,
             "#ed7953"
            ],
            [
             0.7777777777777778,
             "#fb9f3a"
            ],
            [
             0.8888888888888888,
             "#fdca26"
            ],
            [
             1,
             "#f0f921"
            ]
           ],
           "sequentialminus": [
            [
             0,
             "#0d0887"
            ],
            [
             0.1111111111111111,
             "#46039f"
            ],
            [
             0.2222222222222222,
             "#7201a8"
            ],
            [
             0.3333333333333333,
             "#9c179e"
            ],
            [
             0.4444444444444444,
             "#bd3786"
            ],
            [
             0.5555555555555556,
             "#d8576b"
            ],
            [
             0.6666666666666666,
             "#ed7953"
            ],
            [
             0.7777777777777778,
             "#fb9f3a"
            ],
            [
             0.8888888888888888,
             "#fdca26"
            ],
            [
             1,
             "#f0f921"
            ]
           ]
          },
          "colorway": [
           "#636efa",
           "#EF553B",
           "#00cc96",
           "#ab63fa",
           "#FFA15A",
           "#19d3f3",
           "#FF6692",
           "#B6E880",
           "#FF97FF",
           "#FECB52"
          ],
          "font": {
           "color": "#2a3f5f"
          },
          "geo": {
           "bgcolor": "white",
           "lakecolor": "white",
           "landcolor": "#E5ECF6",
           "showlakes": true,
           "showland": true,
           "subunitcolor": "white"
          },
          "hoverlabel": {
           "align": "left"
          },
          "hovermode": "closest",
          "mapbox": {
           "style": "light"
          },
          "paper_bgcolor": "white",
          "plot_bgcolor": "#E5ECF6",
          "polar": {
           "angularaxis": {
            "gridcolor": "white",
            "linecolor": "white",
            "ticks": ""
           },
           "bgcolor": "#E5ECF6",
           "radialaxis": {
            "gridcolor": "white",
            "linecolor": "white",
            "ticks": ""
           }
          },
          "scene": {
           "xaxis": {
            "backgroundcolor": "#E5ECF6",
            "gridcolor": "white",
            "gridwidth": 2,
            "linecolor": "white",
            "showbackground": true,
            "ticks": "",
            "zerolinecolor": "white"
           },
           "yaxis": {
            "backgroundcolor": "#E5ECF6",
            "gridcolor": "white",
            "gridwidth": 2,
            "linecolor": "white",
            "showbackground": true,
            "ticks": "",
            "zerolinecolor": "white"
           },
           "zaxis": {
            "backgroundcolor": "#E5ECF6",
            "gridcolor": "white",
            "gridwidth": 2,
            "linecolor": "white",
            "showbackground": true,
            "ticks": "",
            "zerolinecolor": "white"
           }
          },
          "shapedefaults": {
           "line": {
            "color": "#2a3f5f"
           }
          },
          "ternary": {
           "aaxis": {
            "gridcolor": "white",
            "linecolor": "white",
            "ticks": ""
           },
           "baxis": {
            "gridcolor": "white",
            "linecolor": "white",
            "ticks": ""
           },
           "bgcolor": "#E5ECF6",
           "caxis": {
            "gridcolor": "white",
            "linecolor": "white",
            "ticks": ""
           }
          },
          "title": {
           "x": 0.05
          },
          "xaxis": {
           "automargin": true,
           "gridcolor": "white",
           "linecolor": "white",
           "ticks": "",
           "title": {
            "standoff": 15
           },
           "zerolinecolor": "white",
           "zerolinewidth": 2
          },
          "yaxis": {
           "automargin": true,
           "gridcolor": "white",
           "linecolor": "white",
           "ticks": "",
           "title": {
            "standoff": 15
           },
           "zerolinecolor": "white",
           "zerolinewidth": 2
          }
         }
        },
        "title": {
         "text": "Surrogate and CS-no shading normalized heating and cooling"
        },
        "width": 800
       }
      }
     },
     "metadata": {},
     "output_type": "display_data"
    }
   ],
   "source": [
    "import plotly.graph_objects as go\n",
    "\n",
    "fig = go.Figure()\n",
    "\n",
    "\n",
    "fig.add_trace(\n",
    "    go.Scatter(\n",
    "        x = umi_df_mon_norm.columns,\n",
    "        y = shallow_monthly_predictions[\"Cooling\"].multiply(tfa, axis=0).sum(axis=0).divide(tfa.sum()*COP_COOLING),\n",
    "        mode='lines+markers',\n",
    "        name = \"Surrogate, Cooling\",\n",
    "        line=dict(color=\"blue\")\n",
    "    )\n",
    ")\n",
    "fig.add_trace(\n",
    "    go.Scatter(\n",
    "        x = umi_df_mon_norm.columns,\n",
    "        y = shallow_monthly_predictions[\"Heating\"].multiply(tfa, axis=0).sum(axis=0).divide(tfa.sum()*COP_HEATING),\n",
    "        mode='lines+markers',\n",
    "        name = \"Surrogate, Heating\",\n",
    "        line=dict(color=\"red\")\n",
    "    )\n",
    ")\n",
    "fig.add_trace(\n",
    "    go.Scatter(\n",
    "        x = umi_df_mon_norm.columns,\n",
    "        y = CS_shallow_building_results['cooling'].multiply(tfa, axis=0).sum(axis=0).divide(tfa.sum()),\n",
    "        mode='lines+markers',\n",
    "        name = \"CS no-shad, Cooling\",\n",
    "        line=dict(color=\"blue\", dash='dash')\n",
    "    )\n",
    ")\n",
    "fig.add_trace(\n",
    "    go.Scatter(\n",
    "        x = umi_df_mon_norm.columns,\n",
    "        y = CS_shallow_building_results['heating'].multiply(tfa, axis=0).sum(axis=0).divide(tfa.sum()),\n",
    "        mode='lines+markers',\n",
    "        name = \"CS no-shad, Heating\",\n",
    "        line=dict(color=\"red\", dash='dash')\n",
    "    )\n",
    ")\n",
    "\n",
    "# colors = []\n",
    "# for i in range(4):\n",
    "#     fig.data[i].line.color = colors[i]\n",
    "fig.update_layout(\n",
    "    title=\"Surrogate and CS-no shading normalized heating and cooling\",\n",
    "    autosize=False,\n",
    "    width=800,\n",
    "    height=600,\n",
    ")\n",
    "fig.show()"
   ]
  },
  {
   "cell_type": "code",
   "execution_count": 183,
   "metadata": {},
   "outputs": [
    {
     "data": {
      "application/vnd.plotly.v1+json": {
       "config": {
        "plotlyServerURL": "https://plot.ly"
       },
       "data": [
        {
         "name": "Cooling",
         "type": "bar",
         "x": [
          [
           "Baseline",
           "Upgrade",
           "Baseline",
           "Upgrade",
           "Baseline",
           "Upgrade"
          ],
          [
           "Surrogate",
           "CS no-shad",
           "CS Context",
           "Surrogate",
           "CS no-shad",
           "CS Context"
          ]
         ],
         "y": [
          44.98328385129753,
          54.61739273118279,
          29.764115999999998,
          55.57301469539583,
          57.9597517311828,
          29.764115999999998
         ]
        },
        {
         "name": "Heating",
         "type": "bar",
         "x": [
          [
           "Baseline",
           "Upgrade",
           "Baseline",
           "Upgrade",
           "Baseline",
           "Upgrade"
          ],
          [
           "Surrogate",
           "CS no-shad",
           "CS Context",
           "Surrogate",
           "CS no-shad",
           "CS Context"
          ]
         ],
         "y": [
          207.60627250377192,
          152.6952668802688,
          82.62382499999998,
          80.38759169867913,
          53.28999738962258,
          82.62382499999998
         ]
        }
       ],
       "layout": {
        "autosize": false,
        "barmode": "stack",
        "height": 600,
        "template": {
         "data": {
          "bar": [
           {
            "error_x": {
             "color": "#2a3f5f"
            },
            "error_y": {
             "color": "#2a3f5f"
            },
            "marker": {
             "line": {
              "color": "#E5ECF6",
              "width": 0.5
             },
             "pattern": {
              "fillmode": "overlay",
              "size": 10,
              "solidity": 0.2
             }
            },
            "type": "bar"
           }
          ],
          "barpolar": [
           {
            "marker": {
             "line": {
              "color": "#E5ECF6",
              "width": 0.5
             },
             "pattern": {
              "fillmode": "overlay",
              "size": 10,
              "solidity": 0.2
             }
            },
            "type": "barpolar"
           }
          ],
          "carpet": [
           {
            "aaxis": {
             "endlinecolor": "#2a3f5f",
             "gridcolor": "white",
             "linecolor": "white",
             "minorgridcolor": "white",
             "startlinecolor": "#2a3f5f"
            },
            "baxis": {
             "endlinecolor": "#2a3f5f",
             "gridcolor": "white",
             "linecolor": "white",
             "minorgridcolor": "white",
             "startlinecolor": "#2a3f5f"
            },
            "type": "carpet"
           }
          ],
          "choropleth": [
           {
            "colorbar": {
             "outlinewidth": 0,
             "ticks": ""
            },
            "type": "choropleth"
           }
          ],
          "contour": [
           {
            "colorbar": {
             "outlinewidth": 0,
             "ticks": ""
            },
            "colorscale": [
             [
              0,
              "#0d0887"
             ],
             [
              0.1111111111111111,
              "#46039f"
             ],
             [
              0.2222222222222222,
              "#7201a8"
             ],
             [
              0.3333333333333333,
              "#9c179e"
             ],
             [
              0.4444444444444444,
              "#bd3786"
             ],
             [
              0.5555555555555556,
              "#d8576b"
             ],
             [
              0.6666666666666666,
              "#ed7953"
             ],
             [
              0.7777777777777778,
              "#fb9f3a"
             ],
             [
              0.8888888888888888,
              "#fdca26"
             ],
             [
              1,
              "#f0f921"
             ]
            ],
            "type": "contour"
           }
          ],
          "contourcarpet": [
           {
            "colorbar": {
             "outlinewidth": 0,
             "ticks": ""
            },
            "type": "contourcarpet"
           }
          ],
          "heatmap": [
           {
            "colorbar": {
             "outlinewidth": 0,
             "ticks": ""
            },
            "colorscale": [
             [
              0,
              "#0d0887"
             ],
             [
              0.1111111111111111,
              "#46039f"
             ],
             [
              0.2222222222222222,
              "#7201a8"
             ],
             [
              0.3333333333333333,
              "#9c179e"
             ],
             [
              0.4444444444444444,
              "#bd3786"
             ],
             [
              0.5555555555555556,
              "#d8576b"
             ],
             [
              0.6666666666666666,
              "#ed7953"
             ],
             [
              0.7777777777777778,
              "#fb9f3a"
             ],
             [
              0.8888888888888888,
              "#fdca26"
             ],
             [
              1,
              "#f0f921"
             ]
            ],
            "type": "heatmap"
           }
          ],
          "heatmapgl": [
           {
            "colorbar": {
             "outlinewidth": 0,
             "ticks": ""
            },
            "colorscale": [
             [
              0,
              "#0d0887"
             ],
             [
              0.1111111111111111,
              "#46039f"
             ],
             [
              0.2222222222222222,
              "#7201a8"
             ],
             [
              0.3333333333333333,
              "#9c179e"
             ],
             [
              0.4444444444444444,
              "#bd3786"
             ],
             [
              0.5555555555555556,
              "#d8576b"
             ],
             [
              0.6666666666666666,
              "#ed7953"
             ],
             [
              0.7777777777777778,
              "#fb9f3a"
             ],
             [
              0.8888888888888888,
              "#fdca26"
             ],
             [
              1,
              "#f0f921"
             ]
            ],
            "type": "heatmapgl"
           }
          ],
          "histogram": [
           {
            "marker": {
             "pattern": {
              "fillmode": "overlay",
              "size": 10,
              "solidity": 0.2
             }
            },
            "type": "histogram"
           }
          ],
          "histogram2d": [
           {
            "colorbar": {
             "outlinewidth": 0,
             "ticks": ""
            },
            "colorscale": [
             [
              0,
              "#0d0887"
             ],
             [
              0.1111111111111111,
              "#46039f"
             ],
             [
              0.2222222222222222,
              "#7201a8"
             ],
             [
              0.3333333333333333,
              "#9c179e"
             ],
             [
              0.4444444444444444,
              "#bd3786"
             ],
             [
              0.5555555555555556,
              "#d8576b"
             ],
             [
              0.6666666666666666,
              "#ed7953"
             ],
             [
              0.7777777777777778,
              "#fb9f3a"
             ],
             [
              0.8888888888888888,
              "#fdca26"
             ],
             [
              1,
              "#f0f921"
             ]
            ],
            "type": "histogram2d"
           }
          ],
          "histogram2dcontour": [
           {
            "colorbar": {
             "outlinewidth": 0,
             "ticks": ""
            },
            "colorscale": [
             [
              0,
              "#0d0887"
             ],
             [
              0.1111111111111111,
              "#46039f"
             ],
             [
              0.2222222222222222,
              "#7201a8"
             ],
             [
              0.3333333333333333,
              "#9c179e"
             ],
             [
              0.4444444444444444,
              "#bd3786"
             ],
             [
              0.5555555555555556,
              "#d8576b"
             ],
             [
              0.6666666666666666,
              "#ed7953"
             ],
             [
              0.7777777777777778,
              "#fb9f3a"
             ],
             [
              0.8888888888888888,
              "#fdca26"
             ],
             [
              1,
              "#f0f921"
             ]
            ],
            "type": "histogram2dcontour"
           }
          ],
          "mesh3d": [
           {
            "colorbar": {
             "outlinewidth": 0,
             "ticks": ""
            },
            "type": "mesh3d"
           }
          ],
          "parcoords": [
           {
            "line": {
             "colorbar": {
              "outlinewidth": 0,
              "ticks": ""
             }
            },
            "type": "parcoords"
           }
          ],
          "pie": [
           {
            "automargin": true,
            "type": "pie"
           }
          ],
          "scatter": [
           {
            "fillpattern": {
             "fillmode": "overlay",
             "size": 10,
             "solidity": 0.2
            },
            "type": "scatter"
           }
          ],
          "scatter3d": [
           {
            "line": {
             "colorbar": {
              "outlinewidth": 0,
              "ticks": ""
             }
            },
            "marker": {
             "colorbar": {
              "outlinewidth": 0,
              "ticks": ""
             }
            },
            "type": "scatter3d"
           }
          ],
          "scattercarpet": [
           {
            "marker": {
             "colorbar": {
              "outlinewidth": 0,
              "ticks": ""
             }
            },
            "type": "scattercarpet"
           }
          ],
          "scattergeo": [
           {
            "marker": {
             "colorbar": {
              "outlinewidth": 0,
              "ticks": ""
             }
            },
            "type": "scattergeo"
           }
          ],
          "scattergl": [
           {
            "marker": {
             "colorbar": {
              "outlinewidth": 0,
              "ticks": ""
             }
            },
            "type": "scattergl"
           }
          ],
          "scattermapbox": [
           {
            "marker": {
             "colorbar": {
              "outlinewidth": 0,
              "ticks": ""
             }
            },
            "type": "scattermapbox"
           }
          ],
          "scatterpolar": [
           {
            "marker": {
             "colorbar": {
              "outlinewidth": 0,
              "ticks": ""
             }
            },
            "type": "scatterpolar"
           }
          ],
          "scatterpolargl": [
           {
            "marker": {
             "colorbar": {
              "outlinewidth": 0,
              "ticks": ""
             }
            },
            "type": "scatterpolargl"
           }
          ],
          "scatterternary": [
           {
            "marker": {
             "colorbar": {
              "outlinewidth": 0,
              "ticks": ""
             }
            },
            "type": "scatterternary"
           }
          ],
          "surface": [
           {
            "colorbar": {
             "outlinewidth": 0,
             "ticks": ""
            },
            "colorscale": [
             [
              0,
              "#0d0887"
             ],
             [
              0.1111111111111111,
              "#46039f"
             ],
             [
              0.2222222222222222,
              "#7201a8"
             ],
             [
              0.3333333333333333,
              "#9c179e"
             ],
             [
              0.4444444444444444,
              "#bd3786"
             ],
             [
              0.5555555555555556,
              "#d8576b"
             ],
             [
              0.6666666666666666,
              "#ed7953"
             ],
             [
              0.7777777777777778,
              "#fb9f3a"
             ],
             [
              0.8888888888888888,
              "#fdca26"
             ],
             [
              1,
              "#f0f921"
             ]
            ],
            "type": "surface"
           }
          ],
          "table": [
           {
            "cells": {
             "fill": {
              "color": "#EBF0F8"
             },
             "line": {
              "color": "white"
             }
            },
            "header": {
             "fill": {
              "color": "#C8D4E3"
             },
             "line": {
              "color": "white"
             }
            },
            "type": "table"
           }
          ]
         },
         "layout": {
          "annotationdefaults": {
           "arrowcolor": "#2a3f5f",
           "arrowhead": 0,
           "arrowwidth": 1
          },
          "autotypenumbers": "strict",
          "coloraxis": {
           "colorbar": {
            "outlinewidth": 0,
            "ticks": ""
           }
          },
          "colorscale": {
           "diverging": [
            [
             0,
             "#8e0152"
            ],
            [
             0.1,
             "#c51b7d"
            ],
            [
             0.2,
             "#de77ae"
            ],
            [
             0.3,
             "#f1b6da"
            ],
            [
             0.4,
             "#fde0ef"
            ],
            [
             0.5,
             "#f7f7f7"
            ],
            [
             0.6,
             "#e6f5d0"
            ],
            [
             0.7,
             "#b8e186"
            ],
            [
             0.8,
             "#7fbc41"
            ],
            [
             0.9,
             "#4d9221"
            ],
            [
             1,
             "#276419"
            ]
           ],
           "sequential": [
            [
             0,
             "#0d0887"
            ],
            [
             0.1111111111111111,
             "#46039f"
            ],
            [
             0.2222222222222222,
             "#7201a8"
            ],
            [
             0.3333333333333333,
             "#9c179e"
            ],
            [
             0.4444444444444444,
             "#bd3786"
            ],
            [
             0.5555555555555556,
             "#d8576b"
            ],
            [
             0.6666666666666666,
             "#ed7953"
            ],
            [
             0.7777777777777778,
             "#fb9f3a"
            ],
            [
             0.8888888888888888,
             "#fdca26"
            ],
            [
             1,
             "#f0f921"
            ]
           ],
           "sequentialminus": [
            [
             0,
             "#0d0887"
            ],
            [
             0.1111111111111111,
             "#46039f"
            ],
            [
             0.2222222222222222,
             "#7201a8"
            ],
            [
             0.3333333333333333,
             "#9c179e"
            ],
            [
             0.4444444444444444,
             "#bd3786"
            ],
            [
             0.5555555555555556,
             "#d8576b"
            ],
            [
             0.6666666666666666,
             "#ed7953"
            ],
            [
             0.7777777777777778,
             "#fb9f3a"
            ],
            [
             0.8888888888888888,
             "#fdca26"
            ],
            [
             1,
             "#f0f921"
            ]
           ]
          },
          "colorway": [
           "#636efa",
           "#EF553B",
           "#00cc96",
           "#ab63fa",
           "#FFA15A",
           "#19d3f3",
           "#FF6692",
           "#B6E880",
           "#FF97FF",
           "#FECB52"
          ],
          "font": {
           "color": "#2a3f5f"
          },
          "geo": {
           "bgcolor": "white",
           "lakecolor": "white",
           "landcolor": "#E5ECF6",
           "showlakes": true,
           "showland": true,
           "subunitcolor": "white"
          },
          "hoverlabel": {
           "align": "left"
          },
          "hovermode": "closest",
          "mapbox": {
           "style": "light"
          },
          "paper_bgcolor": "white",
          "plot_bgcolor": "#E5ECF6",
          "polar": {
           "angularaxis": {
            "gridcolor": "white",
            "linecolor": "white",
            "ticks": ""
           },
           "bgcolor": "#E5ECF6",
           "radialaxis": {
            "gridcolor": "white",
            "linecolor": "white",
            "ticks": ""
           }
          },
          "scene": {
           "xaxis": {
            "backgroundcolor": "#E5ECF6",
            "gridcolor": "white",
            "gridwidth": 2,
            "linecolor": "white",
            "showbackground": true,
            "ticks": "",
            "zerolinecolor": "white"
           },
           "yaxis": {
            "backgroundcolor": "#E5ECF6",
            "gridcolor": "white",
            "gridwidth": 2,
            "linecolor": "white",
            "showbackground": true,
            "ticks": "",
            "zerolinecolor": "white"
           },
           "zaxis": {
            "backgroundcolor": "#E5ECF6",
            "gridcolor": "white",
            "gridwidth": 2,
            "linecolor": "white",
            "showbackground": true,
            "ticks": "",
            "zerolinecolor": "white"
           }
          },
          "shapedefaults": {
           "line": {
            "color": "#2a3f5f"
           }
          },
          "ternary": {
           "aaxis": {
            "gridcolor": "white",
            "linecolor": "white",
            "ticks": ""
           },
           "baxis": {
            "gridcolor": "white",
            "linecolor": "white",
            "ticks": ""
           },
           "bgcolor": "#E5ECF6",
           "caxis": {
            "gridcolor": "white",
            "linecolor": "white",
            "ticks": ""
           }
          },
          "title": {
           "x": 0.05
          },
          "xaxis": {
           "automargin": true,
           "gridcolor": "white",
           "linecolor": "white",
           "ticks": "",
           "title": {
            "standoff": 15
           },
           "zerolinecolor": "white",
           "zerolinewidth": 2
          },
          "yaxis": {
           "automargin": true,
           "gridcolor": "white",
           "linecolor": "white",
           "ticks": "",
           "title": {
            "standoff": 15
           },
           "zerolinecolor": "white",
           "zerolinewidth": 2
          }
         }
        },
        "width": 800
       }
      }
     },
     "metadata": {},
     "output_type": "display_data"
    }
   ],
   "source": [
    "# Annual comparison\n",
    "x = [[\"Baseline\", \"Upgrade\"]*3, ['Surrogate', \"CS no-shad\", 'CS Context']*2]\n",
    "fig = go.Figure(data=[\n",
    "    go.Bar(\n",
    "        name='Cooling', \n",
    "        x=x, \n",
    "        y=[\n",
    "            annual_predictions[\"Cooling\"].sum()/COP_COOLING/93,\n",
    "            CS_building_results['cooling'].sum().sum()/93,\n",
    "            CS_results['cooling'].sum(),\n",
    "            shallow_annual_predictions[\"Cooling\"].sum()/COP_COOLING/93,\n",
    "            CS_shallow_building_results['cooling'].sum().sum()/93,\n",
    "            CS_shallow_results['cooling'].sum(),\n",
    "            ]),\n",
    "    go.Bar(\n",
    "        name='Heating', \n",
    "        x=x, \n",
    "        y=[\n",
    "            annual_predictions[\"Heating\"].sum()/COP_HEATING/93,\n",
    "            CS_building_results['heating'].sum().sum()/93,\n",
    "            CS_results['heating'].sum(),\n",
    "            shallow_annual_predictions[\"Heating\"].sum()/COP_HEATING/93,\n",
    "            CS_shallow_building_results['heating'].sum().sum()/93,\n",
    "            CS_shallow_results['heating'].sum(),\n",
    "            ]\n",
    "        ),\n",
    "])\n",
    "fig.update_layout(\n",
    "    barmode='stack',\n",
    "    autosize=False,\n",
    "    width=800,\n",
    "    height=600,\n",
    "    # update_x\n",
    "    )"
   ]
  }
 ],
 "metadata": {
  "kernelspec": {
   "display_name": "ml-for-bem",
   "language": "python",
   "name": "python3"
  },
  "language_info": {
   "codemirror_mode": {
    "name": "ipython",
    "version": 3
   },
   "file_extension": ".py",
   "mimetype": "text/x-python",
   "name": "python",
   "nbconvert_exporter": "python",
   "pygments_lexer": "ipython3",
   "version": "3.8.16"
  },
  "orig_nbformat": 4
 },
 "nbformat": 4,
 "nbformat_minor": 2
}

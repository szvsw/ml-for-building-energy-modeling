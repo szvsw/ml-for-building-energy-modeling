{
 "cells": [
  {
   "cell_type": "code",
   "execution_count": 1,
   "metadata": {},
   "outputs": [],
   "source": [
    "import boto3\n",
    "import os\n",
    "from pathlib import Path\n",
    "import pandas as pd\n",
    "from tqdm.notebook import tqdm\n",
    "from concurrent.futures import ThreadPoolExecutor\n",
    "\n",
    "client = boto3.client('s3')\n",
    "\n",
    "bucket = \"ml-for-bem\"\n",
    "# experiment_name = \"single-climate-zone/v1/nyc\"\n",
    "# experiment_name = \"full_climate_zone/v1/train\"\n",
    "# experiment_name = \"full_climate_zone/v2/test\"\n",
    "# experiment_name = \"full_climate_zone/v3/train\"\n",
    "# experiment_name = \"full_climate_zone/v3/test\"\n",
    "# experiment_name = \"full_climate_zone/v4/train\"\n",
    "# experiment_name = \"full_climate_zone/v4/test\"\n",
    "# experiment_name = \"full_climate_zone/v5/train\"\n",
    "# experiment_name = \"full_climate_zone/batch-test/train\"\n",
    "# experiment_name = \"full_climate_zone/v6/test\"\n",
    "# experiment_name = \"single-climate-zone/v2/train\"\n",
    "# experiment_name = \"full_climate_zone/v7/train\"\n",
    "# experiment_name = \"full_climate_zone/v7/test\"\n",
    "# experiment_name = \"single-climate-zone/toronto/v7/test\"\n",
    "experiment_name = \"full_climate_zone/v8/train\"\n",
    "experiment_name = \"full_climate_zone/test/with-hourly\"\n",
    "experiment_name = \"full_climate_zone_hourly/v1/test\"\n",
    "\n",
    "time_resolution = \"hourly\""
   ]
  },
  {
   "cell_type": "code",
   "execution_count": 2,
   "metadata": {},
   "outputs": [
    {
     "name": "stdout",
     "output_type": "stream",
     "text": [
      "No errors reported!\n",
      "0\n"
     ]
    }
   ],
   "source": [
    "paginator = client.get_paginator('list_objects_v2')\n",
    "pages = paginator.paginate(Bucket=bucket, Prefix=experiment_name + \"/errors/\")\n",
    "\n",
    "error_ids = []\n",
    "files = []\n",
    "for page in pages:\n",
    "    try:\n",
    "        contents = page[\"Contents\"]\n",
    "    except KeyError:\n",
    "        print(\"No errors reported!\")\n",
    "    else:\n",
    "        for obj in page['Contents']:\n",
    "            files.append(obj['Key'])\n",
    "            error_ids.append(obj['Key'].split('/')[-1].split('.')[0])\n",
    "        \n",
    "print(len(error_ids))"
   ]
  },
  {
   "cell_type": "code",
   "execution_count": 3,
   "metadata": {},
   "outputs": [
    {
     "name": "stdout",
     "output_type": "stream",
     "text": [
      "1000\n"
     ]
    }
   ],
   "source": [
    "# get a list of all the files in the /monthly/ folder\n",
    "\n",
    "pages = paginator.paginate(Bucket=bucket, Prefix=experiment_name + f\"/{time_resolution}/\")\n",
    "\n",
    "timestep_files = []\n",
    "for page in pages:\n",
    "    for obj in page['Contents']:\n",
    "        timestep_files.append(obj['Key'])\n",
    "print(len(timestep_files))"
   ]
  },
  {
   "cell_type": "code",
   "execution_count": 4,
   "metadata": {},
   "outputs": [],
   "source": [
    "def download_and_open(file):\n",
    "    client.download_file(bucket, file, \"data/hdf5/\" + file)\n",
    "    with pd.HDFStore(\"data/hdf5/\" + file) as store:\n",
    "        df = store[\"batch_results\"]\n",
    "    os.remove(\"data/hdf5/\" + file)\n",
    "    return df"
   ]
  },
  {
   "cell_type": "code",
   "execution_count": 5,
   "metadata": {},
   "outputs": [
    {
     "data": {
      "application/json": {
       "ascii": false,
       "bar_format": null,
       "colour": null,
       "elapsed": 0.004002094268798828,
       "initial": 0,
       "n": 0,
       "ncols": null,
       "nrows": null,
       "postfix": null,
       "prefix": "",
       "rate": null,
       "total": 1000,
       "unit": "it",
       "unit_divisor": 1000,
       "unit_scale": false
      },
      "application/vnd.jupyter.widget-view+json": {
       "model_id": "76d10c7f0cf747ccbcb772a1dc6556e1",
       "version_major": 2,
       "version_minor": 0
      },
      "text/plain": [
       "  0%|          | 0/1000 [00:00<?, ?it/s]"
      ]
     },
     "metadata": {},
     "output_type": "display_data"
    },
    {
     "name": "stdout",
     "output_type": "stream",
     "text": [
      "10000\n"
     ]
    }
   ],
   "source": [
    "# use a thread pool executor to download all files in timestep_files\n",
    "os.makedirs(\"data/hdf5/\" + experiment_name + f\"/{time_resolution}\", exist_ok=True)\n",
    "with ThreadPoolExecutor(max_workers=8) as executor:\n",
    "    dfs = list(tqdm(executor.map(download_and_open, timestep_files), total=len(timestep_files)))\n",
    "\n",
    "dfs = pd.concat(dfs, axis=0)\n",
    "print(len(dfs))\n"
   ]
  },
  {
   "cell_type": "code",
   "execution_count": 6,
   "metadata": {},
   "outputs": [],
   "source": [
    "ids = dfs.index.get_level_values(\"id\")    \n",
    "error_mask = ids.isin(error_ids)\n",
    "dfs = dfs.set_index(error_mask,  append=True, )\n",
    "dfs.index.names = dfs.index.names[:-1] + [\"error\"]\n",
    "dfs.index.to_frame(index=False).head()\n",
    "dfs.to_hdf(\"data/hdf5/\" + experiment_name + f\"/{time_resolution}.hdf\", key=\"batch_results\", mode=\"w\")"
   ]
  },
  {
   "cell_type": "code",
   "execution_count": null,
   "metadata": {},
   "outputs": [],
   "source": [
    "# upload the monthly.hdf file to s3\n",
    "client.upload_file(\"data/hdf5/\" + experiment_name + f\"/{time_resolution}.hdf\", bucket, experiment_name + f\"/{time_resolution}.hdf\")"
   ]
  },
  {
   "cell_type": "code",
   "execution_count": null,
   "metadata": {},
   "outputs": [],
   "source": [
    "# Concatenate with another df if desired\n",
    "# dfs_7 = pd.read_hdf(\"data/lightning/full_climate_zone/v7/train/monthly.hdf\", key=\"batch_results\")\n",
    "# df_all = pd.concat([dfs, dfs_7], axis=0)\n",
    "# df_all.head()\n",
    "# df_all.to_hdf(\"data/hdf5/\" + experiment_name + \"/monthly.hdf\", key=\"batch_results\", mode=\"w\")\n",
    "# client.upload_file(\"data/hdf5/\" + experiment_name + \"/monthly.hdf\", bucket, experiment_name + \"/monthly.hdf\")\n",
    "# len(df_all)"
   ]
  }
 ],
 "metadata": {
  "kernelspec": {
   "display_name": "ml-for-bem-final",
   "language": "python",
   "name": "python3"
  },
  "language_info": {
   "codemirror_mode": {
    "name": "ipython",
    "version": 3
   },
   "file_extension": ".py",
   "mimetype": "text/x-python",
   "name": "python",
   "nbconvert_exporter": "python",
   "pygments_lexer": "ipython3",
   "version": "3.8.17"
  },
  "orig_nbformat": 4
 },
 "nbformat": 4,
 "nbformat_minor": 2
}

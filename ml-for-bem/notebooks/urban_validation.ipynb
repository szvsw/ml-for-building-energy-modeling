{
 "cells": [
  {
   "cell_type": "code",
   "execution_count": 1,
   "metadata": {},
   "outputs": [],
   "source": [
    "# Load umi file\n",
    "\n",
    "from pyumi.umi_project import UmiProject\n",
    "from archetypal import UmiTemplateLibrary\n",
    "\n",
    "import os\n",
    "import numpy as np\n",
    "import pandas as pd\n",
    "import math"
   ]
  },
  {
   "attachments": {},
   "cell_type": "markdown",
   "metadata": {},
   "source": [
    "## Open the UMI project"
   ]
  },
  {
   "cell_type": "code",
   "execution_count": 2,
   "metadata": {},
   "outputs": [],
   "source": [
    "# umi_path = os.path.join(os.getcwd(), 'Oshkosh', 'umi_files', '20230607_OshkoshBuildings.umi')\n",
    "umi_path = \"C:/Users/zoelh/Dropbox (MIT)/Downgrades/2 Oshkosh/1 Baseline_mid/230417Oshkosh_mid.umi\"\n",
    "umi = UmiProject.open(umi_path)"
   ]
  },
  {
   "attachments": {},
   "cell_type": "markdown",
   "metadata": {},
   "source": [
    "Check the final energy values"
   ]
  },
  {
   "cell_type": "code",
   "execution_count": 3,
   "metadata": {},
   "outputs": [
    {
     "data": {
      "text/plain": [
       "Available Series                        Totals\n",
       "----------------------------------  ----------\n",
       "Month_SDL_Cooling                     11344771\n",
       "Month_SDL_Domestic_Hot_Water          79801437\n",
       "Month_SDL_Equipment                   27961229\n",
       "Month_SDL_Heating                    972651041\n",
       "Month_SDL_Lighting                    21309054\n",
       "Month_SDL_Total_Operational_Energy  1113067532\n",
       "Month_SDL_Window_Radiation            78249720"
      ]
     },
     "execution_count": 3,
     "metadata": {},
     "output_type": "execute_result"
    }
   ],
   "source": [
    "umi.energy"
   ]
  },
  {
   "cell_type": "code",
   "execution_count": 4,
   "metadata": {},
   "outputs": [],
   "source": [
    "weights = umi.sdl_common[\"shoebox-weights\"]\n",
    "bldgs = umi.sdl_common[\"ubemio-archetype-id-cache\"]"
   ]
  },
  {
   "cell_type": "code",
   "execution_count": 5,
   "metadata": {},
   "outputs": [
    {
     "data": {
      "text/html": [
       "<div>\n",
       "<style scoped>\n",
       "    .dataframe tbody tr th:only-of-type {\n",
       "        vertical-align: middle;\n",
       "    }\n",
       "\n",
       "    .dataframe tbody tr th {\n",
       "        vertical-align: top;\n",
       "    }\n",
       "\n",
       "    .dataframe thead th {\n",
       "        text-align: right;\n",
       "    }\n",
       "</style>\n",
       "<table border=\"1\" class=\"dataframe\">\n",
       "  <thead>\n",
       "    <tr style=\"text-align: right;\">\n",
       "      <th></th>\n",
       "      <th>id</th>\n",
       "      <th>FloorCount</th>\n",
       "      <th>GrossFloorArea</th>\n",
       "      <th>Height</th>\n",
       "      <th>Name</th>\n",
       "      <th>Occupancy</th>\n",
       "      <th>TemplateName</th>\n",
       "      <th>UseType</th>\n",
       "      <th>WwrE</th>\n",
       "      <th>WwrN</th>\n",
       "      <th>...</th>\n",
       "      <th>CoreAreaWeight</th>\n",
       "      <th>PerimeterArea</th>\n",
       "      <th>CoreArea</th>\n",
       "      <th>Orientation</th>\n",
       "      <th>ClusterId</th>\n",
       "      <th>Roof2FloorRatio</th>\n",
       "      <th>Ground2FloorRatio</th>\n",
       "      <th>Floor2Fac</th>\n",
       "      <th>Core2Perimeter</th>\n",
       "      <th>ShoeboxPath</th>\n",
       "    </tr>\n",
       "  </thead>\n",
       "  <tbody>\n",
       "    <tr>\n",
       "      <th>0</th>\n",
       "      <td>3541f788-0ae7-dd4e-8e5a-7d30e68d939d</td>\n",
       "      <td>1</td>\n",
       "      <td>159.304035</td>\n",
       "      <td>5.25</td>\n",
       "      <td>14689.0</td>\n",
       "      <td>2</td>\n",
       "      <td>SFR_pre1980</td>\n",
       "      <td>Uncategorized</td>\n",
       "      <td>0.13</td>\n",
       "      <td>0.13</td>\n",
       "      <td>...</td>\n",
       "      <td>2.426777</td>\n",
       "      <td>135.845191</td>\n",
       "      <td>23.458844</td>\n",
       "      <td>North</td>\n",
       "      <td>Group0</td>\n",
       "      <td>1.0</td>\n",
       "      <td>1.0</td>\n",
       "      <td>0.451721</td>\n",
       "      <td>0.172688</td>\n",
       "      <td>C:\\umi\\temp\\energy\\230417Oshkosh\\230417Oshkosh...</td>\n",
       "    </tr>\n",
       "    <tr>\n",
       "      <th>1</th>\n",
       "      <td>3541f788-0ae7-dd4e-8e5a-7d30e68d939d</td>\n",
       "      <td>1</td>\n",
       "      <td>159.304035</td>\n",
       "      <td>5.25</td>\n",
       "      <td>14689.0</td>\n",
       "      <td>2</td>\n",
       "      <td>SFR_pre1980</td>\n",
       "      <td>Uncategorized</td>\n",
       "      <td>0.13</td>\n",
       "      <td>0.13</td>\n",
       "      <td>...</td>\n",
       "      <td>0.404463</td>\n",
       "      <td>135.845191</td>\n",
       "      <td>23.458844</td>\n",
       "      <td>North</td>\n",
       "      <td>Group0</td>\n",
       "      <td>1.0</td>\n",
       "      <td>1.0</td>\n",
       "      <td>0.451721</td>\n",
       "      <td>0.172688</td>\n",
       "      <td>C:\\umi\\temp\\energy\\230417Oshkosh\\230417Oshkosh...</td>\n",
       "    </tr>\n",
       "    <tr>\n",
       "      <th>2</th>\n",
       "      <td>3541f788-0ae7-dd4e-8e5a-7d30e68d939d</td>\n",
       "      <td>1</td>\n",
       "      <td>159.304035</td>\n",
       "      <td>5.25</td>\n",
       "      <td>14689.0</td>\n",
       "      <td>2</td>\n",
       "      <td>SFR_pre1980</td>\n",
       "      <td>Uncategorized</td>\n",
       "      <td>0.13</td>\n",
       "      <td>0.13</td>\n",
       "      <td>...</td>\n",
       "      <td>0.404463</td>\n",
       "      <td>135.845191</td>\n",
       "      <td>23.458844</td>\n",
       "      <td>West</td>\n",
       "      <td>Group0</td>\n",
       "      <td>1.0</td>\n",
       "      <td>1.0</td>\n",
       "      <td>0.451721</td>\n",
       "      <td>0.172688</td>\n",
       "      <td>C:\\umi\\temp\\energy\\230417Oshkosh\\230417Oshkosh...</td>\n",
       "    </tr>\n",
       "    <tr>\n",
       "      <th>3</th>\n",
       "      <td>3541f788-0ae7-dd4e-8e5a-7d30e68d939d</td>\n",
       "      <td>1</td>\n",
       "      <td>159.304035</td>\n",
       "      <td>5.25</td>\n",
       "      <td>14689.0</td>\n",
       "      <td>2</td>\n",
       "      <td>SFR_pre1980</td>\n",
       "      <td>Uncategorized</td>\n",
       "      <td>0.13</td>\n",
       "      <td>0.13</td>\n",
       "      <td>...</td>\n",
       "      <td>0.404463</td>\n",
       "      <td>135.845191</td>\n",
       "      <td>23.458844</td>\n",
       "      <td>West</td>\n",
       "      <td>Group0</td>\n",
       "      <td>1.0</td>\n",
       "      <td>1.0</td>\n",
       "      <td>0.451721</td>\n",
       "      <td>0.172688</td>\n",
       "      <td>C:\\umi\\temp\\energy\\230417Oshkosh\\230417Oshkosh...</td>\n",
       "    </tr>\n",
       "    <tr>\n",
       "      <th>4</th>\n",
       "      <td>3541f788-0ae7-dd4e-8e5a-7d30e68d939d</td>\n",
       "      <td>1</td>\n",
       "      <td>159.304035</td>\n",
       "      <td>5.25</td>\n",
       "      <td>14689.0</td>\n",
       "      <td>2</td>\n",
       "      <td>SFR_pre1980</td>\n",
       "      <td>Uncategorized</td>\n",
       "      <td>0.13</td>\n",
       "      <td>0.13</td>\n",
       "      <td>...</td>\n",
       "      <td>0.404463</td>\n",
       "      <td>135.845191</td>\n",
       "      <td>23.458844</td>\n",
       "      <td>West</td>\n",
       "      <td>Group0</td>\n",
       "      <td>1.0</td>\n",
       "      <td>1.0</td>\n",
       "      <td>0.451721</td>\n",
       "      <td>0.172688</td>\n",
       "      <td>C:\\umi\\temp\\energy\\230417Oshkosh\\230417Oshkosh...</td>\n",
       "    </tr>\n",
       "  </tbody>\n",
       "</table>\n",
       "<p>5 rows × 25 columns</p>\n",
       "</div>"
      ],
      "text/plain": [
       "                                     id  FloorCount  GrossFloorArea  Height  \\\n",
       "0  3541f788-0ae7-dd4e-8e5a-7d30e68d939d           1      159.304035    5.25   \n",
       "1  3541f788-0ae7-dd4e-8e5a-7d30e68d939d           1      159.304035    5.25   \n",
       "2  3541f788-0ae7-dd4e-8e5a-7d30e68d939d           1      159.304035    5.25   \n",
       "3  3541f788-0ae7-dd4e-8e5a-7d30e68d939d           1      159.304035    5.25   \n",
       "4  3541f788-0ae7-dd4e-8e5a-7d30e68d939d           1      159.304035    5.25   \n",
       "\n",
       "      Name  Occupancy TemplateName        UseType  WwrE  WwrN  ...  \\\n",
       "0  14689.0          2  SFR_pre1980  Uncategorized  0.13  0.13  ...   \n",
       "1  14689.0          2  SFR_pre1980  Uncategorized  0.13  0.13  ...   \n",
       "2  14689.0          2  SFR_pre1980  Uncategorized  0.13  0.13  ...   \n",
       "3  14689.0          2  SFR_pre1980  Uncategorized  0.13  0.13  ...   \n",
       "4  14689.0          2  SFR_pre1980  Uncategorized  0.13  0.13  ...   \n",
       "\n",
       "   CoreAreaWeight  PerimeterArea   CoreArea Orientation  ClusterId  \\\n",
       "0        2.426777     135.845191  23.458844       North     Group0   \n",
       "1        0.404463     135.845191  23.458844       North     Group0   \n",
       "2        0.404463     135.845191  23.458844        West     Group0   \n",
       "3        0.404463     135.845191  23.458844        West     Group0   \n",
       "4        0.404463     135.845191  23.458844        West     Group0   \n",
       "\n",
       "   Roof2FloorRatio  Ground2FloorRatio  Floor2Fac Core2Perimeter  \\\n",
       "0              1.0                1.0   0.451721       0.172688   \n",
       "1              1.0                1.0   0.451721       0.172688   \n",
       "2              1.0                1.0   0.451721       0.172688   \n",
       "3              1.0                1.0   0.451721       0.172688   \n",
       "4              1.0                1.0   0.451721       0.172688   \n",
       "\n",
       "                                         ShoeboxPath  \n",
       "0  C:\\umi\\temp\\energy\\230417Oshkosh\\230417Oshkosh...  \n",
       "1  C:\\umi\\temp\\energy\\230417Oshkosh\\230417Oshkosh...  \n",
       "2  C:\\umi\\temp\\energy\\230417Oshkosh\\230417Oshkosh...  \n",
       "3  C:\\umi\\temp\\energy\\230417Oshkosh\\230417Oshkosh...  \n",
       "4  C:\\umi\\temp\\energy\\230417Oshkosh\\230417Oshkosh...  \n",
       "\n",
       "[5 rows x 25 columns]"
      ]
     },
     "execution_count": 5,
     "metadata": {},
     "output_type": "execute_result"
    }
   ],
   "source": [
    "weights_df = pd.DataFrame.from_dict(weights)\n",
    "df = pd.merge(umi.gdf_3dm, weights_df, left_on=\"id\", right_on=\"ParentBuildingId\")\n",
    "df.head()"
   ]
  },
  {
   "cell_type": "code",
   "execution_count": 6,
   "metadata": {},
   "outputs": [
    {
     "data": {
      "text/plain": [
       "Index(['id', 'FloorCount', 'GrossFloorArea', 'Height', 'Name', 'Occupancy',\n",
       "       'TemplateName', 'UseType', 'WwrE', 'WwrN', 'WwrS', 'WwrW', 'geometry',\n",
       "       'ParentBuildingId', 'PerimeterAreaWeight', 'CoreAreaWeight',\n",
       "       'PerimeterArea', 'CoreArea', 'Orientation', 'ClusterId',\n",
       "       'Roof2FloorRatio', 'Ground2FloorRatio', 'Floor2Fac', 'Core2Perimeter',\n",
       "       'ShoeboxPath'],\n",
       "      dtype='object')"
      ]
     },
     "execution_count": 6,
     "metadata": {},
     "output_type": "execute_result"
    }
   ],
   "source": [
    "df.columns"
   ]
  },
  {
   "attachments": {},
   "cell_type": "markdown",
   "metadata": {},
   "source": [
    "Get hourly results for each shoebox"
   ]
  },
  {
   "cell_type": "code",
   "execution_count": null,
   "metadata": {},
   "outputs": [],
   "source": [
    "# TODO"
   ]
  },
  {
   "attachments": {},
   "cell_type": "markdown",
   "metadata": {},
   "source": [
    "## Initialize an umi surrogate"
   ]
  },
  {
   "cell_type": "code",
   "execution_count": null,
   "metadata": {},
   "outputs": [],
   "source": []
  }
 ],
 "metadata": {
  "kernelspec": {
   "display_name": "Python 3.8.16 ('ml-for-bem')",
   "language": "python",
   "name": "python3"
  },
  "language_info": {
   "codemirror_mode": {
    "name": "ipython",
    "version": 3
   },
   "file_extension": ".py",
   "mimetype": "text/x-python",
   "name": "python",
   "nbconvert_exporter": "python",
   "pygments_lexer": "ipython3",
   "version": "3.8.16"
  },
  "orig_nbformat": 4,
  "vscode": {
   "interpreter": {
    "hash": "c3f5ff6dd94b01c24b361932076f1a3bc10ab62286849ac7ff2bbe32fbd92d26"
   }
  }
 },
 "nbformat": 4,
 "nbformat_minor": 2
}

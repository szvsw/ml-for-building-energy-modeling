{
 "cells": [
  {
   "cell_type": "code",
   "execution_count": 1,
   "metadata": {},
   "outputs": [
    {
     "name": "stdout",
     "output_type": "stream",
     "text": [
      "Couldn't import dot_parser, loading of dot files will not be possible.\n"
     ]
    }
   ],
   "source": [
    "import pandas as pd\n",
    "import numpy as np\n",
    "import json\n",
    "from ladybug.epw import EPW\n",
    "from lightning.pytorch import Trainer\n",
    "from pathlib import Path\n",
    "\n",
    "from ml.surrogate import Surrogate\n",
    "from ml.predict import predict_ubem\n",
    "from weather.weather import extract\n",
    "from utils.constants import *"
   ]
  },
  {
   "cell_type": "code",
   "execution_count": 2,
   "metadata": {},
   "outputs": [
    {
     "name": "stderr",
     "output_type": "stream",
     "text": [
      "WARNING:pint.util:Redefining 'h' (<class 'pint.definitions.UnitDefinition'>)\n",
      "WARNING:pint.util:Redefining 'm3' (<class 'pint.definitions.UnitDefinition'>)\n",
      "WARNING:pint.util:Redefining 'm³' (<class 'pint.definitions.UnitDefinition'>)\n",
      "WARNING:pint.util:Redefining 'ft3' (<class 'pint.definitions.UnitDefinition'>)\n",
      "WARNING:pint.util:Redefining 'ft³' (<class 'pint.definitions.UnitDefinition'>)\n",
      "WARNING:pint.util:Redefining 'ft2' (<class 'pint.definitions.UnitDefinition'>)\n",
      "WARNING:pint.util:Redefining 'ft²' (<class 'pint.definitions.UnitDefinition'>)\n",
      "WARNING:pint.util:Redefining 'm2' (<class 'pint.definitions.UnitDefinition'>)\n",
      "WARNING:pint.util:Redefining 'm²' (<class 'pint.definitions.UnitDefinition'>)\n",
      "WARNING:pint.util:Redefining 'inch2' (<class 'pint.definitions.UnitDefinition'>)\n",
      "WARNING:pint.util:Redefining 'inch²' (<class 'pint.definitions.UnitDefinition'>)\n",
      "WARNING:pint.util:Redefining 'delta_degree_Celsius' (<class 'pint.definitions.UnitDefinition'>)\n",
      "WARNING:pint.util:Redefining 'Δ°C' (<class 'pint.definitions.UnitDefinition'>)\n",
      "WARNING:pint.util:Redefining 'Δcelsius' (<class 'pint.definitions.UnitDefinition'>)\n",
      "WARNING:pint.util:Redefining 'ΔdegC' (<class 'pint.definitions.UnitDefinition'>)\n",
      "WARNING:pint.util:Redefining 'ΔdegreeC' (<class 'pint.definitions.UnitDefinition'>)\n",
      "WARNING:pint.util:Redefining 'delta_celsius' (<class 'pint.definitions.UnitDefinition'>)\n",
      "WARNING:pint.util:Redefining 'delta_degC' (<class 'pint.definitions.UnitDefinition'>)\n",
      "WARNING:pint.util:Redefining 'delta_degreeC' (<class 'pint.definitions.UnitDefinition'>)\n",
      "WARNING:pint.util:Redefining 'degree_Celsius' (<class 'pint.definitions.UnitDefinition'>)\n",
      "WARNING:pint.util:Redefining '°C' (<class 'pint.definitions.UnitDefinition'>)\n",
      "WARNING:pint.util:Redefining 'celsius' (<class 'pint.definitions.UnitDefinition'>)\n",
      "WARNING:pint.util:Redefining 'degC' (<class 'pint.definitions.UnitDefinition'>)\n",
      "WARNING:pint.util:Redefining 'degreeC' (<class 'pint.definitions.UnitDefinition'>)\n",
      "WARNING:pint.util:Redefining 'C' (<class 'pint.definitions.UnitDefinition'>)\n",
      "c:\\Users\\zoelh\\AppData\\Local\\anaconda3\\envs\\ml-for-bem\\lib\\site-packages\\outdated\\utils.py:14: OutdatedPackageWarning: The package energy-pandas is out of date. Your version is 0.3.3, the latest is 0.3.4.\n",
      "Set the environment variable OUTDATED_IGNORE=1 to disable these warnings.\n",
      "  return warn(\n"
     ]
    }
   ],
   "source": [
    "# Check if we are running on Windows or Linux using os\n",
    "from archetypal import settings\n",
    "if os.name == \"nt\":\n",
    "    settings.ep_version == \"22.2.0\"\n",
    "    settings.energyplus_location = Path(\"C:/EnergyPlusV22-2-0\")"
   ]
  },
  {
   "cell_type": "code",
   "execution_count": 3,
   "metadata": {},
   "outputs": [
    {
     "name": "stderr",
     "output_type": "stream",
     "text": [
      "c:\\Users\\zoelh\\AppData\\Local\\anaconda3\\envs\\ml-for-bem\\lib\\site-packages\\lightning\\pytorch\\utilities\\parsing.py:198: Attribute 'target_transform' is an instance of `nn.Module` and is already saved during checkpointing. It is recommended to ignore them using `self.save_hyperparameters(ignore=['target_transform'])`.\n",
      "c:\\Users\\zoelh\\AppData\\Local\\anaconda3\\envs\\ml-for-bem\\lib\\site-packages\\lightning\\pytorch\\utilities\\parsing.py:198: Attribute 'weather_transform' is an instance of `nn.Module` and is already saved during checkpointing. It is recommended to ignore them using `self.save_hyperparameters(ignore=['weather_transform'])`.\n",
      "GPU available: True (cuda), used: True\n",
      "TPU available: False, using: 0 TPU cores\n",
      "IPU available: False, using: 0 IPUs\n",
      "HPU available: False, using: 0 HPUs\n"
     ]
    }
   ],
   "source": [
    "registry = \"ml-for-building-energy-modeling/model-registry\"\n",
    "model = \"Global UBEM Shoebox Surrogate with Combined TS Embedder\"\n",
    "tag = \"v3\"\n",
    "resource = \"model.ckpt\"\n",
    "\n",
    "surrogate = Surrogate.load_from_registry(registry, model, tag, resource)\n",
    "surrogate.model.eval()\n",
    "\n",
    "trainer = Trainer(\n",
    "        accelerator=\"auto\",\n",
    "        devices=\"auto\",\n",
    "        strategy=\"auto\",\n",
    "        enable_progress_bar=True,\n",
    "    )"
   ]
  },
  {
   "attachments": {},
   "cell_type": "markdown",
   "metadata": {},
   "source": [
    "### Iteration settings"
   ]
  },
  {
   "cell_type": "code",
   "execution_count": 4,
   "metadata": {},
   "outputs": [],
   "source": [
    "# Get grasshopper json data for config\n",
    "data_dir = \"D:/DATA/AutozonerTests\"\n",
    "name = \"test\"\n",
    "\n",
    "settings_dir = Path(data_dir) / f\"{name}_settings.json\"\n",
    "results_dir = Path(data_dir) / f\"{name}_CSresults.json\"\n",
    "# settings_dict_dir = \"D:/DATA/SingleShoeboxTests/Shoebox_sched3.json\"\n",
    "with open(settings_dir, 'r') as f:\n",
    "    settings_dict = json.load(f)"
   ]
  },
  {
   "cell_type": "code",
   "execution_count": 5,
   "metadata": {},
   "outputs": [],
   "source": [
    "# epw = EPW(\"/teamspace/uploads/USA_NY_New.York-LaGuardia.AP.725030_TMYx.2004-2018.epw\")\n",
    "# epw = EPW(\"C:/ProgramData/Solemma/Common/WeatherData/EPW/USA_CA_Los.Angeles.Intl.AP.722950_TMYx.2004-2018.epw\")\n",
    "# epw = EPW(\"C:/ProgramData/Solemma/Common/WeatherData/EPW/USA_MA_Boston-Logan.Intl.AP.725090_TMYx.2004-2018.epw\")\n",
    "epw_path = \"C:/ProgramData/Solemma/Common/WeatherData/EPW/USA_NY_New.York-LaGuardia.AP.725030_TMYx.2004-2018.epw\"\n",
    "# epw = EPW(\"/teamspace/uploads/USA_CA_Los.Angeles.Intl.AP.722950_TMYx.2004-2018.epw\")\n",
    "# epw = EPW(\"/teamspace/uploads/USA_MA_Boston-Logan.Intl.AP.725090_TMYx.2004-2018.epw\")\n",
    "epw = EPW(epw_path)\n",
    "climate = extract(epw)"
   ]
  },
  {
   "cell_type": "code",
   "execution_count": 6,
   "metadata": {},
   "outputs": [],
   "source": [
    "blds_settings = settings_dict[\"BuildingSettings\"]\n",
    "config = settings_dict[\"ShoeboxConfig\"].copy()"
   ]
  },
  {
   "cell_type": "code",
   "execution_count": 7,
   "metadata": {},
   "outputs": [
    {
     "name": "stdout",
     "output_type": "stream",
     "text": [
      "5\n"
     ]
    },
    {
     "data": {
      "text/plain": [
       "(1, 3, 8760)"
      ]
     },
     "execution_count": 7,
     "metadata": {},
     "output_type": "execute_result"
    }
   ],
   "source": [
    "\"\"\"\n",
    "Make Schedules\n",
    "\"\"\"\n",
    "all_schedules = pd.read_hdf(\"data/schedules.h5\")\n",
    "idx = blds_settings[\"schedule_index\"]\n",
    "print(idx)\n",
    "schedules = np.reshape(all_schedules.loc[all_schedules.index[idx*3][0]].to_numpy(), (1,3,8760))\n",
    "schedules.shape"
   ]
  },
  {
   "cell_type": "code",
   "execution_count": 8,
   "metadata": {},
   "outputs": [],
   "source": [
    "def get_tmas_idx(val):\n",
    "    if val >= ThermalMassCapacities.Concrete:\n",
    "        hot_bin = ThermalMassConstructions.Concrete.value\n",
    "    elif (\n",
    "        val < ThermalMassCapacities.Concrete and val >= ThermalMassCapacities.Brick\n",
    "    ):\n",
    "        hot_bin = ThermalMassConstructions.Brick.value\n",
    "    elif (\n",
    "        val < ThermalMassCapacities.Brick and val >= ThermalMassCapacities.WoodFrame\n",
    "    ):\n",
    "        hot_bin = ThermalMassConstructions.WoodFrame.value\n",
    "    elif val < ThermalMassCapacities.WoodFrame:\n",
    "        hot_bin = ThermalMassConstructions.SteelFrame.value\n",
    "    return hot_bin"
   ]
  },
  {
   "cell_type": "code",
   "execution_count": 9,
   "metadata": {},
   "outputs": [],
   "source": [
    "if settings_dict[\"Conditioning\"][\"HeatRecoveryType\"] == \"None\":\n",
    "    hrv = 0\n",
    "else:\n",
    "    hrv = HRV[settings_dict[\"Conditioning\"][\"HeatRecoveryType\"]].value \n",
    "if \"occ\" in settings_dict[\"Conditioning\"][\"MechVentSchedule\"].lower():\n",
    "    vent_mode = 2\n",
    "else:\n",
    "    vent_mode = 0\n",
    "\n",
    "config.update({\n",
    "    \"FacadeMass\": get_tmas_idx(float(settings_dict[\"ShoeboxConfig\"][\"RoofMass\"])), \n",
    "    \"RoofMass\": get_tmas_idx(float(settings_dict[\"ShoeboxConfig\"][\"FacadeMass\"])),\n",
    "    \"PeopleDensity\": float(settings_dict[\"Loads\"][\"PeopleDensity\"]),\n",
    "    \"EquipmentPowerDensity\": float(settings_dict[\"Loads\"][\"EquipmentPowerDensity\"]),\n",
    "    \"LightingPowerDensity\": float(settings_dict[\"Loads\"][\"LightingPowerDensity\"]),\n",
    "    \"HeatingSetpoint\": float(settings_dict[\"Conditioning\"][\"HeatingSetpoint\"]),\n",
    "    \"CoolingSetpoint\": float(settings_dict[\"Conditioning\"][\"CoolingSetpoint\"]),\n",
    "    \"cop_heating\": 1,\n",
    "    \"cop_cooling\": 1,\n",
    "    \"VentilationMode\": vent_mode, \n",
    "    \"VentilationPerArea\": float(settings_dict[\"Conditioning\"][\"MinFreshAirArea\"]/1000),\n",
    "    \"VentilationPerPerson\": float(settings_dict[\"Conditioning\"][\"MinFreshAirPerson\"]/1000),\n",
    "    \"EconomizerSettings\": Econ[settings_dict[\"Conditioning\"][\"EconomizerType\"]].value,\n",
    "    \"RecoverySettings\": hrv,\n",
    "    \"Infiltration\": float(settings_dict[\"Infiltration\"][\"InfiltrationFlowPerExteriorSurfaceArea\"]), #/1000\n",
    "    \"wwr\": float(settings_dict[\"ShoeboxConfig\"][\"wwr\"]),\n",
    "    \"building_id\": 0,\n",
    "    \"weight\": 1,\n",
    "    \"template_idx\": 0.0,\n",
    "})\n",
    "\n",
    "for i in range(12):\n",
    "    config[f\"shading_{i}\"] = 0"
   ]
  },
  {
   "cell_type": "code",
   "execution_count": 10,
   "metadata": {},
   "outputs": [
    {
     "data": {
      "text/plain": [
       "{'x_dim': 40.0,\n",
       " 'y_dim': 40.0,\n",
       " 'n_floors': 15.0,\n",
       " 'schedule_index': 5,\n",
       " 'f2f_height': 4.0}"
      ]
     },
     "execution_count": 10,
     "metadata": {},
     "output_type": "execute_result"
    }
   ],
   "source": [
    "blds_settings"
   ]
  },
  {
   "cell_type": "code",
   "execution_count": 11,
   "metadata": {},
   "outputs": [
    {
     "name": "stderr",
     "output_type": "stream",
     "text": [
      "LOCAL_RANK: 0 - CUDA_VISIBLE_DEVICES: [0]\n",
      "c:\\Users\\zoelh\\AppData\\Local\\anaconda3\\envs\\ml-for-bem\\lib\\site-packages\\lightning\\pytorch\\trainer\\connectors\\data_connector.py:441: The 'predict_dataloader' does not have many workers which may be a bottleneck. Consider increasing the value of the `num_workers` argument` to `num_workers=15` in the `DataLoader` to improve performance.\n"
     ]
    },
    {
     "name": "stdout",
     "output_type": "stream",
     "text": [
      "Predicting DataLoader 0:   0%|          | 0/1 [00:00<?, ?it/s]"
     ]
    },
    {
     "name": "stderr",
     "output_type": "stream",
     "text": [
      "c:\\Users\\zoelh\\AppData\\Local\\anaconda3\\envs\\ml-for-bem\\lib\\site-packages\\torch\\nn\\modules\\conv.py:306: UserWarning: Using padding='same' with even kernel lengths and odd dilation may require a zero-padded copy of the input be created (Triggered internally at C:\\actions-runner\\_work\\pytorch\\pytorch\\builder\\windows\\pytorch\\aten\\src\\ATen\\native\\Convolution.cpp:1009.)\n",
      "  return F.conv1d(input, weight, bias, self.stride,\n"
     ]
    },
    {
     "name": "stdout",
     "output_type": "stream",
     "text": [
      "Predicting DataLoader 0: 100%|██████████| 1/1 [00:00<00:00,  5.10it/s]\n"
     ]
    }
   ],
   "source": [
    "features = pd.DataFrame(data=config, index=[0])\n",
    "features = pd.concat([features]*12,axis=0)\n",
    "features[\"roof_2_footprint\"] = [0,0,1]*4\n",
    "features[\"ground_2_footprint\"] = [1,0,0]*4\n",
    "# features[\"roof_2_footprint\"] = [0.25]*12\n",
    "# features[\"ground_2_footprint\"] = [0.25]*12\n",
    "features[\"orientation\"] = [*[0]*3,*[np.pi/2]*3,*[np.pi]*3,*[3*np.pi/2]*3]\n",
    "\n",
    "features.index = range(12)\n",
    "for i in range(4):\n",
    "    for j in range(3):\n",
    "        features.loc[i*3+j,\"name\"] = f\"{['bottom','middle','top'][j]}_{['south','east','north','west'][i]}\"\n",
    "shoebox_results, *_ = predict_ubem(trainer=trainer, surrogate=surrogate, features=features, schedules=schedules, climate=climate,apply_cops=False, batch_size=32,)\n"
   ]
  },
  {
   "attachments": {},
   "cell_type": "markdown",
   "metadata": {},
   "source": [
    "Whitebox Batch Test"
   ]
  },
  {
   "cell_type": "code",
   "execution_count": 14,
   "metadata": {},
   "outputs": [
    {
     "name": "stderr",
     "output_type": "stream",
     "text": [
      "simulate:   0%|          | 0.00/12.0 [00:00<?, ?runs/s]INFO:shoeboxer.geometry_utils:New perimeter depth: 4.0\n",
      "INFO:shoeboxer.geometry_utils:New core depth: 6.4\n",
      "INFO:shoeboxer.geometry_utils:Shifting core origin to perimeter edge; moving -1.0 m in y axis\n",
      "INFO:shoeboxer.geometry_utils:Updating adiabatic surfaces.\n",
      "WARNING:shoeboxer.geometry_utils:Perim exposed depth is too small. Making adiabatic.\n",
      "INFO:shoeboxer.geometry_utils:New perimeter depth: 4.0\n",
      "WARNING:shoeboxer.geometry_utils:Core exposed depth is too small. Making adiabatic.\n",
      "INFO:shoeboxer.geometry_utils:New core depth: 6.4\n",
      "WARNING:shoeboxer.geometry_utils:Perim adiabatic ground depth is too small. Dropping adiabatic.\n",
      "INFO:shoeboxer.geometry_utils:New perimeter depth: 4.0\n",
      "WARNING:shoeboxer.geometry_utils:Core adiabatic ground depth is too small. Dropping adiabatic.\n",
      "INFO:shoeboxer.geometry_utils:Shifting core origin to perimeter edge; moving -1.0 m in y axis\n",
      "INFO:shoeboxer.geometry_utils:New core depth: 6.4\n",
      "INFO:shoeboxer.geometry_utils:Maximum shading point is 0.0\n",
      "INFO:shoeboxer.geometry_utils:Updating adiabatic surfaces.\n",
      "INFO:shoeboxer.geometry_utils:Shifting core origin to perimeter edge; moving -1.0 m in y axis\n",
      "INFO:shoeboxer.geometry_utils:New perimeter depth: 4.0\n",
      "INFO:shoeboxer.geometry_utils:New perimeter depth: 4.0\n",
      "INFO:shoeboxer.geometry_utils:Placing shading around center point [1.5 0. ]\n",
      "INFO:shoeboxer.geometry_utils:New perimeter depth: 4.0\n",
      "WARNING:shoeboxer.geometry_utils:Perim exposed depth is too small. Making adiabatic.\n",
      "INFO:shoeboxer.geometry_utils:Updating adiabatic surfaces.\n",
      "INFO:shoeboxer.geometry_utils:New core depth: 6.4\n",
      "INFO:shoeboxer.geometry_utils:New core depth: 6.4\n",
      "INFO:shoeboxer.geometry_utils:New core depth: 6.4\n",
      "WARNING:shoeboxer.geometry_utils:Core exposed depth is too small. Making adiabatic.\n",
      "WARNING:shoeboxer.geometry_utils:Perim exposed depth is too small. Making adiabatic.\n",
      "INFO:shoeboxer.geometry_utils:Shifting core origin to perimeter edge; moving -1.0 m in y axis\n",
      "INFO:shoeboxer.geometry_utils:Shifting core origin to perimeter edge; moving -1.0 m in y axis\n",
      "WARNING:shoeboxer.geometry_utils:Perim ground exposed depth is too small. Making adiabatic.\n",
      "INFO:shoeboxer.geometry_utils:Shifting core origin to perimeter edge; moving -1.0 m in y axis\n",
      "WARNING:shoeboxer.geometry_utils:Core exposed depth is too small. Making adiabatic.\n",
      "INFO:shoeboxer.geometry_utils:Updating adiabatic surfaces.\n",
      "INFO:shoeboxer.geometry_utils:Updating adiabatic surfaces.\n",
      "WARNING:shoeboxer.geometry_utils:Core ground exposed depth is too small. Making adiabatic.\n",
      "INFO:shoeboxer.geometry_utils:Updating adiabatic surfaces.\n",
      "INFO:ShoeBox:Building idf for data\\sim_results\\94de6830-4bf8-4b1d-bdb3-1cfee43e5cd4\\94de6830-4bf8-4b1d-bdb3-1cfee43e5cd4.epjson\n",
      "WARNING:shoeboxer.geometry_utils:Perim adiabatic ground depth is too small. Dropping adiabatic.\n",
      "WARNING:shoeboxer.geometry_utils:Perim exposed depth is too small. Making adiabatic.\n",
      "WARNING:shoeboxer.geometry_utils:Perim ground exposed depth is too small. Making adiabatic.\n",
      "INFO:shoeboxer.geometry_utils:Maximum shading point is 0.0\n",
      "WARNING:shoeboxer.geometry_utils:Perim ground exposed depth is too small. Making adiabatic.\n",
      "WARNING:shoeboxer.geometry_utils:Core adiabatic ground depth is too small. Dropping adiabatic.\n",
      "WARNING:shoeboxer.geometry_utils:Core exposed depth is too small. Making adiabatic.\n",
      "WARNING:shoeboxer.geometry_utils:Core ground exposed depth is too small. Making adiabatic.\n",
      "INFO:shoeboxer.geometry_utils:Placing shading around center point [1.5 0. ]\n",
      "WARNING:shoeboxer.geometry_utils:Core ground exposed depth is too small. Making adiabatic.\n",
      "INFO:shoeboxer.geometry_utils:Maximum shading point is 0.0\n",
      "WARNING:shoeboxer.geometry_utils:Perim ground exposed depth is too small. Making adiabatic.\n",
      "WARNING:shoeboxer.geometry_utils:Perim roof adiabatic depth is too small. Dropping adiabatic.\n",
      "WARNING:shoeboxer.geometry_utils:Perim roof adiabatic depth is too small. Dropping adiabatic.\n",
      "INFO:shoeboxer.geometry_utils:Placing shading around center point [1.5 0. ]\n",
      "WARNING:shoeboxer.geometry_utils:Core ground exposed depth is too small. Making adiabatic.\n",
      "WARNING:shoeboxer.geometry_utils:Core roof adiabatic depth is too small. Dropping adiabatic.\n",
      "WARNING:shoeboxer.geometry_utils:Core roof adiabatic depth is too small. Dropping adiabatic.\n",
      "INFO:shoeboxer.geometry_utils:Maximum shading point is 0.0\n",
      "INFO:shoeboxer.geometry_utils:Maximum shading point is 0.0\n",
      "INFO:shoeboxer.geometry_utils:Maximum shading point is 0.0\n",
      "INFO:shoeboxer.geometry_utils:Placing shading around center point [1.5 0. ]\n",
      "INFO:shoeboxer.geometry_utils:Placing shading around center point [1.5 0. ]\n",
      "INFO:shoeboxer.geometry_utils:Placing shading around center point [1.5 0. ]\n",
      "INFO:ShoeBox:Building idf for data\\sim_results\\7bb4fcb3-11bc-4eeb-b86d-f57331bf197d\\7bb4fcb3-11bc-4eeb-b86d-f57331bf197d.epjson\n",
      "INFO:ShoeBox:Building idf for data\\sim_results\\58544c6b-901b-499c-a337-26b360a896d1\\58544c6b-901b-499c-a337-26b360a896d1.epjson\n",
      "INFO:ShoeBox:Building idf for data\\sim_results\\e9c1a00e-c87d-448d-95b7-809b69541bd1\\e9c1a00e-c87d-448d-95b7-809b69541bd1.epjson\n",
      "INFO:ShoeBox:Building idf for data\\sim_results\\28f1e4b7-fdcc-4ed7-8932-64d7f7abc070\\28f1e4b7-fdcc-4ed7-8932-64d7f7abc070.epjson\n",
      "INFO:ShoeBox:Building idf for data\\sim_results\\efe62a9f-2cbc-46c7-873c-1826e7ae21eb\\efe62a9f-2cbc-46c7-873c-1826e7ae21eb.epjson\n",
      "INFO:ShoeBox:EnergyPlus Starting\n",
      "INFO:ShoeBox:EnergyPlus, Version 22.2.0-c249759bad, YMD=2023.12.05 15:44\n",
      "INFO:ShoeBox:Converted input file format. Exiting.\n",
      "INFO:ShoeBox:EnergyPlus Run Time=00hr 00min  0.14sec\n",
      "INFO:ShoeBox:Command executed successfully.\n",
      "INFO:ShoeBox:EnergyPlus Starting\n",
      "INFO:ShoeBox:EnergyPlus, Version 22.2.0-c249759bad, YMD=2023.12.05 15:44\n",
      "INFO:ShoeBox:EnergyPlus Starting\n",
      "INFO:ShoeBox:EnergyPlus, Version 22.2.0-c249759bad, YMD=2023.12.05 15:44\n",
      "INFO:ShoeBox:EnergyPlus Starting\n",
      "INFO:ShoeBox:EnergyPlus Starting\n",
      "INFO:ShoeBox:EnergyPlus Starting\n",
      "INFO:ShoeBox:EnergyPlus, Version 22.2.0-c249759bad, YMD=2023.12.05 15:44\n",
      "INFO:ShoeBox:Converted input file format. Exiting.\n",
      "INFO:ShoeBox:Converted input file format. Exiting.\n",
      "INFO:ShoeBox:EnergyPlus, Version 22.2.0-c249759bad, YMD=2023.12.05 15:44\n",
      "INFO:ShoeBox:EnergyPlus, Version 22.2.0-c249759bad, YMD=2023.12.05 15:44\n",
      "INFO:ShoeBox:EnergyPlus Run Time=00hr 00min  0.13sec\n",
      "INFO:ShoeBox:EnergyPlus Run Time=00hr 00min  0.14sec\n",
      "INFO:ShoeBox:Converted input file format. Exiting.\n",
      "INFO:ShoeBox:Converted input file format. Exiting.\n",
      "INFO:ShoeBox:EnergyPlus Run Time=00hr 00min  0.14sec\n",
      "INFO:ShoeBox:Converted input file format. Exiting.\n",
      "INFO:ShoeBox:EnergyPlus Run Time=00hr 00min  0.14sec\n",
      "INFO:ShoeBox:EnergyPlus Run Time=00hr 00min  0.15sec\n",
      "INFO:ShoeBox:Command executed successfully.\n",
      "INFO:ShoeBox:Command executed successfully.\n",
      "INFO:ShoeBox:Command executed successfully.\n",
      "INFO:ShoeBox:Command executed successfully.\n",
      "INFO:ShoeBox:Command executed successfully.\n",
      "C:\\EnergyPlusV22-2-0\\ExpandObjects.EXE #0-94de6830-4bf8-4b1d-bdb3-1cfee43e5cd4.idf: 0.00it [00:00, ?it/s]INFO:94de6830-4bf8-4b1d-bdb3-1cfee43e5cd4.idf:ExpandObjects Started.\n",
      "C:\\EnergyPlusV22-2-0\\ExpandObjects.EXE #0-94de6830-4bf8-4b1d-bdb3-1cfee43e5cd4.idf: 1.00it [00:00, 5.55it/s]INFO:94de6830-4bf8-4b1d-bdb3-1cfee43e5cd4.idf:No expanded file generated.\n",
      "C:\\EnergyPlusV22-2-0\\ExpandObjects.EXE #0-94de6830-4bf8-4b1d-bdb3-1cfee43e5cd4.idf: 2.00it [00:00, 7.33it/s]INFO:94de6830-4bf8-4b1d-bdb3-1cfee43e5cd4.idf:ExpandObjects Finished. Time:     0.109\n",
      "C:\\EnergyPlusV22-2-0\\ExpandObjects.EXE #0-94de6830-4bf8-4b1d-bdb3-1cfee43e5cd4.idf: 3.00it [00:00, 7.33it/s]INFO:94de6830-4bf8-4b1d-bdb3-1cfee43e5cd4.idf:ExpandObjects completed in 0.23 seconds\n"
     ]
    },
    {
     "name": "stdout",
     "output_type": "stream",
     "text": [
      "ExpandObjects Started.\n",
      "No expanded file generated.\n",
      "ExpandObjects Finished. Time:     0.109\n",
      "ExpandObjects completed in 0.23 seconds\n"
     ]
    },
    {
     "name": "stderr",
     "output_type": "stream",
     "text": [
      "C:\\EnergyPlusV22-2-0\\ExpandObjects.EXE #0-94de6830-4bf8-4b1d-bdb3-1cfee43e5cd4.idf: 3.00it [00:00, 8.67it/s]\n",
      "C:\\EnergyPlusV22-2-0\\ExpandObjects.EXE #0-e9c1a00e-c87d-448d-95b7-809b69541bd1.idf: 0.00it [00:00, ?it/s]INFO:efe62a9f-2cbc-46c7-873c-1826e7ae21eb.idf:ExpandObjects Started.\n",
      "C:\\EnergyPlusV22-2-0\\ExpandObjects.EXE #0-e9c1a00e-c87d-448d-95b7-809b69541bd1.idf: 0.00it [00:00, ?it/s]/s]INFO:28f1e4b7-fdcc-4ed7-8932-64d7f7abc070.idf:ExpandObjects Started.\n",
      "C:\\EnergyPlusV22-2-0\\ExpandObjects.EXE #0-e9c1a00e-c87d-448d-95b7-809b69541bd1.idf: 0.00it [00:00, ?it/s]/s]INFO:58544c6b-901b-499c-a337-26b360a896d1.idf:ExpandObjects Started.\n",
      "C:\\EnergyPlusV22-2-0\\ExpandObjects.EXE #0-e9c1a00e-c87d-448d-95b7-809b69541bd1.idf: 0.00it [00:00, ?it/s]/s]INFO:7bb4fcb3-11bc-4eeb-b86d-f57331bf197d.idf:ExpandObjects Started.\n",
      "C:\\EnergyPlusV22-2-0\\ExpandObjects.EXE #0-efe62a9f-2cbc-46c7-873c-1826e7ae21eb.idf: 1.00it [00:00, 6.08it/s]INFO:e9c1a00e-c87d-448d-95b7-809b69541bd1.idf:ExpandObjects Started.\n",
      "C:\\EnergyPlusV22-2-0\\ExpandObjects.EXE #0-e9c1a00e-c87d-448d-95b7-809b69541bd1.idf: 1.00it [00:00, 4.64it/s]INFO:58544c6b-901b-499c-a337-26b360a896d1.idf:No expanded file generated.\n",
      "C:\\EnergyPlusV22-2-0\\ExpandObjects.EXE #0-e9c1a00e-c87d-448d-95b7-809b69541bd1.idf: 1.00it [00:00, 4.64it/s]INFO:efe62a9f-2cbc-46c7-873c-1826e7ae21eb.idf:No expanded file generated.\n",
      "C:\\EnergyPlusV22-2-0\\ExpandObjects.EXE #0-e9c1a00e-c87d-448d-95b7-809b69541bd1.idf: 1.00it [00:00, 4.64it/s]INFO:58544c6b-901b-499c-a337-26b360a896d1.idf:ExpandObjects Finished. Time:     0.125\n",
      "C:\\EnergyPlusV22-2-0\\ExpandObjects.EXE #0-e9c1a00e-c87d-448d-95b7-809b69541bd1.idf: 1.00it [00:00, 4.64it/s]INFO:7bb4fcb3-11bc-4eeb-b86d-f57331bf197d.idf:No expanded file generated.\n",
      "C:\\EnergyPlusV22-2-0\\ExpandObjects.EXE #0-efe62a9f-2cbc-46c7-873c-1826e7ae21eb.idf: 2.00it [00:00, 6.82it/s]INFO:28f1e4b7-fdcc-4ed7-8932-64d7f7abc070.idf:No expanded file generated.\n",
      "                                                                                                            \r"
     ]
    },
    {
     "name": "stdout",
     "output_type": "stream",
     "text": [
      "ExpandObjects Started.\n",
      "ExpandObjects Started.\n",
      "ExpandObjects Started.\n",
      "ExpandObjects Started.\n",
      "ExpandObjects Started.\n",
      "No expanded file generated.\n",
      "No expanded file generated.\n",
      "ExpandObjects Finished. Time:     0.125\n",
      "No expanded file generated.\n",
      "No expanded file generated.\n"
     ]
    },
    {
     "name": "stderr",
     "output_type": "stream",
     "text": [
      "C:\\EnergyPlusV22-2-0\\ExpandObjects.EXE #0-7bb4fcb3-11bc-4eeb-b86d-f57331bf197d.idf: 2.00it [00:00, 6.33it/s]INFO:e9c1a00e-c87d-448d-95b7-809b69541bd1.idf:No expanded file generated.\n",
      "                                                                                                            INFO:efe62a9f-2cbc-46c7-873c-1826e7ae21eb.idf:ExpandObjects Finished. Time:     0.125\n",
      "C:\\EnergyPlusV22-2-0\\ExpandObjects.EXE #0-e9c1a00e-c87d-448d-95b7-809b69541bd1.idf: 2.00it [00:00, 5.76it/s]INFO:58544c6b-901b-499c-a337-26b360a896d1.idf:ExpandObjects completed in 0.31 seconds\n",
      "C:\\EnergyPlusV22-2-0\\ExpandObjects.EXE #0-e9c1a00e-c87d-448d-95b7-809b69541bd1.idf: 2.00it [00:00, 5.76it/s]INFO:7bb4fcb3-11bc-4eeb-b86d-f57331bf197d.idf:ExpandObjects Finished. Time:     0.156\n",
      "C:\\EnergyPlusV22-2-0\\ExpandObjects.EXE #0-e9c1a00e-c87d-448d-95b7-809b69541bd1.idf: 2.00it [00:00, 5.76it/s]INFO:28f1e4b7-fdcc-4ed7-8932-64d7f7abc070.idf:ExpandObjects Finished. Time:     0.125\n",
      "C:\\EnergyPlusV22-2-0\\ExpandObjects.EXE #0-7bb4fcb3-11bc-4eeb-b86d-f57331bf197d.idf: 3.00it [00:00, 6.91it/s]INFO:efe62a9f-2cbc-46c7-873c-1826e7ae21eb.idf:ExpandObjects completed in 0.36 seconds\n",
      "C:\\EnergyPlusV22-2-0\\ExpandObjects.EXE #0-28f1e4b7-fdcc-4ed7-8932-64d7f7abc070.idf: 3.00it [00:00, 6.51it/s]INFO:e9c1a00e-c87d-448d-95b7-809b69541bd1.idf:ExpandObjects Finished. Time:     0.141\n",
      "C:\\EnergyPlusV22-2-0\\ExpandObjects.EXE #0-58544c6b-901b-499c-a337-26b360a896d1.idf: 3.00it [00:00, 5.95it/s]\n",
      "C:\\EnergyPlusV22-2-0\\ExpandObjects.EXE #0-e9c1a00e-c87d-448d-95b7-809b69541bd1.idf: 3.00it [00:00, 6.27it/s]INFO:7bb4fcb3-11bc-4eeb-b86d-f57331bf197d.idf:ExpandObjects completed in 0.48 seconds\n",
      "C:\\EnergyPlusV22-2-0\\ExpandObjects.EXE #0-e9c1a00e-c87d-448d-95b7-809b69541bd1.idf: 3.00it [00:00, 6.27it/s]"
     ]
    },
    {
     "name": "stdout",
     "output_type": "stream",
     "text": [
      "No expanded file generated.\n",
      "ExpandObjects Finished. Time:     0.125\n",
      "ExpandObjects completed in 0.31 seconds\n",
      "ExpandObjects Finished. Time:     0.156\n",
      "ExpandObjects Finished. Time:     0.125\n",
      "ExpandObjects completed in 0.36 seconds\n",
      "ExpandObjects Finished. Time:     0.141\n",
      "ExpandObjects completed in 0.48 seconds\n",
      "ExpandObjects completed in 0.48 seconds\n"
     ]
    },
    {
     "name": "stderr",
     "output_type": "stream",
     "text": [
      "C:\\EnergyPlusV22-2-0\\ExpandObjects.EXE #0-efe62a9f-2cbc-46c7-873c-1826e7ae21eb.idf: 3.00it [00:00, 5.59it/s]INFO:28f1e4b7-fdcc-4ed7-8932-64d7f7abc070.idf:ExpandObjects completed in 0.48 seconds\n",
      "\n",
      "C:\\EnergyPlusV22-2-0\\ExpandObjects.EXE #0-7bb4fcb3-11bc-4eeb-b86d-f57331bf197d.idf: 3.00it [00:00, 5.08it/s]INFO:e9c1a00e-c87d-448d-95b7-809b69541bd1.idf:ExpandObjects completed in 0.46 seconds\n",
      "\n",
      "C:\\EnergyPlusV22-2-0\\ExpandObjects.EXE #0-28f1e4b7-fdcc-4ed7-8932-64d7f7abc070.idf: 3.00it [00:00, 5.15it/s]\n",
      "C:\\EnergyPlusV22-2-0\\ExpandObjects.EXE #0-e9c1a00e-c87d-448d-95b7-809b69541bd1.idf: 3.00it [00:00, 5.17it/s]\n"
     ]
    },
    {
     "name": "stdout",
     "output_type": "stream",
     "text": [
      "ExpandObjects completed in 0.46 seconds\n"
     ]
    },
    {
     "name": "stderr",
     "output_type": "stream",
     "text": [
      "simulate:   0%|          | 0.00/12.0 [00:04<?, ?runs/s]bdb3-1cfee43e5cd4.idf: 0it [00:00, ?it/s]INFO:94de6830-4bf8-4b1d-bdb3-1cfee43e5cd4.idf:Simulation started\n"
     ]
    },
    {
     "name": "stdout",
     "output_type": "stream",
     "text": [
      "Simulation started\n"
     ]
    },
    {
     "name": "stderr",
     "output_type": "stream",
     "text": [
      "simulate:   0%|          | 0.00/12.0 [00:04<?, ?runs/s]bdb3-1cfee43e5cd4.idf: 0it [00:00, ?it/s]INFO:94de6830-4bf8-4b1d-bdb3-1cfee43e5cd4.idf:EnergyPlus Starting\n",
      "simulate:   0%|          | 0.00/12.0 [00:04<?, ?runs/s]bdb3-1cfee43e5cd4.idf: 1it [00:00,  3.34it/s]INFO:94de6830-4bf8-4b1d-bdb3-1cfee43e5cd4.idf:EnergyPlus, Version 22.2.0-c249759bad, YMD=2023.12.05 15:44\n"
     ]
    },
    {
     "name": "stdout",
     "output_type": "stream",
     "text": [
      "EnergyPlus Starting\n",
      "EnergyPlus, Version 22.2.0-c249759bad, YMD=2023.12.05 15:44\n"
     ]
    },
    {
     "name": "stderr",
     "output_type": "stream",
     "text": [
      "simulate:   0%|          | 0.00/12.0 [00:04<?, ?runs/s]bdb3-1cfee43e5cd4.idf: 2it [00:00,  3.34it/s]INFO:94de6830-4bf8-4b1d-bdb3-1cfee43e5cd4.idf:Adjusting Air System Sizing\n",
      "simulate:   0%|          | 0.00/12.0 [00:04<?, ?runs/s]bdb3-1cfee43e5cd4.idf: 3it [00:00,  4.56it/s]INFO:94de6830-4bf8-4b1d-bdb3-1cfee43e5cd4.idf:Adjusting Standard 62.1 Ventilation Sizing\n",
      "simulate:   0%|          | 0.00/12.0 [00:04<?, ?runs/s]bdb3-1cfee43e5cd4.idf: 4it [00:00,  4.56it/s]INFO:94de6830-4bf8-4b1d-bdb3-1cfee43e5cd4.idf:Initializing Simulation\n"
     ]
    },
    {
     "name": "stdout",
     "output_type": "stream",
     "text": [
      "Adjusting Air System Sizing\n",
      "Adjusting Standard 62.1 Ventilation Sizing\n",
      "Initializing Simulation\n"
     ]
    },
    {
     "name": "stderr",
     "output_type": "stream",
     "text": [
      "simulate:   0%|          | 0.00/12.0 [00:05<?, ?runs/s]b86d-f57331bf197d.idf: 0it [00:00, ?it/s]t/s]INFO:58544c6b-901b-499c-a337-26b360a896d1.idf:Simulation started\n",
      "simulate:   0%|          | 0.00/12.0 [00:05<?, ?runs/s]b86d-f57331bf197d.idf: 0it [00:00, ?it/s]t/s]INFO:7bb4fcb3-11bc-4eeb-b86d-f57331bf197d.idf:Simulation started\n"
     ]
    },
    {
     "name": "stdout",
     "output_type": "stream",
     "text": [
      "Simulation started\n",
      "Simulation started\n"
     ]
    },
    {
     "name": "stderr",
     "output_type": "stream",
     "text": [
      "C:\\EnergyPlusV22-2-0\\energyplus.exe 28f1e4b7-fdcc-4ed7-8932-64d7f7abc070.idf: 0it [00:00, ?it/s]t/s]INFO:e9c1a00e-c87d-448d-95b7-809b69541bd1.idf:Simulation started\n",
      "C:\\EnergyPlusV22-2-0\\energyplus.exe 28f1e4b7-fdcc-4ed7-8932-64d7f7abc070.idf: 0it [00:00, ?it/s]t/s]INFO:efe62a9f-2cbc-46c7-873c-1826e7ae21eb.idf:Simulation started\n",
      "C:\\EnergyPlusV22-2-0\\energyplus.exe 28f1e4b7-fdcc-4ed7-8932-64d7f7abc070.idf: 0it [00:00, ?it/s]t/s]INFO:28f1e4b7-fdcc-4ed7-8932-64d7f7abc070.idf:Simulation started\n",
      "C:\\EnergyPlusV22-2-0\\energyplus.exe 28f1e4b7-fdcc-4ed7-8932-64d7f7abc070.idf: 0it [00:00, ?it/s]t/s]INFO:7bb4fcb3-11bc-4eeb-b86d-f57331bf197d.idf:EnergyPlus Starting\n",
      "C:\\EnergyPlusV22-2-0\\energyplus.exe 7bb4fcb3-11bc-4eeb-b86d-f57331bf197d.idf: 1it [00:00,  3.07it/s]INFO:58544c6b-901b-499c-a337-26b360a896d1.idf:EnergyPlus Starting\n",
      "C:\\EnergyPlusV22-2-0\\energyplus.exe 58544c6b-901b-499c-a337-26b360a896d1.idf: 1it [00:00,  2.80it/s]INFO:7bb4fcb3-11bc-4eeb-b86d-f57331bf197d.idf:EnergyPlus, Version 22.2.0-c249759bad, YMD=2023.12.05 15:44\n",
      "C:\\EnergyPlusV22-2-0\\energyplus.exe 28f1e4b7-fdcc-4ed7-8932-64d7f7abc070.idf: 0it [00:00, ?it/s]t/s]INFO:58544c6b-901b-499c-a337-26b360a896d1.idf:EnergyPlus, Version 22.2.0-c249759bad, YMD=2023.12.05 15:44\n"
     ]
    },
    {
     "name": "stdout",
     "output_type": "stream",
     "text": [
      "Simulation started\n",
      "Simulation started\n",
      "Simulation started\n",
      "EnergyPlus Starting\n",
      "EnergyPlus Starting\n",
      "EnergyPlus, Version 22.2.0-c249759bad, YMD=2023.12.05 15:44\n",
      "EnergyPlus, Version 22.2.0-c249759bad, YMD=2023.12.05 15:44\n"
     ]
    },
    {
     "name": "stderr",
     "output_type": "stream",
     "text": [
      "C:\\EnergyPlusV22-2-0\\energyplus.exe 28f1e4b7-fdcc-4ed7-8932-64d7f7abc070.idf: 0it [00:00, ?it/s]t/s]INFO:e9c1a00e-c87d-448d-95b7-809b69541bd1.idf:EnergyPlus Starting\n",
      "C:\\EnergyPlusV22-2-0\\energyplus.exe 28f1e4b7-fdcc-4ed7-8932-64d7f7abc070.idf: 0it [00:00, ?it/s]t/s]INFO:28f1e4b7-fdcc-4ed7-8932-64d7f7abc070.idf:EnergyPlus Starting\n",
      "C:\\EnergyPlusV22-2-0\\energyplus.exe e9c1a00e-c87d-448d-95b7-809b69541bd1.idf: 1it [00:00,  2.56it/s]INFO:efe62a9f-2cbc-46c7-873c-1826e7ae21eb.idf:EnergyPlus Starting\n",
      "C:\\EnergyPlusV22-2-0\\energyplus.exe 28f1e4b7-fdcc-4ed7-8932-64d7f7abc070.idf: 1it [00:00,  2.52it/s]INFO:e9c1a00e-c87d-448d-95b7-809b69541bd1.idf:EnergyPlus, Version 22.2.0-c249759bad, YMD=2023.12.05 15:44\n",
      "C:\\EnergyPlusV22-2-0\\energyplus.exe 28f1e4b7-fdcc-4ed7-8932-64d7f7abc070.idf: 1it [00:00,  2.52it/s]INFO:28f1e4b7-fdcc-4ed7-8932-64d7f7abc070.idf:EnergyPlus, Version 22.2.0-c249759bad, YMD=2023.12.05 15:44\n",
      "C:\\EnergyPlusV22-2-0\\energyplus.exe 28f1e4b7-fdcc-4ed7-8932-64d7f7abc070.idf: 2it [00:00,  2.52it/s]INFO:efe62a9f-2cbc-46c7-873c-1826e7ae21eb.idf:EnergyPlus, Version 22.2.0-c249759bad, YMD=2023.12.05 15:44\n",
      "C:\\EnergyPlusV22-2-0\\energyplus.exe 28f1e4b7-fdcc-4ed7-8932-64d7f7abc070.idf: 2it [00:00,  2.52it/s]INFO:7bb4fcb3-11bc-4eeb-b86d-f57331bf197d.idf:Adjusting Air System Sizing\n",
      "C:\\EnergyPlusV22-2-0\\energyplus.exe 7bb4fcb3-11bc-4eeb-b86d-f57331bf197d.idf: 3it [00:00,  4.26it/s]INFO:58544c6b-901b-499c-a337-26b360a896d1.idf:Adjusting Air System Sizing\n",
      "C:\\EnergyPlusV22-2-0\\energyplus.exe 28f1e4b7-fdcc-4ed7-8932-64d7f7abc070.idf: 2it [00:00,  2.52it/s]INFO:7bb4fcb3-11bc-4eeb-b86d-f57331bf197d.idf:Adjusting Standard 62.1 Ventilation Sizing\n",
      "C:\\EnergyPlusV22-2-0\\energyplus.exe 28f1e4b7-fdcc-4ed7-8932-64d7f7abc070.idf: 2it [00:00,  2.52it/s]INFO:58544c6b-901b-499c-a337-26b360a896d1.idf:Adjusting Standard 62.1 Ventilation Sizing\n",
      "                                                                                                    "
     ]
    },
    {
     "name": "stdout",
     "output_type": "stream",
     "text": [
      "EnergyPlus Starting\n",
      "EnergyPlus Starting\n",
      "EnergyPlus Starting\n",
      "EnergyPlus, Version 22.2.0-c249759bad, YMD=2023.12.05 15:44\n",
      "EnergyPlus, Version 22.2.0-c249759bad, YMD=2023.12.05 15:44\n",
      "EnergyPlus, Version 22.2.0-c249759bad, YMD=2023.12.05 15:44\n",
      "Adjusting Air System Sizing\n",
      "Adjusting Air System Sizing\n",
      "Adjusting Standard 62.1 Ventilation Sizing\n",
      "Adjusting Standard 62.1 Ventilation Sizing\n"
     ]
    },
    {
     "name": "stderr",
     "output_type": "stream",
     "text": [
      "C:\\EnergyPlusV22-2-0\\energyplus.exe 28f1e4b7-fdcc-4ed7-8932-64d7f7abc070.idf: 2it [00:00,  2.52it/s]INFO:7bb4fcb3-11bc-4eeb-b86d-f57331bf197d.idf:Initializing Simulation\n",
      "C:\\EnergyPlusV22-2-0\\energyplus.exe 28f1e4b7-fdcc-4ed7-8932-64d7f7abc070.idf: 2it [00:00,  2.52it/s]INFO:58544c6b-901b-499c-a337-26b360a896d1.idf:Initializing Simulation\n",
      "C:\\EnergyPlusV22-2-0\\energyplus.exe 28f1e4b7-fdcc-4ed7-8932-64d7f7abc070.idf: 2it [00:00,  2.52it/s]INFO:94de6830-4bf8-4b1d-bdb3-1cfee43e5cd4.idf:Reporting Surfaces\n",
      "C:\\EnergyPlusV22-2-0\\energyplus.exe 28f1e4b7-fdcc-4ed7-8932-64d7f7abc070.idf: 2it [00:00,  2.52it/s]INFO:94de6830-4bf8-4b1d-bdb3-1cfee43e5cd4.idf:Beginning Primary Simulation\n",
      "C:\\EnergyPlusV22-2-0\\energyplus.exe 28f1e4b7-fdcc-4ed7-8932-64d7f7abc070.idf: 2it [00:00,  2.52it/s]INFO:94de6830-4bf8-4b1d-bdb3-1cfee43e5cd4.idf:Initializing New Environment Parameters\n",
      "C:\\EnergyPlusV22-2-0\\energyplus.exe 28f1e4b7-fdcc-4ed7-8932-64d7f7abc070.idf: 2it [00:00,  2.52it/s]INFO:94de6830-4bf8-4b1d-bdb3-1cfee43e5cd4.idf:Warming up {1}\n",
      "                                                                                                    \r"
     ]
    },
    {
     "name": "stdout",
     "output_type": "stream",
     "text": [
      "Initializing Simulation\n",
      "Initializing Simulation\n",
      "Reporting Surfaces\n",
      "Beginning Primary Simulation\n",
      "Initializing New Environment Parameters\n",
      "Warming up {1}\n"
     ]
    },
    {
     "name": "stderr",
     "output_type": "stream",
     "text": [
      "C:\\EnergyPlusV22-2-0\\energyplus.exe 28f1e4b7-fdcc-4ed7-8932-64d7f7abc070.idf: 2it [00:00,  2.52it/s]INFO:94de6830-4bf8-4b1d-bdb3-1cfee43e5cd4.idf:Warming up {2}\n",
      "C:\\EnergyPlusV22-2-0\\energyplus.exe 28f1e4b7-fdcc-4ed7-8932-64d7f7abc070.idf: 2it [00:00,  2.52it/s]]INFO:94de6830-4bf8-4b1d-bdb3-1cfee43e5cd4.idf:Warming up {3}\n",
      "C:\\EnergyPlusV22-2-0\\energyplus.exe 28f1e4b7-fdcc-4ed7-8932-64d7f7abc070.idf: 2it [00:00,  2.52it/s]]INFO:94de6830-4bf8-4b1d-bdb3-1cfee43e5cd4.idf:Warming up {4}\n",
      "C:\\EnergyPlusV22-2-0\\energyplus.exe 28f1e4b7-fdcc-4ed7-8932-64d7f7abc070.idf: 2it [00:00,  2.52it/s]]INFO:94de6830-4bf8-4b1d-bdb3-1cfee43e5cd4.idf:Warming up {5}\n",
      "C:\\EnergyPlusV22-2-0\\energyplus.exe 28f1e4b7-fdcc-4ed7-8932-64d7f7abc070.idf: 2it [00:00,  2.52it/s]]INFO:94de6830-4bf8-4b1d-bdb3-1cfee43e5cd4.idf:Warming up {6}\n",
      "C:\\EnergyPlusV22-2-0\\energyplus.exe 94de6830-4bf8-4b1d-bdb3-1cfee43e5cd4.idf: 14it [00:01, 10.84it/s]INFO:efe62a9f-2cbc-46c7-873c-1826e7ae21eb.idf:Adjusting Air System Sizing\n",
      "C:\\EnergyPlusV22-2-0\\energyplus.exe efe62a9f-2cbc-46c7-873c-1826e7ae21eb.idf: 3it [00:00,  3.76it/s]]INFO:94de6830-4bf8-4b1d-bdb3-1cfee43e5cd4.idf:Warming up {7}\n",
      "C:\\EnergyPlusV22-2-0\\energyplus.exe 28f1e4b7-fdcc-4ed7-8932-64d7f7abc070.idf: 2it [00:00,  2.52it/s]]INFO:28f1e4b7-fdcc-4ed7-8932-64d7f7abc070.idf:Adjusting Air System Sizing\n",
      "C:\\EnergyPlusV22-2-0\\energyplus.exe 28f1e4b7-fdcc-4ed7-8932-64d7f7abc070.idf: 3it [00:00,  3.53it/s]]INFO:e9c1a00e-c87d-448d-95b7-809b69541bd1.idf:Adjusting Air System Sizing\n",
      "C:\\EnergyPlusV22-2-0\\energyplus.exe 28f1e4b7-fdcc-4ed7-8932-64d7f7abc070.idf: 3it [00:00,  3.53it/s]]INFO:efe62a9f-2cbc-46c7-873c-1826e7ae21eb.idf:Adjusting Standard 62.1 Ventilation Sizing\n",
      "C:\\EnergyPlusV22-2-0\\energyplus.exe e9c1a00e-c87d-448d-95b7-809b69541bd1.idf: 3it [00:00,  3.39it/s]]"
     ]
    },
    {
     "name": "stdout",
     "output_type": "stream",
     "text": [
      "Warming up {2}\n",
      "Warming up {3}\n",
      "Warming up {4}\n",
      "Warming up {5}\n",
      "Warming up {6}\n",
      "Adjusting Air System Sizing\n",
      "Warming up {7}\n",
      "Adjusting Air System Sizing\n",
      "Adjusting Air System Sizing\n",
      "Adjusting Standard 62.1 Ventilation Sizing\n",
      "Warming up {8}\n"
     ]
    },
    {
     "name": "stderr",
     "output_type": "stream",
     "text": [
      "C:\\EnergyPlusV22-2-0\\energyplus.exe 28f1e4b7-fdcc-4ed7-8932-64d7f7abc070.idf: 3it [00:00,  3.53it/s]INFO:94de6830-4bf8-4b1d-bdb3-1cfee43e5cd4.idf:Warming up {8}\n",
      "C:\\EnergyPlusV22-2-0\\energyplus.exe 28f1e4b7-fdcc-4ed7-8932-64d7f7abc070.idf: 3it [00:00,  3.53it/s]]INFO:efe62a9f-2cbc-46c7-873c-1826e7ae21eb.idf:Initializing Simulation\n",
      "C:\\EnergyPlusV22-2-0\\energyplus.exe 94de6830-4bf8-4b1d-bdb3-1cfee43e5cd4.idf: 16it [00:02, 12.04it/s]INFO:28f1e4b7-fdcc-4ed7-8932-64d7f7abc070.idf:Adjusting Standard 62.1 Ventilation Sizing\n",
      "C:\\EnergyPlusV22-2-0\\energyplus.exe efe62a9f-2cbc-46c7-873c-1826e7ae21eb.idf: 5it [00:00,  6.44it/s]]INFO:e9c1a00e-c87d-448d-95b7-809b69541bd1.idf:Adjusting Standard 62.1 Ventilation Sizing\n",
      "C:\\EnergyPlusV22-2-0\\energyplus.exe 28f1e4b7-fdcc-4ed7-8932-64d7f7abc070.idf: 4it [00:00,  3.53it/s]]INFO:94de6830-4bf8-4b1d-bdb3-1cfee43e5cd4.idf:Warming up {9}\n",
      "C:\\EnergyPlusV22-2-0\\energyplus.exe 28f1e4b7-fdcc-4ed7-8932-64d7f7abc070.idf: 4it [00:01,  3.53it/s]]INFO:28f1e4b7-fdcc-4ed7-8932-64d7f7abc070.idf:Initializing Simulation\n",
      "C:\\EnergyPlusV22-2-0\\energyplus.exe 28f1e4b7-fdcc-4ed7-8932-64d7f7abc070.idf: 5it [00:01,  5.83it/s]]INFO:e9c1a00e-c87d-448d-95b7-809b69541bd1.idf:Initializing Simulation\n",
      "C:\\EnergyPlusV22-2-0\\energyplus.exe 28f1e4b7-fdcc-4ed7-8932-64d7f7abc070.idf: 5it [00:01,  5.83it/s]]INFO:94de6830-4bf8-4b1d-bdb3-1cfee43e5cd4.idf:Starting Simulation at 01/01/2017 for CLIMATE STUDIO\n",
      "C:\\EnergyPlusV22-2-0\\energyplus.exe 94de6830-4bf8-4b1d-bdb3-1cfee43e5cd4.idf: 18it [00:02, 12.22it/s]"
     ]
    },
    {
     "name": "stdout",
     "output_type": "stream",
     "text": [
      "Initializing Simulation\n",
      "Adjusting Standard 62.1 Ventilation Sizing\n",
      "Adjusting Standard 62.1 Ventilation Sizing\n",
      "Warming up {9}\n",
      "Initializing Simulation\n",
      "Initializing Simulation\n",
      "Starting Simulation at 01/01/2017 for CLIMATE STUDIO\n"
     ]
    },
    {
     "name": "stderr",
     "output_type": "stream",
     "text": [
      "C:\\EnergyPlusV22-2-0\\energyplus.exe 28f1e4b7-fdcc-4ed7-8932-64d7f7abc070.idf: 5it [00:01,  5.83it/s]]INFO:94de6830-4bf8-4b1d-bdb3-1cfee43e5cd4.idf:Updating Shadowing Calculations, Start Date=01/21/2017\n",
      "C:\\EnergyPlusV22-2-0\\energyplus.exe 28f1e4b7-fdcc-4ed7-8932-64d7f7abc070.idf: 5it [00:01,  5.83it/s]]INFO:94de6830-4bf8-4b1d-bdb3-1cfee43e5cd4.idf:Continuing Simulation at 01/21/2017 for CLIMATE STUDIO\n",
      "C:\\EnergyPlusV22-2-0\\energyplus.exe 94de6830-4bf8-4b1d-bdb3-1cfee43e5cd4.idf: 20it [00:02, 13.49it/s]"
     ]
    },
    {
     "name": "stdout",
     "output_type": "stream",
     "text": [
      "Updating Shadowing Calculations, Start Date=01/21/2017\n",
      "Continuing Simulation at 01/21/2017 for CLIMATE STUDIO\n"
     ]
    },
    {
     "name": "stderr",
     "output_type": "stream",
     "text": [
      "C:\\EnergyPlusV22-2-0\\energyplus.exe 28f1e4b7-fdcc-4ed7-8932-64d7f7abc070.idf: 5it [00:01,  5.83it/s]]INFO:94de6830-4bf8-4b1d-bdb3-1cfee43e5cd4.idf:Updating Shadowing Calculations, Start Date=02/10/2017\n",
      "C:\\EnergyPlusV22-2-0\\energyplus.exe 28f1e4b7-fdcc-4ed7-8932-64d7f7abc070.idf: 5it [00:01,  5.83it/s]]INFO:94de6830-4bf8-4b1d-bdb3-1cfee43e5cd4.idf:Continuing Simulation at 02/10/2017 for CLIMATE STUDIO\n",
      "C:\\EnergyPlusV22-2-0\\energyplus.exe 28f1e4b7-fdcc-4ed7-8932-64d7f7abc070.idf: 5it [00:01,  5.83it/s]]INFO:7bb4fcb3-11bc-4eeb-b86d-f57331bf197d.idf:Reporting Surfaces\n",
      "C:\\EnergyPlusV22-2-0\\energyplus.exe 28f1e4b7-fdcc-4ed7-8932-64d7f7abc070.idf: 5it [00:01,  5.83it/s]]INFO:7bb4fcb3-11bc-4eeb-b86d-f57331bf197d.idf:Beginning Primary Simulation\n"
     ]
    },
    {
     "name": "stdout",
     "output_type": "stream",
     "text": [
      "Updating Shadowing Calculations, Start Date=02/10/2017\n",
      "Continuing Simulation at 02/10/2017 for CLIMATE STUDIO\n",
      "Reporting Surfaces\n",
      "Beginning Primary Simulation\n"
     ]
    },
    {
     "name": "stderr",
     "output_type": "stream",
     "text": [
      "C:\\EnergyPlusV22-2-0\\energyplus.exe 28f1e4b7-fdcc-4ed7-8932-64d7f7abc070.idf: 5it [00:01,  5.83it/s]]INFO:58544c6b-901b-499c-a337-26b360a896d1.idf:Reporting Surfaces\n",
      "C:\\EnergyPlusV22-2-0\\energyplus.exe 28f1e4b7-fdcc-4ed7-8932-64d7f7abc070.idf: 5it [00:01,  5.83it/s]]INFO:58544c6b-901b-499c-a337-26b360a896d1.idf:Beginning Primary Simulation\n",
      "C:\\EnergyPlusV22-2-0\\energyplus.exe 28f1e4b7-fdcc-4ed7-8932-64d7f7abc070.idf: 5it [00:01,  5.83it/s]]INFO:7bb4fcb3-11bc-4eeb-b86d-f57331bf197d.idf:Initializing New Environment Parameters\n",
      "C:\\EnergyPlusV22-2-0\\energyplus.exe 28f1e4b7-fdcc-4ed7-8932-64d7f7abc070.idf: 5it [00:01,  5.83it/s]]INFO:7bb4fcb3-11bc-4eeb-b86d-f57331bf197d.idf:Warming up {1}\n",
      "C:\\EnergyPlusV22-2-0\\energyplus.exe 7bb4fcb3-11bc-4eeb-b86d-f57331bf197d.idf: 9it [00:01,  5.41it/s]]INFO:58544c6b-901b-499c-a337-26b360a896d1.idf:Initializing New Environment Parameters\n",
      "C:\\EnergyPlusV22-2-0\\energyplus.exe 28f1e4b7-fdcc-4ed7-8932-64d7f7abc070.idf: 5it [00:01,  5.83it/s]]INFO:7bb4fcb3-11bc-4eeb-b86d-f57331bf197d.idf:Warming up {2}\n",
      "C:\\EnergyPlusV22-2-0\\energyplus.exe 28f1e4b7-fdcc-4ed7-8932-64d7f7abc070.idf: 5it [00:01,  5.83it/s]]INFO:58544c6b-901b-499c-a337-26b360a896d1.idf:Warming up {1}\n",
      "C:\\EnergyPlusV22-2-0\\energyplus.exe 58544c6b-901b-499c-a337-26b360a896d1.idf: 9it [00:02,  5.23it/s]]INFO:7bb4fcb3-11bc-4eeb-b86d-f57331bf197d.idf:Warming up {3}\n",
      "C:\\EnergyPlusV22-2-0\\energyplus.exe 28f1e4b7-fdcc-4ed7-8932-64d7f7abc070.idf: 5it [00:01,  5.83it/s]]INFO:94de6830-4bf8-4b1d-bdb3-1cfee43e5cd4.idf:Updating Shadowing Calculations, Start Date=03/02/2017\n",
      "C:\\EnergyPlusV22-2-0\\energyplus.exe 28f1e4b7-fdcc-4ed7-8932-64d7f7abc070.idf: 5it [00:01,  5.83it/s]]INFO:58544c6b-901b-499c-a337-26b360a896d1.idf:Warming up {2}\n",
      "                                                                                                     \r"
     ]
    },
    {
     "name": "stdout",
     "output_type": "stream",
     "text": [
      "Reporting Surfaces\n",
      "Beginning Primary Simulation\n",
      "Initializing New Environment Parameters\n",
      "Warming up {1}\n",
      "Initializing New Environment Parameters\n",
      "Warming up {2}\n",
      "Warming up {1}\n",
      "Warming up {3}\n",
      "Updating Shadowing Calculations, Start Date=03/02/2017\n",
      "Warming up {2}\n"
     ]
    },
    {
     "name": "stderr",
     "output_type": "stream",
     "text": [
      "C:\\EnergyPlusV22-2-0\\energyplus.exe 94de6830-4bf8-4b1d-bdb3-1cfee43e5cd4.idf: 23it [00:02,  8.00it/s]INFO:7bb4fcb3-11bc-4eeb-b86d-f57331bf197d.idf:Warming up {4}\n",
      "C:\\EnergyPlusV22-2-0\\energyplus.exe 7bb4fcb3-11bc-4eeb-b86d-f57331bf197d.idf: 12it [00:02,  7.80it/s]INFO:58544c6b-901b-499c-a337-26b360a896d1.idf:Warming up {3}\n",
      "C:\\EnergyPlusV22-2-0\\energyplus.exe 28f1e4b7-fdcc-4ed7-8932-64d7f7abc070.idf: 5it [00:01,  5.83it/s]]INFO:94de6830-4bf8-4b1d-bdb3-1cfee43e5cd4.idf:Continuing Simulation at 03/02/2017 for CLIMATE STUDIO\n",
      "C:\\EnergyPlusV22-2-0\\energyplus.exe 28f1e4b7-fdcc-4ed7-8932-64d7f7abc070.idf: 5it [00:01,  5.83it/s]]INFO:7bb4fcb3-11bc-4eeb-b86d-f57331bf197d.idf:Warming up {5}\n",
      "C:\\EnergyPlusV22-2-0\\energyplus.exe 28f1e4b7-fdcc-4ed7-8932-64d7f7abc070.idf: 5it [00:01,  5.83it/s]]INFO:58544c6b-901b-499c-a337-26b360a896d1.idf:Warming up {4}\n",
      "C:\\EnergyPlusV22-2-0\\energyplus.exe 58544c6b-901b-499c-a337-26b360a896d1.idf: 12it [00:02,  7.54it/s]INFO:7bb4fcb3-11bc-4eeb-b86d-f57331bf197d.idf:Warming up {6}\n",
      "C:\\EnergyPlusV22-2-0\\energyplus.exe 28f1e4b7-fdcc-4ed7-8932-64d7f7abc070.idf: 5it [00:01,  5.83it/s]]INFO:58544c6b-901b-499c-a337-26b360a896d1.idf:Warming up {5}\n",
      "C:\\EnergyPlusV22-2-0\\energyplus.exe 28f1e4b7-fdcc-4ed7-8932-64d7f7abc070.idf: 5it [00:01,  5.83it/s]]INFO:7bb4fcb3-11bc-4eeb-b86d-f57331bf197d.idf:Warming up {7}\n",
      "C:\\EnergyPlusV22-2-0\\energyplus.exe 7bb4fcb3-11bc-4eeb-b86d-f57331bf197d.idf: 15it [00:02, 10.51it/s]INFO:58544c6b-901b-499c-a337-26b360a896d1.idf:Warming up {6}\n",
      "C:\\EnergyPlusV22-2-0\\energyplus.exe 28f1e4b7-fdcc-4ed7-8932-64d7f7abc070.idf: 5it [00:01,  5.83it/s]]INFO:58544c6b-901b-499c-a337-26b360a896d1.idf:Starting Simulation at 01/01/2017 for CLIMATE STUDIO\n",
      "C:\\EnergyPlusV22-2-0\\energyplus.exe 28f1e4b7-fdcc-4ed7-8932-64d7f7abc070.idf: 5it [00:01,  5.83it/s]]INFO:7bb4fcb3-11bc-4eeb-b86d-f57331bf197d.idf:Starting Simulation at 01/01/2017 for CLIMATE STUDIO\n"
     ]
    },
    {
     "name": "stdout",
     "output_type": "stream",
     "text": [
      "Warming up {4}\n",
      "Warming up {3}\n",
      "Continuing Simulation at 03/02/2017 for CLIMATE STUDIO\n",
      "Warming up {5}\n",
      "Warming up {4}\n",
      "Warming up {6}\n",
      "Warming up {5}\n",
      "Warming up {7}\n",
      "Warming up {6}\n",
      "Starting Simulation at 01/01/2017 for CLIMATE STUDIO\n",
      "Starting Simulation at 01/01/2017 for CLIMATE STUDIO\n"
     ]
    },
    {
     "name": "stderr",
     "output_type": "stream",
     "text": [
      "C:\\EnergyPlusV22-2-0\\energyplus.exe 28f1e4b7-fdcc-4ed7-8932-64d7f7abc070.idf: 5it [00:02,  5.83it/s]]INFO:7bb4fcb3-11bc-4eeb-b86d-f57331bf197d.idf:Updating Shadowing Calculations, Start Date=01/21/2017\n",
      "C:\\EnergyPlusV22-2-0\\energyplus.exe 28f1e4b7-fdcc-4ed7-8932-64d7f7abc070.idf: 5it [00:02,  5.83it/s]]INFO:58544c6b-901b-499c-a337-26b360a896d1.idf:Updating Shadowing Calculations, Start Date=01/21/2017\n",
      "C:\\EnergyPlusV22-2-0\\energyplus.exe 58544c6b-901b-499c-a337-26b360a896d1.idf: 16it [00:02, 10.54it/s]INFO:7bb4fcb3-11bc-4eeb-b86d-f57331bf197d.idf:Continuing Simulation at 01/21/2017 for CLIMATE STUDIO\n",
      "C:\\EnergyPlusV22-2-0\\energyplus.exe 28f1e4b7-fdcc-4ed7-8932-64d7f7abc070.idf: 5it [00:02,  5.83it/s]]INFO:58544c6b-901b-499c-a337-26b360a896d1.idf:Continuing Simulation at 01/21/2017 for CLIMATE STUDIO\n",
      "C:\\EnergyPlusV22-2-0\\energyplus.exe 28f1e4b7-fdcc-4ed7-8932-64d7f7abc070.idf: 5it [00:02,  5.83it/s]]INFO:94de6830-4bf8-4b1d-bdb3-1cfee43e5cd4.idf:Updating Shadowing Calculations, Start Date=03/22/2017\n",
      "C:\\EnergyPlusV22-2-0\\energyplus.exe 28f1e4b7-fdcc-4ed7-8932-64d7f7abc070.idf: 5it [00:02,  5.83it/s]]INFO:efe62a9f-2cbc-46c7-873c-1826e7ae21eb.idf:Reporting Surfaces\n",
      "C:\\EnergyPlusV22-2-0\\energyplus.exe efe62a9f-2cbc-46c7-873c-1826e7ae21eb.idf: 6it [00:02,  2.26it/s]]INFO:94de6830-4bf8-4b1d-bdb3-1cfee43e5cd4.idf:Continuing Simulation at 03/22/2017 for CLIMATE STUDIO\n",
      "C:\\EnergyPlusV22-2-0\\energyplus.exe 28f1e4b7-fdcc-4ed7-8932-64d7f7abc070.idf: 5it [00:02,  5.83it/s]]INFO:efe62a9f-2cbc-46c7-873c-1826e7ae21eb.idf:Beginning Primary Simulation\n"
     ]
    },
    {
     "name": "stdout",
     "output_type": "stream",
     "text": [
      "Updating Shadowing Calculations, Start Date=01/21/2017\n",
      "Updating Shadowing Calculations, Start Date=01/21/2017\n",
      "Continuing Simulation at 01/21/2017 for CLIMATE STUDIO\n",
      "Continuing Simulation at 01/21/2017 for CLIMATE STUDIO\n",
      "Updating Shadowing Calculations, Start Date=03/22/2017\n",
      "Reporting Surfaces\n",
      "Continuing Simulation at 03/22/2017 for CLIMATE STUDIO\n",
      "Beginning Primary Simulation\n"
     ]
    },
    {
     "name": "stderr",
     "output_type": "stream",
     "text": [
      "C:\\EnergyPlusV22-2-0\\energyplus.exe 28f1e4b7-fdcc-4ed7-8932-64d7f7abc070.idf: 5it [00:02,  5.83it/s]]INFO:efe62a9f-2cbc-46c7-873c-1826e7ae21eb.idf:Initializing New Environment Parameters\n",
      "C:\\EnergyPlusV22-2-0\\energyplus.exe 28f1e4b7-fdcc-4ed7-8932-64d7f7abc070.idf: 5it [00:02,  5.83it/s]]INFO:efe62a9f-2cbc-46c7-873c-1826e7ae21eb.idf:Warming up {1}\n",
      "C:\\EnergyPlusV22-2-0\\energyplus.exe 28f1e4b7-fdcc-4ed7-8932-64d7f7abc070.idf: 5it [00:02,  5.83it/s]]INFO:efe62a9f-2cbc-46c7-873c-1826e7ae21eb.idf:Warming up {2}\n",
      "C:\\EnergyPlusV22-2-0\\energyplus.exe 28f1e4b7-fdcc-4ed7-8932-64d7f7abc070.idf: 5it [00:02,  5.83it/s]]INFO:efe62a9f-2cbc-46c7-873c-1826e7ae21eb.idf:Warming up {3}\n",
      "C:\\EnergyPlusV22-2-0\\energyplus.exe 28f1e4b7-fdcc-4ed7-8932-64d7f7abc070.idf: 5it [00:02,  5.83it/s]]INFO:efe62a9f-2cbc-46c7-873c-1826e7ae21eb.idf:Warming up {4}\n",
      "C:\\EnergyPlusV22-2-0\\energyplus.exe 28f1e4b7-fdcc-4ed7-8932-64d7f7abc070.idf: 5it [00:02,  5.83it/s]]INFO:28f1e4b7-fdcc-4ed7-8932-64d7f7abc070.idf:Reporting Surfaces\n",
      "C:\\EnergyPlusV22-2-0\\energyplus.exe 28f1e4b7-fdcc-4ed7-8932-64d7f7abc070.idf: 6it [00:02,  2.04it/s]]INFO:e9c1a00e-c87d-448d-95b7-809b69541bd1.idf:Reporting Surfaces\n",
      "C:\\EnergyPlusV22-2-0\\energyplus.exe 28f1e4b7-fdcc-4ed7-8932-64d7f7abc070.idf: 6it [00:02,  2.04it/s]]INFO:efe62a9f-2cbc-46c7-873c-1826e7ae21eb.idf:Warming up {5}\n",
      "C:\\EnergyPlusV22-2-0\\energyplus.exe 28f1e4b7-fdcc-4ed7-8932-64d7f7abc070.idf: 6it [00:02,  2.04it/s]]INFO:7bb4fcb3-11bc-4eeb-b86d-f57331bf197d.idf:Updating Shadowing Calculations, Start Date=02/10/2017\n",
      "C:\\EnergyPlusV22-2-0\\energyplus.exe efe62a9f-2cbc-46c7-873c-1826e7ae21eb.idf: 13it [00:02,  8.11it/s]INFO:28f1e4b7-fdcc-4ed7-8932-64d7f7abc070.idf:Beginning Primary Simulation\n",
      "                                                                                                     "
     ]
    },
    {
     "name": "stdout",
     "output_type": "stream",
     "text": [
      "Initializing New Environment Parameters\n",
      "Warming up {1}\n",
      "Warming up {2}\n",
      "Warming up {3}\n",
      "Warming up {4}\n",
      "Reporting Surfaces\n",
      "Reporting Surfaces\n",
      "Warming up {5}\n",
      "Updating Shadowing Calculations, Start Date=02/10/2017\n",
      "Beginning Primary Simulation\n"
     ]
    },
    {
     "name": "stderr",
     "output_type": "stream",
     "text": [
      "C:\\EnergyPlusV22-2-0\\energyplus.exe 28f1e4b7-fdcc-4ed7-8932-64d7f7abc070.idf: 7it [00:02,  2.04it/s]]INFO:e9c1a00e-c87d-448d-95b7-809b69541bd1.idf:Beginning Primary Simulation\n",
      "C:\\EnergyPlusV22-2-0\\energyplus.exe 7bb4fcb3-11bc-4eeb-b86d-f57331bf197d.idf: 19it [00:02,  8.83it/s]INFO:58544c6b-901b-499c-a337-26b360a896d1.idf:Updating Shadowing Calculations, Start Date=02/10/2017\n",
      "C:\\EnergyPlusV22-2-0\\energyplus.exe 28f1e4b7-fdcc-4ed7-8932-64d7f7abc070.idf: 7it [00:02,  2.04it/s]]INFO:efe62a9f-2cbc-46c7-873c-1826e7ae21eb.idf:Warming up {6}\n",
      "C:\\EnergyPlusV22-2-0\\energyplus.exe 28f1e4b7-fdcc-4ed7-8932-64d7f7abc070.idf: 7it [00:02,  2.04it/s]]INFO:28f1e4b7-fdcc-4ed7-8932-64d7f7abc070.idf:Initializing New Environment Parameters\n",
      "C:\\EnergyPlusV22-2-0\\energyplus.exe 28f1e4b7-fdcc-4ed7-8932-64d7f7abc070.idf: 8it [00:02,  3.19it/s]]INFO:e9c1a00e-c87d-448d-95b7-809b69541bd1.idf:Initializing New Environment Parameters\n",
      "C:\\EnergyPlusV22-2-0\\energyplus.exe 58544c6b-901b-499c-a337-26b360a896d1.idf: 18it [00:02,  8.12it/s]INFO:7bb4fcb3-11bc-4eeb-b86d-f57331bf197d.idf:Continuing Simulation at 02/10/2017 for CLIMATE STUDIO\n",
      "C:\\EnergyPlusV22-2-0\\energyplus.exe efe62a9f-2cbc-46c7-873c-1826e7ae21eb.idf: 14it [00:02,  8.24it/s]INFO:94de6830-4bf8-4b1d-bdb3-1cfee43e5cd4.idf:Updating Shadowing Calculations, Start Date=04/11/2017\n",
      "C:\\EnergyPlusV22-2-0\\energyplus.exe 7bb4fcb3-11bc-4eeb-b86d-f57331bf197d.idf: 20it [00:02,  8.51it/s]INFO:58544c6b-901b-499c-a337-26b360a896d1.idf:Continuing Simulation at 02/10/2017 for CLIMATE STUDIO\n",
      "C:\\EnergyPlusV22-2-0\\energyplus.exe 94de6830-4bf8-4b1d-bdb3-1cfee43e5cd4.idf: 27it [00:03,  6.02it/s]INFO:efe62a9f-2cbc-46c7-873c-1826e7ae21eb.idf:Warming up {7}\n",
      "C:\\EnergyPlusV22-2-0\\energyplus.exe 28f1e4b7-fdcc-4ed7-8932-64d7f7abc070.idf: 8it [00:02,  3.19it/s]]INFO:28f1e4b7-fdcc-4ed7-8932-64d7f7abc070.idf:Warming up {1}\n",
      "C:\\EnergyPlusV22-2-0\\energyplus.exe 58544c6b-901b-499c-a337-26b360a896d1.idf: 19it [00:02,  8.28it/s]INFO:e9c1a00e-c87d-448d-95b7-809b69541bd1.idf:Warming up {1}\n"
     ]
    },
    {
     "name": "stdout",
     "output_type": "stream",
     "text": [
      "Beginning Primary Simulation\n",
      "Updating Shadowing Calculations, Start Date=02/10/2017\n",
      "Warming up {6}\n",
      "Initializing New Environment Parameters\n",
      "Initializing New Environment Parameters\n",
      "Continuing Simulation at 02/10/2017 for CLIMATE STUDIO\n",
      "Updating Shadowing Calculations, Start Date=04/11/2017\n",
      "Continuing Simulation at 02/10/2017 for CLIMATE STUDIO\n",
      "Warming up {7}\n",
      "Warming up {1}\n",
      "Warming up {1}\n"
     ]
    },
    {
     "name": "stderr",
     "output_type": "stream",
     "text": [
      "C:\\EnergyPlusV22-2-0\\energyplus.exe efe62a9f-2cbc-46c7-873c-1826e7ae21eb.idf: 15it [00:02,  8.43it/s]INFO:94de6830-4bf8-4b1d-bdb3-1cfee43e5cd4.idf:Continuing Simulation at 04/11/2017 for CLIMATE STUDIO\n",
      "C:\\EnergyPlusV22-2-0\\energyplus.exe 28f1e4b7-fdcc-4ed7-8932-64d7f7abc070.idf: 9it [00:02,  3.78it/s]]INFO:efe62a9f-2cbc-46c7-873c-1826e7ae21eb.idf:Warming up {8}\n",
      "C:\\EnergyPlusV22-2-0\\energyplus.exe 28f1e4b7-fdcc-4ed7-8932-64d7f7abc070.idf: 9it [00:02,  3.78it/s]]INFO:28f1e4b7-fdcc-4ed7-8932-64d7f7abc070.idf:Warming up {2}\n",
      "C:\\EnergyPlusV22-2-0\\energyplus.exe 28f1e4b7-fdcc-4ed7-8932-64d7f7abc070.idf: 10it [00:02,  3.78it/s]INFO:e9c1a00e-c87d-448d-95b7-809b69541bd1.idf:Warming up {2}\n",
      "C:\\EnergyPlusV22-2-0\\energyplus.exe 28f1e4b7-fdcc-4ed7-8932-64d7f7abc070.idf: 10it [00:02,  3.78it/s]INFO:efe62a9f-2cbc-46c7-873c-1826e7ae21eb.idf:Starting Simulation at 01/01/2017 for CLIMATE STUDIO\n",
      "C:\\EnergyPlusV22-2-0\\energyplus.exe 28f1e4b7-fdcc-4ed7-8932-64d7f7abc070.idf: 10it [00:02,  3.78it/s]INFO:28f1e4b7-fdcc-4ed7-8932-64d7f7abc070.idf:Warming up {3}\n",
      "C:\\EnergyPlusV22-2-0\\energyplus.exe efe62a9f-2cbc-46c7-873c-1826e7ae21eb.idf: 17it [00:02, 10.00it/s]INFO:e9c1a00e-c87d-448d-95b7-809b69541bd1.idf:Warming up {3}\n",
      "C:\\EnergyPlusV22-2-0\\energyplus.exe 28f1e4b7-fdcc-4ed7-8932-64d7f7abc070.idf: 11it [00:02,  5.47it/s]INFO:58544c6b-901b-499c-a337-26b360a896d1.idf:Updating Shadowing Calculations, Start Date=03/02/2017\n",
      "C:\\EnergyPlusV22-2-0\\energyplus.exe e9c1a00e-c87d-448d-95b7-809b69541bd1.idf: 11it [00:02,  5.45it/s]INFO:7bb4fcb3-11bc-4eeb-b86d-f57331bf197d.idf:Updating Shadowing Calculations, Start Date=03/02/2017\n",
      "C:\\EnergyPlusV22-2-0\\energyplus.exe 28f1e4b7-fdcc-4ed7-8932-64d7f7abc070.idf: 11it [00:02,  5.47it/s]INFO:efe62a9f-2cbc-46c7-873c-1826e7ae21eb.idf:Updating Shadowing Calculations, Start Date=01/21/2017\n",
      "                                                                                                     "
     ]
    },
    {
     "name": "stdout",
     "output_type": "stream",
     "text": [
      "Continuing Simulation at 04/11/2017 for CLIMATE STUDIO\n",
      "Warming up {8}\n",
      "Warming up {2}\n",
      "Warming up {2}\n",
      "Starting Simulation at 01/01/2017 for CLIMATE STUDIO\n",
      "Warming up {3}\n",
      "Warming up {3}\n",
      "Updating Shadowing Calculations, Start Date=03/02/2017\n",
      "Updating Shadowing Calculations, Start Date=03/02/2017\n",
      "Updating Shadowing Calculations, Start Date=01/21/2017\n"
     ]
    },
    {
     "name": "stderr",
     "output_type": "stream",
     "text": [
      "C:\\EnergyPlusV22-2-0\\energyplus.exe 58544c6b-901b-499c-a337-26b360a896d1.idf: 20it [00:03,  7.47it/s]INFO:28f1e4b7-fdcc-4ed7-8932-64d7f7abc070.idf:Warming up {4}\n",
      "C:\\EnergyPlusV22-2-0\\energyplus.exe 7bb4fcb3-11bc-4eeb-b86d-f57331bf197d.idf: 21it [00:03,  7.03it/s]INFO:e9c1a00e-c87d-448d-95b7-809b69541bd1.idf:Warming up {4}\n",
      "C:\\EnergyPlusV22-2-0\\energyplus.exe 28f1e4b7-fdcc-4ed7-8932-64d7f7abc070.idf: 12it [00:02,  5.47it/s]INFO:efe62a9f-2cbc-46c7-873c-1826e7ae21eb.idf:Continuing Simulation at 01/21/2017 for CLIMATE STUDIO\n",
      "C:\\EnergyPlusV22-2-0\\energyplus.exe 28f1e4b7-fdcc-4ed7-8932-64d7f7abc070.idf: 12it [00:02,  5.47it/s]INFO:58544c6b-901b-499c-a337-26b360a896d1.idf:Continuing Simulation at 03/02/2017 for CLIMATE STUDIO\n",
      "C:\\EnergyPlusV22-2-0\\energyplus.exe 28f1e4b7-fdcc-4ed7-8932-64d7f7abc070.idf: 12it [00:02,  5.47it/s]INFO:28f1e4b7-fdcc-4ed7-8932-64d7f7abc070.idf:Warming up {5}\n",
      "C:\\EnergyPlusV22-2-0\\energyplus.exe 28f1e4b7-fdcc-4ed7-8932-64d7f7abc070.idf: 13it [00:02,  6.96it/s]INFO:94de6830-4bf8-4b1d-bdb3-1cfee43e5cd4.idf:Updating Shadowing Calculations, Start Date=05/01/2017\n",
      "C:\\EnergyPlusV22-2-0\\energyplus.exe 28f1e4b7-fdcc-4ed7-8932-64d7f7abc070.idf: 13it [00:02,  6.96it/s]INFO:7bb4fcb3-11bc-4eeb-b86d-f57331bf197d.idf:Continuing Simulation at 03/02/2017 for CLIMATE STUDIO\n",
      "C:\\EnergyPlusV22-2-0\\energyplus.exe efe62a9f-2cbc-46c7-873c-1826e7ae21eb.idf: 19it [00:02, 11.07it/s]INFO:e9c1a00e-c87d-448d-95b7-809b69541bd1.idf:Warming up {5}\n",
      "C:\\EnergyPlusV22-2-0\\energyplus.exe 28f1e4b7-fdcc-4ed7-8932-64d7f7abc070.idf: 13it [00:02,  6.96it/s]INFO:28f1e4b7-fdcc-4ed7-8932-64d7f7abc070.idf:Warming up {6}\n",
      "C:\\EnergyPlusV22-2-0\\energyplus.exe 28f1e4b7-fdcc-4ed7-8932-64d7f7abc070.idf: 14it [00:03,  6.96it/s]INFO:94de6830-4bf8-4b1d-bdb3-1cfee43e5cd4.idf:Continuing Simulation at 05/01/2017 for CLIMATE STUDIO\n",
      "C:\\EnergyPlusV22-2-0\\energyplus.exe 28f1e4b7-fdcc-4ed7-8932-64d7f7abc070.idf: 14it [00:03,  6.96it/s]INFO:e9c1a00e-c87d-448d-95b7-809b69541bd1.idf:Warming up {6}\n",
      "                                                                                                     \r"
     ]
    },
    {
     "name": "stdout",
     "output_type": "stream",
     "text": [
      "Warming up {4}\n",
      "Warming up {4}\n",
      "Continuing Simulation at 01/21/2017 for CLIMATE STUDIO\n",
      "Continuing Simulation at 03/02/2017 for CLIMATE STUDIO\n",
      "Warming up {5}\n",
      "Updating Shadowing Calculations, Start Date=05/01/2017\n",
      "Continuing Simulation at 03/02/2017 for CLIMATE STUDIO\n",
      "Warming up {5}\n",
      "Warming up {6}\n",
      "Continuing Simulation at 05/01/2017 for CLIMATE STUDIO\n",
      "Warming up {6}\n"
     ]
    },
    {
     "name": "stderr",
     "output_type": "stream",
     "text": [
      "C:\\EnergyPlusV22-2-0\\energyplus.exe 28f1e4b7-fdcc-4ed7-8932-64d7f7abc070.idf: 14it [00:03,  6.96it/s]INFO:28f1e4b7-fdcc-4ed7-8932-64d7f7abc070.idf:Warming up {7}\n",
      "C:\\EnergyPlusV22-2-0\\energyplus.exe 28f1e4b7-fdcc-4ed7-8932-64d7f7abc070.idf: 15it [00:03,  8.59it/s]INFO:e9c1a00e-c87d-448d-95b7-809b69541bd1.idf:Starting Simulation at 01/01/2017 for CLIMATE STUDIO\n",
      "C:\\EnergyPlusV22-2-0\\energyplus.exe 28f1e4b7-fdcc-4ed7-8932-64d7f7abc070.idf: 15it [00:03,  8.59it/s]INFO:28f1e4b7-fdcc-4ed7-8932-64d7f7abc070.idf:Starting Simulation at 01/01/2017 for CLIMATE STUDIO\n",
      "C:\\EnergyPlusV22-2-0\\energyplus.exe 28f1e4b7-fdcc-4ed7-8932-64d7f7abc070.idf: 16it [00:03,  8.59it/s]INFO:e9c1a00e-c87d-448d-95b7-809b69541bd1.idf:Updating Shadowing Calculations, Start Date=01/21/2017\n",
      "C:\\EnergyPlusV22-2-0\\energyplus.exe 28f1e4b7-fdcc-4ed7-8932-64d7f7abc070.idf: 16it [00:03,  8.59it/s]INFO:efe62a9f-2cbc-46c7-873c-1826e7ae21eb.idf:Updating Shadowing Calculations, Start Date=02/10/2017\n",
      "C:\\EnergyPlusV22-2-0\\energyplus.exe e9c1a00e-c87d-448d-95b7-809b69541bd1.idf: 16it [00:03,  9.59it/s]INFO:28f1e4b7-fdcc-4ed7-8932-64d7f7abc070.idf:Updating Shadowing Calculations, Start Date=01/21/2017\n",
      "C:\\EnergyPlusV22-2-0\\energyplus.exe efe62a9f-2cbc-46c7-873c-1826e7ae21eb.idf: 20it [00:03,  8.48it/s]INFO:58544c6b-901b-499c-a337-26b360a896d1.idf:Updating Shadowing Calculations, Start Date=03/22/2017\n",
      "C:\\EnergyPlusV22-2-0\\energyplus.exe 28f1e4b7-fdcc-4ed7-8932-64d7f7abc070.idf: 17it [00:03,  8.59it/s]INFO:7bb4fcb3-11bc-4eeb-b86d-f57331bf197d.idf:Updating Shadowing Calculations, Start Date=03/22/2017\n",
      "C:\\EnergyPlusV22-2-0\\energyplus.exe 28f1e4b7-fdcc-4ed7-8932-64d7f7abc070.idf: 17it [00:03,  8.59it/s]INFO:e9c1a00e-c87d-448d-95b7-809b69541bd1.idf:Continuing Simulation at 01/21/2017 for CLIMATE STUDIO\n",
      "C:\\EnergyPlusV22-2-0\\energyplus.exe 28f1e4b7-fdcc-4ed7-8932-64d7f7abc070.idf: 17it [00:03,  8.59it/s]INFO:28f1e4b7-fdcc-4ed7-8932-64d7f7abc070.idf:Continuing Simulation at 01/21/2017 for CLIMATE STUDIO\n",
      "                                                                                                     \r"
     ]
    },
    {
     "name": "stdout",
     "output_type": "stream",
     "text": [
      "Warming up {7}\n",
      "Starting Simulation at 01/01/2017 for CLIMATE STUDIO\n",
      "Starting Simulation at 01/01/2017 for CLIMATE STUDIO\n",
      "Updating Shadowing Calculations, Start Date=01/21/2017\n",
      "Updating Shadowing Calculations, Start Date=02/10/2017\n",
      "Updating Shadowing Calculations, Start Date=01/21/2017\n",
      "Updating Shadowing Calculations, Start Date=03/22/2017\n",
      "Updating Shadowing Calculations, Start Date=03/22/2017\n",
      "Continuing Simulation at 01/21/2017 for CLIMATE STUDIO\n",
      "Continuing Simulation at 01/21/2017 for CLIMATE STUDIO\n"
     ]
    },
    {
     "name": "stderr",
     "output_type": "stream",
     "text": [
      "C:\\EnergyPlusV22-2-0\\energyplus.exe 58544c6b-901b-499c-a337-26b360a896d1.idf: 22it [00:03,  6.45it/s]INFO:efe62a9f-2cbc-46c7-873c-1826e7ae21eb.idf:Continuing Simulation at 02/10/2017 for CLIMATE STUDIO\n",
      "C:\\EnergyPlusV22-2-0\\energyplus.exe 28f1e4b7-fdcc-4ed7-8932-64d7f7abc070.idf: 18it [00:03, 11.01it/s]INFO:e9c1a00e-c87d-448d-95b7-809b69541bd1.idf:Updating Shadowing Calculations, Start Date=02/10/2017\n",
      "C:\\EnergyPlusV22-2-0\\energyplus.exe 28f1e4b7-fdcc-4ed7-8932-64d7f7abc070.idf: 18it [00:03, 11.01it/s]INFO:94de6830-4bf8-4b1d-bdb3-1cfee43e5cd4.idf:Updating Shadowing Calculations, Start Date=05/21/2017\n",
      "C:\\EnergyPlusV22-2-0\\energyplus.exe efe62a9f-2cbc-46c7-873c-1826e7ae21eb.idf: 21it [00:03,  8.59it/s]INFO:58544c6b-901b-499c-a337-26b360a896d1.idf:Continuing Simulation at 03/22/2017 for CLIMATE STUDIO\n",
      "C:\\EnergyPlusV22-2-0\\energyplus.exe e9c1a00e-c87d-448d-95b7-809b69541bd1.idf: 18it [00:03, 10.52it/s]INFO:7bb4fcb3-11bc-4eeb-b86d-f57331bf197d.idf:Continuing Simulation at 03/22/2017 for CLIMATE STUDIO\n",
      "C:\\EnergyPlusV22-2-0\\energyplus.exe 94de6830-4bf8-4b1d-bdb3-1cfee43e5cd4.idf: 31it [00:04,  5.93it/s]INFO:28f1e4b7-fdcc-4ed7-8932-64d7f7abc070.idf:Updating Shadowing Calculations, Start Date=02/10/2017\n",
      "C:\\EnergyPlusV22-2-0\\energyplus.exe 7bb4fcb3-11bc-4eeb-b86d-f57331bf197d.idf: 24it [00:03,  6.53it/s]INFO:e9c1a00e-c87d-448d-95b7-809b69541bd1.idf:Continuing Simulation at 02/10/2017 for CLIMATE STUDIO\n",
      "C:\\EnergyPlusV22-2-0\\energyplus.exe 28f1e4b7-fdcc-4ed7-8932-64d7f7abc070.idf: 19it [00:03, 10.65it/s]INFO:94de6830-4bf8-4b1d-bdb3-1cfee43e5cd4.idf:Continuing Simulation at 05/21/2017 for CLIMATE STUDIO\n",
      "C:\\EnergyPlusV22-2-0\\energyplus.exe 28f1e4b7-fdcc-4ed7-8932-64d7f7abc070.idf: 19it [00:03, 10.65it/s]INFO:28f1e4b7-fdcc-4ed7-8932-64d7f7abc070.idf:Continuing Simulation at 02/10/2017 for CLIMATE STUDIO\n"
     ]
    },
    {
     "name": "stdout",
     "output_type": "stream",
     "text": [
      "Continuing Simulation at 02/10/2017 for CLIMATE STUDIO\n",
      "Updating Shadowing Calculations, Start Date=02/10/2017\n",
      "Updating Shadowing Calculations, Start Date=05/21/2017\n",
      "Continuing Simulation at 03/22/2017 for CLIMATE STUDIO\n",
      "Continuing Simulation at 03/22/2017 for CLIMATE STUDIO\n",
      "Updating Shadowing Calculations, Start Date=02/10/2017\n",
      "Continuing Simulation at 02/10/2017 for CLIMATE STUDIO\n",
      "Continuing Simulation at 05/21/2017 for CLIMATE STUDIO\n",
      "Continuing Simulation at 02/10/2017 for CLIMATE STUDIO\n"
     ]
    },
    {
     "name": "stderr",
     "output_type": "stream",
     "text": [
      "C:\\EnergyPlusV22-2-0\\energyplus.exe 28f1e4b7-fdcc-4ed7-8932-64d7f7abc070.idf: 20it [00:03, 10.65it/s]INFO:efe62a9f-2cbc-46c7-873c-1826e7ae21eb.idf:Updating Shadowing Calculations, Start Date=03/02/2017\n",
      "C:\\EnergyPlusV22-2-0\\energyplus.exe 28f1e4b7-fdcc-4ed7-8932-64d7f7abc070.idf: 20it [00:03, 10.65it/s]INFO:58544c6b-901b-499c-a337-26b360a896d1.idf:Updating Shadowing Calculations, Start Date=04/11/2017\n",
      "C:\\EnergyPlusV22-2-0\\energyplus.exe 28f1e4b7-fdcc-4ed7-8932-64d7f7abc070.idf: 20it [00:03, 10.65it/s]INFO:efe62a9f-2cbc-46c7-873c-1826e7ae21eb.idf:Continuing Simulation at 03/02/2017 for CLIMATE STUDIO\n",
      "C:\\EnergyPlusV22-2-0\\energyplus.exe 28f1e4b7-fdcc-4ed7-8932-64d7f7abc070.idf: 20it [00:03, 10.65it/s]INFO:e9c1a00e-c87d-448d-95b7-809b69541bd1.idf:Updating Shadowing Calculations, Start Date=03/02/2017\n",
      "C:\\EnergyPlusV22-2-0\\energyplus.exe 28f1e4b7-fdcc-4ed7-8932-64d7f7abc070.idf: 20it [00:03, 10.65it/s]INFO:7bb4fcb3-11bc-4eeb-b86d-f57331bf197d.idf:Updating Shadowing Calculations, Start Date=04/11/2017\n",
      "C:\\EnergyPlusV22-2-0\\energyplus.exe e9c1a00e-c87d-448d-95b7-809b69541bd1.idf: 20it [00:03,  9.61it/s]INFO:58544c6b-901b-499c-a337-26b360a896d1.idf:Continuing Simulation at 04/11/2017 for CLIMATE STUDIO\n",
      "C:\\EnergyPlusV22-2-0\\energyplus.exe 28f1e4b7-fdcc-4ed7-8932-64d7f7abc070.idf: 20it [00:03, 10.65it/s]INFO:e9c1a00e-c87d-448d-95b7-809b69541bd1.idf:Continuing Simulation at 03/02/2017 for CLIMATE STUDIO\n",
      "C:\\EnergyPlusV22-2-0\\energyplus.exe 28f1e4b7-fdcc-4ed7-8932-64d7f7abc070.idf: 20it [00:03, 10.65it/s]INFO:7bb4fcb3-11bc-4eeb-b86d-f57331bf197d.idf:Continuing Simulation at 04/11/2017 for CLIMATE STUDIO\n",
      "C:\\EnergyPlusV22-2-0\\energyplus.exe 28f1e4b7-fdcc-4ed7-8932-64d7f7abc070.idf: 20it [00:03, 10.65it/s]INFO:94de6830-4bf8-4b1d-bdb3-1cfee43e5cd4.idf:Updating Shadowing Calculations, Start Date=06/10/2017\n",
      "C:\\EnergyPlusV22-2-0\\energyplus.exe 94de6830-4bf8-4b1d-bdb3-1cfee43e5cd4.idf: 33it [00:04,  6.04it/s]INFO:28f1e4b7-fdcc-4ed7-8932-64d7f7abc070.idf:Updating Shadowing Calculations, Start Date=03/02/2017\n",
      "                                                                                                     \r"
     ]
    },
    {
     "name": "stdout",
     "output_type": "stream",
     "text": [
      "Updating Shadowing Calculations, Start Date=03/02/2017\n",
      "Updating Shadowing Calculations, Start Date=04/11/2017\n",
      "Continuing Simulation at 03/02/2017 for CLIMATE STUDIO\n",
      "Updating Shadowing Calculations, Start Date=03/02/2017\n",
      "Updating Shadowing Calculations, Start Date=04/11/2017\n",
      "Continuing Simulation at 04/11/2017 for CLIMATE STUDIO\n",
      "Continuing Simulation at 03/02/2017 for CLIMATE STUDIO\n",
      "Continuing Simulation at 04/11/2017 for CLIMATE STUDIO\n",
      "Updating Shadowing Calculations, Start Date=06/10/2017\n",
      "Updating Shadowing Calculations, Start Date=03/02/2017\n"
     ]
    },
    {
     "name": "stderr",
     "output_type": "stream",
     "text": [
      "C:\\EnergyPlusV22-2-0\\energyplus.exe 28f1e4b7-fdcc-4ed7-8932-64d7f7abc070.idf: 21it [00:03,  9.15it/s]INFO:94de6830-4bf8-4b1d-bdb3-1cfee43e5cd4.idf:Continuing Simulation at 06/10/2017 for CLIMATE STUDIO\n",
      "C:\\EnergyPlusV22-2-0\\energyplus.exe 28f1e4b7-fdcc-4ed7-8932-64d7f7abc070.idf: 21it [00:03,  9.15it/s]INFO:28f1e4b7-fdcc-4ed7-8932-64d7f7abc070.idf:Continuing Simulation at 03/02/2017 for CLIMATE STUDIO\n",
      "C:\\EnergyPlusV22-2-0\\energyplus.exe 28f1e4b7-fdcc-4ed7-8932-64d7f7abc070.idf: 22it [00:03,  9.15it/s]INFO:efe62a9f-2cbc-46c7-873c-1826e7ae21eb.idf:Updating Shadowing Calculations, Start Date=03/22/2017\n",
      "C:\\EnergyPlusV22-2-0\\energyplus.exe 28f1e4b7-fdcc-4ed7-8932-64d7f7abc070.idf: 22it [00:03,  9.15it/s]INFO:e9c1a00e-c87d-448d-95b7-809b69541bd1.idf:Updating Shadowing Calculations, Start Date=03/22/2017\n",
      "C:\\EnergyPlusV22-2-0\\energyplus.exe 58544c6b-901b-499c-a337-26b360a896d1.idf: 25it [00:04,  6.37it/s]"
     ]
    },
    {
     "name": "stdout",
     "output_type": "stream",
     "text": [
      "Continuing Simulation at 06/10/2017 for CLIMATE STUDIO\n",
      "Continuing Simulation at 03/02/2017 for CLIMATE STUDIO\n",
      "Updating Shadowing Calculations, Start Date=03/22/2017\n",
      "Updating Shadowing Calculations, Start Date=03/22/2017\n",
      "Updating Shadowing Calculations, Start Date=05/01/2017\n"
     ]
    },
    {
     "name": "stderr",
     "output_type": "stream",
     "text": [
      "                                                                                                     INFO:58544c6b-901b-499c-a337-26b360a896d1.idf:Updating Shadowing Calculations, Start Date=05/01/2017\n",
      "C:\\EnergyPlusV22-2-0\\energyplus.exe e9c1a00e-c87d-448d-95b7-809b69541bd1.idf: 22it [00:03,  8.52it/s]INFO:efe62a9f-2cbc-46c7-873c-1826e7ae21eb.idf:Continuing Simulation at 03/22/2017 for CLIMATE STUDIO\n",
      "C:\\EnergyPlusV22-2-0\\energyplus.exe 28f1e4b7-fdcc-4ed7-8932-64d7f7abc070.idf: 22it [00:03,  9.15it/s]INFO:7bb4fcb3-11bc-4eeb-b86d-f57331bf197d.idf:Updating Shadowing Calculations, Start Date=05/01/2017\n",
      "C:\\EnergyPlusV22-2-0\\energyplus.exe 28f1e4b7-fdcc-4ed7-8932-64d7f7abc070.idf: 22it [00:03,  9.15it/s]INFO:e9c1a00e-c87d-448d-95b7-809b69541bd1.idf:Continuing Simulation at 03/22/2017 for CLIMATE STUDIO\n",
      "C:\\EnergyPlusV22-2-0\\energyplus.exe 7bb4fcb3-11bc-4eeb-b86d-f57331bf197d.idf: 27it [00:04,  5.93it/s]INFO:58544c6b-901b-499c-a337-26b360a896d1.idf:Continuing Simulation at 05/01/2017 for CLIMATE STUDIO\n",
      "C:\\EnergyPlusV22-2-0\\energyplus.exe 28f1e4b7-fdcc-4ed7-8932-64d7f7abc070.idf: 22it [00:03,  9.15it/s]INFO:7bb4fcb3-11bc-4eeb-b86d-f57331bf197d.idf:Continuing Simulation at 05/01/2017 for CLIMATE STUDIO\n",
      "C:\\EnergyPlusV22-2-0\\energyplus.exe 28f1e4b7-fdcc-4ed7-8932-64d7f7abc070.idf: 22it [00:03,  9.15it/s]INFO:28f1e4b7-fdcc-4ed7-8932-64d7f7abc070.idf:Updating Shadowing Calculations, Start Date=03/22/2017\n",
      "C:\\EnergyPlusV22-2-0\\energyplus.exe 28f1e4b7-fdcc-4ed7-8932-64d7f7abc070.idf: 23it [00:03,  7.86it/s]INFO:94de6830-4bf8-4b1d-bdb3-1cfee43e5cd4.idf:Updating Shadowing Calculations, Start Date=06/30/2017\n",
      "C:\\EnergyPlusV22-2-0\\energyplus.exe 28f1e4b7-fdcc-4ed7-8932-64d7f7abc070.idf: 23it [00:03,  7.86it/s]INFO:28f1e4b7-fdcc-4ed7-8932-64d7f7abc070.idf:Continuing Simulation at 03/22/2017 for CLIMATE STUDIO\n",
      "C:\\EnergyPlusV22-2-0\\energyplus.exe 28f1e4b7-fdcc-4ed7-8932-64d7f7abc070.idf: 24it [00:03,  7.86it/s]INFO:94de6830-4bf8-4b1d-bdb3-1cfee43e5cd4.idf:Continuing Simulation at 06/30/2017 for CLIMATE STUDIO\n"
     ]
    },
    {
     "name": "stdout",
     "output_type": "stream",
     "text": [
      "Continuing Simulation at 03/22/2017 for CLIMATE STUDIO\n",
      "Updating Shadowing Calculations, Start Date=05/01/2017\n",
      "Continuing Simulation at 03/22/2017 for CLIMATE STUDIO\n",
      "Continuing Simulation at 05/01/2017 for CLIMATE STUDIO\n",
      "Continuing Simulation at 05/01/2017 for CLIMATE STUDIO\n",
      "Updating Shadowing Calculations, Start Date=03/22/2017\n",
      "Updating Shadowing Calculations, Start Date=06/30/2017\n",
      "Continuing Simulation at 03/22/2017 for CLIMATE STUDIO\n",
      "Continuing Simulation at 06/30/2017 for CLIMATE STUDIO\n"
     ]
    },
    {
     "name": "stderr",
     "output_type": "stream",
     "text": [
      "C:\\EnergyPlusV22-2-0\\energyplus.exe 28f1e4b7-fdcc-4ed7-8932-64d7f7abc070.idf: 24it [00:04,  7.86it/s]INFO:efe62a9f-2cbc-46c7-873c-1826e7ae21eb.idf:Updating Shadowing Calculations, Start Date=04/11/2017\n",
      "C:\\EnergyPlusV22-2-0\\energyplus.exe efe62a9f-2cbc-46c7-873c-1826e7ae21eb.idf: 26it [00:04,  6.28it/s]INFO:e9c1a00e-c87d-448d-95b7-809b69541bd1.idf:Updating Shadowing Calculations, Start Date=04/11/2017\n",
      "C:\\EnergyPlusV22-2-0\\energyplus.exe e9c1a00e-c87d-448d-95b7-809b69541bd1.idf: 24it [00:04,  7.45it/s]INFO:58544c6b-901b-499c-a337-26b360a896d1.idf:Updating Shadowing Calculations, Start Date=05/21/2017\n",
      "C:\\EnergyPlusV22-2-0\\energyplus.exe 28f1e4b7-fdcc-4ed7-8932-64d7f7abc070.idf: 24it [00:04,  7.86it/s]INFO:efe62a9f-2cbc-46c7-873c-1826e7ae21eb.idf:Continuing Simulation at 04/11/2017 for CLIMATE STUDIO\n",
      "C:\\EnergyPlusV22-2-0\\energyplus.exe 28f1e4b7-fdcc-4ed7-8932-64d7f7abc070.idf: 24it [00:04,  7.86it/s]INFO:7bb4fcb3-11bc-4eeb-b86d-f57331bf197d.idf:Updating Shadowing Calculations, Start Date=05/21/2017\n",
      "C:\\EnergyPlusV22-2-0\\energyplus.exe 58544c6b-901b-499c-a337-26b360a896d1.idf: 28it [00:04,  5.88it/s]INFO:e9c1a00e-c87d-448d-95b7-809b69541bd1.idf:Continuing Simulation at 04/11/2017 for CLIMATE STUDIO\n",
      "C:\\EnergyPlusV22-2-0\\energyplus.exe 28f1e4b7-fdcc-4ed7-8932-64d7f7abc070.idf: 24it [00:04,  7.86it/s]INFO:58544c6b-901b-499c-a337-26b360a896d1.idf:Continuing Simulation at 05/21/2017 for CLIMATE STUDIO\n",
      "C:\\EnergyPlusV22-2-0\\energyplus.exe 28f1e4b7-fdcc-4ed7-8932-64d7f7abc070.idf: 24it [00:04,  7.86it/s]INFO:7bb4fcb3-11bc-4eeb-b86d-f57331bf197d.idf:Continuing Simulation at 05/21/2017 for CLIMATE STUDIO\n",
      "C:\\EnergyPlusV22-2-0\\energyplus.exe 28f1e4b7-fdcc-4ed7-8932-64d7f7abc070.idf: 24it [00:04,  7.86it/s]INFO:94de6830-4bf8-4b1d-bdb3-1cfee43e5cd4.idf:Updating Shadowing Calculations, Start Date=07/20/2017\n",
      "                                                                                                     \r"
     ]
    },
    {
     "name": "stdout",
     "output_type": "stream",
     "text": [
      "Updating Shadowing Calculations, Start Date=04/11/2017\n",
      "Updating Shadowing Calculations, Start Date=04/11/2017\n",
      "Updating Shadowing Calculations, Start Date=05/21/2017\n",
      "Continuing Simulation at 04/11/2017 for CLIMATE STUDIO\n",
      "Updating Shadowing Calculations, Start Date=05/21/2017\n",
      "Continuing Simulation at 04/11/2017 for CLIMATE STUDIO\n",
      "Continuing Simulation at 05/21/2017 for CLIMATE STUDIO\n",
      "Continuing Simulation at 05/21/2017 for CLIMATE STUDIO\n",
      "Updating Shadowing Calculations, Start Date=07/20/2017\n"
     ]
    },
    {
     "name": "stderr",
     "output_type": "stream",
     "text": [
      "C:\\EnergyPlusV22-2-0\\energyplus.exe 94de6830-4bf8-4b1d-bdb3-1cfee43e5cd4.idf: 37it [00:05,  5.91it/s]INFO:28f1e4b7-fdcc-4ed7-8932-64d7f7abc070.idf:Updating Shadowing Calculations, Start Date=04/11/2017\n",
      "C:\\EnergyPlusV22-2-0\\energyplus.exe 28f1e4b7-fdcc-4ed7-8932-64d7f7abc070.idf: 25it [00:04,  6.89it/s]INFO:94de6830-4bf8-4b1d-bdb3-1cfee43e5cd4.idf:Continuing Simulation at 07/20/2017 for CLIMATE STUDIO\n",
      "C:\\EnergyPlusV22-2-0\\energyplus.exe 28f1e4b7-fdcc-4ed7-8932-64d7f7abc070.idf: 25it [00:04,  6.89it/s]INFO:28f1e4b7-fdcc-4ed7-8932-64d7f7abc070.idf:Continuing Simulation at 04/11/2017 for CLIMATE STUDIO\n",
      "C:\\EnergyPlusV22-2-0\\energyplus.exe 28f1e4b7-fdcc-4ed7-8932-64d7f7abc070.idf: 26it [00:04,  6.89it/s]INFO:58544c6b-901b-499c-a337-26b360a896d1.idf:Updating Shadowing Calculations, Start Date=06/10/2017\n",
      "                                                                                                     "
     ]
    },
    {
     "name": "stdout",
     "output_type": "stream",
     "text": [
      "Updating Shadowing Calculations, Start Date=04/11/2017\n",
      "Continuing Simulation at 07/20/2017 for CLIMATE STUDIO\n",
      "Continuing Simulation at 04/11/2017 for CLIMATE STUDIO\n",
      "Updating Shadowing Calculations, Start Date=06/10/2017\n"
     ]
    },
    {
     "name": "stderr",
     "output_type": "stream",
     "text": [
      "                                                                                                     INFO:7bb4fcb3-11bc-4eeb-b86d-f57331bf197d.idf:Updating Shadowing Calculations, Start Date=06/10/2017\n",
      "C:\\EnergyPlusV22-2-0\\energyplus.exe 28f1e4b7-fdcc-4ed7-8932-64d7f7abc070.idf: 26it [00:04,  6.89it/s]INFO:e9c1a00e-c87d-448d-95b7-809b69541bd1.idf:Updating Shadowing Calculations, Start Date=05/01/2017\n",
      "C:\\EnergyPlusV22-2-0\\energyplus.exe 28f1e4b7-fdcc-4ed7-8932-64d7f7abc070.idf: 26it [00:04,  6.89it/s]INFO:efe62a9f-2cbc-46c7-873c-1826e7ae21eb.idf:Updating Shadowing Calculations, Start Date=05/01/2017\n",
      "C:\\EnergyPlusV22-2-0\\energyplus.exe e9c1a00e-c87d-448d-95b7-809b69541bd1.idf: 26it [00:04,  6.70it/s]INFO:58544c6b-901b-499c-a337-26b360a896d1.idf:Continuing Simulation at 06/10/2017 for CLIMATE STUDIO\n",
      "                                                                                                     INFO:7bb4fcb3-11bc-4eeb-b86d-f57331bf197d.idf:Continuing Simulation at 06/10/2017 for CLIMATE STUDIO\n",
      "                                                                                                     INFO:e9c1a00e-c87d-448d-95b7-809b69541bd1.idf:Continuing Simulation at 05/01/2017 for CLIMATE STUDIO\n",
      "                                                                                                     INFO:efe62a9f-2cbc-46c7-873c-1826e7ae21eb.idf:Continuing Simulation at 05/01/2017 for CLIMATE STUDIO\n",
      "C:\\EnergyPlusV22-2-0\\energyplus.exe 28f1e4b7-fdcc-4ed7-8932-64d7f7abc070.idf: 26it [00:04,  6.89it/s]INFO:94de6830-4bf8-4b1d-bdb3-1cfee43e5cd4.idf:Updating Shadowing Calculations, Start Date=08/09/2017\n",
      "C:\\EnergyPlusV22-2-0\\energyplus.exe 28f1e4b7-fdcc-4ed7-8932-64d7f7abc070.idf: 26it [00:04,  6.89it/s]INFO:94de6830-4bf8-4b1d-bdb3-1cfee43e5cd4.idf:Continuing Simulation at 08/09/2017 for CLIMATE STUDIO\n",
      "C:\\EnergyPlusV22-2-0\\energyplus.exe 28f1e4b7-fdcc-4ed7-8932-64d7f7abc070.idf: 26it [00:04,  6.89it/s]INFO:28f1e4b7-fdcc-4ed7-8932-64d7f7abc070.idf:Updating Shadowing Calculations, Start Date=05/01/2017\n",
      "C:\\EnergyPlusV22-2-0\\energyplus.exe 28f1e4b7-fdcc-4ed7-8932-64d7f7abc070.idf: 27it [00:04,  6.43it/s]"
     ]
    },
    {
     "name": "stdout",
     "output_type": "stream",
     "text": [
      "Updating Shadowing Calculations, Start Date=06/10/2017\n",
      "Updating Shadowing Calculations, Start Date=05/01/2017\n",
      "Updating Shadowing Calculations, Start Date=05/01/2017\n",
      "Continuing Simulation at 06/10/2017 for CLIMATE STUDIO\n",
      "Continuing Simulation at 06/10/2017 for CLIMATE STUDIO\n",
      "Continuing Simulation at 05/01/2017 for CLIMATE STUDIO\n",
      "Continuing Simulation at 05/01/2017 for CLIMATE STUDIO\n",
      "Updating Shadowing Calculations, Start Date=08/09/2017\n",
      "Continuing Simulation at 08/09/2017 for CLIMATE STUDIO\n",
      "Updating Shadowing Calculations, Start Date=05/01/2017\n"
     ]
    },
    {
     "name": "stderr",
     "output_type": "stream",
     "text": [
      "C:\\EnergyPlusV22-2-0\\energyplus.exe 28f1e4b7-fdcc-4ed7-8932-64d7f7abc070.idf: 27it [00:04,  6.43it/s]INFO:28f1e4b7-fdcc-4ed7-8932-64d7f7abc070.idf:Continuing Simulation at 05/01/2017 for CLIMATE STUDIO\n",
      "C:\\EnergyPlusV22-2-0\\energyplus.exe 28f1e4b7-fdcc-4ed7-8932-64d7f7abc070.idf: 28it [00:04,  6.43it/s]INFO:e9c1a00e-c87d-448d-95b7-809b69541bd1.idf:Updating Shadowing Calculations, Start Date=05/21/2017\n",
      "C:\\EnergyPlusV22-2-0\\energyplus.exe 28f1e4b7-fdcc-4ed7-8932-64d7f7abc070.idf: 28it [00:04,  6.43it/s]INFO:e9c1a00e-c87d-448d-95b7-809b69541bd1.idf:Continuing Simulation at 05/21/2017 for CLIMATE STUDIO\n",
      "C:\\EnergyPlusV22-2-0\\energyplus.exe 28f1e4b7-fdcc-4ed7-8932-64d7f7abc070.idf: 28it [00:04,  6.43it/s]INFO:58544c6b-901b-499c-a337-26b360a896d1.idf:Updating Shadowing Calculations, Start Date=06/30/2017\n",
      "C:\\EnergyPlusV22-2-0\\energyplus.exe 58544c6b-901b-499c-a337-26b360a896d1.idf: 32it [00:05,  5.84it/s]INFO:7bb4fcb3-11bc-4eeb-b86d-f57331bf197d.idf:Updating Shadowing Calculations, Start Date=06/30/2017\n",
      "                                                                                                     \r"
     ]
    },
    {
     "name": "stdout",
     "output_type": "stream",
     "text": [
      "Continuing Simulation at 05/01/2017 for CLIMATE STUDIO\n",
      "Updating Shadowing Calculations, Start Date=05/21/2017\n",
      "Continuing Simulation at 05/21/2017 for CLIMATE STUDIO\n",
      "Updating Shadowing Calculations, Start Date=06/30/2017\n",
      "Updating Shadowing Calculations, Start Date=06/30/2017\n"
     ]
    },
    {
     "name": "stderr",
     "output_type": "stream",
     "text": [
      "C:\\EnergyPlusV22-2-0\\energyplus.exe 28f1e4b7-fdcc-4ed7-8932-64d7f7abc070.idf: 28it [00:04,  6.43it/s]INFO:efe62a9f-2cbc-46c7-873c-1826e7ae21eb.idf:Updating Shadowing Calculations, Start Date=05/21/2017\n",
      "C:\\EnergyPlusV22-2-0\\energyplus.exe 7bb4fcb3-11bc-4eeb-b86d-f57331bf197d.idf: 33it [00:05,  5.90it/s]INFO:58544c6b-901b-499c-a337-26b360a896d1.idf:Continuing Simulation at 06/30/2017 for CLIMATE STUDIO\n",
      "C:\\EnergyPlusV22-2-0\\energyplus.exe 28f1e4b7-fdcc-4ed7-8932-64d7f7abc070.idf: 28it [00:04,  6.43it/s]INFO:7bb4fcb3-11bc-4eeb-b86d-f57331bf197d.idf:Continuing Simulation at 06/30/2017 for CLIMATE STUDIO\n",
      "C:\\EnergyPlusV22-2-0\\energyplus.exe 28f1e4b7-fdcc-4ed7-8932-64d7f7abc070.idf: 28it [00:04,  6.43it/s]INFO:efe62a9f-2cbc-46c7-873c-1826e7ae21eb.idf:Continuing Simulation at 05/21/2017 for CLIMATE STUDIO\n",
      "C:\\EnergyPlusV22-2-0\\energyplus.exe 28f1e4b7-fdcc-4ed7-8932-64d7f7abc070.idf: 28it [00:04,  6.43it/s]INFO:94de6830-4bf8-4b1d-bdb3-1cfee43e5cd4.idf:Updating Shadowing Calculations, Start Date=08/29/2017\n",
      "C:\\EnergyPlusV22-2-0\\energyplus.exe 28f1e4b7-fdcc-4ed7-8932-64d7f7abc070.idf: 28it [00:04,  6.43it/s]INFO:94de6830-4bf8-4b1d-bdb3-1cfee43e5cd4.idf:Continuing Simulation at 08/29/2017 for CLIMATE STUDIO\n",
      "C:\\EnergyPlusV22-2-0\\energyplus.exe 28f1e4b7-fdcc-4ed7-8932-64d7f7abc070.idf: 28it [00:05,  6.43it/s]INFO:28f1e4b7-fdcc-4ed7-8932-64d7f7abc070.idf:Updating Shadowing Calculations, Start Date=05/21/2017\n",
      "                                                                                                     \r"
     ]
    },
    {
     "name": "stdout",
     "output_type": "stream",
     "text": [
      "Updating Shadowing Calculations, Start Date=05/21/2017\n",
      "Continuing Simulation at 06/30/2017 for CLIMATE STUDIO\n",
      "Continuing Simulation at 06/30/2017 for CLIMATE STUDIO\n",
      "Continuing Simulation at 05/21/2017 for CLIMATE STUDIO\n",
      "Updating Shadowing Calculations, Start Date=08/29/2017\n",
      "Continuing Simulation at 08/29/2017 for CLIMATE STUDIO\n",
      "Updating Shadowing Calculations, Start Date=05/21/2017\n"
     ]
    },
    {
     "name": "stderr",
     "output_type": "stream",
     "text": [
      "C:\\EnergyPlusV22-2-0\\energyplus.exe 28f1e4b7-fdcc-4ed7-8932-64d7f7abc070.idf: 29it [00:05,  6.12it/s]INFO:28f1e4b7-fdcc-4ed7-8932-64d7f7abc070.idf:Continuing Simulation at 05/21/2017 for CLIMATE STUDIO\n",
      "C:\\EnergyPlusV22-2-0\\energyplus.exe 28f1e4b7-fdcc-4ed7-8932-64d7f7abc070.idf: 30it [00:05,  6.12it/s]INFO:e9c1a00e-c87d-448d-95b7-809b69541bd1.idf:Updating Shadowing Calculations, Start Date=06/10/2017\n",
      "C:\\EnergyPlusV22-2-0\\energyplus.exe 28f1e4b7-fdcc-4ed7-8932-64d7f7abc070.idf: 30it [00:05,  6.12it/s]INFO:7bb4fcb3-11bc-4eeb-b86d-f57331bf197d.idf:Updating Shadowing Calculations, Start Date=07/20/2017\n",
      "C:\\EnergyPlusV22-2-0\\energyplus.exe e9c1a00e-c87d-448d-95b7-809b69541bd1.idf: 30it [00:05,  6.27it/s]INFO:58544c6b-901b-499c-a337-26b360a896d1.idf:Updating Shadowing Calculations, Start Date=07/20/2017\n",
      "C:\\EnergyPlusV22-2-0\\energyplus.exe 28f1e4b7-fdcc-4ed7-8932-64d7f7abc070.idf: 30it [00:05,  6.12it/s]INFO:efe62a9f-2cbc-46c7-873c-1826e7ae21eb.idf:Updating Shadowing Calculations, Start Date=06/10/2017\n",
      "                                                                                                     \r"
     ]
    },
    {
     "name": "stdout",
     "output_type": "stream",
     "text": [
      "Continuing Simulation at 05/21/2017 for CLIMATE STUDIO\n",
      "Updating Shadowing Calculations, Start Date=06/10/2017\n",
      "Updating Shadowing Calculations, Start Date=07/20/2017\n",
      "Updating Shadowing Calculations, Start Date=07/20/2017\n",
      "Updating Shadowing Calculations, Start Date=06/10/2017\n"
     ]
    },
    {
     "name": "stderr",
     "output_type": "stream",
     "text": [
      "C:\\EnergyPlusV22-2-0\\energyplus.exe 58544c6b-901b-499c-a337-26b360a896d1.idf: 34it [00:05,  5.70it/s]INFO:e9c1a00e-c87d-448d-95b7-809b69541bd1.idf:Continuing Simulation at 06/10/2017 for CLIMATE STUDIO\n",
      "C:\\EnergyPlusV22-2-0\\energyplus.exe efe62a9f-2cbc-46c7-873c-1826e7ae21eb.idf: 32it [00:05,  5.69it/s]INFO:7bb4fcb3-11bc-4eeb-b86d-f57331bf197d.idf:Continuing Simulation at 07/20/2017 for CLIMATE STUDIO\n",
      "C:\\EnergyPlusV22-2-0\\energyplus.exe 28f1e4b7-fdcc-4ed7-8932-64d7f7abc070.idf: 30it [00:05,  6.12it/s]INFO:94de6830-4bf8-4b1d-bdb3-1cfee43e5cd4.idf:Updating Shadowing Calculations, Start Date=09/18/2017\n",
      "C:\\EnergyPlusV22-2-0\\energyplus.exe 28f1e4b7-fdcc-4ed7-8932-64d7f7abc070.idf: 30it [00:05,  6.12it/s]INFO:58544c6b-901b-499c-a337-26b360a896d1.idf:Continuing Simulation at 07/20/2017 for CLIMATE STUDIO\n",
      "C:\\EnergyPlusV22-2-0\\energyplus.exe 94de6830-4bf8-4b1d-bdb3-1cfee43e5cd4.idf: 43it [00:06,  5.95it/s]INFO:efe62a9f-2cbc-46c7-873c-1826e7ae21eb.idf:Continuing Simulation at 06/10/2017 for CLIMATE STUDIO\n",
      "C:\\EnergyPlusV22-2-0\\energyplus.exe efe62a9f-2cbc-46c7-873c-1826e7ae21eb.idf: 33it [00:05,  6.18it/s]INFO:94de6830-4bf8-4b1d-bdb3-1cfee43e5cd4.idf:Continuing Simulation at 09/18/2017 for CLIMATE STUDIO\n",
      "C:\\EnergyPlusV22-2-0\\energyplus.exe 28f1e4b7-fdcc-4ed7-8932-64d7f7abc070.idf: 30it [00:05,  6.12it/s]INFO:28f1e4b7-fdcc-4ed7-8932-64d7f7abc070.idf:Updating Shadowing Calculations, Start Date=06/10/2017\n",
      "C:\\EnergyPlusV22-2-0\\energyplus.exe 28f1e4b7-fdcc-4ed7-8932-64d7f7abc070.idf: 31it [00:05,  5.85it/s]INFO:28f1e4b7-fdcc-4ed7-8932-64d7f7abc070.idf:Continuing Simulation at 06/10/2017 for CLIMATE STUDIO\n"
     ]
    },
    {
     "name": "stdout",
     "output_type": "stream",
     "text": [
      "Continuing Simulation at 06/10/2017 for CLIMATE STUDIO\n",
      "Continuing Simulation at 07/20/2017 for CLIMATE STUDIO\n",
      "Updating Shadowing Calculations, Start Date=09/18/2017\n",
      "Continuing Simulation at 07/20/2017 for CLIMATE STUDIO\n",
      "Continuing Simulation at 06/10/2017 for CLIMATE STUDIO\n",
      "Continuing Simulation at 09/18/2017 for CLIMATE STUDIO\n",
      "Updating Shadowing Calculations, Start Date=06/10/2017\n",
      "Continuing Simulation at 06/10/2017 for CLIMATE STUDIO\n"
     ]
    },
    {
     "name": "stderr",
     "output_type": "stream",
     "text": [
      "C:\\EnergyPlusV22-2-0\\energyplus.exe 28f1e4b7-fdcc-4ed7-8932-64d7f7abc070.idf: 32it [00:05,  5.85it/s]INFO:e9c1a00e-c87d-448d-95b7-809b69541bd1.idf:Updating Shadowing Calculations, Start Date=06/30/2017\n",
      "C:\\EnergyPlusV22-2-0\\energyplus.exe 28f1e4b7-fdcc-4ed7-8932-64d7f7abc070.idf: 32it [00:05,  5.85it/s]INFO:7bb4fcb3-11bc-4eeb-b86d-f57331bf197d.idf:Updating Shadowing Calculations, Start Date=08/09/2017\n",
      "C:\\EnergyPlusV22-2-0\\energyplus.exe e9c1a00e-c87d-448d-95b7-809b69541bd1.idf: 32it [00:05,  6.12it/s]INFO:58544c6b-901b-499c-a337-26b360a896d1.idf:Updating Shadowing Calculations, Start Date=08/09/2017\n",
      "C:\\EnergyPlusV22-2-0\\energyplus.exe 58544c6b-901b-499c-a337-26b360a896d1.idf: 36it [00:05,  5.71it/s]INFO:efe62a9f-2cbc-46c7-873c-1826e7ae21eb.idf:Updating Shadowing Calculations, Start Date=06/30/2017\n",
      "C:\\EnergyPlusV22-2-0\\energyplus.exe 28f1e4b7-fdcc-4ed7-8932-64d7f7abc070.idf: 32it [00:05,  5.85it/s]INFO:e9c1a00e-c87d-448d-95b7-809b69541bd1.idf:Continuing Simulation at 06/30/2017 for CLIMATE STUDIO\n",
      "C:\\EnergyPlusV22-2-0\\energyplus.exe 28f1e4b7-fdcc-4ed7-8932-64d7f7abc070.idf: 32it [00:05,  5.85it/s]INFO:7bb4fcb3-11bc-4eeb-b86d-f57331bf197d.idf:Continuing Simulation at 08/09/2017 for CLIMATE STUDIO\n",
      "C:\\EnergyPlusV22-2-0\\energyplus.exe efe62a9f-2cbc-46c7-873c-1826e7ae21eb.idf: 34it [00:05,  5.58it/s]INFO:58544c6b-901b-499c-a337-26b360a896d1.idf:Continuing Simulation at 08/09/2017 for CLIMATE STUDIO\n",
      "C:\\EnergyPlusV22-2-0\\energyplus.exe 28f1e4b7-fdcc-4ed7-8932-64d7f7abc070.idf: 32it [00:05,  5.85it/s]INFO:94de6830-4bf8-4b1d-bdb3-1cfee43e5cd4.idf:Updating Shadowing Calculations, Start Date=10/08/2017\n",
      "C:\\EnergyPlusV22-2-0\\energyplus.exe 94de6830-4bf8-4b1d-bdb3-1cfee43e5cd4.idf: 45it [00:06,  5.82it/s]INFO:efe62a9f-2cbc-46c7-873c-1826e7ae21eb.idf:Continuing Simulation at 06/30/2017 for CLIMATE STUDIO\n",
      "C:\\EnergyPlusV22-2-0\\energyplus.exe 28f1e4b7-fdcc-4ed7-8932-64d7f7abc070.idf: 32it [00:05,  5.85it/s]INFO:94de6830-4bf8-4b1d-bdb3-1cfee43e5cd4.idf:Continuing Simulation at 10/08/2017 for CLIMATE STUDIO\n"
     ]
    },
    {
     "name": "stdout",
     "output_type": "stream",
     "text": [
      "Updating Shadowing Calculations, Start Date=06/30/2017\n",
      "Updating Shadowing Calculations, Start Date=08/09/2017\n",
      "Updating Shadowing Calculations, Start Date=08/09/2017\n",
      "Updating Shadowing Calculations, Start Date=06/30/2017\n",
      "Continuing Simulation at 06/30/2017 for CLIMATE STUDIO\n",
      "Continuing Simulation at 08/09/2017 for CLIMATE STUDIO\n",
      "Continuing Simulation at 08/09/2017 for CLIMATE STUDIO\n",
      "Updating Shadowing Calculations, Start Date=10/08/2017\n",
      "Continuing Simulation at 06/30/2017 for CLIMATE STUDIO\n",
      "Continuing Simulation at 10/08/2017 for CLIMATE STUDIO\n"
     ]
    },
    {
     "name": "stderr",
     "output_type": "stream",
     "text": [
      "C:\\EnergyPlusV22-2-0\\energyplus.exe 28f1e4b7-fdcc-4ed7-8932-64d7f7abc070.idf: 32it [00:05,  5.85it/s]INFO:28f1e4b7-fdcc-4ed7-8932-64d7f7abc070.idf:Updating Shadowing Calculations, Start Date=06/30/2017\n",
      "C:\\EnergyPlusV22-2-0\\energyplus.exe 28f1e4b7-fdcc-4ed7-8932-64d7f7abc070.idf: 33it [00:05,  5.70it/s]INFO:28f1e4b7-fdcc-4ed7-8932-64d7f7abc070.idf:Continuing Simulation at 06/30/2017 for CLIMATE STUDIO\n",
      "C:\\EnergyPlusV22-2-0\\energyplus.exe 28f1e4b7-fdcc-4ed7-8932-64d7f7abc070.idf: 34it [00:05,  5.70it/s]INFO:7bb4fcb3-11bc-4eeb-b86d-f57331bf197d.idf:Updating Shadowing Calculations, Start Date=08/29/2017\n",
      "C:\\EnergyPlusV22-2-0\\energyplus.exe 28f1e4b7-fdcc-4ed7-8932-64d7f7abc070.idf: 34it [00:05,  5.70it/s]INFO:e9c1a00e-c87d-448d-95b7-809b69541bd1.idf:Updating Shadowing Calculations, Start Date=07/20/2017\n",
      "C:\\EnergyPlusV22-2-0\\energyplus.exe 28f1e4b7-fdcc-4ed7-8932-64d7f7abc070.idf: 34it [00:05,  5.70it/s]INFO:58544c6b-901b-499c-a337-26b360a896d1.idf:Updating Shadowing Calculations, Start Date=08/29/2017\n",
      "C:\\EnergyPlusV22-2-0\\energyplus.exe e9c1a00e-c87d-448d-95b7-809b69541bd1.idf: 34it [00:05,  5.93it/s]INFO:7bb4fcb3-11bc-4eeb-b86d-f57331bf197d.idf:Continuing Simulation at 08/29/2017 for CLIMATE STUDIO\n",
      "C:\\EnergyPlusV22-2-0\\energyplus.exe 28f1e4b7-fdcc-4ed7-8932-64d7f7abc070.idf: 34it [00:05,  5.70it/s]INFO:efe62a9f-2cbc-46c7-873c-1826e7ae21eb.idf:Updating Shadowing Calculations, Start Date=07/20/2017\n",
      "                                                                                                     \r"
     ]
    },
    {
     "name": "stdout",
     "output_type": "stream",
     "text": [
      "Updating Shadowing Calculations, Start Date=06/30/2017\n",
      "Continuing Simulation at 06/30/2017 for CLIMATE STUDIO\n",
      "Updating Shadowing Calculations, Start Date=08/29/2017\n",
      "Updating Shadowing Calculations, Start Date=07/20/2017\n",
      "Updating Shadowing Calculations, Start Date=08/29/2017\n",
      "Continuing Simulation at 08/29/2017 for CLIMATE STUDIO\n",
      "Updating Shadowing Calculations, Start Date=07/20/2017\n"
     ]
    },
    {
     "name": "stderr",
     "output_type": "stream",
     "text": [
      "C:\\EnergyPlusV22-2-0\\energyplus.exe 28f1e4b7-fdcc-4ed7-8932-64d7f7abc070.idf: 34it [00:05,  5.70it/s]INFO:e9c1a00e-c87d-448d-95b7-809b69541bd1.idf:Continuing Simulation at 07/20/2017 for CLIMATE STUDIO\n",
      "C:\\EnergyPlusV22-2-0\\energyplus.exe 28f1e4b7-fdcc-4ed7-8932-64d7f7abc070.idf: 34it [00:05,  5.70it/s]INFO:58544c6b-901b-499c-a337-26b360a896d1.idf:Continuing Simulation at 08/29/2017 for CLIMATE STUDIO\n",
      "C:\\EnergyPlusV22-2-0\\energyplus.exe efe62a9f-2cbc-46c7-873c-1826e7ae21eb.idf: 36it [00:05,  5.63it/s]INFO:94de6830-4bf8-4b1d-bdb3-1cfee43e5cd4.idf:Updating Shadowing Calculations, Start Date=10/28/2017\n",
      "C:\\EnergyPlusV22-2-0\\energyplus.exe 94de6830-4bf8-4b1d-bdb3-1cfee43e5cd4.idf: 47it [00:07,  5.83it/s]INFO:efe62a9f-2cbc-46c7-873c-1826e7ae21eb.idf:Continuing Simulation at 07/20/2017 for CLIMATE STUDIO\n",
      "C:\\EnergyPlusV22-2-0\\energyplus.exe 28f1e4b7-fdcc-4ed7-8932-64d7f7abc070.idf: 34it [00:06,  5.70it/s]INFO:94de6830-4bf8-4b1d-bdb3-1cfee43e5cd4.idf:Continuing Simulation at 10/28/2017 for CLIMATE STUDIO\n",
      "C:\\EnergyPlusV22-2-0\\energyplus.exe 28f1e4b7-fdcc-4ed7-8932-64d7f7abc070.idf: 34it [00:06,  5.70it/s]INFO:28f1e4b7-fdcc-4ed7-8932-64d7f7abc070.idf:Updating Shadowing Calculations, Start Date=07/20/2017\n",
      "C:\\EnergyPlusV22-2-0\\energyplus.exe 7bb4fcb3-11bc-4eeb-b86d-f57331bf197d.idf: 40it [00:06,  6.02it/s]"
     ]
    },
    {
     "name": "stdout",
     "output_type": "stream",
     "text": [
      "Continuing Simulation at 07/20/2017 for CLIMATE STUDIO\n",
      "Continuing Simulation at 08/29/2017 for CLIMATE STUDIO\n",
      "Updating Shadowing Calculations, Start Date=10/28/2017\n",
      "Continuing Simulation at 07/20/2017 for CLIMATE STUDIO\n",
      "Continuing Simulation at 10/28/2017 for CLIMATE STUDIO\n",
      "Updating Shadowing Calculations, Start Date=07/20/2017\n",
      "Continuing Simulation at 07/20/2017 for CLIMATE STUDIO\n"
     ]
    },
    {
     "name": "stderr",
     "output_type": "stream",
     "text": [
      "C:\\EnergyPlusV22-2-0\\energyplus.exe 28f1e4b7-fdcc-4ed7-8932-64d7f7abc070.idf: 35it [00:06,  5.80it/s]INFO:28f1e4b7-fdcc-4ed7-8932-64d7f7abc070.idf:Continuing Simulation at 07/20/2017 for CLIMATE STUDIO\n",
      "C:\\EnergyPlusV22-2-0\\energyplus.exe 28f1e4b7-fdcc-4ed7-8932-64d7f7abc070.idf: 36it [00:06,  5.80it/s]INFO:7bb4fcb3-11bc-4eeb-b86d-f57331bf197d.idf:Updating Shadowing Calculations, Start Date=09/18/2017\n",
      "C:\\EnergyPlusV22-2-0\\energyplus.exe 28f1e4b7-fdcc-4ed7-8932-64d7f7abc070.idf: 36it [00:06,  5.80it/s]INFO:7bb4fcb3-11bc-4eeb-b86d-f57331bf197d.idf:Continuing Simulation at 09/18/2017 for CLIMATE STUDIO\n",
      "C:\\EnergyPlusV22-2-0\\energyplus.exe 28f1e4b7-fdcc-4ed7-8932-64d7f7abc070.idf: 36it [00:06,  5.80it/s]INFO:58544c6b-901b-499c-a337-26b360a896d1.idf:Updating Shadowing Calculations, Start Date=09/18/2017\n",
      "C:\\EnergyPlusV22-2-0\\energyplus.exe 58544c6b-901b-499c-a337-26b360a896d1.idf: 40it [00:06,  5.81it/s]INFO:e9c1a00e-c87d-448d-95b7-809b69541bd1.idf:Updating Shadowing Calculations, Start Date=08/09/2017\n",
      "C:\\EnergyPlusV22-2-0\\energyplus.exe 28f1e4b7-fdcc-4ed7-8932-64d7f7abc070.idf: 36it [00:06,  5.80it/s]INFO:94de6830-4bf8-4b1d-bdb3-1cfee43e5cd4.idf:Updating Shadowing Calculations, Start Date=11/17/2017\n",
      "C:\\EnergyPlusV22-2-0\\energyplus.exe e9c1a00e-c87d-448d-95b7-809b69541bd1.idf: 36it [00:06,  5.72it/s]INFO:efe62a9f-2cbc-46c7-873c-1826e7ae21eb.idf:Updating Shadowing Calculations, Start Date=08/09/2017\n",
      "C:\\EnergyPlusV22-2-0\\energyplus.exe 94de6830-4bf8-4b1d-bdb3-1cfee43e5cd4.idf: 49it [00:07,  6.12it/s]INFO:58544c6b-901b-499c-a337-26b360a896d1.idf:Continuing Simulation at 09/18/2017 for CLIMATE STUDIO\n",
      "C:\\EnergyPlusV22-2-0\\energyplus.exe efe62a9f-2cbc-46c7-873c-1826e7ae21eb.idf: 38it [00:06,  5.60it/s]INFO:e9c1a00e-c87d-448d-95b7-809b69541bd1.idf:Continuing Simulation at 08/09/2017 for CLIMATE STUDIO\n",
      "C:\\EnergyPlusV22-2-0\\energyplus.exe 28f1e4b7-fdcc-4ed7-8932-64d7f7abc070.idf: 36it [00:06,  5.80it/s]INFO:94de6830-4bf8-4b1d-bdb3-1cfee43e5cd4.idf:Continuing Simulation at 11/17/2017 for CLIMATE STUDIO\n",
      "C:\\EnergyPlusV22-2-0\\energyplus.exe 28f1e4b7-fdcc-4ed7-8932-64d7f7abc070.idf: 36it [00:06,  5.80it/s]INFO:efe62a9f-2cbc-46c7-873c-1826e7ae21eb.idf:Continuing Simulation at 08/09/2017 for CLIMATE STUDIO\n"
     ]
    },
    {
     "name": "stdout",
     "output_type": "stream",
     "text": [
      "Updating Shadowing Calculations, Start Date=09/18/2017\n",
      "Continuing Simulation at 09/18/2017 for CLIMATE STUDIO\n",
      "Updating Shadowing Calculations, Start Date=09/18/2017\n",
      "Updating Shadowing Calculations, Start Date=08/09/2017\n",
      "Updating Shadowing Calculations, Start Date=11/17/2017\n",
      "Updating Shadowing Calculations, Start Date=08/09/2017\n",
      "Continuing Simulation at 09/18/2017 for CLIMATE STUDIO\n",
      "Continuing Simulation at 08/09/2017 for CLIMATE STUDIO\n",
      "Continuing Simulation at 11/17/2017 for CLIMATE STUDIO\n",
      "Continuing Simulation at 08/09/2017 for CLIMATE STUDIO\n"
     ]
    },
    {
     "name": "stderr",
     "output_type": "stream",
     "text": [
      "C:\\EnergyPlusV22-2-0\\energyplus.exe 28f1e4b7-fdcc-4ed7-8932-64d7f7abc070.idf: 36it [00:06,  5.80it/s]INFO:28f1e4b7-fdcc-4ed7-8932-64d7f7abc070.idf:Updating Shadowing Calculations, Start Date=08/09/2017\n",
      "C:\\EnergyPlusV22-2-0\\energyplus.exe 28f1e4b7-fdcc-4ed7-8932-64d7f7abc070.idf: 37it [00:06,  5.70it/s]INFO:28f1e4b7-fdcc-4ed7-8932-64d7f7abc070.idf:Continuing Simulation at 08/09/2017 for CLIMATE STUDIO\n",
      "C:\\EnergyPlusV22-2-0\\energyplus.exe 28f1e4b7-fdcc-4ed7-8932-64d7f7abc070.idf: 38it [00:06,  5.70it/s]INFO:7bb4fcb3-11bc-4eeb-b86d-f57331bf197d.idf:Updating Shadowing Calculations, Start Date=10/08/2017\n",
      "C:\\EnergyPlusV22-2-0\\energyplus.exe 28f1e4b7-fdcc-4ed7-8932-64d7f7abc070.idf: 38it [00:06,  5.70it/s]INFO:58544c6b-901b-499c-a337-26b360a896d1.idf:Updating Shadowing Calculations, Start Date=10/08/2017\n",
      "C:\\EnergyPlusV22-2-0\\energyplus.exe 58544c6b-901b-499c-a337-26b360a896d1.idf: 42it [00:06,  6.01it/s]INFO:7bb4fcb3-11bc-4eeb-b86d-f57331bf197d.idf:Continuing Simulation at 10/08/2017 for CLIMATE STUDIO\n",
      "C:\\EnergyPlusV22-2-0\\energyplus.exe 28f1e4b7-fdcc-4ed7-8932-64d7f7abc070.idf: 38it [00:06,  5.70it/s]INFO:58544c6b-901b-499c-a337-26b360a896d1.idf:Continuing Simulation at 10/08/2017 for CLIMATE STUDIO\n",
      "C:\\EnergyPlusV22-2-0\\energyplus.exe 28f1e4b7-fdcc-4ed7-8932-64d7f7abc070.idf: 38it [00:06,  5.70it/s]INFO:e9c1a00e-c87d-448d-95b7-809b69541bd1.idf:Updating Shadowing Calculations, Start Date=08/29/2017\n",
      "C:\\EnergyPlusV22-2-0\\energyplus.exe e9c1a00e-c87d-448d-95b7-809b69541bd1.idf: 38it [00:06,  5.80it/s]INFO:94de6830-4bf8-4b1d-bdb3-1cfee43e5cd4.idf:Updating Shadowing Calculations, Start Date=12/07/2017\n",
      "C:\\EnergyPlusV22-2-0\\energyplus.exe 28f1e4b7-fdcc-4ed7-8932-64d7f7abc070.idf: 38it [00:06,  5.70it/s]INFO:e9c1a00e-c87d-448d-95b7-809b69541bd1.idf:Continuing Simulation at 08/29/2017 for CLIMATE STUDIO\n",
      "                                                                                                     \r"
     ]
    },
    {
     "name": "stdout",
     "output_type": "stream",
     "text": [
      "Updating Shadowing Calculations, Start Date=08/09/2017\n",
      "Continuing Simulation at 08/09/2017 for CLIMATE STUDIO\n",
      "Updating Shadowing Calculations, Start Date=10/08/2017\n",
      "Updating Shadowing Calculations, Start Date=10/08/2017\n",
      "Continuing Simulation at 10/08/2017 for CLIMATE STUDIO\n",
      "Continuing Simulation at 10/08/2017 for CLIMATE STUDIO\n",
      "Updating Shadowing Calculations, Start Date=08/29/2017\n",
      "Updating Shadowing Calculations, Start Date=12/07/2017\n",
      "Continuing Simulation at 08/29/2017 for CLIMATE STUDIO\n"
     ]
    },
    {
     "name": "stderr",
     "output_type": "stream",
     "text": [
      "C:\\EnergyPlusV22-2-0\\energyplus.exe 28f1e4b7-fdcc-4ed7-8932-64d7f7abc070.idf: 38it [00:06,  5.70it/s]INFO:94de6830-4bf8-4b1d-bdb3-1cfee43e5cd4.idf:Continuing Simulation at 12/07/2017 for CLIMATE STUDIO\n",
      "C:\\EnergyPlusV22-2-0\\energyplus.exe 28f1e4b7-fdcc-4ed7-8932-64d7f7abc070.idf: 38it [00:06,  5.70it/s]INFO:efe62a9f-2cbc-46c7-873c-1826e7ae21eb.idf:Updating Shadowing Calculations, Start Date=08/29/2017\n",
      "C:\\EnergyPlusV22-2-0\\energyplus.exe 28f1e4b7-fdcc-4ed7-8932-64d7f7abc070.idf: 38it [00:06,  5.70it/s]INFO:efe62a9f-2cbc-46c7-873c-1826e7ae21eb.idf:Continuing Simulation at 08/29/2017 for CLIMATE STUDIO\n",
      "C:\\EnergyPlusV22-2-0\\energyplus.exe 28f1e4b7-fdcc-4ed7-8932-64d7f7abc070.idf: 38it [00:06,  5.70it/s]INFO:28f1e4b7-fdcc-4ed7-8932-64d7f7abc070.idf:Updating Shadowing Calculations, Start Date=08/29/2017\n",
      "                                                                                                     \r"
     ]
    },
    {
     "name": "stdout",
     "output_type": "stream",
     "text": [
      "Continuing Simulation at 12/07/2017 for CLIMATE STUDIO\n",
      "Updating Shadowing Calculations, Start Date=08/29/2017\n",
      "Continuing Simulation at 08/29/2017 for CLIMATE STUDIO\n",
      "Updating Shadowing Calculations, Start Date=08/29/2017\n"
     ]
    },
    {
     "name": "stderr",
     "output_type": "stream",
     "text": [
      "C:\\EnergyPlusV22-2-0\\energyplus.exe 28f1e4b7-fdcc-4ed7-8932-64d7f7abc070.idf: 39it [00:06,  5.77it/s]INFO:28f1e4b7-fdcc-4ed7-8932-64d7f7abc070.idf:Continuing Simulation at 08/29/2017 for CLIMATE STUDIO\n",
      "C:\\EnergyPlusV22-2-0\\energyplus.exe 28f1e4b7-fdcc-4ed7-8932-64d7f7abc070.idf: 40it [00:06,  5.77it/s]INFO:7bb4fcb3-11bc-4eeb-b86d-f57331bf197d.idf:Updating Shadowing Calculations, Start Date=10/28/2017\n",
      "C:\\EnergyPlusV22-2-0\\energyplus.exe 7bb4fcb3-11bc-4eeb-b86d-f57331bf197d.idf: 45it [00:07,  6.02it/s]INFO:58544c6b-901b-499c-a337-26b360a896d1.idf:Updating Shadowing Calculations, Start Date=10/28/2017\n",
      "C:\\EnergyPlusV22-2-0\\energyplus.exe 28f1e4b7-fdcc-4ed7-8932-64d7f7abc070.idf: 40it [00:06,  5.77it/s]INFO:e9c1a00e-c87d-448d-95b7-809b69541bd1.idf:Updating Shadowing Calculations, Start Date=09/18/2017\n",
      "C:\\EnergyPlusV22-2-0\\energyplus.exe 58544c6b-901b-499c-a337-26b360a896d1.idf: 44it [00:07,  6.06it/s]INFO:7bb4fcb3-11bc-4eeb-b86d-f57331bf197d.idf:Continuing Simulation at 10/28/2017 for CLIMATE STUDIO\n",
      "C:\\EnergyPlusV22-2-0\\energyplus.exe 28f1e4b7-fdcc-4ed7-8932-64d7f7abc070.idf: 40it [00:06,  5.77it/s]INFO:58544c6b-901b-499c-a337-26b360a896d1.idf:Continuing Simulation at 10/28/2017 for CLIMATE STUDIO\n",
      "C:\\EnergyPlusV22-2-0\\energyplus.exe 28f1e4b7-fdcc-4ed7-8932-64d7f7abc070.idf: 40it [00:06,  5.77it/s]INFO:e9c1a00e-c87d-448d-95b7-809b69541bd1.idf:Continuing Simulation at 09/18/2017 for CLIMATE STUDIO\n",
      "C:\\EnergyPlusV22-2-0\\energyplus.exe 28f1e4b7-fdcc-4ed7-8932-64d7f7abc070.idf: 40it [00:06,  5.77it/s]INFO:94de6830-4bf8-4b1d-bdb3-1cfee43e5cd4.idf:Updating Shadowing Calculations, Start Date=12/27/2017\n",
      "C:\\EnergyPlusV22-2-0\\energyplus.exe 28f1e4b7-fdcc-4ed7-8932-64d7f7abc070.idf: 40it [00:06,  5.77it/s]INFO:94de6830-4bf8-4b1d-bdb3-1cfee43e5cd4.idf:Continuing Simulation at 12/27/2017 for CLIMATE STUDIO\n",
      "C:\\EnergyPlusV22-2-0\\energyplus.exe 28f1e4b7-fdcc-4ed7-8932-64d7f7abc070.idf: 40it [00:07,  5.77it/s]INFO:efe62a9f-2cbc-46c7-873c-1826e7ae21eb.idf:Updating Shadowing Calculations, Start Date=09/18/2017\n",
      "C:\\EnergyPlusV22-2-0\\energyplus.exe efe62a9f-2cbc-46c7-873c-1826e7ae21eb.idf: 42it [00:07,  5.61it/s]"
     ]
    },
    {
     "name": "stdout",
     "output_type": "stream",
     "text": [
      "Continuing Simulation at 08/29/2017 for CLIMATE STUDIO\n",
      "Updating Shadowing Calculations, Start Date=10/28/2017\n",
      "Updating Shadowing Calculations, Start Date=10/28/2017\n",
      "Updating Shadowing Calculations, Start Date=09/18/2017\n",
      "Continuing Simulation at 10/28/2017 for CLIMATE STUDIO\n",
      "Continuing Simulation at 10/28/2017 for CLIMATE STUDIO\n",
      "Continuing Simulation at 09/18/2017 for CLIMATE STUDIO\n",
      "Updating Shadowing Calculations, Start Date=12/27/2017\n",
      "Continuing Simulation at 12/27/2017 for CLIMATE STUDIO\n",
      "Updating Shadowing Calculations, Start Date=09/18/2017\n"
     ]
    },
    {
     "name": "stderr",
     "output_type": "stream",
     "text": [
      "C:\\EnergyPlusV22-2-0\\energyplus.exe 28f1e4b7-fdcc-4ed7-8932-64d7f7abc070.idf: 40it [00:07,  5.77it/s]INFO:94de6830-4bf8-4b1d-bdb3-1cfee43e5cd4.idf:Writing tabular output file results using comma format.\n",
      "C:\\EnergyPlusV22-2-0\\energyplus.exe 28f1e4b7-fdcc-4ed7-8932-64d7f7abc070.idf: 40it [00:07,  5.77it/s]INFO:efe62a9f-2cbc-46c7-873c-1826e7ae21eb.idf:Continuing Simulation at 09/18/2017 for CLIMATE STUDIO\n",
      "C:\\EnergyPlusV22-2-0\\energyplus.exe 28f1e4b7-fdcc-4ed7-8932-64d7f7abc070.idf: 40it [00:07,  5.77it/s]INFO:94de6830-4bf8-4b1d-bdb3-1cfee43e5cd4.idf:Writing tabular output file results using HTML format.\n",
      "C:\\EnergyPlusV22-2-0\\energyplus.exe 28f1e4b7-fdcc-4ed7-8932-64d7f7abc070.idf: 40it [00:07,  5.77it/s]INFO:28f1e4b7-fdcc-4ed7-8932-64d7f7abc070.idf:Updating Shadowing Calculations, Start Date=09/18/2017\n",
      "C:\\EnergyPlusV22-2-0\\energyplus.exe 28f1e4b7-fdcc-4ed7-8932-64d7f7abc070.idf: 41it [00:07,  5.71it/s]INFO:94de6830-4bf8-4b1d-bdb3-1cfee43e5cd4.idf:Writing final SQL reports\n",
      "C:\\EnergyPlusV22-2-0\\energyplus.exe 94de6830-4bf8-4b1d-bdb3-1cfee43e5cd4.idf: 57it [00:08,  8.72it/s]INFO:28f1e4b7-fdcc-4ed7-8932-64d7f7abc070.idf:Continuing Simulation at 09/18/2017 for CLIMATE STUDIO\n",
      "simulate:   0%|          | 0.00/12.0 [00:12<?, ?runs/s]95b7-809b69541bd1.idf: 41it [00:07,  6.07it/s]"
     ]
    },
    {
     "name": "stdout",
     "output_type": "stream",
     "text": [
      "Writing tabular output file results using comma format.\n",
      "Continuing Simulation at 09/18/2017 for CLIMATE STUDIO\n",
      "Writing tabular output file results using HTML format.\n",
      "Updating Shadowing Calculations, Start Date=09/18/2017\n",
      "Writing final SQL reports\n",
      "Continuing Simulation at 09/18/2017 for CLIMATE STUDIO\n",
      "Updating Shadowing Calculations, Start Date=11/17/2017\n"
     ]
    },
    {
     "name": "stderr",
     "output_type": "stream",
     "text": [
      "C:\\EnergyPlusV22-2-0\\energyplus.exe 28f1e4b7-fdcc-4ed7-8932-64d7f7abc070.idf: 42it [00:07,  5.71it/s]INFO:7bb4fcb3-11bc-4eeb-b86d-f57331bf197d.idf:Updating Shadowing Calculations, Start Date=11/17/2017\n",
      "C:\\EnergyPlusV22-2-0\\energyplus.exe 7bb4fcb3-11bc-4eeb-b86d-f57331bf197d.idf: 47it [00:07,  5.86it/s]INFO:94de6830-4bf8-4b1d-bdb3-1cfee43e5cd4.idf:EnergyPlus Run Time=00hr 00min  8.03sec\n",
      "C:\\EnergyPlusV22-2-0\\energyplus.exe 28f1e4b7-fdcc-4ed7-8932-64d7f7abc070.idf: 42it [00:07,  5.71it/s]INFO:e9c1a00e-c87d-448d-95b7-809b69541bd1.idf:Updating Shadowing Calculations, Start Date=10/08/2017\n",
      "C:\\EnergyPlusV22-2-0\\energyplus.exe 28f1e4b7-fdcc-4ed7-8932-64d7f7abc070.idf: 42it [00:07,  5.71it/s]INFO:7bb4fcb3-11bc-4eeb-b86d-f57331bf197d.idf:Continuing Simulation at 11/17/2017 for CLIMATE STUDIO\n",
      "C:\\EnergyPlusV22-2-0\\energyplus.exe e9c1a00e-c87d-448d-95b7-809b69541bd1.idf: 42it [00:07,  5.87it/s]INFO:58544c6b-901b-499c-a337-26b360a896d1.idf:Updating Shadowing Calculations, Start Date=11/17/2017\n",
      "C:\\EnergyPlusV22-2-0\\energyplus.exe 28f1e4b7-fdcc-4ed7-8932-64d7f7abc070.idf: 42it [00:07,  5.71it/s]INFO:e9c1a00e-c87d-448d-95b7-809b69541bd1.idf:Continuing Simulation at 10/08/2017 for CLIMATE STUDIO\n",
      "C:\\EnergyPlusV22-2-0\\energyplus.exe 28f1e4b7-fdcc-4ed7-8932-64d7f7abc070.idf: 42it [00:07,  5.71it/s]INFO:58544c6b-901b-499c-a337-26b360a896d1.idf:Continuing Simulation at 11/17/2017 for CLIMATE STUDIO\n",
      "C:\\EnergyPlusV22-2-0\\energyplus.exe 28f1e4b7-fdcc-4ed7-8932-64d7f7abc070.idf: 42it [00:07,  5.71it/s]INFO:94de6830-4bf8-4b1d-bdb3-1cfee43e5cd4.idf:EnergyPlus Completed in 8.50 seconds\n"
     ]
    },
    {
     "name": "stdout",
     "output_type": "stream",
     "text": [
      "EnergyPlus Run Time=00hr 00min  8.03sec\n",
      "Updating Shadowing Calculations, Start Date=10/08/2017\n",
      "Continuing Simulation at 11/17/2017 for CLIMATE STUDIO\n",
      "Updating Shadowing Calculations, Start Date=11/17/2017\n",
      "Continuing Simulation at 10/08/2017 for CLIMATE STUDIO\n",
      "Continuing Simulation at 11/17/2017 for CLIMATE STUDIO\n",
      "EnergyPlus Completed in 8.50 seconds\n"
     ]
    },
    {
     "name": "stderr",
     "output_type": "stream",
     "text": [
      "C:\\EnergyPlusV22-2-0\\energyplus.exe 28f1e4b7-fdcc-4ed7-8932-64d7f7abc070.idf: 42it [00:07,  5.71it/s]INFO:efe62a9f-2cbc-46c7-873c-1826e7ae21eb.idf:Updating Shadowing Calculations, Start Date=10/08/2017\n",
      "C:\\EnergyPlusV22-2-0\\energyplus.exe 28f1e4b7-fdcc-4ed7-8932-64d7f7abc070.idf: 42it [00:07,  5.71it/s]INFO:efe62a9f-2cbc-46c7-873c-1826e7ae21eb.idf:Continuing Simulation at 10/08/2017 for CLIMATE STUDIO\n",
      "C:\\EnergyPlusV22-2-0\\energyplus.exe 28f1e4b7-fdcc-4ed7-8932-64d7f7abc070.idf: 42it [00:07,  5.71it/s]INFO:28f1e4b7-fdcc-4ed7-8932-64d7f7abc070.idf:Updating Shadowing Calculations, Start Date=10/08/2017\n",
      "C:\\EnergyPlusV22-2-0\\energyplus.exe 28f1e4b7-fdcc-4ed7-8932-64d7f7abc070.idf: 43it [00:07,  5.47it/s]INFO:7bb4fcb3-11bc-4eeb-b86d-f57331bf197d.idf:Updating Shadowing Calculations, Start Date=12/07/2017\n",
      "                                                                                                     INFO:e9c1a00e-c87d-448d-95b7-809b69541bd1.idf:Updating Shadowing Calculations, Start Date=10/28/2017\n",
      "C:\\EnergyPlusV22-2-0\\energyplus.exe 7bb4fcb3-11bc-4eeb-b86d-f57331bf197d.idf: 49it [00:07,  5.77it/s]INFO:28f1e4b7-fdcc-4ed7-8932-64d7f7abc070.idf:Continuing Simulation at 10/08/2017 for CLIMATE STUDIO\n",
      "C:\\EnergyPlusV22-2-0\\energyplus.exe e9c1a00e-c87d-448d-95b7-809b69541bd1.idf: 44it [00:07,  5.86it/s]INFO:58544c6b-901b-499c-a337-26b360a896d1.idf:Updating Shadowing Calculations, Start Date=12/07/2017\n",
      "C:\\EnergyPlusV22-2-0\\energyplus.exe 58544c6b-901b-499c-a337-26b360a896d1.idf: 48it [00:07,  5.69it/s]INFO:7bb4fcb3-11bc-4eeb-b86d-f57331bf197d.idf:Continuing Simulation at 12/07/2017 for CLIMATE STUDIO\n",
      "                                                                                                     \r"
     ]
    },
    {
     "name": "stdout",
     "output_type": "stream",
     "text": [
      "Updating Shadowing Calculations, Start Date=10/08/2017\n",
      "Continuing Simulation at 10/08/2017 for CLIMATE STUDIO\n",
      "Updating Shadowing Calculations, Start Date=10/08/2017\n",
      "Updating Shadowing Calculations, Start Date=12/07/2017\n",
      "Updating Shadowing Calculations, Start Date=10/28/2017\n",
      "Continuing Simulation at 10/08/2017 for CLIMATE STUDIO\n",
      "Updating Shadowing Calculations, Start Date=12/07/2017\n",
      "Continuing Simulation at 12/07/2017 for CLIMATE STUDIO\n"
     ]
    },
    {
     "name": "stderr",
     "output_type": "stream",
     "text": [
      "C:\\EnergyPlusV22-2-0\\energyplus.exe 28f1e4b7-fdcc-4ed7-8932-64d7f7abc070.idf: 44it [00:07,  5.47it/s]INFO:e9c1a00e-c87d-448d-95b7-809b69541bd1.idf:Continuing Simulation at 10/28/2017 for CLIMATE STUDIO\n",
      "C:\\EnergyPlusV22-2-0\\energyplus.exe 28f1e4b7-fdcc-4ed7-8932-64d7f7abc070.idf: 44it [00:07,  5.47it/s]INFO:58544c6b-901b-499c-a337-26b360a896d1.idf:Continuing Simulation at 12/07/2017 for CLIMATE STUDIO\n",
      "C:\\EnergyPlusV22-2-0\\energyplus.exe 28f1e4b7-fdcc-4ed7-8932-64d7f7abc070.idf: 44it [00:07,  5.47it/s]INFO:efe62a9f-2cbc-46c7-873c-1826e7ae21eb.idf:Updating Shadowing Calculations, Start Date=10/28/2017\n",
      "                                                                                                     "
     ]
    },
    {
     "name": "stdout",
     "output_type": "stream",
     "text": [
      "Continuing Simulation at 10/28/2017 for CLIMATE STUDIO\n",
      "Continuing Simulation at 12/07/2017 for CLIMATE STUDIO\n",
      "Updating Shadowing Calculations, Start Date=10/28/2017\n"
     ]
    },
    {
     "name": "stderr",
     "output_type": "stream",
     "text": [
      "C:\\EnergyPlusV22-2-0\\energyplus.exe 28f1e4b7-fdcc-4ed7-8932-64d7f7abc070.idf: 44it [00:07,  5.47it/s]INFO:efe62a9f-2cbc-46c7-873c-1826e7ae21eb.idf:Continuing Simulation at 10/28/2017 for CLIMATE STUDIO\n",
      "C:\\EnergyPlusV22-2-0\\energyplus.exe 28f1e4b7-fdcc-4ed7-8932-64d7f7abc070.idf: 44it [00:07,  5.47it/s]INFO:28f1e4b7-fdcc-4ed7-8932-64d7f7abc070.idf:Updating Shadowing Calculations, Start Date=10/28/2017\n",
      "C:\\EnergyPlusV22-2-0\\energyplus.exe 28f1e4b7-fdcc-4ed7-8932-64d7f7abc070.idf: 45it [00:07,  5.73it/s]INFO:28f1e4b7-fdcc-4ed7-8932-64d7f7abc070.idf:Continuing Simulation at 10/28/2017 for CLIMATE STUDIO\n",
      "C:\\EnergyPlusV22-2-0\\energyplus.exe 28f1e4b7-fdcc-4ed7-8932-64d7f7abc070.idf: 46it [00:07,  5.73it/s]INFO:e9c1a00e-c87d-448d-95b7-809b69541bd1.idf:Updating Shadowing Calculations, Start Date=11/17/2017\n",
      "C:\\EnergyPlusV22-2-0\\energyplus.exe e9c1a00e-c87d-448d-95b7-809b69541bd1.idf: 46it [00:07,  6.01it/s]INFO:7bb4fcb3-11bc-4eeb-b86d-f57331bf197d.idf:Updating Shadowing Calculations, Start Date=12/27/2017\n",
      "C:\\EnergyPlusV22-2-0\\energyplus.exe 28f1e4b7-fdcc-4ed7-8932-64d7f7abc070.idf: 46it [00:07,  5.73it/s]INFO:58544c6b-901b-499c-a337-26b360a896d1.idf:Updating Shadowing Calculations, Start Date=12/27/2017\n",
      "C:\\EnergyPlusV22-2-0\\energyplus.exe 58544c6b-901b-499c-a337-26b360a896d1.idf: 50it [00:08,  5.84it/s]INFO:e9c1a00e-c87d-448d-95b7-809b69541bd1.idf:Continuing Simulation at 11/17/2017 for CLIMATE STUDIO\n",
      "C:\\EnergyPlusV22-2-0\\energyplus.exe 28f1e4b7-fdcc-4ed7-8932-64d7f7abc070.idf: 46it [00:07,  5.73it/s]INFO:7bb4fcb3-11bc-4eeb-b86d-f57331bf197d.idf:Continuing Simulation at 12/27/2017 for CLIMATE STUDIO\n",
      "C:\\EnergyPlusV22-2-0\\energyplus.exe 94de6830-4bf8-4b1d-bdb3-1cfee43e5cd4.idf: 58it [00:09,  6.35it/s]INFO:58544c6b-901b-499c-a337-26b360a896d1.idf:Continuing Simulation at 12/27/2017 for CLIMATE STUDIO\n",
      "\n",
      "C:\\EnergyPlusV22-2-0\\energyplus.exe 58544c6b-901b-499c-a337-26b360a896d1.idf: 51it [00:08,  5.84it/s]"
     ]
    },
    {
     "name": "stdout",
     "output_type": "stream",
     "text": [
      "Continuing Simulation at 10/28/2017 for CLIMATE STUDIO\n",
      "Updating Shadowing Calculations, Start Date=10/28/2017\n",
      "Continuing Simulation at 10/28/2017 for CLIMATE STUDIO\n",
      "Updating Shadowing Calculations, Start Date=11/17/2017\n",
      "Updating Shadowing Calculations, Start Date=12/27/2017\n",
      "Updating Shadowing Calculations, Start Date=12/27/2017\n",
      "Continuing Simulation at 11/17/2017 for CLIMATE STUDIO\n",
      "Continuing Simulation at 12/27/2017 for CLIMATE STUDIO\n",
      "Continuing Simulation at 12/27/2017 for CLIMATE STUDIO\n",
      "Writing tabular output file results using comma format.\n"
     ]
    },
    {
     "name": "stderr",
     "output_type": "stream",
     "text": [
      "C:\\EnergyPlusV22-2-0\\energyplus.exe 28f1e4b7-fdcc-4ed7-8932-64d7f7abc070.idf: 46it [00:08,  5.73it/s]INFO:7bb4fcb3-11bc-4eeb-b86d-f57331bf197d.idf:Writing tabular output file results using comma format.\n",
      "C:\\EnergyPlusV22-2-0\\energyplus.exe 7bb4fcb3-11bc-4eeb-b86d-f57331bf197d.idf: 53it [00:08,  7.27it/s]INFO:58544c6b-901b-499c-a337-26b360a896d1.idf:Writing tabular output file results using comma format.\n",
      "C:\\EnergyPlusV22-2-0\\energyplus.exe 58544c6b-901b-499c-a337-26b360a896d1.idf: 52it [00:08,  7.05it/s]INFO:7bb4fcb3-11bc-4eeb-b86d-f57331bf197d.idf:Writing tabular output file results using HTML format.\n",
      "C:\\EnergyPlusV22-2-0\\energyplus.exe 28f1e4b7-fdcc-4ed7-8932-64d7f7abc070.idf: 46it [00:08,  5.73it/s]INFO:58544c6b-901b-499c-a337-26b360a896d1.idf:Writing tabular output file results using HTML format.\n",
      "C:\\EnergyPlusV22-2-0\\energyplus.exe 28f1e4b7-fdcc-4ed7-8932-64d7f7abc070.idf: 46it [00:08,  5.73it/s]INFO:7bb4fcb3-11bc-4eeb-b86d-f57331bf197d.idf:Writing final SQL reports\n",
      "C:\\EnergyPlusV22-2-0\\energyplus.exe 7bb4fcb3-11bc-4eeb-b86d-f57331bf197d.idf: 55it [00:08,  8.66it/s]INFO:58544c6b-901b-499c-a337-26b360a896d1.idf:Writing final SQL reports\n",
      "C:\\EnergyPlusV22-2-0\\energyplus.exe 28f1e4b7-fdcc-4ed7-8932-64d7f7abc070.idf: 46it [00:08,  5.73it/s]INFO:efe62a9f-2cbc-46c7-873c-1826e7ae21eb.idf:Updating Shadowing Calculations, Start Date=11/17/2017\n",
      "C:\\EnergyPlusV22-2-0\\energyplus.exe 28f1e4b7-fdcc-4ed7-8932-64d7f7abc070.idf: 46it [00:08,  5.73it/s]INFO:7bb4fcb3-11bc-4eeb-b86d-f57331bf197d.idf:EnergyPlus Run Time=00hr 00min  8.11sec\n",
      "C:\\EnergyPlusV22-2-0\\energyplus.exe efe62a9f-2cbc-46c7-873c-1826e7ae21eb.idf: 48it [00:08,  5.31it/s]INFO:58544c6b-901b-499c-a337-26b360a896d1.idf:EnergyPlus Run Time=00hr 00min  8.13sec\n",
      "C:\\EnergyPlusV22-2-0\\energyplus.exe 28f1e4b7-fdcc-4ed7-8932-64d7f7abc070.idf: 46it [00:08,  5.73it/s]INFO:28f1e4b7-fdcc-4ed7-8932-64d7f7abc070.idf:Updating Shadowing Calculations, Start Date=11/17/2017\n",
      "C:\\EnergyPlusV22-2-0\\energyplus.exe 58544c6b-901b-499c-a337-26b360a896d1.idf: 55it [00:08,  9.71it/s]INFO:efe62a9f-2cbc-46c7-873c-1826e7ae21eb.idf:Continuing Simulation at 11/17/2017 for CLIMATE STUDIO\n",
      "C:\\EnergyPlusV22-2-0\\energyplus.exe 58544c6b-901b-499c-a337-26b360a896d1.idf: 55it [00:08,  9.71it/s]"
     ]
    },
    {
     "name": "stdout",
     "output_type": "stream",
     "text": [
      "Writing tabular output file results using comma format.\n",
      "Writing tabular output file results using HTML format.\n",
      "Writing tabular output file results using HTML format.\n",
      "Writing final SQL reports\n",
      "Writing final SQL reports\n",
      "Updating Shadowing Calculations, Start Date=11/17/2017\n",
      "EnergyPlus Run Time=00hr 00min  8.11sec\n",
      "EnergyPlus Run Time=00hr 00min  8.13sec\n",
      "Updating Shadowing Calculations, Start Date=11/17/2017\n",
      "Continuing Simulation at 11/17/2017 for CLIMATE STUDIO\n",
      "Updating Shadowing Calculations, Start Date=12/07/2017\n"
     ]
    },
    {
     "name": "stderr",
     "output_type": "stream",
     "text": [
      "C:\\EnergyPlusV22-2-0\\energyplus.exe 28f1e4b7-fdcc-4ed7-8932-64d7f7abc070.idf: 47it [00:08,  5.62it/s]INFO:e9c1a00e-c87d-448d-95b7-809b69541bd1.idf:Updating Shadowing Calculations, Start Date=12/07/2017\n",
      "C:\\EnergyPlusV22-2-0\\energyplus.exe e9c1a00e-c87d-448d-95b7-809b69541bd1.idf: 48it [00:08,  5.81it/s]INFO:28f1e4b7-fdcc-4ed7-8932-64d7f7abc070.idf:Continuing Simulation at 11/17/2017 for CLIMATE STUDIO\n",
      "C:\\EnergyPlusV22-2-0\\energyplus.exe 28f1e4b7-fdcc-4ed7-8932-64d7f7abc070.idf: 48it [00:08,  5.62it/s]INFO:e9c1a00e-c87d-448d-95b7-809b69541bd1.idf:Continuing Simulation at 12/07/2017 for CLIMATE STUDIO\n",
      "C:\\EnergyPlusV22-2-0\\energyplus.exe 28f1e4b7-fdcc-4ed7-8932-64d7f7abc070.idf: 48it [00:08,  5.62it/s]INFO:7bb4fcb3-11bc-4eeb-b86d-f57331bf197d.idf:EnergyPlus Completed in 8.56 seconds\n",
      "C:\\EnergyPlusV22-2-0\\energyplus.exe 28f1e4b7-fdcc-4ed7-8932-64d7f7abc070.idf: 48it [00:08,  5.62it/s]INFO:58544c6b-901b-499c-a337-26b360a896d1.idf:EnergyPlus Completed in 8.59 seconds\n",
      "                                                                                                     \r"
     ]
    },
    {
     "name": "stdout",
     "output_type": "stream",
     "text": [
      "Continuing Simulation at 11/17/2017 for CLIMATE STUDIO\n",
      "Continuing Simulation at 12/07/2017 for CLIMATE STUDIO\n",
      "EnergyPlus Completed in 8.56 seconds\n",
      "EnergyPlus Completed in 8.59 seconds\n"
     ]
    },
    {
     "name": "stderr",
     "output_type": "stream",
     "text": [
      "C:\\EnergyPlusV22-2-0\\energyplus.exe 28f1e4b7-fdcc-4ed7-8932-64d7f7abc070.idf: 48it [00:08,  5.62it/s]INFO:efe62a9f-2cbc-46c7-873c-1826e7ae21eb.idf:Updating Shadowing Calculations, Start Date=12/07/2017\n",
      "C:\\EnergyPlusV22-2-0\\energyplus.exe efe62a9f-2cbc-46c7-873c-1826e7ae21eb.idf: 50it [00:08,  5.64it/s]INFO:28f1e4b7-fdcc-4ed7-8932-64d7f7abc070.idf:Updating Shadowing Calculations, Start Date=12/07/2017\n",
      "                                                                                                     INFO:e9c1a00e-c87d-448d-95b7-809b69541bd1.idf:Updating Shadowing Calculations, Start Date=12/27/2017\n",
      "C:\\EnergyPlusV22-2-0\\energyplus.exe 28f1e4b7-fdcc-4ed7-8932-64d7f7abc070.idf: 49it [00:08,  6.02it/s]INFO:efe62a9f-2cbc-46c7-873c-1826e7ae21eb.idf:Continuing Simulation at 12/07/2017 for CLIMATE STUDIO\n",
      "C:\\EnergyPlusV22-2-0\\energyplus.exe 28f1e4b7-fdcc-4ed7-8932-64d7f7abc070.idf: 49it [00:08,  6.02it/s]INFO:28f1e4b7-fdcc-4ed7-8932-64d7f7abc070.idf:Continuing Simulation at 12/07/2017 for CLIMATE STUDIO\n",
      "C:\\EnergyPlusV22-2-0\\energyplus.exe 28f1e4b7-fdcc-4ed7-8932-64d7f7abc070.idf: 50it [00:08,  6.02it/s]INFO:e9c1a00e-c87d-448d-95b7-809b69541bd1.idf:Continuing Simulation at 12/27/2017 for CLIMATE STUDIO\n",
      "C:\\EnergyPlusV22-2-0\\energyplus.exe 28f1e4b7-fdcc-4ed7-8932-64d7f7abc070.idf: 50it [00:08,  6.02it/s]INFO:e9c1a00e-c87d-448d-95b7-809b69541bd1.idf:Writing tabular output file results using comma format.\n",
      "C:\\EnergyPlusV22-2-0\\energyplus.exe 28f1e4b7-fdcc-4ed7-8932-64d7f7abc070.idf: 50it [00:08,  6.02it/s]INFO:e9c1a00e-c87d-448d-95b7-809b69541bd1.idf:Writing tabular output file results using HTML format.\n",
      "C:\\EnergyPlusV22-2-0\\energyplus.exe e9c1a00e-c87d-448d-95b7-809b69541bd1.idf: 53it [00:08,  9.02it/s]"
     ]
    },
    {
     "name": "stdout",
     "output_type": "stream",
     "text": [
      "Updating Shadowing Calculations, Start Date=12/07/2017\n",
      "Updating Shadowing Calculations, Start Date=12/07/2017\n",
      "Updating Shadowing Calculations, Start Date=12/27/2017\n",
      "Continuing Simulation at 12/07/2017 for CLIMATE STUDIO\n",
      "Continuing Simulation at 12/07/2017 for CLIMATE STUDIO\n",
      "Continuing Simulation at 12/27/2017 for CLIMATE STUDIO\n",
      "Writing tabular output file results using comma format.\n",
      "Writing tabular output file results using HTML format.\n"
     ]
    },
    {
     "name": "stderr",
     "output_type": "stream",
     "text": [
      "C:\\EnergyPlusV22-2-0\\energyplus.exe 28f1e4b7-fdcc-4ed7-8932-64d7f7abc070.idf: 50it [00:08,  6.02it/s]INFO:e9c1a00e-c87d-448d-95b7-809b69541bd1.idf:Writing final SQL reports\n",
      "C:\\EnergyPlusV22-2-0\\energyplus.exe 28f1e4b7-fdcc-4ed7-8932-64d7f7abc070.idf: 50it [00:08,  6.02it/s]INFO:e9c1a00e-c87d-448d-95b7-809b69541bd1.idf:EnergyPlus Run Time=00hr 00min  8.39sec\n",
      "C:\\EnergyPlusV22-2-0\\energyplus.exe 28f1e4b7-fdcc-4ed7-8932-64d7f7abc070.idf: 50it [00:08,  6.02it/s]INFO:efe62a9f-2cbc-46c7-873c-1826e7ae21eb.idf:Updating Shadowing Calculations, Start Date=12/27/2017\n",
      "C:\\EnergyPlusV22-2-0\\energyplus.exe 28f1e4b7-fdcc-4ed7-8932-64d7f7abc070.idf: 50it [00:08,  6.02it/s]INFO:28f1e4b7-fdcc-4ed7-8932-64d7f7abc070.idf:Updating Shadowing Calculations, Start Date=12/27/2017\n",
      "C:\\EnergyPlusV22-2-0\\energyplus.exe 28f1e4b7-fdcc-4ed7-8932-64d7f7abc070.idf: 51it [00:08,  6.38it/s]INFO:efe62a9f-2cbc-46c7-873c-1826e7ae21eb.idf:Continuing Simulation at 12/27/2017 for CLIMATE STUDIO\n",
      "C:\\EnergyPlusV22-2-0\\energyplus.exe 28f1e4b7-fdcc-4ed7-8932-64d7f7abc070.idf: 51it [00:08,  6.38it/s]INFO:28f1e4b7-fdcc-4ed7-8932-64d7f7abc070.idf:Continuing Simulation at 12/27/2017 for CLIMATE STUDIO\n",
      "C:\\EnergyPlusV22-2-0\\energyplus.exe 28f1e4b7-fdcc-4ed7-8932-64d7f7abc070.idf: 52it [00:08,  6.38it/s]INFO:efe62a9f-2cbc-46c7-873c-1826e7ae21eb.idf:Writing tabular output file results using comma format.\n",
      "C:\\EnergyPlusV22-2-0\\energyplus.exe 28f1e4b7-fdcc-4ed7-8932-64d7f7abc070.idf: 52it [00:08,  6.38it/s]INFO:28f1e4b7-fdcc-4ed7-8932-64d7f7abc070.idf:Writing tabular output file results using comma format.\n",
      "                                                                                                     \r"
     ]
    },
    {
     "name": "stdout",
     "output_type": "stream",
     "text": [
      "Writing final SQL reports\n",
      "EnergyPlus Run Time=00hr 00min  8.39sec\n",
      "Updating Shadowing Calculations, Start Date=12/27/2017\n",
      "Updating Shadowing Calculations, Start Date=12/27/2017\n",
      "Continuing Simulation at 12/27/2017 for CLIMATE STUDIO\n",
      "Continuing Simulation at 12/27/2017 for CLIMATE STUDIO\n",
      "Writing tabular output file results using comma format.\n",
      "Writing tabular output file results using comma format.\n"
     ]
    },
    {
     "name": "stderr",
     "output_type": "stream",
     "text": [
      "C:\\EnergyPlusV22-2-0\\energyplus.exe 28f1e4b7-fdcc-4ed7-8932-64d7f7abc070.idf: 53it [00:08,  6.38it/s]INFO:efe62a9f-2cbc-46c7-873c-1826e7ae21eb.idf:Writing tabular output file results using HTML format.\n",
      "                                                                                                     INFO:28f1e4b7-fdcc-4ed7-8932-64d7f7abc070.idf:Writing tabular output file results using HTML format.\n",
      "C:\\EnergyPlusV22-2-0\\energyplus.exe efe62a9f-2cbc-46c7-873c-1826e7ae21eb.idf: 55it [00:08,  8.46it/s]INFO:e9c1a00e-c87d-448d-95b7-809b69541bd1.idf:EnergyPlus Completed in 8.90 seconds\n",
      "C:\\EnergyPlusV22-2-0\\energyplus.exe 7bb4fcb3-11bc-4eeb-b86d-f57331bf197d.idf: 56it [00:09,  6.07it/s]\n",
      "                                                                                                     INFO:efe62a9f-2cbc-46c7-873c-1826e7ae21eb.idf:Writing final SQL reports\n",
      "C:\\EnergyPlusV22-2-0\\energyplus.exe 28f1e4b7-fdcc-4ed7-8932-64d7f7abc070.idf: 54it [00:09,  8.80it/s]INFO:28f1e4b7-fdcc-4ed7-8932-64d7f7abc070.idf:Writing final SQL reports\n",
      "C:\\EnergyPlusV22-2-0\\energyplus.exe 58544c6b-901b-499c-a337-26b360a896d1.idf: 55it [00:09,  5.88it/s]\n",
      "INFO:efe62a9f-2cbc-46c7-873c-1826e7ae21eb.idf:EnergyPlus Run Time=00hr 00min  8.60sec\n",
      "                                                                                                     \r"
     ]
    },
    {
     "name": "stdout",
     "output_type": "stream",
     "text": [
      "Writing tabular output file results using HTML format.\n",
      "Writing tabular output file results using HTML format.\n",
      "EnergyPlus Completed in 8.90 seconds\n",
      "Writing final SQL reports\n",
      "Writing final SQL reports\n",
      "EnergyPlus Run Time=00hr 00min  8.60sec\n"
     ]
    },
    {
     "name": "stderr",
     "output_type": "stream",
     "text": [
      "C:\\EnergyPlusV22-2-0\\energyplus.exe efe62a9f-2cbc-46c7-873c-1826e7ae21eb.idf: 57it [00:09,  9.12it/s]INFO:28f1e4b7-fdcc-4ed7-8932-64d7f7abc070.idf:EnergyPlus Run Time=00hr 00min  8.63sec\n",
      "C:\\EnergyPlusV22-2-0\\energyplus.exe 28f1e4b7-fdcc-4ed7-8932-64d7f7abc070.idf: 56it [00:09,  9.40it/s]INFO:28f1e4b7-fdcc-4ed7-8932-64d7f7abc070.idf:EnergyPlus Completed in 9.12 seconds\n",
      "C:\\EnergyPlusV22-2-0\\energyplus.exe 28f1e4b7-fdcc-4ed7-8932-64d7f7abc070.idf: 56it [00:09,  9.40it/s]INFO:efe62a9f-2cbc-46c7-873c-1826e7ae21eb.idf:EnergyPlus Completed in 9.13 seconds\n"
     ]
    },
    {
     "name": "stdout",
     "output_type": "stream",
     "text": [
      "EnergyPlus Run Time=00hr 00min  8.63sec\n",
      "EnergyPlus Completed in 9.12 seconds\n",
      "EnergyPlus Completed in 9.13 seconds\n"
     ]
    },
    {
     "name": "stderr",
     "output_type": "stream",
     "text": [
      "INFO:archetypal:collected data for ['Zone Ideal Loads Supply Air Total Heating Energy', 'Zone Ideal Loads Supply Air Total Cooling Energy']\n",
      "INFO:archetypal:collected data for ['Zone Ideal Loads Supply Air Total Heating Energy', 'Zone Ideal Loads Supply Air Total Cooling Energy']\n",
      "C:\\EnergyPlusV22-2-0\\energyplus.exe e9c1a00e-c87d-448d-95b7-809b69541bd1.idf: 55it [00:09,  5.64it/s]\n",
      "C:\\EnergyPlusV22-2-0\\energyplus.exe 28f1e4b7-fdcc-4ed7-8932-64d7f7abc070.idf: 56it [00:09,  5.67it/s]\n",
      "C:\\EnergyPlusV22-2-0\\energyplus.exe efe62a9f-2cbc-46c7-873c-1826e7ae21eb.idf: 57it [00:09,  5.76it/s]\n",
      "INFO:shoeboxer.geometry_utils:New perimeter depth: 4.0\n",
      "INFO:shoeboxer.geometry_utils:New core depth: 6.4\n",
      "INFO:shoeboxer.geometry_utils:Shifting core origin to perimeter edge; moving -1.0 m in y axis\n",
      "INFO:shoeboxer.geometry_utils:Updating adiabatic surfaces.\n",
      "WARNING:shoeboxer.geometry_utils:Perim exposed depth is too small. Making adiabatic.\n",
      "WARNING:shoeboxer.geometry_utils:Core exposed depth is too small. Making adiabatic.\n",
      "WARNING:shoeboxer.geometry_utils:Perim adiabatic ground depth is too small. Dropping adiabatic.\n",
      "WARNING:shoeboxer.geometry_utils:Core adiabatic ground depth is too small. Dropping adiabatic.\n",
      "INFO:shoeboxer.geometry_utils:Maximum shading point is 0.0\n",
      "INFO:shoeboxer.geometry_utils:Placing shading around center point [1.5 0. ]\n",
      "INFO:ShoeBox:Building idf for data\\sim_results\\42aa8011-f4be-43d3-842c-0beb193956c0\\42aa8011-f4be-43d3-842c-0beb193956c0.epjson\n",
      "INFO:ShoeBox:EnergyPlus Starting\n",
      "INFO:ShoeBox:EnergyPlus, Version 22.2.0-c249759bad, YMD=2023.12.05 15:44\n",
      "INFO:ShoeBox:Converted input file format. Exiting.\n",
      "INFO:ShoeBox:EnergyPlus Run Time=00hr 00min  0.14sec\n",
      "INFO:ShoeBox:Command executed successfully.\n",
      "simulate:   8%|▊         | 1.00/12.0 [00:16<02:46, 15.1s/runs]42c-0beb193956c0.idf: 0.00it [00:00, ?it/s]INFO:42aa8011-f4be-43d3-842c-0beb193956c0.idf:ExpandObjects Started.\n",
      "simulate:   8%|▊         | 1.00/12.0 [00:16<02:46, 15.1s/runs]42c-0beb193956c0.idf: 1.00it [00:00, 7.35it/s]INFO:42aa8011-f4be-43d3-842c-0beb193956c0.idf:No expanded file generated.\n",
      "simulate:   8%|▊         | 1.00/12.0 [00:16<02:46, 15.1s/runs]42c-0beb193956c0.idf: 2.00it [00:00, 7.35it/s]INFO:42aa8011-f4be-43d3-842c-0beb193956c0.idf:ExpandObjects Finished. Time:     0.094\n",
      "simulate:   8%|▊         | 1.00/12.0 [00:16<02:46, 15.1s/runs]42c-0beb193956c0.idf: 3.00it [00:00, 7.35it/s]INFO:42aa8011-f4be-43d3-842c-0beb193956c0.idf:ExpandObjects completed in 0.22 seconds\n",
      "C:\\EnergyPlusV22-2-0\\ExpandObjects.EXE #0-42aa8011-f4be-43d3-842c-0beb193956c0.idf: 3.00it [00:00, 12.8it/s]\n"
     ]
    },
    {
     "name": "stdout",
     "output_type": "stream",
     "text": [
      "ExpandObjects Started.\n",
      "No expanded file generated.\n",
      "ExpandObjects Finished. Time:     0.094\n",
      "ExpandObjects completed in 0.22 seconds\n"
     ]
    },
    {
     "name": "stderr",
     "output_type": "stream",
     "text": [
      "C:\\EnergyPlusV22-2-0\\energyplus.exe 42aa8011-f4be-43d3-842c-0beb193956c0.idf: 0it [00:00, ?it/s]INFO:42aa8011-f4be-43d3-842c-0beb193956c0.idf:Simulation started\n"
     ]
    },
    {
     "name": "stdout",
     "output_type": "stream",
     "text": [
      "Simulation started\n"
     ]
    },
    {
     "name": "stderr",
     "output_type": "stream",
     "text": [
      "C:\\EnergyPlusV22-2-0\\energyplus.exe 42aa8011-f4be-43d3-842c-0beb193956c0.idf: 0it [00:00, ?it/s]INFO:42aa8011-f4be-43d3-842c-0beb193956c0.idf:EnergyPlus Starting\n",
      "C:\\EnergyPlusV22-2-0\\energyplus.exe 42aa8011-f4be-43d3-842c-0beb193956c0.idf: 1it [00:00,  4.46it/s]INFO:42aa8011-f4be-43d3-842c-0beb193956c0.idf:EnergyPlus, Version 22.2.0-c249759bad, YMD=2023.12.05 15:44\n"
     ]
    },
    {
     "name": "stdout",
     "output_type": "stream",
     "text": [
      "EnergyPlus Starting\n",
      "EnergyPlus, Version 22.2.0-c249759bad, YMD=2023.12.05 15:44\n"
     ]
    },
    {
     "name": "stderr",
     "output_type": "stream",
     "text": [
      "C:\\EnergyPlusV22-2-0\\energyplus.exe 42aa8011-f4be-43d3-842c-0beb193956c0.idf: 2it [00:00,  4.46it/s]INFO:42aa8011-f4be-43d3-842c-0beb193956c0.idf:Adjusting Air System Sizing\n",
      "C:\\EnergyPlusV22-2-0\\energyplus.exe 42aa8011-f4be-43d3-842c-0beb193956c0.idf: 3it [00:00,  3.58it/s]INFO:42aa8011-f4be-43d3-842c-0beb193956c0.idf:Adjusting Standard 62.1 Ventilation Sizing\n",
      "C:\\EnergyPlusV22-2-0\\energyplus.exe 42aa8011-f4be-43d3-842c-0beb193956c0.idf: 4it [00:00,  3.58it/s]INFO:42aa8011-f4be-43d3-842c-0beb193956c0.idf:Initializing Simulation\n",
      "INFO:archetypal:collected data for ['Zone Ideal Loads Supply Air Total Heating Energy', 'Zone Ideal Loads Supply Air Total Cooling Energy']\n",
      "INFO:archetypal:collected data for ['Zone Ideal Loads Supply Air Total Heating Energy', 'Zone Ideal Loads Supply Air Total Cooling Energy']\n"
     ]
    },
    {
     "name": "stdout",
     "output_type": "stream",
     "text": [
      "Adjusting Air System Sizing\n",
      "Adjusting Standard 62.1 Ventilation Sizing\n",
      "Initializing Simulation\n"
     ]
    },
    {
     "name": "stderr",
     "output_type": "stream",
     "text": [
      "simulate:  17%|█▋        | 2.00/12.0 [00:18<01:20, 8.08s/runs]INFO:shoeboxer.geometry_utils:New perimeter depth: 4.0\n",
      "INFO:shoeboxer.geometry_utils:New core depth: 6.4\n",
      "INFO:shoeboxer.geometry_utils:Shifting core origin to perimeter edge; moving -1.0 m in y axis\n",
      "INFO:shoeboxer.geometry_utils:Updating adiabatic surfaces.\n",
      "WARNING:shoeboxer.geometry_utils:Perim exposed depth is too small. Making adiabatic.\n",
      "WARNING:shoeboxer.geometry_utils:Core exposed depth is too small. Making adiabatic.\n",
      "WARNING:shoeboxer.geometry_utils:Perim ground exposed depth is too small. Making adiabatic.\n",
      "WARNING:shoeboxer.geometry_utils:Core ground exposed depth is too small. Making adiabatic.\n",
      "INFO:shoeboxer.geometry_utils:Maximum shading point is 0.0\n",
      "INFO:shoeboxer.geometry_utils:Placing shading around center point [1.5 0. ]\n",
      "INFO:ShoeBox:Building idf for data\\sim_results\\44a3a699-feeb-45bc-93bd-537f9e0a9ed6\\44a3a699-feeb-45bc-93bd-537f9e0a9ed6.epjson\n",
      "INFO:archetypal:collected data for ['Zone Ideal Loads Supply Air Total Heating Energy', 'Zone Ideal Loads Supply Air Total Cooling Energy']\n",
      "INFO:ShoeBox:EnergyPlus Starting\n",
      "INFO:ShoeBox:EnergyPlus, Version 22.2.0-c249759bad, YMD=2023.12.05 15:44\n",
      "INFO:archetypal:collected data for ['Zone Ideal Loads Supply Air Total Heating Energy', 'Zone Ideal Loads Supply Air Total Cooling Energy']\n",
      "simulate:  25%|██▌       | 3.00/12.0 [00:18<00:41, 4.65s/runs]INFO:ShoeBox:Converted input file format. Exiting.\n",
      "INFO:ShoeBox:EnergyPlus Run Time=00hr 00min  0.14sec\n",
      "INFO:ShoeBox:Command executed successfully.\n",
      "C:\\EnergyPlusV22-2-0\\energyplus.exe 42aa8011-f4be-43d3-842c-0beb193956c0.idf: 5it [00:01,  3.58it/s]INFO:42aa8011-f4be-43d3-842c-0beb193956c0.idf:Reporting Surfaces\n",
      "C:\\EnergyPlusV22-2-0\\energyplus.exe 42aa8011-f4be-43d3-842c-0beb193956c0.idf: 6it [00:01,  3.34it/s]INFO:42aa8011-f4be-43d3-842c-0beb193956c0.idf:Beginning Primary Simulation\n",
      "C:\\EnergyPlusV22-2-0\\energyplus.exe 42aa8011-f4be-43d3-842c-0beb193956c0.idf: 7it [00:01,  3.34it/s]INFO:42aa8011-f4be-43d3-842c-0beb193956c0.idf:Initializing New Environment Parameters\n",
      "INFO:shoeboxer.geometry_utils:New perimeter depth: 4.0                                              \n",
      "simulate:  25%|██▌       | 3.00/12.0 [00:19<00:41, 4.65s/runs]INFO:shoeboxer.geometry_utils:New core depth: 6.4\n",
      "C:\\EnergyPlusV22-2-0\\energyplus.exe 42aa8011-f4be-43d3-842c-0beb193956c0.idf: 8it [00:01,  3.34it/s]INFO:42aa8011-f4be-43d3-842c-0beb193956c0.idf:Warming up {1}\n",
      "INFO:shoeboxer.geometry_utils:Shifting core origin to perimeter edge; moving -1.0 m in y axis\n",
      "INFO:shoeboxer.geometry_utils:Updating adiabatic surfaces.    \n",
      "WARNING:shoeboxer.geometry_utils:Perim ground exposed depth is too small. Making adiabatic.\n",
      "WARNING:shoeboxer.geometry_utils:Core ground exposed depth is too small. Making adiabatic.\n",
      "WARNING:shoeboxer.geometry_utils:Perim roof adiabatic depth is too small. Dropping adiabatic.       \n",
      "simulate:  25%|██▌       | 3.00/12.0 [00:19<00:41, 4.65s/runs]WARNING:shoeboxer.geometry_utils:Core roof adiabatic depth is too small. Dropping adiabatic.\n",
      "C:\\EnergyPlusV22-2-0\\energyplus.exe 42aa8011-f4be-43d3-842c-0beb193956c0.idf: 9it [00:01,  3.34it/s]INFO:shoeboxer.geometry_utils:Maximum shading point is 0.0\n",
      "INFO:shoeboxer.geometry_utils:Placing shading around center point [1.5 0. ]\n",
      "INFO:42aa8011-f4be-43d3-842c-0beb193956c0.idf:Warming up {2}\n",
      "C:\\EnergyPlusV22-2-0\\energyplus.exe 42aa8011-f4be-43d3-842c-0beb193956c0.idf: 10it [00:01,  6.57it/s]INFO:42aa8011-f4be-43d3-842c-0beb193956c0.idf:Warming up {3}\n",
      "C:\\EnergyPlusV22-2-0\\energyplus.exe 42aa8011-f4be-43d3-842c-0beb193956c0.idf: 11it [00:01,  6.57it/s]INFO:42aa8011-f4be-43d3-842c-0beb193956c0.idf:Warming up {4}\n",
      "                                                              \r"
     ]
    },
    {
     "name": "stdout",
     "output_type": "stream",
     "text": [
      "Reporting Surfaces\n",
      "Beginning Primary Simulation\n",
      "Initializing New Environment Parameters\n",
      "Warming up {1}\n",
      "Warming up {2}\n",
      "Warming up {3}\n",
      "Warming up {4}\n"
     ]
    },
    {
     "name": "stderr",
     "output_type": "stream",
     "text": [
      "C:\\EnergyPlusV22-2-0\\energyplus.exe 42aa8011-f4be-43d3-842c-0beb193956c0.idf: 12it [00:01,  6.57it/s]INFO:42aa8011-f4be-43d3-842c-0beb193956c0.idf:Warming up {5}\n",
      "                                                              INFO:ShoeBox:Building idf for data\\sim_results\\760fc8e5-9152-42af-9744-d12a0d45aa3a\\760fc8e5-9152-42af-9744-d12a0d45aa3a.epjson\n",
      "C:\\EnergyPlusV22-2-0\\energyplus.exe 42aa8011-f4be-43d3-842c-0beb193956c0.idf: 13it [00:02,  6.57it/s]INFO:42aa8011-f4be-43d3-842c-0beb193956c0.idf:Warming up {6}\n",
      "C:\\EnergyPlusV22-2-0\\energyplus.exe 42aa8011-f4be-43d3-842c-0beb193956c0.idf: 14it [00:02,  8.86it/s]"
     ]
    },
    {
     "name": "stdout",
     "output_type": "stream",
     "text": [
      "Warming up {5}\n",
      "Warming up {6}\n",
      "Starting Simulation at 01/01/2017 for CLIMATE STUDIO\n"
     ]
    },
    {
     "name": "stderr",
     "output_type": "stream",
     "text": [
      "INFO:42aa8011-f4be-43d3-842c-0beb193956c0.idf:Starting Simulation at 01/01/2017 for CLIMATE STUDIO\n",
      "C:\\EnergyPlusV22-2-0\\energyplus.exe 42aa8011-f4be-43d3-842c-0beb193956c0.idf: 15it [00:02,  8.86it/s]INFO:42aa8011-f4be-43d3-842c-0beb193956c0.idf:Updating Shadowing Calculations, Start Date=01/21/2017\n",
      "C:\\EnergyPlusV22-2-0\\energyplus.exe 42aa8011-f4be-43d3-842c-0beb193956c0.idf: 16it [00:02,  8.86it/s]INFO:42aa8011-f4be-43d3-842c-0beb193956c0.idf:Continuing Simulation at 01/21/2017 for CLIMATE STUDIO\n",
      "INFO:ShoeBox:EnergyPlus Starting\n",
      "INFO:ShoeBox:EnergyPlus, Version 22.2.0-c249759bad, YMD=2023.12.05 15:44\n"
     ]
    },
    {
     "name": "stdout",
     "output_type": "stream",
     "text": [
      "Updating Shadowing Calculations, Start Date=01/21/2017\n",
      "Continuing Simulation at 01/21/2017 for CLIMATE STUDIO\n"
     ]
    },
    {
     "name": "stderr",
     "output_type": "stream",
     "text": [
      "                                                              INFO:ShoeBox:Converted input file format. Exiting.\n",
      "INFO:ShoeBox:EnergyPlus Run Time=00hr 00min  0.12sec\n",
      "C:\\EnergyPlusV22-2-0\\energyplus.exe 42aa8011-f4be-43d3-842c-0beb193956c0.idf: 17it [00:02,  8.86it/s]INFO:42aa8011-f4be-43d3-842c-0beb193956c0.idf:Updating Shadowing Calculations, Start Date=02/10/2017\n",
      "C:\\EnergyPlusV22-2-0\\energyplus.exe 42aa8011-f4be-43d3-842c-0beb193956c0.idf: 18it [00:02, 10.62it/s]INFO:ShoeBox:Command executed successfully.\n",
      "INFO:42aa8011-f4be-43d3-842c-0beb193956c0.idf:Continuing Simulation at 02/10/2017 for CLIMATE STUDIO\n"
     ]
    },
    {
     "name": "stdout",
     "output_type": "stream",
     "text": [
      "Updating Shadowing Calculations, Start Date=02/10/2017\n",
      "Continuing Simulation at 02/10/2017 for CLIMATE STUDIO\n"
     ]
    },
    {
     "name": "stderr",
     "output_type": "stream",
     "text": [
      "C:\\EnergyPlusV22-2-0\\energyplus.exe 42aa8011-f4be-43d3-842c-0beb193956c0.idf: 19it [00:02, 10.62it/s]INFO:42aa8011-f4be-43d3-842c-0beb193956c0.idf:Updating Shadowing Calculations, Start Date=03/02/2017\n",
      "C:\\EnergyPlusV22-2-0\\energyplus.exe 42aa8011-f4be-43d3-842c-0beb193956c0.idf: 20it [00:02,  9.29it/s]INFO:42aa8011-f4be-43d3-842c-0beb193956c0.idf:Continuing Simulation at 03/02/2017 for CLIMATE STUDIO\n"
     ]
    },
    {
     "name": "stdout",
     "output_type": "stream",
     "text": [
      "Updating Shadowing Calculations, Start Date=03/02/2017\n",
      "Continuing Simulation at 03/02/2017 for CLIMATE STUDIO\n"
     ]
    },
    {
     "name": "stderr",
     "output_type": "stream",
     "text": [
      "C:\\EnergyPlusV22-2-0\\energyplus.exe 42aa8011-f4be-43d3-842c-0beb193956c0.idf: 21it [00:02,  9.29it/s]t/s]INFO:44a3a699-feeb-45bc-93bd-537f9e0a9ed6.idf:ExpandObjects Started.\n",
      "C:\\EnergyPlusV22-2-0\\ExpandObjects.EXE #0-44a3a699-feeb-45bc-93bd-537f9e0a9ed6.idf: 1.00it [00:00, 5.30it/s]INFO:42aa8011-f4be-43d3-842c-0beb193956c0.idf:Updating Shadowing Calculations, Start Date=03/22/2017\n",
      "C:\\EnergyPlusV22-2-0\\energyplus.exe 42aa8011-f4be-43d3-842c-0beb193956c0.idf: 22it [00:02,  8.59it/s]30it/s]INFO:44a3a699-feeb-45bc-93bd-537f9e0a9ed6.idf:No expanded file generated.\n",
      "C:\\EnergyPlusV22-2-0\\energyplus.exe 42aa8011-f4be-43d3-842c-0beb193956c0.idf: 22it [00:02,  8.59it/s]30it/s]INFO:42aa8011-f4be-43d3-842c-0beb193956c0.idf:Continuing Simulation at 03/22/2017 for CLIMATE STUDIO\n",
      "C:\\EnergyPlusV22-2-0\\energyplus.exe 42aa8011-f4be-43d3-842c-0beb193956c0.idf: 23it [00:03,  8.59it/s]30it/s]INFO:44a3a699-feeb-45bc-93bd-537f9e0a9ed6.idf:ExpandObjects Finished. Time:     0.078\n",
      "                                                                                                            "
     ]
    },
    {
     "name": "stdout",
     "output_type": "stream",
     "text": [
      "ExpandObjects Started.\n",
      "Updating Shadowing Calculations, Start Date=03/22/2017\n",
      "No expanded file generated.\n",
      "Continuing Simulation at 03/22/2017 for CLIMATE STUDIO\n",
      "ExpandObjects Finished. Time:     0.078\n"
     ]
    },
    {
     "name": "stderr",
     "output_type": "stream",
     "text": [
      "C:\\EnergyPlusV22-2-0\\energyplus.exe 42aa8011-f4be-43d3-842c-0beb193956c0.idf: 23it [00:03,  8.59it/s]30it/s]INFO:44a3a699-feeb-45bc-93bd-537f9e0a9ed6.idf:ExpandObjects completed in 0.23 seconds\n",
      "C:\\EnergyPlusV22-2-0\\ExpandObjects.EXE #0-44a3a699-feeb-45bc-93bd-537f9e0a9ed6.idf: 3.00it [00:00, 5.40it/s]INFO:42aa8011-f4be-43d3-842c-0beb193956c0.idf:Updating Shadowing Calculations, Start Date=04/11/2017\n",
      "\n",
      "C:\\EnergyPlusV22-2-0\\energyplus.exe 42aa8011-f4be-43d3-842c-0beb193956c0.idf: 24it [00:03,  7.89it/s]INFO:42aa8011-f4be-43d3-842c-0beb193956c0.idf:Continuing Simulation at 04/11/2017 for CLIMATE STUDIO\n",
      "C:\\EnergyPlusV22-2-0\\energyplus.exe 42aa8011-f4be-43d3-842c-0beb193956c0.idf: 25it [00:03,  7.89it/s]INFO:42aa8011-f4be-43d3-842c-0beb193956c0.idf:Updating Shadowing Calculations, Start Date=05/01/2017\n",
      "C:\\EnergyPlusV22-2-0\\energyplus.exe 42aa8011-f4be-43d3-842c-0beb193956c0.idf: 26it [00:03,  7.89it/s]INFO:42aa8011-f4be-43d3-842c-0beb193956c0.idf:Continuing Simulation at 05/01/2017 for CLIMATE STUDIO\n"
     ]
    },
    {
     "name": "stdout",
     "output_type": "stream",
     "text": [
      "ExpandObjects completed in 0.23 seconds\n",
      "Updating Shadowing Calculations, Start Date=04/11/2017\n",
      "Continuing Simulation at 04/11/2017 for CLIMATE STUDIO\n",
      "Updating Shadowing Calculations, Start Date=05/01/2017\n",
      "Continuing Simulation at 05/01/2017 for CLIMATE STUDIO\n"
     ]
    },
    {
     "name": "stderr",
     "output_type": "stream",
     "text": [
      "C:\\EnergyPlusV22-2-0\\energyplus.exe 42aa8011-f4be-43d3-842c-0beb193956c0.idf: 27it [00:03,  7.89it/s]t/s]INFO:760fc8e5-9152-42af-9744-d12a0d45aa3a.idf:ExpandObjects Started.\n",
      "C:\\EnergyPlusV22-2-0\\energyplus.exe 42aa8011-f4be-43d3-842c-0beb193956c0.idf: 27it [00:03,  7.89it/s]62it/s]INFO:42aa8011-f4be-43d3-842c-0beb193956c0.idf:Updating Shadowing Calculations, Start Date=05/21/2017\n",
      "C:\\EnergyPlusV22-2-0\\energyplus.exe 42aa8011-f4be-43d3-842c-0beb193956c0.idf: 28it [00:03,  9.79it/s]62it/s]INFO:42aa8011-f4be-43d3-842c-0beb193956c0.idf:Continuing Simulation at 05/21/2017 for CLIMATE STUDIO\n",
      "C:\\EnergyPlusV22-2-0\\energyplus.exe 42aa8011-f4be-43d3-842c-0beb193956c0.idf: 29it [00:03,  9.79it/s]62it/s]INFO:760fc8e5-9152-42af-9744-d12a0d45aa3a.idf:No expanded file generated.\n",
      "C:\\EnergyPlusV22-2-0\\energyplus.exe 42aa8011-f4be-43d3-842c-0beb193956c0.idf: 29it [00:03,  9.79it/s]56it/s]INFO:760fc8e5-9152-42af-9744-d12a0d45aa3a.idf:ExpandObjects Finished. Time:     0.109\n",
      "                                                                                                            "
     ]
    },
    {
     "name": "stdout",
     "output_type": "stream",
     "text": [
      "ExpandObjects Started.\n",
      "Updating Shadowing Calculations, Start Date=05/21/2017\n",
      "Continuing Simulation at 05/21/2017 for CLIMATE STUDIO\n",
      "No expanded file generated.\n",
      "ExpandObjects Finished. Time:     0.109\n"
     ]
    },
    {
     "name": "stderr",
     "output_type": "stream",
     "text": [
      "C:\\EnergyPlusV22-2-0\\energyplus.exe 42aa8011-f4be-43d3-842c-0beb193956c0.idf: 29it [00:03,  9.79it/s]56it/s]INFO:760fc8e5-9152-42af-9744-d12a0d45aa3a.idf:ExpandObjects completed in 0.27 seconds\n",
      "C:\\EnergyPlusV22-2-0\\ExpandObjects.EXE #0-760fc8e5-9152-42af-9744-d12a0d45aa3a.idf: 3.00it [00:00, 8.59it/s]\n",
      "C:\\EnergyPlusV22-2-0\\energyplus.exe 42aa8011-f4be-43d3-842c-0beb193956c0.idf: 29it [00:03,  9.79it/s]INFO:42aa8011-f4be-43d3-842c-0beb193956c0.idf:Updating Shadowing Calculations, Start Date=06/10/2017\n",
      "C:\\EnergyPlusV22-2-0\\energyplus.exe 42aa8011-f4be-43d3-842c-0beb193956c0.idf: 30it [00:03,  9.50it/s]INFO:42aa8011-f4be-43d3-842c-0beb193956c0.idf:Continuing Simulation at 06/10/2017 for CLIMATE STUDIO\n",
      "INFO:archetypal:collected data for ['Zone Ideal Loads Supply Air Total Heating Energy', 'Zone Ideal Loads Supply Air Total Cooling Energy']\n"
     ]
    },
    {
     "name": "stdout",
     "output_type": "stream",
     "text": [
      "ExpandObjects completed in 0.27 seconds\n",
      "Updating Shadowing Calculations, Start Date=06/10/2017\n",
      "Continuing Simulation at 06/10/2017 for CLIMATE STUDIO\n"
     ]
    },
    {
     "name": "stderr",
     "output_type": "stream",
     "text": [
      "C:\\EnergyPlusV22-2-0\\energyplus.exe 42aa8011-f4be-43d3-842c-0beb193956c0.idf: 31it [00:04,  9.50it/s]INFO:42aa8011-f4be-43d3-842c-0beb193956c0.idf:Updating Shadowing Calculations, Start Date=06/30/2017\n",
      "C:\\EnergyPlusV22-2-0\\energyplus.exe 42aa8011-f4be-43d3-842c-0beb193956c0.idf: 32it [00:04,  9.08it/s]INFO:42aa8011-f4be-43d3-842c-0beb193956c0.idf:Continuing Simulation at 06/30/2017 for CLIMATE STUDIO\n",
      "INFO:archetypal:collected data for ['Zone Ideal Loads Supply Air Total Heating Energy', 'Zone Ideal Loads Supply Air Total Cooling Energy']\n",
      "simulate:  33%|███▎      | 4.00/12.0 [00:21<00:30, 3.84s/runs]"
     ]
    },
    {
     "name": "stdout",
     "output_type": "stream",
     "text": [
      "Updating Shadowing Calculations, Start Date=06/30/2017\n",
      "Continuing Simulation at 06/30/2017 for CLIMATE STUDIO\n"
     ]
    },
    {
     "name": "stderr",
     "output_type": "stream",
     "text": [
      "INFO:archetypal:collected data for ['Zone Ideal Loads Supply Air Total Heating Energy', 'Zone Ideal Loads Supply Air Total Cooling Energy']\n",
      "C:\\EnergyPlusV22-2-0\\energyplus.exe 42aa8011-f4be-43d3-842c-0beb193956c0.idf: 33it [00:04,  9.08it/s]INFO:42aa8011-f4be-43d3-842c-0beb193956c0.idf:Updating Shadowing Calculations, Start Date=07/20/2017\n",
      "C:\\EnergyPlusV22-2-0\\energyplus.exe 42aa8011-f4be-43d3-842c-0beb193956c0.idf: 34it [00:04,  8.29it/s]INFO:42aa8011-f4be-43d3-842c-0beb193956c0.idf:Continuing Simulation at 07/20/2017 for CLIMATE STUDIO\n"
     ]
    },
    {
     "name": "stdout",
     "output_type": "stream",
     "text": [
      "Updating Shadowing Calculations, Start Date=07/20/2017\n",
      "Continuing Simulation at 07/20/2017 for CLIMATE STUDIO\n"
     ]
    },
    {
     "name": "stderr",
     "output_type": "stream",
     "text": [
      "C:\\EnergyPlusV22-2-0\\energyplus.exe 44a3a699-feeb-45bc-93bd-537f9e0a9ed6.idf: 0it [00:00, ?it/s]INFO:shoeboxer.geometry_utils:New perimeter depth: 4.0\n",
      "INFO:archetypal:collected data for ['Zone Ideal Loads Supply Air Total Heating Energy', 'Zone Ideal Loads Supply Air Total Cooling Energy']\n",
      "INFO:shoeboxer.geometry_utils:New core depth: 6.4\n",
      "C:\\EnergyPlusV22-2-0\\energyplus.exe 44a3a699-feeb-45bc-93bd-537f9e0a9ed6.idf: 0it [00:00, ?it/s]INFO:shoeboxer.geometry_utils:Shifting core origin to perimeter edge; moving -1.0 m in y axis\n",
      "simulate:  33%|███▎      | 4.00/12.0 [00:21<00:30, 3.84s/runs]INFO:shoeboxer.geometry_utils:Updating adiabatic surfaces.\n",
      "WARNING:shoeboxer.geometry_utils:Perim exposed depth is too small. Making adiabatic.\n",
      "C:\\EnergyPlusV22-2-0\\energyplus.exe 42aa8011-f4be-43d3-842c-0beb193956c0.idf: 35it [00:04,  8.29it/s]WARNING:shoeboxer.geometry_utils:Core exposed depth is too small. Making adiabatic.\n",
      "WARNING:shoeboxer.geometry_utils:Perim adiabatic ground depth is too small. Dropping adiabatic.\n",
      "INFO:44a3a699-feeb-45bc-93bd-537f9e0a9ed6.idf:Simulation started                                \n",
      "                                                              WARNING:shoeboxer.geometry_utils:Core adiabatic ground depth is too small. Dropping adiabatic.\n",
      "INFO:shoeboxer.geometry_utils:Maximum shading point is 0.0\n",
      "INFO:shoeboxer.geometry_utils:Placing shading around center point [1.5 0. ]\n",
      "C:\\EnergyPlusV22-2-0\\energyplus.exe 42aa8011-f4be-43d3-842c-0beb193956c0.idf: 35it [00:04,  8.29it/s]INFO:42aa8011-f4be-43d3-842c-0beb193956c0.idf:Updating Shadowing Calculations, Start Date=08/09/2017\n",
      "C:\\EnergyPlusV22-2-0\\energyplus.exe 42aa8011-f4be-43d3-842c-0beb193956c0.idf: 36it [00:04,  7.90it/s]INFO:ShoeBox:Building idf for data\\sim_results\\f79d8163-25e1-4adf-baa8-2f59cacf4ff0\\f79d8163-25e1-4adf-baa8-2f59cacf4ff0.epjson\n",
      "simulate:  42%|████▏     | 5.00/12.0 [00:21<00:18, 2.62s/runs]INFO:42aa8011-f4be-43d3-842c-0beb193956c0.idf:Continuing Simulation at 08/09/2017 for CLIMATE STUDIO\n"
     ]
    },
    {
     "name": "stdout",
     "output_type": "stream",
     "text": [
      "Simulation started\n",
      "Updating Shadowing Calculations, Start Date=08/09/2017\n",
      "Continuing Simulation at 08/09/2017 for CLIMATE STUDIO\n"
     ]
    },
    {
     "name": "stderr",
     "output_type": "stream",
     "text": [
      "C:\\EnergyPlusV22-2-0\\energyplus.exe 42aa8011-f4be-43d3-842c-0beb193956c0.idf: 37it [00:04,  8.17it/s]INFO:44a3a699-feeb-45bc-93bd-537f9e0a9ed6.idf:EnergyPlus Starting\n",
      "C:\\EnergyPlusV22-2-0\\energyplus.exe 44a3a699-feeb-45bc-93bd-537f9e0a9ed6.idf: 1it [00:00,  2.62it/s]]INFO:42aa8011-f4be-43d3-842c-0beb193956c0.idf:Updating Shadowing Calculations, Start Date=08/29/2017\n",
      "                                                                                                    "
     ]
    },
    {
     "name": "stdout",
     "output_type": "stream",
     "text": [
      "EnergyPlus Starting\n",
      "Updating Shadowing Calculations, Start Date=08/29/2017\n"
     ]
    },
    {
     "name": "stderr",
     "output_type": "stream",
     "text": [
      "INFO:shoeboxer.geometry_utils:New perimeter depth: 4.0\n",
      "                                                                                                     INFO:shoeboxer.geometry_utils:New core depth: 6.4\n",
      "C:\\EnergyPlusV22-2-0\\energyplus.exe 44a3a699-feeb-45bc-93bd-537f9e0a9ed6.idf: 1it [00:00,  2.62it/s]INFO:shoeboxer.geometry_utils:Shifting core origin to perimeter edge; moving -1.0 m in y axis\n",
      "simulate:  42%|████▏     | 5.00/12.0 [00:22<00:18, 2.62s/runs]INFO:shoeboxer.geometry_utils:Updating adiabatic surfaces.\n",
      "C:\\EnergyPlusV22-2-0\\energyplus.exe 42aa8011-f4be-43d3-842c-0beb193956c0.idf: 38it [00:04,  7.30it/s]WARNING:shoeboxer.geometry_utils:Perim exposed depth is too small. Making adiabatic.\n",
      "WARNING:shoeboxer.geometry_utils:Core exposed depth is too small. Making adiabatic.\n",
      "C:\\EnergyPlusV22-2-0\\energyplus.exe 42aa8011-f4be-43d3-842c-0beb193956c0.idf: 38it [00:04,  7.30it/s]WARNING:shoeboxer.geometry_utils:Perim ground exposed depth is too small. Making adiabatic.\n",
      "                                                                                                    INFO:44a3a699-feeb-45bc-93bd-537f9e0a9ed6.idf:EnergyPlus, Version 22.2.0-c249759bad, YMD=2023.12.05 15:44\n",
      "WARNING:shoeboxer.geometry_utils:Core ground exposed depth is too small. Making adiabatic.\n",
      "INFO:shoeboxer.geometry_utils:Maximum shading point is 0.0\n",
      "                                                              INFO:shoeboxer.geometry_utils:Placing shading around center point [1.5 0. ]\n",
      "C:\\EnergyPlusV22-2-0\\energyplus.exe 44a3a699-feeb-45bc-93bd-537f9e0a9ed6.idf: 2it [00:00,  4.36it/s]INFO:ShoeBox:EnergyPlus Starting\n",
      "simulate:  42%|████▏     | 5.00/12.0 [00:22<00:18, 2.62s/runs]INFO:ShoeBox:EnergyPlus, Version 22.2.0-c249759bad, YMD=2023.12.05 15:44\n",
      "C:\\EnergyPlusV22-2-0\\energyplus.exe 44a3a699-feeb-45bc-93bd-537f9e0a9ed6.idf: 2it [00:00,  4.36it/s]]INFO:42aa8011-f4be-43d3-842c-0beb193956c0.idf:Continuing Simulation at 08/29/2017 for CLIMATE STUDIO\n",
      "simulate:  42%|████▏     | 5.00/12.0 [00:22<00:18, 2.62s/runs]INFO:ShoeBox:Building idf for data\\sim_results\\68a8f040-7069-4201-b73a-2b3173f5c8e4\\68a8f040-7069-4201-b73a-2b3173f5c8e4.epjson\n",
      "                                                                                                    INFO:42aa8011-f4be-43d3-842c-0beb193956c0.idf:Updating Shadowing Calculations, Start Date=09/18/2017\n",
      "C:\\EnergyPlusV22-2-0\\energyplus.exe 42aa8011-f4be-43d3-842c-0beb193956c0.idf: 40it [00:05,  9.23it/s]INFO:44a3a699-feeb-45bc-93bd-537f9e0a9ed6.idf:Adjusting Air System Sizing\n",
      "INFO:archetypal:collected data for ['Zone Ideal Loads Supply Air Total Heating Energy', 'Zone Ideal Loads Supply Air Total Cooling Energy']\n",
      "INFO:ShoeBox:Converted input file format. Exiting.                                                  \n",
      "INFO:ShoeBox:EnergyPlus Run Time=00hr 00min  0.14sec\n",
      "C:\\EnergyPlusV22-2-0\\energyplus.exe 42aa8011-f4be-43d3-842c-0beb193956c0.idf: 40it [00:05,  9.23it/s]"
     ]
    },
    {
     "name": "stdout",
     "output_type": "stream",
     "text": [
      "EnergyPlus, Version 22.2.0-c249759bad, YMD=2023.12.05 15:44\n",
      "Continuing Simulation at 08/29/2017 for CLIMATE STUDIO\n",
      "Updating Shadowing Calculations, Start Date=09/18/2017\n",
      "Adjusting Air System Sizing\n",
      "Continuing Simulation at 09/18/2017 for CLIMATE STUDIO\n"
     ]
    },
    {
     "name": "stderr",
     "output_type": "stream",
     "text": [
      "C:\\EnergyPlusV22-2-0\\energyplus.exe 44a3a699-feeb-45bc-93bd-537f9e0a9ed6.idf: 3it [00:00,  5.23it/s]INFO:42aa8011-f4be-43d3-842c-0beb193956c0.idf:Continuing Simulation at 09/18/2017 for CLIMATE STUDIO\n",
      "C:\\EnergyPlusV22-2-0\\energyplus.exe 42aa8011-f4be-43d3-842c-0beb193956c0.idf: 41it [00:05,  9.19it/s]INFO:44a3a699-feeb-45bc-93bd-537f9e0a9ed6.idf:Adjusting Standard 62.1 Ventilation Sizing\n",
      "C:\\EnergyPlusV22-2-0\\energyplus.exe 42aa8011-f4be-43d3-842c-0beb193956c0.idf: 41it [00:05,  9.19it/s]INFO:44a3a699-feeb-45bc-93bd-537f9e0a9ed6.idf:Initializing Simulation\n",
      "INFO:ShoeBox:Command executed successfully.\n",
      "                                                                                                    INFO:archetypal:collected data for ['Zone Ideal Loads Supply Air Total Heating Energy', 'Zone Ideal Loads Supply Air Total Cooling Energy']\n",
      "INFO:ShoeBox:EnergyPlus Starting\n"
     ]
    },
    {
     "name": "stdout",
     "output_type": "stream",
     "text": [
      "Adjusting Standard 62.1 Ventilation Sizing\n",
      "Initializing Simulation\n"
     ]
    },
    {
     "name": "stderr",
     "output_type": "stream",
     "text": [
      "                                                                                                     INFO:ShoeBox:EnergyPlus, Version 22.2.0-c249759bad, YMD=2023.12.05 15:44\n",
      "C:\\EnergyPlusV22-2-0\\energyplus.exe 42aa8011-f4be-43d3-842c-0beb193956c0.idf: 41it [00:05,  9.19it/s]INFO:42aa8011-f4be-43d3-842c-0beb193956c0.idf:Updating Shadowing Calculations, Start Date=10/08/2017\n",
      "C:\\EnergyPlusV22-2-0\\energyplus.exe 42aa8011-f4be-43d3-842c-0beb193956c0.idf: 42it [00:05,  7.52it/s]INFO:42aa8011-f4be-43d3-842c-0beb193956c0.idf:Continuing Simulation at 10/08/2017 for CLIMATE STUDIO\n"
     ]
    },
    {
     "name": "stdout",
     "output_type": "stream",
     "text": [
      "Updating Shadowing Calculations, Start Date=10/08/2017\n",
      "Continuing Simulation at 10/08/2017 for CLIMATE STUDIO\n"
     ]
    },
    {
     "name": "stderr",
     "output_type": "stream",
     "text": [
      "C:\\EnergyPlusV22-2-0\\energyplus.exe 42aa8011-f4be-43d3-842c-0beb193956c0.idf: 43it [00:05,  7.52it/s]INFO:760fc8e5-9152-42af-9744-d12a0d45aa3a.idf:Simulation started\n",
      "INFO:ShoeBox:Converted input file format. Exiting.\n",
      "INFO:ShoeBox:EnergyPlus Run Time=00hr 00min  0.14sec\n",
      "simulate:  50%|█████     | 6.00/12.0 [00:22<00:12, 2.00s/runs]INFO:ShoeBox:Command executed successfully.\n"
     ]
    },
    {
     "name": "stdout",
     "output_type": "stream",
     "text": [
      "Simulation started\n"
     ]
    },
    {
     "name": "stderr",
     "output_type": "stream",
     "text": [
      "C:\\EnergyPlusV22-2-0\\energyplus.exe 42aa8011-f4be-43d3-842c-0beb193956c0.idf: 43it [00:05,  7.52it/s]INFO:42aa8011-f4be-43d3-842c-0beb193956c0.idf:Updating Shadowing Calculations, Start Date=10/28/2017\n",
      "C:\\EnergyPlusV22-2-0\\energyplus.exe 42aa8011-f4be-43d3-842c-0beb193956c0.idf: 44it [00:05,  7.03it/s]INFO:760fc8e5-9152-42af-9744-d12a0d45aa3a.idf:EnergyPlus Starting\n",
      "                                                                                                "
     ]
    },
    {
     "name": "stdout",
     "output_type": "stream",
     "text": [
      "Updating Shadowing Calculations, Start Date=10/28/2017\n",
      "EnergyPlus Starting\n"
     ]
    },
    {
     "name": "stderr",
     "output_type": "stream",
     "text": [
      "INFO:shoeboxer.geometry_utils:New perimeter depth: 4.0\n",
      "                                                                                                    INFO:shoeboxer.geometry_utils:New core depth: 6.4\n",
      "INFO:shoeboxer.geometry_utils:Shifting core origin to perimeter edge; moving -1.0 m in y axis\n",
      "INFO:shoeboxer.geometry_utils:Updating adiabatic surfaces.    \n",
      "WARNING:shoeboxer.geometry_utils:Perim ground exposed depth is too small. Making adiabatic.\n",
      "WARNING:shoeboxer.geometry_utils:Core ground exposed depth is too small. Making adiabatic.\n",
      "WARNING:shoeboxer.geometry_utils:Perim roof adiabatic depth is too small. Dropping adiabatic.        \n",
      "WARNING:shoeboxer.geometry_utils:Core roof adiabatic depth is too small. Dropping adiabatic.\n",
      "C:\\EnergyPlusV22-2-0\\energyplus.exe 44a3a699-feeb-45bc-93bd-537f9e0a9ed6.idf: 5it [00:01,  5.23it/s]INFO:shoeboxer.geometry_utils:Maximum shading point is 0.0\n",
      "INFO:shoeboxer.geometry_utils:Placing shading around center point [1.5 0. ]\n",
      "C:\\EnergyPlusV22-2-0\\energyplus.exe 760fc8e5-9152-42af-9744-d12a0d45aa3a.idf: 1it [00:00,  2.31it/s]]INFO:42aa8011-f4be-43d3-842c-0beb193956c0.idf:Continuing Simulation at 10/28/2017 for CLIMATE STUDIO\n",
      "INFO:ShoeBox:Building idf for data\\sim_results\\6f540b7c-6b78-4186-8080-27af11cceb69\\6f540b7c-6b78-4186-8080-27af11cceb69.epjson\n",
      "                                                                                                    INFO:44a3a699-feeb-45bc-93bd-537f9e0a9ed6.idf:Reporting Surfaces\n",
      "C:\\EnergyPlusV22-2-0\\energyplus.exe 44a3a699-feeb-45bc-93bd-537f9e0a9ed6.idf: 6it [00:01,  3.23it/s]INFO:760fc8e5-9152-42af-9744-d12a0d45aa3a.idf:EnergyPlus, Version 22.2.0-c249759bad, YMD=2023.12.05 15:44\n",
      "                                                                                                     "
     ]
    },
    {
     "name": "stdout",
     "output_type": "stream",
     "text": [
      "Continuing Simulation at 10/28/2017 for CLIMATE STUDIO\n",
      "Reporting Surfaces\n",
      "EnergyPlus, Version 22.2.0-c249759bad, YMD=2023.12.05 15:44\n"
     ]
    },
    {
     "name": "stderr",
     "output_type": "stream",
     "text": [
      "C:\\EnergyPlusV22-2-0\\energyplus.exe 760fc8e5-9152-42af-9744-d12a0d45aa3a.idf: 2it [00:01,  2.36it/s]INFO:ShoeBox:EnergyPlus Starting\n",
      "INFO:ShoeBox:EnergyPlus, Version 22.2.0-c249759bad, YMD=2023.12.05 15:44\n",
      "                                                                                                    ]INFO:42aa8011-f4be-43d3-842c-0beb193956c0.idf:Updating Shadowing Calculations, Start Date=11/17/2017\n",
      "C:\\EnergyPlusV22-2-0\\energyplus.exe 760fc8e5-9152-42af-9744-d12a0d45aa3a.idf: 2it [00:01,  2.36it/s]INFO:44a3a699-feeb-45bc-93bd-537f9e0a9ed6.idf:Beginning Primary Simulation\n",
      "C:\\EnergyPlusV22-2-0\\energyplus.exe 42aa8011-f4be-43d3-842c-0beb193956c0.idf: 46it [00:06,  4.15it/s]INFO:760fc8e5-9152-42af-9744-d12a0d45aa3a.idf:Adjusting Air System Sizing\n",
      "INFO:ShoeBox:Converted input file format. Exiting.                                                  \n",
      "INFO:ShoeBox:EnergyPlus Run Time=00hr 00min  0.15sec\n",
      "C:\\EnergyPlusV22-2-0\\energyplus.exe 42aa8011-f4be-43d3-842c-0beb193956c0.idf: 46it [00:06,  4.15it/s]INFO:42aa8011-f4be-43d3-842c-0beb193956c0.idf:Continuing Simulation at 11/17/2017 for CLIMATE STUDIO\n",
      "C:\\EnergyPlusV22-2-0\\energyplus.exe 760fc8e5-9152-42af-9744-d12a0d45aa3a.idf: 3it [00:01,  2.67it/s]]INFO:44a3a699-feeb-45bc-93bd-537f9e0a9ed6.idf:Initializing New Environment Parameters\n",
      "C:\\EnergyPlusV22-2-0\\energyplus.exe 42aa8011-f4be-43d3-842c-0beb193956c0.idf: 47it [00:06,  4.77it/s]"
     ]
    },
    {
     "name": "stdout",
     "output_type": "stream",
     "text": [
      "Updating Shadowing Calculations, Start Date=11/17/2017\n",
      "Beginning Primary Simulation\n",
      "Adjusting Air System Sizing\n",
      "Continuing Simulation at 11/17/2017 for CLIMATE STUDIO\n",
      "Initializing New Environment Parameters\n"
     ]
    },
    {
     "name": "stderr",
     "output_type": "stream",
     "text": [
      "C:\\EnergyPlusV22-2-0\\energyplus.exe 42aa8011-f4be-43d3-842c-0beb193956c0.idf: 47it [00:06,  4.77it/s]INFO:760fc8e5-9152-42af-9744-d12a0d45aa3a.idf:Adjusting Standard 62.1 Ventilation Sizing\n",
      "C:\\EnergyPlusV22-2-0\\energyplus.exe 42aa8011-f4be-43d3-842c-0beb193956c0.idf: 47it [00:06,  4.77it/s]INFO:44a3a699-feeb-45bc-93bd-537f9e0a9ed6.idf:Warming up {1}\n",
      "C:\\EnergyPlusV22-2-0\\energyplus.exe 44a3a699-feeb-45bc-93bd-537f9e0a9ed6.idf: 9it [00:02,  3.17it/s] "
     ]
    },
    {
     "name": "stdout",
     "output_type": "stream",
     "text": [
      "Adjusting Standard 62.1 Ventilation Sizing\n",
      "Warming up {1}\n",
      "Updating Shadowing Calculations, Start Date=12/07/2017\n"
     ]
    },
    {
     "name": "stderr",
     "output_type": "stream",
     "text": [
      "C:\\EnergyPlusV22-2-0\\energyplus.exe 42aa8011-f4be-43d3-842c-0beb193956c0.idf: 47it [00:06,  4.77it/s]INFO:ShoeBox:Command executed successfully.\n",
      "C:\\EnergyPlusV22-2-0\\ExpandObjects.EXE #0-f79d8163-25e1-4adf-baa8-2f59cacf4ff0.idf: 0.00it [00:00, ?it/s]INFO:42aa8011-f4be-43d3-842c-0beb193956c0.idf:Updating Shadowing Calculations, Start Date=12/07/2017\n",
      "                                                                                                         INFO:760fc8e5-9152-42af-9744-d12a0d45aa3a.idf:Initializing Simulation\n",
      "                                                                                                         INFO:44a3a699-feeb-45bc-93bd-537f9e0a9ed6.idf:Warming up {2}\n",
      "C:\\EnergyPlusV22-2-0\\energyplus.exe 760fc8e5-9152-42af-9744-d12a0d45aa3a.idf: 5it [00:01,  5.18it/s]INFO:42aa8011-f4be-43d3-842c-0beb193956c0.idf:Continuing Simulation at 12/07/2017 for CLIMATE STUDIO\n",
      "C:\\EnergyPlusV22-2-0\\energyplus.exe 42aa8011-f4be-43d3-842c-0beb193956c0.idf: 49it [00:06,  6.84it/s]"
     ]
    },
    {
     "name": "stdout",
     "output_type": "stream",
     "text": [
      "Initializing Simulation\n",
      "Warming up {2}\n",
      "Continuing Simulation at 12/07/2017 for CLIMATE STUDIO\n"
     ]
    },
    {
     "name": "stderr",
     "output_type": "stream",
     "text": [
      "C:\\EnergyPlusV22-2-0\\energyplus.exe 42aa8011-f4be-43d3-842c-0beb193956c0.idf: 49it [00:06,  6.84it/s]t/s]"
     ]
    },
    {
     "name": "stdout",
     "output_type": "stream",
     "text": [
      "Warming up {3}\n"
     ]
    },
    {
     "name": "stderr",
     "output_type": "stream",
     "text": [
      "                                                                                                         INFO:44a3a699-feeb-45bc-93bd-537f9e0a9ed6.idf:Warming up {3}\n",
      "C:\\EnergyPlusV22-2-0\\ExpandObjects.EXE #0-68a8f040-7069-4201-b73a-2b3173f5c8e4.idf: 0.00it [00:00, ?it/s]INFO:42aa8011-f4be-43d3-842c-0beb193956c0.idf:Updating Shadowing Calculations, Start Date=12/27/2017\n",
      "C:\\EnergyPlusV22-2-0\\energyplus.exe 760fc8e5-9152-42af-9744-d12a0d45aa3a.idf: 5it [00:01,  5.18it/s]it/s]"
     ]
    },
    {
     "name": "stdout",
     "output_type": "stream",
     "text": [
      "Updating Shadowing Calculations, Start Date=12/27/2017\n",
      "ExpandObjects Started.\n"
     ]
    },
    {
     "name": "stderr",
     "output_type": "stream",
     "text": [
      "C:\\EnergyPlusV22-2-0\\energyplus.exe 44a3a699-feeb-45bc-93bd-537f9e0a9ed6.idf: 11it [00:02,  5.54it/s]INFO:f79d8163-25e1-4adf-baa8-2f59cacf4ff0.idf:ExpandObjects Started.\n",
      "C:\\EnergyPlusV22-2-0\\energyplus.exe 42aa8011-f4be-43d3-842c-0beb193956c0.idf: 50it [00:07,  6.40it/s]92it/s]INFO:760fc8e5-9152-42af-9744-d12a0d45aa3a.idf:Reporting Surfaces\n",
      "C:\\EnergyPlusV22-2-0\\ExpandObjects.EXE #0-f79d8163-25e1-4adf-baa8-2f59cacf4ff0.idf: 1.00it [00:00, 2.92it/s]INFO:44a3a699-feeb-45bc-93bd-537f9e0a9ed6.idf:Warming up {4}\n",
      "C:\\EnergyPlusV22-2-0\\energyplus.exe 42aa8011-f4be-43d3-842c-0beb193956c0.idf: 50it [00:07,  6.40it/s]92it/s]INFO:68a8f040-7069-4201-b73a-2b3173f5c8e4.idf:ExpandObjects Started.\n",
      "C:\\EnergyPlusV22-2-0\\energyplus.exe 760fc8e5-9152-42af-9744-d12a0d45aa3a.idf: 6it [00:01,  3.65it/s]INFO:42aa8011-f4be-43d3-842c-0beb193956c0.idf:Continuing Simulation at 12/27/2017 for CLIMATE STUDIO\n",
      "C:\\EnergyPlusV22-2-0\\energyplus.exe 44a3a699-feeb-45bc-93bd-537f9e0a9ed6.idf: 12it [00:02,  4.68it/s]92it/s]INFO:f79d8163-25e1-4adf-baa8-2f59cacf4ff0.idf:No expanded file generated.\n",
      "C:\\EnergyPlusV22-2-0\\energyplus.exe 42aa8011-f4be-43d3-842c-0beb193956c0.idf: 51it [00:07,  4.81it/s]14it/s]INFO:760fc8e5-9152-42af-9744-d12a0d45aa3a.idf:Beginning Primary Simulation\n",
      "                                                                                                            \r"
     ]
    },
    {
     "name": "stdout",
     "output_type": "stream",
     "text": [
      "Reporting Surfaces\n",
      "Warming up {4}\n",
      "ExpandObjects Started.\n",
      "Continuing Simulation at 12/27/2017 for CLIMATE STUDIO\n",
      "No expanded file generated.\n",
      "Beginning Primary Simulation\n"
     ]
    },
    {
     "name": "stderr",
     "output_type": "stream",
     "text": [
      "C:\\EnergyPlusV22-2-0\\ExpandObjects.EXE #0-f79d8163-25e1-4adf-baa8-2f59cacf4ff0.idf: 2.00it [00:00, 3.14it/s]INFO:44a3a699-feeb-45bc-93bd-537f9e0a9ed6.idf:Warming up {5}\n",
      "C:\\EnergyPlusV22-2-0\\energyplus.exe 42aa8011-f4be-43d3-842c-0beb193956c0.idf: 51it [00:07,  4.81it/s]14it/s]INFO:68a8f040-7069-4201-b73a-2b3173f5c8e4.idf:No expanded file generated.\n",
      "C:\\EnergyPlusV22-2-0\\energyplus.exe 760fc8e5-9152-42af-9744-d12a0d45aa3a.idf: 7it [00:01,  4.13it/s]]14it/s]INFO:42aa8011-f4be-43d3-842c-0beb193956c0.idf:Writing tabular output file results using comma format.\n",
      "C:\\EnergyPlusV22-2-0\\energyplus.exe 44a3a699-feeb-45bc-93bd-537f9e0a9ed6.idf: 13it [00:02,  5.20it/s]14it/s]INFO:f79d8163-25e1-4adf-baa8-2f59cacf4ff0.idf:ExpandObjects Finished. Time:     0.078\n",
      "C:\\EnergyPlusV22-2-0\\energyplus.exe 42aa8011-f4be-43d3-842c-0beb193956c0.idf: 52it [00:07,  5.53it/s]14it/s]INFO:760fc8e5-9152-42af-9744-d12a0d45aa3a.idf:Initializing New Environment Parameters\n"
     ]
    },
    {
     "name": "stdout",
     "output_type": "stream",
     "text": [
      "Warming up {5}\n",
      "No expanded file generated.\n",
      "Writing tabular output file results using comma format.\n",
      "ExpandObjects Finished. Time:     0.078\n",
      "Initializing New Environment Parameters\n"
     ]
    },
    {
     "name": "stderr",
     "output_type": "stream",
     "text": [
      "C:\\EnergyPlusV22-2-0\\energyplus.exe 42aa8011-f4be-43d3-842c-0beb193956c0.idf: 52it [00:07,  5.53it/s]14it/s]INFO:44a3a699-feeb-45bc-93bd-537f9e0a9ed6.idf:Warming up {6}\n",
      "C:\\EnergyPlusV22-2-0\\energyplus.exe 42aa8011-f4be-43d3-842c-0beb193956c0.idf: 52it [00:07,  5.53it/s]14it/s]INFO:f79d8163-25e1-4adf-baa8-2f59cacf4ff0.idf:ExpandObjects completed in 0.73 seconds\n",
      "C:\\EnergyPlusV22-2-0\\energyplus.exe 42aa8011-f4be-43d3-842c-0beb193956c0.idf: 52it [00:07,  5.53it/s]93it/s]INFO:68a8f040-7069-4201-b73a-2b3173f5c8e4.idf:ExpandObjects Finished. Time:     0.109\n",
      "C:\\EnergyPlusV22-2-0\\energyplus.exe 42aa8011-f4be-43d3-842c-0beb193956c0.idf: 52it [00:07,  5.53it/s]93it/s]INFO:42aa8011-f4be-43d3-842c-0beb193956c0.idf:Writing tabular output file results using HTML format.\n",
      "C:\\EnergyPlusV22-2-0\\ExpandObjects.EXE #0-6f540b7c-6b78-4186-8080-27af11cceb69.idf: 0.00it [00:00, ?it/s]/s]INFO:760fc8e5-9152-42af-9744-d12a0d45aa3a.idf:Warming up {1}\n",
      "C:\\EnergyPlusV22-2-0\\energyplus.exe 42aa8011-f4be-43d3-842c-0beb193956c0.idf: 53it [00:07,  5.53it/s]t/s]/s]INFO:44a3a699-feeb-45bc-93bd-537f9e0a9ed6.idf:Starting Simulation at 01/01/2017 for CLIMATE STUDIO\n",
      "C:\\EnergyPlusV22-2-0\\energyplus.exe 42aa8011-f4be-43d3-842c-0beb193956c0.idf: 53it [00:07,  5.53it/s]t/s]/s]INFO:68a8f040-7069-4201-b73a-2b3173f5c8e4.idf:ExpandObjects completed in 0.52 seconds\n",
      "C:\\EnergyPlusV22-2-0\\energyplus.exe 760fc8e5-9152-42af-9744-d12a0d45aa3a.idf: 9it [00:02,  6.05it/s]]t/s]   INFO:42aa8011-f4be-43d3-842c-0beb193956c0.idf:Writing final SQL reports\n",
      "C:\\EnergyPlusV22-2-0\\ExpandObjects.EXE #0-f79d8163-25e1-4adf-baa8-2f59cacf4ff0.idf: 3.00it [00:00, 3.47it/s]\n",
      "                                                                                                     "
     ]
    },
    {
     "name": "stdout",
     "output_type": "stream",
     "text": [
      "Warming up {6}\n",
      "ExpandObjects completed in 0.73 seconds\n",
      "ExpandObjects Finished. Time:     0.109\n",
      "Writing tabular output file results using HTML format.\n",
      "Warming up {1}\n",
      "Starting Simulation at 01/01/2017 for CLIMATE STUDIO\n",
      "ExpandObjects completed in 0.52 seconds\n",
      "Writing final SQL reports\n"
     ]
    },
    {
     "name": "stderr",
     "output_type": "stream",
     "text": [
      "C:\\EnergyPlusV22-2-0\\energyplus.exe 42aa8011-f4be-43d3-842c-0beb193956c0.idf: 54it [00:07,  7.50it/s]t/s]INFO:760fc8e5-9152-42af-9744-d12a0d45aa3a.idf:Warming up {2}\n",
      "                                                                                                     \r"
     ]
    },
    {
     "name": "stdout",
     "output_type": "stream",
     "text": [
      "Warming up {2}\n"
     ]
    },
    {
     "name": "stderr",
     "output_type": "stream",
     "text": [
      "C:\\EnergyPlusV22-2-0\\ExpandObjects.EXE #0-68a8f040-7069-4201-b73a-2b3173f5c8e4.idf: 3.00it [00:00, 4.28it/s]INFO:44a3a699-feeb-45bc-93bd-537f9e0a9ed6.idf:Updating Shadowing Calculations, Start Date=01/21/2017\n",
      "\n",
      "C:\\EnergyPlusV22-2-0\\energyplus.exe 42aa8011-f4be-43d3-842c-0beb193956c0.idf: 54it [00:07,  7.50it/s]t/s]INFO:42aa8011-f4be-43d3-842c-0beb193956c0.idf:EnergyPlus Run Time=00hr 00min  6.10sec\n",
      "                                                                                                     INFO:760fc8e5-9152-42af-9744-d12a0d45aa3a.idf:Warming up {3}\n",
      "                                                                                                     \r"
     ]
    },
    {
     "name": "stdout",
     "output_type": "stream",
     "text": [
      "Updating Shadowing Calculations, Start Date=01/21/2017\n",
      "EnergyPlus Run Time=00hr 00min  6.10sec\n",
      "Warming up {3}\n"
     ]
    },
    {
     "name": "stderr",
     "output_type": "stream",
     "text": [
      "C:\\EnergyPlusV22-2-0\\energyplus.exe 44a3a699-feeb-45bc-93bd-537f9e0a9ed6.idf: 16it [00:03,  7.21it/s]t/s]INFO:6f540b7c-6b78-4186-8080-27af11cceb69.idf:ExpandObjects Started.\n",
      "C:\\EnergyPlusV22-2-0\\ExpandObjects.EXE #0-6f540b7c-6b78-4186-8080-27af11cceb69.idf: 1.00it [00:00, 3.79it/s]INFO:44a3a699-feeb-45bc-93bd-537f9e0a9ed6.idf:Continuing Simulation at 01/21/2017 for CLIMATE STUDIO\n",
      "C:\\EnergyPlusV22-2-0\\energyplus.exe 42aa8011-f4be-43d3-842c-0beb193956c0.idf: 55it [00:07,  7.67it/s]79it/s]INFO:42aa8011-f4be-43d3-842c-0beb193956c0.idf:EnergyPlus Completed in 7.71 seconds\n",
      "                                                                                                     \r"
     ]
    },
    {
     "name": "stdout",
     "output_type": "stream",
     "text": [
      "ExpandObjects Started.\n",
      "Continuing Simulation at 01/21/2017 for CLIMATE STUDIO\n",
      "EnergyPlus Completed in 7.71 seconds\n"
     ]
    },
    {
     "name": "stderr",
     "output_type": "stream",
     "text": [
      "C:\\EnergyPlusV22-2-0\\energyplus.exe 42aa8011-f4be-43d3-842c-0beb193956c0.idf: 55it [00:07,  7.67it/s]79it/s]INFO:760fc8e5-9152-42af-9744-d12a0d45aa3a.idf:Warming up {4}\n",
      "C:\\EnergyPlusV22-2-0\\energyplus.exe 44a3a699-feeb-45bc-93bd-537f9e0a9ed6.idf: 17it [00:03,  7.01it/s]79it/s]INFO:6f540b7c-6b78-4186-8080-27af11cceb69.idf:No expanded file generated.\n",
      "C:\\EnergyPlusV22-2-0\\energyplus.exe 42aa8011-f4be-43d3-842c-0beb193956c0.idf: 55it [00:07,  7.67it/s]27it/s]INFO:44a3a699-feeb-45bc-93bd-537f9e0a9ed6.idf:Updating Shadowing Calculations, Start Date=02/10/2017\n",
      "                                                                                                            \r"
     ]
    },
    {
     "name": "stdout",
     "output_type": "stream",
     "text": [
      "Warming up {4}\n",
      "No expanded file generated.\n",
      "Updating Shadowing Calculations, Start Date=02/10/2017\n"
     ]
    },
    {
     "name": "stderr",
     "output_type": "stream",
     "text": [
      "C:\\EnergyPlusV22-2-0\\energyplus.exe 42aa8011-f4be-43d3-842c-0beb193956c0.idf: 55it [00:07,  7.67it/s]27it/s]INFO:760fc8e5-9152-42af-9744-d12a0d45aa3a.idf:Warming up {5}\n",
      "C:\\EnergyPlusV22-2-0\\energyplus.exe 42aa8011-f4be-43d3-842c-0beb193956c0.idf: 55it [00:07,  7.67it/s]27it/s]INFO:6f540b7c-6b78-4186-8080-27af11cceb69.idf:ExpandObjects Finished. Time:     0.078\n",
      "                                                                                                     INFO:760fc8e5-9152-42af-9744-d12a0d45aa3a.idf:Warming up {6}\n",
      "                                                                                                     27it/s]INFO:44a3a699-feeb-45bc-93bd-537f9e0a9ed6.idf:Continuing Simulation at 02/10/2017 for CLIMATE STUDIO\n",
      "C:\\EnergyPlusV22-2-0\\energyplus.exe 42aa8011-f4be-43d3-842c-0beb193956c0.idf: 55it [00:07,  7.67it/s]27it/s]INFO:6f540b7c-6b78-4186-8080-27af11cceb69.idf:ExpandObjects completed in 0.44 seconds\n",
      "C:\\EnergyPlusV22-2-0\\energyplus.exe 42aa8011-f4be-43d3-842c-0beb193956c0.idf: 55it [00:07,  7.67it/s]INFO:760fc8e5-9152-42af-9744-d12a0d45aa3a.idf:Starting Simulation at 01/01/2017 for CLIMATE STUDIO\n",
      "                                                                                                     \r"
     ]
    },
    {
     "name": "stdout",
     "output_type": "stream",
     "text": [
      "Warming up {5}\n",
      "ExpandObjects Finished. Time:     0.078\n",
      "Warming up {6}\n",
      "Continuing Simulation at 02/10/2017 for CLIMATE STUDIO\n",
      "ExpandObjects completed in 0.44 seconds\n",
      "Starting Simulation at 01/01/2017 for CLIMATE STUDIO\n"
     ]
    },
    {
     "name": "stderr",
     "output_type": "stream",
     "text": [
      "C:\\EnergyPlusV22-2-0\\energyplus.exe 760fc8e5-9152-42af-9744-d12a0d45aa3a.idf: 15it [00:02, 10.15it/s]INFO:44a3a699-feeb-45bc-93bd-537f9e0a9ed6.idf:Updating Shadowing Calculations, Start Date=03/02/2017\n",
      "C:\\EnergyPlusV22-2-0\\ExpandObjects.EXE #0-6f540b7c-6b78-4186-8080-27af11cceb69.idf: 3.00it [00:00, 5.13it/s]\n",
      "C:\\EnergyPlusV22-2-0\\energyplus.exe 44a3a699-feeb-45bc-93bd-537f9e0a9ed6.idf: 20it [00:03,  8.68it/s]INFO:760fc8e5-9152-42af-9744-d12a0d45aa3a.idf:Updating Shadowing Calculations, Start Date=01/21/2017\n"
     ]
    },
    {
     "name": "stdout",
     "output_type": "stream",
     "text": [
      "Updating Shadowing Calculations, Start Date=03/02/2017\n",
      "Updating Shadowing Calculations, Start Date=01/21/2017\n"
     ]
    },
    {
     "name": "stderr",
     "output_type": "stream",
     "text": [
      "                                                                                                     INFO:44a3a699-feeb-45bc-93bd-537f9e0a9ed6.idf:Continuing Simulation at 03/02/2017 for CLIMATE STUDIO\n",
      "C:\\EnergyPlusV22-2-0\\energyplus.exe 44a3a699-feeb-45bc-93bd-537f9e0a9ed6.idf: 21it [00:03,  8.76it/s]"
     ]
    },
    {
     "name": "stdout",
     "output_type": "stream",
     "text": [
      "Continuing Simulation at 03/02/2017 for CLIMATE STUDIO\n",
      "Continuing Simulation at 01/21/2017 for CLIMATE STUDIO\n"
     ]
    },
    {
     "name": "stderr",
     "output_type": "stream",
     "text": [
      "INFO:760fc8e5-9152-42af-9744-d12a0d45aa3a.idf:Continuing Simulation at 01/21/2017 for CLIMATE STUDIO\n",
      "C:\\EnergyPlusV22-2-0\\energyplus.exe 760fc8e5-9152-42af-9744-d12a0d45aa3a.idf: 17it [00:02,  9.57it/s]INFO:44a3a699-feeb-45bc-93bd-537f9e0a9ed6.idf:Updating Shadowing Calculations, Start Date=03/22/2017\n",
      "                                                                                                     INFO:760fc8e5-9152-42af-9744-d12a0d45aa3a.idf:Updating Shadowing Calculations, Start Date=02/10/2017\n",
      "C:\\EnergyPlusV22-2-0\\energyplus.exe 42aa8011-f4be-43d3-842c-0beb193956c0.idf: 55it [00:08,  7.67it/s]INFO:44a3a699-feeb-45bc-93bd-537f9e0a9ed6.idf:Continuing Simulation at 03/22/2017 for CLIMATE STUDIO\n",
      "C:\\EnergyPlusV22-2-0\\energyplus.exe 44a3a699-feeb-45bc-93bd-537f9e0a9ed6.idf: 23it [00:03, 10.41it/s]INFO:760fc8e5-9152-42af-9744-d12a0d45aa3a.idf:Continuing Simulation at 02/10/2017 for CLIMATE STUDIO\n",
      "C:\\EnergyPlusV22-2-0\\energyplus.exe 42aa8011-f4be-43d3-842c-0beb193956c0.idf: 55it [00:08,  7.67it/s]"
     ]
    },
    {
     "name": "stdout",
     "output_type": "stream",
     "text": [
      "Updating Shadowing Calculations, Start Date=03/22/2017\n",
      "Updating Shadowing Calculations, Start Date=02/10/2017\n",
      "Continuing Simulation at 03/22/2017 for CLIMATE STUDIO\n",
      "Continuing Simulation at 02/10/2017 for CLIMATE STUDIO\n",
      "Updating Shadowing Calculations, Start Date=04/11/2017\n"
     ]
    },
    {
     "name": "stderr",
     "output_type": "stream",
     "text": [
      "INFO:44a3a699-feeb-45bc-93bd-537f9e0a9ed6.idf:Updating Shadowing Calculations, Start Date=04/11/2017\n",
      "                                                                                                     INFO:760fc8e5-9152-42af-9744-d12a0d45aa3a.idf:Updating Shadowing Calculations, Start Date=03/02/2017\n",
      "C:\\EnergyPlusV22-2-0\\energyplus.exe 760fc8e5-9152-42af-9744-d12a0d45aa3a.idf: 20it [00:02, 12.75it/s]INFO:44a3a699-feeb-45bc-93bd-537f9e0a9ed6.idf:Continuing Simulation at 04/11/2017 for CLIMATE STUDIO\n",
      "C:\\EnergyPlusV22-2-0\\energyplus.exe 42aa8011-f4be-43d3-842c-0beb193956c0.idf: 55it [00:08,  7.67it/s]INFO:760fc8e5-9152-42af-9744-d12a0d45aa3a.idf:Continuing Simulation at 03/02/2017 for CLIMATE STUDIO\n",
      "C:\\EnergyPlusV22-2-0\\energyplus.exe 42aa8011-f4be-43d3-842c-0beb193956c0.idf: 55it [00:08,  7.67it/s]INFO:44a3a699-feeb-45bc-93bd-537f9e0a9ed6.idf:Updating Shadowing Calculations, Start Date=05/01/2017\n",
      "C:\\EnergyPlusV22-2-0\\energyplus.exe 44a3a699-feeb-45bc-93bd-537f9e0a9ed6.idf: 26it [00:03, 14.86it/s]INFO:760fc8e5-9152-42af-9744-d12a0d45aa3a.idf:Updating Shadowing Calculations, Start Date=03/22/2017\n"
     ]
    },
    {
     "name": "stdout",
     "output_type": "stream",
     "text": [
      "Updating Shadowing Calculations, Start Date=03/02/2017\n",
      "Continuing Simulation at 04/11/2017 for CLIMATE STUDIO\n",
      "Continuing Simulation at 03/02/2017 for CLIMATE STUDIO\n",
      "Updating Shadowing Calculations, Start Date=05/01/2017\n",
      "Updating Shadowing Calculations, Start Date=03/22/2017\n"
     ]
    },
    {
     "name": "stderr",
     "output_type": "stream",
     "text": [
      "simulate:  50%|█████     | 6.00/12.0 [00:25<00:12, 2.00s/runs]7f9e0a9ed6.idf: 26it [00:03, 14.86it/s]INFO:44a3a699-feeb-45bc-93bd-537f9e0a9ed6.idf:Continuing Simulation at 05/01/2017 for CLIMATE STUDIO\n",
      "simulate:  50%|█████     | 6.00/12.0 [00:25<00:12, 2.00s/runs]7f9e0a9ed6.idf: 27it [00:04, 14.86it/s]INFO:760fc8e5-9152-42af-9744-d12a0d45aa3a.idf:Continuing Simulation at 03/22/2017 for CLIMATE STUDIO\n",
      "C:\\EnergyPlusV22-2-0\\energyplus.exe 44a3a699-feeb-45bc-93bd-537f9e0a9ed6.idf: 27it [00:04, 14.86it/s]"
     ]
    },
    {
     "name": "stdout",
     "output_type": "stream",
     "text": [
      "Continuing Simulation at 05/01/2017 for CLIMATE STUDIO\n",
      "Continuing Simulation at 03/22/2017 for CLIMATE STUDIO\n",
      "Updating Shadowing Calculations, Start Date=05/21/2017\n"
     ]
    },
    {
     "name": "stderr",
     "output_type": "stream",
     "text": [
      "simulate:  50%|█████     | 6.00/12.0 [00:25<00:12, 2.00s/runs]INFO:44a3a699-feeb-45bc-93bd-537f9e0a9ed6.idf:Updating Shadowing Calculations, Start Date=05/21/2017\n",
      "C:\\EnergyPlusV22-2-0\\energyplus.exe 42aa8011-f4be-43d3-842c-0beb193956c0.idf: 55it [00:08,  6.46it/s]\n",
      "simulate:  50%|█████     | 6.00/12.0 [00:25<00:12, 2.00s/runs]7f9e0a9ed6.idf: 28it [00:04, 15.46it/s]INFO:760fc8e5-9152-42af-9744-d12a0d45aa3a.idf:Updating Shadowing Calculations, Start Date=04/11/2017\n",
      "                                                                                                     \r"
     ]
    },
    {
     "name": "stdout",
     "output_type": "stream",
     "text": [
      "Updating Shadowing Calculations, Start Date=04/11/2017\n"
     ]
    },
    {
     "name": "stderr",
     "output_type": "stream",
     "text": [
      "simulate:  50%|█████     | 6.00/12.0 [00:25<00:12, 2.00s/runs]7f9e0a9ed6.idf: 28it [00:04, 15.46it/s]INFO:44a3a699-feeb-45bc-93bd-537f9e0a9ed6.idf:Continuing Simulation at 05/21/2017 for CLIMATE STUDIO\n",
      "C:\\EnergyPlusV22-2-0\\energyplus.exe 44a3a699-feeb-45bc-93bd-537f9e0a9ed6.idf: 29it [00:04, 13.70it/s]INFO:760fc8e5-9152-42af-9744-d12a0d45aa3a.idf:Continuing Simulation at 04/11/2017 for CLIMATE STUDIO\n",
      "C:\\EnergyPlusV22-2-0\\energyplus.exe 760fc8e5-9152-42af-9744-d12a0d45aa3a.idf: 25it [00:03, 14.13it/s]"
     ]
    },
    {
     "name": "stdout",
     "output_type": "stream",
     "text": [
      "Continuing Simulation at 05/21/2017 for CLIMATE STUDIO\n",
      "Continuing Simulation at 04/11/2017 for CLIMATE STUDIO\n"
     ]
    },
    {
     "name": "stderr",
     "output_type": "stream",
     "text": [
      "simulate:  50%|█████     | 6.00/12.0 [00:25<00:12, 2.00s/runs]7f9e0a9ed6.idf: 29it [00:04, 13.70it/s]INFO:44a3a699-feeb-45bc-93bd-537f9e0a9ed6.idf:Updating Shadowing Calculations, Start Date=06/10/2017\n",
      "C:\\EnergyPlusV22-2-0\\energyplus.exe f79d8163-25e1-4adf-baa8-2f59cacf4ff0.idf: 0it [00:00, ?it/s]it/s]INFO:760fc8e5-9152-42af-9744-d12a0d45aa3a.idf:Updating Shadowing Calculations, Start Date=05/01/2017\n",
      "                                                                                                it/s]\r"
     ]
    },
    {
     "name": "stdout",
     "output_type": "stream",
     "text": [
      "Updating Shadowing Calculations, Start Date=06/10/2017\n",
      "Updating Shadowing Calculations, Start Date=05/01/2017\n"
     ]
    },
    {
     "name": "stderr",
     "output_type": "stream",
     "text": [
      "simulate:  50%|█████     | 6.00/12.0 [00:26<00:12, 2.00s/runs]7f9e0a9ed6.idf: 30it [00:04, 11.42it/s]INFO:44a3a699-feeb-45bc-93bd-537f9e0a9ed6.idf:Continuing Simulation at 06/10/2017 for CLIMATE STUDIO\n",
      "                                                                                                it/s]INFO:760fc8e5-9152-42af-9744-d12a0d45aa3a.idf:Continuing Simulation at 05/01/2017 for CLIMATE STUDIO\n",
      "simulate:  50%|█████     | 6.00/12.0 [00:26<00:12, 2.00s/runs]7f9e0a9ed6.idf: 31it [00:04, 11.42it/s]INFO:f79d8163-25e1-4adf-baa8-2f59cacf4ff0.idf:Simulation started\n",
      "simulate:  50%|█████     | 6.00/12.0 [00:26<00:12, 2.00s/runs]7f9e0a9ed6.idf: 31it [00:04, 11.42it/s]INFO:44a3a699-feeb-45bc-93bd-537f9e0a9ed6.idf:Updating Shadowing Calculations, Start Date=06/30/2017\n",
      "simulate:  50%|█████     | 6.00/12.0 [00:26<00:12, 2.00s/runs]7f9e0a9ed6.idf: 32it [00:04, 13.42it/s]INFO:760fc8e5-9152-42af-9744-d12a0d45aa3a.idf:Updating Shadowing Calculations, Start Date=05/21/2017\n",
      "C:\\EnergyPlusV22-2-0\\energyplus.exe 44a3a699-feeb-45bc-93bd-537f9e0a9ed6.idf: 32it [00:04, 13.42it/s]"
     ]
    },
    {
     "name": "stdout",
     "output_type": "stream",
     "text": [
      "Continuing Simulation at 06/10/2017 for CLIMATE STUDIO\n",
      "Continuing Simulation at 05/01/2017 for CLIMATE STUDIO\n",
      "Simulation started\n",
      "Updating Shadowing Calculations, Start Date=06/30/2017\n",
      "Updating Shadowing Calculations, Start Date=05/21/2017\n"
     ]
    },
    {
     "name": "stderr",
     "output_type": "stream",
     "text": [
      "C:\\EnergyPlusV22-2-0\\energyplus.exe 68a8f040-7069-4201-b73a-2b3173f5c8e4.idf: 0it [00:00, ?it/s]INFO:44a3a699-feeb-45bc-93bd-537f9e0a9ed6.idf:Continuing Simulation at 06/30/2017 for CLIMATE STUDIO\n",
      "simulate:  50%|█████     | 6.00/12.0 [00:26<00:12, 2.00s/runs]7f9e0a9ed6.idf: 33it [00:04, 13.42it/s]"
     ]
    },
    {
     "name": "stdout",
     "output_type": "stream",
     "text": [
      "Continuing Simulation at 06/30/2017 for CLIMATE STUDIO\n",
      "Continuing Simulation at 05/21/2017 for CLIMATE STUDIO\n"
     ]
    },
    {
     "name": "stderr",
     "output_type": "stream",
     "text": [
      "INFO:760fc8e5-9152-42af-9744-d12a0d45aa3a.idf:Continuing Simulation at 05/21/2017 for CLIMATE STUDIO\n",
      "simulate:  50%|█████     | 6.00/12.0 [00:26<00:12, 2.00s/runs]7f9e0a9ed6.idf: 33it [00:04, 13.42it/s]INFO:44a3a699-feeb-45bc-93bd-537f9e0a9ed6.idf:Updating Shadowing Calculations, Start Date=07/20/2017\n",
      "simulate:  50%|█████     | 6.00/12.0 [00:26<00:12, 2.00s/runs]7f9e0a9ed6.idf: 34it [00:04, 13.42it/s]"
     ]
    },
    {
     "name": "stdout",
     "output_type": "stream",
     "text": [
      "Updating Shadowing Calculations, Start Date=07/20/2017\n",
      "Simulation started\n"
     ]
    },
    {
     "name": "stderr",
     "output_type": "stream",
     "text": [
      "INFO:68a8f040-7069-4201-b73a-2b3173f5c8e4.idf:Simulation started\n",
      "simulate:  50%|█████     | 6.00/12.0 [00:26<00:12, 2.00s/runs]7f9e0a9ed6.idf: 34it [00:04, 13.42it/s]INFO:44a3a699-feeb-45bc-93bd-537f9e0a9ed6.idf:Continuing Simulation at 07/20/2017 for CLIMATE STUDIO\n",
      "simulate:  50%|█████     | 6.00/12.0 [00:26<00:12, 2.00s/runs]7f9e0a9ed6.idf: 35it [00:04, 16.10it/s]INFO:44a3a699-feeb-45bc-93bd-537f9e0a9ed6.idf:Updating Shadowing Calculations, Start Date=08/09/2017\n",
      "simulate:  50%|█████     | 6.00/12.0 [00:26<00:12, 2.00s/runs]7f9e0a9ed6.idf: 36it [00:04, 16.10it/s]INFO:44a3a699-feeb-45bc-93bd-537f9e0a9ed6.idf:Continuing Simulation at 08/09/2017 for CLIMATE STUDIO\n",
      "simulate:  50%|█████     | 6.00/12.0 [00:26<00:12, 2.00s/runs]7f9e0a9ed6.idf: 37it [00:04, 16.10it/s]INFO:44a3a699-feeb-45bc-93bd-537f9e0a9ed6.idf:Updating Shadowing Calculations, Start Date=08/29/2017\n",
      "                                                                                                it/s]INFO:f79d8163-25e1-4adf-baa8-2f59cacf4ff0.idf:EnergyPlus Starting\n",
      "\r"
     ]
    },
    {
     "name": "stdout",
     "output_type": "stream",
     "text": [
      "Continuing Simulation at 07/20/2017 for CLIMATE STUDIO\n",
      "Updating Shadowing Calculations, Start Date=08/09/2017\n",
      "Continuing Simulation at 08/09/2017 for CLIMATE STUDIO\n",
      "Updating Shadowing Calculations, Start Date=08/29/2017\n",
      "EnergyPlus Starting\n"
     ]
    },
    {
     "name": "stderr",
     "output_type": "stream",
     "text": [
      "C:\\EnergyPlusV22-2-0\\energyplus.exe f79d8163-25e1-4adf-baa8-2f59cacf4ff0.idf: 1it [00:00,  3.23it/s]]INFO:44a3a699-feeb-45bc-93bd-537f9e0a9ed6.idf:Continuing Simulation at 08/29/2017 for CLIMATE STUDIO\n",
      "simulate:  50%|█████     | 6.00/12.0 [00:26<00:12, 2.00s/runs]7f9e0a9ed6.idf: 39it [00:04, 16.10it/s]"
     ]
    },
    {
     "name": "stdout",
     "output_type": "stream",
     "text": [
      "Continuing Simulation at 08/29/2017 for CLIMATE STUDIO\n",
      "EnergyPlus, Version 22.2.0-c249759bad, YMD=2023.12.05 15:44\n"
     ]
    },
    {
     "name": "stderr",
     "output_type": "stream",
     "text": [
      "                                                                                                INFO:f79d8163-25e1-4adf-baa8-2f59cacf4ff0.idf:EnergyPlus, Version 22.2.0-c249759bad, YMD=2023.12.05 15:44\n",
      "C:\\EnergyPlusV22-2-0\\energyplus.exe 760fc8e5-9152-42af-9744-d12a0d45aa3a.idf: 29it [00:03, 13.79it/s]"
     ]
    },
    {
     "name": "stdout",
     "output_type": "stream",
     "text": [
      "Updating Shadowing Calculations, Start Date=06/10/2017\n"
     ]
    },
    {
     "name": "stderr",
     "output_type": "stream",
     "text": [
      "simulate:  50%|█████     | 6.00/12.0 [00:26<00:12, 2.00s/runs]7f9e0a9ed6.idf: 39it [00:04, 16.10it/s]INFO:760fc8e5-9152-42af-9744-d12a0d45aa3a.idf:Updating Shadowing Calculations, Start Date=06/10/2017\n",
      "simulate:  50%|█████     | 6.00/12.0 [00:26<00:12, 2.00s/runs]7f9e0a9ed6.idf: 39it [00:04, 16.10it/s]INFO:760fc8e5-9152-42af-9744-d12a0d45aa3a.idf:Continuing Simulation at 06/10/2017 for CLIMATE STUDIO\n",
      "simulate:  50%|█████     | 6.00/12.0 [00:26<00:12, 2.00s/runs]7f9e0a9ed6.idf: 39it [00:04, 16.10it/s]"
     ]
    },
    {
     "name": "stdout",
     "output_type": "stream",
     "text": [
      "Continuing Simulation at 06/10/2017 for CLIMATE STUDIO\n",
      "EnergyPlus Starting\n"
     ]
    },
    {
     "name": "stderr",
     "output_type": "stream",
     "text": [
      "INFO:68a8f040-7069-4201-b73a-2b3173f5c8e4.idf:EnergyPlus Starting\n",
      "C:\\EnergyPlusV22-2-0\\energyplus.exe 44a3a699-feeb-45bc-93bd-537f9e0a9ed6.idf: 39it [00:04, 16.10it/s]"
     ]
    },
    {
     "name": "stdout",
     "output_type": "stream",
     "text": [
      "EnergyPlus, Version 22.2.0-c249759bad, YMD=2023.12.05 15:44\n"
     ]
    },
    {
     "name": "stderr",
     "output_type": "stream",
     "text": [
      "C:\\EnergyPlusV22-2-0\\energyplus.exe 6f540b7c-6b78-4186-8080-27af11cceb69.idf: 0it [00:00, ?it/s]INFO:68a8f040-7069-4201-b73a-2b3173f5c8e4.idf:EnergyPlus, Version 22.2.0-c249759bad, YMD=2023.12.05 15:44\n",
      "C:\\EnergyPlusV22-2-0\\energyplus.exe 6f540b7c-6b78-4186-8080-27af11cceb69.idf: 0it [00:00, ?it/s]it/s]INFO:6f540b7c-6b78-4186-8080-27af11cceb69.idf:Simulation started\n",
      "                                                                                                    \r"
     ]
    },
    {
     "name": "stdout",
     "output_type": "stream",
     "text": [
      "Simulation started\n"
     ]
    },
    {
     "name": "stderr",
     "output_type": "stream",
     "text": [
      "C:\\EnergyPlusV22-2-0\\energyplus.exe 6f540b7c-6b78-4186-8080-27af11cceb69.idf: 0it [00:00, ?it/s]it/s]INFO:44a3a699-feeb-45bc-93bd-537f9e0a9ed6.idf:Updating Shadowing Calculations, Start Date=09/18/2017\n",
      "                                                                                                     "
     ]
    },
    {
     "name": "stdout",
     "output_type": "stream",
     "text": [
      "Updating Shadowing Calculations, Start Date=09/18/2017\n"
     ]
    },
    {
     "name": "stderr",
     "output_type": "stream",
     "text": [
      "C:\\EnergyPlusV22-2-0\\energyplus.exe 6f540b7c-6b78-4186-8080-27af11cceb69.idf: 0it [00:00, ?it/s]it/s]INFO:44a3a699-feeb-45bc-93bd-537f9e0a9ed6.idf:Continuing Simulation at 09/18/2017 for CLIMATE STUDIO\n"
     ]
    },
    {
     "name": "stdout",
     "output_type": "stream",
     "text": [
      "Continuing Simulation at 09/18/2017 for CLIMATE STUDIO\n"
     ]
    },
    {
     "name": "stderr",
     "output_type": "stream",
     "text": [
      "C:\\EnergyPlusV22-2-0\\energyplus.exe 6f540b7c-6b78-4186-8080-27af11cceb69.idf: 0it [00:00, ?it/s]it/s]INFO:f79d8163-25e1-4adf-baa8-2f59cacf4ff0.idf:Adjusting Air System Sizing\n",
      "C:\\EnergyPlusV22-2-0\\energyplus.exe f79d8163-25e1-4adf-baa8-2f59cacf4ff0.idf: 3it [00:00,  4.42it/s]INFO:760fc8e5-9152-42af-9744-d12a0d45aa3a.idf:Updating Shadowing Calculations, Start Date=06/30/2017\n",
      "C:\\EnergyPlusV22-2-0\\energyplus.exe 6f540b7c-6b78-4186-8080-27af11cceb69.idf: 0it [00:00, ?it/s]it/s]INFO:f79d8163-25e1-4adf-baa8-2f59cacf4ff0.idf:Adjusting Standard 62.1 Ventilation Sizing\n",
      "                                                                                                     "
     ]
    },
    {
     "name": "stdout",
     "output_type": "stream",
     "text": [
      "Adjusting Air System Sizing\n",
      "Updating Shadowing Calculations, Start Date=06/30/2017\n",
      "Adjusting Standard 62.1 Ventilation Sizing\n"
     ]
    },
    {
     "name": "stderr",
     "output_type": "stream",
     "text": [
      "                                                                                                    INFO:760fc8e5-9152-42af-9744-d12a0d45aa3a.idf:Continuing Simulation at 06/30/2017 for CLIMATE STUDIO\n",
      "                                                                                                     "
     ]
    },
    {
     "name": "stdout",
     "output_type": "stream",
     "text": [
      "Continuing Simulation at 06/30/2017 for CLIMATE STUDIO\n"
     ]
    },
    {
     "name": "stderr",
     "output_type": "stream",
     "text": [
      "C:\\EnergyPlusV22-2-0\\energyplus.exe f79d8163-25e1-4adf-baa8-2f59cacf4ff0.idf: 4it [00:00,  4.42it/s]INFO:archetypal:collected data for ['Zone Ideal Loads Supply Air Total Heating Energy', 'Zone Ideal Loads Supply Air Total Cooling Energy']\n",
      "C:\\EnergyPlusV22-2-0\\energyplus.exe 6f540b7c-6b78-4186-8080-27af11cceb69.idf: 0it [00:00, ?it/s]it/s]INFO:68a8f040-7069-4201-b73a-2b3173f5c8e4.idf:Adjusting Air System Sizing\n",
      "                                                                                                     \r"
     ]
    },
    {
     "name": "stdout",
     "output_type": "stream",
     "text": [
      "Adjusting Air System Sizing\n"
     ]
    },
    {
     "name": "stderr",
     "output_type": "stream",
     "text": [
      "C:\\EnergyPlusV22-2-0\\energyplus.exe 6f540b7c-6b78-4186-8080-27af11cceb69.idf: 0it [00:00, ?it/s]it/s]INFO:f79d8163-25e1-4adf-baa8-2f59cacf4ff0.idf:Initializing Simulation\n",
      "C:\\EnergyPlusV22-2-0\\energyplus.exe 6f540b7c-6b78-4186-8080-27af11cceb69.idf: 0it [00:00, ?it/s]it/s]INFO:6f540b7c-6b78-4186-8080-27af11cceb69.idf:EnergyPlus Starting\n",
      "C:\\EnergyPlusV22-2-0\\energyplus.exe 68a8f040-7069-4201-b73a-2b3173f5c8e4.idf: 3it [00:00,  4.38it/s]]INFO:44a3a699-feeb-45bc-93bd-537f9e0a9ed6.idf:Updating Shadowing Calculations, Start Date=10/08/2017\n",
      "INFO:archetypal:collected data for ['Zone Ideal Loads Supply Air Total Heating Energy', 'Zone Ideal Loads Supply Air Total Cooling Energy']\n"
     ]
    },
    {
     "name": "stdout",
     "output_type": "stream",
     "text": [
      "Initializing Simulation\n",
      "EnergyPlus Starting\n",
      "Updating Shadowing Calculations, Start Date=10/08/2017\n"
     ]
    },
    {
     "name": "stderr",
     "output_type": "stream",
     "text": [
      "C:\\EnergyPlusV22-2-0\\energyplus.exe 6f540b7c-6b78-4186-8080-27af11cceb69.idf: 1it [00:00,  2.41it/s]]"
     ]
    },
    {
     "name": "stdout",
     "output_type": "stream",
     "text": [
      "Adjusting Standard 62.1 Ventilation Sizing\n"
     ]
    },
    {
     "name": "stderr",
     "output_type": "stream",
     "text": [
      "C:\\EnergyPlusV22-2-0\\energyplus.exe 44a3a699-feeb-45bc-93bd-537f9e0a9ed6.idf: 42it [00:05, 11.33it/s]INFO:68a8f040-7069-4201-b73a-2b3173f5c8e4.idf:Adjusting Standard 62.1 Ventilation Sizing\n",
      "C:\\EnergyPlusV22-2-0\\energyplus.exe 6f540b7c-6b78-4186-8080-27af11cceb69.idf: 1it [00:00,  2.41it/s]]INFO:6f540b7c-6b78-4186-8080-27af11cceb69.idf:EnergyPlus, Version 22.2.0-c249759bad, YMD=2023.12.05 15:44\n",
      "                                                                                                     \r"
     ]
    },
    {
     "name": "stdout",
     "output_type": "stream",
     "text": [
      "EnergyPlus, Version 22.2.0-c249759bad, YMD=2023.12.05 15:44\n"
     ]
    },
    {
     "name": "stderr",
     "output_type": "stream",
     "text": [
      "C:\\EnergyPlusV22-2-0\\energyplus.exe 6f540b7c-6b78-4186-8080-27af11cceb69.idf: 2it [00:00,  3.78it/s]]INFO:760fc8e5-9152-42af-9744-d12a0d45aa3a.idf:Updating Shadowing Calculations, Start Date=07/20/2017\n",
      "C:\\EnergyPlusV22-2-0\\energyplus.exe 68a8f040-7069-4201-b73a-2b3173f5c8e4.idf: 4it [00:00,  4.77it/s]]INFO:44a3a699-feeb-45bc-93bd-537f9e0a9ed6.idf:Continuing Simulation at 10/08/2017 for CLIMATE STUDIO\n",
      "C:\\EnergyPlusV22-2-0\\energyplus.exe 44a3a699-feeb-45bc-93bd-537f9e0a9ed6.idf: 43it [00:05, 10.00it/s]INFO:68a8f040-7069-4201-b73a-2b3173f5c8e4.idf:Initializing Simulation\n",
      "C:\\EnergyPlusV22-2-0\\energyplus.exe 6f540b7c-6b78-4186-8080-27af11cceb69.idf: 2it [00:00,  3.78it/s]]INFO:760fc8e5-9152-42af-9744-d12a0d45aa3a.idf:Continuing Simulation at 07/20/2017 for CLIMATE STUDIO\n",
      "C:\\EnergyPlusV22-2-0\\energyplus.exe 6f540b7c-6b78-4186-8080-27af11cceb69.idf: 2it [00:00,  3.78it/s]]INFO:6f540b7c-6b78-4186-8080-27af11cceb69.idf:Adjusting Air System Sizing\n",
      "C:\\EnergyPlusV22-2-0\\energyplus.exe 6f540b7c-6b78-4186-8080-27af11cceb69.idf: 3it [00:00,  3.78it/s]]INFO:44a3a699-feeb-45bc-93bd-537f9e0a9ed6.idf:Updating Shadowing Calculations, Start Date=10/28/2017\n",
      "C:\\EnergyPlusV22-2-0\\energyplus.exe 6f540b7c-6b78-4186-8080-27af11cceb69.idf: 3it [00:00,  3.78it/s]]INFO:6f540b7c-6b78-4186-8080-27af11cceb69.idf:Adjusting Standard 62.1 Ventilation Sizing\n",
      "C:\\EnergyPlusV22-2-0\\energyplus.exe 6f540b7c-6b78-4186-8080-27af11cceb69.idf: 4it [00:00,  3.78it/s]]INFO:44a3a699-feeb-45bc-93bd-537f9e0a9ed6.idf:Continuing Simulation at 10/28/2017 for CLIMATE STUDIO\n",
      "C:\\EnergyPlusV22-2-0\\energyplus.exe 6f540b7c-6b78-4186-8080-27af11cceb69.idf: 4it [00:00,  3.78it/s]]INFO:6f540b7c-6b78-4186-8080-27af11cceb69.idf:Initializing Simulation\n",
      "C:\\EnergyPlusV22-2-0\\energyplus.exe 6f540b7c-6b78-4186-8080-27af11cceb69.idf: 5it [00:00,  9.59it/s]"
     ]
    },
    {
     "name": "stdout",
     "output_type": "stream",
     "text": [
      "Updating Shadowing Calculations, Start Date=07/20/2017\n",
      "Continuing Simulation at 10/08/2017 for CLIMATE STUDIO\n",
      "Initializing Simulation\n",
      "Continuing Simulation at 07/20/2017 for CLIMATE STUDIO\n",
      "Adjusting Air System Sizing\n",
      "Updating Shadowing Calculations, Start Date=10/28/2017\n",
      "Adjusting Standard 62.1 Ventilation Sizing\n",
      "Continuing Simulation at 10/28/2017 for CLIMATE STUDIO\n",
      "Initializing Simulation\n"
     ]
    },
    {
     "name": "stderr",
     "output_type": "stream",
     "text": [
      "C:\\EnergyPlusV22-2-0\\energyplus.exe 6f540b7c-6b78-4186-8080-27af11cceb69.idf: 5it [00:00,  9.59it/s]]INFO:760fc8e5-9152-42af-9744-d12a0d45aa3a.idf:Updating Shadowing Calculations, Start Date=08/09/2017\n",
      "C:\\EnergyPlusV22-2-0\\energyplus.exe 6f540b7c-6b78-4186-8080-27af11cceb69.idf: 5it [00:00,  9.59it/s]]INFO:760fc8e5-9152-42af-9744-d12a0d45aa3a.idf:Continuing Simulation at 08/09/2017 for CLIMATE STUDIO\n",
      "C:\\EnergyPlusV22-2-0\\energyplus.exe 6f540b7c-6b78-4186-8080-27af11cceb69.idf: 5it [00:00,  9.59it/s]]INFO:44a3a699-feeb-45bc-93bd-537f9e0a9ed6.idf:Updating Shadowing Calculations, Start Date=11/17/2017\n",
      "C:\\EnergyPlusV22-2-0\\energyplus.exe 6f540b7c-6b78-4186-8080-27af11cceb69.idf: 5it [00:00,  9.59it/s]]INFO:44a3a699-feeb-45bc-93bd-537f9e0a9ed6.idf:Continuing Simulation at 11/17/2017 for CLIMATE STUDIO\n"
     ]
    },
    {
     "name": "stdout",
     "output_type": "stream",
     "text": [
      "Updating Shadowing Calculations, Start Date=08/09/2017\n",
      "Continuing Simulation at 08/09/2017 for CLIMATE STUDIO\n",
      "Updating Shadowing Calculations, Start Date=11/17/2017\n",
      "Continuing Simulation at 11/17/2017 for CLIMATE STUDIO\n"
     ]
    },
    {
     "name": "stderr",
     "output_type": "stream",
     "text": [
      "C:\\EnergyPlusV22-2-0\\energyplus.exe 6f540b7c-6b78-4186-8080-27af11cceb69.idf: 5it [00:01,  9.59it/s]]INFO:760fc8e5-9152-42af-9744-d12a0d45aa3a.idf:Updating Shadowing Calculations, Start Date=08/29/2017\n",
      "C:\\EnergyPlusV22-2-0\\energyplus.exe 6f540b7c-6b78-4186-8080-27af11cceb69.idf: 5it [00:01,  9.59it/s]]INFO:760fc8e5-9152-42af-9744-d12a0d45aa3a.idf:Continuing Simulation at 08/29/2017 for CLIMATE STUDIO\n",
      "C:\\EnergyPlusV22-2-0\\energyplus.exe 6f540b7c-6b78-4186-8080-27af11cceb69.idf: 5it [00:01,  9.59it/s]]INFO:44a3a699-feeb-45bc-93bd-537f9e0a9ed6.idf:Updating Shadowing Calculations, Start Date=12/07/2017\n",
      "C:\\EnergyPlusV22-2-0\\energyplus.exe 6f540b7c-6b78-4186-8080-27af11cceb69.idf: 5it [00:01,  9.59it/s]]INFO:44a3a699-feeb-45bc-93bd-537f9e0a9ed6.idf:Continuing Simulation at 12/07/2017 for CLIMATE STUDIO\n",
      "C:\\EnergyPlusV22-2-0\\energyplus.exe 6f540b7c-6b78-4186-8080-27af11cceb69.idf: 5it [00:01,  9.59it/s]]INFO:f79d8163-25e1-4adf-baa8-2f59cacf4ff0.idf:Reporting Surfaces\n",
      "C:\\EnergyPlusV22-2-0\\energyplus.exe 760fc8e5-9152-42af-9744-d12a0d45aa3a.idf: 39it [00:05,  7.81it/s]"
     ]
    },
    {
     "name": "stdout",
     "output_type": "stream",
     "text": [
      "Updating Shadowing Calculations, Start Date=08/29/2017\n",
      "Continuing Simulation at 08/29/2017 for CLIMATE STUDIO\n",
      "Updating Shadowing Calculations, Start Date=12/07/2017\n",
      "Continuing Simulation at 12/07/2017 for CLIMATE STUDIO\n",
      "Reporting Surfaces\n",
      "Beginning Primary Simulation\n"
     ]
    },
    {
     "name": "stderr",
     "output_type": "stream",
     "text": [
      "C:\\EnergyPlusV22-2-0\\energyplus.exe 6f540b7c-6b78-4186-8080-27af11cceb69.idf: 5it [00:01,  9.59it/s]]INFO:f79d8163-25e1-4adf-baa8-2f59cacf4ff0.idf:Beginning Primary Simulation\n",
      "C:\\EnergyPlusV22-2-0\\energyplus.exe 6f540b7c-6b78-4186-8080-27af11cceb69.idf: 5it [00:01,  9.59it/s]]INFO:f79d8163-25e1-4adf-baa8-2f59cacf4ff0.idf:Initializing New Environment Parameters\n",
      "C:\\EnergyPlusV22-2-0\\energyplus.exe 6f540b7c-6b78-4186-8080-27af11cceb69.idf: 5it [00:01,  9.59it/s]]INFO:f79d8163-25e1-4adf-baa8-2f59cacf4ff0.idf:Warming up {1}\n",
      "C:\\EnergyPlusV22-2-0\\energyplus.exe 6f540b7c-6b78-4186-8080-27af11cceb69.idf: 5it [00:01,  9.59it/s]]INFO:f79d8163-25e1-4adf-baa8-2f59cacf4ff0.idf:Warming up {2}\n",
      "C:\\EnergyPlusV22-2-0\\energyplus.exe 6f540b7c-6b78-4186-8080-27af11cceb69.idf: 5it [00:01,  9.59it/s]]INFO:f79d8163-25e1-4adf-baa8-2f59cacf4ff0.idf:Warming up {3}\n",
      "C:\\EnergyPlusV22-2-0\\energyplus.exe 6f540b7c-6b78-4186-8080-27af11cceb69.idf: 5it [00:01,  9.59it/s]]INFO:f79d8163-25e1-4adf-baa8-2f59cacf4ff0.idf:Warming up {4}\n",
      "C:\\EnergyPlusV22-2-0\\energyplus.exe 6f540b7c-6b78-4186-8080-27af11cceb69.idf: 5it [00:01,  9.59it/s]]INFO:68a8f040-7069-4201-b73a-2b3173f5c8e4.idf:Reporting Surfaces\n",
      "C:\\EnergyPlusV22-2-0\\energyplus.exe 6f540b7c-6b78-4186-8080-27af11cceb69.idf: 5it [00:01,  9.59it/s]]INFO:f79d8163-25e1-4adf-baa8-2f59cacf4ff0.idf:Warming up {5}\n",
      "C:\\EnergyPlusV22-2-0\\energyplus.exe 68a8f040-7069-4201-b73a-2b3173f5c8e4.idf: 6it [00:01,  3.17it/s]INFO:760fc8e5-9152-42af-9744-d12a0d45aa3a.idf:Updating Shadowing Calculations, Start Date=09/18/2017\n",
      "C:\\EnergyPlusV22-2-0\\energyplus.exe 760fc8e5-9152-42af-9744-d12a0d45aa3a.idf: 40it [00:05,  6.98it/s]INFO:f79d8163-25e1-4adf-baa8-2f59cacf4ff0.idf:Warming up {6}\n",
      "C:\\EnergyPlusV22-2-0\\energyplus.exe 6f540b7c-6b78-4186-8080-27af11cceb69.idf: 5it [00:01,  9.59it/s]]INFO:68a8f040-7069-4201-b73a-2b3173f5c8e4.idf:Beginning Primary Simulation\n",
      "C:\\EnergyPlusV22-2-0\\energyplus.exe f79d8163-25e1-4adf-baa8-2f59cacf4ff0.idf: 14it [00:01, 10.74it/s]INFO:760fc8e5-9152-42af-9744-d12a0d45aa3a.idf:Continuing Simulation at 09/18/2017 for CLIMATE STUDIO\n"
     ]
    },
    {
     "name": "stdout",
     "output_type": "stream",
     "text": [
      "Initializing New Environment Parameters\n",
      "Warming up {1}\n",
      "Warming up {2}\n",
      "Warming up {3}\n",
      "Warming up {4}\n",
      "Reporting Surfaces\n",
      "Warming up {5}\n",
      "Updating Shadowing Calculations, Start Date=09/18/2017\n",
      "Warming up {6}\n",
      "Beginning Primary Simulation\n",
      "Continuing Simulation at 09/18/2017 for CLIMATE STUDIO\n"
     ]
    },
    {
     "name": "stderr",
     "output_type": "stream",
     "text": [
      "C:\\EnergyPlusV22-2-0\\energyplus.exe 6f540b7c-6b78-4186-8080-27af11cceb69.idf: 5it [00:01,  9.59it/s]]INFO:68a8f040-7069-4201-b73a-2b3173f5c8e4.idf:Initializing New Environment Parameters\n",
      "C:\\EnergyPlusV22-2-0\\energyplus.exe 6f540b7c-6b78-4186-8080-27af11cceb69.idf: 5it [00:01,  9.59it/s]]INFO:f79d8163-25e1-4adf-baa8-2f59cacf4ff0.idf:Starting Simulation at 01/01/2017 for CLIMATE STUDIO\n",
      "C:\\EnergyPlusV22-2-0\\energyplus.exe 68a8f040-7069-4201-b73a-2b3173f5c8e4.idf: 8it [00:01,  4.85it/s]INFO:44a3a699-feeb-45bc-93bd-537f9e0a9ed6.idf:Updating Shadowing Calculations, Start Date=12/27/2017\n",
      "C:\\EnergyPlusV22-2-0\\energyplus.exe 6f540b7c-6b78-4186-8080-27af11cceb69.idf: 5it [00:01,  9.59it/s]]INFO:68a8f040-7069-4201-b73a-2b3173f5c8e4.idf:Warming up {1}\n",
      "C:\\EnergyPlusV22-2-0\\energyplus.exe 6f540b7c-6b78-4186-8080-27af11cceb69.idf: 5it [00:01,  9.59it/s]]INFO:44a3a699-feeb-45bc-93bd-537f9e0a9ed6.idf:Continuing Simulation at 12/27/2017 for CLIMATE STUDIO\n",
      "INFO:68a8f040-7069-4201-b73a-2b3173f5c8e4.idf:Warming up {2}                                         \n",
      "C:\\EnergyPlusV22-2-0\\energyplus.exe 6f540b7c-6b78-4186-8080-27af11cceb69.idf: 5it [00:01,  9.59it/s]]INFO:44a3a699-feeb-45bc-93bd-537f9e0a9ed6.idf:Writing tabular output file results using comma format.\n",
      "C:\\EnergyPlusV22-2-0\\energyplus.exe 6f540b7c-6b78-4186-8080-27af11cceb69.idf: 5it [00:01,  9.59it/s]]INFO:68a8f040-7069-4201-b73a-2b3173f5c8e4.idf:Warming up {3}\n",
      "C:\\EnergyPlusV22-2-0\\energyplus.exe 68a8f040-7069-4201-b73a-2b3173f5c8e4.idf: 11it [00:01,  7.73it/s]INFO:44a3a699-feeb-45bc-93bd-537f9e0a9ed6.idf:Writing tabular output file results using HTML format.\n",
      "C:\\EnergyPlusV22-2-0\\energyplus.exe 44a3a699-feeb-45bc-93bd-537f9e0a9ed6.idf: 53it [00:06, 10.47it/s]INFO:68a8f040-7069-4201-b73a-2b3173f5c8e4.idf:Warming up {4}\n",
      "                                                                                                     "
     ]
    },
    {
     "name": "stdout",
     "output_type": "stream",
     "text": [
      "Initializing New Environment Parameters\n",
      "Starting Simulation at 01/01/2017 for CLIMATE STUDIO\n",
      "Updating Shadowing Calculations, Start Date=12/27/2017\n",
      "Warming up {1}\n",
      "Continuing Simulation at 12/27/2017 for CLIMATE STUDIO\n",
      "Warming up {2}\n",
      "Writing tabular output file results using comma format.\n",
      "Warming up {3}\n",
      "Writing tabular output file results using HTML format.\n",
      "Warming up {4}\n"
     ]
    },
    {
     "name": "stderr",
     "output_type": "stream",
     "text": [
      "C:\\EnergyPlusV22-2-0\\energyplus.exe 6f540b7c-6b78-4186-8080-27af11cceb69.idf: 5it [00:01,  9.59it/s]]INFO:68a8f040-7069-4201-b73a-2b3173f5c8e4.idf:Warming up {5}\n",
      "C:\\EnergyPlusV22-2-0\\energyplus.exe 6f540b7c-6b78-4186-8080-27af11cceb69.idf: 5it [00:01,  9.59it/s]]INFO:68a8f040-7069-4201-b73a-2b3173f5c8e4.idf:Warming up {6}\n",
      "C:\\EnergyPlusV22-2-0\\energyplus.exe 6f540b7c-6b78-4186-8080-27af11cceb69.idf: 5it [00:01,  9.59it/s]]INFO:68a8f040-7069-4201-b73a-2b3173f5c8e4.idf:Starting Simulation at 01/01/2017 for CLIMATE STUDIO\n",
      "C:\\EnergyPlusV22-2-0\\energyplus.exe 6f540b7c-6b78-4186-8080-27af11cceb69.idf: 5it [00:01,  9.59it/s]]INFO:f79d8163-25e1-4adf-baa8-2f59cacf4ff0.idf:Updating Shadowing Calculations, Start Date=01/21/2017\n",
      "C:\\EnergyPlusV22-2-0\\energyplus.exe 6f540b7c-6b78-4186-8080-27af11cceb69.idf: 5it [00:01,  9.59it/s]]INFO:6f540b7c-6b78-4186-8080-27af11cceb69.idf:Reporting Surfaces\n",
      "C:\\EnergyPlusV22-2-0\\energyplus.exe f79d8163-25e1-4adf-baa8-2f59cacf4ff0.idf: 16it [00:02,  9.54it/s]INFO:44a3a699-feeb-45bc-93bd-537f9e0a9ed6.idf:Writing final SQL reports\n",
      "C:\\EnergyPlusV22-2-0\\energyplus.exe 6f540b7c-6b78-4186-8080-27af11cceb69.idf: 6it [00:01,  2.89it/s]]INFO:760fc8e5-9152-42af-9744-d12a0d45aa3a.idf:Updating Shadowing Calculations, Start Date=10/08/2017\n",
      "C:\\EnergyPlusV22-2-0\\energyplus.exe 6f540b7c-6b78-4186-8080-27af11cceb69.idf: 6it [00:01,  2.89it/s]]INFO:f79d8163-25e1-4adf-baa8-2f59cacf4ff0.idf:Continuing Simulation at 01/21/2017 for CLIMATE STUDIO\n",
      "C:\\EnergyPlusV22-2-0\\energyplus.exe 760fc8e5-9152-42af-9744-d12a0d45aa3a.idf: 42it [00:05,  6.60it/s]INFO:6f540b7c-6b78-4186-8080-27af11cceb69.idf:Beginning Primary Simulation\n",
      "C:\\EnergyPlusV22-2-0\\energyplus.exe 6f540b7c-6b78-4186-8080-27af11cceb69.idf: 7it [00:01,  2.89it/s]]INFO:44a3a699-feeb-45bc-93bd-537f9e0a9ed6.idf:EnergyPlus Run Time=00hr 00min  6.28sec\n",
      "C:\\EnergyPlusV22-2-0\\energyplus.exe 6f540b7c-6b78-4186-8080-27af11cceb69.idf: 7it [00:01,  2.89it/s]]INFO:760fc8e5-9152-42af-9744-d12a0d45aa3a.idf:Continuing Simulation at 10/08/2017 for CLIMATE STUDIO\n",
      "C:\\EnergyPlusV22-2-0\\energyplus.exe 6f540b7c-6b78-4186-8080-27af11cceb69.idf: 7it [00:01,  2.89it/s]]INFO:6f540b7c-6b78-4186-8080-27af11cceb69.idf:Initializing New Environment Parameters\n",
      "                                                                                                     \r"
     ]
    },
    {
     "name": "stdout",
     "output_type": "stream",
     "text": [
      "Warming up {5}\n",
      "Warming up {6}\n",
      "Starting Simulation at 01/01/2017 for CLIMATE STUDIO\n",
      "Updating Shadowing Calculations, Start Date=01/21/2017\n",
      "Reporting Surfaces\n",
      "Writing final SQL reports\n",
      "Updating Shadowing Calculations, Start Date=10/08/2017\n",
      "Continuing Simulation at 01/21/2017 for CLIMATE STUDIO\n",
      "Beginning Primary Simulation\n",
      "EnergyPlus Run Time=00hr 00min  6.28sec\n",
      "Continuing Simulation at 10/08/2017 for CLIMATE STUDIO\n",
      "Initializing New Environment Parameters\n"
     ]
    },
    {
     "name": "stderr",
     "output_type": "stream",
     "text": [
      "C:\\EnergyPlusV22-2-0\\energyplus.exe 6f540b7c-6b78-4186-8080-27af11cceb69.idf: 8it [00:01,  4.46it/s]]INFO:68a8f040-7069-4201-b73a-2b3173f5c8e4.idf:Updating Shadowing Calculations, Start Date=01/21/2017\n",
      "C:\\EnergyPlusV22-2-0\\energyplus.exe 68a8f040-7069-4201-b73a-2b3173f5c8e4.idf: 16it [00:02, 11.51it/s]INFO:6f540b7c-6b78-4186-8080-27af11cceb69.idf:Warming up {1}\n",
      "C:\\EnergyPlusV22-2-0\\energyplus.exe 6f540b7c-6b78-4186-8080-27af11cceb69.idf: 9it [00:01,  4.46it/s]]INFO:6f540b7c-6b78-4186-8080-27af11cceb69.idf:Warming up {2}\n",
      "C:\\EnergyPlusV22-2-0\\energyplus.exe 6f540b7c-6b78-4186-8080-27af11cceb69.idf: 10it [00:01,  4.46it/s]INFO:68a8f040-7069-4201-b73a-2b3173f5c8e4.idf:Continuing Simulation at 01/21/2017 for CLIMATE STUDIO\n",
      "C:\\EnergyPlusV22-2-0\\energyplus.exe 6f540b7c-6b78-4186-8080-27af11cceb69.idf: 10it [00:01,  4.46it/s]INFO:6f540b7c-6b78-4186-8080-27af11cceb69.idf:Warming up {3}\n",
      "C:\\EnergyPlusV22-2-0\\energyplus.exe 6f540b7c-6b78-4186-8080-27af11cceb69.idf: 11it [00:01,  4.46it/s]INFO:44a3a699-feeb-45bc-93bd-537f9e0a9ed6.idf:EnergyPlus Completed in 6.72 seconds\n",
      "C:\\EnergyPlusV22-2-0\\energyplus.exe 760fc8e5-9152-42af-9744-d12a0d45aa3a.idf: 43it [00:05,  6.60it/s]"
     ]
    },
    {
     "name": "stdout",
     "output_type": "stream",
     "text": [
      "Updating Shadowing Calculations, Start Date=01/21/2017\n",
      "Warming up {1}\n",
      "Warming up {2}\n",
      "Continuing Simulation at 01/21/2017 for CLIMATE STUDIO\n",
      "Warming up {3}\n",
      "EnergyPlus Completed in 6.72 seconds\n",
      "Warming up {4}\n"
     ]
    },
    {
     "name": "stderr",
     "output_type": "stream",
     "text": [
      "C:\\EnergyPlusV22-2-0\\energyplus.exe 6f540b7c-6b78-4186-8080-27af11cceb69.idf: 11it [00:02,  4.46it/s]INFO:6f540b7c-6b78-4186-8080-27af11cceb69.idf:Warming up {4}\n",
      "C:\\EnergyPlusV22-2-0\\energyplus.exe 6f540b7c-6b78-4186-8080-27af11cceb69.idf: 12it [00:02,  7.84it/s]INFO:f79d8163-25e1-4adf-baa8-2f59cacf4ff0.idf:Updating Shadowing Calculations, Start Date=02/10/2017\n",
      "C:\\EnergyPlusV22-2-0\\energyplus.exe f79d8163-25e1-4adf-baa8-2f59cacf4ff0.idf: 18it [00:02,  8.26it/s]INFO:6f540b7c-6b78-4186-8080-27af11cceb69.idf:Warming up {5}\n",
      "C:\\EnergyPlusV22-2-0\\energyplus.exe 6f540b7c-6b78-4186-8080-27af11cceb69.idf: 13it [00:02,  7.84it/s]INFO:f79d8163-25e1-4adf-baa8-2f59cacf4ff0.idf:Continuing Simulation at 02/10/2017 for CLIMATE STUDIO\n",
      "                                                                                                     INFO:6f540b7c-6b78-4186-8080-27af11cceb69.idf:Warming up {6}\n",
      "C:\\EnergyPlusV22-2-0\\energyplus.exe 6f540b7c-6b78-4186-8080-27af11cceb69.idf: 14it [00:02,  7.84it/s]INFO:760fc8e5-9152-42af-9744-d12a0d45aa3a.idf:Updating Shadowing Calculations, Start Date=10/28/2017\n",
      "C:\\EnergyPlusV22-2-0\\energyplus.exe 760fc8e5-9152-42af-9744-d12a0d45aa3a.idf: 44it [00:06,  6.18it/s]INFO:6f540b7c-6b78-4186-8080-27af11cceb69.idf:Starting Simulation at 01/01/2017 for CLIMATE STUDIO\n",
      "C:\\EnergyPlusV22-2-0\\energyplus.exe 6f540b7c-6b78-4186-8080-27af11cceb69.idf: 15it [00:02, 10.61it/s]INFO:760fc8e5-9152-42af-9744-d12a0d45aa3a.idf:Continuing Simulation at 10/28/2017 for CLIMATE STUDIO\n",
      "C:\\EnergyPlusV22-2-0\\energyplus.exe 6f540b7c-6b78-4186-8080-27af11cceb69.idf: 15it [00:02, 10.61it/s]INFO:68a8f040-7069-4201-b73a-2b3173f5c8e4.idf:Updating Shadowing Calculations, Start Date=02/10/2017\n",
      "C:\\EnergyPlusV22-2-0\\energyplus.exe 760fc8e5-9152-42af-9744-d12a0d45aa3a.idf: 45it [00:06,  6.18it/s]"
     ]
    },
    {
     "name": "stdout",
     "output_type": "stream",
     "text": [
      "Updating Shadowing Calculations, Start Date=02/10/2017\n",
      "Warming up {5}\n",
      "Continuing Simulation at 02/10/2017 for CLIMATE STUDIO\n",
      "Warming up {6}\n",
      "Updating Shadowing Calculations, Start Date=10/28/2017\n",
      "Starting Simulation at 01/01/2017 for CLIMATE STUDIO\n",
      "Continuing Simulation at 10/28/2017 for CLIMATE STUDIO\n",
      "Updating Shadowing Calculations, Start Date=02/10/2017\n",
      "Updating Shadowing Calculations, Start Date=01/21/2017\n"
     ]
    },
    {
     "name": "stderr",
     "output_type": "stream",
     "text": [
      "C:\\EnergyPlusV22-2-0\\energyplus.exe 68a8f040-7069-4201-b73a-2b3173f5c8e4.idf: 18it [00:02,  9.47it/s]INFO:6f540b7c-6b78-4186-8080-27af11cceb69.idf:Updating Shadowing Calculations, Start Date=01/21/2017\n",
      "C:\\EnergyPlusV22-2-0\\energyplus.exe 6f540b7c-6b78-4186-8080-27af11cceb69.idf: 16it [00:02, 10.61it/s]INFO:6f540b7c-6b78-4186-8080-27af11cceb69.idf:Continuing Simulation at 01/21/2017 for CLIMATE STUDIO\n",
      "C:\\EnergyPlusV22-2-0\\energyplus.exe 6f540b7c-6b78-4186-8080-27af11cceb69.idf: 17it [00:02, 12.02it/s]INFO:68a8f040-7069-4201-b73a-2b3173f5c8e4.idf:Continuing Simulation at 02/10/2017 for CLIMATE STUDIO\n",
      "C:\\EnergyPlusV22-2-0\\energyplus.exe 6f540b7c-6b78-4186-8080-27af11cceb69.idf: 17it [00:02, 12.02it/s]INFO:f79d8163-25e1-4adf-baa8-2f59cacf4ff0.idf:Updating Shadowing Calculations, Start Date=03/02/2017\n",
      "C:\\EnergyPlusV22-2-0\\energyplus.exe 6f540b7c-6b78-4186-8080-27af11cceb69.idf: 17it [00:02, 12.02it/s]INFO:f79d8163-25e1-4adf-baa8-2f59cacf4ff0.idf:Continuing Simulation at 03/02/2017 for CLIMATE STUDIO\n",
      "                                                                                                     "
     ]
    },
    {
     "name": "stdout",
     "output_type": "stream",
     "text": [
      "Continuing Simulation at 01/21/2017 for CLIMATE STUDIO\n",
      "Continuing Simulation at 02/10/2017 for CLIMATE STUDIO\n",
      "Updating Shadowing Calculations, Start Date=03/02/2017\n",
      "Continuing Simulation at 03/02/2017 for CLIMATE STUDIO\n"
     ]
    },
    {
     "name": "stderr",
     "output_type": "stream",
     "text": [
      "C:\\EnergyPlusV22-2-0\\energyplus.exe 6f540b7c-6b78-4186-8080-27af11cceb69.idf: 17it [00:02, 12.02it/s]INFO:760fc8e5-9152-42af-9744-d12a0d45aa3a.idf:Updating Shadowing Calculations, Start Date=11/17/2017\n",
      "C:\\EnergyPlusV22-2-0\\energyplus.exe 6f540b7c-6b78-4186-8080-27af11cceb69.idf: 17it [00:02, 12.02it/s]INFO:760fc8e5-9152-42af-9744-d12a0d45aa3a.idf:Continuing Simulation at 11/17/2017 for CLIMATE STUDIO\n",
      "C:\\EnergyPlusV22-2-0\\energyplus.exe 44a3a699-feeb-45bc-93bd-537f9e0a9ed6.idf: 55it [00:07,  7.50it/s]INFO:6f540b7c-6b78-4186-8080-27af11cceb69.idf:Updating Shadowing Calculations, Start Date=02/10/2017\n",
      "\n",
      "                                                                                                     "
     ]
    },
    {
     "name": "stdout",
     "output_type": "stream",
     "text": [
      "Updating Shadowing Calculations, Start Date=11/17/2017\n",
      "Continuing Simulation at 11/17/2017 for CLIMATE STUDIO\n",
      "Updating Shadowing Calculations, Start Date=02/10/2017\n"
     ]
    },
    {
     "name": "stderr",
     "output_type": "stream",
     "text": [
      "C:\\EnergyPlusV22-2-0\\energyplus.exe 6f540b7c-6b78-4186-8080-27af11cceb69.idf: 18it [00:02,  9.02it/s]INFO:68a8f040-7069-4201-b73a-2b3173f5c8e4.idf:Updating Shadowing Calculations, Start Date=03/02/2017\n",
      "C:\\EnergyPlusV22-2-0\\energyplus.exe 68a8f040-7069-4201-b73a-2b3173f5c8e4.idf: 20it [00:02,  7.54it/s]INFO:6f540b7c-6b78-4186-8080-27af11cceb69.idf:Continuing Simulation at 02/10/2017 for CLIMATE STUDIO\n",
      "C:\\EnergyPlusV22-2-0\\energyplus.exe 6f540b7c-6b78-4186-8080-27af11cceb69.idf: 19it [00:02,  8.77it/s]INFO:68a8f040-7069-4201-b73a-2b3173f5c8e4.idf:Continuing Simulation at 03/02/2017 for CLIMATE STUDIO\n",
      "C:\\EnergyPlusV22-2-0\\energyplus.exe 6f540b7c-6b78-4186-8080-27af11cceb69.idf: 19it [00:02,  8.77it/s]INFO:f79d8163-25e1-4adf-baa8-2f59cacf4ff0.idf:Updating Shadowing Calculations, Start Date=03/22/2017\n",
      "C:\\EnergyPlusV22-2-0\\energyplus.exe 6f540b7c-6b78-4186-8080-27af11cceb69.idf: 19it [00:02,  8.77it/s]INFO:760fc8e5-9152-42af-9744-d12a0d45aa3a.idf:Updating Shadowing Calculations, Start Date=12/07/2017\n",
      "C:\\EnergyPlusV22-2-0\\energyplus.exe 760fc8e5-9152-42af-9744-d12a0d45aa3a.idf: 48it [00:06,  6.20it/s]INFO:f79d8163-25e1-4adf-baa8-2f59cacf4ff0.idf:Continuing Simulation at 03/22/2017 for CLIMATE STUDIO\n",
      "simulate:  58%|█████▊    | 7.00/12.0 [00:29<00:13, 2.78s/runs]2a0d45aa3a.idf: 48it [00:06,  6.20it/s]"
     ]
    },
    {
     "name": "stdout",
     "output_type": "stream",
     "text": [
      "Updating Shadowing Calculations, Start Date=03/02/2017\n",
      "Continuing Simulation at 02/10/2017 for CLIMATE STUDIO\n",
      "Continuing Simulation at 03/02/2017 for CLIMATE STUDIO\n",
      "Updating Shadowing Calculations, Start Date=03/22/2017\n",
      "Updating Shadowing Calculations, Start Date=12/07/2017\n",
      "Continuing Simulation at 03/22/2017 for CLIMATE STUDIO\n",
      "Continuing Simulation at 12/07/2017 for CLIMATE STUDIO\n"
     ]
    },
    {
     "name": "stderr",
     "output_type": "stream",
     "text": [
      "C:\\EnergyPlusV22-2-0\\energyplus.exe 6f540b7c-6b78-4186-8080-27af11cceb69.idf: 19it [00:02,  8.77it/s]INFO:760fc8e5-9152-42af-9744-d12a0d45aa3a.idf:Continuing Simulation at 12/07/2017 for CLIMATE STUDIO\n",
      "C:\\EnergyPlusV22-2-0\\energyplus.exe 6f540b7c-6b78-4186-8080-27af11cceb69.idf: 19it [00:02,  8.77it/s]INFO:6f540b7c-6b78-4186-8080-27af11cceb69.idf:Updating Shadowing Calculations, Start Date=03/02/2017\n",
      "C:\\EnergyPlusV22-2-0\\energyplus.exe 6f540b7c-6b78-4186-8080-27af11cceb69.idf: 20it [00:02,  7.60it/s]INFO:68a8f040-7069-4201-b73a-2b3173f5c8e4.idf:Updating Shadowing Calculations, Start Date=03/22/2017\n",
      "C:\\EnergyPlusV22-2-0\\energyplus.exe 68a8f040-7069-4201-b73a-2b3173f5c8e4.idf: 22it [00:03,  7.71it/s]INFO:6f540b7c-6b78-4186-8080-27af11cceb69.idf:Continuing Simulation at 03/02/2017 for CLIMATE STUDIO\n",
      "C:\\EnergyPlusV22-2-0\\energyplus.exe 6f540b7c-6b78-4186-8080-27af11cceb69.idf: 21it [00:02,  7.60it/s]INFO:68a8f040-7069-4201-b73a-2b3173f5c8e4.idf:Continuing Simulation at 03/22/2017 for CLIMATE STUDIO\n",
      "C:\\EnergyPlusV22-2-0\\energyplus.exe 68a8f040-7069-4201-b73a-2b3173f5c8e4.idf: 23it [00:03,  7.83it/s]"
     ]
    },
    {
     "name": "stdout",
     "output_type": "stream",
     "text": [
      "Updating Shadowing Calculations, Start Date=03/02/2017\n",
      "Updating Shadowing Calculations, Start Date=03/22/2017\n",
      "Continuing Simulation at 03/02/2017 for CLIMATE STUDIO\n",
      "Continuing Simulation at 03/22/2017 for CLIMATE STUDIO\n"
     ]
    },
    {
     "name": "stderr",
     "output_type": "stream",
     "text": [
      "                                                                                                     INFO:archetypal:collected data for ['Zone Ideal Loads Supply Air Total Heating Energy', 'Zone Ideal Loads Supply Air Total Cooling Energy']\n",
      "C:\\EnergyPlusV22-2-0\\energyplus.exe 6f540b7c-6b78-4186-8080-27af11cceb69.idf: 21it [00:03,  7.60it/s]INFO:760fc8e5-9152-42af-9744-d12a0d45aa3a.idf:Updating Shadowing Calculations, Start Date=12/27/2017\n",
      "C:\\EnergyPlusV22-2-0\\energyplus.exe 760fc8e5-9152-42af-9744-d12a0d45aa3a.idf: 50it [00:06,  6.32it/s]INFO:f79d8163-25e1-4adf-baa8-2f59cacf4ff0.idf:Updating Shadowing Calculations, Start Date=04/11/2017\n",
      "C:\\EnergyPlusV22-2-0\\energyplus.exe f79d8163-25e1-4adf-baa8-2f59cacf4ff0.idf: 24it [00:03,  6.51it/s]INFO:760fc8e5-9152-42af-9744-d12a0d45aa3a.idf:Continuing Simulation at 12/27/2017 for CLIMATE STUDIO\n",
      "INFO:archetypal:collected data for ['Zone Ideal Loads Supply Air Total Heating Energy', 'Zone Ideal Loads Supply Air Total Cooling Energy']\n",
      "C:\\EnergyPlusV22-2-0\\energyplus.exe 6f540b7c-6b78-4186-8080-27af11cceb69.idf: 21it [00:03,  7.60it/s]INFO:f79d8163-25e1-4adf-baa8-2f59cacf4ff0.idf:Continuing Simulation at 04/11/2017 for CLIMATE STUDIO\n",
      "C:\\EnergyPlusV22-2-0\\energyplus.exe 6f540b7c-6b78-4186-8080-27af11cceb69.idf: 21it [00:03,  7.60it/s]INFO:760fc8e5-9152-42af-9744-d12a0d45aa3a.idf:Writing tabular output file results using comma format.\n",
      "C:\\EnergyPlusV22-2-0\\energyplus.exe 6f540b7c-6b78-4186-8080-27af11cceb69.idf: 21it [00:03,  7.60it/s]INFO:6f540b7c-6b78-4186-8080-27af11cceb69.idf:Updating Shadowing Calculations, Start Date=03/22/2017\n",
      "C:\\EnergyPlusV22-2-0\\energyplus.exe f79d8163-25e1-4adf-baa8-2f59cacf4ff0.idf: 25it [00:03,  6.87it/s]INFO:68a8f040-7069-4201-b73a-2b3173f5c8e4.idf:Updating Shadowing Calculations, Start Date=04/11/2017\n",
      "C:\\EnergyPlusV22-2-0\\energyplus.exe 68a8f040-7069-4201-b73a-2b3173f5c8e4.idf: 24it [00:03,  6.55it/s]"
     ]
    },
    {
     "name": "stdout",
     "output_type": "stream",
     "text": [
      "Updating Shadowing Calculations, Start Date=12/27/2017\n",
      "Updating Shadowing Calculations, Start Date=04/11/2017\n",
      "Continuing Simulation at 12/27/2017 for CLIMATE STUDIO\n",
      "Continuing Simulation at 04/11/2017 for CLIMATE STUDIO\n",
      "Writing tabular output file results using comma format.\n",
      "Updating Shadowing Calculations, Start Date=03/22/2017\n",
      "Updating Shadowing Calculations, Start Date=04/11/2017\n"
     ]
    },
    {
     "name": "stderr",
     "output_type": "stream",
     "text": [
      "C:\\EnergyPlusV22-2-0\\energyplus.exe 6f540b7c-6b78-4186-8080-27af11cceb69.idf: 22it [00:03,  6.40it/s]INFO:760fc8e5-9152-42af-9744-d12a0d45aa3a.idf:Writing tabular output file results using HTML format.\n",
      "C:\\EnergyPlusV22-2-0\\energyplus.exe 6f540b7c-6b78-4186-8080-27af11cceb69.idf: 22it [00:03,  6.40it/s]INFO:6f540b7c-6b78-4186-8080-27af11cceb69.idf:Continuing Simulation at 03/22/2017 for CLIMATE STUDIO\n",
      "C:\\EnergyPlusV22-2-0\\energyplus.exe 6f540b7c-6b78-4186-8080-27af11cceb69.idf: 23it [00:03,  6.40it/s]INFO:68a8f040-7069-4201-b73a-2b3173f5c8e4.idf:Continuing Simulation at 04/11/2017 for CLIMATE STUDIO\n",
      "C:\\EnergyPlusV22-2-0\\energyplus.exe 6f540b7c-6b78-4186-8080-27af11cceb69.idf: 23it [00:03,  6.40it/s]INFO:760fc8e5-9152-42af-9744-d12a0d45aa3a.idf:Writing final SQL reports\n",
      "C:\\EnergyPlusV22-2-0\\energyplus.exe 6f540b7c-6b78-4186-8080-27af11cceb69.idf: 23it [00:03,  6.40it/s]INFO:760fc8e5-9152-42af-9744-d12a0d45aa3a.idf:EnergyPlus Run Time=00hr 00min  6.87sec\n",
      "C:\\EnergyPlusV22-2-0\\energyplus.exe 6f540b7c-6b78-4186-8080-27af11cceb69.idf: 23it [00:03,  6.40it/s]INFO:f79d8163-25e1-4adf-baa8-2f59cacf4ff0.idf:Updating Shadowing Calculations, Start Date=05/01/2017\n",
      "C:\\EnergyPlusV22-2-0\\energyplus.exe 6f540b7c-6b78-4186-8080-27af11cceb69.idf: 23it [00:03,  6.40it/s]INFO:f79d8163-25e1-4adf-baa8-2f59cacf4ff0.idf:Continuing Simulation at 05/01/2017 for CLIMATE STUDIO\n",
      "C:\\EnergyPlusV22-2-0\\energyplus.exe 6f540b7c-6b78-4186-8080-27af11cceb69.idf: 23it [00:03,  6.40it/s]INFO:760fc8e5-9152-42af-9744-d12a0d45aa3a.idf:EnergyPlus Completed in 7.25 seconds\n"
     ]
    },
    {
     "name": "stdout",
     "output_type": "stream",
     "text": [
      "Writing tabular output file results using HTML format.\n",
      "Continuing Simulation at 03/22/2017 for CLIMATE STUDIO\n",
      "Continuing Simulation at 04/11/2017 for CLIMATE STUDIO\n",
      "Writing final SQL reports\n",
      "EnergyPlus Run Time=00hr 00min  6.87sec\n",
      "Updating Shadowing Calculations, Start Date=05/01/2017\n",
      "Continuing Simulation at 05/01/2017 for CLIMATE STUDIO\n",
      "EnergyPlus Completed in 7.25 seconds\n"
     ]
    },
    {
     "name": "stderr",
     "output_type": "stream",
     "text": [
      "C:\\EnergyPlusV22-2-0\\energyplus.exe 6f540b7c-6b78-4186-8080-27af11cceb69.idf: 23it [00:03,  6.40it/s]INFO:68a8f040-7069-4201-b73a-2b3173f5c8e4.idf:Updating Shadowing Calculations, Start Date=05/01/2017\n",
      "C:\\EnergyPlusV22-2-0\\energyplus.exe 68a8f040-7069-4201-b73a-2b3173f5c8e4.idf: 26it [00:03,  7.12it/s]INFO:6f540b7c-6b78-4186-8080-27af11cceb69.idf:Updating Shadowing Calculations, Start Date=04/11/2017\n",
      "C:\\EnergyPlusV22-2-0\\energyplus.exe 6f540b7c-6b78-4186-8080-27af11cceb69.idf: 24it [00:03,  6.77it/s]INFO:6f540b7c-6b78-4186-8080-27af11cceb69.idf:Continuing Simulation at 04/11/2017 for CLIMATE STUDIO\n",
      "C:\\EnergyPlusV22-2-0\\energyplus.exe 6f540b7c-6b78-4186-8080-27af11cceb69.idf: 25it [00:03,  6.77it/s]INFO:68a8f040-7069-4201-b73a-2b3173f5c8e4.idf:Continuing Simulation at 05/01/2017 for CLIMATE STUDIO\n",
      "C:\\EnergyPlusV22-2-0\\energyplus.exe 6f540b7c-6b78-4186-8080-27af11cceb69.idf: 25it [00:03,  6.77it/s]INFO:f79d8163-25e1-4adf-baa8-2f59cacf4ff0.idf:Updating Shadowing Calculations, Start Date=05/21/2017\n",
      "C:\\EnergyPlusV22-2-0\\energyplus.exe 6f540b7c-6b78-4186-8080-27af11cceb69.idf: 25it [00:03,  6.77it/s]INFO:f79d8163-25e1-4adf-baa8-2f59cacf4ff0.idf:Continuing Simulation at 05/21/2017 for CLIMATE STUDIO\n"
     ]
    },
    {
     "name": "stdout",
     "output_type": "stream",
     "text": [
      "Updating Shadowing Calculations, Start Date=05/01/2017\n",
      "Updating Shadowing Calculations, Start Date=04/11/2017\n",
      "Continuing Simulation at 04/11/2017 for CLIMATE STUDIO\n",
      "Continuing Simulation at 05/01/2017 for CLIMATE STUDIO\n",
      "Updating Shadowing Calculations, Start Date=05/21/2017\n",
      "Continuing Simulation at 05/21/2017 for CLIMATE STUDIO\n"
     ]
    },
    {
     "name": "stderr",
     "output_type": "stream",
     "text": [
      "C:\\EnergyPlusV22-2-0\\energyplus.exe 6f540b7c-6b78-4186-8080-27af11cceb69.idf: 25it [00:03,  6.77it/s]INFO:68a8f040-7069-4201-b73a-2b3173f5c8e4.idf:Updating Shadowing Calculations, Start Date=05/21/2017\n",
      "C:\\EnergyPlusV22-2-0\\energyplus.exe 68a8f040-7069-4201-b73a-2b3173f5c8e4.idf: 28it [00:04,  7.20it/s]INFO:6f540b7c-6b78-4186-8080-27af11cceb69.idf:Updating Shadowing Calculations, Start Date=05/01/2017\n",
      "C:\\EnergyPlusV22-2-0\\energyplus.exe 6f540b7c-6b78-4186-8080-27af11cceb69.idf: 26it [00:03,  6.93it/s]INFO:6f540b7c-6b78-4186-8080-27af11cceb69.idf:Continuing Simulation at 05/01/2017 for CLIMATE STUDIO\n",
      "C:\\EnergyPlusV22-2-0\\energyplus.exe 760fc8e5-9152-42af-9744-d12a0d45aa3a.idf: 55it [00:07,  7.16it/s]INFO:68a8f040-7069-4201-b73a-2b3173f5c8e4.idf:Continuing Simulation at 05/21/2017 for CLIMATE STUDIO\n",
      "\n",
      "C:\\EnergyPlusV22-2-0\\energyplus.exe 6f540b7c-6b78-4186-8080-27af11cceb69.idf: 27it [00:03,  6.93it/s]INFO:f79d8163-25e1-4adf-baa8-2f59cacf4ff0.idf:Updating Shadowing Calculations, Start Date=06/10/2017\n",
      "C:\\EnergyPlusV22-2-0\\energyplus.exe 6f540b7c-6b78-4186-8080-27af11cceb69.idf: 27it [00:03,  6.93it/s]INFO:f79d8163-25e1-4adf-baa8-2f59cacf4ff0.idf:Continuing Simulation at 06/10/2017 for CLIMATE STUDIO\n"
     ]
    },
    {
     "name": "stdout",
     "output_type": "stream",
     "text": [
      "Updating Shadowing Calculations, Start Date=05/21/2017\n",
      "Updating Shadowing Calculations, Start Date=05/01/2017\n",
      "Continuing Simulation at 05/01/2017 for CLIMATE STUDIO\n",
      "Continuing Simulation at 05/21/2017 for CLIMATE STUDIO\n",
      "Updating Shadowing Calculations, Start Date=06/10/2017\n",
      "Continuing Simulation at 06/10/2017 for CLIMATE STUDIO\n"
     ]
    },
    {
     "name": "stderr",
     "output_type": "stream",
     "text": [
      "C:\\EnergyPlusV22-2-0\\energyplus.exe 6f540b7c-6b78-4186-8080-27af11cceb69.idf: 27it [00:04,  6.93it/s]INFO:68a8f040-7069-4201-b73a-2b3173f5c8e4.idf:Updating Shadowing Calculations, Start Date=06/10/2017\n",
      "C:\\EnergyPlusV22-2-0\\energyplus.exe 6f540b7c-6b78-4186-8080-27af11cceb69.idf: 27it [00:04,  6.93it/s]INFO:68a8f040-7069-4201-b73a-2b3173f5c8e4.idf:Continuing Simulation at 06/10/2017 for CLIMATE STUDIO\n",
      "C:\\EnergyPlusV22-2-0\\energyplus.exe 6f540b7c-6b78-4186-8080-27af11cceb69.idf: 27it [00:04,  6.93it/s]INFO:6f540b7c-6b78-4186-8080-27af11cceb69.idf:Updating Shadowing Calculations, Start Date=05/21/2017\n",
      "                                                                                                     INFO:6f540b7c-6b78-4186-8080-27af11cceb69.idf:Continuing Simulation at 05/21/2017 for CLIMATE STUDIO\n",
      "C:\\EnergyPlusV22-2-0\\energyplus.exe 6f540b7c-6b78-4186-8080-27af11cceb69.idf: 29it [00:04,  6.92it/s]INFO:f79d8163-25e1-4adf-baa8-2f59cacf4ff0.idf:Updating Shadowing Calculations, Start Date=06/30/2017\n",
      "C:\\EnergyPlusV22-2-0\\energyplus.exe 6f540b7c-6b78-4186-8080-27af11cceb69.idf: 29it [00:04,  6.92it/s]INFO:f79d8163-25e1-4adf-baa8-2f59cacf4ff0.idf:Continuing Simulation at 06/30/2017 for CLIMATE STUDIO\n"
     ]
    },
    {
     "name": "stdout",
     "output_type": "stream",
     "text": [
      "Updating Shadowing Calculations, Start Date=06/10/2017\n",
      "Continuing Simulation at 06/10/2017 for CLIMATE STUDIO\n",
      "Updating Shadowing Calculations, Start Date=05/21/2017\n",
      "Continuing Simulation at 05/21/2017 for CLIMATE STUDIO\n",
      "Updating Shadowing Calculations, Start Date=06/30/2017\n",
      "Continuing Simulation at 06/30/2017 for CLIMATE STUDIO\n"
     ]
    },
    {
     "name": "stderr",
     "output_type": "stream",
     "text": [
      "INFO:archetypal:collected data for ['Zone Ideal Loads Supply Air Total Heating Energy', 'Zone Ideal Loads Supply Air Total Cooling Energy']\n",
      "                                                                                                     INFO:archetypal:collected data for ['Zone Ideal Loads Supply Air Total Heating Energy', 'Zone Ideal Loads Supply Air Total Cooling Energy']\n",
      "C:\\EnergyPlusV22-2-0\\energyplus.exe 6f540b7c-6b78-4186-8080-27af11cceb69.idf: 29it [00:04,  6.92it/s]INFO:68a8f040-7069-4201-b73a-2b3173f5c8e4.idf:Updating Shadowing Calculations, Start Date=06/30/2017\n",
      "C:\\EnergyPlusV22-2-0\\energyplus.exe 68a8f040-7069-4201-b73a-2b3173f5c8e4.idf: 32it [00:04,  6.62it/s]INFO:6f540b7c-6b78-4186-8080-27af11cceb69.idf:Updating Shadowing Calculations, Start Date=06/10/2017\n",
      "C:\\EnergyPlusV22-2-0\\energyplus.exe 6f540b7c-6b78-4186-8080-27af11cceb69.idf: 30it [00:04,  6.55it/s]INFO:68a8f040-7069-4201-b73a-2b3173f5c8e4.idf:Continuing Simulation at 06/30/2017 for CLIMATE STUDIO\n",
      "C:\\EnergyPlusV22-2-0\\energyplus.exe 6f540b7c-6b78-4186-8080-27af11cceb69.idf: 30it [00:04,  6.55it/s]INFO:f79d8163-25e1-4adf-baa8-2f59cacf4ff0.idf:Updating Shadowing Calculations, Start Date=07/20/2017\n",
      "simulate:  75%|███████▌  | 9.00/12.0 [00:30<00:06, 2.26s/runs]INFO:6f540b7c-6b78-4186-8080-27af11cceb69.idf:Continuing Simulation at 06/10/2017 for CLIMATE STUDIO\n",
      "C:\\EnergyPlusV22-2-0\\energyplus.exe 6f540b7c-6b78-4186-8080-27af11cceb69.idf: 31it [00:04,  6.55it/s]INFO:f79d8163-25e1-4adf-baa8-2f59cacf4ff0.idf:Continuing Simulation at 07/20/2017 for CLIMATE STUDIO\n",
      "C:\\EnergyPlusV22-2-0\\energyplus.exe 6f540b7c-6b78-4186-8080-27af11cceb69.idf: 31it [00:04,  6.55it/s]"
     ]
    },
    {
     "name": "stdout",
     "output_type": "stream",
     "text": [
      "Updating Shadowing Calculations, Start Date=06/30/2017\n",
      "Updating Shadowing Calculations, Start Date=06/10/2017\n",
      "Continuing Simulation at 06/30/2017 for CLIMATE STUDIO\n",
      "Updating Shadowing Calculations, Start Date=07/20/2017\n",
      "Continuing Simulation at 06/10/2017 for CLIMATE STUDIO\n",
      "Continuing Simulation at 07/20/2017 for CLIMATE STUDIO\n",
      "Updating Shadowing Calculations, Start Date=07/20/2017\n"
     ]
    },
    {
     "name": "stderr",
     "output_type": "stream",
     "text": [
      "INFO:68a8f040-7069-4201-b73a-2b3173f5c8e4.idf:Updating Shadowing Calculations, Start Date=07/20/2017\n",
      "C:\\EnergyPlusV22-2-0\\energyplus.exe 6f540b7c-6b78-4186-8080-27af11cceb69.idf: 31it [00:04,  6.55it/s]INFO:6f540b7c-6b78-4186-8080-27af11cceb69.idf:Updating Shadowing Calculations, Start Date=06/30/2017\n",
      "C:\\EnergyPlusV22-2-0\\energyplus.exe 6f540b7c-6b78-4186-8080-27af11cceb69.idf: 32it [00:04,  7.52it/s]INFO:68a8f040-7069-4201-b73a-2b3173f5c8e4.idf:Continuing Simulation at 07/20/2017 for CLIMATE STUDIO\n",
      "C:\\EnergyPlusV22-2-0\\energyplus.exe 6f540b7c-6b78-4186-8080-27af11cceb69.idf: 32it [00:04,  7.52it/s]INFO:6f540b7c-6b78-4186-8080-27af11cceb69.idf:Continuing Simulation at 06/30/2017 for CLIMATE STUDIO\n",
      "C:\\EnergyPlusV22-2-0\\energyplus.exe 6f540b7c-6b78-4186-8080-27af11cceb69.idf: 33it [00:04,  7.52it/s]INFO:f79d8163-25e1-4adf-baa8-2f59cacf4ff0.idf:Updating Shadowing Calculations, Start Date=08/09/2017\n",
      "C:\\EnergyPlusV22-2-0\\energyplus.exe 6f540b7c-6b78-4186-8080-27af11cceb69.idf: 33it [00:04,  7.52it/s]INFO:f79d8163-25e1-4adf-baa8-2f59cacf4ff0.idf:Continuing Simulation at 08/09/2017 for CLIMATE STUDIO\n"
     ]
    },
    {
     "name": "stdout",
     "output_type": "stream",
     "text": [
      "Updating Shadowing Calculations, Start Date=06/30/2017\n",
      "Continuing Simulation at 07/20/2017 for CLIMATE STUDIO\n",
      "Continuing Simulation at 06/30/2017 for CLIMATE STUDIO\n",
      "Updating Shadowing Calculations, Start Date=08/09/2017\n",
      "Continuing Simulation at 08/09/2017 for CLIMATE STUDIO\n"
     ]
    },
    {
     "name": "stderr",
     "output_type": "stream",
     "text": [
      "C:\\EnergyPlusV22-2-0\\energyplus.exe 6f540b7c-6b78-4186-8080-27af11cceb69.idf: 33it [00:04,  7.52it/s]INFO:68a8f040-7069-4201-b73a-2b3173f5c8e4.idf:Updating Shadowing Calculations, Start Date=08/09/2017\n",
      "C:\\EnergyPlusV22-2-0\\energyplus.exe 68a8f040-7069-4201-b73a-2b3173f5c8e4.idf: 36it [00:05,  7.61it/s]INFO:6f540b7c-6b78-4186-8080-27af11cceb69.idf:Updating Shadowing Calculations, Start Date=07/20/2017\n",
      "C:\\EnergyPlusV22-2-0\\energyplus.exe 6f540b7c-6b78-4186-8080-27af11cceb69.idf: 34it [00:04,  7.62it/s]INFO:68a8f040-7069-4201-b73a-2b3173f5c8e4.idf:Continuing Simulation at 08/09/2017 for CLIMATE STUDIO\n",
      "C:\\EnergyPlusV22-2-0\\energyplus.exe 6f540b7c-6b78-4186-8080-27af11cceb69.idf: 34it [00:04,  7.62it/s]INFO:6f540b7c-6b78-4186-8080-27af11cceb69.idf:Continuing Simulation at 07/20/2017 for CLIMATE STUDIO\n",
      "C:\\EnergyPlusV22-2-0\\energyplus.exe 6f540b7c-6b78-4186-8080-27af11cceb69.idf: 35it [00:04,  7.62it/s]INFO:f79d8163-25e1-4adf-baa8-2f59cacf4ff0.idf:Updating Shadowing Calculations, Start Date=08/29/2017\n",
      "C:\\EnergyPlusV22-2-0\\energyplus.exe 6f540b7c-6b78-4186-8080-27af11cceb69.idf: 35it [00:04,  7.62it/s]INFO:f79d8163-25e1-4adf-baa8-2f59cacf4ff0.idf:Continuing Simulation at 08/29/2017 for CLIMATE STUDIO\n"
     ]
    },
    {
     "name": "stdout",
     "output_type": "stream",
     "text": [
      "Updating Shadowing Calculations, Start Date=08/09/2017\n",
      "Updating Shadowing Calculations, Start Date=07/20/2017\n",
      "Continuing Simulation at 08/09/2017 for CLIMATE STUDIO\n",
      "Continuing Simulation at 07/20/2017 for CLIMATE STUDIO\n",
      "Updating Shadowing Calculations, Start Date=08/29/2017\n",
      "Continuing Simulation at 08/29/2017 for CLIMATE STUDIO\n"
     ]
    },
    {
     "name": "stderr",
     "output_type": "stream",
     "text": [
      "C:\\EnergyPlusV22-2-0\\energyplus.exe 6f540b7c-6b78-4186-8080-27af11cceb69.idf: 35it [00:05,  7.62it/s]INFO:68a8f040-7069-4201-b73a-2b3173f5c8e4.idf:Updating Shadowing Calculations, Start Date=08/29/2017\n",
      "C:\\EnergyPlusV22-2-0\\energyplus.exe 6f540b7c-6b78-4186-8080-27af11cceb69.idf: 35it [00:05,  7.62it/s]INFO:68a8f040-7069-4201-b73a-2b3173f5c8e4.idf:Continuing Simulation at 08/29/2017 for CLIMATE STUDIO\n",
      "C:\\EnergyPlusV22-2-0\\energyplus.exe 6f540b7c-6b78-4186-8080-27af11cceb69.idf: 35it [00:05,  7.62it/s]INFO:6f540b7c-6b78-4186-8080-27af11cceb69.idf:Updating Shadowing Calculations, Start Date=08/09/2017\n",
      "                                                                                                     INFO:6f540b7c-6b78-4186-8080-27af11cceb69.idf:Continuing Simulation at 08/09/2017 for CLIMATE STUDIO\n",
      "C:\\EnergyPlusV22-2-0\\energyplus.exe 6f540b7c-6b78-4186-8080-27af11cceb69.idf: 37it [00:05,  7.39it/s]INFO:f79d8163-25e1-4adf-baa8-2f59cacf4ff0.idf:Updating Shadowing Calculations, Start Date=09/18/2017\n",
      "C:\\EnergyPlusV22-2-0\\energyplus.exe 6f540b7c-6b78-4186-8080-27af11cceb69.idf: 37it [00:05,  7.39it/s]INFO:f79d8163-25e1-4adf-baa8-2f59cacf4ff0.idf:Continuing Simulation at 09/18/2017 for CLIMATE STUDIO\n"
     ]
    },
    {
     "name": "stdout",
     "output_type": "stream",
     "text": [
      "Updating Shadowing Calculations, Start Date=08/29/2017\n",
      "Continuing Simulation at 08/29/2017 for CLIMATE STUDIO\n",
      "Updating Shadowing Calculations, Start Date=08/09/2017\n",
      "Continuing Simulation at 08/09/2017 for CLIMATE STUDIO\n",
      "Updating Shadowing Calculations, Start Date=09/18/2017\n",
      "Continuing Simulation at 09/18/2017 for CLIMATE STUDIO\n"
     ]
    },
    {
     "name": "stderr",
     "output_type": "stream",
     "text": [
      "C:\\EnergyPlusV22-2-0\\energyplus.exe 6f540b7c-6b78-4186-8080-27af11cceb69.idf: 37it [00:05,  7.39it/s]INFO:68a8f040-7069-4201-b73a-2b3173f5c8e4.idf:Updating Shadowing Calculations, Start Date=09/18/2017\n",
      "C:\\EnergyPlusV22-2-0\\energyplus.exe 6f540b7c-6b78-4186-8080-27af11cceb69.idf: 37it [00:05,  7.39it/s]INFO:68a8f040-7069-4201-b73a-2b3173f5c8e4.idf:Continuing Simulation at 09/18/2017 for CLIMATE STUDIO\n",
      "C:\\EnergyPlusV22-2-0\\energyplus.exe 6f540b7c-6b78-4186-8080-27af11cceb69.idf: 37it [00:05,  7.39it/s]INFO:6f540b7c-6b78-4186-8080-27af11cceb69.idf:Updating Shadowing Calculations, Start Date=08/29/2017\n",
      "C:\\EnergyPlusV22-2-0\\energyplus.exe 6f540b7c-6b78-4186-8080-27af11cceb69.idf: 38it [00:05,  7.65it/s]INFO:6f540b7c-6b78-4186-8080-27af11cceb69.idf:Continuing Simulation at 08/29/2017 for CLIMATE STUDIO\n",
      "C:\\EnergyPlusV22-2-0\\energyplus.exe 6f540b7c-6b78-4186-8080-27af11cceb69.idf: 39it [00:05,  7.65it/s]INFO:f79d8163-25e1-4adf-baa8-2f59cacf4ff0.idf:Updating Shadowing Calculations, Start Date=10/08/2017\n",
      "C:\\EnergyPlusV22-2-0\\energyplus.exe 6f540b7c-6b78-4186-8080-27af11cceb69.idf: 39it [00:05,  7.65it/s]INFO:f79d8163-25e1-4adf-baa8-2f59cacf4ff0.idf:Continuing Simulation at 10/08/2017 for CLIMATE STUDIO\n"
     ]
    },
    {
     "name": "stdout",
     "output_type": "stream",
     "text": [
      "Updating Shadowing Calculations, Start Date=09/18/2017\n",
      "Continuing Simulation at 09/18/2017 for CLIMATE STUDIO\n",
      "Updating Shadowing Calculations, Start Date=08/29/2017\n",
      "Continuing Simulation at 08/29/2017 for CLIMATE STUDIO\n",
      "Updating Shadowing Calculations, Start Date=10/08/2017\n",
      "Continuing Simulation at 10/08/2017 for CLIMATE STUDIO\n"
     ]
    },
    {
     "name": "stderr",
     "output_type": "stream",
     "text": [
      "C:\\EnergyPlusV22-2-0\\energyplus.exe 6f540b7c-6b78-4186-8080-27af11cceb69.idf: 39it [00:05,  7.65it/s]INFO:68a8f040-7069-4201-b73a-2b3173f5c8e4.idf:Updating Shadowing Calculations, Start Date=10/08/2017\n",
      "C:\\EnergyPlusV22-2-0\\energyplus.exe 6f540b7c-6b78-4186-8080-27af11cceb69.idf: 39it [00:05,  7.65it/s]INFO:68a8f040-7069-4201-b73a-2b3173f5c8e4.idf:Continuing Simulation at 10/08/2017 for CLIMATE STUDIO\n",
      "C:\\EnergyPlusV22-2-0\\energyplus.exe 6f540b7c-6b78-4186-8080-27af11cceb69.idf: 39it [00:05,  7.65it/s]INFO:6f540b7c-6b78-4186-8080-27af11cceb69.idf:Updating Shadowing Calculations, Start Date=09/18/2017\n",
      "C:\\EnergyPlusV22-2-0\\energyplus.exe 6f540b7c-6b78-4186-8080-27af11cceb69.idf: 40it [00:05,  7.75it/s]INFO:6f540b7c-6b78-4186-8080-27af11cceb69.idf:Continuing Simulation at 09/18/2017 for CLIMATE STUDIO\n",
      "C:\\EnergyPlusV22-2-0\\energyplus.exe 6f540b7c-6b78-4186-8080-27af11cceb69.idf: 41it [00:05,  7.75it/s]INFO:f79d8163-25e1-4adf-baa8-2f59cacf4ff0.idf:Updating Shadowing Calculations, Start Date=10/28/2017\n",
      "C:\\EnergyPlusV22-2-0\\energyplus.exe 6f540b7c-6b78-4186-8080-27af11cceb69.idf: 41it [00:05,  7.75it/s]INFO:f79d8163-25e1-4adf-baa8-2f59cacf4ff0.idf:Continuing Simulation at 10/28/2017 for CLIMATE STUDIO\n"
     ]
    },
    {
     "name": "stdout",
     "output_type": "stream",
     "text": [
      "Updating Shadowing Calculations, Start Date=10/08/2017\n",
      "Continuing Simulation at 10/08/2017 for CLIMATE STUDIO\n",
      "Updating Shadowing Calculations, Start Date=09/18/2017\n",
      "Continuing Simulation at 09/18/2017 for CLIMATE STUDIO\n",
      "Updating Shadowing Calculations, Start Date=10/28/2017\n",
      "Continuing Simulation at 10/28/2017 for CLIMATE STUDIO\n"
     ]
    },
    {
     "name": "stderr",
     "output_type": "stream",
     "text": [
      "C:\\EnergyPlusV22-2-0\\energyplus.exe 6f540b7c-6b78-4186-8080-27af11cceb69.idf: 41it [00:05,  7.75it/s]INFO:68a8f040-7069-4201-b73a-2b3173f5c8e4.idf:Updating Shadowing Calculations, Start Date=10/28/2017\n",
      "C:\\EnergyPlusV22-2-0\\energyplus.exe 6f540b7c-6b78-4186-8080-27af11cceb69.idf: 41it [00:05,  7.75it/s]INFO:68a8f040-7069-4201-b73a-2b3173f5c8e4.idf:Continuing Simulation at 10/28/2017 for CLIMATE STUDIO\n",
      "C:\\EnergyPlusV22-2-0\\energyplus.exe 6f540b7c-6b78-4186-8080-27af11cceb69.idf: 41it [00:05,  7.75it/s]INFO:6f540b7c-6b78-4186-8080-27af11cceb69.idf:Updating Shadowing Calculations, Start Date=10/08/2017\n",
      "C:\\EnergyPlusV22-2-0\\energyplus.exe 6f540b7c-6b78-4186-8080-27af11cceb69.idf: 42it [00:05,  7.80it/s]INFO:f79d8163-25e1-4adf-baa8-2f59cacf4ff0.idf:Updating Shadowing Calculations, Start Date=11/17/2017\n",
      "C:\\EnergyPlusV22-2-0\\energyplus.exe f79d8163-25e1-4adf-baa8-2f59cacf4ff0.idf: 46it [00:06,  8.20it/s]INFO:6f540b7c-6b78-4186-8080-27af11cceb69.idf:Continuing Simulation at 10/08/2017 for CLIMATE STUDIO\n",
      "C:\\EnergyPlusV22-2-0\\energyplus.exe 6f540b7c-6b78-4186-8080-27af11cceb69.idf: 43it [00:05,  7.80it/s]INFO:f79d8163-25e1-4adf-baa8-2f59cacf4ff0.idf:Continuing Simulation at 11/17/2017 for CLIMATE STUDIO\n"
     ]
    },
    {
     "name": "stdout",
     "output_type": "stream",
     "text": [
      "Updating Shadowing Calculations, Start Date=10/28/2017\n",
      "Continuing Simulation at 10/28/2017 for CLIMATE STUDIO\n",
      "Updating Shadowing Calculations, Start Date=10/08/2017\n",
      "Updating Shadowing Calculations, Start Date=11/17/2017\n",
      "Continuing Simulation at 10/08/2017 for CLIMATE STUDIO\n",
      "Continuing Simulation at 11/17/2017 for CLIMATE STUDIO\n"
     ]
    },
    {
     "name": "stderr",
     "output_type": "stream",
     "text": [
      "C:\\EnergyPlusV22-2-0\\energyplus.exe 6f540b7c-6b78-4186-8080-27af11cceb69.idf: 43it [00:06,  7.80it/s]INFO:68a8f040-7069-4201-b73a-2b3173f5c8e4.idf:Updating Shadowing Calculations, Start Date=11/17/2017\n",
      "C:\\EnergyPlusV22-2-0\\energyplus.exe 6f540b7c-6b78-4186-8080-27af11cceb69.idf: 43it [00:06,  7.80it/s]INFO:68a8f040-7069-4201-b73a-2b3173f5c8e4.idf:Continuing Simulation at 11/17/2017 for CLIMATE STUDIO\n",
      "C:\\EnergyPlusV22-2-0\\energyplus.exe 6f540b7c-6b78-4186-8080-27af11cceb69.idf: 43it [00:06,  7.80it/s]INFO:6f540b7c-6b78-4186-8080-27af11cceb69.idf:Updating Shadowing Calculations, Start Date=10/28/2017\n",
      "C:\\EnergyPlusV22-2-0\\energyplus.exe 6f540b7c-6b78-4186-8080-27af11cceb69.idf: 44it [00:06,  7.88it/s]INFO:f79d8163-25e1-4adf-baa8-2f59cacf4ff0.idf:Updating Shadowing Calculations, Start Date=12/07/2017\n",
      "C:\\EnergyPlusV22-2-0\\energyplus.exe 6f540b7c-6b78-4186-8080-27af11cceb69.idf: 44it [00:06,  7.88it/s]INFO:6f540b7c-6b78-4186-8080-27af11cceb69.idf:Continuing Simulation at 10/28/2017 for CLIMATE STUDIO\n",
      "C:\\EnergyPlusV22-2-0\\energyplus.exe 6f540b7c-6b78-4186-8080-27af11cceb69.idf: 45it [00:06,  7.88it/s]INFO:f79d8163-25e1-4adf-baa8-2f59cacf4ff0.idf:Continuing Simulation at 12/07/2017 for CLIMATE STUDIO\n"
     ]
    },
    {
     "name": "stdout",
     "output_type": "stream",
     "text": [
      "Updating Shadowing Calculations, Start Date=11/17/2017\n",
      "Continuing Simulation at 11/17/2017 for CLIMATE STUDIO\n",
      "Updating Shadowing Calculations, Start Date=10/28/2017\n",
      "Updating Shadowing Calculations, Start Date=12/07/2017\n",
      "Continuing Simulation at 10/28/2017 for CLIMATE STUDIO\n",
      "Continuing Simulation at 12/07/2017 for CLIMATE STUDIO\n"
     ]
    },
    {
     "name": "stderr",
     "output_type": "stream",
     "text": [
      "C:\\EnergyPlusV22-2-0\\energyplus.exe 6f540b7c-6b78-4186-8080-27af11cceb69.idf: 45it [00:06,  7.88it/s]INFO:68a8f040-7069-4201-b73a-2b3173f5c8e4.idf:Updating Shadowing Calculations, Start Date=12/07/2017\n",
      "C:\\EnergyPlusV22-2-0\\energyplus.exe 6f540b7c-6b78-4186-8080-27af11cceb69.idf: 45it [00:06,  7.88it/s]INFO:68a8f040-7069-4201-b73a-2b3173f5c8e4.idf:Continuing Simulation at 12/07/2017 for CLIMATE STUDIO\n",
      "C:\\EnergyPlusV22-2-0\\energyplus.exe 6f540b7c-6b78-4186-8080-27af11cceb69.idf: 45it [00:06,  7.88it/s]INFO:f79d8163-25e1-4adf-baa8-2f59cacf4ff0.idf:Updating Shadowing Calculations, Start Date=12/27/2017\n",
      "C:\\EnergyPlusV22-2-0\\energyplus.exe 6f540b7c-6b78-4186-8080-27af11cceb69.idf: 45it [00:06,  7.88it/s]INFO:6f540b7c-6b78-4186-8080-27af11cceb69.idf:Updating Shadowing Calculations, Start Date=11/17/2017\n",
      "C:\\EnergyPlusV22-2-0\\energyplus.exe 6f540b7c-6b78-4186-8080-27af11cceb69.idf: 46it [00:06,  7.77it/s]INFO:f79d8163-25e1-4adf-baa8-2f59cacf4ff0.idf:Continuing Simulation at 12/27/2017 for CLIMATE STUDIO\n",
      "C:\\EnergyPlusV22-2-0\\energyplus.exe 6f540b7c-6b78-4186-8080-27af11cceb69.idf: 46it [00:06,  7.77it/s]INFO:6f540b7c-6b78-4186-8080-27af11cceb69.idf:Continuing Simulation at 11/17/2017 for CLIMATE STUDIO\n",
      "C:\\EnergyPlusV22-2-0\\energyplus.exe 6f540b7c-6b78-4186-8080-27af11cceb69.idf: 47it [00:06,  7.77it/s]INFO:f79d8163-25e1-4adf-baa8-2f59cacf4ff0.idf:Writing tabular output file results using comma format.\n",
      "C:\\EnergyPlusV22-2-0\\energyplus.exe 6f540b7c-6b78-4186-8080-27af11cceb69.idf: 47it [00:06,  7.77it/s]INFO:f79d8163-25e1-4adf-baa8-2f59cacf4ff0.idf:Writing tabular output file results using HTML format.\n"
     ]
    },
    {
     "name": "stdout",
     "output_type": "stream",
     "text": [
      "Updating Shadowing Calculations, Start Date=12/07/2017\n",
      "Continuing Simulation at 12/07/2017 for CLIMATE STUDIO\n",
      "Updating Shadowing Calculations, Start Date=12/27/2017\n",
      "Updating Shadowing Calculations, Start Date=11/17/2017\n",
      "Continuing Simulation at 12/27/2017 for CLIMATE STUDIO\n",
      "Continuing Simulation at 11/17/2017 for CLIMATE STUDIO\n",
      "Writing tabular output file results using comma format.\n",
      "Writing tabular output file results using HTML format.\n"
     ]
    },
    {
     "name": "stderr",
     "output_type": "stream",
     "text": [
      "C:\\EnergyPlusV22-2-0\\energyplus.exe 6f540b7c-6b78-4186-8080-27af11cceb69.idf: 47it [00:06,  7.77it/s]INFO:68a8f040-7069-4201-b73a-2b3173f5c8e4.idf:Updating Shadowing Calculations, Start Date=12/27/2017\n",
      "C:\\EnergyPlusV22-2-0\\energyplus.exe 6f540b7c-6b78-4186-8080-27af11cceb69.idf: 47it [00:06,  7.77it/s]INFO:f79d8163-25e1-4adf-baa8-2f59cacf4ff0.idf:Writing final SQL reports\n",
      "C:\\EnergyPlusV22-2-0\\energyplus.exe 6f540b7c-6b78-4186-8080-27af11cceb69.idf: 47it [00:06,  7.77it/s]INFO:68a8f040-7069-4201-b73a-2b3173f5c8e4.idf:Continuing Simulation at 12/27/2017 for CLIMATE STUDIO\n",
      "C:\\EnergyPlusV22-2-0\\energyplus.exe 6f540b7c-6b78-4186-8080-27af11cceb69.idf: 47it [00:06,  7.77it/s]INFO:f79d8163-25e1-4adf-baa8-2f59cacf4ff0.idf:EnergyPlus Run Time=00hr 00min  6.75sec\n",
      "C:\\EnergyPlusV22-2-0\\energyplus.exe 6f540b7c-6b78-4186-8080-27af11cceb69.idf: 47it [00:06,  7.77it/s]INFO:68a8f040-7069-4201-b73a-2b3173f5c8e4.idf:Writing tabular output file results using comma format.\n",
      "C:\\EnergyPlusV22-2-0\\energyplus.exe 6f540b7c-6b78-4186-8080-27af11cceb69.idf: 47it [00:06,  7.77it/s]INFO:68a8f040-7069-4201-b73a-2b3173f5c8e4.idf:Writing tabular output file results using HTML format.\n",
      "C:\\EnergyPlusV22-2-0\\energyplus.exe 6f540b7c-6b78-4186-8080-27af11cceb69.idf: 47it [00:06,  7.77it/s]INFO:6f540b7c-6b78-4186-8080-27af11cceb69.idf:Updating Shadowing Calculations, Start Date=12/07/2017\n",
      "C:\\EnergyPlusV22-2-0\\energyplus.exe 6f540b7c-6b78-4186-8080-27af11cceb69.idf: 48it [00:06,  7.86it/s]INFO:6f540b7c-6b78-4186-8080-27af11cceb69.idf:Continuing Simulation at 12/07/2017 for CLIMATE STUDIO\n",
      "C:\\EnergyPlusV22-2-0\\energyplus.exe 6f540b7c-6b78-4186-8080-27af11cceb69.idf: 49it [00:06,  7.86it/s]INFO:68a8f040-7069-4201-b73a-2b3173f5c8e4.idf:Writing final SQL reports\n",
      "C:\\EnergyPlusV22-2-0\\energyplus.exe 6f540b7c-6b78-4186-8080-27af11cceb69.idf: 49it [00:06,  7.86it/s]INFO:68a8f040-7069-4201-b73a-2b3173f5c8e4.idf:EnergyPlus Run Time=00hr 00min  6.72sec\n"
     ]
    },
    {
     "name": "stdout",
     "output_type": "stream",
     "text": [
      "Updating Shadowing Calculations, Start Date=12/27/2017\n",
      "Writing final SQL reports\n",
      "Continuing Simulation at 12/27/2017 for CLIMATE STUDIO\n",
      "EnergyPlus Run Time=00hr 00min  6.75sec\n",
      "Writing tabular output file results using comma format.\n",
      "Writing tabular output file results using HTML format.\n",
      "Updating Shadowing Calculations, Start Date=12/07/2017\n",
      "Continuing Simulation at 12/07/2017 for CLIMATE STUDIO\n",
      "Writing final SQL reports\n",
      "EnergyPlus Run Time=00hr 00min  6.72sec\n"
     ]
    },
    {
     "name": "stderr",
     "output_type": "stream",
     "text": [
      "C:\\EnergyPlusV22-2-0\\energyplus.exe 6f540b7c-6b78-4186-8080-27af11cceb69.idf: 49it [00:06,  7.86it/s]INFO:f79d8163-25e1-4adf-baa8-2f59cacf4ff0.idf:EnergyPlus Completed in 7.17 seconds\n",
      "C:\\EnergyPlusV22-2-0\\energyplus.exe 6f540b7c-6b78-4186-8080-27af11cceb69.idf: 49it [00:06,  7.86it/s]INFO:68a8f040-7069-4201-b73a-2b3173f5c8e4.idf:EnergyPlus Completed in 7.15 seconds\n"
     ]
    },
    {
     "name": "stdout",
     "output_type": "stream",
     "text": [
      "EnergyPlus Completed in 7.17 seconds\n",
      "EnergyPlus Completed in 7.15 seconds\n"
     ]
    },
    {
     "name": "stderr",
     "output_type": "stream",
     "text": [
      "C:\\EnergyPlusV22-2-0\\energyplus.exe 6f540b7c-6b78-4186-8080-27af11cceb69.idf: 49it [00:06,  7.86it/s]INFO:6f540b7c-6b78-4186-8080-27af11cceb69.idf:Updating Shadowing Calculations, Start Date=12/27/2017\n",
      "C:\\EnergyPlusV22-2-0\\energyplus.exe 6f540b7c-6b78-4186-8080-27af11cceb69.idf: 50it [00:06,  7.79it/s]INFO:6f540b7c-6b78-4186-8080-27af11cceb69.idf:Continuing Simulation at 12/27/2017 for CLIMATE STUDIO\n",
      "C:\\EnergyPlusV22-2-0\\energyplus.exe 6f540b7c-6b78-4186-8080-27af11cceb69.idf: 51it [00:06,  7.79it/s]INFO:6f540b7c-6b78-4186-8080-27af11cceb69.idf:Writing tabular output file results using comma format.\n",
      "C:\\EnergyPlusV22-2-0\\energyplus.exe 6f540b7c-6b78-4186-8080-27af11cceb69.idf: 52it [00:06,  7.79it/s]INFO:6f540b7c-6b78-4186-8080-27af11cceb69.idf:Writing tabular output file results using HTML format.\n",
      "C:\\EnergyPlusV22-2-0\\energyplus.exe 6f540b7c-6b78-4186-8080-27af11cceb69.idf: 53it [00:07,  7.79it/s]INFO:6f540b7c-6b78-4186-8080-27af11cceb69.idf:Writing final SQL reports\n",
      "C:\\EnergyPlusV22-2-0\\energyplus.exe 6f540b7c-6b78-4186-8080-27af11cceb69.idf: 54it [00:07, 11.66it/s]INFO:6f540b7c-6b78-4186-8080-27af11cceb69.idf:EnergyPlus Run Time=00hr 00min  6.77sec\n",
      "C:\\EnergyPlusV22-2-0\\energyplus.exe f79d8163-25e1-4adf-baa8-2f59cacf4ff0.idf: 55it [00:07,  7.26it/s]"
     ]
    },
    {
     "name": "stdout",
     "output_type": "stream",
     "text": [
      "Updating Shadowing Calculations, Start Date=12/27/2017\n",
      "Continuing Simulation at 12/27/2017 for CLIMATE STUDIO\n",
      "Writing tabular output file results using comma format.\n",
      "Writing tabular output file results using HTML format.\n",
      "Writing final SQL reports\n",
      "EnergyPlus Run Time=00hr 00min  6.77sec\n"
     ]
    },
    {
     "name": "stderr",
     "output_type": "stream",
     "text": [
      "\n",
      "C:\\EnergyPlusV22-2-0\\energyplus.exe 6f540b7c-6b78-4186-8080-27af11cceb69.idf: 55it [00:07, 11.66it/s]INFO:6f540b7c-6b78-4186-8080-27af11cceb69.idf:EnergyPlus Completed in 7.20 seconds\n",
      "C:\\EnergyPlusV22-2-0\\energyplus.exe 68a8f040-7069-4201-b73a-2b3173f5c8e4.idf: 55it [00:07,  7.17it/s]\n"
     ]
    },
    {
     "name": "stdout",
     "output_type": "stream",
     "text": [
      "EnergyPlus Completed in 7.20 seconds\n"
     ]
    },
    {
     "name": "stderr",
     "output_type": "stream",
     "text": [
      "INFO:archetypal:collected data for ['Zone Ideal Loads Supply Air Total Heating Energy', 'Zone Ideal Loads Supply Air Total Cooling Energy']\n",
      "INFO:archetypal:collected data for ['Zone Ideal Loads Supply Air Total Heating Energy', 'Zone Ideal Loads Supply Air Total Cooling Energy']\n",
      "C:\\EnergyPlusV22-2-0\\energyplus.exe 6f540b7c-6b78-4186-8080-27af11cceb69.idf: 55it [00:07,  7.12it/s]\n",
      "INFO:archetypal:collected data for ['Zone Ideal Loads Supply Air Total Heating Energy', 'Zone Ideal Loads Supply Air Total Cooling Energy']\n",
      "INFO:archetypal:collected data for ['Zone Ideal Loads Supply Air Total Heating Energy', 'Zone Ideal Loads Supply Air Total Cooling Energy']\n",
      "simulate:  92%|█████████▏| 11.0/12.0 [00:34<00:01, 1.86s/runs]INFO:archetypal:collected data for ['Zone Ideal Loads Supply Air Total Heating Energy', 'Zone Ideal Loads Supply Air Total Cooling Energy']\n",
      "INFO:archetypal:collected data for ['Zone Ideal Loads Supply Air Total Heating Energy', 'Zone Ideal Loads Supply Air Total Cooling Energy']\n",
      "simulate: 100%|██████████| 12.0/12.0 [00:34<00:00, 2.89s/runs]\n"
     ]
    }
   ],
   "source": [
    "from shoeboxer.batch import batch_sim, simulate\n",
    "# wb_shoebox_results = simulate(\n",
    "#     features=features.iloc[0],\n",
    "#     timeseries=schedules.squeeze(),\n",
    "#     climate=epw_path,\n",
    "# )\n",
    "\n",
    "wb_shoebox_results = batch_sim(\n",
    "    features=features,\n",
    "    timeseries=schedules.squeeze(),\n",
    "    climate=epw_path,\n",
    "    parallel=6,\n",
    "    psort=\"name\"\n",
    ")"
   ]
  },
  {
   "cell_type": "code",
   "execution_count": 18,
   "metadata": {},
   "outputs": [
    {
     "data": {
      "image/png": "[encoded data removed]",
      "text/plain": [
       "<Figure size 1000x800 with 4 Axes>"
      ]
     },
     "metadata": {},
     "output_type": "display_data"
    },
    {
     "data": {
      "image/png": "[encoded data removed]",
      "text/plain": [
       "<Figure size 640x480 with 1 Axes>"
      ]
     },
     "metadata": {},
     "output_type": "display_data"
    }
   ],
   "source": [
    "# shoebox_results = shoebox_results.set_index(\"box_name\")\n",
    "import matplotlib.pyplot as plt\n",
    "from matplotlib.ticker import (AutoMinorLocator, MultipleLocator)\n",
    "\n",
    "colors = {\n",
    "    \"bottom_south\":\"green\",\n",
    "    \"middle_south\": \"green\",\n",
    "    \"top_south\": \"green\",\n",
    "    \"bottom_east\":\"blue\",\n",
    "    \"middle_east\": \"blue\",\n",
    "    \"top_east\": \"blue\",\n",
    "    \"bottom_north\":\"yellow\",\n",
    "    \"middle_north\": \"yellow\",\n",
    "    \"top_north\": \"yellow\",\n",
    "    \"bottom_west\":\"purple\",\n",
    "    \"middle_west\": \"purple\",\n",
    "    \"top_west\": \"purple\",\n",
    "}\n",
    "fig,axs = plt.subplots(2,2,figsize=(10,8))\n",
    "axs = [axs[0,0],axs[0,1],axs[1,0],axs[1,1]]\n",
    "\n",
    "for i in range(12):\n",
    "    axs[0].plot(shoebox_results[\"Perimeter\"][\"Cooling\"].values[i],\"-o\",label=features.loc[i,\"name\"],c=colors[features.loc[i,\"name\"]])\n",
    "    axs[1].plot(shoebox_results[\"Perimeter\"][\"Heating\"].values[i],\"-o\",label=features.loc[i,\"name\"],c=colors[features.loc[i,\"name\"]])\n",
    "    axs[2].plot(shoebox_results[\"Core\"][\"Cooling\"].values[i],\"-o\",label=features.loc[i,\"name\"],c=colors[features.loc[i,\"name\"]])\n",
    "    axs[3].plot(shoebox_results[\"Core\"][\"Heating\"].values[i],\"-o\",label=features.loc[i,\"name\"],c=colors[features.loc[i,\"name\"]])\n",
    "\n",
    "\n",
    "# axs[0].set_ylim([0,80])\n",
    "# axs[1].set_ylim([0,5])\n",
    "axs[0].yaxis.set_major_locator(MultipleLocator(5))\n",
    "axs[1].yaxis.set_major_locator(MultipleLocator(1))\n",
    "axs[2].yaxis.set_major_locator(MultipleLocator(5))\n",
    "axs[3].yaxis.set_major_locator(MultipleLocator(1))\n",
    "\n",
    "axs[0].grid(axis=\"y\",which=\"major\")\n",
    "axs[1].grid(axis=\"y\",which=\"major\")\n",
    "axs[2].grid(axis=\"y\",which=\"major\")\n",
    "axs[3].grid(axis=\"y\",which=\"major\")\n",
    "\n",
    "axs[0].set_title(\"Perim Cooling\")\n",
    "axs[1].set_title(\"Perim Heating\")\n",
    "axs[2].set_title(\"Core Cooling\")\n",
    "axs[3].set_title(\"Core Heating\")\n",
    "plt.legend()\n",
    "fig.tight_layout()\n",
    "\n",
    "fig = plt.figure()\n",
    "plt.plot(shoebox_results[\"Perimeter\"][\"Cooling\"].mean(axis=0).values,\"-o\",color=\"blue\",label=\"Perimeter Cooling Mean\")\n",
    "plt.plot(shoebox_results[\"Perimeter\"][\"Heating\"].mean(axis=0).values,\"-o\",color=\"red\",label=\"Perimeter Heating Mean\")\n",
    "plt.plot(shoebox_results[\"Core\"][\"Cooling\"].mean(axis=0).values,\"-o\",color=\"lightblue\",label=\"Core Cooling Mean\",)\n",
    "plt.plot(shoebox_results[\"Core\"][\"Heating\"].mean(axis=0).values,\"-o\",color=\"pink\",label=\"Core Heating Mean\",)\n",
    "plt.gca().yaxis.set_major_locator(MultipleLocator(5))\n",
    "plt.legend()\n",
    "plt.grid(axis=\"y\",which=\"major\")"
   ]
  },
  {
   "attachments": {},
   "cell_type": "markdown",
   "metadata": {},
   "source": [
    "### Get CS results"
   ]
  },
  {
   "cell_type": "code",
   "execution_count": 19,
   "metadata": {},
   "outputs": [],
   "source": [
    "with open(results_dir, 'r') as f:\n",
    "    gh_results_data = json.load(f)\n",
    "gh_results_data = {(outerKey, innerKey): values for outerKey, innerDict in gh_results_data.items() for innerKey, values in innerDict.items()}\n",
    "gh_results_data = {outerKey + (innerKey,): values for outerKey, innerDict in gh_results_data.items() for innerKey, values in innerDict.items()}\n",
    "gh_results = pd.DataFrame.from_dict(gh_results_data)\n"
   ]
  },
  {
   "cell_type": "code",
   "execution_count": 20,
   "metadata": {},
   "outputs": [
    {
     "data": {
      "text/html": [
       "<div>\n",
       "<style scoped>\n",
       "    .dataframe tbody tr th:only-of-type {\n",
       "        vertical-align: middle;\n",
       "    }\n",
       "\n",
       "    .dataframe tbody tr th {\n",
       "        vertical-align: top;\n",
       "    }\n",
       "\n",
       "    .dataframe thead tr th {\n",
       "        text-align: left;\n",
       "    }\n",
       "</style>\n",
       "<table border=\"1\" class=\"dataframe\">\n",
       "  <thead>\n",
       "    <tr>\n",
       "      <th></th>\n",
       "      <th colspan=\"4\" halign=\"left\">CSshoeboxer</th>\n",
       "      <th colspan=\"4\" halign=\"left\">Autozoner</th>\n",
       "    </tr>\n",
       "    <tr>\n",
       "      <th></th>\n",
       "      <th colspan=\"2\" halign=\"left\">Cooling</th>\n",
       "      <th colspan=\"2\" halign=\"left\">Heating</th>\n",
       "      <th colspan=\"2\" halign=\"left\">Cooling</th>\n",
       "      <th colspan=\"2\" halign=\"left\">Heating</th>\n",
       "    </tr>\n",
       "    <tr>\n",
       "      <th></th>\n",
       "      <th>Core</th>\n",
       "      <th>Perimeter</th>\n",
       "      <th>Core</th>\n",
       "      <th>Perimeter</th>\n",
       "      <th>Core</th>\n",
       "      <th>Perimeter</th>\n",
       "      <th>Core</th>\n",
       "      <th>Perimeter</th>\n",
       "    </tr>\n",
       "  </thead>\n",
       "  <tbody>\n",
       "    <tr>\n",
       "      <th>0</th>\n",
       "      <td>0.000000</td>\n",
       "      <td>1.054948</td>\n",
       "      <td>1.703507</td>\n",
       "      <td>13.974754</td>\n",
       "      <td>0.000000</td>\n",
       "      <td>0.354981</td>\n",
       "      <td>1.673460</td>\n",
       "      <td>11.857067</td>\n",
       "    </tr>\n",
       "    <tr>\n",
       "      <th>1</th>\n",
       "      <td>0.000000</td>\n",
       "      <td>1.294965</td>\n",
       "      <td>0.849246</td>\n",
       "      <td>8.886686</td>\n",
       "      <td>0.000000</td>\n",
       "      <td>0.501879</td>\n",
       "      <td>1.010910</td>\n",
       "      <td>7.249470</td>\n",
       "    </tr>\n",
       "    <tr>\n",
       "      <th>2</th>\n",
       "      <td>0.000000</td>\n",
       "      <td>1.299750</td>\n",
       "      <td>0.495599</td>\n",
       "      <td>6.612002</td>\n",
       "      <td>0.000000</td>\n",
       "      <td>0.322583</td>\n",
       "      <td>0.597893</td>\n",
       "      <td>5.018839</td>\n",
       "    </tr>\n",
       "    <tr>\n",
       "      <th>3</th>\n",
       "      <td>0.028724</td>\n",
       "      <td>2.895866</td>\n",
       "      <td>0.040005</td>\n",
       "      <td>1.240676</td>\n",
       "      <td>0.026438</td>\n",
       "      <td>1.801030</td>\n",
       "      <td>0.073325</td>\n",
       "      <td>0.854288</td>\n",
       "    </tr>\n",
       "    <tr>\n",
       "      <th>4</th>\n",
       "      <td>0.440042</td>\n",
       "      <td>5.656253</td>\n",
       "      <td>0.000000</td>\n",
       "      <td>0.011197</td>\n",
       "      <td>0.372441</td>\n",
       "      <td>4.702527</td>\n",
       "      <td>0.000000</td>\n",
       "      <td>0.012970</td>\n",
       "    </tr>\n",
       "    <tr>\n",
       "      <th>5</th>\n",
       "      <td>2.084027</td>\n",
       "      <td>12.001422</td>\n",
       "      <td>0.000000</td>\n",
       "      <td>0.000000</td>\n",
       "      <td>1.826399</td>\n",
       "      <td>10.979220</td>\n",
       "      <td>0.000000</td>\n",
       "      <td>0.000000</td>\n",
       "    </tr>\n",
       "    <tr>\n",
       "      <th>6</th>\n",
       "      <td>3.140636</td>\n",
       "      <td>16.839430</td>\n",
       "      <td>0.000000</td>\n",
       "      <td>0.000000</td>\n",
       "      <td>2.743867</td>\n",
       "      <td>15.643620</td>\n",
       "      <td>0.000000</td>\n",
       "      <td>0.000000</td>\n",
       "    </tr>\n",
       "    <tr>\n",
       "      <th>7</th>\n",
       "      <td>2.719046</td>\n",
       "      <td>14.639725</td>\n",
       "      <td>0.000000</td>\n",
       "      <td>0.000000</td>\n",
       "      <td>2.389093</td>\n",
       "      <td>13.561639</td>\n",
       "      <td>0.000000</td>\n",
       "      <td>0.000000</td>\n",
       "    </tr>\n",
       "    <tr>\n",
       "      <th>8</th>\n",
       "      <td>1.731480</td>\n",
       "      <td>10.973739</td>\n",
       "      <td>0.000000</td>\n",
       "      <td>0.000000</td>\n",
       "      <td>1.556458</td>\n",
       "      <td>9.977817</td>\n",
       "      <td>0.000000</td>\n",
       "      <td>0.000000</td>\n",
       "    </tr>\n",
       "    <tr>\n",
       "      <th>9</th>\n",
       "      <td>0.119475</td>\n",
       "      <td>3.848925</td>\n",
       "      <td>0.000000</td>\n",
       "      <td>0.040378</td>\n",
       "      <td>0.184204</td>\n",
       "      <td>3.181652</td>\n",
       "      <td>0.000000</td>\n",
       "      <td>0.037112</td>\n",
       "    </tr>\n",
       "    <tr>\n",
       "      <th>10</th>\n",
       "      <td>0.001903</td>\n",
       "      <td>2.541938</td>\n",
       "      <td>0.020533</td>\n",
       "      <td>1.445004</td>\n",
       "      <td>0.061346</td>\n",
       "      <td>2.217786</td>\n",
       "      <td>0.120944</td>\n",
       "      <td>1.435980</td>\n",
       "    </tr>\n",
       "    <tr>\n",
       "      <th>11</th>\n",
       "      <td>0.000000</td>\n",
       "      <td>0.845998</td>\n",
       "      <td>1.079818</td>\n",
       "      <td>10.061963</td>\n",
       "      <td>0.000107</td>\n",
       "      <td>0.445524</td>\n",
       "      <td>1.141121</td>\n",
       "      <td>8.469415</td>\n",
       "    </tr>\n",
       "  </tbody>\n",
       "</table>\n",
       "</div>"
      ],
      "text/plain": [
       "   CSshoeboxer                                 Autozoner                       \\\n",
       "       Cooling              Heating              Cooling              Heating   \n",
       "          Core  Perimeter      Core  Perimeter      Core  Perimeter      Core   \n",
       "0     0.000000   1.054948  1.703507  13.974754  0.000000   0.354981  1.673460   \n",
       "1     0.000000   1.294965  0.849246   8.886686  0.000000   0.501879  1.010910   \n",
       "2     0.000000   1.299750  0.495599   6.612002  0.000000   0.322583  0.597893   \n",
       "3     0.028724   2.895866  0.040005   1.240676  0.026438   1.801030  0.073325   \n",
       "4     0.440042   5.656253  0.000000   0.011197  0.372441   4.702527  0.000000   \n",
       "5     2.084027  12.001422  0.000000   0.000000  1.826399  10.979220  0.000000   \n",
       "6     3.140636  16.839430  0.000000   0.000000  2.743867  15.643620  0.000000   \n",
       "7     2.719046  14.639725  0.000000   0.000000  2.389093  13.561639  0.000000   \n",
       "8     1.731480  10.973739  0.000000   0.000000  1.556458   9.977817  0.000000   \n",
       "9     0.119475   3.848925  0.000000   0.040378  0.184204   3.181652  0.000000   \n",
       "10    0.001903   2.541938  0.020533   1.445004  0.061346   2.217786  0.120944   \n",
       "11    0.000000   0.845998  1.079818  10.061963  0.000107   0.445524  1.141121   \n",
       "\n",
       "               \n",
       "               \n",
       "    Perimeter  \n",
       "0   11.857067  \n",
       "1    7.249470  \n",
       "2    5.018839  \n",
       "3    0.854288  \n",
       "4    0.012970  \n",
       "5    0.000000  \n",
       "6    0.000000  \n",
       "7    0.000000  \n",
       "8    0.000000  \n",
       "9    0.037112  \n",
       "10   1.435980  \n",
       "11   8.469415  "
      ]
     },
     "execution_count": 20,
     "metadata": {},
     "output_type": "execute_result"
    }
   ],
   "source": [
    "gh_results"
   ]
  },
  {
   "cell_type": "code",
   "execution_count": 27,
   "metadata": {},
   "outputs": [
    {
     "data": {
      "image/png": "[encoded data removed]",
      "text/plain": [
       "<Figure size 1000x1000 with 4 Axes>"
      ]
     },
     "metadata": {},
     "output_type": "display_data"
    }
   ],
   "source": [
    "ix = -1\n",
    "fig, axs = plt.subplots(2,2, figsize=(10,10))\n",
    "\n",
    "for col, zone in [(0,\"Perimeter\"), (1,\"Core\")]:\n",
    "    for row, end_use, color in [(0, \"Heating\", \"#ef5954\"),( 1, \"Cooling\", \"#6595ef\" )]:\n",
    "        axs[row,col].set_title(f\"{zone} {end_use}\")\n",
    "        axs[row,col].plot(shoebox_results[zone][end_use].values[ix], \"^-.\", label=f\"Surrogate {zone} {end_use}\", color=color)\n",
    "        axs[row,col].plot(wb_shoebox_results[zone][end_use].values[ix], \"--\", label=f\"Whitebox {zone} {end_use}\", color=color)\n",
    "        axs[row,col].plot(gh_results.CSshoeboxer[end_use][zone], \":\", label=f\"CS shoeboxer {zone} {end_use}\", color=color)\n",
    "        axs[row,col].plot(gh_results.Autozoner[end_use][zone], \"o-\", label=f\"CS Autozoner {zone} {end_use}\", color=color)\n",
    "        # legend\n",
    "        axs[row,col].legend()\n",
    "fig.tight_layout()\n",
    "\n",
    "absolute_max = max(axs[0, 0].get_ylim()[1], axs[1, 0].get_ylim()[1])\n",
    "grid_size = 5\n",
    "while absolute_max / grid_size > 20:\n",
    "    grid_size += 5 \n",
    "for i in range(2):\n",
    "    axs[0, i].yaxis.set_major_locator(MultipleLocator(grid_size))\n",
    "    axs[0, i].grid(which='major', color='#CCCCCC', linestyle='--')\n",
    "    axs[1, i].yaxis.set_major_locator(MultipleLocator(grid_size))\n",
    "    axs[1, i].grid(which='major', color='#CCCCCC', linestyle='--')\n",
    "    axs[0, i].set_ylim([0,1.25*absolute_max])\n",
    "    axs[1, i].set_ylim([0,1.25*absolute_max])\n",
    "plt.legend()\n",
    "plt.suptitle(f\"Monthly Comparison of {name}\")\n",
    "fig.tight_layout()"
   ]
  }
 ],
 "metadata": {
  "kernelspec": {
   "display_name": "Python 3",
   "language": "python",
   "name": "python3"
  },
  "language_info": {
   "codemirror_mode": {
    "name": "ipython",
    "version": 3
   },
   "file_extension": ".py",
   "mimetype": "text/x-python",
   "name": "python",
   "nbconvert_exporter": "python",
   "pygments_lexer": "ipython3",
   "version": "3.8.16"
  },
  "orig_nbformat": 4
 },
 "nbformat": 4,
 "nbformat_minor": 2
}

{
 "cells": [
  {
   "cell_type": "code",
   "execution_count": 1,
   "metadata": {},
   "outputs": [],
   "source": [
    "import boto3\n",
    "import os\n",
    "from pathlib import Path\n",
    "import pandas as pd\n",
    "from tqdm.notebook import tqdm\n",
    "\n",
    "client = boto3.client('s3')\n",
    "\n",
    "bucket = \"ml-for-bem\"\n",
    "experiment_name = \"single-climate-zone/v1/nyc\""
   ]
  },
  {
   "cell_type": "code",
   "execution_count": 5,
   "metadata": {},
   "outputs": [],
   "source": [
    "paginator = client.get_paginator('list_objects_v2')\n",
    "pages = paginator.paginate(Bucket=bucket, Prefix=experiment_name + \"/errors/\")\n",
    "\n",
    "error_ids = []\n",
    "files = []\n",
    "for page in pages:\n",
    "    for obj in page['Contents']:\n",
    "        files.append(obj['Key'])\n",
    "        error_ids.append(obj['Key'].split('/')[-1].split('.')[0])"
   ]
  },
  {
   "cell_type": "code",
   "execution_count": 7,
   "metadata": {},
   "outputs": [],
   "source": [
    "# get a list of all the files in the /monthly/ folder\n",
    "\n",
    "pages = paginator.paginate(Bucket=bucket, Prefix=experiment_name + \"/monthly/\")\n",
    "\n",
    "monthly_files = []\n",
    "for page in pages:\n",
    "    for obj in page['Contents']:\n",
    "        monthly_files.append(obj['Key'])"
   ]
  },
  {
   "cell_type": "code",
   "execution_count": 18,
   "metadata": {},
   "outputs": [
    {
     "data": {
      "application/json": {
       "ascii": false,
       "bar_format": null,
       "colour": null,
       "elapsed": 0.0030062198638916016,
       "initial": 0,
       "n": 0,
       "ncols": null,
       "nrows": null,
       "postfix": null,
       "prefix": "",
       "rate": null,
       "total": 2000,
       "unit": "it",
       "unit_divisor": 1000,
       "unit_scale": false
      },
      "application/vnd.jupyter.widget-view+json": {
       "model_id": "439afaa55b134a92afc26659286ef12b",
       "version_major": 2,
       "version_minor": 0
      },
      "text/plain": [
       "  0%|          | 0/2000 [00:00<?, ?it/s]"
      ]
     },
     "metadata": {},
     "output_type": "display_data"
    }
   ],
   "source": [
    "dfs = []\n",
    "\n",
    "# download all of the files in the monthly folder to data/{experiment_name}\n",
    "os.makedirs(\"data/hdf5/\" + experiment_name + \"/monthly\", exist_ok=True)\n",
    "i = 0\n",
    "for file in tqdm(monthly_files):\n",
    "    client.download_file(bucket, file, \"data/hdf5/\" + file)\n",
    "    with pd.HDFStore(\"data/hdf5/\" + file) as store:\n",
    "        dfs.append(store[\"batch_results\"])\n",
    "    i = i + 1\n",
    "\n",
    "dfs = pd.concat(dfs, axis=0)"
   ]
  },
  {
   "cell_type": "code",
   "execution_count": 6,
   "metadata": {},
   "outputs": [],
   "source": [
    "ids = dfs.index.get_level_values(\"id\")    \n",
    "error_mask = ids.isin(error_ids)\n",
    "dfs = dfs.set_index(error_mask,  append=True, )\n",
    "dfs.index.names = dfs.index.names[:-1] + [\"error\"]\n",
    "dfs.index.to_frame(index=False).head()\n",
    "dfs.to_hdf(\"data/hdf5/\" + experiment_name + \"/monthly.hdf\", key=\"batch_results\", mode=\"w\")"
   ]
  },
  {
   "cell_type": "code",
   "execution_count": 8,
   "metadata": {},
   "outputs": [],
   "source": [
    "# upload the monthly.hdf file to s3\n",
    "client.upload_file(\"data/hdf5/\" + experiment_name + \"/monthly.hdf\", bucket, experiment_name + \"/monthly.hdf\")"
   ]
  }
 ],
 "metadata": {
  "kernelspec": {
   "display_name": "ml-for-bem-final",
   "language": "python",
   "name": "python3"
  },
  "language_info": {
   "codemirror_mode": {
    "name": "ipython",
    "version": 3
   },
   "file_extension": ".py",
   "mimetype": "text/x-python",
   "name": "python",
   "nbconvert_exporter": "python",
   "pygments_lexer": "ipython3",
   "version": "3.8.17"
  },
  "orig_nbformat": 4
 },
 "nbformat": 4,
 "nbformat_minor": 2
}

{
 "cells": [
  {
   "cell_type": "code",
   "execution_count": 11,
   "metadata": {},
   "outputs": [],
   "source": [
    "import boto3\n",
    "import os\n",
    "from pathlib import Path\n",
    "import pandas as pd\n",
    "from tqdm.notebook import tqdm\n",
    "\n",
    "client = boto3.client('s3')\n",
    "\n",
    "bucket = \"ml-for-bem\"\n",
    "# experiment_name = \"single-climate-zone/v1/nyc\"\n",
    "# experiment_name = \"full_climate_zone/v1/train\"\n",
    "# experiment_name = \"full_climate_zone/v2/test\"\n",
    "# experiment_name = \"full_climate_zone/v3/train\"\n",
    "# experiment_name = \"full_climate_zone/v3/test\"\n",
    "# experiment_name = \"full_climate_zone/v4/train\"\n",
    "experiment_name = \"full_climate_zone/v4/test\""
   ]
  },
  {
   "cell_type": "code",
   "execution_count": 12,
   "metadata": {},
   "outputs": [
    {
     "ename": "KeyError",
     "evalue": "'Contents'",
     "output_type": "error",
     "traceback": [
      "\u001b[1;31m---------------------------------------------------------------------------\u001b[0m",
      "\u001b[1;31mKeyError\u001b[0m                                  Traceback (most recent call last)",
      "Cell \u001b[1;32mIn[12], line 7\u001b[0m\n\u001b[0;32m      5\u001b[0m files \u001b[39m=\u001b[39m []\n\u001b[0;32m      6\u001b[0m \u001b[39mfor\u001b[39;00m page \u001b[39min\u001b[39;00m pages:\n\u001b[1;32m----> 7\u001b[0m     \u001b[39mfor\u001b[39;00m obj \u001b[39min\u001b[39;00m page[\u001b[39m'\u001b[39;49m\u001b[39mContents\u001b[39;49m\u001b[39m'\u001b[39;49m]:\n\u001b[0;32m      8\u001b[0m         files\u001b[39m.\u001b[39mappend(obj[\u001b[39m'\u001b[39m\u001b[39mKey\u001b[39m\u001b[39m'\u001b[39m])\n\u001b[0;32m      9\u001b[0m         error_ids\u001b[39m.\u001b[39mappend(obj[\u001b[39m'\u001b[39m\u001b[39mKey\u001b[39m\u001b[39m'\u001b[39m]\u001b[39m.\u001b[39msplit(\u001b[39m'\u001b[39m\u001b[39m/\u001b[39m\u001b[39m'\u001b[39m)[\u001b[39m-\u001b[39m\u001b[39m1\u001b[39m]\u001b[39m.\u001b[39msplit(\u001b[39m'\u001b[39m\u001b[39m.\u001b[39m\u001b[39m'\u001b[39m)[\u001b[39m0\u001b[39m])\n",
      "\u001b[1;31mKeyError\u001b[0m: 'Contents'"
     ]
    }
   ],
   "source": [
    "paginator = client.get_paginator('list_objects_v2')\n",
    "pages = paginator.paginate(Bucket=bucket, Prefix=experiment_name + \"/errors/\")\n",
    "\n",
    "error_ids = []\n",
    "files = []\n",
    "for page in pages:\n",
    "    for obj in page['Contents']:\n",
    "        files.append(obj['Key'])\n",
    "        error_ids.append(obj['Key'].split('/')[-1].split('.')[0])\n",
    "print(len(error_ids))"
   ]
  },
  {
   "cell_type": "code",
   "execution_count": 13,
   "metadata": {},
   "outputs": [],
   "source": [
    "# get a list of all the files in the /monthly/ folder\n",
    "\n",
    "pages = paginator.paginate(Bucket=bucket, Prefix=experiment_name + \"/monthly/\")\n",
    "\n",
    "monthly_files = []\n",
    "for page in pages:\n",
    "    for obj in page['Contents']:\n",
    "        monthly_files.append(obj['Key'])"
   ]
  },
  {
   "cell_type": "code",
   "execution_count": 14,
   "metadata": {},
   "outputs": [
    {
     "data": {
      "application/json": {
       "ascii": false,
       "bar_format": null,
       "colour": null,
       "elapsed": 0.002998828887939453,
       "initial": 0,
       "n": 0,
       "ncols": null,
       "nrows": null,
       "postfix": null,
       "prefix": "",
       "rate": null,
       "total": 1992,
       "unit": "it",
       "unit_divisor": 1000,
       "unit_scale": false
      },
      "application/vnd.jupyter.widget-view+json": {
       "model_id": "d79df5e8be0349baab78b1cc59c6846a",
       "version_major": 2,
       "version_minor": 0
      },
      "text/plain": [
       "  0%|          | 0/1992 [00:00<?, ?it/s]"
      ]
     },
     "metadata": {},
     "output_type": "display_data"
    },
    {
     "name": "stdout",
     "output_type": "stream",
     "text": [
      "39009\n"
     ]
    }
   ],
   "source": [
    "dfs = []\n",
    "\n",
    "# download all of the files in the monthly folder to data/{experiment_name}\n",
    "os.makedirs(\"data/hdf5/\" + experiment_name + \"/monthly\", exist_ok=True)\n",
    "i = 0\n",
    "for file in tqdm(monthly_files):\n",
    "    client.download_file(bucket, file, \"data/hdf5/\" + file)\n",
    "    with pd.HDFStore(\"data/hdf5/\" + file) as store:\n",
    "        dfs.append(store[\"batch_results\"])\n",
    "    i = i + 1\n",
    "    os.remove(\"data/hdf5/\" + file)\n",
    "\n",
    "dfs = pd.concat(dfs, axis=0)\n",
    "print(len(dfs))"
   ]
  },
  {
   "cell_type": "code",
   "execution_count": 15,
   "metadata": {},
   "outputs": [],
   "source": [
    "ids = dfs.index.get_level_values(\"id\")    \n",
    "error_mask = ids.isin(error_ids)\n",
    "dfs = dfs.set_index(error_mask,  append=True, )\n",
    "dfs.index.names = dfs.index.names[:-1] + [\"error\"]\n",
    "dfs.index.to_frame(index=False).head()\n",
    "dfs.to_hdf(\"data/hdf5/\" + experiment_name + \"/monthly.hdf\", key=\"batch_results\", mode=\"w\")"
   ]
  },
  {
   "cell_type": "code",
   "execution_count": 16,
   "metadata": {},
   "outputs": [],
   "source": [
    "# upload the monthly.hdf file to s3\n",
    "client.upload_file(\"data/hdf5/\" + experiment_name + \"/monthly.hdf\", bucket, experiment_name + \"/monthly.hdf\")"
   ]
  }
 ],
 "metadata": {
  "kernelspec": {
   "display_name": "ml-for-bem-final",
   "language": "python",
   "name": "python3"
  },
  "language_info": {
   "codemirror_mode": {
    "name": "ipython",
    "version": 3
   },
   "file_extension": ".py",
   "mimetype": "text/x-python",
   "name": "python",
   "nbconvert_exporter": "python",
   "pygments_lexer": "ipython3",
   "version": "3.8.17"
  },
  "orig_nbformat": 4
 },
 "nbformat": 4,
 "nbformat_minor": 2
}

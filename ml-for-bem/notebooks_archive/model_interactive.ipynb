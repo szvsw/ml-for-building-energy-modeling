{
 "cells": [
  {
   "cell_type": "code",
   "execution_count": 1,
   "metadata": {},
   "outputs": [
    {
     "name": "stderr",
     "output_type": "stream",
     "text": [
      "ERROR:Schema:Failed to import a package! Be wary about continuing...\n",
      "Traceback (most recent call last):\n",
      "  File \"c:\\Users\\Sam Wolk\\Dropbox\\mit\\2023_spring\\ml\\ml-for-building-energy-modeling\\ml-for-bem\\schema.py\", line 25, in <module>\n",
      "    from pyumi.shoeboxer.shoebox import ShoeBox\n",
      "ModuleNotFoundError: No module named 'pyumi'\n"
     ]
    }
   ],
   "source": [
    "import numpy as np\n",
    "from data_manager import DataManager\n",
    "from schema import Schema"
   ]
  },
  {
   "cell_type": "code",
   "execution_count": 2,
   "metadata": {},
   "outputs": [
    {
     "name": "stderr",
     "output_type": "stream",
     "text": [
      "INFO:Model:Full monthly data set not found.  Downloading from GCloud Bucket...\n",
      "INFO:Storage:Downloading bucket:all_data_monthly.hdf5 to file:c:\\Users\\Sam Wolk\\Dropbox\\mit\\2023_spring\\ml\\ml-for-building-energy-modeling\\ml-for-bem\\data\\model_data_manager\\all_data_monthly.hdf5...\n",
      "INFO:Storage:Done downloading.\n",
      "INFO:Model:Done downloading dataset!\n",
      "INFO:Storage:Downloading bucket:default_schedules.npy to file:c:\\Users\\Sam Wolk\\Dropbox\\mit\\2023_spring\\ml\\ml-for-building-energy-modeling\\ml-for-bem\\data\\model_data_manager\\default_schedules.npy...\n",
      "INFO:Storage:Done downloading.\n",
      "INFO:Model:Loading the full dataset into main RAM...\n",
      "INFO:Model:Finished loading the full dataset.\n",
      "INFO:Model:Full Input Batch Size (in storage form, not MLVec Form): 382.750176MB\n",
      "INFO:Model:Loading climate data...\n",
      "INFO:Storage:Downloading bucket:tsol.npy to file:c:\\Users\\Sam Wolk\\Dropbox\\mit\\2023_spring\\ml\\ml-for-building-energy-modeling\\ml-for-bem\\data\\epws\\tsol.npy...\n",
      "INFO:Storage:Done downloading.\n",
      "INFO:Storage:Downloading bucket:climate_array.npy to file:c:\\Users\\Sam Wolk\\Dropbox\\mit\\2023_spring\\ml\\ml-for-building-energy-modeling\\ml-for-bem\\data\\epws\\climate_array.npy...\n",
      "INFO:Storage:Done downloading.\n",
      "INFO:Model:Finished loading climate data.\n"
     ]
    }
   ],
   "source": [
    "schema = Schema()\n",
    "data_manager = DataManager(schema)"
   ]
  },
  {
   "attachments": {},
   "cell_type": "markdown",
   "metadata": {},
   "source": [
    "The following cell can be used to geneate cached training data"
   ]
  },
  {
   "cell_type": "code",
   "execution_count": 13,
   "metadata": {},
   "outputs": [
    {
     "name": "stderr",
     "output_type": "stream",
     "text": [
      "INFO:Model:Making schedules... this may take a while...\n",
      "INFO:Model:Making dataset permutations...\n",
      "INFO:Model:Making permutation 0...\n",
      "INFO:Model:Saving permutation 0...\n"
     ]
    }
   ],
   "source": [
    "# uncomment to handle generating cached permutations\n",
    "train_batch = data_manager.full_storage_batch[0:100000] \n",
    "targets = data_manager.results[\"total_heating\"][0:100000]\n",
    "data_manager.make_batch_permutations(train_batch, targets, 1, \"training_demo\")"
   ]
  },
  {
   "attachments": {},
   "cell_type": "markdown",
   "metadata": {},
   "source": [
    "Minibatches can be used when dealing with a very large training dataset which can't be loaded into memory all at once."
   ]
  },
  {
   "cell_type": "code",
   "execution_count": 3,
   "metadata": {},
   "outputs": [],
   "source": [
    "minibatch_size = 10000"
   ]
  },
  {
   "cell_type": "code",
   "execution_count": 15,
   "metadata": {},
   "outputs": [
    {
     "data": {
      "text/plain": [
       "((10000, 11, 8760), (10000, 62))"
      ]
     },
     "execution_count": 15,
     "metadata": {},
     "output_type": "execute_result"
    }
   ],
   "source": [
    "mb = data_manager.load_minibatch(\"training_demo\",0,919, minibatch_size)\n",
    "mb.timeseries.shape, mb.ml_vectors.shape"
   ]
  },
  {
   "attachments": {},
   "cell_type": "markdown",
   "metadata": {},
   "source": [
    "You can also more manually construct the minibatches, but it comes at a time price.  However, if you can fit everything into memory, do this once and be done with it. "
   ]
  },
  {
   "cell_type": "code",
   "execution_count": 11,
   "metadata": {},
   "outputs": [],
   "source": [
    "minibatch_size = 10000"
   ]
  },
  {
   "cell_type": "code",
   "execution_count": 12,
   "metadata": {},
   "outputs": [],
   "source": [
    "ixs = np.random.choice(np.arange(500000, dtype=int), minibatch_size, replace=False)\n",
    "minibatch = data_manager.full_storage_batch[ixs]\n",
    "climate_timeseries = data_manager.get_batch_climate_timeseries(minibatch)\n",
    "bldg_params = data_manager.get_building_vector(minibatch)\n",
    "schedules = data_manager.make_schedules(minibatch)\n",
    "timeseries = np.concatenate((climate_timeseries, schedules), axis=1)\n",
    "\n",
    "# TODO: use schema based normalization, or just defining globals, make sure to avoid normalizing one hots.\n",
    "# TODO: make sure windows, facademass, get set to correct values due to archetypal autoadjustment before normalizing"
   ]
  },
  {
   "cell_type": "code",
   "execution_count": 9,
   "metadata": {},
   "outputs": [
    {
     "name": "stdout",
     "output_type": "stream",
     "text": [
      "-------- Schema --------\n",
      "---- batch_id ----\n",
      "shape storage: (1,) / shape ml: (0,)\n",
      "location storage: 0->1 / location ml: 0->0\n",
      "\n",
      "---- variation_id ----\n",
      "shape storage: (1,) / shape ml: (0,)\n",
      "location storage: 1->2 / location ml: 0->0\n",
      "\n",
      "---- program_type ----\n",
      "shape storage: (1,) / shape ml: (19,)\n",
      "location storage: 2->3 / location ml: 0->19\n",
      "\n",
      "---- vintage ----\n",
      "shape storage: (1,) / shape ml: (1,)\n",
      "location storage: 3->4 / location ml: 19->20\n",
      "\n",
      "---- climate_zone ----\n",
      "shape storage: (1,) / shape ml: (17,)\n",
      "location storage: 4->5 / location ml: 20->37\n",
      "\n",
      "---- base_epw ----\n",
      "shape storage: (1,) / shape ml: (0,)\n",
      "location storage: 5->6 / location ml: 37->37\n",
      "\n",
      "---- width ----\n",
      "shape storage: (1,) / shape ml: (1,)\n",
      "location storage: 6->7 / location ml: 37->38\n",
      "\n",
      "---- height ----\n",
      "shape storage: (1,) / shape ml: (1,)\n",
      "location storage: 7->8 / location ml: 38->39\n",
      "\n",
      "---- facade_2_footprint ----\n",
      "shape storage: (1,) / shape ml: (1,)\n",
      "location storage: 8->9 / location ml: 39->40\n",
      "\n",
      "---- perim_2_footprint ----\n",
      "shape storage: (1,) / shape ml: (1,)\n",
      "location storage: 9->10 / location ml: 40->41\n",
      "\n",
      "---- roof_2_footprint ----\n",
      "shape storage: (1,) / shape ml: (1,)\n",
      "location storage: 10->11 / location ml: 41->42\n",
      "\n",
      "---- footprint_2_ground ----\n",
      "shape storage: (1,) / shape ml: (1,)\n",
      "location storage: 11->12 / location ml: 42->43\n",
      "\n",
      "---- wwr ----\n",
      "shape storage: (1,) / shape ml: (1,)\n",
      "location storage: 12->13 / location ml: 43->44\n",
      "\n",
      "---- orientation ----\n",
      "shape storage: (1,) / shape ml: (4,)\n",
      "location storage: 13->14 / location ml: 44->48\n",
      "\n",
      "---- HeatingSetpoint ----\n",
      "shape storage: (1,) / shape ml: (1,)\n",
      "location storage: 14->15 / location ml: 48->49\n",
      "\n",
      "---- CoolingSetpoint ----\n",
      "shape storage: (1,) / shape ml: (1,)\n",
      "location storage: 15->16 / location ml: 49->50\n",
      "\n",
      "---- LightingPowerDensity ----\n",
      "shape storage: (1,) / shape ml: (1,)\n",
      "location storage: 16->17 / location ml: 50->51\n",
      "\n",
      "---- EquipmentPowerDensity ----\n",
      "shape storage: (1,) / shape ml: (1,)\n",
      "location storage: 17->18 / location ml: 51->52\n",
      "\n",
      "---- PeopleDensity ----\n",
      "shape storage: (1,) / shape ml: (1,)\n",
      "location storage: 18->19 / location ml: 52->53\n",
      "\n",
      "---- Infiltration ----\n",
      "shape storage: (1,) / shape ml: (1,)\n",
      "location storage: 19->20 / location ml: 53->54\n",
      "\n",
      "---- FacadeMass ----\n",
      "shape storage: (1,) / shape ml: (1,)\n",
      "location storage: 20->21 / location ml: 54->55\n",
      "\n",
      "---- RoofMass ----\n",
      "shape storage: (1,) / shape ml: (1,)\n",
      "location storage: 21->22 / location ml: 55->56\n",
      "\n",
      "---- FacadeRValue ----\n",
      "shape storage: (1,) / shape ml: (1,)\n",
      "location storage: 22->23 / location ml: 56->57\n",
      "\n",
      "---- RoofRValue ----\n",
      "shape storage: (1,) / shape ml: (1,)\n",
      "location storage: 23->24 / location ml: 57->58\n",
      "\n",
      "---- SlabRValue ----\n",
      "shape storage: (1,) / shape ml: (1,)\n",
      "location storage: 24->25 / location ml: 58->59\n",
      "\n",
      "---- WindowSettings ----\n",
      "shape storage: (3,) / shape ml: (3,)\n",
      "location storage: 25->28 / location ml: 59->62\n",
      "\n",
      "---- schedules_seed ----\n",
      "shape storage: (1,) / shape ml: (0,)\n",
      "location storage: 28->29 / location ml: 62->62\n",
      "\n",
      "---- schedules ----\n",
      "shape storage: (3, 21) / shape ml: (3, 8760)\n",
      "location storage: 29->92 / location ml: 62->26342\n",
      "\n",
      "Total length of storage vectors: 92 / Total length of ml vectors: 26342\n"
     ]
    }
   ],
   "source": [
    "print(schema)"
   ]
  },
  {
   "cell_type": "code",
   "execution_count": 10,
   "metadata": {},
   "outputs": [
    {
     "name": "stdout",
     "output_type": "stream",
     "text": [
      "(5000, 62)\n",
      "[0.         0.         0.         0.         0.         0.\n",
      " 0.         0.         0.         0.         0.         0.\n",
      " 0.         0.         0.         0.         0.         0.\n",
      " 0.         0.         0.         0.         0.         0.\n",
      " 0.         0.         0.         0.         0.         0.\n",
      " 0.         0.         0.         0.         0.         0.\n",
      " 0.         0.         0.         0.         0.         0.\n",
      " 0.         0.         0.         0.         0.         0.\n",
      " 0.         0.00522152 0.         0.         0.         0.\n",
      " 0.         0.         0.         0.         0.         0.\n",
      " 0.4787234  0.69148936] [1.         1.         1.         1.         0.         0.\n",
      " 0.         0.         0.         0.         0.         0.\n",
      " 0.         0.         0.         0.         0.         0.\n",
      " 0.         1.         0.         0.         1.         0.\n",
      " 1.         1.         1.         1.         1.         1.\n",
      " 1.         1.         1.         1.         0.         1.\n",
      " 1.         0.60378473 0.6853384  0.86002241 1.         1.\n",
      " 1.         1.         1.         1.         1.         1.\n",
      " 0.7488783  0.95937404 0.60245332 0.57930171 0.11279936 0.87834064\n",
      " 0.42689318 0.62575634 0.53279712 0.63815445 1.         1.\n",
      " 0.4787234  0.69148936]\n"
     ]
    },
    {
     "data": {
      "text/plain": [
       "(0.0, 0.5327971222760083)"
      ]
     },
     "execution_count": 10,
     "metadata": {},
     "output_type": "execute_result"
    }
   ],
   "source": [
    "param_ix = 56\n",
    "\n",
    "print(bldg_params.shape)\n",
    "print(np.min(bldg_params, axis=0), np.max(bldg_params, axis=0))\n",
    "np.min(bldg_params[:,param_ix]), np.max(bldg_params[:,param_ix])"
   ]
  }
 ],
 "metadata": {
  "kernelspec": {
   "display_name": "Python 3",
   "language": "python",
   "name": "python3"
  },
  "language_info": {
   "codemirror_mode": {
    "name": "ipython",
    "version": 3
   },
   "file_extension": ".py",
   "mimetype": "text/x-python",
   "name": "python",
   "nbconvert_exporter": "python",
   "pygments_lexer": "ipython3",
   "version": "3.8.16"
  },
  "orig_nbformat": 4
 },
 "nbformat": 4,
 "nbformat_minor": 2
}

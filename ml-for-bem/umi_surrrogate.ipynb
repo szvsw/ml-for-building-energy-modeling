{
 "cells": [
  {
   "cell_type": "code",
   "execution_count": 3,
   "metadata": {},
   "outputs": [
    {
     "name": "stderr",
     "output_type": "stream",
     "text": [
      "c:\\Users\\zoele\\anaconda3\\envs\\ml-for-bem\\lib\\site-packages\\outdated\\utils.py:14: OutdatedPackageWarning: The package outdated is out of date. Your version is 0.2.1, the latest is 0.2.2.\n",
      "Set the environment variable OUTDATED_IGNORE=1 to disable these warnings.\n",
      "  return warn(\n",
      "WARNING:pint.util:Redefining 'h' (<class 'pint.definitions.UnitDefinition'>)\n",
      "WARNING:pint.util:Redefining 'm3' (<class 'pint.definitions.UnitDefinition'>)\n",
      "WARNING:pint.util:Redefining 'm³' (<class 'pint.definitions.UnitDefinition'>)\n",
      "WARNING:pint.util:Redefining 'ft3' (<class 'pint.definitions.UnitDefinition'>)\n",
      "WARNING:pint.util:Redefining 'ft³' (<class 'pint.definitions.UnitDefinition'>)\n",
      "WARNING:pint.util:Redefining 'ft2' (<class 'pint.definitions.UnitDefinition'>)\n",
      "WARNING:pint.util:Redefining 'ft²' (<class 'pint.definitions.UnitDefinition'>)\n",
      "WARNING:pint.util:Redefining 'm2' (<class 'pint.definitions.UnitDefinition'>)\n",
      "WARNING:pint.util:Redefining 'm²' (<class 'pint.definitions.UnitDefinition'>)\n",
      "WARNING:pint.util:Redefining 'inch2' (<class 'pint.definitions.UnitDefinition'>)\n",
      "WARNING:pint.util:Redefining 'inch²' (<class 'pint.definitions.UnitDefinition'>)\n",
      "WARNING:pint.util:Redefining 'delta_degree_Celsius' (<class 'pint.definitions.UnitDefinition'>)\n",
      "WARNING:pint.util:Redefining 'Δ°C' (<class 'pint.definitions.UnitDefinition'>)\n",
      "WARNING:pint.util:Redefining 'Δcelsius' (<class 'pint.definitions.UnitDefinition'>)\n",
      "WARNING:pint.util:Redefining 'ΔdegC' (<class 'pint.definitions.UnitDefinition'>)\n",
      "WARNING:pint.util:Redefining 'ΔdegreeC' (<class 'pint.definitions.UnitDefinition'>)\n",
      "WARNING:pint.util:Redefining 'delta_celsius' (<class 'pint.definitions.UnitDefinition'>)\n",
      "WARNING:pint.util:Redefining 'delta_degC' (<class 'pint.definitions.UnitDefinition'>)\n",
      "WARNING:pint.util:Redefining 'delta_degreeC' (<class 'pint.definitions.UnitDefinition'>)\n",
      "WARNING:pint.util:Redefining 'degree_Celsius' (<class 'pint.definitions.UnitDefinition'>)\n",
      "WARNING:pint.util:Redefining '°C' (<class 'pint.definitions.UnitDefinition'>)\n",
      "WARNING:pint.util:Redefining 'celsius' (<class 'pint.definitions.UnitDefinition'>)\n",
      "WARNING:pint.util:Redefining 'degC' (<class 'pint.definitions.UnitDefinition'>)\n",
      "WARNING:pint.util:Redefining 'degreeC' (<class 'pint.definitions.UnitDefinition'>)\n",
      "WARNING:pint.util:Redefining 'C' (<class 'pint.definitions.UnitDefinition'>)\n"
     ]
    },
    {
     "name": "stdout",
     "output_type": "stream",
     "text": [
      "Couldn't import dot_parser, loading of dot files will not be possible.\n"
     ]
    },
    {
     "ename": "",
     "evalue": "",
     "output_type": "error",
     "traceback": [
      "\u001b[1;31mCannot execute code, session has been disposed. Please try restarting the Kernel."
     ]
    },
    {
     "ename": "",
     "evalue": "",
     "output_type": "error",
     "traceback": [
      "\u001b[1;31mThe Kernel crashed while executing code in the the current cell or a previous cell. Please review the code in the cell(s) to identify a possible cause of the failure. Click <a href='https://aka.ms/vscodeJupyterKernelCrash'>here</a> for more info. View Jupyter <a href='command:jupyter.viewOutput'>log</a> for further details."
     ]
    }
   ],
   "source": [
    "import pandas as pd\n",
    "import numpy as np\n",
    "import matplotlib.pyplot as plt\n",
    "from schema import Schema\n",
    "from umi_surrogate import UmiSurrogate\n",
    "from surrogate import Surrogate"
   ]
  },
  {
   "cell_type": "code",
   "execution_count": null,
   "metadata": {},
   "outputs": [],
   "source": [
    "# surrogate = Surrogate(schema=schema)\n",
    "\n",
    "# print(surrogate.eui_core_heating_max)\n",
    "# print(surrogate.eui_core_cooling_max)"
   ]
  },
  {
   "cell_type": "code",
   "execution_count": null,
   "metadata": {},
   "outputs": [],
   "source": [
    "# umi_path = \"D:/Users/zoelh/GitRepos/ml-for-building-energy-modeling/umi/Sample/SampleBuildings.umi\"\n",
    "# energy_results_path = \"C:/Users/zoele/Git_Repos/ml-for-building-energy-modeling/umi/SampleBuildings/eplus\"\n",
    "\n",
    "umi_path = \"C:/Users/zoele/Dropbox (MIT)/Thesis Work/Florianopolis/Florianopolis_reference2004energy.umi\"\n",
    "energy_results_path = \"C:/Users/zoele/Dropbox (MIT)/Thesis Work/Florianopolis/energy/Florianopolis_reference2004/eplus\"\n",
    "\n",
    "schema = Schema()"
   ]
  },
  {
   "cell_type": "markdown",
   "metadata": {},
   "source": [
    "Load and open the umi file - this may take a few moments."
   ]
  },
  {
   "cell_type": "code",
   "execution_count": null,
   "metadata": {},
   "outputs": [],
   "source": [
    "umi = UmiSurrogate.open(\n",
    "    umi_path=umi_path, \n",
    "    schema=schema,\n",
    "    compute_loss=True,\n",
    "    energy_results_path=energy_results_path,\n",
    "    checkpoint=\"deeper_output_net_with_leaky_relus_resumed/deeper_output_net_with_leaky_relus_resumed_202307232139_000_350000.pt\")"
   ]
  },
  {
   "cell_type": "code",
   "execution_count": null,
   "metadata": {},
   "outputs": [],
   "source": [
    "# pandas_df = pd.read_csv(\"C:/Users/zoele/Dropbox (MIT)/Thesis Work/Florianopolis/energy/Florianopolis_reference2004/eplus/Group0/SAMPLE0/40/SAMPLE0.csv\")\n",
    "# pandas_df.columns = pandas_df.columns.str.strip()"
   ]
  },
  {
   "cell_type": "code",
   "execution_count": null,
   "metadata": {},
   "outputs": [],
   "source": [
    "# new_p = \"D:/Users/zoelh/GitRepos/ml-for-building-energy-modeling/umi/Sample/SampleBuildings/eplus\"\n",
    "# new_p = \"C:/Users/zoele/Git_Repos/ml-for-building-energy-modeling/umi/SampleBuildings/eplus\"\n",
    "# umi.set_energy_path(new_p)\n",
    "umi.fetch_raw_shoebox_results(override=False)\n",
    "print(umi.shoeboxdf.shape)\n",
    "umi.shoeboxdf.head()"
   ]
  },
  {
   "cell_type": "code",
   "execution_count": null,
   "metadata": {},
   "outputs": [],
   "source": [
    "umi.shoeboxdf.columns"
   ]
  },
  {
   "cell_type": "code",
   "execution_count": null,
   "metadata": {},
   "outputs": [],
   "source": [
    "idf_path = umi.shoeboxdf['ShoeboxPath'][0]\n",
    "csv_path = idf_path.replace(\"idf\", \"csv\")\n",
    "pandas_df = pd.read_csv(csv_path)\n",
    "pandas_df.filter(regex=\"PERIM\").columns"
   ]
  },
  {
   "cell_type": "markdown",
   "metadata": {},
   "source": [
    "Temporary fix of window values"
   ]
  },
  {
   "cell_type": "code",
   "execution_count": null,
   "metadata": {},
   "outputs": [],
   "source": [
    "for t in umi.templates:\n",
    "    t_vect = umi.template_vectors_dict[t]['template_vect']\n",
    "    # replace u_value if too high\n",
    "    if t_vect[-3] > 1:\n",
    "        print(\"way too high u_val\")\n",
    "        t_vect[-3] = 1.0"
   ]
  },
  {
   "cell_type": "markdown",
   "metadata": {},
   "source": [
    "## Surrogate"
   ]
  },
  {
   "cell_type": "code",
   "execution_count": null,
   "metadata": {},
   "outputs": [],
   "source": [
    "true_loads, pred_loads, all_losses = umi.run_umi_batch(count=1000, batch_size=5)\n",
    "\n",
    "# TODO: something takes a long time after building the dataloader"
   ]
  },
  {
   "cell_type": "markdown",
   "metadata": {},
   "source": [
    "## Check shoebox ratios"
   ]
  },
  {
   "cell_type": "markdown",
   "metadata": {},
   "source": [
    "Ratio distributions of the umi file"
   ]
  },
  {
   "cell_type": "code",
   "execution_count": null,
   "metadata": {},
   "outputs": [],
   "source": [
    "umi.shoeboxdf.columns"
   ]
  },
  {
   "cell_type": "code",
   "execution_count": null,
   "metadata": {},
   "outputs": [],
   "source": [
    "ratios = ['Roof2FloorRatio', 'Ground2FloorRatio', 'Floor2Fac', 'Core2Perimeter']\n",
    "fig, axs = plt.subplots(1, 4, figsize=(10, 3))\n",
    "\n",
    "for i, ratio in enumerate(ratios):\n",
    "    umi.shoeboxdf[ratio].hist(ax=axs[i])\n",
    "    print(f\"{ratio} min: {umi.shoeboxdf[ratio].min()}, max {umi.shoeboxdf[ratio].max()}\")\n",
    "    axs[i].set_xlabel(ratio)\n",
    "fig.show()"
   ]
  },
  {
   "cell_type": "markdown",
   "metadata": {},
   "source": [
    "Area and ratio calcs check"
   ]
  },
  {
   "cell_type": "code",
   "execution_count": null,
   "metadata": {},
   "outputs": [],
   "source": [
    "%%time\n",
    "# WARNING: THIS TAKES A WHILE\n",
    "shoebox_collection = umi._fetch_shoeboxcollection()"
   ]
  },
  {
   "cell_type": "code",
   "execution_count": null,
   "metadata": {},
   "outputs": [],
   "source": [
    "core_areas = []\n",
    "perim_areas = []\n",
    "areas = []\n",
    "widths = []\n",
    "lengths = []\n",
    "\n",
    "for name, sb in shoebox_collection.items():\n",
    "    areas.append(sb.total_building_area)\n",
    "    widths.append(sb.width)\n",
    "    lengths.append(sb.length)\n",
    "    perim_areas.append(sb.idfobjects[\"ZONE\"][0].Floor_Area)\n",
    "    core_areas.append(sb.idfobjects[\"ZONE\"][1].Floor_Area)"
   ]
  },
  {
   "cell_type": "code",
   "execution_count": null,
   "metadata": {},
   "outputs": [],
   "source": [
    "shoebox_collection[2].view_model()"
   ]
  },
  {
   "cell_type": "code",
   "execution_count": null,
   "metadata": {},
   "outputs": [],
   "source": [
    "surfs = []\n",
    "for surf in shoebox_collection[2].idfobjects[\"BUILDINGSURFACE:DETAILED\"]:\n",
    "    if surf.Surface_Type.upper() == \"FLOOR\":\n",
    "        surfs.append(surf)\n",
    "calc_a = 0\n",
    "for s, surf in enumerate(surfs):\n",
    "    print(surf.area)\n",
    "    calc_a += surf.area\n",
    "    if s == 0:\n",
    "        x = float(getattr(surf, f\"Vertex_{1}_Xcoordinate\"))\n",
    "        y = float(getattr(surf, f\"Vertex_{1}_Ycoordinate\"))\n",
    "        v1 = v2 = v3 = v4 = (x, y)\n",
    "    for i in range(2, 5):\n",
    "        x = float(getattr(surf, f\"Vertex_{i}_Xcoordinate\"))\n",
    "        y = float(getattr(surf, f\"Vertex_{i}_Ycoordinate\"))\n",
    "        if x > v1[0]:\n",
    "            v1 = (x, y)\n",
    "        if x < v2[0]:\n",
    "            v2 = (x, y)\n",
    "        if y > v3[1]:\n",
    "            v3 = (x, y)\n",
    "        if y < v4[1]:\n",
    "            v4 = (x, y)\n",
    "            \n",
    "print(v1, v2, v3, v4)\n",
    "vertices = np.array([v1, v2, v3, v4])\n",
    "plt.scatter(vertices[:, 0], vertices[:, 1])\n",
    "# print(f\"Area = {x_max-x_min}\")"
   ]
  },
  {
   "cell_type": "code",
   "execution_count": null,
   "metadata": {},
   "outputs": [],
   "source": [
    "idx = 25\n",
    "print(\"Fractions calculated length\", (umi.shoeboxdf[\"Core2Perimeter\"][idx] + 1) * umi.perim_offset)\n",
    "print(\"Geomeppy calculated length\", shoebox_collection[idx].length)\n",
    "print(\"Geomeppy calculated width\", shoebox_collection[idx].width)\n",
    "print(\"Fractions calculated area\", (umi.shoeboxdf[\"Core2Perimeter\"][idx] + 1) * umi.perim_offset * umi.width)\n",
    "print(\"Geomeppy-based area (lxw)\", shoebox_collection[idx].width*shoebox_collection[idx].length)\n",
    "print(\"EPlus calculated area by zone area\", \n",
    "    shoebox_collection[idx].idfobjects[\"ZONE\"][0].Floor_Area + \n",
    "    shoebox_collection[idx].idfobjects[\"ZONE\"][1].Floor_Area\n",
    "    )\n",
    "print(\"Archetypal calculated area\", shoebox_collection[idx].total_building_area)\n",
    "print(\"Inputs (fractions) calculated perim area\", (umi.perim_offset * umi.width))\n",
    "print(\"Fractions calculated perim area (with sb.total_building_area)\", shoebox_collection[idx].total_building_area/(umi.shoeboxdf[\"Core2Perimeter\"][idx]+1))\n",
    "print(\"Eplus calculated perim area\", shoebox_collection[idx].idfobjects[\"ZONE\"][0].Floor_Area)"
   ]
  },
  {
   "cell_type": "code",
   "execution_count": null,
   "metadata": {},
   "outputs": [],
   "source": [
    "for surf in shoebox_collection[idx].idfobjects[\"ZONE\"][1].zonesurfaces:\n",
    "    try:\n",
    "        print(surf.Surface_Type)\n",
    "        print(surf.tilt)\n",
    "        print(surf.area)\n",
    "    except:\n",
    "        pass"
   ]
  },
  {
   "cell_type": "code",
   "execution_count": null,
   "metadata": {},
   "outputs": [],
   "source": [
    "print(max(areas))\n",
    "print(min(areas))"
   ]
  },
  {
   "cell_type": "code",
   "execution_count": null,
   "metadata": {},
   "outputs": [],
   "source": [
    "print(max(widths))\n",
    "print(min(widths))\n",
    "print(max(lengths))\n",
    "print(min(lengths))"
   ]
  },
  {
   "cell_type": "code",
   "execution_count": null,
   "metadata": {},
   "outputs": [],
   "source": [
    "print(max(core_areas))\n",
    "print(min(core_areas))"
   ]
  },
  {
   "cell_type": "code",
   "execution_count": null,
   "metadata": {},
   "outputs": [],
   "source": [
    "print(max(perim_areas))\n",
    "print(min(perim_areas))"
   ]
  },
  {
   "cell_type": "markdown",
   "metadata": {},
   "source": [
    "## Plot the building parameter distributions"
   ]
  },
  {
   "cell_type": "code",
   "execution_count": null,
   "metadata": {},
   "outputs": [],
   "source": [
    "umi.surrogate_plot_params(start_ix=0, count=262, include_whiskers=True, title=\"Parameter Overview\")"
   ]
  },
  {
   "cell_type": "markdown",
   "metadata": {},
   "source": [
    "Plot the results"
   ]
  },
  {
   "cell_type": "code",
   "execution_count": null,
   "metadata": {},
   "outputs": [],
   "source": [
    "import torch\n",
    "from sklearn.metrics import r2_score\n",
    "\n",
    "def plot_model_fits(true_loads, pred_loads):\n",
    "    true_loads = torch.sum(true_loads, axis=2)\n",
    "    pred_loads = torch.sum(pred_loads, axis=2)\n",
    "    maxes = torch.max(true_loads, dim=0)[0].reshape(1, 4)\n",
    "    true_loads = true_loads / maxes\n",
    "    pred_loads = pred_loads / maxes\n",
    "    true_loads = true_loads.cpu()\n",
    "    pred_loads = pred_loads.cpu()\n",
    "    r2_scores = []\n",
    "    for i, zone_name in enumerate(\n",
    "        (\"Perimeter Heating\", \"Perimeter Cooling\", \"Core Heating\", \"Core Cooling\")\n",
    "    ):\n",
    "        r2 = r2_score(true_loads[:, i], pred_loads[:, i])\n",
    "        print(zone_name, r2)\n",
    "        r2_scores.append(r2)\n",
    "    fig, axs = plt.subplots(2, 2, figsize=(12, 12))\n",
    "    identity = np.linspace(0, 1, 10)\n",
    "    plt.suptitle(\"Annual Model Fits\")\n",
    "    axs[0, 0].scatter(true_loads[:, 0], pred_loads[:, 0], s=1, alpha=0.3)\n",
    "    axs[0, 1].scatter(true_loads[:, 1], pred_loads[:, 1], s=1, alpha=0.3)\n",
    "    axs[1, 0].scatter(true_loads[:, 2], pred_loads[:, 2], s=1, alpha=0.3)\n",
    "    axs[1, 1].scatter(true_loads[:, 3], pred_loads[:, 3], s=1, alpha=0.3)\n",
    "    axs[0, 0].plot(identity, identity, color=\"dodgerblue\", label=\"Perfect Model\")\n",
    "    axs[0, 1].plot(identity, identity, color=\"dodgerblue\")\n",
    "    axs[1, 0].plot(identity, identity, color=\"dodgerblue\")\n",
    "    axs[1, 1].plot(identity, identity, color=\"dodgerblue\")\n",
    "    axs[0, 0].set_ylabel(\"Perimeter\")\n",
    "    axs[1, 0].set_ylabel(\"Core\")\n",
    "    axs[1, 0].set_xlabel(\"Heating\")\n",
    "    axs[1, 1].set_xlabel(\"Cooling\")\n",
    "    axs[0, 0].legend()\n",
    "    fig.tight_layout()"
   ]
  },
  {
   "cell_type": "code",
   "execution_count": null,
   "metadata": {},
   "outputs": [],
   "source": [
    "true_loads.max()"
   ]
  },
  {
   "cell_type": "code",
   "execution_count": null,
   "metadata": {},
   "outputs": [],
   "source": [
    "pred_loads.max()"
   ]
  },
  {
   "cell_type": "code",
   "execution_count": null,
   "metadata": {},
   "outputs": [],
   "source": [
    "plot_model_fits(true_loads, pred_loads)"
   ]
  },
  {
   "cell_type": "code",
   "execution_count": null,
   "metadata": {},
   "outputs": [],
   "source": [
    "# ix = np.random.choice(np.arange(true_loads.shape[0]), plot_count, replace=False)\n",
    "fig, axs = plt.subplots(1, 2, figsize=(10, 4))\n",
    "plt.suptitle(\"Model Comparison\")\n",
    "\n",
    "lineweight = 0.1\n",
    "alpha = 0.5\n",
    "\n",
    "for i in range(1262):\n",
    "    axs[0].plot(true_loads[i, 0].cpu(), label=\"Heating (true)\", linewidth=lineweight, alpha=alpha, color='orange')\n",
    "    axs[0].plot(true_loads[i, 1].cpu(), label=\"Cooling (true)\", linewidth=lineweight, alpha=alpha, color='cornflowerblue')\n",
    "    axs[1].plot(true_loads[i, 2].cpu(), label=\"Heating (true)\", linewidth=lineweight, alpha=alpha, color='orange')\n",
    "    axs[1].plot(true_loads[i, 3].cpu(), label=\"Cooling (true)\", linewidth=lineweight, alpha=alpha, color='cornflowerblue')\n",
    "    # axs[0].plot(pred_loads[i, 0].cpu(), \"-o\", label=\"Heating (predicted)\")\n",
    "    # axs[0].plot(pred_loads[i, 1].cpu(), \"-o\", label=\"Cooling (predicted)\")\n",
    "    # axs[1].plot(pred_loads[i, 2].cpu(), \"-o\", label=\"Heating (predicted)\")\n",
    "    # axs[1].plot(pred_loads[i, 3].cpu(), \"-o\", label=\"Cooling (predicted)\")\n",
    "\n",
    "axs[0].set_ylim([-0.01, 1])\n",
    "axs[1].set_ylim([-0.01, 10])\n",
    "axs[0].set_title(\"Perimeter\")\n",
    "axs[1].set_title(\"Core\")\n",
    "fig.show()\n"
   ]
  },
  {
   "cell_type": "markdown",
   "metadata": {},
   "source": [
    "Monthly comparison"
   ]
  },
  {
   "cell_type": "code",
   "execution_count": null,
   "metadata": {},
   "outputs": [],
   "source": [
    "def plot_model_comparisons(true_loads, pred_loads, plot_count=4, ylim=[-0.01, 1]):\n",
    "    ix = np.random.choice(np.arange(true_loads.shape[0]), plot_count, replace=False)\n",
    "    for i in ix:\n",
    "        fig, axs = plt.subplots(1, 2, figsize=(10, 4))\n",
    "        plt.suptitle(\"Model Comparison\")\n",
    "        axs[0].plot(true_loads[i, 0].cpu(), label=\"Heating (true)\")\n",
    "        axs[0].plot(true_loads[i, 1].cpu(), label=\"Cooling (true)\")\n",
    "        axs[1].plot(true_loads[i, 2].cpu(), label=\"Heating (true)\")\n",
    "        axs[1].plot(true_loads[i, 3].cpu(), label=\"Cooling (true)\")\n",
    "        axs[0].plot(pred_loads[i, 0].cpu(), \"-o\", label=\"Heating (predicted)\")\n",
    "        axs[0].plot(pred_loads[i, 1].cpu(), \"-o\", label=\"Cooling (predicted)\")\n",
    "        axs[1].plot(pred_loads[i, 2].cpu(), \"-o\", label=\"Heating (predicted)\")\n",
    "        axs[1].plot(pred_loads[i, 3].cpu(), \"-o\", label=\"Cooling (predicted)\")\n",
    "        # axs[0].set_ylim(ylim)\n",
    "        # axs[1].set_ylim(ylim)\n",
    "        axs[0].set_title(\"Perimeter\")\n",
    "        axs[1].set_title(\"Core\")\n",
    "        axs[0].legend()\n",
    "        axs[1].legend()\n"
   ]
  },
  {
   "cell_type": "code",
   "execution_count": null,
   "metadata": {},
   "outputs": [],
   "source": [
    "plot_model_comparisons(true_loads, pred_loads, plot_count=3, ylim=[-0.01,8])"
   ]
  },
  {
   "cell_type": "markdown",
   "metadata": {},
   "source": [
    "Plot the errors/losses"
   ]
  },
  {
   "cell_type": "code",
   "execution_count": null,
   "metadata": {},
   "outputs": [],
   "source": [
    "print(all_losses.mean())\n",
    "print(all_losses.min())\n",
    "print(all_losses.max())"
   ]
  },
  {
   "cell_type": "markdown",
   "metadata": {},
   "source": [
    "## Visualizations"
   ]
  },
  {
   "cell_type": "code",
   "execution_count": null,
   "metadata": {},
   "outputs": [],
   "source": [
    "# Plot all of the radiation values\n",
    "\n",
    "import matplotlib.pyplot as plt\n",
    "from pandas import DatetimeIndex\n",
    "\n",
    "orient_lookup = {\n",
    "    'North': 0,\n",
    "    'East': 1,\n",
    "    'South': 2,\n",
    "    'West': 3\n",
    "}\n",
    "cols = ['red', 'blue', 'orange', 'purple']\n",
    "\n",
    "shoebox_ids = umi.get_shoebox_template_ids(0, 364)\n",
    "\n",
    "fig, axes = plt.subplots(2, 2, figsize=(10, 8))\n",
    "axes = axes.flatten()\n",
    "for sb_id in shoebox_ids:\n",
    "    orient = umi.shoeboxdf['Orientation'][sb_id] #.to_list()[0]\n",
    "    idf_path = umi.shoeboxdf['ShoeboxPath'][sb_id]\n",
    "    csv_path = idf_path.replace(\"idf\", \"csv\")\n",
    "    df = pd.read_csv(csv_path)\n",
    "    rad = df['PERIM:Zone Windows Total Transmitted Solar Radiation Energy [J](Hourly)']\n",
    "    rad = df.groupby(np.arange(len(rad))//24).sum()\n",
    "    axes[orient_lookup[orient]].plot(rad, cols[orient_lookup[orient]],alpha=0.1)\n",
    "for i, ax in enumerate(axes):\n",
    "    ax.set_title(list(orient_lookup.keys())[i])\n",
    "fig.suptitle(\"Solar gain through window by orientation\")\n",
    "fig.tight_layout()\n",
    "plt.show()"
   ]
  }
 ],
 "metadata": {
  "kernelspec": {
   "display_name": "ml-for-bem",
   "language": "python",
   "name": "python3"
  },
  "language_info": {
   "codemirror_mode": {
    "name": "ipython",
    "version": 3
   },
   "file_extension": ".py",
   "mimetype": "text/x-python",
   "name": "python",
   "nbconvert_exporter": "python",
   "pygments_lexer": "ipython3",
   "version": "3.8.13"
  },
  "orig_nbformat": 4
 },
 "nbformat": 4,
 "nbformat_minor": 2
}

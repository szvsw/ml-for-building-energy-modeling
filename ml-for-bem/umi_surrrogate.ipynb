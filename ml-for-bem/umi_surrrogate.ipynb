{
 "cells": [
  {
   "cell_type": "code",
   "execution_count": 1,
   "metadata": {},
   "outputs": [
    {
     "name": "stderr",
     "output_type": "stream",
     "text": [
      "WARNING:pint.util:Redefining 'h' (<class 'pint.definitions.UnitDefinition'>)\n",
      "WARNING:pint.util:Redefining 'm3' (<class 'pint.definitions.UnitDefinition'>)\n",
      "WARNING:pint.util:Redefining 'm³' (<class 'pint.definitions.UnitDefinition'>)\n",
      "WARNING:pint.util:Redefining 'ft3' (<class 'pint.definitions.UnitDefinition'>)\n",
      "WARNING:pint.util:Redefining 'ft³' (<class 'pint.definitions.UnitDefinition'>)\n",
      "WARNING:pint.util:Redefining 'ft2' (<class 'pint.definitions.UnitDefinition'>)\n",
      "WARNING:pint.util:Redefining 'ft²' (<class 'pint.definitions.UnitDefinition'>)\n",
      "WARNING:pint.util:Redefining 'm2' (<class 'pint.definitions.UnitDefinition'>)\n",
      "WARNING:pint.util:Redefining 'm²' (<class 'pint.definitions.UnitDefinition'>)\n",
      "WARNING:pint.util:Redefining 'inch2' (<class 'pint.definitions.UnitDefinition'>)\n",
      "WARNING:pint.util:Redefining 'inch²' (<class 'pint.definitions.UnitDefinition'>)\n",
      "WARNING:pint.util:Redefining 'delta_degree_Celsius' (<class 'pint.definitions.UnitDefinition'>)\n",
      "WARNING:pint.util:Redefining 'Δ°C' (<class 'pint.definitions.UnitDefinition'>)\n",
      "WARNING:pint.util:Redefining 'Δcelsius' (<class 'pint.definitions.UnitDefinition'>)\n",
      "WARNING:pint.util:Redefining 'ΔdegC' (<class 'pint.definitions.UnitDefinition'>)\n",
      "WARNING:pint.util:Redefining 'ΔdegreeC' (<class 'pint.definitions.UnitDefinition'>)\n",
      "WARNING:pint.util:Redefining 'delta_celsius' (<class 'pint.definitions.UnitDefinition'>)\n",
      "WARNING:pint.util:Redefining 'delta_degC' (<class 'pint.definitions.UnitDefinition'>)\n",
      "WARNING:pint.util:Redefining 'delta_degreeC' (<class 'pint.definitions.UnitDefinition'>)\n",
      "WARNING:pint.util:Redefining 'degree_Celsius' (<class 'pint.definitions.UnitDefinition'>)\n",
      "WARNING:pint.util:Redefining '°C' (<class 'pint.definitions.UnitDefinition'>)\n",
      "WARNING:pint.util:Redefining 'celsius' (<class 'pint.definitions.UnitDefinition'>)\n",
      "WARNING:pint.util:Redefining 'degC' (<class 'pint.definitions.UnitDefinition'>)\n",
      "WARNING:pint.util:Redefining 'degreeC' (<class 'pint.definitions.UnitDefinition'>)\n",
      "WARNING:pint.util:Redefining 'C' (<class 'pint.definitions.UnitDefinition'>)\n",
      "INFO:UmiSurrogate:Umi shoebox hourly energy will be saved in d:\\Users\\zoelh\\GitRepos\\ml-for-building-energy-modeling\\ml-for-bem\\umi\\energy\n"
     ]
    }
   ],
   "source": [
    "import pandas as pd\n",
    "import numpy as np\n",
    "import matplotlib.pyplot as plt\n",
    "from schema import Schema\n",
    "from umi_surrogate import UmiSurrogate\n",
    "from surrogate import Surrogate"
   ]
  },
  {
   "cell_type": "code",
   "execution_count": 2,
   "metadata": {},
   "outputs": [],
   "source": [
    "# surrogate = Surrogate(schema=schema)\n",
    "\n",
    "# print(surrogate.eui_core_heating_max)\n",
    "# print(surrogate.eui_core_cooling_max)"
   ]
  },
  {
   "cell_type": "code",
   "execution_count": 3,
   "metadata": {},
   "outputs": [],
   "source": [
    "umi_path = \"D:/Users/zoelh/GitRepos/ml-for-building-energy-modeling/umi/Sample/SampleBuildings.umi\"\n",
    "energy_results_path = \"C:/Users/zoele/Git_Repos/ml-for-building-energy-modeling/umi/SampleBuildings/eplus\"\n",
    "\n",
    "# umi_path = \"C:/Users/zoele/Dropbox (MIT)/Thesis Work/Florianopolis/Florianopolis_reference2004energy.umi\"\n",
    "# energy_results_path = \"C:/Users/zoele/Dropbox (MIT)/Thesis Work/Florianopolis/energy/Florianopolis_reference2004/eplus\"\n",
    "\n",
    "schema = Schema()"
   ]
  },
  {
   "cell_type": "markdown",
   "metadata": {},
   "source": [
    "Load and open the umi file - this may take a few moments."
   ]
  },
  {
   "cell_type": "code",
   "execution_count": 4,
   "metadata": {},
   "outputs": [
    {
     "name": "stderr",
     "output_type": "stream",
     "text": [
      "INFO:UmiSurrogate:Opening umi project. This may take a few moments...\n",
      "INFO:UmiSurrogate:Project name: SampleBuildings\n",
      "INFO:UmiSurrogate:Setting up umi surrogate...\n",
      "INFO:UmiSurrogate:Extracting climate data from umi project.\n",
      "INFO:UmiSurrogate:Successfully loaded EPW file Data for [Boston Logan IntL Arpt]\n",
      "INFO:UmiSurrogate:Climate vector loaded with shape (7, 8760)\n",
      "INFO:UmiSurrogate:Collecting data from building templates...\n",
      "WARNING:archetypal:Modeling layer thinner (less) than 0.003 m (not recommended) for MaterialLayer '5:Fiberglass_Batts with thickness of 0.001 m'\n",
      "WARNING:archetypal:Modeling layer thinner (less) than 0.003 m (not recommended) for MaterialLayer '5:Fiberglass_Batts with thickness of 0.001 m'\n",
      "INFO:Surrogate:Using cuda for surrogate model.\n",
      "INFO:Surrogate:28 building parameters per input vector\n",
      "INFO:Surrogate:11 timeseries per input vector\n",
      "INFO:Surrogate:4 timeseries per output vector\n",
      "INFO:Surrogate:12 timesteps in output.\n",
      "INFO:Surrogate:Initializing machine learning objects...\n",
      "INFO:Surrogate:ML objects initialized.\n"
     ]
    }
   ],
   "source": [
    "umi = UmiSurrogate.open(\n",
    "    umi_path=umi_path, \n",
    "    schema=schema,\n",
    "    compute_loss=True,\n",
    "    energy_results_path=energy_results_path,\n",
    "    checkpoint=\"deeper_output_net_with_leaky_relus_resumed/deeper_output_net_with_leaky_relus_resumed_202307232139_000_350000.pt\")"
   ]
  },
  {
   "cell_type": "code",
   "execution_count": 5,
   "metadata": {},
   "outputs": [],
   "source": [
    "# pandas_df = pd.read_csv(\"C:/Users/zoele/Dropbox (MIT)/Thesis Work/Florianopolis/energy/Florianopolis_reference2004/eplus/Group0/SAMPLE0/40/SAMPLE0.csv\")\n",
    "# pandas_df.columns = pandas_df.columns.str.strip()"
   ]
  },
  {
   "cell_type": "code",
   "execution_count": 6,
   "metadata": {},
   "outputs": [
    {
     "name": "stderr",
     "output_type": "stream",
     "text": [
      "INFO:UmiSurrogate:Hourly output already calculated and saved under d:\\Users\\zoelh\\GitRepos\\ml-for-building-energy-modeling\\ml-for-bem\\umi\\energy\\SampleBuildings_shoeboxhourlyresults.hdf5.\n"
     ]
    },
    {
     "name": "stdout",
     "output_type": "stream",
     "text": [
      "(364, 25)\n"
     ]
    },
    {
     "data": {
      "text/html": [
       "<div>\n",
       "<style scoped>\n",
       "    .dataframe tbody tr th:only-of-type {\n",
       "        vertical-align: middle;\n",
       "    }\n",
       "\n",
       "    .dataframe tbody tr th {\n",
       "        vertical-align: top;\n",
       "    }\n",
       "\n",
       "    .dataframe thead th {\n",
       "        text-align: right;\n",
       "    }\n",
       "</style>\n",
       "<table border=\"1\" class=\"dataframe\">\n",
       "  <thead>\n",
       "    <tr style=\"text-align: right;\">\n",
       "      <th></th>\n",
       "      <th>ParentBuildingId</th>\n",
       "      <th>PerimeterAreaWeight</th>\n",
       "      <th>CoreAreaWeight</th>\n",
       "      <th>PerimeterArea</th>\n",
       "      <th>CoreArea</th>\n",
       "      <th>Orientation</th>\n",
       "      <th>ClusterId</th>\n",
       "      <th>Roof2FloorRatio</th>\n",
       "      <th>Ground2FloorRatio</th>\n",
       "      <th>Floor2Fac</th>\n",
       "      <th>...</th>\n",
       "      <th>Height</th>\n",
       "      <th>Name</th>\n",
       "      <th>Occupancy</th>\n",
       "      <th>TemplateName</th>\n",
       "      <th>UseType</th>\n",
       "      <th>WwrE</th>\n",
       "      <th>WwrN</th>\n",
       "      <th>WwrS</th>\n",
       "      <th>WwrW</th>\n",
       "      <th>geometry</th>\n",
       "    </tr>\n",
       "  </thead>\n",
       "  <tbody>\n",
       "    <tr>\n",
       "      <th>0</th>\n",
       "      <td>45528662-89aa-7b48-8da3-1153c0ecbd22</td>\n",
       "      <td>258.010417</td>\n",
       "      <td>344.437341</td>\n",
       "      <td>1255.630962</td>\n",
       "      <td>1676.23538</td>\n",
       "      <td>West</td>\n",
       "      <td>Group0</td>\n",
       "      <td>0.25</td>\n",
       "      <td>0.25</td>\n",
       "      <td>0.820404</td>\n",
       "      <td>...</td>\n",
       "      <td>13.122101</td>\n",
       "      <td>3633.0</td>\n",
       "      <td>586</td>\n",
       "      <td>PROG_00_VINTAGE_03_MASS_0</td>\n",
       "      <td>Uncategorized</td>\n",
       "      <td>0.4</td>\n",
       "      <td>0.4</td>\n",
       "      <td>0.4</td>\n",
       "      <td>0.4</td>\n",
       "      <td>MULTIPOLYGON (((3548.30123 927.87828, 3553.338...</td>\n",
       "    </tr>\n",
       "    <tr>\n",
       "      <th>1</th>\n",
       "      <td>45528662-89aa-7b48-8da3-1153c0ecbd22</td>\n",
       "      <td>23.925238</td>\n",
       "      <td>31.939584</td>\n",
       "      <td>1255.630962</td>\n",
       "      <td>1676.23538</td>\n",
       "      <td>West</td>\n",
       "      <td>Group0</td>\n",
       "      <td>0.25</td>\n",
       "      <td>0.25</td>\n",
       "      <td>0.820404</td>\n",
       "      <td>...</td>\n",
       "      <td>13.122101</td>\n",
       "      <td>3633.0</td>\n",
       "      <td>586</td>\n",
       "      <td>PROG_00_VINTAGE_03_MASS_0</td>\n",
       "      <td>Uncategorized</td>\n",
       "      <td>0.4</td>\n",
       "      <td>0.4</td>\n",
       "      <td>0.4</td>\n",
       "      <td>0.4</td>\n",
       "      <td>MULTIPOLYGON (((3548.30123 927.87828, 3553.338...</td>\n",
       "    </tr>\n",
       "    <tr>\n",
       "      <th>2</th>\n",
       "      <td>45528662-89aa-7b48-8da3-1153c0ecbd22</td>\n",
       "      <td>319.021121</td>\n",
       "      <td>425.885078</td>\n",
       "      <td>1255.630962</td>\n",
       "      <td>1676.23538</td>\n",
       "      <td>North</td>\n",
       "      <td>Group0</td>\n",
       "      <td>0.25</td>\n",
       "      <td>0.25</td>\n",
       "      <td>0.820404</td>\n",
       "      <td>...</td>\n",
       "      <td>13.122101</td>\n",
       "      <td>3633.0</td>\n",
       "      <td>586</td>\n",
       "      <td>PROG_00_VINTAGE_03_MASS_0</td>\n",
       "      <td>Uncategorized</td>\n",
       "      <td>0.4</td>\n",
       "      <td>0.4</td>\n",
       "      <td>0.4</td>\n",
       "      <td>0.4</td>\n",
       "      <td>MULTIPOLYGON (((3548.30123 927.87828, 3553.338...</td>\n",
       "    </tr>\n",
       "    <tr>\n",
       "      <th>3</th>\n",
       "      <td>45528662-89aa-7b48-8da3-1153c0ecbd22</td>\n",
       "      <td>27.396955</td>\n",
       "      <td>36.574237</td>\n",
       "      <td>1255.630962</td>\n",
       "      <td>1676.23538</td>\n",
       "      <td>North</td>\n",
       "      <td>Group0</td>\n",
       "      <td>0.25</td>\n",
       "      <td>0.25</td>\n",
       "      <td>0.820404</td>\n",
       "      <td>...</td>\n",
       "      <td>13.122101</td>\n",
       "      <td>3633.0</td>\n",
       "      <td>586</td>\n",
       "      <td>PROG_00_VINTAGE_03_MASS_0</td>\n",
       "      <td>Uncategorized</td>\n",
       "      <td>0.4</td>\n",
       "      <td>0.4</td>\n",
       "      <td>0.4</td>\n",
       "      <td>0.4</td>\n",
       "      <td>MULTIPOLYGON (((3548.30123 927.87828, 3553.338...</td>\n",
       "    </tr>\n",
       "    <tr>\n",
       "      <th>4</th>\n",
       "      <td>45528662-89aa-7b48-8da3-1153c0ecbd22</td>\n",
       "      <td>344.588024</td>\n",
       "      <td>460.016242</td>\n",
       "      <td>1255.630962</td>\n",
       "      <td>1676.23538</td>\n",
       "      <td>South</td>\n",
       "      <td>Group0</td>\n",
       "      <td>0.25</td>\n",
       "      <td>0.25</td>\n",
       "      <td>0.820404</td>\n",
       "      <td>...</td>\n",
       "      <td>13.122101</td>\n",
       "      <td>3633.0</td>\n",
       "      <td>586</td>\n",
       "      <td>PROG_00_VINTAGE_03_MASS_0</td>\n",
       "      <td>Uncategorized</td>\n",
       "      <td>0.4</td>\n",
       "      <td>0.4</td>\n",
       "      <td>0.4</td>\n",
       "      <td>0.4</td>\n",
       "      <td>MULTIPOLYGON (((3548.30123 927.87828, 3553.338...</td>\n",
       "    </tr>\n",
       "  </tbody>\n",
       "</table>\n",
       "<p>5 rows × 25 columns</p>\n",
       "</div>"
      ],
      "text/plain": [
       "                       ParentBuildingId  PerimeterAreaWeight  CoreAreaWeight  \\\n",
       "0  45528662-89aa-7b48-8da3-1153c0ecbd22           258.010417      344.437341   \n",
       "1  45528662-89aa-7b48-8da3-1153c0ecbd22            23.925238       31.939584   \n",
       "2  45528662-89aa-7b48-8da3-1153c0ecbd22           319.021121      425.885078   \n",
       "3  45528662-89aa-7b48-8da3-1153c0ecbd22            27.396955       36.574237   \n",
       "4  45528662-89aa-7b48-8da3-1153c0ecbd22           344.588024      460.016242   \n",
       "\n",
       "   PerimeterArea    CoreArea Orientation ClusterId  Roof2FloorRatio  \\\n",
       "0    1255.630962  1676.23538        West    Group0             0.25   \n",
       "1    1255.630962  1676.23538        West    Group0             0.25   \n",
       "2    1255.630962  1676.23538       North    Group0             0.25   \n",
       "3    1255.630962  1676.23538       North    Group0             0.25   \n",
       "4    1255.630962  1676.23538       South    Group0             0.25   \n",
       "\n",
       "   Ground2FloorRatio  Floor2Fac  ...     Height    Name Occupancy  \\\n",
       "0               0.25   0.820404  ...  13.122101  3633.0       586   \n",
       "1               0.25   0.820404  ...  13.122101  3633.0       586   \n",
       "2               0.25   0.820404  ...  13.122101  3633.0       586   \n",
       "3               0.25   0.820404  ...  13.122101  3633.0       586   \n",
       "4               0.25   0.820404  ...  13.122101  3633.0       586   \n",
       "\n",
       "                TemplateName        UseType  WwrE WwrN  WwrS WwrW  \\\n",
       "0  PROG_00_VINTAGE_03_MASS_0  Uncategorized   0.4  0.4   0.4  0.4   \n",
       "1  PROG_00_VINTAGE_03_MASS_0  Uncategorized   0.4  0.4   0.4  0.4   \n",
       "2  PROG_00_VINTAGE_03_MASS_0  Uncategorized   0.4  0.4   0.4  0.4   \n",
       "3  PROG_00_VINTAGE_03_MASS_0  Uncategorized   0.4  0.4   0.4  0.4   \n",
       "4  PROG_00_VINTAGE_03_MASS_0  Uncategorized   0.4  0.4   0.4  0.4   \n",
       "\n",
       "                                            geometry  \n",
       "0  MULTIPOLYGON (((3548.30123 927.87828, 3553.338...  \n",
       "1  MULTIPOLYGON (((3548.30123 927.87828, 3553.338...  \n",
       "2  MULTIPOLYGON (((3548.30123 927.87828, 3553.338...  \n",
       "3  MULTIPOLYGON (((3548.30123 927.87828, 3553.338...  \n",
       "4  MULTIPOLYGON (((3548.30123 927.87828, 3553.338...  \n",
       "\n",
       "[5 rows x 25 columns]"
      ]
     },
     "execution_count": 6,
     "metadata": {},
     "output_type": "execute_result"
    }
   ],
   "source": [
    "new_p = \"D:/Users/zoelh/GitRepos/ml-for-building-energy-modeling/umi/Sample/SampleBuildings/eplus\"\n",
    "# new_p = \"C:/Users/zoele/Git_Repos/ml-for-building-energy-modeling/umi/SampleBuildings/eplus\"\n",
    "umi.set_energy_path(new_p)\n",
    "umi.fetch_raw_shoebox_results(override=False)\n",
    "print(umi.shoeboxdf.shape)\n",
    "umi.shoeboxdf.head()"
   ]
  },
  {
   "cell_type": "code",
   "execution_count": 7,
   "metadata": {},
   "outputs": [
    {
     "data": {
      "text/plain": [
       "Index(['ParentBuildingId', 'PerimeterAreaWeight', 'CoreAreaWeight',\n",
       "       'PerimeterArea', 'CoreArea', 'Orientation', 'ClusterId',\n",
       "       'Roof2FloorRatio', 'Ground2FloorRatio', 'Floor2Fac', 'Core2Perimeter',\n",
       "       'ShoeboxPath', 'id', 'FloorCount', 'GrossFloorArea', 'Height', 'Name',\n",
       "       'Occupancy', 'TemplateName', 'UseType', 'WwrE', 'WwrN', 'WwrS', 'WwrW',\n",
       "       'geometry'],\n",
       "      dtype='object')"
      ]
     },
     "execution_count": 7,
     "metadata": {},
     "output_type": "execute_result"
    }
   ],
   "source": [
    "umi.shoeboxdf.columns"
   ]
  },
  {
   "cell_type": "code",
   "execution_count": 8,
   "metadata": {},
   "outputs": [
    {
     "data": {
      "text/plain": [
       "Index(['PERIM:Zone People Total Heating Energy [J](Hourly)',\n",
       "       'PERIM:Zone Lights Electric Energy [J](Hourly)',\n",
       "       'PERIM:Zone Electric Equipment Electric Energy [J](Hourly)',\n",
       "       'PERIM:Zone Windows Total Transmitted Solar Radiation Energy [J](Hourly)',\n",
       "       'PERIM:Zone Mean Radiant Temperature [C](Hourly)',\n",
       "       'PERIM:Zone Mean Air Temperature [C](Hourly)',\n",
       "       'PERIM:Zone Operative Temperature [C](Hourly)',\n",
       "       'PERIM:Zone Infiltration Total Heat Loss Energy [J](Hourly)',\n",
       "       'PERIM:Zone Infiltration Total Heat Gain Energy [J](Hourly)',\n",
       "       'PERIM:Zone Infiltration Air Change Rate [ach](Hourly)',\n",
       "       'PERIM:Zone Air Temperature [C](Hourly)',\n",
       "       'PERIM:Zone Air Relative Humidity [%](Hourly)',\n",
       "       'PERIM IDEAL LOADS AIR:Zone Ideal Loads Supply Air Total Heating Energy [J](Hourly)',\n",
       "       'PERIM IDEAL LOADS AIR:Zone Ideal Loads Supply Air Total Cooling Energy [J](Hourly)',\n",
       "       'PERIM IDEAL LOADS AIR:Zone Ideal Loads Zone Total Heating Energy [J](Hourly)',\n",
       "       'DHW PERIM:Water Use Equipment Heating Energy [J](Hourly)'],\n",
       "      dtype='object')"
      ]
     },
     "execution_count": 8,
     "metadata": {},
     "output_type": "execute_result"
    }
   ],
   "source": [
    "idf_path = umi.shoeboxdf['ShoeboxPath'][0]\n",
    "csv_path = idf_path.replace(\"idf\", \"csv\")\n",
    "pandas_df = pd.read_csv(csv_path)\n",
    "pandas_df.filter(regex=\"PERIM\").columns"
   ]
  },
  {
   "cell_type": "markdown",
   "metadata": {},
   "source": [
    "Temporary fix of window values"
   ]
  },
  {
   "cell_type": "code",
   "execution_count": 9,
   "metadata": {},
   "outputs": [
    {
     "name": "stdout",
     "output_type": "stream",
     "text": [
      "way too high u_val\n",
      "way too high u_val\n",
      "way too high u_val\n",
      "way too high u_val\n",
      "way too high u_val\n",
      "way too high u_val\n",
      "way too high u_val\n",
      "way too high u_val\n",
      "way too high u_val\n",
      "way too high u_val\n",
      "way too high u_val\n",
      "way too high u_val\n",
      "way too high u_val\n",
      "way too high u_val\n",
      "way too high u_val\n",
      "way too high u_val\n",
      "way too high u_val\n",
      "way too high u_val\n",
      "way too high u_val\n",
      "way too high u_val\n"
     ]
    }
   ],
   "source": [
    "for t in umi.templates:\n",
    "    t_vect = umi.template_vectors_dict[t]['template_vect']\n",
    "    # replace u_value if too high\n",
    "    if t_vect[-3] > 1:\n",
    "        print(\"way too high u_val\")\n",
    "        t_vect[-3] = 1.0"
   ]
  },
  {
   "cell_type": "markdown",
   "metadata": {},
   "source": [
    "## Surrogate"
   ]
  },
  {
   "cell_type": "code",
   "execution_count": 10,
   "metadata": {},
   "outputs": [
    {
     "name": "stderr",
     "output_type": "stream",
     "text": [
      "INFO:UmiSurrogate:Count larger than number of shoeboxes, truncating.\n",
      "INFO:UmiSurrogate:Starting umi surrogate for 364 shoeboxes in 1 batches.\n",
      "INFO:UmiSurrogate:Fetching shoebox IDFs.\n",
      "INFO:UmiSurrogate:Completed fetching shoebox IDFs in 25 seconds.\n",
      "INFO:UmiSurrogate:AREA MAX: 61.27799083525315, MIN 19.236060654977337\n"
     ]
    },
    {
     "ename": "ValueError",
     "evalue": "zero-size array to reduction operation maximum which has no identity",
     "output_type": "error",
     "traceback": [
      "\u001b[1;31m---------------------------------------------------------------------------\u001b[0m",
      "\u001b[1;31mValueError\u001b[0m                                Traceback (most recent call last)",
      "Cell \u001b[1;32mIn[10], line 1\u001b[0m\n\u001b[1;32m----> 1\u001b[0m true_loads, pred_loads, all_losses \u001b[39m=\u001b[39m umi\u001b[39m.\u001b[39;49mrun_umi_batch(count\u001b[39m=\u001b[39;49m\u001b[39m1000\u001b[39;49m, batch_size\u001b[39m=\u001b[39;49m\u001b[39m5\u001b[39;49m)\n\u001b[0;32m      3\u001b[0m \u001b[39m# TODO: something takes a long time after building the dataloader\u001b[39;00m\n",
      "File \u001b[1;32md:\\Users\\zoelh\\GitRepos\\ml-for-building-energy-modeling\\ml-for-bem\\umi_surrogate.py:909\u001b[0m, in \u001b[0;36mUmiSurrogate.run_umi_batch\u001b[1;34m(self, count, batch_size)\u001b[0m\n\u001b[0;32m    907\u001b[0m \u001b[39melse\u001b[39;00m:\n\u001b[0;32m    908\u001b[0m     batch_count \u001b[39m=\u001b[39m count\n\u001b[1;32m--> 909\u001b[0m umi_data \u001b[39m=\u001b[39m \u001b[39mself\u001b[39;49m\u001b[39m.\u001b[39;49mmake_umi_dataloader(idx, batch_count, batch_size)\n\u001b[0;32m    910\u001b[0m \u001b[39mself\u001b[39m\u001b[39m.\u001b[39m_umi_dataloader \u001b[39m=\u001b[39m umi_data\n\u001b[0;32m    911\u001b[0m \u001b[39mwith\u001b[39;00m torch\u001b[39m.\u001b[39mno_grad():\n",
      "File \u001b[1;32md:\\Users\\zoelh\\GitRepos\\ml-for-building-energy-modeling\\ml-for-bem\\umi_surrogate.py:844\u001b[0m, in \u001b[0;36mUmiSurrogate.make_umi_dataloader\u001b[1;34m(self, start_idx, count, dataloader_batch_size)\u001b[0m\n\u001b[0;32m    843\u001b[0m \u001b[39mdef\u001b[39;00m \u001b[39mmake_umi_dataloader\u001b[39m(\u001b[39mself\u001b[39m, start_idx, count, dataloader_batch_size):\n\u001b[1;32m--> 844\u001b[0m     building_vector, timeseries_vector, results_vector \u001b[39m=\u001b[39m \u001b[39mself\u001b[39;49m\u001b[39m.\u001b[39;49mmake_umi_dataset(\n\u001b[0;32m    845\u001b[0m         start_idx, count\n\u001b[0;32m    846\u001b[0m     )\n\u001b[0;32m    848\u001b[0m     torch\u001b[39m.\u001b[39mcuda\u001b[39m.\u001b[39mempty_cache()\n\u001b[0;32m    850\u001b[0m     logger\u001b[39m.\u001b[39mdebug(\u001b[39m\"\u001b[39m\u001b[39mBuilding dataloaders...\u001b[39m\u001b[39m\"\u001b[39m)\n",
      "File \u001b[1;32md:\\Users\\zoelh\\GitRepos\\ml-for-building-energy-modeling\\ml-for-bem\\umi_surrogate.py:740\u001b[0m, in \u001b[0;36mUmiSurrogate.make_umi_dataset\u001b[1;34m(self, start_idx, batch_size)\u001b[0m\n\u001b[0;32m    725\u001b[0m \u001b[39m\u001b[39m\u001b[39m\"\"\"\u001b[39;00m\n\u001b[0;32m    726\u001b[0m \u001b[39mMake timeseries and building vectors (for ml) dynamically with each batch, starting at\u001b[39;00m\n\u001b[0;32m    727\u001b[0m \u001b[39ma given shoebox index.\u001b[39;00m\n\u001b[1;32m   (...)\u001b[0m\n\u001b[0;32m    731\u001b[0m \u001b[39mbuilding vector: Concatenates template geom + shoebox geom vectors\u001b[39;00m\n\u001b[0;32m    732\u001b[0m \u001b[39m\"\"\"\u001b[39;00m\n\u001b[0;32m    733\u001b[0m logger\u001b[39m.\u001b[39mdebug(\n\u001b[0;32m    734\u001b[0m     \u001b[39mf\u001b[39m\u001b[39m\"\u001b[39m\u001b[39mConstructing dataset for \u001b[39m\u001b[39m{\u001b[39;00mbatch_size\u001b[39m}\u001b[39;00m\u001b[39m shoeboxes at index \u001b[39m\u001b[39m{\u001b[39;00mstart_idx\u001b[39m}\u001b[39;00m\u001b[39m...\u001b[39m\u001b[39m\"\u001b[39m\n\u001b[0;32m    735\u001b[0m )\n\u001b[0;32m    737\u001b[0m (\n\u001b[0;32m    738\u001b[0m     shoebox_norm_geom_params,\n\u001b[0;32m    739\u001b[0m     shoebox_norm_tsol_vector,\n\u001b[1;32m--> 740\u001b[0m ) \u001b[39m=\u001b[39m \u001b[39mself\u001b[39;49m\u001b[39m.\u001b[39;49mget_norm_shoebox_geom_params(start_idx\u001b[39m=\u001b[39;49mstart_idx, count\u001b[39m=\u001b[39;49mbatch_size)\n\u001b[0;32m    741\u001b[0m logger\u001b[39m.\u001b[39mdebug(\u001b[39mf\u001b[39m\u001b[39m\"\u001b[39m\u001b[39mshoebox_geom_params shape: \u001b[39m\u001b[39m{\u001b[39;00mshoebox_norm_geom_params\u001b[39m.\u001b[39mshape\u001b[39m}\u001b[39;00m\u001b[39m\"\u001b[39m)\n\u001b[0;32m    743\u001b[0m logger\u001b[39m.\u001b[39minfo(\u001b[39m\"\u001b[39m\u001b[39mSetting up template lookup for groups...\u001b[39m\u001b[39m\"\u001b[39m)\n",
      "File \u001b[1;32md:\\Users\\zoelh\\GitRepos\\ml-for-building-energy-modeling\\ml-for-bem\\umi_surrogate.py:697\u001b[0m, in \u001b[0;36mUmiSurrogate.get_norm_shoebox_geom_params\u001b[1;34m(self, start_idx, count, width, height)\u001b[0m\n\u001b[0;32m    693\u001b[0m \u001b[39m# perim_area = area[start_idx : start_idx + count] / (\u001b[39;00m\n\u001b[0;32m    694\u001b[0m \u001b[39m#     self.shoeboxdf[\"Core2Perimeter\"][start_idx : start_idx + count] + 1\u001b[39;00m\n\u001b[0;32m    695\u001b[0m \u001b[39m# )\u001b[39;00m\n\u001b[0;32m    696\u001b[0m perim_area \u001b[39m=\u001b[39m np\u001b[39m.\u001b[39mones(area\u001b[39m.\u001b[39mshape) \u001b[39m*\u001b[39m (\u001b[39mself\u001b[39m\u001b[39m.\u001b[39mperim_offset \u001b[39m*\u001b[39m \u001b[39mself\u001b[39m\u001b[39m.\u001b[39mwidth)\n\u001b[1;32m--> 697\u001b[0m logger\u001b[39m.\u001b[39minfo(\u001b[39mf\u001b[39m\u001b[39m\"\u001b[39m\u001b[39mPERIM AREA MAX: \u001b[39m\u001b[39m{\u001b[39;00mperim_area\u001b[39m.\u001b[39mmax()\u001b[39m}\u001b[39;00m\u001b[39m, MIN \u001b[39m\u001b[39m{\u001b[39;00mperim_area\u001b[39m.\u001b[39mmin()\u001b[39m}\u001b[39;00m\u001b[39m\"\u001b[39m)\n\u001b[0;32m    699\u001b[0m df[:, \u001b[39m12\u001b[39m] \u001b[39m=\u001b[39m normalize(\n\u001b[0;32m    700\u001b[0m     perim_area,\n\u001b[0;32m    701\u001b[0m     maxv\u001b[39m=\u001b[39mPERIM_AREA_MAX,\n\u001b[0;32m    702\u001b[0m     minv\u001b[39m=\u001b[39mPERIM_AREA_MIN,\n\u001b[0;32m    703\u001b[0m )\n\u001b[0;32m    704\u001b[0m core_area \u001b[39m=\u001b[39m area \u001b[39m-\u001b[39m perim_area\n",
      "File \u001b[1;32mc:\\Users\\zoelh\\AppData\\Local\\anaconda3\\envs\\ml-for-bem\\lib\\site-packages\\numpy\\core\\_methods.py:41\u001b[0m, in \u001b[0;36m_amax\u001b[1;34m(a, axis, out, keepdims, initial, where)\u001b[0m\n\u001b[0;32m     39\u001b[0m \u001b[39mdef\u001b[39;00m \u001b[39m_amax\u001b[39m(a, axis\u001b[39m=\u001b[39m\u001b[39mNone\u001b[39;00m, out\u001b[39m=\u001b[39m\u001b[39mNone\u001b[39;00m, keepdims\u001b[39m=\u001b[39m\u001b[39mFalse\u001b[39;00m,\n\u001b[0;32m     40\u001b[0m           initial\u001b[39m=\u001b[39m_NoValue, where\u001b[39m=\u001b[39m\u001b[39mTrue\u001b[39;00m):\n\u001b[1;32m---> 41\u001b[0m     \u001b[39mreturn\u001b[39;00m umr_maximum(a, axis, \u001b[39mNone\u001b[39;49;00m, out, keepdims, initial, where)\n",
      "\u001b[1;31mValueError\u001b[0m: zero-size array to reduction operation maximum which has no identity"
     ]
    }
   ],
   "source": [
    "true_loads, pred_loads, all_losses = umi.run_umi_batch(count=1000, batch_size=5)\n",
    "\n",
    "# TODO: something takes a long time after building the dataloader"
   ]
  },
  {
   "cell_type": "markdown",
   "metadata": {},
   "source": [
    "## Check shoebox ratios"
   ]
  },
  {
   "cell_type": "markdown",
   "metadata": {},
   "source": [
    "Ratio distributions of the umi file"
   ]
  },
  {
   "cell_type": "code",
   "execution_count": null,
   "metadata": {},
   "outputs": [],
   "source": [
    "umi.shoeboxdf.columns"
   ]
  },
  {
   "cell_type": "code",
   "execution_count": null,
   "metadata": {},
   "outputs": [],
   "source": [
    "ratios = ['Roof2FloorRatio', 'Ground2FloorRatio', 'Floor2Fac', 'Core2Perimeter']\n",
    "fig, axs = plt.subplots(1, 4, figsize=(10, 3))\n",
    "\n",
    "for i, ratio in enumerate(ratios):\n",
    "    umi.shoeboxdf[ratio].hist(ax=axs[i])\n",
    "    print(f\"{ratio} min: {umi.shoeboxdf[ratio].min()}, max {umi.shoeboxdf[ratio].max()}\")\n",
    "    axs[i].set_xlabel(ratio)\n",
    "fig.show()"
   ]
  },
  {
   "cell_type": "markdown",
   "metadata": {},
   "source": [
    "Area and ratio calcs check"
   ]
  },
  {
   "cell_type": "code",
   "execution_count": null,
   "metadata": {},
   "outputs": [],
   "source": [
    "%%time\n",
    "# WARNING: THIS TAKES A WHILE\n",
    "shoebox_collection = umi._fetch_shoeboxcollection()"
   ]
  },
  {
   "cell_type": "code",
   "execution_count": null,
   "metadata": {},
   "outputs": [],
   "source": [
    "core_areas = []\n",
    "perim_areas = []\n",
    "areas = []\n",
    "widths = []\n",
    "lengths = []\n",
    "\n",
    "for name, sb in shoebox_collection.items():\n",
    "    areas.append(sb.total_building_area)\n",
    "    widths.append(sb.width)\n",
    "    lengths.append(sb.length)\n",
    "    perim_areas.append(sb.idfobjects[\"ZONE\"][0].Floor_Area)\n",
    "    core_areas.append(sb.idfobjects[\"ZONE\"][1].Floor_Area)"
   ]
  },
  {
   "cell_type": "code",
   "execution_count": null,
   "metadata": {},
   "outputs": [],
   "source": [
    "shoebox_collection[2].view_model()"
   ]
  },
  {
   "cell_type": "code",
   "execution_count": null,
   "metadata": {},
   "outputs": [],
   "source": [
    "surfs = []\n",
    "for surf in shoebox_collection[2].idfobjects[\"BUILDINGSURFACE:DETAILED\"]:\n",
    "    if surf.Surface_Type.upper() == \"FLOOR\":\n",
    "        surfs.append(surf)\n",
    "calc_a = 0\n",
    "for s, surf in enumerate(surfs):\n",
    "    print(surf.area)\n",
    "    calc_a += surf.area\n",
    "    if s == 0:\n",
    "        x = float(getattr(surf, f\"Vertex_{1}_Xcoordinate\"))\n",
    "        y = float(getattr(surf, f\"Vertex_{1}_Ycoordinate\"))\n",
    "        v1 = v2 = v3 = v4 = (x, y)\n",
    "    for i in range(2, 5):\n",
    "        x = float(getattr(surf, f\"Vertex_{i}_Xcoordinate\"))\n",
    "        y = float(getattr(surf, f\"Vertex_{i}_Ycoordinate\"))\n",
    "        if x > v1[0]:\n",
    "            v1 = (x, y)\n",
    "        if x < v2[0]:\n",
    "            v2 = (x, y)\n",
    "        if y > v3[1]:\n",
    "            v3 = (x, y)\n",
    "        if y < v4[1]:\n",
    "            v4 = (x, y)\n",
    "            \n",
    "print(v1, v2, v3, v4)\n",
    "vertices = np.array([v1, v2, v3, v4])\n",
    "plt.scatter(vertices[:, 0], vertices[:, 1])\n",
    "# print(f\"Area = {x_max-x_min}\")"
   ]
  },
  {
   "cell_type": "code",
   "execution_count": null,
   "metadata": {},
   "outputs": [],
   "source": [
    "idx = 25\n",
    "print(\"Fractions calculated length\", (umi.shoeboxdf[\"Core2Perimeter\"][idx] + 1) * umi.perim_offset)\n",
    "print(\"Geomeppy calculated length\", shoebox_collection[idx].length)\n",
    "print(\"Geomeppy calculated width\", shoebox_collection[idx].width)\n",
    "print(\"Fractions calculated area\", (umi.shoeboxdf[\"Core2Perimeter\"][idx] + 1) * umi.perim_offset * umi.width)\n",
    "print(\"Geomeppy-based area (lxw)\", shoebox_collection[idx].width*shoebox_collection[idx].length)\n",
    "print(\"EPlus calculated area by zone area\", \n",
    "    shoebox_collection[idx].idfobjects[\"ZONE\"][0].Floor_Area + \n",
    "    shoebox_collection[idx].idfobjects[\"ZONE\"][1].Floor_Area\n",
    "    )\n",
    "print(\"Archetypal calculated area\", shoebox_collection[idx].total_building_area)\n",
    "print(\"Inputs (fractions) calculated perim area\", (umi.perim_offset * umi.width))\n",
    "print(\"Fractions calculated perim area (with sb.total_building_area)\", shoebox_collection[idx].total_building_area/(umi.shoeboxdf[\"Core2Perimeter\"][idx]+1))\n",
    "print(\"Eplus calculated perim area\", shoebox_collection[idx].idfobjects[\"ZONE\"][0].Floor_Area)"
   ]
  },
  {
   "cell_type": "code",
   "execution_count": null,
   "metadata": {},
   "outputs": [],
   "source": [
    "for surf in shoebox_collection[idx].idfobjects[\"ZONE\"][1].zonesurfaces:\n",
    "    try:\n",
    "        print(surf.Surface_Type)\n",
    "        print(surf.tilt)\n",
    "        print(surf.area)\n",
    "    except:\n",
    "        pass"
   ]
  },
  {
   "cell_type": "code",
   "execution_count": null,
   "metadata": {},
   "outputs": [],
   "source": [
    "print(max(areas))\n",
    "print(min(areas))"
   ]
  },
  {
   "cell_type": "code",
   "execution_count": null,
   "metadata": {},
   "outputs": [],
   "source": [
    "print(max(widths))\n",
    "print(min(widths))\n",
    "print(max(lengths))\n",
    "print(min(lengths))"
   ]
  },
  {
   "cell_type": "code",
   "execution_count": null,
   "metadata": {},
   "outputs": [],
   "source": [
    "print(max(core_areas))\n",
    "print(min(core_areas))"
   ]
  },
  {
   "cell_type": "code",
   "execution_count": null,
   "metadata": {},
   "outputs": [],
   "source": [
    "print(max(perim_areas))\n",
    "print(min(perim_areas))"
   ]
  },
  {
   "cell_type": "markdown",
   "metadata": {},
   "source": [
    "## Plot the building parameter distributions"
   ]
  },
  {
   "cell_type": "code",
   "execution_count": null,
   "metadata": {},
   "outputs": [],
   "source": [
    "umi.surrogate_plot_params(start_ix=0, count=262, include_whiskers=True, title=\"Parameter Overview\")"
   ]
  },
  {
   "cell_type": "markdown",
   "metadata": {},
   "source": [
    "Plot the results"
   ]
  },
  {
   "cell_type": "code",
   "execution_count": null,
   "metadata": {},
   "outputs": [],
   "source": [
    "import torch\n",
    "from sklearn.metrics import r2_score\n",
    "\n",
    "def plot_model_fits(true_loads, pred_loads):\n",
    "    true_loads = torch.sum(true_loads, axis=2)\n",
    "    pred_loads = torch.sum(pred_loads, axis=2)\n",
    "    maxes = torch.max(true_loads, dim=0)[0].reshape(1, 4)\n",
    "    true_loads = true_loads / maxes\n",
    "    pred_loads = pred_loads / maxes\n",
    "    true_loads = true_loads.cpu()\n",
    "    pred_loads = pred_loads.cpu()\n",
    "    r2_scores = []\n",
    "    for i, zone_name in enumerate(\n",
    "        (\"Perimeter Heating\", \"Perimeter Cooling\", \"Core Heating\", \"Core Cooling\")\n",
    "    ):\n",
    "        r2 = r2_score(true_loads[:, i], pred_loads[:, i])\n",
    "        print(zone_name, r2)\n",
    "        r2_scores.append(r2)\n",
    "    fig, axs = plt.subplots(2, 2, figsize=(12, 12))\n",
    "    identity = np.linspace(0, 1, 10)\n",
    "    plt.suptitle(\"Annual Model Fits\")\n",
    "    axs[0, 0].scatter(true_loads[:, 0], pred_loads[:, 0], s=1, alpha=0.3)\n",
    "    axs[0, 1].scatter(true_loads[:, 1], pred_loads[:, 1], s=1, alpha=0.3)\n",
    "    axs[1, 0].scatter(true_loads[:, 2], pred_loads[:, 2], s=1, alpha=0.3)\n",
    "    axs[1, 1].scatter(true_loads[:, 3], pred_loads[:, 3], s=1, alpha=0.3)\n",
    "    axs[0, 0].plot(identity, identity, color=\"dodgerblue\", label=\"Perfect Model\")\n",
    "    axs[0, 1].plot(identity, identity, color=\"dodgerblue\")\n",
    "    axs[1, 0].plot(identity, identity, color=\"dodgerblue\")\n",
    "    axs[1, 1].plot(identity, identity, color=\"dodgerblue\")\n",
    "    axs[0, 0].set_ylabel(\"Perimeter\")\n",
    "    axs[1, 0].set_ylabel(\"Core\")\n",
    "    axs[1, 0].set_xlabel(\"Heating\")\n",
    "    axs[1, 1].set_xlabel(\"Cooling\")\n",
    "    axs[0, 0].legend()\n",
    "    fig.tight_layout()"
   ]
  },
  {
   "cell_type": "code",
   "execution_count": null,
   "metadata": {},
   "outputs": [],
   "source": [
    "true_loads.max()"
   ]
  },
  {
   "cell_type": "code",
   "execution_count": null,
   "metadata": {},
   "outputs": [],
   "source": [
    "pred_loads.max()"
   ]
  },
  {
   "cell_type": "code",
   "execution_count": null,
   "metadata": {},
   "outputs": [],
   "source": [
    "plot_model_fits(true_loads, pred_loads)"
   ]
  },
  {
   "cell_type": "code",
   "execution_count": null,
   "metadata": {},
   "outputs": [],
   "source": [
    "# ix = np.random.choice(np.arange(true_loads.shape[0]), plot_count, replace=False)\n",
    "fig, axs = plt.subplots(1, 2, figsize=(10, 4))\n",
    "plt.suptitle(\"Model Comparison\")\n",
    "\n",
    "lineweight = 0.1\n",
    "alpha = 0.5\n",
    "\n",
    "for i in range(1262):\n",
    "    axs[0].plot(true_loads[i, 0].cpu(), label=\"Heating (true)\", linewidth=lineweight, alpha=alpha, color='orange')\n",
    "    axs[0].plot(true_loads[i, 1].cpu(), label=\"Cooling (true)\", linewidth=lineweight, alpha=alpha, color='cornflowerblue')\n",
    "    axs[1].plot(true_loads[i, 2].cpu(), label=\"Heating (true)\", linewidth=lineweight, alpha=alpha, color='orange')\n",
    "    axs[1].plot(true_loads[i, 3].cpu(), label=\"Cooling (true)\", linewidth=lineweight, alpha=alpha, color='cornflowerblue')\n",
    "    # axs[0].plot(pred_loads[i, 0].cpu(), \"-o\", label=\"Heating (predicted)\")\n",
    "    # axs[0].plot(pred_loads[i, 1].cpu(), \"-o\", label=\"Cooling (predicted)\")\n",
    "    # axs[1].plot(pred_loads[i, 2].cpu(), \"-o\", label=\"Heating (predicted)\")\n",
    "    # axs[1].plot(pred_loads[i, 3].cpu(), \"-o\", label=\"Cooling (predicted)\")\n",
    "\n",
    "axs[0].set_ylim([-0.01, 1])\n",
    "axs[1].set_ylim([-0.01, 10])\n",
    "axs[0].set_title(\"Perimeter\")\n",
    "axs[1].set_title(\"Core\")\n",
    "fig.show()\n"
   ]
  },
  {
   "cell_type": "markdown",
   "metadata": {},
   "source": [
    "Monthly comparison"
   ]
  },
  {
   "cell_type": "code",
   "execution_count": null,
   "metadata": {},
   "outputs": [],
   "source": [
    "def plot_model_comparisons(true_loads, pred_loads, plot_count=4, ylim=[-0.01, 1]):\n",
    "    ix = np.random.choice(np.arange(true_loads.shape[0]), plot_count, replace=False)\n",
    "    for i in ix:\n",
    "        fig, axs = plt.subplots(1, 2, figsize=(10, 4))\n",
    "        plt.suptitle(\"Model Comparison\")\n",
    "        axs[0].plot(true_loads[i, 0].cpu(), label=\"Heating (true)\")\n",
    "        axs[0].plot(true_loads[i, 1].cpu(), label=\"Cooling (true)\")\n",
    "        axs[1].plot(true_loads[i, 2].cpu(), label=\"Heating (true)\")\n",
    "        axs[1].plot(true_loads[i, 3].cpu(), label=\"Cooling (true)\")\n",
    "        axs[0].plot(pred_loads[i, 0].cpu(), \"-o\", label=\"Heating (predicted)\")\n",
    "        axs[0].plot(pred_loads[i, 1].cpu(), \"-o\", label=\"Cooling (predicted)\")\n",
    "        axs[1].plot(pred_loads[i, 2].cpu(), \"-o\", label=\"Heating (predicted)\")\n",
    "        axs[1].plot(pred_loads[i, 3].cpu(), \"-o\", label=\"Cooling (predicted)\")\n",
    "        # axs[0].set_ylim(ylim)\n",
    "        # axs[1].set_ylim(ylim)\n",
    "        axs[0].set_title(\"Perimeter\")\n",
    "        axs[1].set_title(\"Core\")\n",
    "        axs[0].legend()\n",
    "        axs[1].legend()\n"
   ]
  },
  {
   "cell_type": "code",
   "execution_count": null,
   "metadata": {},
   "outputs": [],
   "source": [
    "plot_model_comparisons(true_loads, pred_loads, plot_count=3, ylim=[-0.01,8])"
   ]
  },
  {
   "cell_type": "markdown",
   "metadata": {},
   "source": [
    "Plot the errors/losses"
   ]
  },
  {
   "cell_type": "code",
   "execution_count": null,
   "metadata": {},
   "outputs": [],
   "source": [
    "print(all_losses.mean())\n",
    "print(all_losses.min())\n",
    "print(all_losses.max())"
   ]
  },
  {
   "cell_type": "markdown",
   "metadata": {},
   "source": [
    "## Visualizations"
   ]
  },
  {
   "cell_type": "code",
   "execution_count": null,
   "metadata": {},
   "outputs": [],
   "source": [
    "# Plot all of the radiation values\n",
    "\n",
    "import matplotlib.pyplot as plt\n",
    "from pandas import DatetimeIndex\n",
    "\n",
    "orient_lookup = {\n",
    "    'North': 0,\n",
    "    'East': 1,\n",
    "    'South': 2,\n",
    "    'West': 3\n",
    "}\n",
    "cols = ['red', 'blue', 'orange', 'purple']\n",
    "\n",
    "shoebox_ids = umi.get_shoebox_template_ids(0, 364)\n",
    "\n",
    "fig, axes = plt.subplots(2, 2, figsize=(10, 8))\n",
    "axes = axes.flatten()\n",
    "for sb_id in shoebox_ids:\n",
    "    orient = umi.shoeboxdf['Orientation'][sb_id] #.to_list()[0]\n",
    "    idf_path = umi.shoeboxdf['ShoeboxPath'][sb_id]\n",
    "    csv_path = idf_path.replace(\"idf\", \"csv\")\n",
    "    df = pd.read_csv(csv_path)\n",
    "    rad = df['PERIM:Zone Windows Total Transmitted Solar Radiation Energy [J](Hourly)']\n",
    "    rad = df.groupby(np.arange(len(rad))//24).sum()\n",
    "    axes[orient_lookup[orient]].plot(rad, cols[orient_lookup[orient]],alpha=0.1)\n",
    "for i, ax in enumerate(axes):\n",
    "    ax.set_title(list(orient_lookup.keys())[i])\n",
    "fig.suptitle(\"Solar gain through window by orientation\")\n",
    "fig.tight_layout()\n",
    "plt.show()"
   ]
  }
 ],
 "metadata": {
  "kernelspec": {
   "display_name": "ml-for-bem",
   "language": "python",
   "name": "python3"
  },
  "language_info": {
   "codemirror_mode": {
    "name": "ipython",
    "version": 3
   },
   "file_extension": ".py",
   "mimetype": "text/x-python",
   "name": "python",
   "nbconvert_exporter": "python",
   "pygments_lexer": "ipython3",
   "version": "3.8.16"
  },
  "orig_nbformat": 4
 },
 "nbformat": 4,
 "nbformat_minor": 2
}

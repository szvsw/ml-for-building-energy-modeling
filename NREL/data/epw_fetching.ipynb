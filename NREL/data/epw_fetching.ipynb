{
 "cells": [
  {
   "cell_type": "code",
   "execution_count": 1,
   "metadata": {},
   "outputs": [],
   "source": [
    "import json\n",
    "import pandas as pd\n",
    "import numpy as np\n",
    "import matplotlib.pyplot as plt\n",
    "from pathlib import Path\n",
    "from pyumi.epw import Epw\n",
    "import time"
   ]
  },
  {
   "cell_type": "markdown",
   "metadata": {},
   "source": [
    "### Adding WandB Artifacts"
   ]
  },
  {
   "cell_type": "code",
   "execution_count": 1,
   "metadata": {},
   "outputs": [
    {
     "name": "stderr",
     "output_type": "stream",
     "text": [
      "WARNING:Storage:Could not find valid GCS credentials in system env, falling back to json.\n",
      "INFO:Storage:Successfully fetched bucket location\n",
      "ERROR:wandb.jupyter:Failed to detect the name of this notebook, you can set it manually with the WANDB_NOTEBOOK_NAME environment variable to enable code saving.\n",
      "\u001b[34m\u001b[1mwandb\u001b[0m: Currently logged in as: \u001b[33mszvsw\u001b[0m (\u001b[33mml-for-building-energy-modeling\u001b[0m). Use \u001b[1m`wandb login --relogin`\u001b[0m to force relogin\n"
     ]
    },
    {
     "data": {
      "text/html": [
       "wandb version 0.15.11 is available!  To upgrade, please run:\n",
       " $ pip install wandb --upgrade"
      ],
      "text/plain": [
       "<IPython.core.display.HTML object>"
      ]
     },
     "metadata": {},
     "output_type": "display_data"
    },
    {
     "data": {
      "text/html": [
       "Tracking run with wandb version 0.15.10"
      ],
      "text/plain": [
       "<IPython.core.display.HTML object>"
      ]
     },
     "metadata": {},
     "output_type": "display_data"
    },
    {
     "data": {
      "text/html": [
       "Run data is saved locally in <code>c:\\Users\\szvsw\\repos\\ml-for-building-energy-modeling\\NREL\\data\\wandb\\run-20230923_171103-l7m8577s</code>"
      ],
      "text/plain": [
       "<IPython.core.display.HTML object>"
      ]
     },
     "metadata": {},
     "output_type": "display_data"
    },
    {
     "data": {
      "text/html": [
       "Syncing run <strong><a href='https://wandb.ai/ml-for-building-energy-modeling/ml-for-bem/runs/l7m8577s' target=\"_blank\">add-epw-data-to-registry</a></strong> to <a href='https://wandb.ai/ml-for-building-energy-modeling/ml-for-bem' target=\"_blank\">Weights & Biases</a> (<a href='https://wandb.me/run' target=\"_blank\">docs</a>)<br/>"
      ],
      "text/plain": [
       "<IPython.core.display.HTML object>"
      ]
     },
     "metadata": {},
     "output_type": "display_data"
    },
    {
     "data": {
      "text/html": [
       " View project at <a href='https://wandb.ai/ml-for-building-energy-modeling/ml-for-bem' target=\"_blank\">https://wandb.ai/ml-for-building-energy-modeling/ml-for-bem</a>"
      ],
      "text/plain": [
       "<IPython.core.display.HTML object>"
      ]
     },
     "metadata": {},
     "output_type": "display_data"
    },
    {
     "data": {
      "text/html": [
       " View run at <a href='https://wandb.ai/ml-for-building-energy-modeling/ml-for-bem/runs/l7m8577s' target=\"_blank\">https://wandb.ai/ml-for-building-energy-modeling/ml-for-bem/runs/l7m8577s</a>"
      ],
      "text/plain": [
       "<IPython.core.display.HTML object>"
      ]
     },
     "metadata": {},
     "output_type": "display_data"
    },
    {
     "name": "stderr",
     "output_type": "stream",
     "text": [
      "INFO:Storage:Uploading ../../ml-for-bem/data/global_epws_indexed.csv to bucket:weather/global_epws_indexed.csv...\n",
      "INFO:Storage:Done uploading.\n",
      "INFO:Storage:Uploading ../../ml-for-bem/data/epws/global_epws_indexed.zip to bucket:weather/global_epws_indexed.zip...\n",
      "INFO:Storage:Done uploading.\n",
      "INFO:Storage:Uploading ../../ml-for-bem/data/8k_Cities_w_CZ.csv to bucket:weather/8k_Cities_w_CZ.csv...\n",
      "INFO:Storage:Done uploading.\n",
      "INFO:Storage:Uploading ../../ml-for-bem/data/worldcities.csv to bucket:weather/worldcities.csv...\n",
      "INFO:Storage:Done uploading.\n",
      "INFO:Storage:Uploading ../../ml-for-bem/data/epws/global_climate_array.npy to bucket:weather/global_climate_array.npy...\n",
      "INFO:Storage:Done uploading.\n",
      "\u001b[34m\u001b[1mwandb\u001b[0m: Generating checksum for up to 10000 objects with prefix \"weather\"... Done. 0.0s\n"
     ]
    },
    {
     "data": {
      "text/html": [
       "Waiting for W&B process to finish... <strong style=\"color:green\">(success).</strong>"
      ],
      "text/plain": [
       "<IPython.core.display.HTML object>"
      ]
     },
     "metadata": {},
     "output_type": "display_data"
    },
    {
     "data": {
      "text/html": [
       " View run <strong style=\"color:#cdcd00\">add-epw-data-to-registry</strong> at: <a href='https://wandb.ai/ml-for-building-energy-modeling/ml-for-bem/runs/l7m8577s' target=\"_blank\">https://wandb.ai/ml-for-building-energy-modeling/ml-for-bem/runs/l7m8577s</a><br/>Synced 5 W&B file(s), 0 media file(s), 0 artifact file(s) and 0 other file(s)"
      ],
      "text/plain": [
       "<IPython.core.display.HTML object>"
      ]
     },
     "metadata": {},
     "output_type": "display_data"
    },
    {
     "data": {
      "text/html": [
       "Find logs at: <code>.\\wandb\\run-20230923_171103-l7m8577s\\logs</code>"
      ],
      "text/plain": [
       "<IPython.core.display.HTML object>"
      ]
     },
     "metadata": {},
     "output_type": "display_data"
    }
   ],
   "source": [
    "import sys\n",
    "sys.path.insert(0, \"../../ml-for-bem/\")\n",
    "import os\n",
    "import json\n",
    "from storage import upload_to_bucket, creds\n",
    "import wandb\n",
    "\n",
    "def config_gcs_adc():\n",
    "    from storage import creds\n",
    "\n",
    "    # Copies credentials loaded in from env/json, dump them into local storage file\n",
    "    with open(\"credentials.json\", \"w\") as f:\n",
    "        creds = creds.copy()\n",
    "        for key, val in creds.items():\n",
    "            if isinstance(val, bytes):\n",
    "                val = val.decode(\"utf-8\")\n",
    "\n",
    "            creds[key] = val\n",
    "        f.write(json.dumps(creds))\n",
    "\n",
    "    # Set the credentials env variable\n",
    "    os.environ[\"GOOGLE_APPLICATION_CREDENTIALS\"] = \"credentials.json\"\n",
    "\n",
    "config_gcs_adc()\n",
    "\n",
    "\n",
    "with wandb.init(\n",
    "    job_type=\"upload\",\n",
    "    project=\"ml-for-bem\",\n",
    "    tags=[\"weather\"],\n",
    "    group=\"data\",\n",
    "    notes=\"Adds EPW files for approx 800 cities around the world, along with metadata.\",\n",
    "    name=\"add-epw-data-to-registry\",\n",
    ") as run:\n",
    "    artifact = wandb.Artifact(\n",
    "        name=\"global-epw-data\",\n",
    "        type=\"dataset\",\n",
    "        description=\"Contains a .zip file, global_epws_indexed.zip, with approx. 850 EPWs from around the world. \"\n",
    "        \"The data was generated by taking the top 8k cities by population in the world, \"\n",
    "        \"checking their climate zones 50 cities by population in each climate zone \"\n",
    "        \"(or all of them if there were fewer than 50 from a CZ within the top 8k cities of the world. \"\n",
    "        \"  There are additional metadata files which indicate the climate zones, etc.\",\n",
    "    )\n",
    "    upload_to_bucket(blob_name=\"weather/global_epws_indexed.csv\", file_name=\"../../ml-for-bem/data/global_epws_indexed.csv\")\n",
    "    upload_to_bucket(blob_name=\"weather/global_epws_indexed.zip\", file_name=\"../../ml-for-bem/data/epws/global_epws_indexed.zip\")\n",
    "    upload_to_bucket(blob_name=\"weather/8k_Cities_w_CZ.csv\", file_name=\"../../ml-for-bem/data/8k_Cities_w_CZ.csv\")\n",
    "    upload_to_bucket(blob_name=\"weather/worldcities.csv\", file_name=\"../../ml-for-bem/data/worldcities.csv\")\n",
    "    upload_to_bucket(blob_name=\"weather/global_climate_array.npy\", file_name=\"../../ml-for-bem/data/epws/global_climate_array.npy\")\n",
    "    artifact.add_reference(\"gs://ml-for-bem-data/weather\")\n",
    "    run.log_artifact(artifact)"
   ]
  },
  {
   "cell_type": "markdown",
   "metadata": {},
   "source": [
    "### Fetch CZ ids for Cities"
   ]
  },
  {
   "cell_type": "code",
   "execution_count": null,
   "metadata": {},
   "outputs": [
    {
     "data": {
      "application/json": {
       "ascii": false,
       "bar_format": null,
       "colour": null,
       "elapsed": 0.0029993057250976562,
       "initial": 0,
       "n": 0,
       "ncols": null,
       "nrows": null,
       "postfix": null,
       "prefix": "",
       "rate": null,
       "total": null,
       "unit": "it",
       "unit_divisor": 1000,
       "unit_scale": false
      },
      "application/vnd.jupyter.widget-view+json": {
       "model_id": "ed8cedc37fea43bc92a63333a3c38dc6",
       "version_major": 2,
       "version_minor": 0
      },
      "text/plain": [
       "0it [00:00, ?it/s]"
      ]
     },
     "metadata": {},
     "output_type": "display_data"
    },
    {
     "name": "stdout",
     "output_type": "stream",
     "text": [
      "Checking CZ for  Tokyo\n",
      "Checking CZ for  Jakarta\n",
      "Checking CZ for  Delhi\n",
      "Checking CZ for  Guangzhou\n",
      "Checking CZ for  Mumbai\n",
      "Checking CZ for  Manila\n",
      "Checking CZ for  Shanghai\n",
      "Checking CZ for  São Paulo\n",
      "Checking CZ for  Seoul\n",
      "Checking CZ for  Mexico City\n",
      "Checking CZ for  Cairo\n",
      "Checking CZ for  New York\n",
      "Checking CZ for  Dhaka\n",
      "Checking CZ for  Beijing\n",
      "Checking CZ for  Kolkāta\n",
      "Checking CZ for  Bangkok\n",
      "Checking CZ for  Shenzhen\n",
      "Checking CZ for  Moscow\n",
      "Checking CZ for  Buenos Aires\n",
      "Checking CZ for  Lagos\n",
      "Checking CZ for  Istanbul\n",
      "Checking CZ for  Karachi\n",
      "Checking CZ for  Bangalore\n",
      "Checking CZ for  Ho Chi Minh City\n",
      "Checking CZ for  Ōsaka\n",
      "Checking CZ for  Chengdu\n",
      "Checking CZ for  Tehran\n",
      "Checking CZ for  Kinshasa\n",
      "Checking CZ for  Rio de Janeiro\n",
      "Checking CZ for  Chennai\n",
      "Checking CZ for  Xi’an\n",
      "Checking CZ for  Lahore\n",
      "Checking CZ for  Chongqing\n",
      "Checking CZ for  Los Angeles\n",
      "Checking CZ for  Baoding\n",
      "Checking CZ for  London\n",
      "Checking CZ for  Paris\n",
      "ERROR Paris\n",
      "Checking CZ for  Linyi\n",
      "Checking CZ for  Dongguan\n",
      "Checking CZ for  Hyderābād\n",
      "Checking CZ for  Tianjin\n",
      "Checking CZ for  Lima\n",
      "Checking CZ for  Wuhan\n",
      "Checking CZ for  Nanyang\n",
      "Checking CZ for  Hangzhou\n",
      "Checking CZ for  Foshan\n",
      "Checking CZ for  Nagoya\n",
      "Checking CZ for  Tongshan\n",
      "Checking CZ for  Taipei\n",
      "Checking CZ for  Luanda\n",
      "Checking CZ for  Zhoukou\n",
      "Checking CZ for  Ganzhou\n",
      "Checking CZ for  Kuala Lumpur\n",
      "Checking CZ for  Heze\n",
      "Checking CZ for  Quanzhou\n",
      "Checking CZ for  Chicago\n",
      "Checking CZ for  Nanjing\n",
      "Checking CZ for  Jining\n",
      "Checking CZ for  Hanoi\n",
      "Checking CZ for  Pune\n",
      "Checking CZ for  Fuyang\n",
      "Checking CZ for  Ahmedabad\n",
      "Checking CZ for  Johannesburg\n",
      "Checking CZ for  Bogotá\n",
      "Checking CZ for  Shenyang\n",
      "Checking CZ for  Dar es Salaam\n",
      "Checking CZ for  Khartoum\n",
      "Checking CZ for  Shangqiu\n",
      "Checking CZ for  Cangzhou\n",
      "Checking CZ for  Hong Kong\n",
      "ERROR Hong Kong\n",
      "Checking CZ for  Shaoyang\n",
      "Checking CZ for  Zhanjiang\n",
      "ERROR Zhanjiang\n",
      "Checking CZ for  Yancheng\n",
      "Checking CZ for  Hengyang\n",
      "Checking CZ for  Riyadh\n",
      "Checking CZ for  Zhumadian\n",
      "Checking CZ for  Santiago\n",
      "Checking CZ for  Xingtai\n",
      "Checking CZ for  Chattogram\n",
      "Checking CZ for  Bijie\n",
      "Checking CZ for  Shangrao\n",
      "Checking CZ for  Zunyi\n",
      "Checking CZ for  Sūrat\n",
      "Checking CZ for  Surabaya\n",
      "Checking CZ for  Huanggang\n",
      "Checking CZ for  Maoming\n",
      "Checking CZ for  Nanchong\n",
      "Checking CZ for  Xinyang\n",
      "Checking CZ for  Madrid\n",
      "Checking CZ for  Baghdad\n",
      "Checking CZ for  Qujing\n",
      "Checking CZ for  Jieyang\n",
      "Checking CZ for  Singapore\n",
      "Checking CZ for  Prayagraj\n",
      "Checking CZ for  Liaocheng\n",
      "Checking CZ for  Dalian\n",
      "Checking CZ for  Yulin\n",
      "Checking CZ for  Changde\n",
      "Checking CZ for  Qingdao\n",
      "Checking CZ for  Douala\n",
      "Checking CZ for  Miami\n",
      "Checking CZ for  Nangandao\n",
      "Checking CZ for  Pudong\n",
      "Checking CZ for  Xiangyang\n",
      "Checking CZ for  Dallas\n",
      "Checking CZ for  Houston\n",
      "Checking CZ for  Zhengzhou\n",
      "Checking CZ for  Lu’an\n",
      "Checking CZ for  Dezhou\n",
      "Checking CZ for  Jinan\n",
      "Checking CZ for  Giza\n",
      "Checking CZ for  Zhaotong\n",
      "Checking CZ for  Yichun\n",
      "Checking CZ for  Nairobi\n",
      "Checking CZ for  Guadalajara\n",
      "Checking CZ for  Philadelphia\n",
      "Checking CZ for  Ankara\n",
      "Checking CZ for  Tai’an\n",
      "Checking CZ for  Dazhou\n",
      "Checking CZ for  Langfang\n",
      "Checking CZ for  Yongzhou\n",
      "Checking CZ for  Toronto\n",
      "Checking CZ for  Suihua\n",
      "Checking CZ for  Saint Petersburg\n",
      "Checking CZ for  Qiqihar\n",
      "Checking CZ for  Suzhou\n",
      "Checking CZ for  Monterrey\n",
      "Checking CZ for  Belo Horizonte\n",
      "Checking CZ for  Weinan\n",
      "Checking CZ for  Rangoon\n",
      "Checking CZ for  Zhangzhou\n",
      "Checking CZ for  Yuncheng\n",
      "Checking CZ for  Xianyang\n",
      "Checking CZ for  Guilin\n",
      "Checking CZ for  Atlanta\n",
      "Checking CZ for  Taizhou\n",
      "Checking CZ for  Kāshān\n",
      "Checking CZ for  Bozhou\n",
      "Checking CZ for  Suqian\n",
      "Checking CZ for  Abidjan\n",
      "Checking CZ for  Huaihua\n",
      "Checking CZ for  Ji’an\n",
      "Checking CZ for  Xiaoganzhan\n",
      "Checking CZ for  Pingdingshan\n",
      "Checking CZ for  Jiujiang\n",
      "Checking CZ for  Alexandria\n",
      "Checking CZ for  Mianyang\n",
      "Checking CZ for  Sydney\n",
      "Checking CZ for  Huanglongsi\n",
      "Checking CZ for  Washington\n",
      "Checking CZ for  Barcelona\n",
      "Checking CZ for  Changsha\n",
      "Checking CZ for  Chenzhou\n",
      "Checking CZ for  Anqing\n",
      "Checking CZ for  Jiangmen\n",
      "Checking CZ for  Xinpu\n",
      "Checking CZ for  Yibin\n",
      "Checking CZ for  Yangzhou\n",
      "Checking CZ for  Melbourne\n",
      "Checking CZ for  Berlin\n",
      "Checking CZ for  Hengshui\n",
      "Checking CZ for  Timbío\n",
      "Checking CZ for  Kunming\n",
      "Checking CZ for  Yiyang\n",
      "Checking CZ for  Guigang\n",
      "Checking CZ for  Changchun\n",
      "Checking CZ for  Jiangguanchi\n",
      "Checking CZ for  Meizhou\n",
      "Checking CZ for  Casablanca\n",
      "Checking CZ for  Zhangjiakou\n",
      "Checking CZ for  Chifeng\n",
      "Checking CZ for  Ürümqi\n",
      "Checking CZ for  Suzhou\n",
      "Checking CZ for  İzmir\n",
      "Checking CZ for  Linfen\n",
      "Checking CZ for  Shantou\n",
      "Checking CZ for  Kabul\n",
      "Checking CZ for  Mogadishu\n",
      "Checking CZ for  Luzhou\n",
      "Checking CZ for  Hefei\n",
      "Checking CZ for  Boston\n",
      "Checking CZ for  Liuzhou\n",
      "Checking CZ for  Zhaoqing\n",
      "Checking CZ for  Xiaoxita\n",
      "Checking CZ for  Shijiazhuang\n",
      "Checking CZ for  Ningbo\n",
      "Checking CZ for  Fuzhou\n",
      "Checking CZ for  Phoenix\n",
      "Checking CZ for  Zhuzhou\n",
      "Checking CZ for  Amman\n",
      "Checking CZ for  Chuzhou\n",
      "Checking CZ for  Jeddah\n",
      "Checking CZ for  Qingyuan\n",
      "Checking CZ for  Loudi\n",
      "Checking CZ for  Binzhou\n",
      "Checking CZ for  Deyang\n",
      "Checking CZ for  Taiyuan\n",
      "Checking CZ for  Kano\n",
      "Checking CZ for  Wuhu\n",
      "Checking CZ for  Nanning\n",
      "Checking CZ for  Harbin\n",
      "Checking CZ for  Abuja\n",
      "Checking CZ for  Yokohama\n",
      "Checking CZ for  Baojishi\n",
      "Checking CZ for  Zaozhuang\n",
      "Checking CZ for  Xiamen\n",
      "Checking CZ for  Neijiang\n",
      "Checking CZ for  Fuzhou\n",
      "Checking CZ for  Baicheng\n",
      "Checking CZ for  Anshan\n",
      "Checking CZ for  Yulinshi\n",
      "Checking CZ for  Medan\n",
      "Checking CZ for  Wenzhou\n",
      "Checking CZ for  Changzhou\n",
      "Checking CZ for  Puyang\n",
      "Checking CZ for  Jiaozuo\n",
      "Checking CZ for  Nanchang\n",
      "Checking CZ for  Ibadan\n",
      "Checking CZ for  Hechi\n",
      "Checking CZ for  Detroit\n",
      "Checking CZ for  Montréal\n",
      "Checking CZ for  Busan\n",
      "Checking CZ for  Hohhot\n",
      "Checking CZ for  Seattle\n",
      "Checking CZ for  Hanzhong\n",
      "Checking CZ for  Algiers\n",
      "Checking CZ for  Tangshan\n",
      "Checking CZ for  Shiyan\n",
      "Checking CZ for  Siping\n",
      "Checking CZ for  Lucknow\n",
      "Checking CZ for  Mashhad\n",
      "Checking CZ for  Boankra\n",
      "Checking CZ for  Changzhi\n",
      "Checking CZ for  Dubai\n",
      "Checking CZ for  Qinzhou\n",
      "Checking CZ for  Guiyang\n",
      "Checking CZ for  Bengbu\n",
      "Checking CZ for  San Francisco\n",
      "Checking CZ for  Bazhou\n",
      "Checking CZ for  Qincheng\n",
      "Checking CZ for  Suining\n",
      "Checking CZ for  Wuxi\n",
      "Checking CZ for  Leshan\n",
      "Checking CZ for  Putian\n",
      "Checking CZ for  Zhenjiang\n",
      "Checking CZ for  Guang’an\n",
      "Checking CZ for  Faisalabad\n",
      "Checking CZ for  Tongren\n",
      "Checking CZ for  Santa Cruz\n",
      "Checking CZ for  Qinhuangdao\n",
      "Checking CZ for  Tongliao\n",
      "Checking CZ for  Jinzhou\n",
      "Checking CZ for  Heyuan\n",
      "Checking CZ for  San Diego\n",
      "Checking CZ for  Jaipur\n",
      "Checking CZ for  Xinzhou\n",
      "Checking CZ for  Lanzhou\n",
      "Checking CZ for  Wuzhou\n",
      "Checking CZ for  Chaoyang\n",
      "Checking CZ for  Athens\n",
      "Checking CZ for  Addis Ababa\n",
      "Checking CZ for  Brasília\n",
      "Checking CZ for  Taichung\n",
      "Checking CZ for  Kuwait City\n",
      "Checking CZ for  Budapest\n",
      "Checking CZ for  Shaoguan\n",
      "Checking CZ for  Shanwei\n",
      "ERROR Shanwei\n",
      "Checking CZ for  Rizhao\n",
      "Checking CZ for  Kyiv\n",
      "Checking CZ for  Quezon City\n",
      "Checking CZ for  Sanaa\n",
      "Checking CZ for  Meishan\n",
      "Checking CZ for  Incheon\n",
      "Checking CZ for  Guatemala City\n",
      "Checking CZ for  Birmingham\n",
      "Checking CZ for  Ningde\n",
      "Checking CZ for  Zhongshan\n",
      "Checking CZ for  Weihai\n",
      "Checking CZ for  Daqing\n",
      "Checking CZ for  Bursa\n",
      "Checking CZ for  Salvador\n",
      "Checking CZ for  Haikou\n",
      "Checking CZ for  Rome\n",
      "Checking CZ for  La Paz\n",
      "Checking CZ for  Xiangtan\n",
      "Checking CZ for  Pyongyang\n",
      "Checking CZ for  Minneapolis\n",
      "Checking CZ for  Omdurman\n",
      "Checking CZ for  Mudanjiang\n",
      "Checking CZ for  Malang\n",
      "Checking CZ for  Stuttgart\n",
      "Checking CZ for  Brooklyn\n",
      "Checking CZ for  Kaohsiung\n",
      "Checking CZ for  Guayaquil\n",
      "Checking CZ for  Longyan\n",
      "Checking CZ for  Lisbon\n",
      "Checking CZ for  Tieling\n",
      "Checking CZ for  Baotou\n",
      "Checking CZ for  Handan\n",
      "Checking CZ for  Manchester\n",
      "Checking CZ for  Cawnpore\n",
      "Checking CZ for  Dingxi\n",
      "Checking CZ for  Nanping\n",
      "Checking CZ for  Tampa\n",
      "Checking CZ for  Zigong\n",
      "Checking CZ for  Maracaibo\n",
      "Checking CZ for  Chaozhou\n",
      "Checking CZ for  Denver\n",
      "Checking CZ for  Mbuji-Mayi\n",
      "Checking CZ for  Weifang\n",
      "Checking CZ for  Huai’an\n",
      "Checking CZ for  Zibo\n",
      "Checking CZ for  Ankang\n",
      "Checking CZ for  Baoshan\n",
      "Checking CZ for  Huludao\n",
      "Checking CZ for  Antananarivo\n",
      "Checking CZ for  Munich\n",
      "Checking CZ for  Gulou\n",
      "Checking CZ for  Yanjiang\n",
      "Checking CZ for  Santo Domingo\n",
      "Checking CZ for  Sanming\n",
      "Checking CZ for  Tashkent\n",
      "ERROR Tashkent\n",
      "Checking CZ for  Longba\n",
      "Checking CZ for  Yangjiang\n",
      "Checking CZ for  Jiamusi\n",
      "Checking CZ for  Luohe\n",
      "Checking CZ for  Lincang\n",
      "Checking CZ for  Xuanzhou\n",
      "Checking CZ for  Medellín\n",
      "Checking CZ for  Yunfu\n",
      "Checking CZ for  Shaoxing\n",
      "Checking CZ for  Yantai\n",
      "Checking CZ for  Huizhou\n",
      "Checking CZ for  Lishui\n",
      "Checking CZ for  Mirzāpur\n",
      "Checking CZ for  Hamburg\n",
      "Checking CZ for  Guangyuan\n",
      "Checking CZ for  Huangshi\n",
      "Checking CZ for  Cali\n",
      "Checking CZ for  Xining\n",
      "Checking CZ for  Lusaka\n",
      "Checking CZ for  Daegu\n",
      "Checking CZ for  Ouagadougou\n",
      "Checking CZ for  Fortaleza\n",
      "Checking CZ for  Dandong\n",
      "Checking CZ for  Yaoundé\n",
      "Checking CZ for  Zhuhai\n",
      "Checking CZ for  Yingkou\n",
      "Checking CZ for  Antalya\n",
      "Checking CZ for  Lianshan\n",
      "Checking CZ for  Nāgpur\n",
      "Checking CZ for  Queens\n",
      "Checking CZ for  Jilin\n",
      "Checking CZ for  Accra\n",
      "Checking CZ for  Yuxi\n",
      "Checking CZ for  Bekasi\n",
      "Checking CZ for  Ghāziābād\n",
      "Checking CZ for  Luoyang\n",
      "Checking CZ for  Brisbane\n",
      "Checking CZ for  Anshun\n",
      "Checking CZ for  Shangzhou\n",
      "Checking CZ for  Huainan\n",
      "Checking CZ for  Depok\n",
      "Checking CZ for  Kuaidamao\n",
      "Checking CZ for  Colombo\n",
      "ERROR Colombo\n",
      "Checking CZ for  Baku\n",
      "Checking CZ for  Fukuoka\n",
      "Checking CZ for  Yan’an\n",
      "Checking CZ for  Jincheng\n",
      "Checking CZ for  Vancouver\n",
      "Checking CZ for  Nantong\n",
      "Checking CZ for  Caracas\n",
      "Checking CZ for  Tangerang\n",
      "Checking CZ for  Sanmenxia\n",
      "Checking CZ for  Laibin\n",
      "Checking CZ for  Konya\n",
      "Checking CZ for  Manaus\n",
      "Checking CZ for  Eşfahān\n",
      "Checking CZ for  Qinbaling\n",
      "Checking CZ for  Baltimore\n",
      "Checking CZ for  Ma’anshan\n",
      "Checking CZ for  Shengli\n",
      "Checking CZ for  Gaoping\n",
      "Checking CZ for  Taizhou\n",
      "Checking CZ for  Las Vegas\n",
      "Checking CZ for  Harare\n",
      "Checking CZ for  Perth\n",
      "Checking CZ for  Havana\n",
      "Checking CZ for  Phnom Penh\n",
      "Checking CZ for  Puning\n",
      "Checking CZ for  Huaibei\n",
      "Checking CZ for  Qingyang\n",
      "Checking CZ for  Kowloon\n",
      "Checking CZ for  Haiphong\n",
      "Checking CZ for  Chongzuo\n",
      "Checking CZ for  Rawalpindi\n",
      "Checking CZ for  Yushan\n",
      "Checking CZ for  St. Louis\n",
      "Checking CZ for  Hezhou\n",
      "Checking CZ for  Kumasi\n",
      "Checking CZ for  Pingliang\n",
      "Checking CZ for  Vadodara\n",
      "Checking CZ for  Portland\n",
      "Checking CZ for  Vishākhapatnam\n",
      "Checking CZ for  Baicheng\n",
      "Checking CZ for  Gaziantep\n",
      "Checking CZ for  Gujranwala\n",
      "Checking CZ for  Fushun\n",
      "Checking CZ for  Riverside\n",
      "Checking CZ for  Quito\n",
      "Checking CZ for  Minsk\n",
      "Checking CZ for  Bamako\n",
      "Checking CZ for  Tijuana\n",
      "Checking CZ for  Bamenda\n",
      "Checking CZ for  Boosaaso\n",
      "Checking CZ for  Indore\n",
      "Checking CZ for  Şanlıurfa\n",
      "Checking CZ for  Karaj\n",
      "Checking CZ for  Vienna\n",
      "Checking CZ for  Kananga\n",
      "Checking CZ for  Peshawar\n",
      "Checking CZ for  Sapporo\n",
      "Checking CZ for  Pingxiang\n",
      "Checking CZ for  Ecatepec\n",
      "Checking CZ for  Orlando\n",
      "Checking CZ for  Sacramento\n",
      "Checking CZ for  Almaty\n",
      "Checking CZ for  Aleppo\n",
      "Checking CZ for  San Juan\n",
      "Checking CZ for  San Antonio\n",
      "Checking CZ for  Yinchuan\n",
      "Checking CZ for  Santos\n",
      "Checking CZ for  Blantyre\n",
      "Checking CZ for  Thāne\n",
      "Checking CZ for  Bucharest\n",
      "Checking CZ for  Curitiba\n",
      "Checking CZ for  Tainan\n",
      "Checking CZ for  Xiping\n",
      "Checking CZ for  Multan\n",
      "Checking CZ for  Port Harcourt\n",
      "Checking CZ for  Jixi\n",
      "Checking CZ for  Saidu Sharif\n",
      "Checking CZ for  Warsaw\n",
      "Checking CZ for  Liaoyang\n",
      "Checking CZ for  Beihai\n",
      "Checking CZ for  Meru\n",
      "Checking CZ for  Brazzaville\n",
      "Checking CZ for  Fuxin\n",
      "Checking CZ for  Wuwei\n",
      "Checking CZ for  Mersin\n",
      "Checking CZ for  Bhopāl\n",
      "Checking CZ for  Lubumbashi\n",
      "Checking CZ for  Denpasar\n",
      "Checking CZ for  Davao\n",
      "Checking CZ for  Shuyangzha\n",
      "Checking CZ for  Adana\n",
      "Checking CZ for  Damascus\n",
      "Checking CZ for  Brussels\n",
      "Checking CZ for  Hyderabad City\n",
      "Checking CZ for  Diyarbakır\n",
      "Checking CZ for  San Jose\n",
      "Checking CZ for  Chinchvad\n",
      "Checking CZ for  Pittsburgh\n",
      "Checking CZ for  Montevideo\n",
      "Checking CZ for  Shuozhou\n",
      "Checking CZ for  Cincinnati\n",
      "Checking CZ for  Benxi\n",
      "Checking CZ for  Baiyin\n",
      "Checking CZ for  Manhattan\n",
      "Checking CZ for  Mosul\n",
      "Checking CZ for  Patna\n",
      "Checking CZ for  Cleveland\n",
      "Checking CZ for  Tegucigalpa\n",
      "Checking CZ for  Kampala\n",
      "Checking CZ for  Sanzhou\n",
      "Checking CZ for  Changshu\n",
      "Checking CZ for  Mecca\n",
      "Checking CZ for  Heihe\n",
      "Checking CZ for  Jingdezhen\n",
      "Checking CZ for  Conakry\n",
      "ERROR Conakry\n",
      "Checking CZ for  Caloocan City\n",
      "Checking CZ for  Indianapolis\n",
      "Checking CZ for  Austin\n",
      "Checking CZ for  Recife\n",
      "Checking CZ for  Sangereng\n",
      "Checking CZ for  Kansas City\n",
      "Checking CZ for  Zhongli\n",
      "Checking CZ for  Novosibirsk\n",
      "Checking CZ for  Bilāspur\n",
      "Checking CZ for  Semarang\n",
      "Checking CZ for  Ludhiāna\n",
      "Checking CZ for  Stockholm\n",
      "Checking CZ for  Chengtangcun\n",
      "Checking CZ for  Balandougou\n",
      "Checking CZ for  Agwār\n",
      "Checking CZ for  Āgra\n",
      "Checking CZ for  León de los Aldama\n",
      "Checking CZ for  Puebla\n",
      "Checking CZ for  Nārāyanganj\n",
      "Checking CZ for  Yopougon\n",
      "Checking CZ for  Hebi\n",
      "Checking CZ for  Shīrāz\n",
      "Checking CZ for  Córdoba\n",
      "Checking CZ for  Madurai\n",
      "Checking CZ for  Huzhou\n",
      "Checking CZ for  Tabrīz\n",
      "Checking CZ for  Jamshedpur\n",
      "Checking CZ for  Columbus\n",
      "Checking CZ for  Sofia\n",
      "Checking CZ for  San José\n",
      "Checking CZ for  Kawasaki\n",
      "Checking CZ for  Zhangjiajie\n",
      "Checking CZ for  Palembang\n",
      "Checking CZ for  Aba\n",
      "Checking CZ for  Kōbe\n",
      "Checking CZ for  Jiaxing\n",
      "Checking CZ for  Charlotte\n",
      "Checking CZ for  Guiping\n",
      "Checking CZ for  Lianjiang\n",
      "Checking CZ for  Ximeicun\n",
      "Checking CZ for  Jianguang\n",
      "Checking CZ for  Yucheng\n",
      "Checking CZ for  Xushan\n",
      "Checking CZ for  Virginia Beach\n",
      "Checking CZ for  Panama City\n",
      "Checking CZ for  Belém\n",
      "ERROR Belém\n",
      "Checking CZ for  Leizhou\n",
      "Checking CZ for  Gwangju\n",
      "Checking CZ for  Nāsik\n",
      "Checking CZ for  Porto Alegre\n",
      "Checking CZ for  Valencia\n",
      "Checking CZ for  Abu Dhabi\n",
      "Checking CZ for  Onitsha\n",
      "Checking CZ for  Zapopan\n",
      "Checking CZ for  Daejeon\n",
      "Checking CZ for  Bronx\n",
      "Checking CZ for  Yekaterinburg\n",
      "Checking CZ for  Huazhou\n",
      "Checking CZ for  Kyōto\n",
      "Checking CZ for  Jinhua\n",
      "Checking CZ for  Shuangyashan\n",
      "Checking CZ for  Amsterdam\n",
      "Checking CZ for  Pizhou\n",
      "Checking CZ for  El Kelaa des Srarhna\n",
      "Checking CZ for  Kharkiv\n",
      "Checking CZ for  Dakar\n",
      "Checking CZ for  Yangshe\n",
      "Checking CZ for  Guyuan\n",
      "Checking CZ for  Rui’an\n",
      "Checking CZ for  Muscat\n",
      "Checking CZ for  Wenling\n",
      "Checking CZ for  Gaozhou\n",
      "Checking CZ for  Farīdābād\n",
      "Checking CZ for  Chizhou\n",
      "Checking CZ for  Khulna\n",
      "Checking CZ for  Ulaanbaatar\n",
      "Checking CZ for  Goiânia\n",
      "Checking CZ for  Fuqing\n",
      "Checking CZ for  Kayseri\n",
      "Checking CZ for  Tel Aviv-Yafo\n",
      "Checking CZ for  Wuzhong\n",
      "Checking CZ for  Pingdu\n",
      "Checking CZ for  Belgrade\n",
      "Checking CZ for  Aurangābād\n",
      "Checking CZ for  Yangquan\n",
      "Checking CZ for  Yutan\n",
      "Checking CZ for  Copenhagen\n",
      "Checking CZ for  Milan\n",
      "Checking CZ for  Huangshan\n",
      "Checking CZ for  Auckland\n",
      "Checking CZ for  Santiago\n",
      "Checking CZ for  Milwaukee\n",
      "Checking CZ for  Makassar\n",
      "Checking CZ for  Liangshi\n",
      "Checking CZ for  Samsun\n",
      "Checking CZ for  Rājkot\n",
      "Checking CZ for  Prague\n",
      "Checking CZ for  Barranquilla\n",
      "Checking CZ for  Al Başrah\n",
      "Checking CZ for  Saitama\n",
      "Checking CZ for  Guarulhos\n",
      "Checking CZ for  Juárez\n",
      "Checking CZ for  Mandalay\n",
      "Checking CZ for  Xintai\n",
      "Checking CZ for  Wusong\n",
      "Checking CZ for  Meerut\n",
      "Checking CZ for  Yushu\n",
      "Checking CZ for  Rongcheng\n",
      "Checking CZ for  Huazhou\n",
      "Checking CZ for  Baishan\n",
      "Checking CZ for  Dayan\n",
      "Checking CZ for  Adelaide\n",
      "Checking CZ for  Haicheng\n",
      "Checking CZ for  Tripoli\n",
      "Checking CZ for  Jiangyin\n",
      "Checking CZ for  Yicheng\n",
      "Checking CZ for  Cacuaco\n",
      "Checking CZ for  Porto\n",
      "Checking CZ for  Rosario\n",
      "Checking CZ for  Canagatan\n",
      "ERROR Canagatan\n",
      "Checking CZ for  Soweto\n",
      "Checking CZ for  Providence\n",
      "Checking CZ for  Helsinki\n",
      "Checking CZ for  Jabalpur\n",
      "Checking CZ for  Rucheng\n",
      "Checking CZ for  Nizhniy Novgorod\n",
      "Checking CZ for  Huaiyin\n",
      "Checking CZ for  Ahvāz\n",
      "Checking CZ for  Jepara\n",
      "Checking CZ for  Shaoyang\n",
      "Checking CZ for  Comayagüela\n",
      "Checking CZ for  Laiwu\n",
      "Checking CZ for  Sharjah\n",
      "Checking CZ for  Jingling\n",
      "Checking CZ for  Kalamboli\n",
      "Checking CZ for  Kazan\n",
      "Checking CZ for  Yongcheng\n",
      "Checking CZ for  Sumedang\n",
      "Checking CZ for  Calgary\n",
      "Checking CZ for  Cần Thơ\n",
      "Checking CZ for  Suwon\n",
      "Checking CZ for  Yiwu\n",
      "Checking CZ for  Bagam\n",
      "Checking CZ for  Beidao\n",
      "Checking CZ for  Vasai\n",
      "Checking CZ for  Xiangshui\n",
      "Checking CZ for  Jacksonville\n",
      "Checking CZ for  Akçaabat\n",
      "Checking CZ for  Dadukou\n",
      "Checking CZ for  Campinas\n",
      "Checking CZ for  Lingcheng\n",
      "Checking CZ for  Vila Velha\n",
      "Checking CZ for  Mombasa\n",
      "Checking CZ for  Najafgarh\n",
      "Checking CZ for  Xinyu\n",
      "Checking CZ for  Chelyabinsk\n",
      "Checking CZ for  Qom\n",
      "Checking CZ for  Hargeysa\n",
      "Checking CZ for  Zhangye\n",
      "Checking CZ for  Gāzipura\n",
      "Checking CZ for  Vārānasi\n",
      "Checking CZ for  Hiroshima\n",
      "Checking CZ for  Chiang Mai\n",
      "Checking CZ for  Maiduguri\n",
      "Checking CZ for  Maputo\n",
      "Checking CZ for  Mbandaka\n",
      "Checking CZ for  Doha\n",
      "Checking CZ for  Medina\n",
      "Checking CZ for  Srīnagar\n",
      "Checking CZ for  Omsk\n",
      "Checking CZ for  Liaoyuan\n",
      "Checking CZ for  Yingtan\n",
      "Checking CZ for  Cilacap\n",
      "Checking CZ for  Dublin\n",
      "Checking CZ for  Pikine\n",
      "Checking CZ for  Samara\n",
      "Checking CZ for  Guankou\n",
      "Checking CZ for  Bandar Lampung\n",
      "Checking CZ for  Ulsan\n",
      "Checking CZ for  Dingzhou\n",
      "Checking CZ for  Lianyuan\n",
      "Checking CZ for  Rongcheng\n",
      "Checking CZ for  Dhanbād\n",
      "Checking CZ for  Nay Pyi Taw\n",
      "Checking CZ for  Kaiyuan\n",
      "Checking CZ for  Zhuji\n",
      "Checking CZ for  Kigali\n",
      "Checking CZ for  Leiyang\n",
      "Checking CZ for  Yichun\n",
      "Checking CZ for  Benin City\n",
      "Checking CZ for  Bafoussam\n",
      "Checking CZ for  Xiantao\n",
      "Checking CZ for  Rostov\n",
      "Checking CZ for  Salt Lake City\n",
      "Checking CZ for  Bukavu\n",
      "Checking CZ for  Amritsar\n",
      "Checking CZ for  Shagamu\n",
      "Checking CZ for  Yingchuan\n",
      "Checking CZ for  Alīgarh\n",
      "Checking CZ for  Callao\n",
      "Checking CZ for  Tbilisi\n",
      "Checking CZ for  Guwāhāti\n",
      "Checking CZ for  Ufa\n",
      "Checking CZ for  Fès\n",
      "Checking CZ for  Ciudad Nezahualcóyotl\n",
      "Checking CZ for  São Luís\n",
      "Checking CZ for  Biên Hòa\n",
      "Checking CZ for  Mexicali\n",
      "Checking CZ for  Sevilla\n",
      "Checking CZ for  Ikare\n",
      "Checking CZ for  Nashville\n",
      "Checking CZ for  Xibeijie\n",
      "Checking CZ for  Tamale\n",
      "Checking CZ for  Yuyao\n",
      "Checking CZ for  Hanchuan\n",
      "Checking CZ for  Gongzhuling\n",
      "Checking CZ for  N’Djamena\n",
      "Checking CZ for  Krasnoyarsk\n",
      "Checking CZ for  Cologne\n",
      "Checking CZ for  Zhufeng\n",
      "Checking CZ for  Ezhou\n",
      "Checking CZ for  Nur-Sultan\n",
      "Checking CZ for  São Gonçalo\n",
      "Checking CZ for  Nezahualcóyotl\n",
      "Checking CZ for  Nouakchott\n",
      "Checking CZ for  Hāora\n",
      "Checking CZ for  Tongjin\n",
      "Checking CZ for  Xiashi\n",
      "Checking CZ for  Yerevan\n",
      "Checking CZ for  Bujumbura\n",
      "Checking CZ for  Bishkek\n",
      "Checking CZ for  Vereeniging\n",
      "Checking CZ for  Taixing\n",
      "Checking CZ for  Rānchi\n",
      "Checking CZ for  Gwalior\n",
      "Checking CZ for  Zhongwei\n",
      "Checking CZ for  Oslo\n",
      "Checking CZ for  Edmonton\n",
      "Checking CZ for  Raleigh\n",
      "Checking CZ for  Goyang\n",
      "Checking CZ for  Sendai\n",
      "Checking CZ for  Xishan\n",
      "Checking CZ for  Mizhou\n",
      "Checking CZ for  Barquisimeto\n",
      "Checking CZ for  Hegang\n",
      "Checking CZ for  Tunis\n",
      "Checking CZ for  Chandīgarh\n",
      "Checking CZ for  Voronezh\n",
      "Checking CZ for  Vijayavāda\n",
      "Checking CZ for  Perm\n",
      "Checking CZ for  Fangchenggang\n",
      "Checking CZ for  Changwon\n",
      "Checking CZ for  Shouguang\n",
      "Checking CZ for  Cartagena\n",
      "Checking CZ for  Memphis\n",
      "Checking CZ for  Jodhpur\n",
      "Checking CZ for  Matola\n",
      "Checking CZ for  Ogbomoso\n",
      "Checking CZ for  Sanya\n",
      "Checking CZ for  Rangapukur\n",
      "Checking CZ for  Bogor\n",
      "Checking CZ for  Wutong\n",
      "Checking CZ for  Linhai\n",
      "Checking CZ for  Managua\n",
      "Checking CZ for  Shymkent\n",
      "Checking CZ for  Denizli\n",
      "Checking CZ for  Niamey\n",
      "Checking CZ for  Shubrā al Khaymah\n",
      "Checking CZ for  Maceió\n",
      "Checking CZ for  Wafangdian\n",
      "Checking CZ for  Louisville\n",
      "Checking CZ for  Zhongxiang\n",
      "Checking CZ for  Monrovia\n",
      "Checking CZ for  Odesa\n",
      "Checking CZ for  Volgograd\n",
      "Checking CZ for  Islamabad\n",
      "Checking CZ for  Xinyi\n",
      "Checking CZ for  Thủ Đức\n",
      "Checking CZ for  Raipur\n",
      "Checking CZ for  Arequipa\n",
      "Checking CZ for  Richmond\n",
      "Checking CZ for  Zaoyang\n",
      "Checking CZ for  Buffalo\n",
      "Checking CZ for  Xingyi\n",
      "Checking CZ for  Shuizhai\n",
      "Checking CZ for  Kota\n",
      "Checking CZ for  Quetta\n",
      "Checking CZ for  Domaa-Ahenkro\n",
      "Checking CZ for  Quảng Hà\n",
      "Checking CZ for  Bareilly\n",
      "Checking CZ for  Oklahoma City\n",
      "Checking CZ for  Xingcheng\n",
      "Checking CZ for  Dongtai\n",
      "Checking CZ for  Ottawa\n",
      "Checking CZ for  Lilongwe\n",
      "Checking CZ for  Port-au-Prince\n",
      "Checking CZ for  Yingcheng\n",
      "Checking CZ for  Al Mijlad\n",
      "Checking CZ for  Luocheng\n",
      "Checking CZ for  Pekanbaru\n",
      "Checking CZ for  Chiba\n",
      "Checking CZ for  Dnipro\n",
      "Checking CZ for  Godē\n",
      "Checking CZ for  Danyang\n",
      "Checking CZ for  Natal\n",
      "Checking CZ for  Nada\n",
      "Checking CZ for  Zamboanga City\n",
      "Checking CZ for  Kathmandu\n",
      "Checking CZ for  Bridgeport\n",
      "Checking CZ for  Kirkuk\n",
      "Checking CZ for  Huilong\n",
      "Checking CZ for  Wuchuan\n",
      "Checking CZ for  Málaga\n",
      "Checking CZ for  Naples\n",
      "Checking CZ for  Cebu City\n",
      "Checking CZ for  Asmara\n",
      "Checking CZ for  Morelia\n",
      "Checking CZ for  Al Manşūrah\n",
      "Checking CZ for  Coimbatore\n",
      "Checking CZ for  Taishan\n",
      "Checking CZ for  Teresina\n",
      "Checking CZ for  Kermānshāh\n",
      "Checking CZ for  Solāpur\n",
      "Checking CZ for  Freetown\n",
      "Checking CZ for  Gaalkacyo\n",
      "Checking CZ for  Baidoa\n",
      "Checking CZ for  Santo Domingo Este\n",
      "Checking CZ for  Krasnodar\n",
      "Checking CZ for  Sŏngnam\n",
      "Checking CZ for  Vientiane\n",
      "Checking CZ for  Tangier\n",
      "Checking CZ for  Anqiu\n",
      "Checking CZ for  Feicheng\n",
      "Checking CZ for  Seberang Jaya\n",
      "Checking CZ for  El Alto\n",
      "Checking CZ for  Setagaya\n",
      "Checking CZ for  Khartoum North\n",
      "Checking CZ for  Meishan\n",
      "Checking CZ for  Kisangani\n",
      "Checking CZ for  Kitakyūshū\n",
      "Checking CZ for  Aguascalientes\n",
      "Checking CZ for  Donetsk\n",
      "Checking CZ for  Marrakech\n",
      "Checking CZ for  New Orleans\n",
      "Checking CZ for  Taihe\n",
      "Checking CZ for  Riga\n",
      "Checking CZ for  Xin’an\n",
      "Checking CZ for  Taihecun\n",
      "Checking CZ for  Kashgar\n",
      "Checking CZ for  Trujillo\n",
      "Checking CZ for  Jerusalem\n",
      "Checking CZ for  Santiago de Cuba\n",
      "Checking CZ for  Trichinopoly\n",
      "Checking CZ for  Padang\n",
      "Checking CZ for  Çankaya\n",
      "Checking CZ for  Qingzhou\n",
      "Checking CZ for  Lichuan\n",
      "Checking CZ for  Naucalpan de Juárez\n",
      "Checking CZ for  Santiago del Estero\n",
      "Checking CZ for  Daye\n",
      "Checking CZ for  Fort Worth\n",
      "Checking CZ for  Hengzhou\n",
      "Checking CZ for  Owerri\n",
      "Checking CZ for  Hartford\n",
      "Checking CZ for  Campo Grande\n",
      "Checking CZ for  Zhuanghe\n",
      "Checking CZ for  Bobo-Dioulasso\n",
      "Checking CZ for  Ad Dammām\n",
      "Checking CZ for  Quzhou\n",
      "Checking CZ for  Lhasa\n",
      "Checking CZ for  Bunia\n",
      "Checking CZ for  Jiaozhou\n",
      "Checking CZ for  Mérida\n",
      "Checking CZ for  Yangchun\n",
      "Checking CZ for  Esenyurt\n",
      "Checking CZ for  Bangui\n",
      "Checking CZ for  Abeokuta\n",
      "Checking CZ for  Cancún\n",
      "Checking CZ for  Morādābād\n",
      "Checking CZ for  Antipolo\n",
      "Checking CZ for  Dengtalu\n",
      "Checking CZ for  Taguig City\n",
      "Checking CZ for  Zhoushan\n",
      "Checking CZ for  As Sulaymānīyah\n",
      "Checking CZ for  Chihuahua\n",
      "Checking CZ for  Klang\n",
      "Checking CZ for  Tiruppūr\n",
      "Checking CZ for  Natal\n",
      "Checking CZ for  Gurgaon\n",
      "Checking CZ for  Tucson\n",
      "Checking CZ for  Ar Ramādī\n",
      "Checking CZ for  Hai’an\n",
      "Checking CZ for  Laiyang\n",
      "Checking CZ for  Jalandhar\n",
      "Checking CZ for  Kaifeng Chengguanzhen\n",
      "Checking CZ for  Eskişehir\n",
      "Checking CZ for  Turin\n",
      "Checking CZ for  Bucaramanga\n",
      "Checking CZ for  Marseille\n",
      "Checking CZ for  Gaomi\n",
      "Checking CZ for  Bucheon\n",
      "Checking CZ for  Ipoh\n",
      "Checking CZ for  Saltillo\n",
      "Checking CZ for  Liverpool\n",
      "Checking CZ for  Dushanbe\n",
      "Checking CZ for  Ikeja\n",
      "Checking CZ for  Weichanglu\n",
      "Checking CZ for  Cochabamba\n",
      "Checking CZ for  Portsmouth\n",
      "Checking CZ for  Southampton\n",
      "Checking CZ for  Hermosillo\n",
      "Checking CZ for  Wuxi\n",
      "Checking CZ for  Leping\n",
      "Checking CZ for  Oran\n",
      "Checking CZ for  Shache\n",
      "Checking CZ for  Sale\n",
      "Checking CZ for  Hailun\n",
      "Checking CZ for  Macheng\n",
      "Checking CZ for  Akure\n",
      "Checking CZ for  Ilorin\n",
      "Checking CZ for  Erbil\n",
      "Checking CZ for  Saratov\n",
      "Checking CZ for  Iguaçu\n",
      "Checking CZ for  Yuci\n",
      "Checking CZ for  Dehui\n",
      "Checking CZ for  Bhubaneshwar\n",
      "Checking CZ for  Lomé\n",
      "Checking CZ for  Honolulu\n",
      "Checking CZ for  Tongchuan\n",
      "Checking CZ for  Cheongju\n",
      "Checking CZ for  Chengxiang\n",
      "Checking CZ for  Warri\n",
      "Checking CZ for  Pointe-Noire\n",
      "Checking CZ for  Ashgabat\n",
      "Checking CZ for  Rongjiawan\n",
      "Checking CZ for  Thessaloníki\n",
      "Checking CZ for  Sakai\n",
      "Checking CZ for  Kālkāji Devi\n",
      "Checking CZ for  Mediouna\n",
      "Checking CZ for  Renqiu\n",
      "Checking CZ for  Butterworth\n",
      "ERROR Butterworth\n",
      "Checking CZ for  Xindi\n",
      "Checking CZ for  Wu’an\n",
      "Checking CZ for  São Bernardo do Campo\n",
      "Checking CZ for  Barinas\n",
      "Checking CZ for  Māndvi\n",
      "Checking CZ for  Gaoyou\n",
      "Checking CZ for  Yiyang\n",
      "Checking CZ for  Hejian\n",
      "Checking CZ for  Puxi\n",
      "Checking CZ for  Bhayandar\n",
      "Checking CZ for  Androtsy\n",
      "Checking CZ for  Zagreb\n",
      "Checking CZ for  McAllen\n",
      "Checking CZ for  Culiacán\n",
      "Checking CZ for  Zijinglu\n",
      "Checking CZ for  Omaha\n",
      "Checking CZ for  Dongyang\n",
      "Checking CZ for  Pasig City\n",
      "Checking CZ for  Querétaro\n",
      "Checking CZ for  João Pessoa\n",
      "Checking CZ for  Kraków\n",
      "Checking CZ for  Abaeté\n",
      "Checking CZ for  Palermo\n",
      "Checking CZ for  Xigazê\n",
      "Checking CZ for  Qingping\n",
      "Checking CZ for  Libreville\n",
      "Checking CZ for  El Paso\n",
      "Checking CZ for  George Town\n",
      "Checking CZ for  Seyhan\n",
      "Checking CZ for  Valencia\n",
      "Checking CZ for  Hempstead\n",
      "Checking CZ for  Niigata\n",
      "Checking CZ for  Leeds\n",
      "Checking CZ for  Hamamatsu\n",
      "Checking CZ for  Xiangxiang\n",
      "Checking CZ for  Chaohucun\n",
      "Checking CZ for  Lubango\n",
      "Checking CZ for  Homs\n",
      "Checking CZ for  Bilbao\n",
      "Checking CZ for  Zouping\n",
      "Checking CZ for  San Luis Potosí\n",
      "Checking CZ for  Cencheng\n",
      "Checking CZ for  Dali\n",
      "Checking CZ for  Fuyang\n",
      "Checking CZ for  Küçükçekmece\n",
      "Checking CZ for  Korla\n",
      "Checking CZ for  Khŭjand\n",
      "Checking CZ for  Nottingham\n",
      "Checking CZ for  Hamhŭng\n",
      "Checking CZ for  Erzurum\n",
      "Checking CZ for  Al ‘Ayn\n",
      "Checking CZ for  Songzi\n",
      "Checking CZ for  Albuquerque\n",
      "Checking CZ for  Frankfurt\n",
      "Checking CZ for  Rājshāhi\n",
      "Checking CZ for  Patiāla\n",
      "Checking CZ for  Laixi\n",
      "Checking CZ for  Zhongba\n",
      "Checking CZ for  Bahawalpur\n",
      "Checking CZ for  Cotonou\n",
      "Checking CZ for  Qamdo\n",
      "Checking CZ for  Qingnian\n",
      "Checking CZ for  San Pedro Sula\n",
      "Checking CZ for  Kaduna\n",
      "Checking CZ for  Xinhualu\n",
      "Checking CZ for  Guangshui\n",
      "Checking CZ for  Baardheere\n",
      "Checking CZ for  Samarinda\n",
      "Checking CZ for  Sizhan\n",
      "Checking CZ for  Ciudad Guayana\n",
      "Checking CZ for  Pietermaritzburg\n",
      "Checking CZ for  Burco\n",
      "Checking CZ for  Changhua\n",
      "Checking CZ for  Dhūlia\n",
      "Checking CZ for  Cúcuta\n",
      "Checking CZ for  Licheng\n",
      "Checking CZ for  Tyumen\n",
      "Checking CZ for  Thiruvananthapuram\n",
      "Checking CZ for  Nampula\n",
      "Checking CZ for  Nerima\n",
      "Checking CZ for  Zaporizhzhia\n",
      "Checking CZ for  Pretoria\n",
      "Checking CZ for  Kyaukse\n",
      "Checking CZ for  Chengguan\n",
      "Checking CZ for  Nehe\n",
      "Checking CZ for  Cabinda\n",
      "Checking CZ for  Kumamoto\n",
      "Checking CZ for  Kermān\n",
      "Checking CZ for  Rochester\n",
      "Checking CZ for  Ōta-ku\n",
      "Checking CZ for  Zunhua\n",
      "Checking CZ for  Orūmīyeh\n",
      "Checking CZ for  Wugang\n",
      "Checking CZ for  Bağcılar\n",
      "Checking CZ for  Shuangqiao\n",
      "Checking CZ for  Tshikapa\n",
      "Checking CZ for  Osogbo\n",
      "Checking CZ for  Comodoro Rivadavia\n",
      "Checking CZ for  São José dos Campos\n",
      "Checking CZ for  Langzhong\n",
      "Checking CZ for  Cagayan de Oro\n",
      "Checking CZ for  Qian’an\n",
      "Checking CZ for  Tlajomulco de Zúñiga\n",
      "Checking CZ for  Sarasota\n",
      "Checking CZ for  Reynosa\n",
      "Checking CZ for  An Najaf\n",
      "Checking CZ for  Lviv\n",
      "Checking CZ for  Guli\n",
      "Checking CZ for  Sagamihara\n",
      "Checking CZ for  Mississauga\n",
      "Checking CZ for  Santo André\n",
      "Checking CZ for  Okayama\n",
      "Checking CZ for  Anlu\n",
      "Checking CZ for  Concepción\n",
      "Checking CZ for  Fresno\n",
      "Checking CZ for  Changsha\n",
      "Checking CZ for  Shihezi\n",
      "Checking CZ for  Torreón\n",
      "Checking CZ for  Tulsa\n",
      "Checking CZ for  Enugu\n",
      "Checking CZ for  Valenzuela\n",
      "Checking CZ for  Yatou\n",
      "Checking CZ for  Allentown\n",
      "Checking CZ for  Yanggok\n",
      "Checking CZ for  Xichang\n",
      "Checking CZ for  Ribeirão Prêto\n",
      "Checking CZ for  Bhiwandi\n",
      "Checking CZ for  Dayton\n",
      "Checking CZ for  Vilnius\n",
      "Checking CZ for  Mwanza\n",
      "Checking CZ for  Sahāranpur\n",
      "Checking CZ for  Winnipeg\n",
      "Checking CZ for  Quebec City\n",
      "Checking CZ for  Dashiqiao\n",
      "Checking CZ for  Birmingham\n",
      "Checking CZ for  Warangal\n",
      "Checking CZ for  Nampo\n",
      "Checking CZ for  Dasmariñas\n",
      "Checking CZ for  Jaboatão\n",
      "Checking CZ for  Chisinau\n",
      "Checking CZ for  Shiliguri\n",
      "Checking CZ for  Port Moresby\n",
      "ERROR Port Moresby\n",
      "Checking CZ for  Latakia\n",
      "Checking CZ for  Soledad\n",
      "Checking CZ for  Edogawa\n",
      "Checking CZ for  General Santos\n",
      "Checking CZ for  Ḩamāh\n",
      "Checking CZ for  Vellore\n",
      "Checking CZ for  Qianxi\n",
      "Checking CZ for  Osasco\n",
      "Checking CZ for  Bauchi\n",
      "Checking CZ for  Hamilton\n",
      "Checking CZ for  Pendik\n",
      "Checking CZ for  Salem\n",
      "Checking CZ for  Tolyatti\n",
      "Checking CZ for  Shishi\n",
      "Checking CZ for  Banjarmasin\n",
      "Checking CZ for  Cocody\n",
      "Checking CZ for  Miluo Chengguanzhen\n",
      "Checking CZ for  Guadalupe\n",
      "Checking CZ for  Gaizhou\n",
      "Checking CZ for  Łódź\n",
      "Checking CZ for  Karbalā’\n",
      "Checking CZ for  City of Parañaque\n",
      "Checking CZ for  Leling\n",
      "Checking CZ for  Jianshe\n",
      "Checking CZ for  Shizuoka\n",
      "Checking CZ for  Charleston\n",
      "Checking CZ for  Jingcheng\n",
      "Checking CZ for  Cape Coral\n",
      "Checking CZ for  Mar del Plata\n",
      "Checking CZ for  Adachi\n",
      "Checking CZ for  Xinmin\n",
      "Checking CZ for  Rasht\n",
      "Checking CZ for  Shanhu\n",
      "Checking CZ for  Zhongshu\n",
      "Checking CZ for  Tasikmalaya\n",
      "Checking CZ for  Kochi\n",
      "Checking CZ for  Zaragoza\n",
      "Checking CZ for  Acapulco de Juárez\n",
      "Checking CZ for  Gorakhpur\n",
      "Checking CZ for  Bahār\n",
      "Checking CZ for  Kumul\n",
      "Checking CZ for  Wrocław\n",
      "Checking CZ for  Murcia\n",
      "Checking CZ for  Pinghu\n",
      "Checking CZ for  Guankou\n",
      "Checking CZ for  Songyang\n",
      "Checking CZ for  Palermo\n",
      "Checking CZ for  Ch’ŏngjin\n",
      "Checking CZ for  Qionghu\n",
      "Checking CZ for  Zhaodong\n",
      "Checking CZ for  Puyang Chengguanzhen\n",
      "Checking CZ for  Huambo\n",
      "Checking CZ for  Bacoor\n",
      "Checking CZ for  Wenchang\n",
      "Checking CZ for  Tlaquepaque\n",
      "Checking CZ for  Villavicencio\n",
      "Checking CZ for  Shulan\n",
      "Checking CZ for  Narela\n",
      "Checking CZ for  Catia La Mar\n",
      "Checking CZ for  Al Hufūf\n",
      "Checking CZ for  Jalingo\n",
      "Checking CZ for  Sargodha\n",
      "Checking CZ for  Bouaké\n",
      "Checking CZ for  Mazatlán\n",
      "Checking CZ for  Lingbao Chengguanzhen\n",
      "Checking CZ for  Abomey-Calavi\n",
      "Checking CZ for  Sialkot City\n",
      "Checking CZ for  Hwasu-dong\n",
      "Checking CZ for  Durango\n",
      "Checking CZ for  Tondo\n",
      "Checking CZ for  Tlalnepantla\n",
      "Checking CZ for  Bulawayo\n",
      "Checking CZ for  Ansan\n",
      "Checking CZ for  Xiping\n",
      "Checking CZ for  Huế\n",
      "Checking CZ for  Sanhe\n",
      "Checking CZ for  San Jose del Monte\n",
      "Checking CZ for  Ch’ŏnan\n",
      "Checking CZ for  Jieshou\n",
      "Checking CZ for  Ērer Sātā\n",
      "Checking CZ for  Selçuklu\n",
      "Checking CZ for  Contagem\n",
      "Checking CZ for  Guntūr\n",
      "Checking CZ for  Guixi\n",
      "Checking CZ for  Izhevsk\n",
      "Checking CZ for  Düsseldorf\n",
      "Checking CZ for  Sorocaba\n",
      "Checking CZ for  Tengyue\n",
      "Checking CZ for  Wuxue\n",
      "Checking CZ for  Yıldırım\n",
      "Checking CZ for  Bhāvnagar\n",
      "Checking CZ for  Honchō\n",
      "Checking CZ for  Ruiming\n",
      "Checking CZ for  Columbia\n",
      "Checking CZ for  Qufu\n",
      "Checking CZ for  Gaobeidian\n",
      "Checking CZ for  Concord\n",
      "Checking CZ for  Skopje\n",
      "Checking CZ for  Sha Tin\n",
      "Checking CZ for  Petaling Jaya\n",
      "Checking CZ for  Gold Coast\n",
      "Checking CZ for  Noida\n",
      "Checking CZ for  Rasūlpur\n",
      "Checking CZ for  Xinshi\n",
      "Checking CZ for  Brahmapur\n",
      "Checking CZ for  Barnaul\n",
      "Checking CZ for  Jin’e\n",
      "Checking CZ for  Aracaju\n",
      "Checking CZ for  Bhāngar\n",
      "Checking CZ for  Benghazi\n",
      "Checking CZ for  Jeonju\n",
      "Checking CZ for  Rotterdam\n",
      "Checking CZ for  Kryvyi Rih\n",
      "Checking CZ for  Makati City\n",
      "Checking CZ for  Colorado Springs\n",
      "Checking CZ for  Xinxing\n",
      "Checking CZ for  Suohe\n",
      "Checking CZ for  Zhuangyuan\n",
      "Checking CZ for  Glasgow\n",
      "Checking CZ for  Namangan\n",
      "Checking CZ for  Bhilai\n",
      "Checking CZ for  Bhilai\n",
      "Checking CZ for  Ulyanovsk\n",
      "Checking CZ for  Mangalore\n",
      "Checking CZ for  Irkutsk\n",
      "Checking CZ for  Bazhou\n",
      "Checking CZ for  Turpan\n",
      "Checking CZ for  Jos\n",
      "Checking CZ for  Nāgercoil\n",
      "Checking CZ for  Springfield\n",
      "Checking CZ for  Knoxville\n",
      "Checking CZ for  Ḩalwān\n",
      "Checking CZ for  Tân An\n",
      "Checking CZ for  Port-Bouët\n",
      "Checking CZ for  Villa Nueva\n",
      "Checking CZ for  Pontianak\n",
      "Checking CZ for  Meihekou\n",
      "Checking CZ for  Jurong\n",
      "Checking CZ for  Feira de Santana\n",
      "Checking CZ for  Zhugang\n",
      "Checking CZ for  Khabarovsk\n",
      "Checking CZ for  Xinji\n",
      "Checking CZ for  Ta‘izz\n",
      "Checking CZ for  Leipzig\n",
      "Checking CZ for  Changping\n",
      "Checking CZ for  Chimalhuacán\n",
      "Checking CZ for  Kandahār\n",
      "Checking CZ for  Serang\n",
      "Checking CZ for  Jambi\n",
      "Checking CZ for  Baton Rouge\n",
      "Checking CZ for  Zhangshu\n",
      "Checking CZ for  Ogden\n",
      "Checking CZ for  Yaroslavl\n",
      "Checking CZ for  Gothenburg\n",
      "Checking CZ for  Kuantan\n",
      "Checking CZ for  Vladivostok\n",
      "Checking CZ for  Las Piñas City\n",
      "Checking CZ for  Cuttack\n",
      "Checking CZ for  San Miguel de Tucumán\n",
      "Checking CZ for  Ar Rayyān\n",
      "Checking CZ for  Grand Rapids\n",
      "Checking CZ for  Malanje\n",
      "Checking CZ for  Albany\n",
      "Checking CZ for  Uberlândia\n",
      "Checking CZ for  Djibouti\n",
      "Checking CZ for  Zhuozhou\n",
      "Checking CZ for  Tianchang\n",
      "Checking CZ for  Bacolod\n",
      "Checking CZ for  Raurkela\n",
      "Checking CZ for  Haifa\n",
      "Checking CZ for  Garoua\n",
      "Checking CZ for  Ḩafr al Bāţin\n",
      "Checking CZ for  Tumkūr\n",
      "Checking CZ for  Tuxtla\n",
      "Checking CZ for  Balikpapan\n",
      "Checking CZ for  Durban\n",
      "Checking CZ for  Al Ḩillah\n",
      "Checking CZ for  Kagoshima\n",
      "Checking CZ for  Brampton\n",
      "Checking CZ for  Sihui\n",
      "Checking CZ for  Kawaguchi\n",
      "Checking CZ for  Makhachkala\n",
      "Checking CZ for  Irapuato\n",
      "Checking CZ for  Luocheng\n",
      "Checking CZ for  Bakersfield\n",
      "Checking CZ for  Pereira\n",
      "Checking CZ for  Gaza\n",
      "Checking CZ for  Uvira\n",
      "Checking CZ for  Chuxiong\n",
      "Checking CZ for  Mission Viejo\n",
      "Checking CZ for  Zāhedān\n",
      "Checking CZ for  Dortmund\n",
      "Checking CZ for  New Haven\n",
      "Checking CZ for  Cimahi\n",
      "Checking CZ for  Mbale\n",
      "Checking CZ for  Wenlan\n",
      "Checking CZ for  Shangzhi\n",
      "Checking CZ for  Cuiabá\n",
      "Checking CZ for  Shah Alam\n",
      "Checking CZ for  Botou\n",
      "Checking CZ for  Suginami-ku\n",
      "Checking CZ for  Essen\n",
      "Checking CZ for  Durgāpur\n",
      "Checking CZ for  Itabashi\n",
      "Checking CZ for  Genoa\n",
      "Checking CZ for  Al Mafraq\n",
      "Checking CZ for  Kingston\n",
      "Checking CZ for  Aţ Ţā’if\n",
      "Checking CZ for  Port Sudan\n",
      "Checking CZ for  Wancheng\n",
      "Checking CZ for  Dehra Dūn\n",
      "Checking CZ for  Xiulin\n",
      "Checking CZ for  Fu’an\n",
      "Checking CZ for  Mymensingh\n",
      "Checking CZ for  Hachiōji\n",
      "Checking CZ for  Puente Alto\n",
      "Checking CZ for  Worcester\n",
      "Checking CZ for  Anyang\n",
      "Checking CZ for  Juiz de Fora\n",
      "Checking CZ for  Kolwezi\n",
      "Checking CZ for  Tomsk\n",
      "Checking CZ for  Rabat\n",
      "Checking CZ for  Luofeng\n",
      "Checking CZ for  Lingyuan\n",
      "Checking CZ for  Tonalá\n",
      "Checking CZ for  Irbid\n",
      "Checking CZ for  Wencheng\n",
      "Checking CZ for  Macau\n",
      "Checking CZ for  Ciudad Bolívar\n",
      "Checking CZ for  San Salvador\n",
      "Checking CZ for  Chāpra\n",
      "Checking CZ for  Bristol\n",
      "Checking CZ for  Bremen\n",
      "Checking CZ for  Shenzhou\n",
      "Checking CZ for  Orenburg\n",
      "Checking CZ for  Kuiju\n",
      "Checking CZ for  Zhenzhou\n",
      "Checking CZ for  Āsansol\n",
      "Checking CZ for  Dresden\n",
      "Checking CZ for  Benguela\n",
      "ERROR Benguela\n",
      "Checking CZ for  Kolhāpur\n",
      "Checking CZ for  Lanxi\n",
      "Checking CZ for  Dangyang\n",
      "Checking CZ for  Kemerovo\n",
      "Checking CZ for  Farīdpur\n",
      "Checking CZ for  Ensenada\n",
      "Checking CZ for  Herāt\n",
      "Checking CZ for  Hamadān\n",
      "Checking CZ for  Luanzhou\n",
      "Checking CZ for  Chiclayo\n",
      "Checking CZ for  Surakarta\n",
      "Checking CZ for  Novokuznetsk\n",
      "Checking CZ for  Provo\n",
      "Checking CZ for  Ajmer\n",
      "Checking CZ for  Kimhae\n",
      "Checking CZ for  Nānded\n",
      "Checking CZ for  Palma\n",
      "Checking CZ for  Rustenburg\n",
      "Checking CZ for  Amrāvati\n",
      "Checking CZ for  Huanghua\n",
      "Checking CZ for  Al Ḩudaydah\n",
      "Checking CZ for  The Hague\n",
      "Checking CZ for  Londrina\n",
      "Checking CZ for  Tabūk\n",
      "Checking CZ for  Nellore\n",
      "ERROR Nellore\n",
      "Checking CZ for  Poznań\n",
      "Checking CZ for  Akron\n",
      "Checking CZ for  Samarkand\n",
      "ERROR Samarkand\n",
      "Checking CZ for  Xingcheng\n",
      "ERROR Xingcheng\n",
      "Checking CZ for  Kaiyuan\n",
      "ERROR Kaiyuan\n",
      "Checking CZ for  Valledupar\n",
      "Checking CZ for  Fengcheng\n",
      "ERROR Fengcheng\n",
      "Checking CZ for  Muntinlupa City\n",
      "ERROR Muntinlupa City\n",
      "Checking CZ for  Hannover\n",
      "ERROR Hannover\n",
      "Checking CZ for  Ghulja\n",
      "ERROR Ghulja\n",
      "Checking CZ for  Ixtapaluca\n",
      "Checking CZ for  Fuding\n",
      "ERROR Fuding\n",
      "Checking CZ for  Heroica Matamoros\n",
      "ERROR Heroica Matamoros\n",
      "Checking CZ for  An Nāşirīyah\n",
      "ERROR An Nāşirīyah\n",
      "Checking CZ for  Xiangyang\n",
      "ERROR Xiangyang\n",
      "Checking CZ for  Ibagué\n",
      "ERROR Ibagué\n",
      "Checking CZ for  Al Ḩillah\n",
      "ERROR Al Ḩillah\n",
      "Checking CZ for  Ananindeua\n",
      "ERROR Ananindeua\n",
      "Checking CZ for  City of Calamba\n",
      "ERROR City of Calamba\n",
      "Checking CZ for  Ryazan\n",
      "Checking CZ for  Chang’an\n",
      "ERROR Chang’an\n",
      "Checking CZ for  Kassala\n",
      "ERROR Kassala\n",
      "Checking CZ for  Aksu\n",
      "Checking CZ for  Salta\n",
      "Checking CZ for  Al Maḩallah al Kubrá\n",
      "ERROR Al Maḩallah al Kubrá\n",
      "Checking CZ for  Cadaado\n",
      "Checking CZ for  Naberezhnyye Chelny\n",
      "Checking CZ for  Gulbarga\n",
      "Checking CZ for  Wuhai\n",
      "Checking CZ for  Nansana\n",
      "Checking CZ for  Mingguang\n",
      "Checking CZ for  Astrakhan\n",
      "Checking CZ for  Tripoli\n",
      "Checking CZ for  Yazd\n",
      "Checking CZ for  Ardabīl\n",
      "Checking CZ for  Antwerp\n",
      "Checking CZ for  Touba\n",
      "Checking CZ for  Bīkaner\n",
      "Checking CZ for  Ndola\n",
      "Checking CZ for  Palm Bay\n",
      "Checking CZ for  Himeji\n",
      "Checking CZ for  Ailan Mubage\n",
      "Checking CZ for  Bandar ‘Abbās\n",
      "Checking CZ for  Juba\n",
      "Checking CZ for  Santa Teresa del Tuy\n",
      "Checking CZ for  Port Said\n",
      "Checking CZ for  Asunción\n",
      "Checking CZ for  Al Qaţīf\n",
      "Checking CZ for  Penza\n",
      "Checking CZ for  Ciudad Apodaca\n",
      "Checking CZ for  Kōtō-ku\n",
      "Checking CZ for  Lyon\n",
      "ERROR Lyon\n",
      "Checking CZ for  Yucheng\n",
      "Checking CZ for  Agartala\n",
      "Checking CZ for  Soacha\n",
      "Checking CZ for  Sevastopol\n",
      "Checking CZ for  Maipú\n",
      "Checking CZ for  Arāk\n",
      "Checking CZ for  Tultitlán de Mariano Escobedo\n",
      "Checking CZ for  Meknès\n",
      "Checking CZ for  Pohang\n",
      "Checking CZ for  Longzhou\n",
      "Checking CZ for  Bắc Ninh\n",
      "Checking CZ for  Anda\n",
      "Checking CZ for  Jinghong\n",
      "Checking CZ for  Maseru\n",
      "Checking CZ for  Utsunomiya\n",
      "Checking CZ for  Sheffield\n",
      "Checking CZ for  Surrey\n",
      "Checking CZ for  Mixco\n",
      "Checking CZ for  Suez\n",
      "Checking CZ for  Heshan\n",
      "Checking CZ for  Loni\n",
      "Checking CZ for  Jiaji\n",
      "Checking CZ for  Santa Marta\n",
      "Checking CZ for  Nuremberg\n",
      "Checking CZ for  Joinvile\n",
      "Checking CZ for  Ujjain\n",
      "Checking CZ for  Beining\n",
      "Checking CZ for  Des Moines\n",
      "Checking CZ for  Maturín\n",
      "Checking CZ for  Yanji\n",
      "Checking CZ for  Macapá\n",
      "Checking CZ for  Yicheng\n",
      "Checking CZ for  Al ‘Āshir min Ramaḑān\n",
      "Checking CZ for  Al ‘Amārah\n",
      "Checking CZ for  Carrefour\n",
      "Checking CZ for  Lipetsk\n",
      "Checking CZ for  Homyel’\n",
      "Checking CZ for  Encheng\n",
      "Checking CZ for  Murrieta\n",
      "Checking CZ for  Bhīlwāra\n",
      "Checking CZ for  Leicester\n",
      "Checking CZ for  Hải Dương\n",
      "Checking CZ for  Aden\n",
      "Checking CZ for  Jhānsi\n",
      "Checking CZ for  Matsuyama\n",
      "Checking CZ for  Ulhāsnagar\n",
      "Checking CZ for  Montería\n",
      "Checking CZ for  Nagqu\n",
      "Checking CZ for  Kitwe\n",
      "Checking CZ for  Pingtung\n",
      "Checking CZ for  Jammu\n",
      "Checking CZ for  Ile-Ife\n",
      "Checking CZ for  Kirov\n",
      "Checking CZ for  Kimberley\n",
      "Checking CZ for  Meicheng\n",
      "Checking CZ for  Belas\n",
      "Checking CZ for  Farāh\n",
      "Checking CZ for  Talatona\n",
      "Checking CZ for  Sukkur\n",
      "Checking CZ for  Hsinchu\n",
      "Checking CZ for  Taozhou\n",
      "Checking CZ for  Marka\n",
      "ERROR Marka\n",
      "Checking CZ for  Mykolaiv\n",
      "Checking CZ for  Hongjiang\n",
      "Checking CZ for  Chimbote\n",
      "Checking CZ for  Tinnevelly\n",
      "Checking CZ for  Qaraghandy\n",
      "Checking CZ for  Mesa\n",
      "Checking CZ for  Lapu-Lapu City\n",
      "Checking CZ for  Matsudo\n",
      "Checking CZ for  Johor Bahru\n",
      "Checking CZ for  Purnea\n",
      "Checking CZ for  Imus\n",
      "Checking CZ for  Niterói\n",
      "Checking CZ for  Ichikawa\n",
      "Checking CZ for  Beipiao\n",
      "Checking CZ for  Dengtacun\n",
      "Checking CZ for  Zhijiang\n",
      "Checking CZ for  Suoluntun\n",
      "Checking CZ for  Duisburg\n",
      "Checking CZ for  Staten Island\n",
      "Checking CZ for  Chengjiao\n",
      "Checking CZ for  Lembok\n",
      "Checking CZ for  Bello\n",
      "Checking CZ for  Likasi\n",
      "Checking CZ for  Celaya\n",
      "Checking CZ for  Oujda-Angad\n",
      "Checking CZ for  Duyun\n",
      "Checking CZ for  Toulouse\n",
      "ERROR Toulouse\n",
      "Checking CZ for  Nyala\n",
      "Checking CZ for  Bissau\n",
      "ERROR Bissau\n",
      "Checking CZ for  Wichita\n",
      "Checking CZ for  Kota Bharu\n",
      "Checking CZ for  Yuanping\n",
      "Checking CZ for  Toledo\n",
      "Checking CZ for  Higashi-ōsaka\n",
      "Checking CZ for  Larkana\n",
      "Checking CZ for  ‘Ajmān\n",
      "Checking CZ for  Los Mochis\n",
      "Checking CZ for  Vinh\n",
      "Checking CZ for  Ciudad López Mateos\n",
      "Checking CZ for  Cheboksary\n",
      "Checking CZ for  Yueqing\n",
      "Checking CZ for  Belgaum\n",
      "Checking CZ for  Edinburgh\n",
      "Checking CZ for  Nishinomiya-hama\n",
      "Checking CZ for  Shahe\n",
      "Checking CZ for  Gdańsk\n",
      "Checking CZ for  Brookhaven\n",
      "Checking CZ for  Serra\n",
      "Checking CZ for  Tula\n",
      "Checking CZ for  Gaoping\n",
      "Checking CZ for  Dunhua\n",
      "Checking CZ for  Kaihua\n",
      "Checking CZ for  Az Zarqā’\n",
      "Checking CZ for  Valletta\n",
      "Checking CZ for  Fuyuan\n",
      "Checking CZ for  Jāmnagar\n",
      "Checking CZ for  Sylhet\n",
      "Checking CZ for  Caerdydd\n",
      "Checking CZ for  Berbera\n",
      "Checking CZ for  Jiannan\n",
      "Checking CZ for  Florianópolis\n",
      "Checking CZ for  Chiniot\n",
      "Checking CZ for  Ōita\n",
      "Checking CZ for  Nangong\n",
      "Checking CZ for  Bratislava\n",
      "Checking CZ for  Kaliningrad\n",
      "Checking CZ for  Kurashiki\n",
      "Checking CZ for  Worthing\n",
      "Checking CZ for  Gaya\n",
      "Checking CZ for  Barura\n",
      "Checking CZ for  Shekhupura\n",
      "Checking CZ for  Piura\n",
      "Checking CZ for  Vila Velha\n",
      "Checking CZ for  Harrisburg\n",
      "Checking CZ for  Jiaojiangcun\n",
      "Checking CZ for  Laohekou\n",
      "Checking CZ for  San Juan\n",
      "Checking CZ for  Kitchener\n",
      "Checking CZ for  Beian\n",
      "Checking CZ for  Fujin\n",
      "Checking CZ for  Mazār-e Sharīf\n",
      "Checking CZ for  São José do Rio Prêto\n",
      "Checking CZ for  Port St. Lucie\n",
      "Checking CZ for  Xiaoyi\n",
      "Checking CZ for  Balashikha\n",
      "Checking CZ for  Qingzhen\n",
      "Checking CZ for  Ba‘qūbah\n",
      "Checking CZ for  Katlehong\n",
      "Checking CZ for  Jiangshan\n",
      "Checking CZ for  Buraydah\n",
      "Checking CZ for  Mbeya\n",
      "Checking CZ for  Long Beach\n",
      "Checking CZ for  Ambattūr\n",
      "Checking CZ for  Tân Uyên\n",
      "Checking CZ for  Longjiang\n",
      "Checking CZ for  Campos\n",
      "Checking CZ for  Reno\n",
      "Checking CZ for  Angeles City\n",
      "Checking CZ for  Kuqa\n",
      "Checking CZ for  Kanazawa\n",
      "Checking CZ for  Calabar\n",
      "Checking CZ for  Madison\n",
      "Checking CZ for  Manado\n",
      "Checking CZ for  Kartal\n",
      "Checking CZ for  Cranbourne\n",
      "Checking CZ for  Jalgaon\n",
      "Checking CZ for  Agege\n",
      "Checking CZ for  Xicheng\n",
      "Checking CZ for  Fukuyama\n",
      "Checking CZ for  Lanús\n",
      "Checking CZ for  Kikwit\n",
      "Checking CZ for  Pyeongtaek\n",
      "Checking CZ for  Kurnool\n",
      "Checking CZ for  Iloilo\n",
      "Checking CZ for  Little Rock\n",
      "Checking CZ for  Marikina City\n",
      "Checking CZ for  Jian’ou\n",
      "Checking CZ for  Huadian\n",
      "Checking CZ for  Melaka\n",
      "ERROR Melaka\n",
      "Checking CZ for  Katsushika-ku\n",
      "Checking CZ for  Mauá\n",
      "Checking CZ for  Minzhu\n",
      "Checking CZ for  Kota Kinabalu\n",
      "Checking CZ for  Udaipur\n",
      "Checking CZ for  Kursk\n",
      "Checking CZ for  Mogi das Cruzes\n",
      "Checking CZ for  Stavropol\n",
      "Checking CZ for  General Trias\n",
      "Checking CZ for  Amagasaki\n",
      "Checking CZ for  Greenville\n",
      "Checking CZ for  Mariupol\n",
      "Checking CZ for  Piraeus\n",
      "Checking CZ for  Constantine\n",
      "Checking CZ for  Eslāmshahr\n",
      "Checking CZ for  Barcelona\n",
      "Checking CZ for  Tanbei\n",
      "Checking CZ for  Batman\n",
      "Checking CZ for  Ado-Ekiti\n",
      "Checking CZ for  Baisha\n",
      "Checking CZ for  Denton\n",
      "Checking CZ for  Yongji\n",
      "Checking CZ for  Esenler\n",
      "Checking CZ for  Rodriguez\n",
      "Checking CZ for  Danjiangkou\n",
      "Checking CZ for  Chauddagram\n",
      "Checking CZ for  Kahramanmaraş\n",
      "Checking CZ for  Taoyuan District\n",
      "Checking CZ for  San Nicolás de los Garza\n",
      "Checking CZ for  Mathura\n",
      "Checking CZ for  Andijon\n",
      "Checking CZ for  Pasay City\n",
      "Checking CZ for  Spokane\n",
      "Checking CZ for  Ning’an\n",
      "Checking CZ for  Ulan-Ude\n",
      "Checking CZ for  Tallinn\n",
      "Checking CZ for  Jinchang\n",
      "Checking CZ for  Guangming\n",
      "Checking CZ for  Oakland\n",
      "Checking CZ for  Kâğıthane\n",
      "Checking CZ for  Sunch’ŏn\n",
      "Checking CZ for  Fujisawa\n",
      "Checking CZ for  Sāngli\n",
      "Checking CZ for  Zürich\n",
      "Checking CZ for  Beira\n",
      "Checking CZ for  Manama\n",
      "Checking CZ for  Avcılar\n",
      "Checking CZ for  Caxias do Sul\n",
      "Checking CZ for  Jeju\n",
      "Checking CZ for  Davangere\n",
      "Checking CZ for  Machida\n",
      "Checking CZ for  Manizales\n",
      "Checking CZ for  Kupang\n",
      "Checking CZ for  Kashiwa\n",
      "Checking CZ for  Cape Town\n",
      "Checking CZ for  Zanjān\n",
      "Checking CZ for  Bandung\n",
      "Checking CZ for  Welkom\n",
      "Checking CZ for  Calicut\n",
      "ERROR Calicut\n",
      "Checking CZ for  Kenitra\n",
      "Checking CZ for  Lancaster\n",
      "Checking CZ for  Huili Chengguanzhen\n",
      "Checking CZ for  Sidi Bouzid\n",
      "Checking CZ for  Uyo\n",
      "Checking CZ for  Masan\n",
      "Checking CZ for  Ţanţā\n",
      "Checking CZ for  Porto Velho\n",
      "Checking CZ for  Cusco\n",
      "Checking CZ for  Veracruz\n",
      "Checking CZ for  Sokoto\n",
      "Checking CZ for  Trabzon\n",
      "Checking CZ for  Diadema\n",
      "Checking CZ for  Xunyang\n",
      "Checking CZ for  Malatya\n",
      "Checking CZ for  Yan’an Beilu\n",
      "Checking CZ for  Florencio Varela\n",
      "Checking CZ for  Aomori\n",
      "Checking CZ for  Akola\n",
      "Checking CZ for  Mandaluyong City\n",
      "Checking CZ for  Owo\n",
      "Checking CZ for  Aves\n",
      "Checking CZ for  Sihŭng\n",
      "Checking CZ for  Tver\n",
      "Checking CZ for  Xalapa\n",
      "Checking CZ for  Buenaventura\n",
      "Checking CZ for  Poughkeepsie\n",
      "Checking CZ for  Laval\n",
      "Checking CZ for  Yogyakarta\n",
      "Checking CZ for  Boise\n",
      "Checking CZ for  Toyota\n",
      "Checking CZ for  Daloa\n",
      "Checking CZ for  Agadir\n",
      "Checking CZ for  Elazığ\n",
      "Checking CZ for  Uijeongbu\n",
      "Checking CZ for  Hpa-An\n",
      "Checking CZ for  Rahimyar Khan\n",
      "Checking CZ for  Winston-Salem\n",
      "Checking CZ for  Ugep\n",
      "Checking CZ for  Hailin\n",
      "Checking CZ for  Mishan\n",
      "Checking CZ for  Sarajevo\n",
      "Checking CZ for  Boa Vista\n",
      "Checking CZ for  Seremban\n",
      "Checking CZ for  Zhengjiatun\n",
      "Checking CZ for  Lecheng\n",
      "Checking CZ for  Pencheng\n",
      "Checking CZ for  Syracuse\n",
      "Checking CZ for  Kowloon City\n",
      "Checking CZ for  Wellington\n",
      "Checking CZ for  Tirana\n",
      "Checking CZ for  Kushtia\n",
      "Checking CZ for  El Obeid\n",
      "Checking CZ for  Magnitogorsk\n",
      "Checking CZ for  Da’an\n",
      "Checking CZ for  Luhansk\n",
      "Checking CZ for  Xingren\n",
      "Checking CZ for  Takamatsu\n",
      "ERROR Takamatsu\n",
      "Checking CZ for  Thủ Dầu Một\n",
      "Checking CZ for  Arusha\n",
      "Checking CZ for  Fenyang\n",
      "Checking CZ for  Ajdābiyā\n",
      "Checking CZ for  Shinagawa-ku\n",
      "Checking CZ for  Paju\n",
      "Checking CZ for  Santa Rosa\n",
      "Checking CZ for  Bettiah\n",
      "Checking CZ for  Jhang City\n",
      "Checking CZ for  Tepic\n",
      "Checking CZ for  Rio Branco\n",
      "Checking CZ for  Banjul\n",
      "Checking CZ for  Jayapura\n",
      "Checking CZ for  Toyama\n",
      "Checking CZ for  Sanandaj\n",
      "Checking CZ for  Fangting\n",
      "Checking CZ for  Linghai\n",
      "Checking CZ for  Shorāpur\n",
      "Checking CZ for  Koumassi\n",
      "Checking CZ for  Sochi\n",
      "Checking CZ for  Bellary\n",
      "Checking CZ for  Bhāgalpur\n",
      "Checking CZ for  Kisumu\n",
      "Checking CZ for  Zhangjiakou Shi Xuanhua Qu\n",
      "Checking CZ for  Augusta\n",
      "Checking CZ for  Türkmenabat\n",
      "Checking CZ for  Mataram\n",
      "Checking CZ for  Zaria\n",
      "Checking CZ for  Kumi\n",
      "Checking CZ for  Wanyuan\n",
      "Checking CZ for  Biñan\n",
      "Checking CZ for  Maracay\n",
      "Checking CZ for  Yüreğir\n",
      "Checking CZ for  Ivanovo\n",
      "Checking CZ for  Stockton\n",
      "Checking CZ for  Bryansk\n",
      "Checking CZ for  Jiexiu\n",
      "Checking CZ for  Padiāla\n",
      "Checking CZ for  Sham Shui Po\n",
      "Checking CZ for  Santa Fe\n",
      "Checking CZ for  Delhi Cantonment\n",
      "Checking CZ for  Campina Grande\n",
      "Checking CZ for  Nagasaki\n",
      "Checking CZ for  Palm Coast\n",
      "Checking CZ for  Szczecin\n",
      "Checking CZ for  Somolu\n",
      "Checking CZ for  Salt Lake City\n",
      "Checking CZ for  Chattanooga\n",
      "Checking CZ for  Carapicuíba\n",
      "Checking CZ for  Halifax\n",
      "Checking CZ for  Maringá\n",
      "Checking CZ for  Qazvīn\n",
      "Checking CZ for  Jundiaí\n",
      "Checking CZ for  Toyonaka\n",
      "Checking CZ for  Bogra\n",
      "Checking CZ for  Gifu\n",
      "Checking CZ for  Jiangjiafan\n",
      "Checking CZ for  Maungdaw\n",
      "Checking CZ for  Kissimmee\n",
      "Checking CZ for  Durham\n",
      "Checking CZ for  Dera Ghazi Khan\n",
      "Checking CZ for  Miyazaki\n",
      "Checking CZ for  Quilon\n",
      "Checking CZ for  Hirakata\n",
      "Checking CZ for  Sandakan\n",
      "ERROR Sandakan\n",
      "Checking CZ for  Surgut\n",
      "Checking CZ for  Hejin\n",
      "Checking CZ for  Betsiboka\n",
      "Checking CZ for  Thiès\n",
      "Checking CZ for  Hazāribāgh\n",
      "Checking CZ for  Al Jahrā’\n",
      "Checking CZ for  Thanh Hóa\n",
      "Checking CZ for  Olinda\n",
      "Checking CZ for  Lobito\n",
      "Checking CZ for  Saurimo\n",
      "Checking CZ for  Al Jubayl\n",
      "Checking CZ for  Pasto\n",
      "Checking CZ for  Yola\n",
      "Checking CZ for  Bologna\n",
      "Checking CZ for  Arlington\n",
      "Checking CZ for  Tāngāil\n",
      "Checking CZ for  Nha Trang\n",
      "Checking CZ for  Khayelitsha\n",
      "Checking CZ for  Belgorod\n",
      "Checking CZ for  Ad Dīwānīyah\n",
      "Checking CZ for  Piracicaba\n",
      "Checking CZ for  Nnewi\n",
      "Checking CZ for  Hancheng\n",
      "Checking CZ for  Karamay\n",
      "Checking CZ for  San-Pédro\n",
      "Checking CZ for  Gujrat\n",
      "Checking CZ for  Yokosuka\n",
      "Checking CZ for  Tieli\n",
      "Checking CZ for  Asyūţ\n",
      "Checking CZ for  Victorville\n",
      "Checking CZ for  Gwoza\n",
      "Checking CZ for  Saki\n",
      "Checking CZ for  Aqtöbe\n",
      "Checking CZ for  Cilegon\n",
      "Checking CZ for  Oyo\n",
      "Checking CZ for  Taytay\n",
      "Checking CZ for  Bhātpāra\n",
      "Checking CZ for  Kūkatpalli\n",
      "Checking CZ for  Bibā\n",
      "Checking CZ for  Sirūr\n",
      "Checking CZ for  Tarlac City\n",
      "Checking CZ for  Okazaki\n",
      "Checking CZ for  Ḩā’il\n",
      "Checking CZ for  Garoowe\n",
      "Checking CZ for  Minamisuita\n",
      "Checking CZ for  Lianzhou\n",
      "Checking CZ for  Ceel Baraf\n",
      "Checking CZ for  Yidu\n",
      "Checking CZ for  Ilesa\n",
      "Checking CZ for  Kākināda\n",
      "Checking CZ for  Nuevo Laredo\n",
      "Checking CZ for  Olomouc\n",
      "Checking CZ for  London\n",
      "Checking CZ for  Plovdiv\n",
      "Checking CZ for  Aurora\n",
      "Checking CZ for  Bawshar\n",
      "Checking CZ for  Christchurch\n",
      "Checking CZ for  Gusau\n",
      "Checking CZ for  Modesto\n",
      "Checking CZ for  Zêtang\n",
      "Checking CZ for  Sardārshahr\n",
      "Checking CZ for  Brno\n",
      "Checking CZ for  Lancaster\n",
      "Checking CZ for  Taunggyi\n",
      "Checking CZ for  Fayetteville\n",
      "Checking CZ for  Canberra\n",
      "Checking CZ for  Kaunas\n",
      "Checking CZ for  Florence\n",
      "Checking CZ for  Tétouan\n",
      "Checking CZ for  Malabon\n",
      "Checking CZ for  Darbhanga\n",
      "Checking CZ for  Novi Sad\n",
      "Checking CZ for  Las Palmas\n",
      "Checking CZ for  Ichinomiya\n",
      "Checking CZ for  Usulután\n",
      "Checking CZ for  Huancayo\n",
      "Checking CZ for  Betim\n",
      "Checking CZ for  Sintra\n",
      "Checking CZ for  Hatay\n",
      "Checking CZ for  Iquitos\n",
      "Checking CZ for  Sivas\n",
      "Checking CZ for  Pānihāti\n",
      "Checking CZ for  Scranton\n",
      "Checking CZ for  Cainta\n",
      "Checking CZ for  Helixi\n",
      "Checking CZ for  Al Kharj\n",
      "Checking CZ for  Mamou\n",
      "Checking CZ for  Manukau City\n",
      "Checking CZ for  Cantonment\n",
      "Checking CZ for  Cumaná\n",
      "Checking CZ for  Rohtak\n",
      "Checking CZ for  Māler Kotla\n",
      "Checking CZ for  Bhawana\n",
      "Checking CZ for  Khorramābād\n",
      "Checking CZ for  Lipa City\n",
      "Checking CZ for  Butuan\n",
      "Checking CZ for  Stoke-on-Trent\n",
      "Checking CZ for  Takasaki\n",
      "Checking CZ for  Ambon\n",
      "Checking CZ for  Vinnytsia\n",
      "Checking CZ for  Toyohashi\n",
      "Checking CZ for  Chitungwiza\n",
      "Checking CZ for  Gebze\n",
      "Checking CZ for  Anguo\n",
      "Checking CZ for  Lengshuijiang\n",
      "Checking CZ for  Panshi\n",
      "Checking CZ for  Madan\n",
      "Checking CZ for  Keelung\n",
      "Checking CZ for  Az Zubayr\n",
      "Checking CZ for  Bharatpur\n",
      "Checking CZ for  Petare\n",
      "Checking CZ for  Caucaia\n",
      "Checking CZ for  Nagano\n",
      "Checking CZ for  Huichang\n",
      "Checking CZ for  Bauru\n",
      "Checking CZ for  La Florida\n",
      "Checking CZ for  Nicolás Romero\n",
      "Checking CZ for  Anápolis\n",
      "Checking CZ for  Baguio City\n",
      "Checking CZ for  Oxnard\n",
      "Checking CZ for  Vitsyebsk\n",
      "Checking CZ for  Korba\n",
      "Checking CZ for  Qardho\n",
      "Checking CZ for  Tecámac\n",
      "Checking CZ for  Bochum\n",
      "Checking CZ for  Mandaue City\n",
      "Checking CZ for  Yanjiao\n",
      "Checking CZ for  Youngstown\n",
      "Checking CZ for  Cibinong\n",
      "Checking CZ for  Kocaeli\n",
      "Checking CZ for  Newcastle\n",
      "Checking CZ for  Wŏnsan\n",
      "Checking CZ for  Iligan\n",
      "Checking CZ for  Coventry\n",
      "Checking CZ for  Kayapınar\n",
      "Checking CZ for  Montes Claros\n",
      "Checking CZ for  Blumenau\n",
      "Checking CZ for  Indio\n",
      "Checking CZ for  Beirut\n",
      "Checking CZ for  Buurhakaba\n",
      "Checking CZ for  Pensacola\n",
      "Checking CZ for  Bengkulu\n",
      "Checking CZ for  Shuanghe\n",
      "Checking CZ for  Wudalianchi\n",
      "Checking CZ for  Pétion-Ville\n",
      "Checking CZ for  Utrecht\n",
      "Checking CZ for  Palu\n",
      "Checking CZ for  Sīkar\n",
      "Checking CZ for  Umuahia\n",
      "Checking CZ for  Mardan\n",
      "Checking CZ for  Franca\n",
      "Checking CZ for  Sungai Petani\n",
      "Checking CZ for  Ash Shuhadā’\n",
      "Checking CZ for  Karūr\n",
      "Checking CZ for  Sasarām\n",
      "Checking CZ for  Kismaayo\n",
      "Checking CZ for  Taraz\n",
      "Checking CZ for  Cubal\n",
      "Checking CZ for  Hrodna\n",
      "Checking CZ for  Luena\n",
      "Checking CZ for  Karnāl\n",
      "Checking CZ for  Mahilyow\n",
      "Checking CZ for  Yong’an\n",
      "Checking CZ for  Manisa\n",
      "Checking CZ for  Konak\n",
      "Checking CZ for  Vladimir\n",
      "Checking CZ for  Minatitlán\n",
      "Checking CZ for  Linxia Chengguanzhen\n",
      "Checking CZ for  Vitória\n",
      "Checking CZ for  Chānda\n",
      "Checking CZ for  Nizhniy Tagil\n",
      "Checking CZ for  Yamoussoukro\n",
      "Checking CZ for  São Vicente\n",
      "Checking CZ for  Cuito\n",
      "Checking CZ for  Orizaba\n",
      "Checking CZ for  Cabuyao\n",
      "Checking CZ for  Hongzhai\n",
      "Checking CZ for  Wuppertal\n",
      "Checking CZ for  Gedaref\n",
      "Checking CZ for  San Fernando\n",
      "Checking CZ for  Kawagoe\n",
      "Checking CZ for  Pavlodar\n",
      "Checking CZ for  Pokhara\n",
      "Checking CZ for  Villahermosa\n",
      "Checking CZ for  Van\n",
      "Checking CZ for  Wakayama\n",
      "Checking CZ for  Kita-ku\n",
      "Checking CZ for  Neiva\n",
      "Checking CZ for  Itaquaquecetuba\n",
      "Checking CZ for  Gimpo\n",
      "Checking CZ for  Corrientes\n",
      "Checking CZ for  Licheng\n",
      "Checking CZ for  Nara\n",
      "Checking CZ for  Yakeshi\n",
      "Checking CZ for  Nam Định\n",
      "Checking CZ for  Sinŭiju\n",
      "Checking CZ for  Oruro\n",
      "Checking CZ for  Malmö\n",
      "Checking CZ for  Cabimas\n",
      "Checking CZ for  Arkhangelsk\n",
      "Checking CZ for  Batangas\n",
      "Checking CZ for  Ibb\n",
      "Checking CZ for  Ahmadnagar\n",
      "Checking CZ for  Gorgān\n",
      "Checking CZ for  Sarai Alamgir\n",
      "Checking CZ for  Semey\n",
      "Checking CZ for  Holguín\n",
      "Checking CZ for  Yingmen\n",
      "Checking CZ for  Tungi\n",
      "Checking CZ for  Qo‘qon\n",
      "Checking CZ for  Dāsarhalli\n",
      "Checking CZ for  Shinjuku\n",
      "Checking CZ for  Palmira\n",
      "Checking CZ for  Cariacica\n",
      "Checking CZ for  Varna\n",
      "Checking CZ for  Antofagasta\n",
      "Checking CZ for  Anaheim\n",
      "Checking CZ for  Tapachula\n",
      "Checking CZ for  Bonita Springs\n",
      "Checking CZ for  Takatsuki\n",
      "Checking CZ for  António Enes\n",
      "Checking CZ for  Caruaru\n",
      "Checking CZ for  Chita\n",
      "Checking CZ for  Koshigaya\n",
      "Checking CZ for  Bydgoszcz\n",
      "Checking CZ for  Pamukkale\n",
      "Checking CZ for  Central Coast\n",
      "Checking CZ for  Öskemen\n",
      "Checking CZ for  Shāhjānpur\n",
      "Checking CZ for  Āvadi\n",
      "Checking CZ for  Tanch’ŏn\n",
      "Checking CZ for  Wad Medani\n",
      "Checking CZ for  Greensboro\n",
      "Checking CZ for  Kūstī\n",
      "Checking CZ for  Hosūr\n",
      "Checking CZ for  Cuddapah\n",
      "Checking CZ for  Vitória da Conquista\n",
      "Checking CZ for  Makiivka\n",
      "Checking CZ for  Nice\n",
      "Checking CZ for  Ōtsu\n",
      "Checking CZ for  Sarıyer\n",
      "Checking CZ for  Meram\n",
      "Checking CZ for  Gómez Palacio\n",
      "Checking CZ for  Yeosu\n",
      "Checking CZ for  Kaluga\n",
      "Checking CZ for  Rājahmundry\n",
      "Checking CZ for  Simferopol\n",
      "Checking CZ for  Vũng Tàu\n",
      "Checking CZ for  Alwar\n",
      "Checking CZ for  Lianran\n",
      "Checking CZ for  Tokorozawa\n",
      "Checking CZ for  Sumqayıt\n",
      "Checking CZ for  Nakano\n",
      "Checking CZ for  Brest\n",
      "Checking CZ for  Serekunda\n",
      "Checking CZ for  Buôn Ma Thuột\n",
      "Checking CZ for  Lublin\n",
      "Checking CZ for  Tarsus\n",
      "Checking CZ for  Islip\n",
      "Checking CZ for  Huntsville\n",
      "Checking CZ for  Cuernavaca\n",
      "Checking CZ for  East London\n",
      "Checking CZ for  Alicante\n",
      "Checking CZ for  Kaesŏng\n",
      "Checking CZ for  Jitpur\n",
      "Checking CZ for  Petrolina\n",
      "Checking CZ for  Tangdong\n",
      "Checking CZ for  Chinju\n",
      "Checking CZ for  Reading\n",
      "Checking CZ for  Randburg\n",
      "Checking CZ for  Matadi\n",
      "Checking CZ for  Iwaki\n",
      "Checking CZ for  Shah Latif Town\n",
      "Checking CZ for  Sambalpur\n",
      "Checking CZ for  Victoria\n",
      "Checking CZ for  Hirosaki\n",
      "Checking CZ for  Yingzhong\n",
      "Checking CZ for  Uruapan\n",
      "Checking CZ for  Tampere\n",
      "Checking CZ for  Bielefeld\n",
      "Checking CZ for  Belfast\n",
      "Checking CZ for  Uberaba\n",
      "Checking CZ for  Corpus Christi\n",
      "Checking CZ for  Muzaffarpur\n",
      "Checking CZ for  Beni\n",
      "Checking CZ for  Viña del Mar\n",
      "Checking CZ for  Hangu\n",
      "Checking CZ for  Asan\n",
      "Checking CZ for  Soledad de Graciano Sánchez\n",
      "Checking CZ for  Bonn\n",
      "Checking CZ for  Maebashi\n",
      "Checking CZ for  Balıkesir\n",
      "Checking CZ for  Blida\n",
      "Checking CZ for  Beylikdüzü\n",
      "Checking CZ for  Gəncə\n",
      "Checking CZ for  Asahikawa\n",
      "Checking CZ for  Ribeirão das Neves\n",
      "Checking CZ for  Kendari\n",
      "Checking CZ for  Wŏnju\n",
      "Checking CZ for  Lafia\n",
      "Checking CZ for  Dahūk\n",
      "Checking CZ for  Fort Wayne\n",
      "Checking CZ for  Kāmārhāti\n",
      "Checking CZ for  Thái Nguyên\n",
      "Checking CZ for  Bamiantong\n",
      "Checking CZ for  Nicosia\n",
      "Checking CZ for  Cuenca\n",
      "Checking CZ for  Smolensk\n",
      "Checking CZ for  Koriyama\n",
      "Checking CZ for  Guédiawaye\n",
      "Checking CZ for  Ciudad Obregón\n",
      "Checking CZ for  Markham\n",
      "Checking CZ for  Fayetteville\n",
      "Checking CZ for  Debrecen\n",
      "Checking CZ for  Pelotas\n",
      "Checking CZ for  Ann Arbor\n",
      "Checking CZ for  Sultanbeyli\n",
      "Checking CZ for  Bijāpur\n",
      "Checking CZ for  Cabanatuan City\n",
      "Checking CZ for  Tharād\n",
      "Checking CZ for  Salamanca\n",
      "Checking CZ for  Ratnāgiri\n",
      "Checking CZ for  Ulanhot\n",
      "Checking CZ for  Jackson\n",
      "Checking CZ for  Yunzhong\n",
      "Checking CZ for  Al Fallūjah\n",
      "Checking CZ for  Roodepoort\n",
      "Checking CZ for  Volzhskiy\n",
      "Checking CZ for  Pucallpa\n",
      "Checking CZ for  San Pedro\n",
      "Checking CZ for  Kōchi\n",
      "Checking CZ for  Rāmpur\n",
      "Checking CZ for  Kuching\n",
      "Checking CZ for  Cotabato\n",
      "Checking CZ for  Bielsko-Biała\n",
      "Checking CZ for  Cluj-Napoca\n",
      "Checking CZ for  Cimanggis\n",
      "Checking CZ for  Gonaïves\n",
      "Checking CZ for  Nazrēt\n",
      "Checking CZ for  Gonder\n",
      "Checking CZ for  Kikuyu\n",
      "Checking CZ for  Canoas\n",
      "Checking CZ for  Mekele\n",
      "Checking CZ for  Bari\n",
      "Checking CZ for  Binxian\n",
      "Checking CZ for  Antioch\n",
      "Checking CZ for  Kaiyuan\n",
      "Checking CZ for  Shimoga\n",
      "Checking CZ for  Uíge\n",
      "Checking CZ for  Windhoek\n",
      "Checking CZ for  Hotan\n",
      "Checking CZ for  Osh\n",
      "Checking CZ for  Minna\n",
      "Checking CZ for  Mobile\n",
      "Checking CZ for  Córdoba\n",
      "Checking CZ for  Camagüey\n",
      "Checking CZ for  Taourirt\n",
      "Checking CZ for  San Salvador de Jujuy\n",
      "Checking CZ for  Al Kūt\n",
      "Checking CZ for  Lexington\n",
      "Checking CZ for  Sukabumi\n",
      "Checking CZ for  Menongue\n",
      "Checking CZ for  Ciudad del Este\n",
      "Checking CZ for  Okene\n",
      "Checking CZ for  Jūnāgadh\n",
      "Checking CZ for  Guasave\n",
      "Checking CZ for  Maroua\n",
      "Checking CZ for  Asan\n",
      "Checking CZ for  Aksaray\n",
      "Checking CZ for  Nukus\n",
      "Checking CZ for  Kaech’ŏn\n",
      "Checking CZ for  Tehuacán\n",
      "Checking CZ for  Timişoara\n",
      "Checking CZ for  Coatzacoalcos\n",
      "Checking CZ for  Zalantun\n",
      "Checking CZ for  Cherepovets\n",
      "Checking CZ for  Saransk\n",
      "Checking CZ for  Nantes\n",
      "ERROR Nantes\n",
      "Checking CZ for  Katsina\n",
      "Checking CZ for  Puerto Plata\n",
      "ERROR Puerto Plata\n",
      "Checking CZ for  Gwangmyeongni\n",
      "Checking CZ for  Taubaté\n",
      "Checking CZ for  Poltava\n",
      "Checking CZ for  Münster\n",
      "Checking CZ for  An Nhơn\n",
      "Checking CZ for  Hāpur\n",
      "Checking CZ for  Boaco\n",
      "Checking CZ for  Asheville\n",
      "Checking CZ for  Trenton\n",
      "Checking CZ for  Cirebon\n",
      "Checking CZ for  Naha\n",
      "Checking CZ for  Al Fayyūm\n",
      "Checking CZ for  Xiaoli\n",
      "Checking CZ for  Trichūr\n",
      "Checking CZ for  Bor\n",
      "Checking CZ for  Cà Mau\n",
      "Checking CZ for  Saint-Denis\n",
      "Checking CZ for  San Miguelito\n",
      "Checking CZ for  Kasur\n",
      "Checking CZ for  Barddhamān\n",
      "Checking CZ for  Santa Rosa\n",
      "Checking CZ for  Kingston upon Hull\n",
      "Checking CZ for  Yakou\n",
      "Checking CZ for  Santa Ana\n",
      "Checking CZ for  Binangonan\n",
      "Checking CZ for  Temara\n",
      "Checking CZ for  Attiecoubé\n",
      "Checking CZ for  Vologda\n",
      "Checking CZ for  Lansing\n",
      "Checking CZ for  Zarzal\n",
      "Checking CZ for  Pasir Gudang\n",
      "Checking CZ for  Port Elizabeth\n",
      "Checking CZ for  La Victoria\n",
      "Checking CZ for  Alanya\n",
      "Checking CZ for  Tanza\n",
      "Checking CZ for  Mannheim\n",
      "Checking CZ for  Yakutsk\n",
      "Checking CZ for  Orël\n",
      "Checking CZ for  Ponta Grossa\n",
      "Checking CZ for  Catania\n",
      "Checking CZ for  Panvel\n",
      "Checking CZ for  Henderson\n",
      "Checking CZ for  Guarujá\n",
      "Checking CZ for  Nizāmābād\n",
      "Checking CZ for  Quy Nhơn\n",
      "Checking CZ for  Datang\n",
      "Checking CZ for  Longquan\n",
      "Checking CZ for  Mitchells Plain\n",
      "Checking CZ for  Gwangju\n",
      "Checking CZ for  Yokkaichi\n",
      "Checking CZ for  Chalco\n",
      "Checking CZ for  St. Paul\n",
      "Checking CZ for  Shahrīār\n",
      "Checking CZ for  Shahr-e Qods\n",
      "Checking CZ for  St. Catharines\n",
      "Checking CZ for  Kurgan\n",
      "Checking CZ for  Lakeland\n",
      "Checking CZ for  Niagara Falls\n",
      "Checking CZ for  Safi\n",
      "Checking CZ for  Karlsruhe\n",
      "Checking CZ for  Nakuru\n",
      "Checking CZ for  Karawang\n",
      "Checking CZ for  Sariwŏn\n",
      "Checking CZ for  Juliaca\n",
      "Checking CZ for  Nghi Sơn\n",
      "Checking CZ for  Parbhani\n",
      "Checking CZ for  Puerto Princesa\n",
      "Checking CZ for  Hisar\n",
      "Checking CZ for  Vladikavkaz\n",
      "Checking CZ for  Santarém\n",
      "Checking CZ for  Kasugai\n",
      "Checking CZ for  Ciudad Santa Catarina\n",
      "Checking CZ for  Puerto La Cruz\n",
      "Checking CZ for  Newark\n",
      "Checking CZ for  Vaughan\n",
      "Checking CZ for  Ciudad Victoria\n",
      "Checking CZ for  Playa del Carmen\n",
      "Checking CZ for  Yeşilyurt\n",
      "Checking CZ for  Adıyaman\n",
      "Checking CZ for  Akita\n",
      "Checking CZ for  Kurume\n",
      "Checking CZ for  Az Zaqāzīq\n",
      "Checking CZ for  Iksan\n",
      "Checking CZ for  Vila Nova de Gaia\n",
      "Checking CZ for  Awka\n",
      "Checking CZ for  Fort Collins\n",
      "Checking CZ for  Bahía Blanca\n",
      "Checking CZ for  San Bernardo\n",
      "Checking CZ for  San Juan del Río\n",
      "Checking CZ for  Armenia\n",
      "Checking CZ for  Qianzhou\n",
      "Checking CZ for  Limeira\n",
      "Checking CZ for  Popayán\n",
      "Checking CZ for  Oyster Bay\n",
      "Checking CZ for  Al Qunfudhah\n",
      "Checking CZ for  Paulista\n",
      "Checking CZ for  Newcastle\n",
      "Checking CZ for  Oulgaret\n",
      "Checking CZ for  Āwasa\n",
      "Checking CZ for  Māldah\n",
      "Checking CZ for  Oaxaca\n",
      "Checking CZ for  Mérida\n",
      "Checking CZ for  Porto-Novo\n",
      "Checking CZ for  Sucre\n",
      "Checking CZ for  Al ‘Ajamī\n",
      "Checking CZ for  Sóc Trăng\n",
      "Checking CZ for  Ash Shāmīyah\n",
      "Checking CZ for  Al Maţarīyah\n",
      "Checking CZ for  Coatepeque\n",
      "Checking CZ for  Bada Barabīl\n",
      "Checking CZ for  Curepipe\n",
      "Checking CZ for  Ar Raqqah\n",
      "Checking CZ for  Chakwal\n",
      "Checking CZ for  Ōakashichō\n",
      "Checking CZ for  Phan Thiết\n",
      "Checking CZ for  Afyonkarahisar\n",
      "Checking CZ for  Podolsk\n",
      "Checking CZ for  Ciudad General Escobedo\n",
      "Checking CZ for  Praia Grande\n",
      "Checking CZ for  Reading\n",
      "Checking CZ for  Springfield\n",
      "Checking CZ for  Jember\n",
      "Checking CZ for  Al Mubarraz\n",
      "Checking CZ for  Pekalongan\n",
      "Checking CZ for  Petrópolis\n",
      "Checking CZ for  Murmansk\n",
      "Checking CZ for  Toshima\n",
      "Checking CZ for  İskenderun\n",
      "Checking CZ for  Irvine\n",
      "Checking CZ for  Pachuca\n",
      "Checking CZ for  Valladolid\n",
      "Checking CZ for  Białystok\n",
      "Checking CZ for  Yangsan\n",
      "Checking CZ for  Tampico\n",
      "Checking CZ for  Bihār\n",
      "Checking CZ for  Espoo\n",
      "Checking CZ for  Valparaíso\n",
      "Checking CZ for  Augsburg\n",
      "Checking CZ for  Finglas\n",
      "Checking CZ for  Tagum\n",
      "Checking CZ for  Comilla\n",
      "Checking CZ for  Battalgazi\n",
      "Checking CZ for  Silang\n",
      "Checking CZ for  Montpellier\n",
      "Checking CZ for  Stockport\n",
      "Checking CZ for  Pondokaren\n",
      "Checking CZ for  Sikandarābād\n",
      "Checking CZ for  Çorum\n",
      "Checking CZ for  Chernihiv\n",
      "Checking CZ for  Vila Teixeira da Silva\n",
      "Checking CZ for  Pānīpat\n",
      "Checking CZ for  Rangpur\n",
      "Checking CZ for  Vigo\n",
      "Checking CZ for  Taboão da Serra\n",
      "Checking CZ for  Coacalco\n",
      "Checking CZ for  Āīzawl\n",
      "Checking CZ for  Bāli\n",
      "Checking CZ for  Bradford\n",
      "Checking CZ for  Mabalacat\n",
      "Checking CZ for  Dexing\n",
      "Checking CZ for  Ismailia\n",
      "Checking CZ for  Anchorage\n",
      "Checking CZ for  The Woodlands\n",
      "Checking CZ for  Resistencia\n",
      "Checking CZ for  Groznyy\n",
      "Checking CZ for  Kherson\n",
      "Checking CZ for  South Bend\n",
      "Checking CZ for  Braşov\n",
      "Checking CZ for  Atyraū\n",
      "Checking CZ for  Batna\n",
      "Checking CZ for  Strasbourg\n",
      "Checking CZ for  Morioka\n",
      "Checking CZ for  Iaşi\n",
      "Checking CZ for  Tambov\n",
      "Checking CZ for  Hulin\n",
      "Checking CZ for  Ipswich\n",
      "Checking CZ for  Hong’an\n",
      "Checking CZ for  Karīmnagar\n",
      "Checking CZ for  Santa Maria\n",
      "Checking CZ for  Rockford\n",
      "Checking CZ for  Savannah\n",
      "Checking CZ for  Dewās\n",
      "Checking CZ for  Graz\n",
      "Checking CZ for  Sonīpat\n",
      "Checking CZ for  Güngören\n",
      "Checking CZ for  Magway\n",
      "Checking CZ for  Lincoln\n",
      "Checking CZ for  Farg‘ona\n",
      "Checking CZ for  Sétif\n",
      "Checking CZ for  Sonpur\n",
      "Checking CZ for  San Lorenzo\n",
      "Checking CZ for  Ichalkaranji\n",
      "Checking CZ for  Punto Fijo\n",
      "Checking CZ for  Várzea Grande\n",
      "Checking CZ for  Jersey City\n",
      "Checking CZ for  Round Lake Beach\n",
      "Checking CZ for  Camaçari\n",
      "Checking CZ for  Meguro\n",
      "Checking CZ for  Ljubljana\n",
      "Checking CZ for  Sincelejo\n",
      "Checking CZ for  Flint\n",
      "Checking CZ for  Sekondi\n",
      "ERROR Sekondi\n",
      "Checking CZ for  Tacna\n",
      "Checking CZ for  Tin Shui Wai\n",
      "Checking CZ for  Cascavel\n",
      "Checking CZ for  Shreveport\n",
      "Checking CZ for  Al Qurnah\n",
      "Checking CZ for  Korhogo\n",
      "Checking CZ for  San Cristóbal\n",
      "Checking CZ for  Bhatinda\n",
      "Checking CZ for  Kunp’o\n",
      "Checking CZ for  Katowice\n",
      "Checking CZ for  Jālna\n",
      "Checking CZ for  Bolton\n",
      "Checking CZ for  San Pablo\n",
      "Checking CZ for  Suzano\n",
      "Checking CZ for  Aarhus\n",
      "Checking CZ for  Ostrava\n",
      "Checking CZ for  Huixquilucan\n",
      "Checking CZ for  Croix-des-Bouquets\n",
      "Checking CZ for  San Juan Sacatepéquez\n",
      "Checking CZ for  Myeik\n",
      "Checking CZ for  Fukushima\n",
      "Checking CZ for  Coro\n",
      "Checking CZ for  Bago\n",
      "Checking CZ for  Delmas\n",
      "Checking CZ for  Fuquan\n",
      "Checking CZ for  Constanţa\n",
      "Checking CZ for  Ibaraki\n",
      "Checking CZ for  Ihosy\n",
      "Checking CZ for  Sannai\n",
      "Checking CZ for  Huozhou\n",
      "Checking CZ for  Temuco\n",
      "Checking CZ for  Ica\n",
      "Checking CZ for  Tongchuanshi\n",
      "Checking CZ for  Plano\n",
      "Checking CZ for  Jining\n",
      "Checking CZ for  Chuncheon\n",
      "Checking CZ for  Myrtle Beach\n",
      "Checking CZ for  Governador Valadares\n",
      "Checking CZ for  Malārd\n",
      "Checking CZ for  Davenport\n",
      "Checking CZ for  Sterlitamak\n",
      "Checking CZ for  Satna\n",
      "Checking CZ for  Bukhara\n",
      "Checking CZ for  Santa Ana\n",
      "Checking CZ for  Ar Ruşayfah\n",
      "Checking CZ for  Sumbe\n",
      "Checking CZ for  Mingaora\n",
      "Checking CZ for  Companiganj\n",
      "Checking CZ for  Çorlu\n",
      "Checking CZ for  Wiesbaden\n",
      "Checking CZ for  Lucena\n",
      "Checking CZ for  Mamuju\n",
      "Checking CZ for  Mau\n",
      "Checking CZ for  Nizhnevartovsk\n",
      "Checking CZ for  Ciego de Ávila\n",
      "Checking CZ for  Long Xuyên\n",
      "Checking CZ for  Petrozavodsk\n",
      "Checking CZ for  Gyeongsan\n",
      "Checking CZ for  Bārāsat\n",
      "Checking CZ for  Pematangsiantar\n",
      "Checking CZ for  Shaowu\n",
      "Checking CZ for  Canton\n",
      "Checking CZ for  Maastricht\n",
      "Checking CZ for  Kostroma\n",
      "Checking CZ for  Việt Trì\n",
      "Checking CZ for  Sunderland\n",
      "Checking CZ for  Gagnoa\n",
      "Checking CZ for  Dire Dawa\n",
      "Checking CZ for  Lashkar Gāh\n",
      "Checking CZ for  Itagüí\n",
      "Checking CZ for  Cherkasy\n",
      "Checking CZ for  Gatineau\n",
      "Checking CZ for  Windsor\n",
      "Checking CZ for  Dinājpur\n",
      "Checking CZ for  Posadas\n",
      "Checking CZ for  Tegal\n",
      "Checking CZ for  Farrukhābād\n",
      "Checking CZ for  Santa Clarita\n",
      "Checking CZ for  Kunsan\n",
      "Checking CZ for  Qarshi\n",
      "Checking CZ for  Chula Vista\n",
      "Checking CZ for  Saugor\n",
      "Checking CZ for  Nassau\n",
      "Checking CZ for  Khmelnytskyi\n",
      "Checking CZ for  Volta Redonda\n",
      "Checking CZ for  Eugene\n",
      "Checking CZ for  Ratlām\n",
      "Checking CZ for  Crato\n",
      "Checking CZ for  Yeosu\n",
      "Checking CZ for  Pasarkemis\n",
      "Checking CZ for  San Mateo\n",
      "Checking CZ for  Novorossiysk\n",
      "Checking CZ for  Tsu\n",
      "Checking CZ for  Sfax\n",
      "Checking CZ for  Los Alcarrizos\n",
      "Checking CZ for  Soubré\n",
      "Checking CZ for  Palmas\n",
      "Checking CZ for  Székesfehérvár\n",
      "Checking CZ for  Chandler\n",
      "Checking CZ for  Majene\n",
      "Checking CZ for  Sorong\n",
      "Checking CZ for  Gabela\n",
      "Checking CZ for  Dayr az Zawr\n",
      "Checking CZ for  Sakarya\n",
      "Checking CZ for  Sartā\n",
      "Checking CZ for  Santo Domingo de los Colorados\n",
      "Checking CZ for  Sumida\n",
      "Checking CZ for  Mỹ Tho\n",
      "Checking CZ for  Nguru\n",
      "Checking CZ for  Arnavutköy\n",
      "Checking CZ for  Mito\n",
      "Checking CZ for  Gombe\n",
      "Checking CZ for  Bijiao\n",
      "Checking CZ for  Craiova\n",
      "Checking CZ for  Handwāra\n",
      "Checking CZ for  Binjai\n",
      "Checking CZ for  Gijón\n",
      "Checking CZ for  Kunduz\n",
      "Checking CZ for  Drug\n",
      "Checking CZ for  Salem\n",
      "Checking CZ for  Brāhmanbāria\n",
      "Checking CZ for  Thái Bình\n",
      "Checking CZ for  İnegöl\n",
      "Checking CZ for  Ichihara\n",
      "Checking CZ for  Tarija\n",
      "Checking CZ for  Plymouth\n",
      "Checking CZ for  Aswān\n",
      "Checking CZ for  Bimo\n",
      "Checking CZ for  Maradi\n",
      "Checking CZ for  Xiangkhoang\n",
      "Checking CZ for  Floridablanca\n",
      "Checking CZ for  Anantapur\n",
      "Checking CZ for  Bergen\n",
      "Checking CZ for  Marabá\n",
      "Checking CZ for  Kütahya\n",
      "Checking CZ for  Yoshkar-Ola\n",
      "Checking CZ for  Chernivtsi\n",
      "Checking CZ for  Sumaré\n",
      "Checking CZ for  Nagaoka\n",
      "Checking CZ for  Djelfa\n",
      "Checking CZ for  Sumy\n",
      "Checking CZ for  Suncheon\n",
      "Checking CZ for  Nalchik\n",
      "Checking CZ for  Gent\n",
      "Checking CZ for  Feni\n",
      "Checking CZ for  Engels\n",
      "Checking CZ for  Imphāl\n",
      "Checking CZ for  Yao\n",
      "Checking CZ for  Nogales\n",
      "Checking CZ for  Ed Daein\n",
      "Checking CZ for  Dezfūl\n",
      "Checking CZ for  Concord\n",
      "Checking CZ for  Zhytomyr\n",
      "Checking CZ for  Potosí\n",
      "Checking CZ for  Osmaniye\n",
      "Checking CZ for  São José dos Pinhais\n",
      "Checking CZ for  Kyŏngju\n",
      "Checking CZ for  Dumai\n",
      "Checking CZ for  Tāluqān\n",
      "Checking CZ for  Luque\n",
      "Checking CZ for  Jalālābād\n",
      "Checking CZ for  El Fasher\n",
      "Checking CZ for  Nawabshah\n",
      "Checking CZ for  Fuchū\n",
      "Checking CZ for  Talisay\n",
      "Checking CZ for  Tchibota\n",
      "ERROR Tchibota\n",
      "Checking CZ for  Kafr ad Dawwār\n",
      "Checking CZ for  Quilmes\n",
      "Checking CZ for  Barueri\n",
      "Checking CZ for  Gilbert\n",
      "Checking CZ for  Columbus\n",
      "Checking CZ for  Wollongong\n",
      "Checking CZ for  Fukui\n",
      "Checking CZ for  Arrah\n",
      "Checking CZ for  Venice\n",
      "Checking CZ for  Malolos\n",
      "Checking CZ for  Heroica Nogales\n",
      "Checking CZ for  Mönchengladbach\n",
      "ERROR Mönchengladbach\n",
      "Checking CZ for  Bordeaux\n",
      "ERROR Bordeaux\n",
      "Checking CZ for  Oumé\n",
      "ERROR Oumé\n",
      "Checking CZ for  Ciudad Benito Juárez\n",
      "Checking CZ for  Kakogawachō-honmachi\n",
      "Checking CZ for  Minato\n",
      "Checking CZ for  Aguadilla\n",
      "Checking CZ for  Boksburg\n",
      "Checking CZ for  Olongapo\n",
      "Checking CZ for  Quảng Ngãi\n",
      "Checking CZ for  Gelsenkirchen\n",
      "Checking CZ for  Al Ḩamzah\n",
      "Checking CZ for  Lubbock\n",
      "Checking CZ for  Mossoró\n",
      "Checking CZ for  North Las Vegas\n",
      "Checking CZ for  Kotri\n",
      "Checking CZ for  Mişrātah\n",
      "Checking CZ for  Singa\n",
      "Checking CZ for  Isparta\n",
      "Checking CZ for  Siverek\n",
      "Checking CZ for  St. Petersburg\n",
      "Checking CZ for  Ndulo\n",
      "Checking CZ for  Huayin\n",
      "Checking CZ for  Hiratsuka\n",
      "Checking CZ for  Tallahassee\n",
      "Checking CZ for  Rāniyah\n",
      "Checking CZ for  Annaba\n",
      "Checking CZ for  Verona\n",
      "Checking CZ for  Antsirabe\n",
      "Checking CZ for  Ondo\n",
      "Checking CZ for  Etāwah\n",
      "Checking CZ for  Siddhirganj\n",
      "Checking CZ for  Laredo\n",
      "Checking CZ for  Horlivka\n",
      "Checking CZ for  Indaiatuba\n",
      "Checking CZ for  Bloemfontein\n",
      "Checking CZ for  Foz do Iguaçu\n",
      "Checking CZ for  Ấp Đa Lợi\n",
      "Checking CZ for  Malkājgiri\n",
      "Checking CZ for  Damaturu\n",
      "Checking CZ for  Germiston\n",
      "Checking CZ for  Peoria\n",
      "Checking CZ for  Nonthaburi\n",
      "Checking CZ for  Gravataí\n",
      "Checking CZ for  Tuzla\n",
      "Checking CZ for  Derby\n",
      "Checking CZ for  Westminster\n",
      "Checking CZ for  Kuala Terengganu\n",
      "ERROR Kuala Terengganu\n",
      "Checking CZ for  San Pedro Carchá\n",
      "Checking CZ for  Moçâmedes\n",
      "Checking CZ for  Turmero\n",
      "Checking CZ for  Avondale\n",
      "Checking CZ for  Tokushima\n",
      "Checking CZ for  São Carlos\n",
      "Checking CZ for  Marilao\n",
      "Checking CZ for  Lafayette\n",
      "Checking CZ for  Irving\n",
      "Checking CZ for  Khimki\n",
      "Checking CZ for  Sab‘ al Būr\n",
      "Checking CZ for  Ash Shaţrah\n",
      "Checking CZ for  Fort-de-France\n",
      "ERROR Fort-de-France\n",
      "Checking CZ for  Mawlamyine\n",
      "ERROR Mawlamyine\n",
      "Checking CZ for  Montgomery\n",
      "Checking CZ for  Vitoria-Gasteiz\n",
      "Checking CZ for  Godomè\n",
      "Checking CZ for  Shinozaki\n",
      "Checking CZ for  El Geneina\n",
      "Checking CZ for  Gadda Madiral\n",
      "Checking CZ for  Kızıltepe\n",
      "Checking CZ for  Jhenida\n",
      "Checking CZ for  Turku\n",
      "Checking CZ for  Bharatpur\n",
      "Checking CZ for  Uşak\n",
      "Checking CZ for  Begusarai\n",
      "Checking CZ for  Kediri\n",
      "Checking CZ for  Kanggye\n",
      "Checking CZ for  Hakodate\n",
      "Checking CZ for  Chiayi\n",
      "Checking CZ for  Çekme\n",
      "Checking CZ for  Tacloban\n",
      "Checking CZ for  Jūnāgarh\n",
      "Checking CZ for  Sōka\n",
      "Checking CZ for  Higüey\n",
      "Checking CZ for  Los Teques\n",
      "Checking CZ for  Jinshi\n",
      "Checking CZ for  Wolverhampton\n",
      "Checking CZ for  Pointe-à-Pitre\n",
      "Checking CZ for  Bata\n",
      "Checking CZ for  Rạch Giá\n",
      "Checking CZ for  Iwo\n",
      "Checking CZ for  Taganrog\n",
      "Checking CZ for  Bābol\n",
      "Checking CZ for  São José\n",
      "Checking CZ for  La Paz\n",
      "Checking CZ for  Al Bayḑā’\n",
      "Checking CZ for  Yanbu\n",
      "Checking CZ for  Kalār\n",
      "Checking CZ for  Arua\n",
      "Checking CZ for  Kurmuk\n",
      "Checking CZ for  Natogyi\n",
      "Checking CZ for  New Delhi\n",
      "Checking CZ for  Juazeiro do Norte\n",
      "Checking CZ for  Las Condes\n",
      "Checking CZ for  Goma\n",
      "Checking CZ for  Rishon LeẔiyyon\n",
      "Checking CZ for  Komsomol’sk-na-Amure\n",
      "Checking CZ for  Visalia\n",
      "Checking CZ for  Campeche\n",
      "Checking CZ for  Manzhouli\n",
      "Checking CZ for  Tiruvottiyūr\n",
      "Checking CZ for  Palangkaraya\n",
      "Checking CZ for  Galaţi\n",
      "Checking CZ for  Rāmnagar\n",
      "Checking CZ for  Aachen\n",
      "Checking CZ for  Carmen\n",
      "Checking CZ for  McKinney\n",
      "Checking CZ for  Braunschweig\n",
      "Checking CZ for  Gāndhīdhām\n",
      "Checking CZ for  Banikoara\n",
      "Checking CZ for  Chemnitz\n",
      "Checking CZ for  Sibu\n",
      "Checking CZ for  Qā’em Shahr\n",
      "Checking CZ for  Paraná\n",
      "Checking CZ for  Büyükçekmece\n",
      "Checking CZ for  Sahiwal\n",
      "Checking CZ for  Gdynia\n",
      "Checking CZ for  Navotas\n",
      "Checking CZ for  Imperatriz\n",
      "Checking CZ for  Santa Clara\n",
      "Checking CZ for  Wilmington\n",
      "Checking CZ for  Yamagata\n",
      "Checking CZ for  Chesapeake\n",
      "Checking CZ for  Khomeynī Shahr\n",
      "Checking CZ for  Beykoz\n",
      "Checking CZ for  Tsukuba-kenkyūgakuen-toshi\n",
      "Checking CZ for  Kiel\n",
      "Checking CZ for  Rivne\n",
      "Checking CZ for  Oruro\n",
      "Checking CZ for  Saskatoon\n",
      "Checking CZ for  Győr\n",
      "Checking CZ for  Mahajanga\n",
      "Checking CZ for  Mount Lavinia\n",
      "Checking CZ for  Krishnarājpur\n",
      "Checking CZ for  Hafizabad\n",
      "Checking CZ for  Glendale\n",
      "Checking CZ for  Nelamangala\n",
      "Checking CZ for  Beichengqu\n",
      "Checking CZ for  Abertawe\n",
      "Checking CZ for  A Coruña\n",
      "ERROR A Coruña\n",
      "Checking CZ for  Syktyvkar\n",
      "Checking CZ for  Barnsley\n",
      "Checking CZ for  Garland\n",
      "Checking CZ for  Long Khánh\n",
      "Checking CZ for  Singrauliya\n",
      "Checking CZ for  Puducherry\n",
      "Checking CZ for  Americana\n",
      "Checking CZ for  Merlo\n",
      "Checking CZ for  Damanhūr\n",
      "Checking CZ for  Kabinda\n",
      "Checking CZ for  Jessore\n",
      "Checking CZ for  Kesbewa\n",
      "Checking CZ for  Fuji\n",
      "Checking CZ for  Sabzevār\n",
      "Checking CZ for  Santa Maria\n",
      "Checking CZ for  Tanga\n",
      "Checking CZ for  Bahir Dar\n",
      "Checking CZ for  Myitkyina\n",
      "Checking CZ for  Rāmgundam\n",
      "Checking CZ for  Tuy Hòa\n",
      "Checking CZ for  Sakākā\n",
      "Checking CZ for  Sasebo\n",
      "Checking CZ for  Sapele\n",
      "Checking CZ for  Birāṭnagar\n",
      "Checking CZ for  Pandharpur\n",
      "Checking CZ for  Qyzylorda\n",
      "Checking CZ for  Chigasaki\n",
      "Checking CZ for  Zhangping\n",
      "Checking CZ for  Man\n",
      "Checking CZ for  Bānchpār\n",
      "Checking CZ for  Dagana\n",
      "Checking CZ for  Haeju\n",
      "Checking CZ for  Diaobingshancun\n",
      "Checking CZ for  Kennewick\n",
      "Checking CZ for  Masaurhi Buzurg\n",
      "Checking CZ for  Winter Haven\n",
      "Checking CZ for  Baruta\n",
      "Checking CZ for  Düzce\n",
      "Checking CZ for  Marília\n",
      "Checking CZ for  Katihār\n",
      "Checking CZ for  Tarapoto\n",
      "Checking CZ for  Atushi\n",
      "Checking CZ for  Chōfugaoka\n",
      "Checking CZ for  Abī al Khaşīb\n",
      "Checking CZ for  Anju\n",
      "Checking CZ for  Bunkyō-ku\n",
      "Checking CZ for  Bạc Liêu\n",
      "Checking CZ for  Byatarayanpur\n",
      "Checking CZ for  Longueuil\n",
      "Checking CZ for  Mokpo\n",
      "ERROR Mokpo\n",
      "Checking CZ for  Ipatinga\n",
      "Checking CZ for  Viamão\n",
      "Checking CZ for  Yato\n",
      "Checking CZ for  Matsumoto\n",
      "Checking CZ for  Szeged\n",
      "Checking CZ for  Chimoio\n",
      "Checking CZ for  Novo Hamburgo\n",
      "Checking CZ for  Scottsdale\n",
      "Checking CZ for  Košice\n",
      "Checking CZ for  Norfolk\n",
      "Checking CZ for  Āmol\n",
      "Checking CZ for  Killeen\n",
      "Checking CZ for  Ivano-Frankivsk\n",
      "Checking CZ for  González Catán\n",
      "Checking CZ for  Halle\n",
      "Checking CZ for  Nyíregyháza\n",
      "Checking CZ for  Wuyishan\n",
      "Checking CZ for  Shenmu\n",
      "Checking CZ for  Tuticorin\n",
      "Checking CZ for  As Sīb\n",
      "Checking CZ for  Gangānagar\n",
      "Checking CZ for  Sandnes\n",
      "Checking CZ for  Stavanger\n",
      "Checking CZ for  Nizhnekamsk\n",
      "Checking CZ for  Monclova\n",
      "Checking CZ for  Taiping\n",
      "Checking CZ for  Pathein\n",
      "Checking CZ for  Chishui\n",
      "Checking CZ for  Djougou\n",
      "Checking CZ for  Mirpur Khas\n",
      "Checking CZ for  North Hempstead\n",
      "Checking CZ for  York\n",
      "Checking CZ for  P’yŏng-dong\n",
      "Checking CZ for  Centurion\n",
      "Checking CZ for  Rewa\n",
      "Checking CZ for  Pākdasht\n",
      "Checking CZ for  Atlantic City\n",
      "Checking CZ for  Magdeburg\n",
      "Checking CZ for  Petaẖ Tiqwa\n",
      "Checking CZ for  Abhā\n",
      "Checking CZ for  Springs\n",
      "Checking CZ for  Al Minyā\n",
      "Checking CZ for  Nashua\n",
      "Checking CZ for  Central District\n",
      "ERROR Central District\n",
      "Checking CZ for  Arlington\n",
      "Checking CZ for  Brownsville\n",
      "Checking CZ for  Eindhoven\n",
      "Checking CZ for  Zinder\n",
      "Checking CZ for  Bole\n",
      "Checking CZ for  Elche\n",
      "Checking CZ for  Shakhty\n",
      "Checking CZ for  Ganda\n",
      "Checking CZ for  Jacareí\n",
      "Checking CZ for  Uluberiya\n",
      "Checking CZ for  Bulandshahr\n",
      "Checking CZ for  Banda Aceh\n",
      "Checking CZ for  Najafābād\n",
      "Checking CZ for  Shibuya-ku\n",
      "Checking CZ for  Bayamo\n",
      "Checking CZ for  Kamianske\n",
      "Checking CZ for  Limassol\n",
      "Checking CZ for  Borūjerd\n",
      "Checking CZ for  Ibb\n",
      "Checking CZ for  Macaé\n",
      "Checking CZ for  Longquan\n",
      "Checking CZ for  Miri\n",
      "Checking CZ for  Lille\n",
      "ERROR Lille\n",
      "Checking CZ for  Singaraja\n",
      "Checking CZ for  Kasulu\n",
      "Checking CZ for  Messina\n",
      "Checking CZ for  Oral\n",
      "Checking CZ for  Formosa\n",
      "Checking CZ for  Bo\n",
      "Checking CZ for  Mambéré\n",
      "Checking CZ for  Damboa\n",
      "Checking CZ for  Groningen\n",
      "Checking CZ for  Arapiraca\n",
      "Checking CZ for  San Cristóbal\n",
      "Checking CZ for  Burnaby\n",
      "Checking CZ for  Cannanore\n",
      "Checking CZ for  Rāichūr\n",
      "Checking CZ for  Okara\n",
      "Checking CZ for  Saga\n",
      "Checking CZ for  Saidpur\n",
      "Checking CZ for  Nazipur\n",
      "Checking CZ for  Jiayuguan\n",
      "Checking CZ for  Freiburg im Breisgau\n",
      "Checking CZ for  Dzerzhinsk\n",
      "Checking CZ for  Granada\n",
      "Checking CZ for  Gaborone\n",
      "Checking CZ for  Bratsk\n",
      "Checking CZ for  Fremont\n",
      "Checking CZ for  Gulfport\n",
      "Checking CZ for  Rancagua\n",
      "Checking CZ for  Phú Yên\n",
      "Checking CZ for  Machala\n",
      "Checking CZ for  Neuquén\n",
      "Checking CZ for  Qarchak\n",
      "Checking CZ for  Ormoc\n",
      "Checking CZ for  Fresnillo\n",
      "Checking CZ for  Eloy Alfaro\n",
      "Checking CZ for  Manavgat\n",
      "Checking CZ for  Sơn Tây\n",
      "Checking CZ for  Orsk\n",
      "Checking CZ for  Singkawang\n",
      "Checking CZ for  Purwokerto\n",
      "Checking CZ for  Barishal\n",
      "Checking CZ for  Pāli\n",
      "Checking CZ for  Songadh\n",
      "Checking CZ for  Noginsk\n",
      "Checking CZ for  Cotia\n",
      "Checking CZ for  Ordu\n",
      "Checking CZ for  Kasukabe\n",
      "Checking CZ for  Bojnūrd\n",
      "Checking CZ for  Rondonópolis\n",
      "Checking CZ for  Envigado\n",
      "Checking CZ for  Haridwār\n",
      "Checking CZ for  Vizianagaram\n",
      "Checking CZ for  Cobán\n",
      "Checking CZ for  Khénifra\n",
      "Checking CZ for  Guantánamo\n",
      "Checking CZ for  Şabyā\n",
      "Checking CZ for  Pāthardi\n",
      "Checking CZ for  Neya\n",
      "Checking CZ for  Ninh Hòa\n",
      "Checking CZ for  Choloma\n",
      "Checking CZ for  Kropyvnytskyi\n",
      "Checking CZ for  Magé\n",
      "Checking CZ for  Khatīma\n",
      "Checking CZ for  Daşoguz\n",
      "Checking CZ for  Khanewal\n",
      "Checking CZ for  Krefeld\n",
      "Checking CZ for  Petlād\n",
      "Checking CZ for  Evansville\n",
      "Checking CZ for  Ageoshimo\n",
      "Checking CZ for  Araraquara\n",
      "Checking CZ for  Angarsk\n",
      "Checking CZ for  Kolpino\n",
      "Checking CZ for  Mubi\n",
      "Checking CZ for  Meycauayan\n",
      "Checking CZ for  Varāmīn\n",
      "Checking CZ for  Padangsidempuan\n",
      "Checking CZ for  Hunchun\n",
      "Checking CZ for  Ternopil\n",
      "Checking CZ for  Nyanza\n",
      "Checking CZ for  Nadiād\n",
      "Checking CZ for  Toamasina\n",
      "Checking CZ for  Quetzaltenango\n",
      "Checking CZ for  Mutare\n",
      "Checking CZ for  Cikupa\n",
      "Checking CZ for  Chuādānga\n",
      "Checking CZ for  Carlos Manuel de Céspedes\n",
      "Checking CZ for  Blagoveshchensk\n",
      "Checking CZ for  Hialeah\n",
      "Checking CZ for  Puerto Vallarta\n",
      "Checking CZ for  Capiatá\n",
      "Checking CZ for  Tarrasa\n",
      "Checking CZ for  Takarazuka\n",
      "Checking CZ for  Chapecó\n",
      "Checking CZ for  Navarre\n",
      "Checking CZ for  Banfield\n",
      "Checking CZ for  Toluca\n",
      "Checking CZ for  Atsugichō\n",
      "Checking CZ for  Paramaribo\n",
      "Checking CZ for  Cox’s Bāzār\n",
      "Checking CZ for  Badalona\n",
      "Checking CZ for  Bandar-e Būshehr\n",
      "Checking CZ for  Itapevi\n",
      "Checking CZ for  Staryy Oskol\n",
      "Checking CZ for  Częstochowa\n",
      "Checking CZ for  Probolinggo\n",
      "Checking CZ for  Tanjore\n",
      "Checking CZ for  Ji’an Shi\n",
      "Checking CZ for  Bel Air South\n",
      "Checking CZ for  Ōta\n",
      "Checking CZ for  Hachinohe\n",
      "Checking CZ for  Tiptūr\n",
      "Checking CZ for  Ijebu-Ode\n",
      "Checking CZ for  Velikiy Novgorod\n",
      "Checking CZ for  Barra do Dande\n",
      "Checking CZ for  Sandton\n",
      "Checking CZ for  Beji\n",
      "Checking CZ for  Hobart\n",
      "Checking CZ for  Cork\n",
      "Checking CZ for  Dili\n",
      "Checking CZ for  Swindon\n",
      "Checking CZ for  Presidente Prudente\n",
      "Checking CZ for  Kichha\n",
      "Checking CZ for  Tilburg\n",
      "Checking CZ for  Longjin\n",
      "Checking CZ for  Katri\n",
      "Checking CZ for  Korolëv\n",
      "Checking CZ for  Guéckédou\n",
      "Checking CZ for  Neyshābūr\n",
      "Checking CZ for  North Port\n",
      "Checking CZ for  Sousse\n",
      "Checking CZ for  Tchaourou\n",
      "Checking CZ for  Rufisque\n",
      "Checking CZ for  Duekoué\n",
      "Checking CZ for  San Bernardino\n",
      "Checking CZ for  Sambhal\n",
      "Checking CZ for  Portland\n",
      "Checking CZ for  San Felipe\n",
      "Checking CZ for  Sāveh\n",
      "Checking CZ for  Rennes\n",
      "ERROR Rennes\n",
      "Checking CZ for  Santa Luzia\n",
      "Checking CZ for  Chí Linh\n",
      "Checking CZ for  La Vega\n",
      "Checking CZ for  Juazeiro\n",
      "Checking CZ for  Kremenchuk\n",
      "Checking CZ for  Ashdod\n",
      "Checking CZ for  Polokwane\n",
      "Checking CZ for  Radom\n",
      "Checking CZ for  Itabuna\n",
      "Checking CZ for  Al Khubar\n",
      "Checking CZ for  Osisioma\n",
      "Checking CZ for  Enterprise\n",
      "Checking CZ for  Bremerton\n",
      "Checking CZ for  Green Bay\n",
      "Checking CZ for  Tuluá\n",
      "Checking CZ for  Zākhū\n",
      "Checking CZ for  Kafue\n",
      "Checking CZ for  Konibodom\n",
      "Checking CZ for  Petrel\n",
      "Checking CZ for  Pleiku\n",
      "Checking CZ for  Pangkalpinang\n",
      "Checking CZ for  Bitung\n",
      "Checking CZ for  Santo Tomas\n",
      "Checking CZ for  Ānand\n",
      "Checking CZ for  Appleton\n",
      "Checking CZ for  San Miguel\n",
      "Checking CZ for  Córdoba\n",
      "Checking CZ for  Itaboraí\n",
      "Checking CZ for  Naihāti\n",
      "Checking CZ for  Arakawa\n",
      "Checking CZ for  Babylon\n",
      "Checking CZ for  Laâyoune\n",
      "Checking CZ for  Butembo\n",
      "Checking CZ for  Mainz\n",
      "Checking CZ for  Manta\n",
      "Checking CZ for  Oviedo\n",
      "Checking CZ for  Spring Valley\n",
      "Checking CZ for  Apapa\n",
      "Checking CZ for  Tacoma\n",
      "Checking CZ for  Denov\n",
      "Checking CZ for  Netanya\n",
      "Checking CZ for  Lutsk\n",
      "Checking CZ for  Qostanay\n",
      "Checking CZ for  Alor Setar\n",
      "Checking CZ for  Cartagena\n",
      "Checking CZ for  Wayaobu\n",
      "Checking CZ for  Zielona Góra\n",
      "Checking CZ for  Gujiao\n",
      "Checking CZ for  José C. Paz\n",
      "Checking CZ for  Yamunānagar\n",
      "Checking CZ for  Banjarbaru\n",
      "Checking CZ for  Valencia\n",
      "Checking CZ for  Ayacucho\n",
      "Checking CZ for  Petropavl\n",
      "Checking CZ for  Lübeck\n",
      "Checking CZ for  Sabadell\n",
      "Checking CZ for  Peñalolén\n",
      "Checking CZ for  Dongxing\n",
      "Checking CZ for  Spartanburg\n",
      "Checking CZ for  Ar Ruseris\n",
      "Checking CZ for  Hortolândia\n",
      "Checking CZ for  Roanoke\n",
      "Checking CZ for  Gangneung\n",
      "Checking CZ for  Hebron\n",
      "Checking CZ for  Pallāvaram\n",
      "Checking CZ for  Marg‘ilon\n",
      "Checking CZ for  Jiutepec\n",
      "Checking CZ for  Tân An\n",
      "Checking CZ for  Golmud\n",
      "Checking CZ for  Regina\n",
      "Checking CZ for  Guadalupe\n",
      "Checking CZ for  As Samāwah\n",
      "Checking CZ for  Maţraḩ\n",
      "Checking CZ for  Comalcalco\n",
      "Checking CZ for  Cúa\n",
      "Checking CZ for  Almere\n",
      "Checking CZ for  Vantaa\n",
      "Checking CZ for  La Victoria\n",
      "Checking CZ for  Warnes\n",
      "Checking CZ for  Sete Lagoas\n",
      "Checking CZ for  São Leopoldo\n",
      "Checking CZ for  Marcory\n",
      "Checking CZ for  Chilas\n",
      "Checking CZ for  Sikasso\n",
      "Checking CZ for  Osan\n",
      "Checking CZ for  Erfurt\n",
      "Checking CZ for  Secunderābād\n",
      "Checking CZ for  Dodoma\n",
      "Checking CZ for  Sa Đéc\n",
      "Checking CZ for  El Tigre\n",
      "Checking CZ for  Gainesville\n",
      "Checking CZ for  Norwich\n",
      "Checking CZ for  Monghyr\n",
      "Checking CZ for  Luton\n",
      "Checking CZ for  Divinópolis\n",
      "Checking CZ for  Gokāk\n",
      "Checking CZ for  Colombo\n",
      "Checking CZ for  Sidi Bel Abbès\n",
      "Checking CZ for  Jerez de la Frontera\n",
      "Checking CZ for  Tumaco\n",
      "Checking CZ for  Mallawī\n",
      "Checking CZ for  Deltona\n",
      "Checking CZ for  Limbe\n",
      "Checking CZ for  Babruysk\n",
      "Checking CZ for  Kure\n",
      "Checking CZ for  Kuje\n",
      "Checking CZ for  Northampton\n",
      "Checking CZ for  Bhadrāvati\n",
      "Checking CZ for  Kalamazoo\n",
      "Checking CZ for  ‘Aqrah\n",
      "Checking CZ for  Cao Lãnh\n",
      "Checking CZ for  Zhubei\n",
      "Checking CZ for  Mytishchi\n",
      "Checking CZ for  Nandyāl\n",
      "Checking CZ for  Irákleio\n",
      "Checking CZ for  Criciúma\n",
      "Checking CZ for  Panchkula\n",
      "Checking CZ for  Thousand Oaks\n",
      "Checking CZ for  Hickory\n",
      "Checking CZ for  Chungju\n",
      "Checking CZ for  Burhānpur\n",
      "Checking CZ for  Burgas\n",
      "Checking CZ for  Barrancabermeja\n",
      "Checking CZ for  Taitō\n",
      "Checking CZ for  Trece Martires City\n",
      "Checking CZ for  Pagadian\n",
      "Checking CZ for  Padova\n",
      "Checking CZ for  Quilicura\n",
      "Checking CZ for  Kirātot\n",
      "Checking CZ for  Isesaki\n",
      "Checking CZ for  Linz\n",
      "Checking CZ for  Madiun\n",
      "Checking CZ for  Arroyo Naranjo\n",
      "Checking CZ for  Bukit Mertajam\n",
      "Checking CZ for  Dongning\n",
      "Checking CZ for  Ploieşti\n",
      "Checking CZ for  Kāpra\n",
      "Checking CZ for  Pskov\n",
      "Checking CZ for  Yonkers\n",
      "Checking CZ for  Burutu\n",
      "Checking CZ for  Móstoles\n",
      "Checking CZ for  Oberhausen\n",
      "Checking CZ for  Legazpi City\n",
      "Checking CZ for  Panabo\n",
      "Checking CZ for  Naga City\n",
      "Checking CZ for  Puerto Cabello\n",
      "Checking CZ for  Rostock\n",
      "Checking CZ for  Maracanaú\n",
      "Checking CZ for  Ich’ŏn\n",
      "Checking CZ for  Beersheba\n",
      "Checking CZ for  Bila Tserkva\n",
      "Checking CZ for  Santo Agostinho\n",
      "Checking CZ for  Oulu\n",
      "Checking CZ for  Ciputat\n",
      "Checking CZ for  Santa Cruz\n",
      "Checking CZ for  Mary\n",
      "Checking CZ for  Guarenas\n",
      "Checking CZ for  Mohammedia\n",
      "Checking CZ for  Taisheng\n",
      "Checking CZ for  Sunyani\n",
      "Checking CZ for  Moreno Valley\n",
      "Checking CZ for  Shashemenē\n",
      "Checking CZ for  Lubuklinggau\n",
      "Checking CZ for  Waitakere\n",
      "Checking CZ for  Fontana\n",
      "Checking CZ for  Ashaiman\n",
      "Checking CZ for  Zamora\n",
      "Checking CZ for  Kasangati\n",
      "Checking CZ for  Kharagpur\n",
      "Checking CZ for  College Station\n",
      "Checking CZ for  Monywa\n",
      "Checking CZ for  Nishitōkyō\n",
      "Checking CZ for  Robertsonpet\n",
      "Checking CZ for  Lyubertsy\n",
      "Checking CZ for  Dindigul\n",
      "Checking CZ for  Toledo\n",
      "Checking CZ for  Fargo\n",
      "Checking CZ for  Milton Keynes\n",
      "Checking CZ for  Marawi City\n",
      "Checking CZ for  Morogoro\n",
      "Checking CZ for  Portoviejo\n",
      "Checking CZ for  Solihull\n",
      "Checking CZ for  Parakou\n",
      "Checking CZ for  Damietta\n",
      "Checking CZ for  Shimla\n",
      "Checking CZ for  Cascais\n",
      "Checking CZ for  Cidade de Nacala\n",
      "Checking CZ for  Kalemie\n",
      "Checking CZ for  Hospet\n",
      "Checking CZ for  Islington\n",
      "Checking CZ for  Talca\n",
      "Checking CZ for  Zanzibar\n",
      "Checking CZ for  La Ceiba\n",
      "Checking CZ for  Northcote\n",
      "Checking CZ for  Bolu\n",
      "Checking CZ for  Ingrāj Bāzār\n",
      "Checking CZ for  San Carlos City\n",
      "Checking CZ for  Jiutai\n",
      "Checking CZ for  Qal‘at Bīshah\n",
      "Checking CZ for  Ziguinchor\n",
      "Checking CZ for  Bà Rịa\n",
      "Checking CZ for  Puqi\n",
      "Checking CZ for  Loures\n",
      "Checking CZ for  Ongole\n",
      "Checking CZ for  Passo Fundo\n",
      "Checking CZ for  Biskra\n",
      "Checking CZ for  Bingerville\n",
      "Checking CZ for  Betigeri\n",
      "Checking CZ for  Amarillo\n",
      "Checking CZ for  Trieste\n",
      "Checking CZ for  Ternate\n",
      "Checking CZ for  Huntington\n",
      "Checking CZ for  Sejong\n",
      "Checking CZ for  Coquimbo\n",
      "Checking CZ for  Tekirdağ\n",
      "Checking CZ for  Colón\n",
      "Checking CZ for  Kukawa\n",
      "Checking CZ for  Ellore\n",
      "Checking CZ for  Kinh Môn\n",
      "Checking CZ for  Bīrjand\n",
      "Checking CZ for  Santa Ana\n",
      "Checking CZ for  La Guaira\n",
      "Checking CZ for  Mandi Burewala\n",
      "Checking CZ for  Pamplona\n",
      "Checking CZ for  Banjar\n",
      "Checking CZ for  Mazabuka\n",
      "Checking CZ for  Deoghar\n",
      "Checking CZ for  Biysk\n",
      "Checking CZ for  Tanjungpinang\n",
      "Checking CZ for  Phủ Từ Sơn\n",
      "Checking CZ for  Chhindwāra\n",
      "Checking CZ for  Parnamirim\n",
      "Checking CZ for  Lingampalli\n",
      "Checking CZ for  Mokameh\n",
      "Checking CZ for  Luxor\n",
      "Checking CZ for  Arica\n",
      "ERROR Arica\n",
      "Checking CZ for  Las Tunas\n",
      "Checking CZ for  Hà Tĩnh\n",
      "Checking CZ for  Al Khawr\n",
      "Checking CZ for  Timayy al Imdīd\n",
      "Checking CZ for  Al Khums\n",
      "Checking CZ for  Geneva\n",
      "Checking CZ for  Charleroi\n",
      "Checking CZ for  Matsue\n",
      "Checking CZ for  Norwich\n",
      "Checking CZ for  Tarakan\n",
      "Checking CZ for  Pingzhen\n",
      "Checking CZ for  Bắc Giang\n",
      "Checking CZ for  Toruń\n",
      "Checking CZ for  Cajamarca\n",
      "Checking CZ for  Tokat\n",
      "Checking CZ for  Qinā\n",
      "Checking CZ for  Mai’Adua\n",
      "Checking CZ for  Kassel\n",
      "Checking CZ for  Puri\n",
      "Checking CZ for  Soio\n",
      "Checking CZ for  Olympia\n",
      "Checking CZ for  Haldia\n",
      "Checking CZ for  Jacobabad\n",
      "Checking CZ for  Almería\n",
      "Checking CZ for  Khandwa\n",
      "Checking CZ for  Aberdeen\n",
      "Checking CZ for  Huacho\n",
      "Checking CZ for  Yachiyo\n",
      "Checking CZ for  Pulimaddi\n",
      "Checking CZ for  Georgetown\n",
      "Checking CZ for  Morena\n",
      "Checking CZ for  Nasīm Shahr\n",
      "Checking CZ for  Nagareyama\n",
      "Checking CZ for  Cosenza\n",
      "Checking CZ for  Guacara\n",
      "Checking CZ for  Kabankalan\n",
      "Checking CZ for  Vĩnh Long\n",
      "Checking CZ for  Poza Rica de Hidalgo\n",
      "Checking CZ for  Lạng Sơn\n",
      "Checking CZ for  Sātkhira\n",
      "Checking CZ for  Sidon\n",
      "Checking CZ for  Isanlu\n",
      "Checking CZ for  At Tājī\n",
      "Checking CZ for  Moratuwa\n",
      "Checking CZ for  Az Zāwīyah\n",
      "Checking CZ for  Néma\n",
      "Checking CZ for  Kasama\n",
      "Checking CZ for  Rio Claro\n",
      "Checking CZ for  Lahad Datu\n",
      "Checking CZ for  Waterbury\n",
      "Checking CZ for  Drabar\n",
      "Checking CZ for  Salinas\n",
      "Checking CZ for  Banja Luka\n",
      "Checking CZ for  Huntington\n",
      "Checking CZ for  Santa Tecla\n",
      "Checking CZ for  Uripa\n",
      "Checking CZ for  Khowy\n",
      "Checking CZ for  Huntington Beach\n",
      "Checking CZ for  Huangyan\n",
      "Checking CZ for  Clarksville\n",
      "Checking CZ for  Itami\n",
      "Checking CZ for  Amroha\n",
      "Checking CZ for  Richmond\n",
      "Checking CZ for  Taranto\n",
      "Checking CZ for  Santa Barbara\n",
      "Checking CZ for  Martapura\n",
      "Checking CZ for  Araçatuba\n",
      "Checking CZ for  Gemena\n",
      "Checking CZ for  Kankan\n",
      "Checking CZ for  Chakradharpur\n",
      "Checking CZ for  Helong\n",
      "Checking CZ for  Bhiwāni\n",
      "Checking CZ for  Bhind\n",
      "Checking CZ for  Mbanza-Ngungu\n",
      "Checking CZ for  Tocuyito\n",
      "Checking CZ for  Higashi-Hiroshima\n",
      "Checking CZ for  Rio Grande\n",
      "Checking CZ for  Ciudad Madero\n",
      "Checking CZ for  Kodaira\n",
      "Checking CZ for  Rajin\n",
      "Checking CZ for  Alcalá de Henares\n",
      "Checking CZ for  Brescia\n",
      "Checking CZ for  Huánuco\n",
      "Checking CZ for  Liège\n",
      "Checking CZ for  Kusŏng\n",
      "Checking CZ for  Glendale\n",
      "Checking CZ for  Sunrise Manor\n",
      "Checking CZ for  Zipaquirá\n",
      "Checking CZ for  Prokopyevsk\n",
      "Checking CZ for  Oradea\n",
      "Checking CZ for  Khammam\n",
      "Checking CZ for  Kouribga\n",
      "Checking CZ for  Madhyamgram\n",
      "Checking CZ for  Kajo Kaji\n",
      "Checking CZ for  Grand Prairie\n",
      "Checking CZ for  Viranşehir\n",
      "Checking CZ for  Ghāndīnagar\n",
      "Checking CZ for  Rzeszów\n",
      "Checking CZ for  Parma\n",
      "Checking CZ for  Alvorada\n",
      "Checking CZ for  Acarigua\n",
      "Checking CZ for  Iskandar\n",
      "ERROR Iskandar\n",
      "Checking CZ for  Myawadi\n",
      "Checking CZ for  Mwene-Ditu\n",
      "Checking CZ for  Karaköprü\n",
      "Checking CZ for  Koronadal\n",
      "Checking CZ for  La Serena\n",
      "Checking CZ for  Maharagama\n",
      "Checking CZ for  San Pedro de Macorís\n",
      "Checking CZ for  Suzuka\n",
      "Checking CZ for  Overland Park\n",
      "Checking CZ for  Baharampur\n",
      "Checking CZ for  Tchitato\n",
      "Checking CZ for  Brikama\n",
      "Checking CZ for  Malema\n",
      "Checking CZ for  N’Zérékoré\n",
      "Checking CZ for  Richmond Hill\n",
      "Checking CZ for  Mbarara\n",
      "Checking CZ for  Sodo\n",
      "Checking CZ for  Morbi\n",
      "Checking CZ for  El Jadid\n",
      "Checking CZ for  Yuzhno-Sakhalinsk\n",
      "Checking CZ for  Trondheim\n",
      "Checking CZ for  Cuautla\n",
      "Checking CZ for  Anseong\n",
      "Checking CZ for  Hagerstown\n",
      "Checking CZ for  Nampa\n",
      "Checking CZ for  Guanajuato\n",
      "Checking CZ for  Tébessa\n",
      "Checking CZ for  Kamirenjaku\n",
      "Checking CZ for  Holon\n",
      "Checking CZ for  San Fernando\n",
      "Checking CZ for  Gastonia\n",
      "Checking CZ for  Karaman\n",
      "Checking CZ for  Peterborough\n",
      "Checking CZ for  Tanauan\n",
      "Checking CZ for  Sūhāj\n",
      "Checking CZ for  Oakville\n",
      "Checking CZ for  Eldoret\n",
      "Checking CZ for  Pāndhurnā\n",
      "Checking CZ for  Bené Beraq\n",
      "Checking CZ for  Yamaguchi\n",
      "Checking CZ for  Sosnowiec\n",
      "Checking CZ for  Būkān\n",
      "Checking CZ for  Muş\n",
      "Checking CZ for  Prato\n",
      "Checking CZ for  Fatehpur\n",
      "Checking CZ for  Kumagaya\n",
      "Checking CZ for  La Plata\n",
      "Checking CZ for  Frisco\n",
      "Checking CZ for  Kırıkkale\n",
      "Checking CZ for  Banī Suwayf\n",
      "Checking CZ for  Lae\n",
      "Checking CZ for  Quelimane\n",
      "Checking CZ for  Cedar Rapids\n",
      "Checking CZ for  Hyesan\n",
      "Checking CZ for  Béni Mellal\n",
      "Checking CZ for  Jalapa\n",
      "Checking CZ for  Guanare\n",
      "Checking CZ for  Castanhal\n",
      "Checking CZ for  Fuenlabrada\n",
      "Checking CZ for  Croydon\n",
      "Checking CZ for  Ārba Minch’\n",
      "Checking CZ for  Gorontalo\n",
      "Checking CZ for  Florencia\n",
      "Checking CZ for  Fianarantsoa\n",
      "Checking CZ for  Kielce\n",
      "Checking CZ for  Tsing Yi Town\n",
      "Checking CZ for  Muar\n",
      "Checking CZ for  Rāe Bareli\n",
      "Checking CZ for  Godoy Cruz\n",
      "Checking CZ for  Rijeka\n",
      "Checking CZ for  Balakovo\n",
      "Checking CZ for  Ciudad del Carmen\n",
      "ERROR Ciudad del Carmen\n",
      "Checking CZ for  Bago\n",
      "Checking CZ for  Hemet\n",
      "Checking CZ for  Valera\n",
      "Checking CZ for  Aydın\n",
      "Checking CZ for  Manzanillo\n",
      "Checking CZ for  Malaybalay\n",
      "Checking CZ for  Armavir\n",
      "Checking CZ for  Isidro Casanova\n",
      "Checking CZ for  Chibia\n",
      "Checking CZ for  Hino\n",
      "Checking CZ for  Orai\n",
      "Checking CZ for  Shahr-e Kord\n",
      "Checking CZ for  Rybinsk\n",
      "Checking CZ for  Jhelum\n",
      "Checking CZ for  Mahbūbnagar\n",
      "Checking CZ for  Pābna\n",
      "Checking CZ for  Cap-Haïtien\n",
      "Checking CZ for  Batu\n",
      "Checking CZ for  Santa Bárbara d’Oeste\n",
      "Checking CZ for  Cachoeiro de Itapemirim\n",
      "Checking CZ for  Saddiqabad\n",
      "Checking CZ for  Paradise\n",
      "Checking CZ for  Ngaoundéré\n",
      "Checking CZ for  Chŏngju\n",
      "Checking CZ for  Donghua\n",
      "Checking CZ for  Sioux Falls\n",
      "Checking CZ for  Rājendranagar\n",
      "Checking CZ for  Las Heras\n",
      "Checking CZ for  Odawara\n",
      "Checking CZ for  Abū Ghurayb\n",
      "Checking CZ for  Anjōmachi\n",
      "Checking CZ for  Araure\n",
      "Checking CZ for  Hagen\n",
      "Checking CZ for  Pinar del Río\n",
      "Checking CZ for  Kenema\n",
      "Checking CZ for  Digos\n",
      "Checking CZ for  El Progreso\n",
      "Checking CZ for  Vancouver\n",
      "Checking CZ for  Angra dos Reis\n",
      "Checking CZ for  Sobral\n",
      "Checking CZ for  Al Ḩasakah\n",
      "Checking CZ for  San Francisco de Macorís\n",
      "Checking CZ for  Donostia\n",
      "Checking CZ for  Prabumulih\n",
      "Checking CZ for  Kishiwada\n",
      "ERROR Kishiwada\n",
      "Checking CZ for  Iquique\n",
      "Checking CZ for  Desē\n",
      "Checking CZ for  Gharyān\n",
      "Checking CZ for  Kecskemét\n",
      "Checking CZ for  Leganés\n",
      "Checking CZ for  Peoria\n",
      "Checking CZ for  Numazu\n",
      "Checking CZ for  Bournemouth\n",
      "Checking CZ for  Bhusāval\n",
      "Checking CZ for  Tottori\n",
      "Checking CZ for  Malabo\n",
      "Checking CZ for  Jōetsu\n",
      "Checking CZ for  Chaedŏk\n",
      "Checking CZ for  Guatire\n",
      "Checking CZ for  Chilpancingo\n",
      "Checking CZ for  San Diego\n",
      "Checking CZ for  Waco\n",
      "Checking CZ for  Kōfu\n",
      "Checking CZ for  Ucu Seles\n",
      "Checking CZ for  Gibraltar\n",
      "Checking CZ for  Calbayog City\n",
      "Checking CZ for  Kairouan\n",
      "Checking CZ for  Shendi\n",
      "Checking CZ for  Klerksdorp\n",
      "Checking CZ for  Lorain\n",
      "Checking CZ for  Erie\n",
      "Checking CZ for  Pasuruan\n",
      "Checking CZ for  Cabo Frio\n",
      "Checking CZ for  Bahraigh\n",
      "Checking CZ for  Ed Damazin\n",
      "Checking CZ for  Dunhuang\n",
      "Checking CZ for  Suva\n",
      "Checking CZ for  Basildon\n",
      "Checking CZ for  Nossa Senhora do Socorro\n",
      "Checking CZ for  Umreth\n",
      "Checking CZ for  Modena\n",
      "Checking CZ for  Jamaame\n",
      "Checking CZ for  Semnān\n",
      "Checking CZ for  Narsingdi\n",
      "Checking CZ for  Temirtaū\n",
      "Checking CZ for  Newport News\n",
      "Checking CZ for  Yei\n",
      "Checking CZ for  Mahesāna\n",
      "Checking CZ for  Luzhang\n",
      "Checking CZ for  Ferraz de Vasconcelos\n",
      "Checking CZ for  Alasandigutta\n",
      "Checking CZ for  Pak Kret\n",
      "Checking CZ for  Al Qāmishlī\n",
      "Checking CZ for  Padalarang\n",
      "Checking CZ for  Geelong\n",
      "Checking CZ for  Tân Châu\n",
      "Checking CZ for  Breda\n",
      "Checking CZ for  Severodvinsk\n",
      "Checking CZ for  Toyokawa\n",
      "Checking CZ for  Vĩnh Châu\n",
      "Checking CZ for  Siguiri\n",
      "Checking CZ for  Cuango\n",
      "Checking CZ for  Rāiganj\n",
      "Checking CZ for  San Cristóbal\n",
      "Checking CZ for  Aurora\n",
      "Checking CZ for  Fernando de la Mora\n",
      "Checking CZ for  Trảng Bàng\n",
      "Checking CZ for  Itajaí\n",
      "Checking CZ for  Aqtaū\n",
      "Checking CZ for  Burlington\n",
      "Checking CZ for  Batāla\n",
      "Checking CZ for  Getafe\n",
      "Checking CZ for  Niš\n",
      "Checking CZ for  Potsdam\n",
      "Checking CZ for  Kottayam\n",
      "Checking CZ for  Isiro\n",
      "Checking CZ for  Dourados\n",
      "Checking CZ for  Pinrang\n",
      "Checking CZ for  Sirsa\n",
      "Checking CZ for  Nouméa\n",
      "Checking CZ for  Fort Lauderdale\n",
      "Checking CZ for  Dinapore\n",
      "Checking CZ for  Sorsogon\n",
      "Checking CZ for  Reims\n",
      "ERROR Reims\n",
      "Checking CZ for  Nova Friburgo\n",
      "Checking CZ for  Tambaram\n",
      "Checking CZ for  Vallejo\n",
      "Checking CZ for  Kāraikkudi\n",
      "Checking CZ for  Shrīrāmpur\n",
      "Checking CZ for  Abakan\n",
      "Checking CZ for  Braga\n",
      "Checking CZ for  Murfreesboro\n",
      "Checking CZ for  Reggio di Calabria\n",
      "Checking CZ for  Epe\n",
      "Checking CZ for  Sucúa\n",
      "Checking CZ for  Petropavlovsk-Kamchatskiy\n",
      "Checking CZ for  Fardīs\n",
      "Checking CZ for  Himatnagar\n",
      "Checking CZ for  York\n",
      "Checking CZ for  Kindia\n",
      "Checking CZ for  Tachikawa\n",
      "Checking CZ for  Turbo\n",
      "Checking CZ for  Sittwe\n",
      "ERROR Sittwe\n",
      "Checking CZ for  Thanhlyin\n",
      "Checking CZ for  La Rioja\n",
      "Checking CZ for  Guna\n",
      "Checking CZ for  Odense\n",
      "Checking CZ for  Çanakkale\n",
      "Checking CZ for  Hinthada\n",
      "Checking CZ for  Cuauhtémoc\n",
      "Checking CZ for  Berazategui\n",
      "Checking CZ for  Funtua\n",
      "Checking CZ for  Obuase\n",
      "Checking CZ for  Jaunpur\n",
      "Checking CZ for  Edirne\n",
      "Checking CZ for  Longjing\n",
      "Checking CZ for  Brăila\n",
      "Checking CZ for  Ilhéus\n",
      "Checking CZ for  Lhokseumawe\n",
      "Checking CZ for  Mahād\n",
      "Checking CZ for  Madanapalle\n",
      "Checking CZ for  Palopo\n",
      "Checking CZ for  Guri\n",
      "Checking CZ for  Tongjiang\n",
      "Checking CZ for  Shivpuri\n",
      "Checking CZ for  Hugli\n",
      "Checking CZ for  Barra Mansa\n",
      "Checking CZ for  Phan Rang-Tháp Chàm\n",
      "Checking CZ for  Hosa’ina\n",
      "Checking CZ for  Spring Hill\n",
      "Checking CZ for  Saarbrücken\n",
      "Checking CZ for  Uji\n",
      "Checking CZ for  Mongu\n",
      "Checking CZ for  Norilsk\n",
      "Checking CZ for  Divo\n",
      "Checking CZ for  Paita\n",
      "Checking CZ for  Dosquebradas\n",
      "Checking CZ for  Roxas City\n",
      "Checking CZ for  Hamm\n",
      "Checking CZ for  Purwakarta\n",
      "Checking CZ for  Tiaret\n",
      "Checking CZ for  Tempe\n",
      "Checking CZ for  Cuautitlán\n",
      "Checking CZ for  High Point\n",
      "Checking CZ for  Njeru\n",
      "Checking CZ for  Torbalı\n",
      "Checking CZ for  Toulon\n",
      "Checking CZ for  Al ‘Arīsh\n",
      "Checking CZ for  Townsville\n",
      "Checking CZ for  Boma\n",
      "Checking CZ for  Şalālah\n",
      "Checking CZ for  Medford\n",
      "Checking CZ for  Langsa\n",
      "Checking CZ for  Split\n",
      "Checking CZ for  Jīma\n",
      "Checking CZ for  Basel\n",
      "Checking CZ for  Teziutlan\n",
      "Checking CZ for  Danbury\n",
      "Checking CZ for  Kandi\n",
      "Checking CZ for  Nijmegen\n",
      "Checking CZ for  Unnāo\n",
      "Checking CZ for  Dundo\n",
      "Checking CZ for  Meiktila\n",
      "Checking CZ for  Loum\n",
      "Checking CZ for  La Pintana\n",
      "Checking CZ for  Lin’an\n",
      "Checking CZ for  Almada\n",
      "Checking CZ for  Shibīn al Kawm\n",
      "Checking CZ for  Alleppey\n",
      "Checking CZ for  Ciudad Valles\n",
      "Checking CZ for  Kadugli\n",
      "Checking CZ for  Linhares\n",
      "Checking CZ for  San Luis Río Colorado\n",
      "Checking CZ for  Letpandan\n",
      "Checking CZ for  Hamilton\n",
      "Checking CZ for  Rio Verde\n",
      "Checking CZ for  Wārāseonī\n",
      "Checking CZ for  Mauli\n",
      "Checking CZ for  Bejaïa\n",
      "Checking CZ for  Biu\n",
      "Checking CZ for  Saint-Louis\n",
      "ERROR Saint-Louis\n",
      "Checking CZ for  Krasnogorsk\n",
      "Checking CZ for  Catumbela\n",
      "Checking CZ for  Ereğli\n",
      "Checking CZ for  Shibirghān\n",
      "Checking CZ for  El Bosque\n",
      "Checking CZ for  Santa María Texmelucan\n",
      "Checking CZ for  Elk Grove\n",
      "Checking CZ for  Matosinhos\n",
      "Checking CZ for  Les Cayes\n",
      "Checking CZ for  Salatiga\n",
      "Checking CZ for  Marāgheh\n",
      "Checking CZ for  Kotdwāra\n",
      "Checking CZ for  Ontario\n",
      "Checking CZ for  Plzeň\n",
      "Checking CZ for  Amadora\n",
      "Checking CZ for  Chicoloapan\n",
      "Checking CZ for  Frederick\n",
      "Checking CZ for  Khānaqīn\n",
      "Checking CZ for  Yangmei\n",
      "Checking CZ for  Sīrjān\n",
      "Checking CZ for  Bodrum\n",
      "Checking CZ for  Harar\n",
      "Checking CZ for  Narashino\n",
      "Checking CZ for  Curug\n",
      "Checking CZ for  Vero Beach South\n",
      "Checking CZ for  Thành Phố Uông Bí\n",
      "Checking CZ for  Ocala\n",
      "Checking CZ for  Cianjur\n",
      "Checking CZ for  Menemen\n",
      "Checking CZ for  Luziânia\n",
      "Checking CZ for  Oceanside\n",
      "Checking CZ for  Dagupan City\n",
      "Checking CZ for  Baranavichy\n",
      "Checking CZ for  Habaswein\n",
      "Checking CZ for  Burgos\n",
      "Checking CZ for  León\n",
      "Checking CZ for  Gliwice\n",
      "Checking CZ for  Piedras Negras\n",
      "Checking CZ for  Rancho Cucamonga\n",
      "Checking CZ for  Linjiang\n",
      "Checking CZ for  Carúpano\n",
      "Checking CZ for  Bida\n",
      "Checking CZ for  Saint-Étienne\n",
      "ERROR Saint-Étienne\n",
      "Checking CZ for  Cuddalore\n",
      "Checking CZ for  Olsztyn\n",
      "Checking CZ for  Tlemcen\n",
      "Checking CZ for  Lubao\n",
      "Checking CZ for  Mexico\n",
      "Checking CZ for  Shāhīn Shahr\n",
      "Checking CZ for  Syzran\n",
      "Checking CZ for  Deo\n",
      "Checking CZ for  Akhisar\n",
      "Checking CZ for  Kamakurayama\n",
      "Checking CZ for  Hạ Long\n",
      "ERROR Hạ Long\n",
      "Checking CZ for  Rantau Prapat\n",
      "Checking CZ for  Silchar\n",
      "Checking CZ for  Chīrāla\n",
      "Checking CZ for  Gadag\n",
      "Checking CZ for  Albacete\n",
      "Checking CZ for  Mang La\n",
      "Checking CZ for  Hitachi\n",
      "Checking CZ for  Garden Grove\n",
      "Checking CZ for  Barrie\n",
      "Checking CZ for  Polomolok\n",
      "Checking CZ for  Castellón de la Plana\n",
      "Checking CZ for  Ongata Rongai\n",
      "Checking CZ for  Ludwigshafen\n",
      "Checking CZ for  Sacaba\n",
      "Checking CZ for  General Mariano Alvarez\n",
      "Checking CZ for  Banyuwangi\n",
      "Checking CZ for  Lagos de Moreno\n",
      "Checking CZ for  Sầm Sơn\n",
      "Checking CZ for  Tiruvannāmalai\n",
      "Checking CZ for  Kindu\n",
      "Checking CZ for  Kaolack\n",
      "Checking CZ for  Bīdar\n",
      "Checking CZ for  Moca\n",
      "Checking CZ for  Santander\n",
      "Checking CZ for  Oeiras\n",
      "Checking CZ for  San Miguel\n",
      "Checking CZ for  Bade\n",
      "Checking CZ for  Izumo\n",
      "Checking CZ for  Reggio Emilia\n",
      "Checking CZ for  Ait Melloul\n",
      "Checking CZ for  Cazanga\n",
      "Checking CZ for  Cary\n",
      "Checking CZ for  Volgodonsk\n",
      "Checking CZ for  Surigao\n",
      "Checking CZ for  Makurdi\n",
      "Checking CZ for  Mülheim\n",
      "Checking CZ for  Bảo Lộc\n",
      "Checking CZ for  Alcorcón\n",
      "Checking CZ for  Kohat\n",
      "Checking CZ for  Petite Rivière de l’Artibonite\n",
      "Checking CZ for  Ussuriysk\n",
      "Checking CZ for  Oldenburg\n",
      "Checking CZ for  Pembroke Pines\n",
      "Checking CZ for  Loja\n",
      "Checking CZ for  Escuintla\n",
      "Checking CZ for  Malāyer\n",
      "Checking CZ for  Tomakomai\n",
      "Checking CZ for  Aplahoué\n",
      "Checking CZ for  Valsād\n",
      "Checking CZ for  Bayamón\n",
      "Checking CZ for  Machilīpatnam\n",
      "Checking CZ for  Comitán\n",
      "Checking CZ for  Portmore\n",
      "Checking CZ for  As Suwayq\n",
      "ERROR As Suwayq\n",
      "Checking CZ for  Métouia\n",
      "Checking CZ for  Thingangyun\n",
      "Checking CZ for  Chūō-ku\n",
      "Checking CZ for  Concepcion\n",
      "Checking CZ for  San Luis\n",
      "Checking CZ for  Kamensk-Ural’skiy\n",
      "Checking CZ for  Cape Coast\n",
      "ERROR Cape Coast\n",
      "Checking CZ for  Kluang\n",
      "Checking CZ for  Magwe\n",
      "Checking CZ for  Tebingtinggi\n",
      "Checking CZ for  Urayasu\n",
      "Checking CZ for  Puerto Montt\n",
      "Checking CZ for  Le Havre\n",
      "ERROR Le Havre\n",
      "Checking CZ for  Al Marj\n",
      "Checking CZ for  Saḩāb\n",
      "Checking CZ for  Caluquembe\n",
      "Checking CZ for  Fenglu\n",
      "Checking CZ for  Petarukan\n",
      "Checking CZ for  Medinīpur\n",
      "Checking CZ for  Sŏsan\n",
      "Checking CZ for  Minbya\n",
      "Checking CZ for  Santa Rita\n",
      "Checking CZ for  Batumi\n",
      "Checking CZ for  Sakura\n",
      "Checking CZ for  Chetumal\n",
      "Checking CZ for  Nishio\n",
      "Checking CZ for  Damoh\n",
      "Checking CZ for  Kalalé\n",
      "Checking CZ for  Novocherkassk\n",
      "Checking CZ for  Toliara\n",
      "Checking CZ for  Calabozo\n",
      "Checking CZ for  Baliuag\n",
      "Checking CZ for  Mahābād\n",
      "Checking CZ for  Neyveli\n",
      "Checking CZ for  Bordj Bou Arreridj\n",
      "Checking CZ for  Francisco Morato\n",
      "Checking CZ for  Hŭich’ŏn\n",
      "Checking CZ for  Ilford\n",
      "Checking CZ for  Gondomar\n",
      "Checking CZ for  Malanville\n",
      "Checking CZ for  Palmdale\n",
      "Checking CZ for  Bāramūla\n",
      "Checking CZ for  Zlatoust\n",
      "Checking CZ for  Jamālpur\n",
      "Checking CZ for  Oyama\n",
      "Checking CZ for  Ríohacha\n",
      "Checking CZ for  Catape\n",
      "Checking CZ for  Villa Canales\n",
      "Checking CZ for  Katha\n",
      "Checking CZ for  Basuo\n",
      "Checking CZ for  Jīnd\n",
      "Checking CZ for  Manchester\n",
      "Checking CZ for  Pátra\n",
      "Checking CZ for  Guarapuava\n",
      "Checking CZ for  Itapecerica da Serra\n",
      "Checking CZ for  Sirājganj\n",
      "Checking CZ for  Mogok\n",
      "Checking CZ for  Itu\n",
      "Checking CZ for  Jutiapa\n",
      "Checking CZ for  Chandannagar\n",
      "Checking CZ for  Lafayette\n",
      "Checking CZ for  Çerkezköy\n",
      "Checking CZ for  Tiantoujiao\n",
      "Checking CZ for  Sampit\n",
      "Checking CZ for  Uppsala\n",
      "Checking CZ for  Ādoni\n",
      "Checking CZ for  Tuguegarao\n",
      "ERROR Tuguegarao\n",
      "Checking CZ for  Siirt\n",
      "Checking CZ for  Kuytun\n",
      "Checking CZ for  Al Kūfah\n",
      "Checking CZ for  Ipiales\n",
      "Checking CZ for  Oshawa\n",
      "Checking CZ for  Ratnapura\n",
      "Checking CZ for  Santa Cruz\n",
      "Checking CZ for  Takaoka\n",
      "Checking CZ for  Tanjungbalai\n",
      "Checking CZ for  Kushiro\n",
      "Checking CZ for  Iwata\n",
      "Checking CZ for  Obihiro\n",
      "Checking CZ for  Perugia\n",
      "Checking CZ for  Sawangan\n",
      "Checking CZ for  Béchar\n",
      "Checking CZ for  Körfez\n",
      "Checking CZ for  Warrington\n",
      "Checking CZ for  Udipi\n",
      "Checking CZ for  Midsayap\n",
      "Checking CZ for  Saqqez\n",
      "Checking CZ for  Tam Kỳ\n",
      "Checking CZ for  Fyzābād\n",
      "Checking CZ for  Ambato\n",
      "Checking CZ for  Kökshetaū\n",
      "Checking CZ for  Ebo\n",
      "Checking CZ for  Talas\n",
      "Checking CZ for  Osnabrück\n",
      "Checking CZ for  Fukang\n",
      "Checking CZ for  Idlib\n",
      "Checking CZ for  Tenāli\n",
      "Checking CZ for  Cienfuegos\n",
      "Checking CZ for  Türkistan\n",
      "Checking CZ for  San Andrés Tuxtla\n",
      "Checking CZ for  Bocoio\n",
      "Checking CZ for  Marysville\n",
      "Checking CZ for  Niiza\n",
      "Checking CZ for  Pikit\n",
      "Checking CZ for  Abengourou\n",
      "Checking CZ for  Conjeeveram\n",
      "Checking CZ for  Klaipėda\n",
      "Checking CZ for  Hadano\n",
      "Checking CZ for  Chillán\n",
      "Checking CZ for  Abū Ḩulayfah\n",
      "Checking CZ for  Muskegon\n",
      "Checking CZ for  Arnhem\n",
      "Checking CZ for  Quibala\n",
      "Checking CZ for  Proddatūr\n",
      "Checking CZ for  Tunja\n",
      "Checking CZ for  Leverkusen\n",
      "Checking CZ for  Myingyan\n",
      "Checking CZ for  Teresópolis\n",
      "Checking CZ for  San Marcos\n",
      "Checking CZ for  ‘Unayzah\n",
      "Checking CZ for  Sultānpur Mazra\n",
      "Checking CZ for  Wāpi\n",
      "Checking CZ for  Wau\n",
      "Checking CZ for  Pocheon\n",
      "Checking CZ for  Skikda\n",
      "Checking CZ for  Muzaffargarh\n",
      "Checking CZ for  Muridke\n",
      "Checking CZ for  Kebili\n",
      "Checking CZ for  Turgutlu\n",
      "Checking CZ for  Jizzax\n",
      "Checking CZ for  São José de Ribamar\n",
      "Checking CZ for  Kyaunggon\n",
      "Checking CZ for  Ipswich\n",
      "Checking CZ for  Huddersfield\n",
      "Checking CZ for  Haarlem\n",
      "Checking CZ for  Ube\n",
      "Checking CZ for  Bandar-e Māhshahr\n",
      "Checking CZ for  Simao\n",
      "Checking CZ for  Anaco\n",
      "Checking CZ for  Springfield\n",
      "Checking CZ for  Gölcük\n",
      "Checking CZ for  Tuxtepec\n",
      "Checking CZ for  Sullana\n",
      "Checking CZ for  Hayward\n",
      "Checking CZ for  Andong\n",
      "Checking CZ for  Mukono\n",
      "Checking CZ for  Chitaldrug\n",
      "Checking CZ for  São Caetano do Sul\n",
      "Checking CZ for  Godhra\n",
      "Checking CZ for  Rafsanjān\n",
      "Checking CZ for  Brahmanpara\n",
      "Checking CZ for  Sariaya\n",
      "Checking CZ for  Multai\n",
      "Checking CZ for  Metro\n",
      "Checking CZ for  Pristina\n",
      "Checking CZ for  Nador\n",
      "Checking CZ for  Guadalajara\n",
      "Checking CZ for  Tema\n",
      "Checking CZ for  Zemun\n",
      "Checking CZ for  Ndalatando\n",
      "Checking CZ for  Salihli\n",
      "Checking CZ for  Jequié\n",
      "Checking CZ for  Rājapālaiyam\n",
      "ERROR Rājapālaiyam\n",
      "Checking CZ for  Zhanlicun\n",
      "ERROR Zhanlicun\n",
      "Checking CZ for  Bontang\n",
      "ERROR Bontang\n",
      "Checking CZ for  Jinggang\n",
      "Checking CZ for  Sherbrooke\n",
      "ERROR Sherbrooke\n",
      "Checking CZ for  Ash Shīḩānīyah\n",
      "ERROR Ash Shīḩānīyah\n",
      "Checking CZ for  Apeldoorn\n",
      "Checking CZ for  Papantla de Olarte\n",
      "Checking CZ for  Tulancingo\n",
      "ERROR Tulancingo\n",
      "Checking CZ for  Tacheng\n",
      "Checking CZ for  Kandy\n",
      "ERROR Kandy\n",
      "Checking CZ for  Tân Phú\n",
      "ERROR Tân Phú\n",
      "Checking CZ for  Bhisho\n",
      "ERROR Bhisho\n",
      "Checking CZ for  Naic\n",
      "ERROR Naic\n",
      "Checking CZ for  General Roca\n",
      "Checking CZ for  Zaranj\n",
      "Checking CZ for  Al Ghardaqah\n",
      "ERROR Al Ghardaqah\n",
      "Checking CZ for  Kidapawan\n",
      "ERROR Kidapawan\n",
      "Checking CZ for  Chittoor\n",
      "ERROR Chittoor\n",
      "Checking CZ for  Bragança Paulista\n",
      "Checking CZ for  Pindamonhangaba\n",
      "Checking CZ for  Tabora\n",
      "ERROR Tabora\n",
      "Checking CZ for  Ceyhan\n",
      "ERROR Ceyhan\n",
      "Checking CZ for  Girón\n",
      "Checking CZ for  Đồng Hới\n",
      "Checking CZ for  Trà Vinh\n",
      "Checking CZ for  Khanpur\n",
      "Checking CZ for  Ferkessédougou\n",
      "Checking CZ for  Kingswood\n",
      "Checking CZ for  Southend\n",
      "Checking CZ for  Ciudad Acuña\n",
      "Checking CZ for  José María Ezeiza\n",
      "Checking CZ for  Khōst\n",
      "Checking CZ for  Koudougou\n",
      "Checking CZ for  Saint-Marc\n",
      "Checking CZ for  Ninh Bình\n",
      "Checking CZ for  Bingöl\n",
      "Checking CZ for  Dhamār\n",
      "Checking CZ for  San Nicolás de los Arroyos\n",
      "Checking CZ for  Tyre\n",
      "Checking CZ for  Huaycan\n",
      "Checking CZ for  Moga\n",
      "Checking CZ for  Miyakonojō\n",
      "Checking CZ for  Ede\n",
      "Checking CZ for  Ekibastuz\n",
      "Checking CZ for  Enschede\n",
      "Checking CZ for  Darmstadt\n",
      "Checking CZ for  Newport\n",
      "Checking CZ for  Kramatorsk\n",
      "Checking CZ for  Chirchiq\n",
      "ERROR Chirchiq\n",
      "Checking CZ for  Solingen\n",
      "Checking CZ for  Jijiga\n",
      "Checking CZ for  Heidelberg\n",
      "Checking CZ for  Budaun\n",
      "Checking CZ for  Ramat Gan\n",
      "Checking CZ for  Uttarpāra\n",
      "Checking CZ for  Catamarca\n",
      "Checking CZ for  Hat Yai\n",
      "Checking CZ for  Ravenna\n",
      "Checking CZ for  Arad\n",
      "Checking CZ for  Ibirité\n",
      "Checking CZ for  Quipungo\n",
      "Checking CZ for  Benoni\n",
      "Checking CZ for  Macuspana\n",
      "Checking CZ for  Zhengding\n",
      "Checking CZ for  Aral\n",
      "Checking CZ for  Cadiz\n",
      "Checking CZ for  Sāmarrā’\n",
      "Checking CZ for  Elektrostal\n",
      "Checking CZ for  Matsuzaka\n",
      "Checking CZ for  Ōgaki\n",
      "Checking CZ for  Livorno\n",
      "Checking CZ for  New Bedford\n",
      "Checking CZ for  Zabrze\n",
      "Checking CZ for  Río Cuarto\n",
      "Checking CZ for  Seixal\n",
      "ERROR Seixal\n",
      "Checking CZ for  Bharūch\n",
      "Checking CZ for  Ilagan\n",
      "Checking CZ for  Grenoble\n",
      "ERROR Grenoble\n",
      "Checking CZ for  Alexandria\n",
      "Checking CZ for  Guimarães\n",
      "Checking CZ for  La Laguna\n",
      "Checking CZ for  Dijon\n",
      "ERROR Dijon\n",
      "Checking CZ for  Paterson\n",
      "Checking CZ for  Gojra\n",
      "Checking CZ for  Corona\n",
      "Checking CZ for  Teixeira de Freitas\n",
      "Checking CZ for  Hoofddorp\n",
      "Checking CZ for  Fethiye\n",
      "Checking CZ for  Banhā\n",
      "Checking CZ for  Mahlaing\n",
      "Checking CZ for  Merced\n",
      "Checking CZ for  Calama\n",
      "Checking CZ for  San Miguel\n",
      "Checking CZ for  ’s-Hertogenbosch\n",
      "Checking CZ for  Amersfoort\n",
      "Checking CZ for  Erzincan\n",
      "Checking CZ for  Warner Robins\n",
      "Checking CZ for  George\n",
      "Checking CZ for  Mandi Bahauddin\n",
      "Checking CZ for  Châu Đốc\n",
      "Checking CZ for  Itapetininga\n",
      "Checking CZ for  Xiaping\n",
      "Checking CZ for  Port Arthur\n",
      "Checking CZ for  Nāblus\n",
      "Checking CZ for  Nan Zhuang\n",
      "Checking CZ for  Zaanstad\n",
      "Checking CZ for  Guaymas\n",
      "Checking CZ for  Enfield\n",
      "Checking CZ for  Kamina\n",
      "Checking CZ for  Nazilli\n",
      "Checking CZ for  Molo\n",
      "Checking CZ for  Lajes\n",
      "Checking CZ for  Macon\n",
      "Checking CZ for  Herne\n",
      "Checking CZ for  Saharsa\n",
      "Checking CZ for  Chaoshan\n",
      "Checking CZ for  Kétou\n",
      "Checking CZ for  Adzopé\n",
      "Checking CZ for  Danao\n",
      "Checking CZ for  Ghorāhī\n",
      "Checking CZ for  Capas\n",
      "Checking CZ for  Cẩm Phả\n",
      "Checking CZ for  Almetyevsk\n",
      "Checking CZ for  Al Miqdādīyah\n",
      "Checking CZ for  Vidisha\n",
      "Checking CZ for  Pathānkot\n",
      "Checking CZ for  Angers\n",
      "ERROR Angers\n",
      "Checking CZ for  Kansas City\n",
      "Checking CZ for  Ar Ramthā\n",
      "Checking CZ for  Bariadi\n",
      "Checking CZ for  Lakewood\n",
      "Checking CZ for  Borāzjān\n",
      "Checking CZ for  Tigaraksa\n",
      "Checking CZ for  Sunnyvale\n",
      "Checking CZ for  Kisi\n",
      "Checking CZ for  Timon\n",
      "Checking CZ for  Fredericksburg\n",
      "Checking CZ for  Horad Barysaw\n",
      "Checking CZ for  Piteşti\n",
      "Checking CZ for  Souk Ahras\n",
      "Checking CZ for  Daiwanishi\n",
      "Checking CZ for  Chlef\n",
      "Checking CZ for  Caxias\n",
      "Checking CZ for  Pandi\n",
      "Checking CZ for  Camarajibe\n",
      "Checking CZ for  El Eulma\n",
      "Checking CZ for  Salzburg\n",
      "Checking CZ for  Bartın\n",
      "Checking CZ for  Melitopol\n",
      "Checking CZ for  Thānesar\n",
      "Checking CZ for  Danzao\n",
      "Checking CZ for  Ŭiwang\n",
      "Checking CZ for  Hanam\n",
      "Checking CZ for  Zango\n",
      "Checking CZ for  Middelburg\n",
      "Checking CZ for  Alagoinhas\n",
      "Checking CZ for  Edremit\n",
      "Checking CZ for  Rudarpur\n",
      "Checking CZ for  Kitenkela\n",
      "Checking CZ for  Gandajika\n",
      "Checking CZ for  Bandırma\n",
      "Checking CZ for  Nalgonda\n",
      "Checking CZ for  Hitachi-Naka\n",
      "Checking CZ for  Lucapa\n",
      "Checking CZ for  Leesburg\n",
      "Checking CZ for  Cagliari\n",
      "Checking CZ for  Madīnat as Sādis min Uktūbar\n",
      "Checking CZ for  Esmeraldas\n",
      "Checking CZ for  Dibrugarh\n",
      "Checking CZ for  Ras Tanura\n",
      "ERROR Ras Tanura\n",
      "Checking CZ for  Barreiras\n",
      "Checking CZ for  Moanda\n",
      "Checking CZ for  Seogwipo\n",
      "Checking CZ for  Neuss\n",
      "Checking CZ for  Villanueva\n",
      "Checking CZ for  Palo Negro\n",
      "Checking CZ for  Verāval\n",
      "ERROR Verāval\n",
      "Checking CZ for  Regensburg\n",
      "Checking CZ for  Hoeryŏng\n",
      "Checking CZ for  Kırşehir\n",
      "Checking CZ for  Tochigi\n",
      "Checking CZ for  Bālurghāt\n",
      "Checking CZ for  Champaign\n",
      "Checking CZ for  Bytom\n",
      "Checking CZ for  San Jose\n",
      "Checking CZ for  Jorhāt\n",
      "Checking CZ for  Poblacion\n",
      "Checking CZ for  Ixtlahuaca\n",
      "Checking CZ for  Salavat\n",
      "Checking CZ for  Kariya\n",
      "Checking CZ for  Nevşehir\n",
      "Checking CZ for  Krishnanagar\n",
      "Checking CZ for  Sasolburg\n",
      "Checking CZ for  Dutse\n",
      "Checking CZ for  Newcastle\n",
      "Checking CZ for  Rafaḩ\n",
      "Checking CZ for  Ueda\n",
      "Checking CZ for  Tete\n",
      "Checking CZ for  Golmeh\n",
      "Checking CZ for  Vĩnh Yên\n",
      "Checking CZ for  Bārākpur\n",
      "Checking CZ for  Sinpo\n",
      "Checking CZ for  Hollywood\n",
      "Checking CZ for  Paderborn\n",
      "Checking CZ for  Ciudad Choluteca\n",
      "Checking CZ for  Poços de Caldas\n",
      "Checking CZ for  Hòa Thành\n",
      "Checking CZ for  Mudon\n",
      "Checking CZ for  Amatitlán\n",
      "Checking CZ for  Gulu\n",
      "Checking CZ for  Noda\n",
      "Checking CZ for  Villeurbanne\n",
      "ERROR Villeurbanne\n",
      "Checking CZ for  Baubau\n",
      "Checking CZ for  Kawashiri\n",
      "Checking CZ for  San Martin Texmelucan de Labastida\n",
      "Checking CZ for  Oxford\n",
      "Checking CZ for  Pasadena\n",
      "Checking CZ for  Abaetetuba\n",
      "Checking CZ for  Gonbad-e Kāvūs\n",
      "Checking CZ for  Miass\n",
      "Checking CZ for  Gwangyang\n",
      "Checking CZ for  Al Manāqil\n",
      "Checking CZ for  Shāntipur\n",
      "Checking CZ for  Dīla\n",
      "Checking CZ for  Hindupur\n",
      "Checking CZ for  Pomona\n",
      "Checking CZ for  Beāwar\n",
      "Checking CZ for  Escondido\n",
      "Checking CZ for  Bhālswa Jahangirpur\n",
      "Checking CZ for  Nakhodka\n",
      "Checking CZ for  Foggia\n",
      "Checking CZ for  Aş Şuwayḩirah as Sāḩil\n",
      "Checking CZ for  Iringa\n",
      "Checking CZ for  Tauranga\n",
      "Checking CZ for  Erode\n",
      "Checking CZ for  Dahuaishu\n",
      "Checking CZ for  Minglanilla\n",
      "Checking CZ for  Manzanillo\n",
      "Checking CZ for  Podgorica\n",
      "Checking CZ for  Chichicastenango\n",
      "Checking CZ for  Đức Phổ\n",
      "Checking CZ for  San Jose\n",
      "Checking CZ for  Patos de Minas\n",
      "Checking CZ for  Quevedo\n",
      "Checking CZ for  Logroño\n",
      "Checking CZ for  Copiapó\n",
      "Checking CZ for  Marbella\n",
      "Checking CZ for  Miskolc\n",
      "Checking CZ for  Colima\n",
      "Checking CZ for  Pôrto Seguro\n",
      "Checking CZ for  Kragujevac\n",
      "Checking CZ for  Badajoz\n",
      "Checking CZ for  Delicias\n",
      "Checking CZ for  Araguaína\n",
      "Checking CZ for  Higashimurayama\n",
      "Checking CZ for  Jaranwala\n",
      "Checking CZ for  Singida\n",
      "Checking CZ for  Nāngloi Jāt\n",
      "Checking CZ for  Kolār\n",
      "Checking CZ for  Joliet\n",
      "Checking CZ for  Kukichūō\n",
      "Checking CZ for  Fengyicun\n",
      "Checking CZ for  Shāhrūd\n",
      "Checking CZ for  Mzuzu\n",
      "Checking CZ for  Valle de Santiago\n",
      "Checking CZ for  Đồng Xoài\n",
      "Checking CZ for  Valdivia\n",
      "Checking CZ for  Lake Charles\n",
      "Checking CZ for  Naogaon\n",
      "Checking CZ for  Vryheid\n",
      "Checking CZ for  Soro\n",
      "Checking CZ for  Tororo\n",
      "Checking CZ for  Borj Hammoud\n",
      "Checking CZ for  Urganch\n",
      "Checking CZ for  Sievierodonetsk\n",
      "Checking CZ for  Willemstad\n",
      "Checking CZ for  Auchi\n",
      "Checking CZ for  Yilan\n",
      "Checking CZ for  M’Sila\n",
      "Checking CZ for  Ocumare del Tuy\n",
      "Checking CZ for  Chauk Azam\n",
      "Checking CZ for  Kashikishi\n",
      "Checking CZ for  Lalian\n",
      "Checking CZ for  El Minié\n",
      "Checking CZ for  Pénjamo\n",
      "Checking CZ for  Mariveles\n",
      "Checking CZ for  Mesquite\n",
      "Checking CZ for  Saumlaki\n",
      "Checking CZ for  Villa de Álvarez\n",
      "Checking CZ for  Mauldin\n",
      "Checking CZ for  Nîmes\n",
      "Checking CZ for  Kerch\n",
      "Checking CZ for  Concordia\n",
      "Checking CZ for  Rimini\n",
      "Checking CZ for  Panama City\n",
      "Checking CZ for  Bellevue\n",
      "Checking CZ for  Bohicon\n",
      "Checking CZ for  Harrow\n",
      "Checking CZ for  Imabari\n",
      "Checking CZ for  Port Louis\n",
      "Checking CZ for  Ağrı\n",
      "Checking CZ for  Amasya\n",
      "Checking CZ for  Maīmanah\n",
      "Checking CZ for  Naperville\n",
      "Checking CZ for  Musashino\n",
      "Checking CZ for  Kastamonu\n",
      "Checking CZ for  Sagay\n",
      "Checking CZ for  ‘Ajlūn\n",
      "Checking CZ for  Marvdasht\n",
      "Checking CZ for  Potchefstroom\n",
      "Checking CZ for  Nek’emtē\n",
      "Checking CZ for  Abbottabad\n",
      "Checking CZ for  Santiago\n",
      "Checking CZ for  Bandar-e Anzalī\n",
      "Checking CZ for  Harlingen\n",
      "Checking CZ for  Tuscaloosa\n",
      "Checking CZ for  Sayama\n",
      "Checking CZ for  Taza\n",
      "Checking CZ for  Jean-Rabel\n",
      "Checking CZ for  Al ‘Aqabah\n",
      "Checking CZ for  Dundee\n",
      "Checking CZ for  Sitārganj\n",
      "Checking CZ for  Al Ḩawīyah\n",
      "Checking CZ for  Lüleburgaz\n",
      "Checking CZ for  Consolacion\n",
      "Checking CZ for  Mbanza Kongo\n",
      "Checking CZ for  Quilpué\n",
      "Checking CZ for  Rafael Castillo\n",
      "Checking CZ for  Zhangaözen\n",
      "Checking CZ for  Nchelenge\n",
      "Checking CZ for  Szombathely\n",
      "Checking CZ for  Kutaisi\n",
      "Checking CZ for  Komaki\n",
      "Checking CZ for  Kiambu\n",
      "Checking CZ for  Siem Reap\n",
      "Checking CZ for  Clermont-Ferrand\n",
      "ERROR Clermont-Ferrand\n",
      "Checking CZ for  Talcahuano\n",
      "Checking CZ for  Turbat\n",
      "Checking CZ for  Orekhovo-Borisovo Yuzhnoye\n",
      "Checking CZ for  Hājīpur\n",
      "Checking CZ for  Elkhart\n",
      "Checking CZ for  Kopeysk\n",
      "Checking CZ for  Al Qurayyāt\n",
      "Checking CZ for  Mati\n",
      "Checking CZ for  Sumbawanga\n",
      "Checking CZ for  Osorno\n",
      "Checking CZ for  Malakal\n",
      "Checking CZ for  Chingola\n",
      "Checking CZ for  Mangghystaū\n",
      "Checking CZ for  Kafr ash Shaykh\n",
      "Checking CZ for  Hưng Yên\n",
      "Checking CZ for  Tama\n",
      "Checking CZ for  Sibiu\n",
      "Checking CZ for  Mogi Guaçu\n",
      "Checking CZ for  Dongsheng\n",
      "Checking CZ for  Hābra\n",
      "Checking CZ for  Yonago\n",
      "Checking CZ for  Torrance\n",
      "Checking CZ for  Nowgong\n",
      "Checking CZ for  Ramapo\n",
      "Checking CZ for  Maquela do Zombo\n",
      "Checking CZ for  Wamba\n",
      "Checking CZ for  Binghamton\n",
      "Checking CZ for  Cairns\n",
      "ERROR Cairns\n",
      "Checking CZ for  Cam Ranh\n",
      "Checking CZ for  Bīr\n",
      "Checking CZ for  Florencio Varela\n",
      "Checking CZ for  Houma\n",
      "Checking CZ for  Odintsovo\n",
      "Checking CZ for  Keren\n",
      "Checking CZ for  Dar‘ā\n",
      "Checking CZ for  Topeka\n",
      "Checking CZ for  West Bromwich\n",
      "Checking CZ for  Riobamba\n",
      "Checking CZ for  Colina\n",
      "Checking CZ for  Dadu\n",
      "Checking CZ for  Pauktaw\n",
      "Checking CZ for  Taungdwingyi\n",
      "Checking CZ for  Nārnaul\n",
      "Checking CZ for  García\n",
      "Checking CZ for  Pyatigorsk\n",
      "Checking CZ for  Calapan\n",
      "Checking CZ for  Iruma\n",
      "Checking CZ for  Franco da Rocha\n",
      "Checking CZ for  Parnaíba\n",
      "Checking CZ for  Mostaganem\n",
      "Checking CZ for  Roseville\n",
      "Checking CZ for  Etah\n",
      "Checking CZ for  Baní\n",
      "Checking CZ for  Gloucester\n",
      "Checking CZ for  Qūchān\n",
      "Checking CZ for  Ereğli\n",
      "Checking CZ for  Rubtsovsk\n",
      "Checking CZ for  Abohar\n",
      "Checking CZ for  Thanatpin\n",
      "Checking CZ for  Matanzas\n",
      "Checking CZ for  Bhāndāria\n",
      "Checking CZ for  Fairfield\n",
      "Checking CZ for  Aix-en-Provence\n",
      "Checking CZ for  Berezniki\n",
      "Checking CZ for  Villa de Cura\n",
      "Checking CZ for  Khairpur Mir’s\n",
      "Checking CZ for  Flores\n",
      "Checking CZ for  Kaithal\n",
      "Checking CZ for  Arayat\n",
      "Checking CZ for  David\n",
      "Checking CZ for  Poole\n",
      "Checking CZ for  Comayagua\n",
      "Checking CZ for  Yima\n",
      "Checking CZ for  Saguenay\n",
      "Checking CZ for  Moshi\n",
      "Checking CZ for  Lárisa\n",
      "Checking CZ for  Urdaneta\n",
      "Checking CZ for  Odivelas\n",
      "Checking CZ for  Xintang\n",
      "Checking CZ for  Vólos\n",
      "Checking CZ for  Yalova\n",
      "Checking CZ for  Barranca\n",
      "Checking CZ for  Bacău\n",
      "Checking CZ for  Kumba\n",
      "Checking CZ for  Mehtar Lām\n",
      "Checking CZ for  Al Mukallā\n",
      "Checking CZ for  Kolomna\n",
      "Checking CZ for  Cinere\n",
      "Checking CZ for  Chhatarpur\n",
      "Checking CZ for  Ruse\n",
      "Checking CZ for  Asaka\n",
      "Checking CZ for  Tyler\n",
      "Checking CZ for  Ramu\n",
      "Checking CZ for  Le Mans\n",
      "ERROR Le Mans\n",
      "Checking CZ for  Kakamigahara\n",
      "Checking CZ for  Yopal\n",
      "Checking CZ for  Aalborg\n",
      "Checking CZ for  Koiridih\n",
      "Checking CZ for  Bandundu\n",
      "Checking CZ for  Lévis\n",
      "Checking CZ for  Disūq\n",
      "Checking CZ for  Calabayan\n",
      "Checking CZ for  Coimbra\n",
      "Checking CZ for  Ghaznī\n",
      "Checking CZ for  Jaú\n",
      "Checking CZ for  Salamanca\n",
      "Checking CZ for  Kusatsu\n",
      "Checking CZ for  Shillong\n",
      "Checking CZ for  Cizre\n",
      "Checking CZ for  Jaraguá do Sul\n",
      "Checking CZ for  Malasiqui\n",
      "Checking CZ for  Sannār\n",
      "Checking CZ for  Los Ángeles\n",
      "Checking CZ for  Rewāri\n",
      "Checking CZ for  Paghmān\n",
      "Checking CZ for  Elbistan\n",
      "Checking CZ for  Birkenhead\n",
      "Checking CZ for  Bizerte\n",
      "Checking CZ for  Fullerton\n",
      "Checking CZ for  Jinjiang\n",
      "Checking CZ for  Ashikaga\n",
      "Checking CZ for  Pueblo\n",
      "Checking CZ for  Telford\n",
      "Checking CZ for  Khān Yūnis\n",
      "Checking CZ for  Huelva\n",
      "Checking CZ for  Moundou\n",
      "Checking CZ for  Nizip\n",
      "Checking CZ for  Nawābganj\n",
      "Checking CZ for  Toda\n",
      "Checking CZ for  Athens\n",
      "Checking CZ for  Lichinga\n",
      "Checking CZ for  Settat\n",
      "Checking CZ for  Santa Maria\n",
      "Checking CZ for  Bhīmavaram\n",
      "Checking CZ for  Kelowna\n",
      "Checking CZ for  Negombo\n",
      "Checking CZ for  Okinawa\n",
      "Checking CZ for  Namacunde\n",
      "Checking CZ for  Tetovo\n",
      "Checking CZ for  Boca Chica\n",
      "Checking CZ for  Altay\n",
      "Checking CZ for  Maykop\n",
      "Checking CZ for  Bahawalnagar\n",
      "Checking CZ for  Kisaran\n",
      "Checking CZ for  Misato\n",
      "Checking CZ for  Surprise\n",
      "Checking CZ for  Moriguchi\n",
      "Checking CZ for  Preston\n",
      "Checking CZ for  Kamālshahr\n",
      "Checking CZ for  Mandsaur\n",
      "Checking CZ for  Charleston\n",
      "Checking CZ for  Jahrom\n",
      "Checking CZ for  Bondoukou\n",
      "Checking CZ for  Nong’an\n",
      "Checking CZ for  Jyväskylä\n",
      "Checking CZ for  Bocaue\n",
      "Checking CZ for  Las Cruces\n",
      "Checking CZ for  Abbotsford\n",
      "Checking CZ for  Khuzdar\n",
      "Checking CZ for  Fukayachō\n",
      "Checking CZ for  Tepatitlán de Morelos\n",
      "Checking CZ for  Pemba\n",
      "ERROR Pemba\n",
      "Checking CZ for  Bilbays\n",
      "Checking CZ for  Gweru\n",
      "Checking CZ for  Khasavyurt\n",
      "Checking CZ for  Rize\n",
      "Checking CZ for  Rio das Ostras\n",
      "Checking CZ for  Las Margaritas\n",
      "Checking CZ for  Rybnik\n",
      "Checking CZ for  Tabaco\n",
      "Checking CZ for  Fujita\n",
      "Checking CZ for  Lleida\n",
      "Checking CZ for  Porac\n",
      "Checking CZ for  Mejicanos\n",
      "Checking CZ for  Krugersdorp\n",
      "Checking CZ for  Metairie\n",
      "Checking CZ for  Middlesbrough\n",
      "Checking CZ for  Thornton\n",
      "Checking CZ for  Shizhaobi\n",
      "Checking CZ for  Paranaguá\n",
      "Checking CZ for  Iguala de la Independencia\n",
      "Checking CZ for  Olathe\n",
      "Checking CZ for  Ozamiz City\n",
      "Checking CZ for  Yaritagua\n",
      "Checking CZ for  Pécs\n",
      "Checking CZ for  Centro Habana\n",
      "Checking CZ for  Kumbakonam\n",
      "Checking CZ for  Cuautitlán Izcalli\n",
      "Checking CZ for  Torbat-e Ḩeydarīyeh\n",
      "Checking CZ for  Xiangcheng\n",
      "Checking CZ for  Nāḩiyat Ghammās\n",
      "Checking CZ for  Batu Pahat\n",
      "Checking CZ for  Peristéri\n",
      "Checking CZ for  Brest\n",
      "ERROR Brest\n",
      "Checking CZ for  Dawei\n",
      "Checking CZ for  Fusagasugá\n",
      "Checking CZ for  Atbara\n",
      "Checking CZ for  Kanasín\n",
      "Checking CZ for  Giá Rai\n",
      "Checking CZ for  Carolina\n",
      "Checking CZ for  Debre Birhan\n",
      "Checking CZ for  La Romana\n",
      "Checking CZ for  Quảng Yên\n",
      "ERROR Quảng Yên\n",
      "Checking CZ for  Masaya\n",
      "Checking CZ for  Momostenango\n",
      "Checking CZ for  Pakpattan\n",
      "Checking CZ for  Gainesville\n",
      "Checking CZ for  Botucatu\n",
      "Checking CZ for  Jicheon\n",
      "Checking CZ for  Tanay\n",
      "Checking CZ for  West Valley City\n",
      "Checking CZ for  Blackpool\n",
      "Checking CZ for  Coquitlam\n",
      "Checking CZ for  Orange\n",
      "Checking CZ for  Lausanne\n",
      "Checking CZ for  Subang\n",
      "Checking CZ for  Warren\n",
      "Checking CZ for  Pīrānshahr\n",
      "Checking CZ for  Ishizaki\n",
      "Checking CZ for  Çarşamba\n",
      "Checking CZ for  Kuwana\n",
      "Checking CZ for  Pasadena\n",
      "Checking CZ for  Kovrov\n",
      "Checking CZ for  Sancti Spíritus\n",
      "Checking CZ for  Médéa\n",
      "Checking CZ for  Teluknaga\n",
      "Checking CZ for  Koga\n",
      "Checking CZ for  Dipolog\n",
      "ERROR Dipolog\n",
      "Checking CZ for  Dabou\n",
      "Checking CZ for  Boca del Rio\n",
      "Checking CZ for  Ingolstadt\n",
      "Checking CZ for  Jacmel\n",
      "Checking CZ for  Chicacole\n",
      "Checking CZ for  Montero\n",
      "Checking CZ for  Shūnan\n",
      "Checking CZ for  Candelaria\n",
      "Checking CZ for  Silivri\n",
      "Checking CZ for  Tsuchiura\n",
      "Checking CZ for  Umtata\n",
      "Checking CZ for  Brusque\n",
      "Checking CZ for  Iğdır\n",
      "Checking CZ for  Dos Hermanas\n",
      "Checking CZ for  Negage\n",
      "Checking CZ for  Beaumont\n",
      "Checking CZ for  La Trinidad\n",
      "Checking CZ for  Bānkura\n",
      "Checking CZ for  Mandya\n",
      "Checking CZ for  Palhoça\n",
      "Checking CZ for  Norrköping\n",
      "Checking CZ for  Jolo\n",
      "Checking CZ for  Cunduacán\n",
      "Checking CZ for  Dehri\n",
      "Checking CZ for  Ch’ungmu\n",
      "ERROR Ch’ungmu\n",
      "Checking CZ for  Myebon\n",
      "Checking CZ for  Atibaia\n",
      "Checking CZ for  Quillacollo\n",
      "Checking CZ for  Medina Estates\n",
      "Checking CZ for  Gunungsitoli\n",
      "ERROR Gunungsitoli\n",
      "Checking CZ for  Burlington\n",
      "Checking CZ for  Tours\n",
      "ERROR Tours\n",
      "Checking CZ for  Rangkasbitung\n",
      "Checking CZ for  Porto Amboim\n",
      "ERROR Porto Amboim\n",
      "Checking CZ for  Minō\n",
      "Checking CZ for  Curicó\n",
      "Checking CZ for  Garanhuns\n",
      "Checking CZ for  Livingstone\n",
      "Checking CZ for  Vila Franca de Xira\n",
      "ERROR Vila Franca de Xira\n",
      "Checking CZ for  Gisenyi\n",
      "Checking CZ for  Darwin\n",
      "Checking CZ for  Igboho\n",
      "Checking CZ for  Hampton\n",
      "Checking CZ for  Columbia\n",
      "Checking CZ for  Gingoog\n",
      "Checking CZ for  Phủ Lý\n",
      "Checking CZ for  Marīvān\n",
      "Checking CZ for  Huehuetenango\n",
      "Checking CZ for  Barrechid\n",
      "Checking CZ for  San Justo\n",
      "Checking CZ for  Shizuishan\n",
      "Checking CZ for  Khargone\n",
      "Checking CZ for  Nasugbu\n",
      "Checking CZ for  Quimbele\n",
      "Checking CZ for  Bima\n",
      "Checking CZ for  Stara Zagora\n",
      "Checking CZ for  Port-Gentil\n",
      "Checking CZ for  Carcar\n",
      "Checking CZ for  Qabr as Sitt\n",
      "Checking CZ for  Chech’ŏn\n",
      "Checking CZ for  San José del Cabo\n",
      "Checking CZ for  Pageralam\n",
      "Checking CZ for  Termiz\n",
      "Checking CZ for  Zinacantepec\n",
      "Checking CZ for  Kisarazu\n",
      "Checking CZ for  Norzagaray\n",
      "Checking CZ for  Yaizu\n",
      "Checking CZ for  Ağcabədi\n",
      "Checking CZ for  Yuma\n",
      "Checking CZ for  Giresun\n",
      "Checking CZ for  Birgañj\n",
      "Checking CZ for  Tobruk\n",
      "Checking CZ for  Elizabeth\n",
      "Checking CZ for  Reykjavík\n",
      "Checking CZ for  Toowoomba\n",
      "Checking CZ for  Ebina\n",
      "Checking CZ for  Floridablanca\n",
      "Checking CZ for  Gitega\n",
      "Checking CZ for  Rionegro\n",
      "Checking CZ for  Lira\n",
      "Checking CZ for  Tarragona\n",
      "Checking CZ for  Raigarh\n",
      "Checking CZ for  Racine\n",
      "Checking CZ for  Pyay\n",
      "Checking CZ for  Maia\n",
      "Checking CZ for  Ituzaingó\n",
      "Checking CZ for  Greeley\n",
      "Checking CZ for  Tây Ninh\n",
      "Checking CZ for  Kigoma\n",
      "Checking CZ for  May Pen\n",
      "Checking CZ for  Andīmeshk\n",
      "Checking CZ for  Tizi Ouzou\n",
      "Checking CZ for  Agboville\n",
      "Checking CZ for  Siwān\n",
      "Checking CZ for  Ipetumodu\n",
      "Checking CZ for  Cartago\n",
      "Checking CZ for  Shahreẕā\n",
      "Checking CZ for  Zābol\n",
      "Checking CZ for  Santa Rita\n",
      "Checking CZ for  Inazawa\n",
      "Checking CZ for  Kent\n",
      "Checking CZ for  Stamford\n",
      "Checking CZ for  Odessa\n",
      "Checking CZ for  Silopi\n",
      "Checking CZ for  Teófilo Otoni\n",
      "Checking CZ for  Torrejón de Ardoz\n",
      "Checking CZ for  Amiens\n",
      "ERROR Amiens\n",
      "Checking CZ for  Djakotomé\n",
      "Checking CZ for  El Oued\n",
      "Checking CZ for  Mörön\n",
      "Checking CZ for  Ashqelon\n",
      "Checking CZ for  Nakhon Ratchasima\n",
      "Checking CZ for  Minoo\n",
      "Checking CZ for  Trois-Rivières\n",
      "Checking CZ for  Mabacun\n",
      "Checking CZ for  Laghouat\n",
      "Checking CZ for  Bloomington\n",
      "Checking CZ for  Miramar\n",
      "Checking CZ for  Brighton\n",
      "Checking CZ for  Târgu-Mureş\n",
      "Checking CZ for  Zafarwal\n",
      "Checking CZ for  Londuimbali\n",
      "Checking CZ for  Dumaguete City\n",
      "Checking CZ for  Navoiy\n",
      "Checking CZ for  Grand Junction\n",
      "Checking CZ for  Sterling Heights\n",
      "Checking CZ for  Sale\n",
      "Checking CZ for  Ba Đồn\n",
      "Checking CZ for  Luuq\n",
      "Checking CZ for  Salerno\n",
      "Checking CZ for  Daraga\n",
      "Checking CZ for  Bern\n",
      "Checking CZ for  Veszprém\n",
      "Checking CZ for  Gubeng\n",
      "Checking CZ for  Famalicão\n",
      "Checking CZ for  Debre Mark’os\n",
      "Checking CZ for  Tiraspol\n",
      "Checking CZ for  Ruda Śląska\n",
      "Checking CZ for  Idfū\n",
      "Checking CZ for  Coral Springs\n",
      "Checking CZ for  Marituba\n",
      "Checking CZ for  Chikmagalūr\n",
      "Checking CZ for  Yunxian Chengguanzhen\n",
      "Checking CZ for  Ferfer\n",
      "Checking CZ for  Renca\n",
      "Checking CZ for  Isahaya\n",
      "Checking CZ for  Milagro\n",
      "Checking CZ for  Ségou\n",
      "Checking CZ for  Tando Allahyar\n",
      "Checking CZ for  Thandwe\n",
      "Checking CZ for  Hagonoy\n",
      "Checking CZ for  Hassan\n",
      "Checking CZ for  Batu Gajah\n",
      "Checking CZ for  Matagalpa\n",
      "Checking CZ for  Conchalí\n",
      "Checking CZ for  Long Bình\n",
      "Checking CZ for  Pitalito\n",
      "Checking CZ for  Bibémi\n",
      "Checking CZ for  Naga\n",
      "Checking CZ for  Uppsala\n",
      "Checking CZ for  Khorramshahr\n",
      "Checking CZ for  Crato\n",
      "Checking CZ for  Ouargla\n",
      "Checking CZ for  Male\n",
      "Checking CZ for  Ar Rass\n",
      "Checking CZ for  Srīpur\n",
      "Checking CZ for  Sinop\n",
      "Checking CZ for  Kipushi\n",
      "Checking CZ for  Gondiā\n",
      "Checking CZ for  Zhangmu Touwei\n",
      "Checking CZ for  Luxembourg\n",
      "Checking CZ for  Reẖovot\n",
      "Checking CZ for  San Carlos\n",
      "Checking CZ for  Mogaung\n",
      "Checking CZ for  Cametá\n",
      "Checking CZ for  Ödemiş\n",
      "Checking CZ for  Innsbruck\n",
      "Checking CZ for  San Luis\n",
      "Checking CZ for  Ōme\n",
      "Checking CZ for  Zagnanado\n",
      "Checking CZ for  Talavera\n",
      "Checking CZ for  Ferrara\n",
      "Checking CZ for  Palenque\n",
      "Checking CZ for  San Juan\n",
      "Checking CZ for  Āwarē\n",
      "Checking CZ for  Blitar\n",
      "Checking CZ for  Karabük\n",
      "Checking CZ for  Palwal\n",
      "Checking CZ for  Johnson City\n",
      "Checking CZ for  Ibarra\n",
      "Checking CZ for  Chicomba\n",
      "Checking CZ for  Guelph\n",
      "Checking CZ for  Papeete\n",
      "Checking CZ for  Parla\n",
      "Checking CZ for  Cubatão\n",
      "Checking CZ for  Tultepec\n",
      "Checking CZ for  Ji-Paraná\n",
      "Checking CZ for  Al Khmissat\n",
      "Checking CZ for  Jijel\n",
      "Checking CZ for  Limoges\n",
      "ERROR Limoges\n",
      "Checking CZ for  Carrollton\n",
      "Checking CZ for  Buea\n",
      "Checking CZ for  Apopa\n",
      "Checking CZ for  Spanish Town\n",
      "Checking CZ for  Lashio\n",
      "Checking CZ for  Lam Tin\n",
      "Checking CZ for  Pālghāt\n",
      "Checking CZ for  Maijdi\n",
      "Checking CZ for  Vlorë\n",
      "Checking CZ for  Quibdó\n",
      "Checking CZ for  Marand\n",
      "Checking CZ for  Bassila\n",
      "Checking CZ for  Midland\n",
      "Checking CZ for  Thaton\n",
      "Checking CZ for  Nueva Concepción\n",
      "Checking CZ for  Zama\n",
      "Checking CZ for  Chittandikavundanūr\n",
      "Checking CZ for  Annecy\n",
      "ERROR Annecy\n",
      "Checking CZ for  Shuangcheng\n",
      "Checking CZ for  Surat Thani\n",
      "Checking CZ for  Narita\n",
      "Checking CZ for  Lào Cai\n",
      "Checking CZ for  Trinidad\n",
      "Checking CZ for  Pouso Alegre\n",
      "Checking CZ for  Kozan\n",
      "Checking CZ for  Angono\n",
      "Checking CZ for  Silay\n",
      "Checking CZ for  Yakima\n",
      "Checking CZ for  Jīroft\n",
      "Checking CZ for  City of Isabela\n",
      "Checking CZ for  Nanqiaotou\n",
      "Checking CZ for  Los Guayos\n",
      "Checking CZ for  Payatas\n",
      "Checking CZ for  Inezgane\n",
      "Checking CZ for  Abiko\n",
      "Checking CZ for  Tabarre\n",
      "Checking CZ for  Udon Thani\n",
      "Checking CZ for  Lakewood\n",
      "Checking CZ for  Lincoln\n",
      "Checking CZ for  Mojokerto\n",
      "Checking CZ for  Onomichi\n",
      "Checking CZ for  Lucheng\n",
      "Checking CZ for  Ergani\n",
      "Checking CZ for  Relizane\n",
      "Checking CZ for  Aaley\n",
      "Checking CZ for  Battambang\n",
      "Checking CZ for  Vitória de Santo Antão\n",
      "Checking CZ for  Taldyqorghan\n",
      "Checking CZ for  Cambridge\n",
      "Checking CZ for  Huejutla de Reyes\n",
      "Checking CZ for  Bongaigaon\n",
      "Checking CZ for  Mukeriān\n",
      "Checking CZ for  Zwolle\n",
      "Checking CZ for  Girardot\n",
      "Checking CZ for  Ponnagyun\n",
      "Checking CZ for  Sukrah\n",
      "Checking CZ for  Çayırova\n",
      "Checking CZ for  Hanumāngarh\n",
      "Checking CZ for  Kokubunji\n",
      "Checking CZ for  Bellingham\n",
      "Checking CZ for  Kānchrāpāra\n",
      "Checking CZ for  Parepare\n",
      "Checking CZ for  Yuba City\n",
      "Checking CZ for  Ciénaga\n",
      "Checking CZ for  Chinguar\n",
      "Checking CZ for  Tychy\n",
      "Checking CZ for  Antsiranana\n",
      "Checking CZ for  Tottenham\n",
      "Checking CZ for  Batticaloa\n",
      "Checking CZ for  Mansa\n",
      "Checking CZ for  Malambo\n",
      "Checking CZ for  Fürth\n",
      "Checking CZ for  Mataró\n",
      "ERROR Mataró\n",
      "Checking CZ for  Cholula de Rivadabia\n",
      "Checking CZ for  Araras\n",
      "Checking CZ for  Guagua\n",
      "Checking CZ for  Songnim\n",
      "Checking CZ for  Bat Yam\n",
      "Checking CZ for  Bukoba\n",
      "Checking CZ for  Amherst\n",
      "Checking CZ for  Kislovodsk\n",
      "Checking CZ for  Rustavi\n",
      "Checking CZ for  Santo Tomas\n",
      "Checking CZ for  Västerås\n",
      "Checking CZ for  Puno\n",
      "Checking CZ for  Hoshangābād\n",
      "Checking CZ for  Táriba\n",
      "Checking CZ for  Fengcheng\n",
      "Checking CZ for  San Andres\n",
      "Checking CZ for  Kibaha\n",
      "Checking CZ for  Saïda\n",
      "Checking CZ for  Iwakuni\n",
      "Checking CZ for  Whitby\n",
      "Checking CZ for  Rosario\n",
      "Checking CZ for  Chās\n",
      "Checking CZ for  Apatzingan de la Constitucion\n",
      "Checking CZ for  Tumen\n",
      "Checking CZ for  Rudnyy\n",
      "Checking CZ for  Nefteyugansk\n",
      "Checking CZ for  Khanna\n",
      "Checking CZ for  Ahmadpur East\n",
      "Checking CZ for  South Lyon\n",
      "Checking CZ for  Avrankou\n",
      "Checking CZ for  Vihari\n",
      "Checking CZ for  Guasdualito\n",
      "Checking CZ for  Mosquera\n",
      "Checking CZ for  Darnah\n",
      "Checking CZ for  Santa Clara\n",
      "Checking CZ for  Buôn Hồ\n",
      "Checking CZ for  St. George\n",
      "Checking CZ for  Würzburg\n",
      "Checking CZ for  Salmās\n",
      "Checking CZ for  Domodedovo\n",
      "Checking CZ for  Batang\n",
      "Checking CZ for  Praia\n",
      "Checking CZ for  Opole\n",
      "Checking CZ for  Jāzān\n",
      "Checking CZ for  Fort Smith\n",
      "Checking CZ for  Santa Lucía Cotzumalguapa\n",
      "Checking CZ for  Guimba\n",
      "Checking CZ for  Garut\n",
      "Checking CZ for  Tukuyu\n",
      "Checking CZ for  Zhaozhou\n",
      "Checking CZ for  Dessalines\n",
      "Checking CZ for  San Ignacio\n",
      "Checking CZ for  Allada\n",
      "Checking CZ for  Nagda\n",
      "Checking CZ for  Maricá\n",
      "Checking CZ for  Bam\n",
      "Checking CZ for  Koforidua\n",
      "Checking CZ for  Seto\n",
      "Checking CZ for  Ōmiyachō\n",
      "Checking CZ for  Missérété\n",
      "Checking CZ for  Koganei\n",
      "Checking CZ for  Simi Valley\n",
      "Checking CZ for  Ōsaki\n",
      "Checking CZ for  Saidpur\n",
      "Checking CZ for  Nāḩiyat Khān Banī Sa‘d\n",
      "Checking CZ for  Angren\n",
      "Checking CZ for  Ulm\n",
      "Checking CZ for  Pakokku\n",
      "Checking CZ for  Leiria\n",
      "Checking CZ for  Ñemby\n",
      "Checking CZ for  Neftekamsk\n",
      "Checking CZ for  Kamëz\n",
      "Checking CZ for  Bataysk\n",
      "Checking CZ for  Palni\n",
      "Checking CZ for  Santa Cruz\n",
      "Checking CZ for  Ünye\n",
      "Checking CZ for  Duitama\n",
      "Checking CZ for  Gurabo al Medio\n",
      "Checking CZ for  Catabola\n",
      "Checking CZ for  Novocheboksarsk\n",
      "Checking CZ for  Ksar El Kebir\n",
      "Checking CZ for  Örebro\n",
      "Checking CZ for  Santana de Parnaíba\n",
      "Checking CZ for  Latina\n",
      "Checking CZ for  Heilbronn\n",
      "Checking CZ for  Suhum\n",
      "Checking CZ for  Jandira\n",
      "Checking CZ for  San Juan\n",
      "Checking CZ for  Barbacena\n",
      "Checking CZ for  Guntakal\n",
      "Checking CZ for  Sabará\n",
      "Checking CZ for  Mothīhāri\n",
      "Checking CZ for  Iizuka\n",
      "Checking CZ for  Pithampur\n",
      "Checking CZ for  Pforzheim\n",
      "Checking CZ for  Dover\n",
      "Checking CZ for  Sinnūris\n",
      "Checking CZ for  Pinsk\n",
      "Checking CZ for  Serpukhov\n",
      "Checking CZ for  Gashua\n",
      "Checking CZ for  Rosetta\n",
      "Checking CZ for  Norman\n",
      "Checking CZ for  Kombolcha\n",
      "Checking CZ for  Novomoskovsk\n",
      "Checking CZ for  San Fernando\n",
      "Checking CZ for  Shchelkovo\n",
      "Checking CZ for  Payakumbuh\n",
      "Checking CZ for  Navadwīp\n",
      "Checking CZ for  Pātan\n",
      "Checking CZ for  Kumbo\n",
      "Checking CZ for  Abilene\n",
      "Checking CZ for  Uruguaiana\n",
      "Checking CZ for  Bonao\n",
      "Checking CZ for  Cam Ranh\n",
      "Checking CZ for  Zoetermeer\n",
      "Checking CZ for  Basīrhat\n",
      "Checking CZ for  Resende\n",
      "Checking CZ for  Villa Alemana\n",
      "Checking CZ for  Polatlı\n",
      "Checking CZ for  Larache\n",
      "Checking CZ for  Móng Cái\n",
      "Checking CZ for  Az Zulfī\n",
      "Checking CZ for  Sawrān\n",
      "Checking CZ for  Jilib\n",
      "Checking CZ for  Billings\n",
      "Checking CZ for  Hālīsahar\n",
      "Checking CZ for  Magelang\n",
      "Checking CZ for  Leiden\n",
      "Checking CZ for  Salto\n",
      "Checking CZ for  Juticalpa\n",
      "Checking CZ for  Ponce\n",
      "Checking CZ for  Jizhou\n",
      "Checking CZ for  Leuwiliang\n",
      "Checking CZ for  Koidu\n",
      "Checking CZ for  Sunām\n",
      "Checking CZ for  Ouahigouya\n",
      "Checking CZ for  Rishra\n",
      "Checking CZ for  Balneário de Camboriú\n",
      "Checking CZ for  Jhārsugra\n",
      "Checking CZ for  Leeuwarden\n",
      "Checking CZ for  Zhaxi\n",
      "Checking CZ for  Bến Tre\n",
      "Checking CZ for  Pervouralsk\n",
      "Checking CZ for  Glazoué\n",
      "Checking CZ for  Panevėžys\n",
      "Checking CZ for  Chinautla\n",
      "Checking CZ for  Giugliano in Campania\n",
      "Checking CZ for  New Mirpur\n",
      "Checking CZ for  Serik\n",
      "Checking CZ for  Baigou\n",
      "Checking CZ for  Drohobych\n",
      "Checking CZ for  Noksan\n",
      "Checking CZ for  Bajos de Haina\n",
      "Checking CZ for  Magalang\n",
      "Checking CZ for  Exeter\n",
      "Checking CZ for  Bimbo\n",
      "Checking CZ for  Pāli\n",
      "Checking CZ for  Wolfsburg\n",
      "Checking CZ for  Kadirli\n",
      "Checking CZ for  Fugu\n",
      "Checking CZ for  Savannakhet\n",
      "Checking CZ for  Khrustalnyi\n",
      "Checking CZ for  Kaspiysk\n",
      "Checking CZ for  Jimaguayú\n",
      "Checking CZ for  Magangué\n",
      "Checking CZ for  Cambridge\n",
      "Checking CZ for  Kirishima\n",
      "Checking CZ for  Cai Lậy\n",
      "Checking CZ for  Maicao\n",
      "Checking CZ for  Lehigh Acres\n",
      "Checking CZ for  Pobé\n",
      "Checking CZ for  Baia Mare\n",
      "Checking CZ for  Derbent\n",
      "Checking CZ for  Setúbal\n",
      "Checking CZ for  Melipilla\n",
      "Checking CZ for  Monza\n",
      "Checking CZ for  Santa Cruz\n",
      "Checking CZ for  St. Cloud\n",
      "Checking CZ for  Djidja\n",
      "Checking CZ for  Arecibo\n",
      "Checking CZ for  Dūmā\n",
      "Checking CZ for  Longtian\n",
      "Checking CZ for  Punta Arenas\n",
      "Checking CZ for  Gorzów Wielkopolski\n",
      "Checking CZ for  Indramayu\n",
      "Checking CZ for  Nāndgaon\n",
      "Checking CZ for  Santana\n",
      "Checking CZ for  Varginha\n",
      "Checking CZ for  Kenosha\n",
      "Checking CZ for  Alwāl\n",
      "Checking CZ for  Algeciras\n",
      "Checking CZ for  Gapan\n",
      "Checking CZ for  Kaya\n",
      "Checking CZ for  Ed Damer\n",
      "Checking CZ for  Munch’ŏn\n",
      "Checking CZ for  Greenville\n",
      "Checking CZ for  Gexianzhuang\n",
      "Checking CZ for  Arvada\n",
      "Checking CZ for  Kilifi\n",
      "ERROR Kilifi\n",
      "Checking CZ for  Zacatecas\n",
      "Checking CZ for  Bragança\n",
      "Checking CZ for  Romford\n",
      "Checking CZ for  Dimāpur\n",
      "Checking CZ for  Patnos\n",
      "Checking CZ for  Barretos\n",
      "Checking CZ for  Shiyan\n",
      "Checking CZ for  Pati\n",
      "Checking CZ for  Kâhta\n",
      "Checking CZ for  Bayawan\n",
      "Checking CZ for  Machiques\n",
      "Checking CZ for  Hoima\n",
      "Checking CZ for  San Pedro Garza García\n",
      "Checking CZ for  Ciudad Hidalgo\n",
      "Checking CZ for  Pearland\n",
      "Checking CZ for  Behbahān\n",
      "Checking CZ for  Itatiba\n",
      "Checking CZ for  Cagua\n",
      "Checking CZ for  Yuanlin\n",
      "Checking CZ for  Brits\n",
      "Checking CZ for  Ise\n",
      "Checking CZ for  Puerto Cortés\n",
      "ERROR Puerto Cortés\n",
      "Checking CZ for  Maina\n",
      "Checking CZ for  Cherkessk\n",
      "Checking CZ for  Uruma\n",
      "Checking CZ for  Mufulira\n",
      "Checking CZ for  Edéa\n",
      "Checking CZ for  Independence\n",
      "Checking CZ for  Honmachi\n",
      "Checking CZ for  Ciudad Ojeda\n",
      "Checking CZ for  Bhadrakh\n",
      "Checking CZ for  León\n",
      "Checking CZ for  Texas City\n",
      "Checking CZ for  Gyumri\n",
      "Checking CZ for  Dharmavaram\n",
      "Checking CZ for  Colchester\n",
      "Checking CZ for  Bento Gonçalves\n",
      "Checking CZ for  Chinandega\n",
      "Checking CZ for  Hội An\n",
      "Checking CZ for  Dorūd\n",
      "Checking CZ for  Kashiwara\n",
      "Checking CZ for  Boulogne-Billancourt\n",
      "ERROR Boulogne-Billancourt\n",
      "Checking CZ for  Kuopio\n",
      "Checking CZ for  Ondjiva\n",
      "Checking CZ for  Alberton\n",
      "Checking CZ for  Guarapari\n",
      "Checking CZ for  Redding\n",
      "Checking CZ for  Temperley\n",
      "Checking CZ for  Kamalia\n",
      "Checking CZ for  Tsuruoka\n",
      "Checking CZ for  Lianhe\n",
      "Checking CZ for  Hòa Bình\n",
      "Checking CZ for  Doğubayazıt\n",
      "Checking CZ for  Port-de-Paix\n",
      "ERROR Port-de-Paix\n",
      "Checking CZ for  Upington\n",
      "Checking CZ for  Siracusa\n",
      "Checking CZ for  Wuling\n",
      "Checking CZ for  Baidyabāti\n",
      "Checking CZ for  Samandağ\n",
      "Checking CZ for  Chơn Thành\n",
      "Checking CZ for  Puruliya\n",
      "Checking CZ for  Mīt Ghamr\n",
      "Checking CZ for  Tabuk\n",
      "ERROR Tabuk\n",
      "Checking CZ for  Ghazīpur\n",
      "Checking CZ for  Apartadó\n",
      "Checking CZ for  Navojoa\n",
      "Checking CZ for  Porlamar\n",
      "Checking CZ for  Bergamo\n",
      "Checking CZ for  Apucarana\n",
      "Checking CZ for  Anderlecht\n",
      "Checking CZ for  Lynchburg\n",
      "Checking CZ for  Boulder\n",
      "Checking CZ for  Chilapa de Álvarez\n",
      "Checking CZ for  Bagaha\n",
      "Checking CZ for  Gudiyāttam\n",
      "Checking CZ for  Catchiungo\n",
      "Checking CZ for  Fier\n",
      "Checking CZ for  Kotamobagu\n",
      "Checking CZ for  Gurdāspur\n",
      "Checking CZ for  Kỳ Anh\n",
      "Checking CZ for  Kot Addu\n",
      "Checking CZ for  Ribeirão Pires\n",
      "Checking CZ for  Zonguldak\n",
      "Checking CZ for  Barcelos\n",
      "Checking CZ for  Ramos Mejía\n",
      "Checking CZ for  Valinhos\n",
      "Checking CZ for  High Wycombe\n",
      "Checking CZ for  Söke\n",
      "Checking CZ for  Delgado\n",
      "Checking CZ for  Sertãozinho\n",
      "Checking CZ for  Poblacion\n",
      "Checking CZ for  Bāgalkot\n",
      "Checking CZ for  Sātāra\n",
      "Checking CZ for  Ban Bang Pu Mai\n",
      "Checking CZ for  Gateshead\n",
      "Checking CZ for  Iowa City\n",
      "Checking CZ for  Guelma\n",
      "Checking CZ for  Ghardaïa\n",
      "Checking CZ for  Płock\n",
      "Checking CZ for  Nokha\n",
      "Checking CZ for  San Carlos\n",
      "Checking CZ for  Baraka\n",
      "Checking CZ for  Ar Rustāq\n",
      "Checking CZ for  Unwana\n",
      "Checking CZ for  Đông Hòa\n",
      "Checking CZ for  Lalo\n",
      "Checking CZ for  Yelahanka\n",
      "Checking CZ for  Malindi\n",
      "ERROR Malindi\n",
      "Checking CZ for  Pakxé\n",
      "Checking CZ for  Ebetsu\n",
      "Checking CZ for  Göttingen\n",
      "Checking CZ for  Yüksekova\n",
      "Checking CZ for  Rochester\n",
      "Checking CZ for  An\n",
      "Checking CZ for  Ajax\n",
      "Checking CZ for  Berkeley\n",
      "Checking CZ for  Pleven\n",
      "Checking CZ for  Shuixi\n",
      "Checking CZ for  Naz̧arābād\n",
      "Checking CZ for  Candaba\n",
      "Checking CZ for  Catanduva\n",
      "Checking CZ for  Tizayuca\n",
      "Checking CZ for  Waldorf\n",
      "Checking CZ for  Moḩammad Shahr\n",
      "Checking CZ for  Perpignan\n",
      "Checking CZ for  Elbląg\n",
      "Checking CZ for  Toledo\n",
      "Checking CZ for  Silifke\n",
      "Checking CZ for  The Villages\n",
      "Checking CZ for  Pescara\n",
      "Checking CZ for  Paulo Afonso\n",
      "Checking CZ for  Debre Tabor\n",
      "Checking CZ for  Araucária\n",
      "Checking CZ for  Dordrecht\n",
      "Checking CZ for  Guaratinguetá\n",
      "Checking CZ for  Slough\n",
      "Checking CZ for  Ţūz Khūrmātū\n",
      "Checking CZ for  Aw Dheegle\n",
      "Checking CZ for  Duluth\n",
      "Checking CZ for  East Los Angeles\n",
      "Checking CZ for  Totonicapán\n",
      "Checking CZ for  Saginaw\n",
      "Checking CZ for  Huaraz\n",
      "Checking CZ for  Orekhovo-Zuyevo\n",
      "Checking CZ for  Daitōchō\n",
      "Checking CZ for  Darjeeling\n",
      "Checking CZ for  Bet Shemesh\n",
      "Checking CZ for  Vihiga\n",
      "Checking CZ for  Miramar\n",
      "Checking CZ for  Sopur\n",
      "Checking CZ for  Nowshera\n",
      "Checking CZ for  Barcarena Nova\n",
      "Checking CZ for  Bruges\n",
      "Checking CZ for  Yongqing\n",
      "Checking CZ for  Metz\n",
      "ERROR Metz\n",
      "Checking CZ for  Clovis\n",
      "Checking CZ for  Calumpit\n",
      "Checking CZ for  Bwana Mkubwa\n",
      "Checking CZ for  Butwāl\n",
      "Checking CZ for  Santa Cruz do Sul\n",
      "Checking CZ for  Birigui\n",
      "Checking CZ for  Matamoros\n",
      "Checking CZ for  Kadoma\n",
      "Checking CZ for  Guelmim\n",
      "Checking CZ for  Cachoeirinha\n",
      "Checking CZ for  Xuqiaocun\n",
      "Checking CZ for  Besançon\n",
      "ERROR Besançon\n",
      "Checking CZ for  Kampong Cham\n",
      "Checking CZ for  Dinalupihan\n",
      "Checking CZ for  Malita\n",
      "Checking CZ for  Leominster\n",
      "Checking CZ for  Niğde\n",
      "Checking CZ for  Gudivāda\n",
      "Checking CZ for  Bama\n",
      "Checking CZ for  Lahti\n",
      "Checking CZ for  Ilobu\n",
      "Checking CZ for  Ligao\n",
      "Checking CZ for  Karatepe\n",
      "Checking CZ for  Codó\n",
      "Checking CZ for  San Rafael\n",
      "Checking CZ for  Nouadhibou\n",
      "Checking CZ for  Trento\n",
      "Checking CZ for  Dongsheng\n",
      "Checking CZ for  Blackburn\n",
      "Checking CZ for  Phagwāra\n",
      "Checking CZ for  Nazran\n",
      "Checking CZ for  Aizuwakamatsu\n",
      "Checking CZ for  Forlì\n",
      "Checking CZ for  Tahoua\n",
      "Checking CZ for  Votorantim\n",
      "Checking CZ for  Gogounou\n",
      "Checking CZ for  Agadez\n",
      "Checking CZ for  Pudukkottai\n",
      "Checking CZ for  Round Rock\n",
      "Checking CZ for  Nobeoka\n",
      "Checking CZ for  Charallave\n",
      "Checking CZ for  Uribia\n",
      "Checking CZ for  Luanshya\n",
      "Checking CZ for  Handa\n",
      "Checking CZ for  Kabwe\n",
      "Checking CZ for  La Asunción\n",
      "Checking CZ for  Salmān Bāk\n",
      "Checking CZ for  Catacamas\n",
      "Checking CZ for  Nevinnomyssk\n",
      "Checking CZ for  Tangjin\n",
      "Checking CZ for  San Martín\n",
      "Checking CZ for  Bottrop\n",
      "Checking CZ for  Piedecuesta\n",
      "Checking CZ for  Langley\n",
      "Checking CZ for  Heroica Guaymas\n",
      "Checking CZ for  Munūf\n",
      "Checking CZ for  Orsha\n",
      "Checking CZ for  Banfora\n",
      "Checking CZ for  Monroe\n",
      "Checking CZ for  Matsubara\n",
      "Checking CZ for  Adilābād\n",
      "Checking CZ for  Apalit\n",
      "Checking CZ for  Facatativá\n",
      "Checking CZ for  Yulu\n",
      "Checking CZ for  Nkongsamba\n",
      "Checking CZ for  Alcobendas\n",
      "Checking CZ for  Cassongue\n",
      "Checking CZ for  Dąbrowa Górnicza\n",
      "Checking CZ for  Tandil\n",
      "Checking CZ for  Guadalajara de Buga\n",
      "Checking CZ for  Cambridge\n",
      "Checking CZ for  Kapaklı\n",
      "Checking CZ for  Araguari\n",
      "Checking CZ for  Bagé\n",
      "Checking CZ for  Soreang\n",
      "Checking CZ for  Kōnosu\n",
      "Checking CZ for  Samal\n",
      "Checking CZ for  Manpo\n",
      "Checking CZ for  Tatuí\n",
      "Checking CZ for  Chimaltenango\n",
      "Checking CZ for  Sassari\n",
      "Checking CZ for  Huanren\n",
      "Checking CZ for  Clearwater\n",
      "Checking CZ for  Várzea Paulista\n",
      "Checking CZ for  La Granja\n",
      "Checking CZ for  Smithtown\n",
      "Checking CZ for  Pollāchi\n",
      "Checking CZ for  Yavatmāl\n",
      "Checking CZ for  Titāgarh\n",
      "Checking CZ for  Santander de Quilichao\n",
      "Checking CZ for  Ikoma\n",
      "Checking CZ for  Conselheiro Lafaiete\n",
      "Checking CZ for  Honchō\n",
      "Checking CZ for  Reutlingen\n",
      "Checking CZ for  Barnāla\n",
      "Checking CZ for  Cheltenham\n",
      "Checking CZ for  Chittaurgarh\n",
      "Checking CZ for  Xai-Xai\n",
      "Checking CZ for  Gabès\n",
      "Checking CZ for  Tecomán\n",
      "Checking CZ for  Boké\n",
      "Checking CZ for  Orléans\n",
      "ERROR Orléans\n",
      "Checking CZ for  Coronel\n",
      "ERROR Coronel\n",
      "Checking CZ for  Narasaraopet\n",
      "Checking CZ for  Himamaylan\n",
      "Checking CZ for  Ādīgrat\n",
      "Checking CZ for  Seaside\n",
      "Checking CZ for  Dharān\n",
      "Checking CZ for  Fatsa\n",
      "ERROR Fatsa\n",
      "Checking CZ for  Temixco\n",
      "Checking CZ for  Bongao\n",
      "Checking CZ for  Ramenskoye\n",
      "Checking CZ for  Wałbrzych\n",
      "Checking CZ for  Itapipoca\n",
      "Checking CZ for  Aïn Beïda\n",
      "Checking CZ for  Dimitrovgrad\n",
      "Checking CZ for  Karatsu\n",
      "Checking CZ for  West Jordan\n",
      "Checking CZ for  Kilis\n",
      "Checking CZ for  Sabhā\n",
      "Checking CZ for  Kyzyl\n",
      "Checking CZ for  Beppu\n",
      "Checking CZ for  Adjaouèrè\n",
      "Checking CZ for  Ra’s al Khaymah\n",
      "Checking CZ for  Khon Kaen\n",
      "Checking CZ for  Richardson\n",
      "Checking CZ for  Valle de La Pascua\n",
      "Checking CZ for  Kars\n",
      "Checking CZ for  West Palm Beach\n",
      "Checking CZ for  Urasoe\n",
      "Checking CZ for  Phatthaya\n",
      "Checking CZ for  Sri Jayewardenepura Kotte\n",
      "Checking CZ for  Temple\n",
      "Checking CZ for  San Ildefonso\n",
      "Checking CZ for  Linköping\n",
      "Checking CZ for  Burlington\n",
      "Checking CZ for  Richmond\n",
      "Checking CZ for  Tarogong\n",
      "Checking CZ for  Nasushiobara\n",
      "Checking CZ for  Pedro Juan Caballero\n",
      "Checking CZ for  Três Lagoas\n",
      "Checking CZ for  Sandvika\n",
      "Checking CZ for  Westminster\n",
      "Checking CZ for  Parachinar\n",
      "Checking CZ for  Buzău\n",
      "Checking CZ for  Kōenchō\n",
      "Checking CZ for  Kovilpatti\n",
      "Checking CZ for  Pottstown\n",
      "Checking CZ for  Kasese\n",
      "Checking CZ for  Chelmsford\n",
      "Checking CZ for  Puerto Madryn\n",
      "Checking CZ for  Los Baños\n",
      "Checking CZ for  Brandon\n",
      "Checking CZ for  Rock Hill\n",
      "Checking CZ for  Sliven\n",
      "Checking CZ for  Meridian\n",
      "Checking CZ for  Guanabacoa\n",
      "Checking CZ for  Mendoza\n",
      "Checking CZ for  Al Muḑaybī\n",
      "Checking CZ for  Obninsk\n",
      "Checking CZ for  Swabi\n",
      "Checking CZ for  Turbaco\n",
      "Checking CZ for  Sayhāt\n",
      "Checking CZ for  Ciudad Guzmán\n",
      "Checking CZ for  Niihama\n",
      "Checking CZ for  Al Manşūrah\n",
      "Checking CZ for  Uzhhorod\n",
      "Checking CZ for  Coeur d'Alene\n",
      "Checking CZ for  Rawasari\n",
      "Checking CZ for  Carlsbad\n",
      "Checking CZ for  Sano\n",
      "Checking CZ for  Lowell\n",
      "Checking CZ for  Dam Dam\n",
      "Checking CZ for  Las Delicias\n",
      "Checking CZ for  Qiaotou\n",
      "Checking CZ for  Hatsukaichi\n",
      "Checking CZ for  Bijeljina\n",
      "Checking CZ for  Waterloo\n",
      "Checking CZ for  Shacheng\n",
      "Checking CZ for  Sach’on\n",
      "Checking CZ for  North Charleston\n",
      "Checking CZ for  Giyon\n",
      "Checking CZ for  Heshan\n",
      "Checking CZ for  Sogamoso\n",
      "Checking CZ for  Ariana\n",
      "Checking CZ for  Gilroy\n",
      "Checking CZ for  Iriga City\n",
      "Checking CZ for  Plaridel\n",
      "Checking CZ for  Jaramānā\n",
      "Checking CZ for  Bāgh-e Malek\n",
      "Checking CZ for  Kaikkudi\n",
      "Checking CZ for  Downey\n",
      "Checking CZ for  Cádiz\n",
      "Checking CZ for  Ambovombe\n",
      "Checking CZ for  Sakété\n",
      "Checking CZ for  Berdiansk\n",
      "Checking CZ for  Salto\n",
      "ERROR Salto\n",
      "Checking CZ for  Gresham\n",
      "ERROR Gresham\n",
      "Checking CZ for  Lugazi\n",
      "ERROR Lugazi\n",
      "Checking CZ for  Elgin\n",
      "ERROR Elgin\n",
      "Checking CZ for  Saanich\n",
      "ERROR Saanich\n",
      "Checking CZ for  Machakos\n",
      "ERROR Machakos\n",
      "Checking CZ for  San Juan\n",
      "ERROR San Juan\n",
      "Checking CZ for  Bintulu\n",
      "ERROR Bintulu\n",
      "Checking CZ for  Koblenz\n",
      "ERROR Koblenz\n",
      "Checking CZ for  Petržalka\n",
      "ERROR Petržalka\n",
      "Checking CZ for  Matéri\n",
      "ERROR Matéri\n",
      "Checking CZ for  Kakegawa\n",
      "ERROR Kakegawa\n",
      "Checking CZ for  Oktyabr’skiy\n",
      "ERROR Oktyabr’skiy\n",
      "Checking CZ for  Zhijiang\n",
      "ERROR Zhijiang\n",
      "Checking CZ for  Helsingborg\n",
      "Checking CZ for  Quilengues\n",
      "Checking CZ for  Tawau\n",
      "Checking CZ for  Poá\n",
      "Checking CZ for  Sakiet ed Daier\n",
      "Checking CZ for  Īrānshahr\n",
      "Checking CZ for  Ifanhim\n",
      "Checking CZ for  Nagahama\n",
      "Checking CZ for  Kristiansand\n",
      "Checking CZ for  Bremerhaven\n",
      "Checking CZ for  Ndali\n",
      "Checking CZ for  Kuşadası\n",
      "Checking CZ for  Maranguape\n",
      "Checking CZ for  Pul-e Khumrī\n",
      "Checking CZ for  Mungo\n",
      "Checking CZ for  Guiguinto\n",
      "Checking CZ for  Midyat\n",
      "Checking CZ for  Sa-ch’on\n",
      "Checking CZ for  Bukittinggi\n",
      "Checking CZ for  Caraguatatuba\n",
      "Checking CZ for  Ubá\n",
      "Checking CZ for  Erlangen\n",
      "Checking CZ for  Novyy Urengoy\n",
      "Checking CZ for  Durrës\n",
      "Checking CZ for  Manolo Fortich\n",
      "Checking CZ for  Sloviansk\n",
      "Checking CZ for  Akçakale\n",
      "Checking CZ for  Hikone\n",
      "Checking CZ for  Euriápolis\n",
      "Checking CZ for  Mangaldan\n",
      "Checking CZ for  Hōfu\n",
      "Checking CZ for  Mostar\n",
      "Checking CZ for  Tōkai\n",
      "Checking CZ for  Jendouba\n",
      "Checking CZ for  Ioánnina\n",
      "Checking CZ for  Burdur\n",
      "Checking CZ for  Yessentuki\n",
      "Checking CZ for  Sokodé\n",
      "Checking CZ for  Libmanan\n",
      "Checking CZ for  Utica\n",
      "Checking CZ for  Hosan\n",
      "Checking CZ for  San Carlos de Bariloche\n",
      "Checking CZ for  Tecpán Guatemala\n",
      "Checking CZ for  Saint-Denis\n",
      "ERROR Saint-Denis\n",
      "Checking CZ for  Jönköping\n",
      "Checking CZ for  Broken Arrow\n",
      "Checking CZ for  Fujimino\n",
      "Checking CZ for  Tayabas\n",
      "Checking CZ for  Carora\n",
      "Checking CZ for  Alphen aan den Rijn\n",
      "Checking CZ for  Lomas de Zamora\n",
      "Checking CZ for  La Gi\n",
      "Checking CZ for  Balāngīr\n",
      "Checking CZ for  Higashiōmi\n",
      "Checking CZ for  Otaru\n",
      "Checking CZ for  Ciudad de la Costa\n",
      "Checking CZ for  Ōshū\n",
      "Checking CZ for  Campo Largo\n",
      "Checking CZ for  Santa Lucía\n",
      "Checking CZ for  Goth Tando Sumro\n",
      "Checking CZ for  Rouen\n",
      "ERROR Rouen\n",
      "Checking CZ for  Shkodër\n",
      "Checking CZ for  Recklinghausen\n",
      "Checking CZ for  Madrid\n",
      "Checking CZ for  Kaposvár\n",
      "Checking CZ for  Mahāsamund\n",
      "Checking CZ for  Rājpura\n",
      "Checking CZ for  Hezuo\n",
      "Checking CZ for  Costa Mesa\n",
      "Checking CZ for  Pochuta\n",
      "Checking CZ for  Chico\n",
      "Checking CZ for  Dassa-Zoumé\n",
      "Checking CZ for  Akishima\n",
      "Checking CZ for  Osmānābād\n",
      "Checking CZ for  Estelí\n",
      "Checking CZ for  Olmaliq\n",
      "ERROR Olmaliq\n",
      "Checking CZ for  Corumbá\n",
      "Checking CZ for  Paarl\n",
      "Checking CZ for  Kouandé\n",
      "Checking CZ for  Araruama\n",
      "Checking CZ for  Shujālpur\n",
      "Checking CZ for  Bergisch Gladbach\n",
      "Checking CZ for  Sāhibganj\n",
      "Checking CZ for  Jaén\n",
      "Checking CZ for  Sioux City\n",
      "Checking CZ for  Subic\n",
      "Checking CZ for  Funchal\n",
      "Checking CZ for  Fujimi\n",
      "Checking CZ for  Baybay\n",
      "ERROR Baybay\n",
      "Checking CZ for  League City\n",
      "Checking CZ for  Ichinoseki\n",
      "Checking CZ for  Colatina\n",
      "Checking CZ for  Bou Saâda\n",
      "Checking CZ for  Remscheid\n",
      "Checking CZ for  Kuningan\n",
      "Checking CZ for  Mawanella\n",
      "Checking CZ for  Miami Gardens\n",
      "Checking CZ for  Daet\n",
      "Checking CZ for  Laoag\n",
      "ERROR Laoag\n",
      "Checking CZ for  Vicenza\n",
      "Checking CZ for  Parintins\n",
      "Checking CZ for  Terrebonne\n",
      "Checking CZ for  Fāqūs\n",
      "Checking CZ for  Sabara Bangou\n",
      "Checking CZ for  Baleraja\n",
      "Checking CZ for  Pompano Beach\n",
      "Checking CZ for  Jena\n",
      "Checking CZ for  Villa Mercedes\n",
      "Checking CZ for  Moroni\n",
      "Checking CZ for  Jawhar\n",
      "Checking CZ for  Champdani\n",
      "Checking CZ for  Montreuil\n",
      "ERROR Montreuil\n",
      "Checking CZ for  Ḩaraḑ\n",
      "Checking CZ for  Terni\n",
      "Checking CZ for  Gafsa\n",
      "Checking CZ for  Kasuga\n",
      "Checking CZ for  Kamyshin\n",
      "Checking CZ for  Argenteuil\n",
      "ERROR Argenteuil\n",
      "Checking CZ for  Nsukka\n",
      "Checking CZ for  Kintampo\n",
      "Checking CZ for  Catalão\n",
      "Checking CZ for  Tuzla\n",
      "Checking CZ for  Tarnów\n",
      "Checking CZ for  Namur\n",
      "Checking CZ for  Khushab\n",
      "Checking CZ for  Puerto Barrios\n",
      "Checking CZ for  Fasā\n",
      "Checking CZ for  Rosario\n",
      "ERROR Rosario\n",
      "Checking CZ for  Kiffa\n",
      "Checking CZ for  Al Aḩad al Masāriḩah\n",
      "Checking CZ for  As Salamīyah\n",
      "Checking CZ for  Nikopol\n",
      "Checking CZ for  Pingquan\n",
      "Checking CZ for  Trier\n",
      "Checking CZ for  Kazo\n",
      "Checking CZ for  San Buenaventura\n",
      "Checking CZ for  Franceville\n",
      "Checking CZ for  San Antonio Enchisi\n",
      "Checking CZ for  Yenangyaung\n",
      "Checking CZ for  Quíbor\n",
      "Checking CZ for  Betūl Bazār\n",
      "Checking CZ for  Socopó\n",
      "Checking CZ for  Ahuachapán\n",
      "Checking CZ for  Manzini\n",
      "Checking CZ for  Sonsonate\n",
      "ERROR Sonsonate\n",
      "Checking CZ for  Masindi\n",
      "ERROR Masindi\n",
      "Checking CZ for  Everett\n",
      "ERROR Everett\n",
      "Checking CZ for  Genhe\n",
      "ERROR Genhe\n",
      "Checking CZ for  El Centro\n",
      "ERROR El Centro\n",
      "Checking CZ for  Muktsar\n",
      "Checking CZ for  Martínez de la Torre\n",
      "ERROR Martínez de la Torre\n",
      "Checking CZ for  Changbang\n",
      "Checking CZ for  Ferozepore\n",
      "Checking CZ for  Ourinhos\n",
      "Checking CZ for  Sugar Land\n",
      "Checking CZ for  Bāneh\n",
      "Checking CZ for  Itele\n",
      "Checking CZ for  Jeonghae\n",
      "Checking CZ for  Rochdale\n",
      "Checking CZ for  El Monte\n",
      "Checking CZ for  Shirayamamachi\n",
      "Checking CZ for  Milton\n",
      "Checking CZ for  Montego Bay\n",
      "Checking CZ for  Āsela\n",
      "Checking CZ for  Lewisville\n",
      "Checking CZ for  Santamesa\n",
      "Checking CZ for  Ōmuta\n",
      "Checking CZ for  Wythenshawe\n",
      "Checking CZ for  Bridgetown\n",
      "Checking CZ for  Tinaquillo\n",
      "Checking CZ for  Qal‘at Sukkar\n",
      "Checking CZ for  Hualien\n",
      "Checking CZ for  Msaken\n",
      "Checking CZ for  Pisco\n",
      "Checking CZ for  Altamira\n",
      "Checking CZ for  Yŏju\n",
      "Checking CZ for  Retalhuleu\n",
      "Checking CZ for  Bernal\n",
      "Checking CZ for  Sutton Coldfield\n",
      "Checking CZ for  Alkmaar\n",
      "Checking CZ for  Ciamis\n",
      "Checking CZ for  Doncaster\n",
      "Checking CZ for  Itabira\n",
      "Checking CZ for  Winterthur\n",
      "Checking CZ for  Dali\n",
      "Checking CZ for  Rotherham\n",
      "Checking CZ for  Dera Ismail Khan\n",
      "Checking CZ for  Esteban Echeverría\n",
      "Checking CZ for  Quezon\n",
      "Checking CZ for  Aguachica\n",
      "Checking CZ for  Naujan\n",
      "Checking CZ for  K’ebrī Dehar\n",
      "Checking CZ for  Glan\n",
      "Checking CZ for  Pelabuhanratu\n",
      "Checking CZ for  Bayugan\n",
      "Checking CZ for  Brovary\n",
      "Checking CZ for  Gualeguaychú\n",
      "Checking CZ for  Walthamstow\n",
      "Checking CZ for  Drammen\n",
      "Checking CZ for  Medenine\n",
      "Checking CZ for  West Covina\n",
      "Checking CZ for  Nkpor\n",
      "Checking CZ for  Temecula\n",
      "Checking CZ for  Kamagaya\n",
      "Checking CZ for  Tacurong\n",
      "Checking CZ for  Paleng\n",
      "Checking CZ for  Malacatán\n",
      "Checking CZ for  Taoyang\n",
      "Checking CZ for  Béja\n",
      "Checking CZ for  Yŏngju\n",
      "Checking CZ for  Labo\n",
      "Checking CZ for  Sandachō\n",
      "Checking CZ for  Berkane\n",
      "Checking CZ for  Datia\n",
      "Checking CZ for  Bend\n",
      "Checking CZ for  Marugame\n",
      "Checking CZ for  Tangjia\n",
      "Checking CZ for  Nawāda\n",
      "Checking CZ for  Sehore\n",
      "Checking CZ for  Murom\n",
      "Checking CZ for  Túxpam de Rodríguez Cano\n",
      "Checking CZ for  São Mateus\n",
      "Checking CZ for  Salisbury\n",
      "Checking CZ for  Soma\n",
      "Checking CZ for  Balombo\n",
      "Checking CZ for  Mulhouse\n",
      "Checking CZ for  Talisay\n",
      "Checking CZ for  Taitung\n",
      "Checking CZ for  Bangaon\n",
      "Checking CZ for  Dolgoprudnyy\n",
      "Checking CZ for  St. John's\n",
      "Checking CZ for  Pulilan\n",
      "Checking CZ for  Maxixe\n",
      "ERROR Maxixe\n",
      "Checking CZ for  Kasserine\n",
      "Checking CZ for  Bagu Na Mohra\n",
      "Checking CZ for  Maţrūḩ\n",
      "Checking CZ for  Tondabayashichō\n",
      "Checking CZ for  Witbank\n",
      "Checking CZ for  Moncton\n",
      "Checking CZ for  Ferizaj\n",
      "Checking CZ for  Xishancun\n",
      "Checking CZ for  Mascara\n",
      "Checking CZ for  Khenchela\n",
      "Checking CZ for  Taungoo\n",
      "Checking CZ for  Jacksonville\n",
      "Checking CZ for  Islāmābād\n",
      "Checking CZ for  Yāsūj\n",
      "Checking CZ for  Khardah\n",
      "Checking CZ for  Cawayan\n",
      "Checking CZ for  Tipitapa\n",
      "Checking CZ for  Mopti\n",
      "Checking CZ for  Mungeli\n",
      "Checking CZ for  Alto Hospicio\n",
      "Checking CZ for  Habikino\n",
      "Checking CZ for  Novoshakhtinsk\n",
      "Checking CZ for  Maramag\n",
      "Checking CZ for  Yevpatoriia\n",
      "Checking CZ for  Inglewood\n",
      "Checking CZ for  Nantang\n",
      "Checking CZ for  Tādpatri\n",
      "Checking CZ for  Birnin Kebbi\n",
      "Checking CZ for  Acharnés\n",
      "Checking CZ for  Sarh\n",
      "Checking CZ for  An Nuhūd\n",
      "Checking CZ for  Navapolatsk\n",
      "Checking CZ for  Žilina\n",
      "Checking CZ for  Zhukovskiy\n",
      "Checking CZ for  Dearborn\n",
      "Checking CZ for  Centennial\n",
      "Checking CZ for  Douliu\n",
      "Checking CZ for  Seversk\n",
      "Checking CZ for  Thunder Bay\n",
      "Checking CZ for  Baía Farta\n",
      "Checking CZ for  Mazhang\n",
      "Checking CZ for  Castelar\n",
      "Checking CZ for  Villa Krause\n",
      "Checking CZ for  Lingayen\n",
      "Checking CZ for  Labé\n",
      "Checking CZ for  Gharbara\n",
      "Checking CZ for  Chaman\n",
      "Checking CZ for  Joyabaj\n",
      "Checking CZ for  Maidstone\n",
      "Checking CZ for  Umm Qaşr\n",
      "Checking CZ for  Carmen\n",
      "Checking CZ for  Gò Công\n",
      "Checking CZ for  Kogon Shahri\n",
      "Checking CZ for  Kawit\n",
      "Checking CZ for  Kotmale\n",
      "Checking CZ for  Emmen\n",
      "Checking CZ for  Mineshita\n",
      "Checking CZ for  Shikohābād\n",
      "Checking CZ for  Morales\n",
      "Checking CZ for  Khemis Sahel\n",
      "Checking CZ for  Burbank\n",
      "Checking CZ for  Shinyanga\n",
      "Checking CZ for  Basingstoke\n",
      "Checking CZ for  Jalpāiguri\n",
      "Checking CZ for  Manokwari\n",
      "Checking CZ for  Bolzano\n",
      "Checking CZ for  Shāmli\n",
      "Checking CZ for  Wa\n",
      "Checking CZ for  Chongshan\n",
      "Checking CZ for  Ilebo\n",
      "Checking CZ for  Šiauliai\n",
      "Checking CZ for  Dieppe\n",
      "Checking CZ for  Ejido\n",
      "Checking CZ for  Namhkam\n",
      "Checking CZ for  Reutov\n",
      "Checking CZ for  Banté\n",
      "Checking CZ for  Edison\n",
      "Checking CZ for  Sparks\n",
      "Checking CZ for  Luján\n",
      "Checking CZ for  Bagong Silangan\n",
      "Checking CZ for  Koszalin\n",
      "Checking CZ for  Noyabrsk\n",
      "Checking CZ for  Botoşani\n",
      "Checking CZ for  Erdenet\n",
      "Checking CZ for  Suriāpet\n",
      "Checking CZ for  Qalyūb\n",
      "Checking CZ for  Kalmunai\n",
      "Checking CZ for  Tajimi\n",
      "Checking CZ for  Reus\n",
      "Checking CZ for  Chābahār\n",
      "Checking CZ for  Artëm\n",
      "Checking CZ for  Maipú\n",
      "Checking CZ for  Erechim\n",
      "Checking CZ for  Salihorsk\n",
      "Checking CZ for  Sandy Springs\n",
      "Checking CZ for  Crawley\n",
      "Checking CZ for  La Piedad\n",
      "Checking CZ for  As Safīrah\n",
      "Checking CZ for  La Banda\n",
      "Checking CZ for  Catbalogan\n",
      "Checking CZ for  Longjiang\n",
      "Checking CZ for  Rānībennur\n",
      "Checking CZ for  Bloomington\n",
      "Checking CZ for  Nakhon Si Thammarat\n",
      "Checking CZ for  Logan\n",
      "Checking CZ for  Patos\n",
      "Checking CZ for  Kŭlob\n",
      "Checking CZ for  Kemalpaşa\n",
      "Checking CZ for  Passos\n",
      "Checking CZ for  Ad Dakhla\n",
      "Checking CZ for  Tiaong\n",
      "Checking CZ for  Kailua\n",
      "Checking CZ for  Carmona\n",
      "Checking CZ for  Dagenham\n",
      "Checking CZ for  Caen\n",
      "ERROR Caen\n",
      "Checking CZ for  El Limón\n",
      "Checking CZ for  Launceston\n",
      "Checking CZ for  Raba\n",
      "Checking CZ for  Mingəçevir\n",
      "Checking CZ for  Sītāmarhi\n",
      "Checking CZ for  Pavlohrad\n",
      "Checking CZ for  Lokossa\n",
      "Checking CZ for  Aihua\n",
      "Checking CZ for  Sơn La\n",
      "Checking CZ for  El Cajon\n",
      "Checking CZ for  Komatsu\n",
      "Checking CZ for  Contramaestre\n",
      "Checking CZ for  Khanty-Mansiysk\n",
      "Checking CZ for  Atebubu\n",
      "Checking CZ for  Hillsboro\n",
      "Checking CZ for  Ariquemes\n",
      "Checking CZ for  Idkū\n",
      "Checking CZ for  Nusaybin\n",
      "Checking CZ for  Lo Barnechea\n",
      "Checking CZ for  Kishanganj\n",
      "Checking CZ for  Temoaya\n",
      "Checking CZ for  Tikrīt\n",
      "Checking CZ for  Azare\n",
      "Checking CZ for  Lerma\n",
      "Checking CZ for  Tarīm\n",
      "Checking CZ for  South Fulton\n",
      "Checking CZ for  Gangāwati\n",
      "Checking CZ for  Bình Long\n",
      "Checking CZ for  Toufen\n",
      "Checking CZ for  Pushkino\n",
      "Checking CZ for  Kiryū\n",
      "Checking CZ for  Maluñgun\n",
      "Checking CZ for  Mazyr\n",
      "Checking CZ for  Charsadda\n",
      "Checking CZ for  Alchevsk\n",
      "Checking CZ for  Robāţ Karīm\n",
      "Checking CZ for  Nautanwa\n",
      "Checking CZ for  Renton\n",
      "Checking CZ for  Queenstown\n",
      "Checking CZ for  Achinsk\n",
      "Checking CZ for  Ash Shaykh ‘Uthmān\n",
      "Checking CZ for  Jamālpur\n",
      "Checking CZ for  Kongolo\n",
      "Checking CZ for  Mityana\n",
      "Checking CZ for  Bulan\n",
      "Checking CZ for  Granada\n",
      "Checking CZ for  Yozgat\n",
      "Checking CZ for  Texcoco\n",
      "Checking CZ for  Alaşehir\n",
      "Checking CZ for  Sultan Kudarat\n",
      "Checking CZ for  Paço do Lumiar\n",
      "Checking CZ for  Mandeville\n",
      "Checking CZ for  Ndjamba\n",
      "Checking CZ for  San Mateo\n",
      "Checking CZ for  Assis\n",
      "Checking CZ for  Columbia\n",
      "Checking CZ for  Al Fāw\n",
      "Checking CZ for  Makrāna\n",
      "Checking CZ for  Nancy\n",
      "Checking CZ for  Jincheng\n",
      "Checking CZ for  Sheopur\n",
      "Checking CZ for  Kandhkot\n",
      "Checking CZ for  Waterloo\n",
      "Checking CZ for  Tagbilaran City\n",
      "ERROR Tagbilaran City\n",
      "Checking CZ for  Salzgitter\n",
      "Checking CZ for  Koutiala\n",
      "Checking CZ for  Miriālgūda\n",
      "Checking CZ for  Daly City\n",
      "Checking CZ for  Los Minas\n",
      "Checking CZ for  Parral\n",
      "Checking CZ for  Davie\n",
      "Checking CZ for  Włocławek\n",
      "Checking CZ for  Jurupa Valley\n",
      "Checking CZ for  Presidente Franco\n",
      "Checking CZ for  Olanchito\n",
      "Checking CZ for  Ourense\n",
      "Checking CZ for  Sergiyev Posad\n",
      "Checking CZ for  Arzamas\n",
      "Checking CZ for  Monastir\n",
      "Checking CZ for  Vespasiano\n",
      "Checking CZ for  Masbate\n",
      "Checking CZ for  Trindade\n",
      "Checking CZ for  Mmabatho\n",
      "Checking CZ for  Ballia\n",
      "Checking CZ for  Khāk-e ‘Alī\n",
      "Checking CZ for  Yelets\n",
      "Checking CZ for  Leme\n",
      "Checking CZ for  Suruç\n",
      "Checking CZ for  Maumere\n",
      "Checking CZ for  Liberec\n",
      "Checking CZ for  Aquin\n",
      "Checking CZ for  Brockton\n",
      "Checking CZ for  Techiman\n",
      "Checking CZ for  Chorzów\n",
      "Checking CZ for  Novara\n",
      "Checking CZ for  Tam Điệp\n",
      "Checking CZ for  Balanga\n",
      "Checking CZ for  Gillingham\n",
      "Checking CZ for  Arapongas\n",
      "Checking CZ for  Ikeda\n",
      "Checking CZ for  Açailandia\n",
      "Checking CZ for  Longmont\n",
      "Checking CZ for  Tādepallegūdem\n",
      "Checking CZ for  Maldonado\n",
      "Checking CZ for  Natitingou\n",
      "Checking CZ for  Thimphu\n",
      "Checking CZ for  Kroonstad\n",
      "Checking CZ for  Séguéla\n",
      "Checking CZ for  Sindangan\n",
      "Checking CZ for  Bānsbāria\n",
      "Checking CZ for  Tula de Allende\n",
      "Checking CZ for  Toride\n",
      "Checking CZ for  Dolisie\n",
      "Checking CZ for  Salford\n",
      "Checking CZ for  Masaka\n",
      "Checking CZ for  Rialto\n",
      "Checking CZ for  Saijō\n",
      "Checking CZ for  San Germán\n",
      "Checking CZ for  Moers\n",
      "Checking CZ for  Kilinochchi\n",
      "Checking CZ for  Coronel Fabriciano\n",
      "Checking CZ for  Pazardzhik\n",
      "Checking CZ for  Inzai\n",
      "Checking CZ for  Uitenhage\n",
      "Checking CZ for  Tantoyuca\n",
      "Checking CZ for  Biak\n",
      "Checking CZ for  Wigan\n",
      "Checking CZ for  Eau Claire\n",
      "Checking CZ for  Delft\n",
      "Checking CZ for  Berdsk\n",
      "Checking CZ for  Konotop\n",
      "Checking CZ for  Elista\n",
      "Checking CZ for  Yunfu\n",
      "Checking CZ for  Musoma\n",
      "Checking CZ for  Lida\n",
      "Checking CZ for  Mubende\n",
      "Checking CZ for  Fulgāzi\n",
      "Checking CZ for  Francistown\n",
      "Checking CZ for  Lower Hutt\n",
      "Checking CZ for  Turlock\n",
      "Checking CZ for  Woodbridge\n",
      "Checking CZ for  Hounslow\n",
      "Checking CZ for  Norwalk\n",
      "Checking CZ for  Bumba\n",
      "Checking CZ for  Araxá\n",
      "Checking CZ for  Būndi\n",
      "Checking CZ for  Mazatenango\n",
      "Checking CZ for  Highlands Ranch\n",
      "Checking CZ for  Almirante Tamandaré\n",
      "Checking CZ for  Chikushino\n",
      "Checking CZ for  Bergama\n",
      "Checking CZ for  Soasio\n",
      "Checking CZ for  Dongguazhen\n",
      "Checking CZ for  Itanhaém\n",
      "Checking CZ for  San Rafael\n",
      "Checking CZ for  Piacenza\n",
      "Checking CZ for  Miryang\n",
      "Checking CZ for  Tanjungpandan\n",
      "Checking CZ for  Bouskoura\n",
      "Checking CZ for  Paniqui\n",
      "Checking CZ for  Amarāvati\n",
      "Checking CZ for  Mengdingjie\n",
      "Checking CZ for  Yilong\n",
      "Checking CZ for  Parang\n",
      "Checking CZ for  Negapatam\n",
      "Checking CZ for  São Lourenço da Mata\n",
      "Checking CZ for  Sangju\n",
      "Checking CZ for  Roquetas de Mar\n",
      "Checking CZ for  Santa Rosa\n",
      "Checking CZ for  Buxar\n",
      "Checking CZ for  Wembley\n",
      "Checking CZ for  Siegen\n",
      "Checking CZ for  Allen\n",
      "Checking CZ for  Telde\n",
      "Checking CZ for  Kurichchi\n",
      "Checking CZ for  Hinche\n",
      "Checking CZ for  Girona\n",
      "Checking CZ for  Guihulñgan\n",
      "Checking CZ for  Saint Helens\n",
      "Checking CZ for  Jirjā\n",
      "Checking CZ for  Noginsk\n",
      "Checking CZ for  Wichita Falls\n",
      "Checking CZ for  Tezpur\n",
      "Checking CZ for  Bălţi\n",
      "Checking CZ for  Messaad\n",
      "Checking CZ for  Satu Mare\n",
      "Checking CZ for  Rio Rancho\n",
      "Checking CZ for  Sundarnagar\n",
      "Checking CZ for  Houzhuang\n",
      "Checking CZ for  Mayarí\n",
      "Checking CZ for  Seoni\n",
      "Checking CZ for  Sabanalarga\n",
      "Checking CZ for  Ngong\n",
      "Checking CZ for  Ban Mangkon\n",
      "Checking CZ for  Kāshmar\n",
      "Checking CZ for  Vacaville\n",
      "Checking CZ for  Bahrain\n",
      "Checking CZ for  Aurangābād\n",
      "Checking CZ for  Delta\n",
      "Checking CZ for  Joünié\n",
      "Checking CZ for  Mositai\n",
      "Checking CZ for  Spokane Valley\n",
      "Checking CZ for  Arafat\n",
      "Checking CZ for  Charlottesville\n",
      "Checking CZ for  Rishīkesh\n",
      "Checking CZ for  Yishi\n",
      "Checking CZ for  Isehara\n",
      "Checking CZ for  Novokuybyshevsk\n",
      "Checking CZ for  Shibuya\n",
      "Checking CZ for  Şabrātah\n",
      "Checking CZ for  Igarassu\n",
      "Checking CZ for  Al Fqih Ben Çalah\n",
      "Checking CZ for  Fugangcun\n",
      "Checking CZ for  Al Jumayl\n",
      "Checking CZ for  Hildesheim\n",
      "Checking CZ for  Dhangaḍhi̇̄\n",
      "Checking CZ for  Bethal\n",
      "Checking CZ for  Tavşanlı\n",
      "Checking CZ for  Worcester\n",
      "Checking CZ for  Shūshtar\n",
      "Checking CZ for  Tota\n",
      "Checking CZ for  Kapūrthala\n",
      "Checking CZ for  Boryeong\n",
      "Checking CZ for  Al Ḩajar al Aswad\n",
      "Checking CZ for  Dhamtari\n",
      "Checking CZ for  Teluk Intan\n",
      "Checking CZ for  Chishtian\n",
      "Checking CZ for  Chatham\n",
      "Checking CZ for  ‘Ibrī\n",
      "Checking CZ for  Nantou\n",
      "Checking CZ for  Ōnojō\n",
      "Checking CZ for  Brājarājnagar\n",
      "Checking CZ for  Santo Antônio de Jesus\n",
      "Checking CZ for  Eastbourne\n",
      "Checking CZ for  Sūjāngarh\n",
      "Checking CZ for  Akhmīm\n",
      "Checking CZ for  Ciudad Río Bravo\n",
      "Checking CZ for  Bhadreswar\n",
      "Checking CZ for  Balsas\n",
      "Checking CZ for  Hengnan\n",
      "Checking CZ for  Klagenfurt\n",
      "Checking CZ for  Chilakalūrupet\n",
      "Checking CZ for  San Luis de la Paz\n",
      "Checking CZ for  Hikkaduwa\n",
      "Checking CZ for  Idaho Falls\n",
      "Checking CZ for  Sungai Penuh\n",
      "Checking CZ for  Chaguanas\n",
      "Checking CZ for  Jingping\n",
      "Checking CZ for  Kousséri\n",
      "Checking CZ for  Aïn Oussera\n",
      "Checking CZ for  Deventer\n",
      "Checking CZ for  Liancheng\n",
      "Checking CZ for  Ngã Bảy\n",
      "Checking CZ for  Gütersloh\n",
      "Checking CZ for  Hồng Ngự\n",
      "Checking CZ for  Jeypore\n",
      "Checking CZ for  Zomba\n",
      "Checking CZ for  Daoukro\n",
      "Checking CZ for  Santa Cruz\n",
      "Checking CZ for  Menifee\n",
      "Checking CZ for  Leuven\n",
      "Checking CZ for  Mporokoso\n",
      "Checking CZ for  Vimmerby\n",
      "Checking CZ for  Ancona\n",
      "Checking CZ for  San Vicente de Baracaldo\n",
      "Checking CZ for  Aboisso\n",
      "Checking CZ for  Xırdalan\n",
      "Checking CZ for  Kanoya\n",
      "Checking CZ for  Sakado\n",
      "Checking CZ for  Oum el Bouaghi\n",
      "Checking CZ for  Bỉm Sơn\n",
      "Checking CZ for  Kefar Sava\n",
      "Checking CZ for  Chanwari\n",
      "Checking CZ for  Lee's Summit\n",
      "Checking CZ for  Muriaé\n",
      "Checking CZ for  Sungailiat\n",
      "Checking CZ for  Zheleznogorsk\n",
      "Checking CZ for  Leer\n",
      "Checking CZ for  Umuarama\n",
      "Checking CZ for  Cavite City\n",
      "Checking CZ for  Playas de Rosarito\n",
      "Checking CZ for  Kallithéa\n",
      "Checking CZ for  Ahar\n",
      "Checking CZ for  Yên Bái\n",
      "Checking CZ for  Weifen\n",
      "Checking CZ for  Port Blair\n",
      "Checking CZ for  Nāḩiyat al Iskandarīyah\n",
      "Checking CZ for  Kalyani\n",
      "Checking CZ for  Quincy\n",
      "Checking CZ for  Masjed Soleymān\n",
      "Checking CZ for  Kpalimé\n",
      "Checking CZ for  Calasiao\n",
      "Checking CZ for  Kamianets-Podilskyi\n",
      "Checking CZ for  Itauguá\n",
      "Checking CZ for  Torbat-e Jām\n",
      "Checking CZ for  Diourbel\n",
      "Checking CZ for  Madhavaram\n",
      "Checking CZ for  Red Deer\n",
      "Checking CZ for  Kawachinagano\n",
      "Checking CZ for  San Angelo\n",
      "Checking CZ for  Libertad\n",
      "Checking CZ for  Shahrisabz\n",
      "Checking CZ for  Gangtok\n",
      "Checking CZ for  Lynn\n",
      "Checking CZ for  Holland\n",
      "Checking CZ for  San Felipe del Progreso\n",
      "Checking CZ for  Chust\n",
      "Checking CZ for  Mairiporã\n",
      "Checking CZ for  Lamitan\n",
      "Checking CZ for  Talipao\n",
      "Checking CZ for  Formosa\n",
      "Checking CZ for  Kamloops\n",
      "Checking CZ for  Kaiserslautern\n",
      "Checking CZ for  Bacabal\n",
      "Checking CZ for  Zelënodol’sk\n",
      "Checking CZ for  Pyinmana\n",
      "Checking CZ for  Ra’s Ghārib\n",
      "Checking CZ for  Vāsco Da Gāma\n",
      "Checking CZ for  Babīlē\n",
      "Checking CZ for  Zahlé\n",
      "Checking CZ for  Bāmyān\n",
      "Checking CZ for  Ad Dujayl\n",
      "Checking CZ for  Dzolokpuita\n",
      "Checking CZ for  Gwelej\n",
      "Checking CZ for  Mumias\n",
      "Checking CZ for  Songea\n",
      "Checking CZ for  Pouytenga\n",
      "Checking CZ for  Sololá\n",
      "Checking CZ for  Luckeesarai\n",
      "Checking CZ for  Debre Zeyit\n",
      "Checking CZ for  Dunedin\n",
      "Checking CZ for  Andria\n",
      "Checking CZ for  Nabire\n",
      "Checking CZ for  Sundsvall\n",
      "Checking CZ for  Kadaiyanallūr\n",
      "Checking CZ for  Geita\n",
      "Checking CZ for  Federal Way\n",
      "Checking CZ for  Sayaxché\n",
      "Checking CZ for  Manteca\n",
      "Checking CZ for  Kalisz\n",
      "Checking CZ for  Chikusei\n",
      "Checking CZ for  Putatan\n",
      "Checking CZ for  Xiongzhou\n",
      "Checking CZ for  Urgut Shahri\n",
      "Checking CZ for  Fengning\n",
      "Checking CZ for  Kani\n",
      "Checking CZ for  Udine\n",
      "Checking CZ for  Tinsukia\n",
      "Checking CZ for  Dhār\n",
      "Checking CZ for  Santa Cruz del Quiché\n",
      "Checking CZ for  Lafayette\n",
      "Checking CZ for  Santa Fe\n",
      "Checking CZ for  Arezzo\n",
      "Checking CZ for  Tsuyama\n",
      "Checking CZ for  Alaminos\n",
      "Checking CZ for  Xiegang\n",
      "Checking CZ for  Tellicherry\n",
      "Checking CZ for  Jinotega\n",
      "Checking CZ for  Legnica\n",
      "Checking CZ for  Itārsi\n",
      "Checking CZ for  Izumisano\n",
      "Checking CZ for  Thika\n",
      "Checking CZ for  Bislig\n",
      "Checking CZ for  Hesperia\n",
      "Checking CZ for  Abhar\n",
      "Checking CZ for  Viseu\n",
      "Checking CZ for  Ginowan\n",
      "Checking CZ for  Wakefield\n",
      "Checking CZ for  Sakata\n",
      "Checking CZ for  La Crosse\n",
      "Checking CZ for  Khamīs Mushayţ\n",
      "Checking CZ for  Pili\n",
      "Checking CZ for  Hasilpur\n",
      "Checking CZ for  Trincomalee\n",
      "Checking CZ for  Breves\n",
      "Checking CZ for  Riberalta\n",
      "Checking CZ for  Morón\n",
      "Checking CZ for  Kārwār\n",
      "Checking CZ for  Kohīma\n",
      "Checking CZ for  Sisophon\n",
      "Checking CZ for  Ifakara\n",
      "Checking CZ for  Mīāneh\n",
      "Checking CZ for  Paoy Paet\n",
      "Checking CZ for  Riverview\n",
      "Checking CZ for  Weldiya\n",
      "Checking CZ for  Nyeri\n",
      "Checking CZ for  Tobolsk\n",
      "Checking CZ for  Burzaco\n",
      "Checking CZ for  Roubaix\n",
      "ERROR Roubaix\n",
      "Checking CZ for  Espejo\n",
      "Checking CZ for  Râmnicu Vâlcea\n",
      "Checking CZ for  Kingsport\n",
      "Checking CZ for  Edinburg\n",
      "Checking CZ for  Kontagora\n",
      "Checking CZ for  Senahú\n",
      "Checking CZ for  Khambhāt\n",
      "Checking CZ for  Cottbus\n",
      "Checking CZ for  Tourcoing\n",
      "ERROR Tourcoing\n",
      "Checking CZ for  Ixmiquilpan\n",
      "Checking CZ for  Vista\n",
      "Checking CZ for  Ballarat\n",
      "Checking CZ for  Bowling Green\n",
      "Checking CZ for  Reyhanlı\n",
      "Checking CZ for  Itoshima\n",
      "Checking CZ for  Zárate\n",
      "Checking CZ for  Oton\n",
      "Checking CZ for  Hanau\n",
      "Checking CZ for  Itaituba\n",
      "Checking CZ for  Sopron\n",
      "Checking CZ for  Koytendag\n",
      "Checking CZ for  Chipata\n",
      "Checking CZ for  Saku\n",
      "Checking CZ for  Silvassa\n",
      "Checking CZ for  M’lang\n",
      "Checking CZ for  Santiago de Compostela\n",
      "Checking CZ for  Carmel\n",
      "Checking CZ for  Oodweyne\n",
      "Checking CZ for  Longview\n",
      "Checking CZ for  Iseyin\n",
      "Checking CZ for  Tracy\n",
      "Checking CZ for  Kawkareik\n",
      "Checking CZ for  Moortebeek\n",
      "Checking CZ for  Chitose\n",
      "Checking CZ for  Rāmnagar\n",
      "Checking CZ for  Trelew\n",
      "Checking CZ for  Sarapul\n",
      "Checking CZ for  Prescott Valley\n",
      "Checking CZ for  Chía\n",
      "Checking CZ for  Catarman\n",
      "Checking CZ for  Paragominas\n",
      "Checking CZ for  Janakpur\n",
      "Checking CZ for  Serov\n",
      "Checking CZ for  Nanxicun\n",
      "Checking CZ for  Paulínia\n",
      "Checking CZ for  Kambar\n",
      "Checking CZ for  Al Jammālīyah\n",
      "Checking CZ for  Quilenda\n",
      "Checking CZ for  Lugo\n",
      "Checking CZ for  Radès\n",
      "Checking CZ for  Mariano Roque Alonso\n",
      "Checking CZ for  Hammamet\n",
      "Checking CZ for  Aşağıçinik\n",
      "Checking CZ for  Votkinsk\n",
      "Checking CZ for  Brantford\n",
      "Checking CZ for  Isulan\n",
      "Checking CZ for  Kallūru\n",
      "Checking CZ for  Beaverton\n",
      "Checking CZ for  Portsmouth\n",
      "Checking CZ for  Portsmouth\n",
      "ERROR Portsmouth\n",
      "Checking CZ for  Bafra\n",
      "Checking CZ for  Kōnan\n",
      "Checking CZ for  Adjarra\n",
      "Checking CZ for  Dongducheon\n",
      "Checking CZ for  Ocozocoautla de Espinosa\n",
      "Checking CZ for  Attock Khurd\n",
      "Checking CZ for  Valença\n",
      "Checking CZ for  Fanyang\n",
      "Checking CZ for  Yacuiba\n",
      "Checking CZ for  Tubarão\n",
      "Checking CZ for  Vị Thanh\n",
      "Checking CZ for  Pernik\n",
      "Checking CZ for  Ituiutaba\n",
      "Checking CZ for  Fishers\n",
      "Checking CZ for  Lorca\n",
      "Checking CZ for  Tucuruí\n",
      "Checking CZ for  Itacoatiara\n",
      "Checking CZ for  Worcester\n",
      "Checking CZ for  Ukhta\n",
      "Checking CZ for  Munakata\n",
      "Checking CZ for  Maribor\n",
      "Checking CZ for  Jamundí\n",
      "Checking CZ for  Colón\n",
      "Checking CZ for  Gävle\n",
      "Checking CZ for  Tumbes\n",
      "Checking CZ for  Es Senia\n",
      "Checking CZ for  Bodināyakkanūr\n",
      "Checking CZ for  Quvasoy\n",
      "Checking CZ for  Paletwa\n",
      "Checking CZ for  Barra do Piraí\n",
      "Checking CZ for  Greece\n",
      "Checking CZ for  Caotun\n",
      "Checking CZ for  Arauca\n",
      "Checking CZ for  Nanterre\n",
      "ERROR Nanterre\n",
      "Checking CZ for  Cesena\n",
      "Checking CZ for  Tela\n",
      "Checking CZ for  Paraíso\n",
      "Checking CZ for  Orem\n",
      "Checking CZ for  Cambé\n",
      "Checking CZ for  Do Gonbadān\n",
      "Checking CZ for  Sumber\n",
      "Checking CZ for  Kāzerūn\n",
      "Checking CZ for  Iida\n",
      "Checking CZ for  Tiddim\n",
      "Checking CZ for  Buin\n",
      "Checking CZ for  Witten\n",
      "Checking CZ for  Oldham\n",
      "Checking CZ for  Zhudong\n",
      "Checking CZ for  Iguatu\n",
      "Checking CZ for  Half Way Tree\n",
      "Checking CZ for  Wujiaqu\n",
      "Checking CZ for  Harihar\n",
      "Checking CZ for  Tomohon\n",
      "Checking CZ for  Mezhdurechensk\n",
      "Checking CZ for  Sandy\n",
      "Checking CZ for  Villupuram\n",
      "Checking CZ for  Kelo\n",
      "Checking CZ for  Sunrise\n",
      "Checking CZ for  Lysychansk\n",
      "Checking CZ for  Escalante\n",
      "Checking CZ for  Nova Lima\n",
      "Checking CZ for  Bayeux\n",
      "Checking CZ for  Leninsk-Kuznetskiy\n",
      "Checking CZ for  San Tan Valley\n",
      "Checking CZ for  Chārīkār\n",
      "Checking CZ for  Compton\n",
      "Checking CZ for  Çankırı\n",
      "Checking CZ for  Muzaffarabad\n",
      "Checking CZ for  Hammersmith\n",
      "Checking CZ for  Amalner\n",
      "Checking CZ for  Vīrappanchathiram\n",
      "Checking CZ for  La Libertad\n",
      "Checking CZ for  Balayan\n",
      "Checking CZ for  Arden-Arcade\n",
      "Checking CZ for  Longkeng\n",
      "Checking CZ for  Longquan\n",
      "Checking CZ for  Itaperuna\n",
      "Checking CZ for  Vanderbijlpark\n",
      "Checking CZ for  Schwerin\n",
      "Checking CZ for  Río Gallegos\n",
      "Checking CZ for  Caseros\n",
      "Checking CZ for  Caieiras\n",
      "Checking CZ for  Tataouine\n",
      "Checking CZ for  San Cugat del Vallés\n",
      "Checking CZ for  Las Rozas de Madrid\n",
      "Checking CZ for  Dhuliān\n",
      "Checking CZ for  Hadera\n",
      "Checking CZ for  Arifwala\n",
      "Checking CZ for  Jinbi\n",
      "Checking CZ for  Ōmura\n",
      "Checking CZ for  Bendigo\n",
      "Checking CZ for  Rayleigh\n",
      "Checking CZ for  Paramagudi\n",
      "Checking CZ for  Zerakpur\n",
      "Checking CZ for  Tandwa\n",
      "Checking CZ for  Vitry-sur-Seine\n",
      "ERROR Vitry-sur-Seine\n",
      "Checking CZ for  Japeri\n",
      "Checking CZ for  Shirē\n",
      "Checking CZ for  Kamisu\n",
      "Checking CZ for  Hanford\n",
      "Checking CZ for  Cáceres\n",
      "Checking CZ for  Lecce\n",
      "Checking CZ for  Xiluodu\n",
      "Checking CZ for  Aliağa\n",
      "Checking CZ for  Sarov\n",
      "Checking CZ for  Erbaa\n",
      "Checking CZ for  Boca Raton\n",
      "Checking CZ for  Tiruchengodu\n",
      "Checking CZ for  Mons\n",
      "Checking CZ for  Hương Thủy\n",
      "Checking CZ for  Middletown\n",
      "Checking CZ for  Livonia\n",
      "Checking CZ for  Oued Zem\n",
      "Checking CZ for  Sivakāsi\n",
      "Checking CZ for  Boli\n",
      "Checking CZ for  Nagīna\n",
      "Checking CZ for  Bogo\n",
      "Checking CZ for  Saint-Michel de l’Atalaye\n",
      "Checking CZ for  Guaíba\n",
      "Checking CZ for  Chākdaha\n",
      "Checking CZ for  Shimada\n",
      "Checking CZ for  Closepet\n",
      "Checking CZ for  Dovzhansk\n",
      "Checking CZ for  Birecik\n",
      "Checking CZ for  Yalamakūru\n",
      "Checking CZ for  Emmiganūr\n",
      "Checking CZ for  Balamban\n",
      "Checking CZ for  Siguatepeque\n",
      "Checking CZ for  Labuan\n",
      "Checking CZ for  Carson\n",
      "Checking CZ for  Naxçıvan\n",
      "Checking CZ for  Rawānduz\n",
      "Checking CZ for  Vāniyambādi\n",
      "Checking CZ for  Al Jīzah\n",
      "Checking CZ for  Jinshan\n",
      "Checking CZ for  Rubio\n",
      "Checking CZ for  Tiruttani\n",
      "Checking CZ for  Mianwali\n",
      "Checking CZ for  Toms River\n",
      "Checking CZ for  Nāḩiyat al Karmah\n",
      "Checking CZ for  Ocotlán\n",
      "Checking CZ for  Rincón de Romos\n",
      "Checking CZ for  Sibolga\n",
      "Checking CZ for  Pesaro\n",
      "Checking CZ for  Hemel Hempstead\n",
      "Checking CZ for  Kimilili\n",
      "Checking CZ for  San Ramón\n",
      "Checking CZ for  San Martín Jilotepeque\n",
      "Checking CZ for  Bouna\n",
      "Checking CZ for  Mbabane\n",
      "Checking CZ for  San Fernando\n",
      "Checking CZ for  Lagarto\n",
      "Checking CZ for  Bath\n",
      "Checking CZ for  Lawrence\n",
      "Checking CZ for  Behshahr\n",
      "Checking CZ for  Lopez\n",
      "Checking CZ for  Solikamsk\n",
      "Checking CZ for  Kanuma\n",
      "Checking CZ for  Gjakovë\n",
      "Checking CZ for  Dod Ballāpur\n",
      "Checking CZ for  Prizren\n",
      "Checking CZ for  Slidell\n",
      "Checking CZ for  San Joaquín\n",
      "Checking CZ for  Gerona\n",
      "Checking CZ for  Barletta\n",
      "Checking CZ for  Greenburgh\n",
      "Checking CZ for  Allinagaram\n",
      "Checking CZ for  Gatchina\n",
      "Checking CZ for  Bayan Hot\n",
      "Checking CZ for  Abreu e Lima\n",
      "Checking CZ for  Villa Luzuriaga\n",
      "Checking CZ for  Blacksburg\n",
      "Checking CZ for  Marmagao\n",
      "Checking CZ for  Grudziądz\n",
      "Checking CZ for  Hāgere Hiywet\n",
      "Checking CZ for  San Marcos\n",
      "Checking CZ for  Jaworzno\n",
      "Checking CZ for  Cape Breton\n",
      "Checking CZ for  Daltonganj\n",
      "Checking CZ for  Shibata\n",
      "Checking CZ for  Marmaris\n",
      "ERROR Marmaris\n",
      "Checking CZ for  České Budějovice\n",
      "Checking CZ for  Petapa\n",
      "Checking CZ for  Manacapuru\n",
      "Checking CZ for  Gera\n",
      "Checking CZ for  Ashiya\n",
      "Checking CZ for  Yishui\n",
      "Checking CZ for  Yi Xian\n",
      "Checking CZ for  Herẕliyya\n",
      "Checking CZ for  Alessandria\n",
      "Checking CZ for  Monkayo\n",
      "Checking CZ for  Azumino\n",
      "Checking CZ for  Valongo\n",
      "Checking CZ for  Itaúna\n",
      "Checking CZ for  Alvand\n",
      "Checking CZ for  Lingtang\n",
      "Checking CZ for  Kabacan\n",
      "Checking CZ for  Đông Hà\n",
      "Checking CZ for  Menderes\n",
      "Checking CZ for  Chiantla\n",
      "Checking CZ for  Simeulu\n",
      "Checking CZ for  Vilhena\n",
      "Checking CZ for  Ziftá\n",
      "Checking CZ for  Puerto Padre\n",
      "Checking CZ for  Al Fujayrah\n",
      "Checking CZ for  Yunnanyi\n",
      "Checking CZ for  Sanjō\n",
      "Checking CZ for  Mikhaylovsk\n",
      "Checking CZ for  Goodyear\n",
      "Checking CZ for  Jaén\n",
      "Checking CZ for  Voskresensk\n",
      "Checking CZ for  Lawang\n",
      "Checking CZ for  Esslingen\n",
      "Checking CZ for  Edmond\n",
      "Checking CZ for  Daanbantayan\n",
      "Checking CZ for  Ludwigsburg\n",
      "Checking CZ for  Şırnak\n",
      "Checking CZ for  Mayagüez\n",
      "Checking CZ for  Fall River\n",
      "Checking CZ for  Michurinsk\n",
      "Checking CZ for  La Spezia\n",
      "Checking CZ for  South Gate\n",
      "Checking CZ for  Wangjia\n",
      "Checking CZ for  Yashio\n",
      "Checking CZ for  Suffolk\n",
      "Checking CZ for  Terre Haute\n",
      "Checking CZ for  Créteil\n",
      "ERROR Créteil\n",
      "Checking CZ for  Akşehir\n",
      "Checking CZ for  Yotsukaidō\n",
      "Checking CZ for  Piraquara\n",
      "Checking CZ for  Santa Cruz Xoxocotlán\n",
      "Checking CZ for  Lemery\n",
      "Checking CZ for  Indanan\n",
      "Checking CZ for  Fenggang\n",
      "Checking CZ for  Bafang\n",
      "Checking CZ for  Galle\n",
      "Checking CZ for  Kwekwe\n",
      "Checking CZ for  Glazov\n",
      "Checking CZ for  Sidi Slimane\n",
      "Checking CZ for  La Marsa\n",
      "Checking CZ for  Ciudad General Belgrano\n",
      "Checking CZ for  Erciş\n",
      "Checking CZ for  Rafaela\n",
      "Checking CZ for  Wukari\n",
      "Checking CZ for  Itumbiara\n",
      "Checking CZ for  Missoula\n",
      "Checking CZ for  Palimbang\n",
      "Checking CZ for  Santa Monica\n",
      "Checking CZ for  Nisshin\n",
      "Checking CZ for  Hanamaki Onsen\n",
      "Checking CZ for  Boundiali\n",
      "Checking CZ for  La Reina\n",
      "Checking CZ for  Magadan\n",
      "Checking CZ for  Wimbledon\n",
      "Checking CZ for  Lethbridge\n",
      "Checking CZ for  Itapeva\n",
      "Checking CZ for  Tatvan\n",
      "Checking CZ for  Laiyuan\n",
      "Checking CZ for  Roswell\n",
      "Checking CZ for  Hradec Králové\n",
      "Checking CZ for  Foumban\n",
      "Checking CZ for  Iserlohn\n",
      "Checking CZ for  Akot\n",
      "Checking CZ for  Helmond\n",
      "Checking CZ for  Drobeta-Turnu Severin\n",
      "Checking CZ for  Inagi\n",
      "Checking CZ for  Mtwara\n",
      "Checking CZ for  Rongwo\n",
      "Checking CZ for  Sablayan\n",
      "Checking CZ for  Azua\n",
      "Checking CZ for  Naju\n",
      "Checking CZ for  Ōbu\n",
      "Checking CZ for  Oss\n",
      "Checking CZ for  Tripunittura\n",
      "Checking CZ for  Higashi-Matsuyama\n",
      "Checking CZ for  Bedford\n",
      "Checking CZ for  Saint-Jean-sur-Richelieu\n",
      "Checking CZ for  Errachidia\n",
      "Checking CZ for  Vineland\n",
      "Checking CZ for  Darlington\n",
      "Checking CZ for  Tatakan\n",
      "Checking CZ for  Sepatan\n",
      "Checking CZ for  Kitakami\n",
      "Checking CZ for  Contai\n",
      "Checking CZ for  Plantation\n",
      "Checking CZ for  Lavras\n",
      "Checking CZ for  Yumbo\n",
      "Checking CZ for  Santa Barbara\n",
      "Checking CZ for  Coatepec\n",
      "Checking CZ for  Suceava\n",
      "Checking CZ for  Ţalkhā\n",
      "Checking CZ for  Alafaya\n",
      "Checking CZ for  Clarington\n",
      "Checking CZ for  Acajutla\n",
      "Checking CZ for  Ústí nad Labem\n",
      "Checking CZ for  Kot Kapūra\n",
      "Checking CZ for  Netrakona\n",
      "Checking CZ for  Umeå\n",
      "Checking CZ for  Hove\n",
      "Checking CZ for  Kilosa\n",
      "Checking CZ for  Bender\n",
      "Checking CZ for  Tübingen\n",
      "Checking CZ for  Satsumasendai\n",
      "Checking CZ for  Ubatuba\n",
      "Checking CZ for  Düren\n",
      "Checking CZ for  Kakamega\n",
      "Checking CZ for  Pickering\n",
      "Checking CZ for  São João da Boa Vista\n",
      "Checking CZ for  Pardubice\n",
      "Checking CZ for  Avignon\n",
      "Checking CZ for  Ţurayf\n",
      "Checking CZ for  Southport\n",
      "Checking CZ for  Ouidah\n",
      "Checking CZ for  Goalundo Ghāt\n",
      "Checking CZ for  Amstelveen\n",
      "Checking CZ for  Sinendé\n",
      "Checking CZ for  Linquan\n",
      "Checking CZ for  Kirkland\n",
      "Checking CZ for  Phú Thọ\n",
      "Checking CZ for  Çaycuma\n",
      "Checking CZ for  Hamilton\n",
      "Checking CZ for  Grahamstown\n",
      "Checking CZ for  Weiyuan\n",
      "Checking CZ for  Yao\n",
      "Checking CZ for  Mogi Mirim\n",
      "Checking CZ for  Samālūţ\n",
      "Checking CZ for  Talara\n",
      "Checking CZ for  Velikiye Luki\n",
      "Checking CZ for  Tartu\n",
      "Checking CZ for  Hoover\n",
      "Checking CZ for  Salaman\n",
      "Checking CZ for  São Félix do Xingu\n",
      "Checking CZ for  San Francisco Solano\n",
      "Checking CZ for  Kalamariá\n",
      "Checking CZ for  Votuporanga\n",
      "Checking CZ for  Cáceres\n",
      "Checking CZ for  Westminster\n",
      "Checking CZ for  Gießen\n",
      "Checking CZ for  Jauharabad\n",
      "Checking CZ for  Kendu Bay\n",
      "Checking CZ for  Lawton\n",
      "Checking CZ for  Hilversum\n",
      "Checking CZ for  Rāyachoti\n",
      "Checking CZ for  Avaré\n",
      "Checking CZ for  Pāloncha\n",
      "Checking CZ for  San Leandro\n",
      "Checking CZ for  Caçapava\n",
      "Checking CZ for  Western Bicutan\n",
      "Checking CZ for  Flensburg\n",
      "Checking CZ for  Xiancun\n",
      "Checking CZ for  San Sebastián de los Reyes\n",
      "Checking CZ for  Maladzyechna\n",
      "Checking CZ for  Ambohimangakely\n",
      "Checking CZ for  Hastings\n",
      "ERROR Hastings\n",
      "Checking CZ for  Auburn\n",
      "Checking CZ for  Agua Prieta\n",
      "Checking CZ for  Lachhmangarh Sīkar\n",
      "Checking CZ for  Miaoli\n",
      "Checking CZ for  Tenancingo\n",
      "Checking CZ for  Tonacatepeque\n",
      "Checking CZ for  Guercif\n",
      "Checking CZ for  Chauk\n",
      "Checking CZ for  Solwezi\n",
      "Checking CZ for  Cisauk\n",
      "Checking CZ for  Caimbambo\n",
      "Checking CZ for  Norwalk\n",
      "Checking CZ for  Bauan\n",
      "Checking CZ for  O'Fallon\n",
      "Checking CZ for  Pongotan\n",
      "Checking CZ for  Cambambe\n",
      "Checking CZ for  Gwadar\n",
      "Checking CZ for  Funza\n",
      "Checking CZ for  Zhezqazghan\n",
      "Checking CZ for  Itajubá\n",
      "Checking CZ for  Katiola\n",
      "Checking CZ for  Biga\n",
      "Checking CZ for  Eslāmābād-e Gharb\n",
      "Checking CZ for  Chililabombwe\n",
      "Checking CZ for  Vanadzor\n",
      "Checking CZ for  Fundación\n",
      "Checking CZ for  Nanaimo\n",
      "Checking CZ for  São João del Rei\n",
      "Checking CZ for  Sahagún\n",
      "Checking CZ for  Arsuz\n",
      "Checking CZ for  Dobrich\n",
      "Checking CZ for  Pinamalayan\n",
      "Checking CZ for  São Sebastião\n",
      "Checking CZ for  Orpington\n",
      "Checking CZ for  Valjevo\n",
      "Checking CZ for  Julu\n",
      "Checking CZ for  Watford\n",
      "Checking CZ for  Masvingo\n",
      "Checking CZ for  Chino\n",
      "Checking CZ for  Germantown\n",
      "Checking CZ for  Caucasia\n",
      "Checking CZ for  Peñaflor\n",
      "Checking CZ for  Imizuchō\n",
      "Checking CZ for  Pistoia\n",
      "Checking CZ for  Abomey\n",
      "Checking CZ for  Babahoyo\n",
      "Checking CZ for  Jalalpur Jattan\n",
      "Checking CZ for  Pisa\n",
      "Checking CZ for  Wajir\n",
      "Checking CZ for  Victorias\n",
      "Checking CZ for  Kāvali\n",
      "Checking CZ for  Ocaña\n",
      "Checking CZ for  Modi‘in Makkabbim Re‘ut\n",
      "Checking CZ for  Barwaaqo\n",
      "Checking CZ for  Richard-Toll\n",
      "Checking CZ for  Al Badrashayn\n",
      "Checking CZ for  Afmadow\n",
      "Checking CZ for  Ma‘arrat an Nu‘mān\n",
      "Checking CZ for  Chalchuapa\n",
      "Checking CZ for  Uacu Cungo\n",
      "Checking CZ for  Léogâne\n",
      "Checking CZ for  Luau\n",
      "Checking CZ for  Necochea\n",
      "Checking CZ for  Möng Tun\n",
      "Checking CZ for  Mihara\n",
      "Checking CZ for  Mancherāl\n",
      "Checking CZ for  Compostela\n",
      "Checking CZ for  Presidencia Roque Sáenz Peña\n",
      "Checking CZ for  Dover\n",
      "Checking CZ for  Kiselëvsk\n",
      "Checking CZ for  Bismarck\n",
      "Checking CZ for  Balkanabat\n",
      "Checking CZ for  Waukegan\n",
      "Checking CZ for  Olavarría\n",
      "Checking CZ for  Catanzaro\n",
      "Checking CZ for  Buckeye\n",
      "Checking CZ for  Town 'n' Country\n",
      "Checking CZ for  Stevenage\n",
      "Checking CZ for  San José Pinula\n",
      "Checking CZ for  Sankeshwar\n",
      "Checking CZ for  Serdar\n",
      "Checking CZ for  Cantaura\n",
      "Checking CZ for  Zwickau\n",
      "Checking CZ for  Los Cerrillos\n",
      "Checking CZ for  Cheektowaga\n",
      "Checking CZ for  Kansk\n",
      "Checking CZ for  Mijas\n",
      "Checking CZ for  Conda\n",
      "Checking CZ for  Clifton\n",
      "Checking CZ for  Ţarţūs\n",
      "Checking CZ for  Bloomington\n",
      "Checking CZ for  El Puerto de Santa María\n",
      "Checking CZ for  Kadiri\n",
      "Checking CZ for  Ipil\n",
      "Checking CZ for  Prijedor\n",
      "Checking CZ for  Oulad Teïma\n",
      "Checking CZ for  Níkaia\n",
      "Checking CZ for  Mestre\n",
      "Checking CZ for  Caracase\n",
      "Checking CZ for  Surallah\n",
      "Checking CZ for  Ciudad de Atlixco\n",
      "Checking CZ for  Akyazı\n",
      "Checking CZ for  Ségbana\n",
      "Checking CZ for  Lucca\n",
      "Checking CZ for  Léré\n",
      "Checking CZ for  Poitiers\n",
      "ERROR Poitiers\n",
      "Checking CZ for  Phusro\n",
      "Checking CZ for  Polangui\n",
      "Checking CZ for  Banga\n",
      "Checking CZ for  Humpata\n",
      "Checking CZ for  Kalibo\n",
      "Checking CZ for  San Francisco\n",
      "Checking CZ for  Kūhdasht\n",
      "Checking CZ for  Jalal-Abad\n",
      "Checking CZ for  Kairāna\n",
      "Checking CZ for  Kamensk-Shakhtinskiy\n",
      "Checking CZ for  Saundatti\n",
      "Checking CZ for  Aubervilliers\n",
      "ERROR Aubervilliers\n",
      "Checking CZ for  Shwebo\n",
      "Checking CZ for  Hinigaran\n",
      "Checking CZ for  Calabanga\n",
      "Checking CZ for  Mount Pleasant\n",
      "Checking CZ for  As Salţ\n",
      "Checking CZ for  Passi\n",
      "Checking CZ for  Murcia\n",
      "Checking CZ for  Bogo\n",
      "Checking CZ for  Hartlepool\n",
      "Checking CZ for  Aalst\n",
      "Checking CZ for  Candeias\n",
      "Checking CZ for  Hemei\n",
      "Checking CZ for  Wangqing\n",
      "Checking CZ for  Viana do Castelo\n",
      "Checking CZ for  Danlí\n",
      "Checking CZ for  Florence\n",
      "Checking CZ for  Prešov\n",
      "Checking CZ for  Montelíbano\n",
      "Checking CZ for  Newton\n",
      "Checking CZ for  Ben Guerir\n",
      "Checking CZ for  Toviklin\n",
      "Checking CZ for  Chosica\n",
      "Checking CZ for  Paingkyon\n",
      "Checking CZ for  Rāsipuram\n",
      "Checking CZ for  Leping\n",
      "Checking CZ for  Kōka\n",
      "Checking CZ for  Maravatío de Ocampo\n",
      "Checking CZ for  State College\n",
      "Checking CZ for  Bình Hòa\n",
      "Checking CZ for  Podujevë\n",
      "Checking CZ for  San Luis\n",
      "Checking CZ for  Bayramaly\n",
      "Checking CZ for  Dongchuan\n",
      "Checking CZ for  Kimje\n",
      "Checking CZ for  Bhakkar\n",
      "Checking CZ for  Zhunan\n",
      "Checking CZ for  Bertoua\n",
      "Checking CZ for  La Grita\n",
      "Checking CZ for  Solana\n",
      "ERROR Solana\n",
      "Checking CZ for  Aïn M’Lila\n",
      "Checking CZ for  Nirmal\n",
      "Checking CZ for  Nirāla\n",
      "Checking CZ for  Ootacamund\n",
      "Checking CZ for  Echague\n",
      "Checking CZ for  Livermore\n",
      "Checking CZ for  Zhob\n",
      "Checking CZ for  Aroroy\n",
      "Checking CZ for  Ben Arous\n",
      "ERROR Ben Arous\n",
      "Checking CZ for  Prosperidad\n",
      "Checking CZ for  Alabel\n",
      "Checking CZ for  Ban Laem Chabang\n",
      "Checking CZ for  Grimsby\n",
      "Checking CZ for  Lobnya\n",
      "Checking CZ for  Jangipur\n",
      "Checking CZ for  Ponta Porã\n",
      "Checking CZ for  Jaffna\n",
      "Checking CZ for  Halifax\n",
      "Checking CZ for  Pingyuanjie\n",
      "Checking CZ for  Coronel Oviedo\n",
      "Checking CZ for  Rapid City\n",
      "Checking CZ for  Janzūr\n",
      "Checking CZ for  Leshou\n",
      "Checking CZ for  Sudbury\n",
      "Checking CZ for  Sangrūr\n",
      "Checking CZ for  Sinjār\n",
      "Checking CZ for  Jataí\n",
      "Checking CZ for  Decatur\n",
      "Checking CZ for  Qiantangcun\n",
      "Checking CZ for  Tacaná\n",
      "Checking CZ for  Al Wakrah\n",
      "Checking CZ for  Sassandra\n",
      "Checking CZ for  Sakai\n",
      "Checking CZ for  Dalton\n",
      "Checking CZ for  Conroe\n",
      "Checking CZ for  Jilotepec\n",
      "Checking CZ for  Makilala\n",
      "Checking CZ for  Wislane\n",
      "Checking CZ for  Maiquetía\n",
      "Checking CZ for  Mettupālaiyam\n",
      "Checking CZ for  Wakiso\n",
      "Checking CZ for  Bromley\n",
      "Checking CZ for  Ébolowa\n",
      "Checking CZ for  São Pedro da Aldeia\n",
      "Checking CZ for  Jumri Tilaiyā\n",
      "Checking CZ for  Hawthorne\n",
      "Checking CZ for  Lawrence\n",
      "Checking CZ for  Jagüey Grande\n",
      "Checking CZ for  Baggao\n",
      "ERROR Baggao\n",
      "Checking CZ for  San Juan de los Morros\n",
      "Checking CZ for  Aruppukkottai\n",
      "Checking CZ for  Berisso\n",
      "Checking CZ for  Farīdkot\n",
      "Checking CZ for  Calauan\n",
      "Checking CZ for  Ceylanpınar\n",
      "Checking CZ for  Makeni\n",
      "Checking CZ for  Ama\n",
      "Checking CZ for  São Gonçalo do Amarante\n",
      "Checking CZ for  Słupsk\n",
      "Checking CZ for  Pergamino\n",
      "Checking CZ for  Madgaon\n",
      "Checking CZ for  Baras\n",
      "Checking CZ for  Gitarama\n",
      "Checking CZ for  Santa Cruz do Capibaribe\n",
      "Checking CZ for  New Braunfels\n",
      "Checking CZ for  Koidu-Bulma\n",
      "Checking CZ for  Palangotu Adwār\n",
      "Checking CZ for  Citrus Heights\n",
      "Checking CZ for  Sakiet ez Zit\n",
      "Checking CZ for  Chester\n",
      "Checking CZ for  El Ejido\n",
      "Checking CZ for  Consolación del Sur\n",
      "Checking CZ for  Chiclana de la Frontera\n",
      "Checking CZ for  Cipolletti\n",
      "Checking CZ for  Changting\n",
      "Checking CZ for  Maasin\n",
      "ERROR Maasin\n",
      "Checking CZ for  San Fabian\n",
      "Checking CZ for  Denan\n",
      "Checking CZ for  Santa Catarina Pinula\n",
      "Checking CZ for  Calaca\n",
      "Checking CZ for  Jamūī\n",
      "Checking CZ for  Perintalmanna\n",
      "Checking CZ for  Camiling\n",
      "Checking CZ for  Nahualá\n",
      "Checking CZ for  Glyfáda\n",
      "Checking CZ for  Limpio\n",
      "Checking CZ for  Ratingen\n",
      "Checking CZ for  Shuangshuicun\n",
      "Checking CZ for  Chongoroi\n",
      "Checking CZ for  Ende\n",
      "Checking CZ for  Chimbas\n",
      "Checking CZ for  Bhola\n",
      "Checking CZ for  Jackson\n",
      "Checking CZ for  Takasagochō-takasemachi\n",
      "Checking CZ for  Bi’r al ‘Abd\n",
      "Checking CZ for  Whittier\n",
      "Checking CZ for  Dipalpur\n",
      "Checking CZ for  Fulham\n",
      "Checking CZ for  Houndé\n",
      "Checking CZ for  Brindisi\n",
      "Checking CZ for  Ad Diwem\n",
      "Checking CZ for  Norton\n",
      "Checking CZ for  Muncie\n",
      "Checking CZ for  Wulan\n",
      "Checking CZ for  São Cristóvão\n",
      "Checking CZ for  Aulnay-sous-Bois\n",
      "ERROR Aulnay-sous-Bois\n",
      "Checking CZ for  Itabaiana\n",
      "Checking CZ for  Heyunkeng\n",
      "Checking CZ for  Mardin\n",
      "Checking CZ for  Kumārapālaiyam\n",
      "Checking CZ for  Heerlen\n",
      "Checking CZ for  Mechelen\n",
      "Checking CZ for  Troy\n",
      "Checking CZ for  Binmaley\n",
      "Checking CZ for  Menglang\n",
      "Checking CZ for  Dunkerque\n",
      "ERROR Dunkerque\n",
      "Checking CZ for  Tangxing\n",
      "Checking CZ for  Campana\n",
      "Checking CZ for  Paredes\n",
      "Checking CZ for  Fukuroi\n",
      "Checking CZ for  Widekum\n",
      "Checking CZ for  Longonjo\n",
      "Checking CZ for  Clarkstown\n",
      "Checking CZ for  Gubkin\n",
      "Checking CZ for  Hānsi\n",
      "Checking CZ for  Kattagan\n",
      "Checking CZ for  Tiflet\n",
      "Checking CZ for  Cárdenas\n",
      "Checking CZ for  Shahdol\n",
      "Checking CZ for  Yoro\n",
      "Checking CZ for  Candelaria\n",
      "Checking CZ for  Homosassa Springs\n",
      "Checking CZ for  Nuneaton\n",
      "Checking CZ for  Colombes\n",
      "ERROR Colombes\n",
      "Checking CZ for  Anakāpalle\n",
      "Checking CZ for  São Roque\n",
      "Checking CZ for  Nabua\n",
      "Checking CZ for  Tucupita\n",
      "Checking CZ for  Villingen-Schwenningen\n",
      "Checking CZ for  Tuncheng\n",
      "Checking CZ for  Novotroitsk\n",
      "Checking CZ for  Nīmbāhera\n",
      "Checking CZ for  Mobara\n",
      "Checking CZ for  Cadereyta Jiménez\n",
      "Checking CZ for  Port Huron\n",
      "Checking CZ for  Nakhon Sawan\n",
      "Checking CZ for  Yaofeng\n",
      "Checking CZ for  Loznica\n",
      "Checking CZ for  Kalpitiya\n",
      "Checking CZ for  Yabēlo\n",
      "Checking CZ for  Santa Rosa Jauregui\n",
      "Checking CZ for  Dingcheng\n",
      "Checking CZ for  Guasavito\n",
      "Checking CZ for  Lünen\n",
      "Checking CZ for  Gotenba\n",
      "Checking CZ for  Buzuluk\n",
      "Checking CZ for  Odienné\n",
      "Checking CZ for  Ciudad de Melilla\n",
      "Checking CZ for  Mukacheve\n",
      "Checking CZ for  Bantayan\n",
      "Checking CZ for  San Antonio\n",
      "ERROR San Antonio\n",
      "Checking CZ for  Seoni Mālwa\n",
      "Checking CZ for  Settsu\n",
      "Checking CZ for  Sārni\n",
      "Checking CZ for  Napa\n",
      "Checking CZ for  Kameoka\n",
      "Checking CZ for  Shchëkino\n",
      "Checking CZ for  Bugulma\n",
      "Checking CZ for  Khowrāsgān\n",
      "Checking CZ for  Deerfield Beach\n",
      "Checking CZ for  Kitanagoya\n",
      "Checking CZ for  Longchuan\n",
      "Checking CZ for  Shaoshanzhan\n",
      "Checking CZ for  Potiskum\n",
      "Checking CZ for  Sharūrah\n",
      "Checking CZ for  Jaorā\n",
      "Checking CZ for  North Vancouver\n",
      "Checking CZ for  Keffi\n",
      "Checking CZ for  Coari\n",
      "Checking CZ for  Qaraçuxur\n",
      "Checking CZ for  Cacoal\n",
      "Checking CZ for  Springdale\n",
      "Checking CZ for  Iga\n",
      "Checking CZ for  Chiguayante\n",
      "Checking CZ for  Cabiao\n",
      "Checking CZ for  Kouvola\n",
      "Checking CZ for  Newport Beach\n",
      "Checking CZ for  Guanambi\n",
      "Checking CZ for  Guinobatan\n",
      "Checking CZ for  Dhārāpuram\n",
      "Checking CZ for  Kharian\n",
      "Checking CZ for  Yeysk\n",
      "Checking CZ for  Brossard\n",
      "Checking CZ for  Bāsoda\n",
      "Checking CZ for  Cachoeira do Sul\n",
      "Checking CZ for  Anderson\n",
      "Checking CZ for  Longhua\n",
      "Checking CZ for  San Ramon\n",
      "Checking CZ for  La Dorada\n",
      "Checking CZ for  San Pedro Sacatepéquez\n",
      "Checking CZ for  Ducheng\n",
      "Checking CZ for  Sekimachi\n",
      "Checking CZ for  Maratturai\n",
      "Checking CZ for  Karakol\n",
      "Checking CZ for  El Bayadh\n",
      "Checking CZ for  Lake Forest\n",
      "Checking CZ for  Xuddur\n",
      "Checking CZ for  Pariaman\n",
      "Checking CZ for  Toledo\n",
      "Checking CZ for  Chinnachauku\n",
      "Checking CZ for  Batarasa\n",
      "Checking CZ for  Colonie\n",
      "Checking CZ for  Lugang\n",
      "Checking CZ for  Junín\n",
      "Checking CZ for  Shumen\n",
      "Checking CZ for  Warder\n",
      "Checking CZ for  Pori\n",
      "Checking CZ for  Mitrovicë\n",
      "Checking CZ for  Garulia\n",
      "Checking CZ for  Torre del Greco\n",
      "Checking CZ for  Tagaytay\n",
      "Checking CZ for  General Rodríguez\n",
      "Checking CZ for  Mission\n",
      "Checking CZ for  Auburn\n",
      "Checking CZ for  Chiquinquirá\n",
      "Checking CZ for  Krishnagiri\n",
      "Checking CZ for  Brooklyn Park\n",
      "Checking CZ for  Caratinga\n",
      "Checking CZ for  Versailles\n",
      "ERROR Versailles\n",
      "Checking CZ for  Bryan\n",
      "Checking CZ for  Dapitan\n",
      "Checking CZ for  Takayama\n",
      "Checking CZ for  Grand Bourg\n",
      "Checking CZ for  Torrente\n",
      "Checking CZ for  Harda Khās\n",
      "Checking CZ for  Dharmapuri\n",
      "Checking CZ for  Springfield\n",
      "Checking CZ for  Maga\n",
      "Checking CZ for  Hattiesburg\n",
      "Checking CZ for  Louga\n",
      "Checking CZ for  Monte Chingolo\n",
      "Checking CZ for  Piatra Neamţ\n",
      "Checking CZ for  Jastrzębie-Zdrój\n",
      "Checking CZ for  Puerto Maldonado\n",
      "Checking CZ for  Mhow\n",
      "Checking CZ for  Derry\n",
      "Checking CZ for  Ealing\n",
      "Checking CZ for  Bahlā’\n",
      "Checking CZ for  Hövsan\n",
      "Checking CZ for  Walvisbaai\n",
      "Checking CZ for  Korgas\n",
      "Checking CZ for  Upper Darby\n",
      "Checking CZ for  Atakpamé\n",
      "Checking CZ for  Repentigny\n",
      "Checking CZ for  Westland\n",
      "Checking CZ for  Woolwich\n",
      "Checking CZ for  Treviso\n",
      "Checking CZ for  Cicero\n",
      "Checking CZ for  Albany\n",
      "Checking CZ for  Larnaca\n",
      "Checking CZ for  Jacobina\n",
      "Checking CZ for  Veliko Tarnovo\n",
      "Checking CZ for  Ílion\n",
      "Checking CZ for  Ciudad Mante\n",
      "Checking CZ for  Konstanz\n",
      "Checking CZ for  Chirundu\n",
      "Checking CZ for  Paracatu\n",
      "Checking CZ for  Fort Myers\n",
      "Checking CZ for  Heṭauḍā\n",
      "Checking CZ for  Sumenep\n",
      "Checking CZ for  Tshilenge\n",
      "Checking CZ for  Guider\n",
      "Checking CZ for  Mādabā\n",
      "Checking CZ for  Khemis Miliana\n",
      "Checking CZ for  Yokotemachi\n",
      "Checking CZ for  Dhorāji\n",
      "Checking CZ for  Honiara\n",
      "Checking CZ for  Ushiku\n",
      "Checking CZ for  Tire\n",
      "Checking CZ for  Senador Canedo\n",
      "Checking CZ for  Sabanalarga\n",
      "Checking CZ for  Dmitrov\n",
      "Checking CZ for  New Kru Town\n",
      "Checking CZ for  Kaizuka\n",
      "Checking CZ for  Serra Talhada\n",
      "Checking CZ for  Nabunturan\n",
      "Checking CZ for  Bais\n",
      "Checking CZ for  Villa Altagracia\n",
      "Checking CZ for  Science City of Muñoz\n",
      "Checking CZ for  Pine Hills\n",
      "Checking CZ for  Athurugiriya\n",
      "Checking CZ for  Higashiyamato\n",
      "Checking CZ for  Ayase\n",
      "Checking CZ for  Newmarket\n",
      "Checking CZ for  Atascocita\n",
      "Checking CZ for  Pará de Minas\n",
      "Checking CZ for  Chigorodó\n",
      "Checking CZ for  Concepción Tutuapa\n",
      "Checking CZ for  Wakō\n",
      "Checking CZ for  Osijek\n",
      "Checking CZ for  Al Hindīyah\n",
      "Checking CZ for  Luancheng\n",
      "Checking CZ for  Dārayyā\n",
      "Checking CZ for  Sambava\n",
      "Checking CZ for  Kitakōriyamachō\n",
      "Checking CZ for  Ath Thawrah\n",
      "Checking CZ for  Felipe Carrillo Puerto\n",
      "Checking CZ for  Bolinao\n",
      "Checking CZ for  Buena Park\n",
      "Checking CZ for  Marl\n",
      "Checking CZ for  Arujá\n",
      "Checking CZ for  El Milia\n",
      "Checking CZ for  Channapatna\n",
      "Checking CZ for  Cereté\n",
      "Checking CZ for  Redwood City\n",
      "Checking CZ for  Vélez-Málaga\n",
      "Checking CZ for  Fredrikstad\n",
      "Checking CZ for  Chita\n",
      "Checking CZ for  Kineshma\n",
      "Checking CZ for  Zheleznogorsk\n",
      "Checking CZ for  Worms\n",
      "Checking CZ for  Xishancun\n",
      "Checking CZ for  Acayucan\n",
      "Checking CZ for  Chilliwack\n",
      "Checking CZ for  Ijuí\n",
      "Checking CZ for  Bhawānipatna\n",
      "Checking CZ for  San Baudilio de Llobregat\n",
      "Checking CZ for  Farmington Hills\n",
      "Checking CZ for  Buuhoodle\n",
      "Checking CZ for  Pilkhua\n",
      "Checking CZ for  Ho\n",
      "Checking CZ for  Alton\n",
      "Checking CZ for  Ponnāni\n",
      "ERROR Ponnāni\n",
      "Checking CZ for  Haskovo\n",
      "Checking CZ for  Komae\n",
      "Checking CZ for  Barahona\n",
      "Checking CZ for  Tiruppattūr\n",
      "Checking CZ for  Moriyama\n",
      "Checking CZ for  Hayes\n",
      "Checking CZ for  Torrevieja\n",
      "Checking CZ for  Ciudad de Ceuta\n",
      "ERROR Ciudad de Ceuta\n",
      "Checking CZ for  Tila\n",
      "Checking CZ for  Melbourne\n",
      "Checking CZ for  Talavera de la Reina\n",
      "Checking CZ for  Miami Beach\n",
      "ERROR Miami Beach\n",
      "Checking CZ for  Lafey\n",
      "Checking CZ for  Aylesbury\n",
      "Checking CZ for  Nazareth\n",
      "Checking CZ for  Taytay\n",
      "Checking CZ for  Phúc Yên\n",
      "Checking CZ for  Santana do Livramento\n",
      "Checking CZ for  Reşiţa\n",
      "Checking CZ for  Como\n",
      "Checking CZ for  Serrinha\n",
      "Checking CZ for  Maco\n",
      "Checking CZ for  Lqoliaa\n",
      "Checking CZ for  Fuengirola\n",
      "Checking CZ for  Sirsilla\n",
      "Checking CZ for  Alhambra\n",
      "Checking CZ for  Boukoumbé\n",
      "Checking CZ for  Habiganj\n",
      "Checking CZ for  Pontevedra\n",
      "Checking CZ for  La Trinidad\n",
      "Checking CZ for  Siaton\n",
      "Checking CZ for  San Antonio\n",
      "Checking CZ for  Busto Arsizio\n",
      "Checking CZ for  Williamsburg\n",
      "Checking CZ for  San Fernando\n",
      "Checking CZ for  Wutiancun\n",
      "Checking CZ for  Arona\n",
      "Checking CZ for  Mingxing\n",
      "Checking CZ for  Kateríni\n",
      "Checking CZ for  Mānsa\n",
      "Checking CZ for  Tual\n",
      "Checking CZ for  Mabinay\n",
      "Checking CZ for  Nantingcun\n",
      "Checking CZ for  Al Ḩayy\n",
      "Checking CZ for  Seropédica\n",
      "Checking CZ for  Jabālyā\n",
      "Checking CZ for  Ufeyn\n",
      "Checking CZ for  Ji’an\n",
      "Checking CZ for  Barra do Corda\n",
      "Checking CZ for  Marsala\n",
      "Checking CZ for  Sorriso\n",
      "Checking CZ for  Shīrvān\n",
      "Checking CZ for  Madera\n",
      "Checking CZ for  Uman\n",
      "Checking CZ for  Stockton-on-Tees\n",
      "Checking CZ for  Nakatsu\n",
      "Checking CZ for  Warwick\n",
      "Checking CZ for  Cranston\n",
      "Checking CZ for  Tanjay\n",
      "Checking CZ for  Cruzeiro do Sul\n",
      "Checking CZ for  Chingleput\n",
      "Checking CZ for  Mian Channun\n",
      "Checking CZ for  Manfalūţ\n",
      "Checking CZ for  Rivadavia\n",
      "Checking CZ for  Rivadavia\n",
      "Checking CZ for  Chelghoum el Aïd\n",
      "Checking CZ for  Bhalwal\n",
      "Checking CZ for  Polatsk\n",
      "Checking CZ for  Baytown\n",
      "Checking CZ for  Calatrava\n",
      "Checking CZ for  Wuyi\n",
      "Checking CZ for  Chulucanas\n",
      "Checking CZ for  Largo\n",
      "Checking CZ for  Târgu Jiu\n",
      "Checking CZ for  El Estor\n",
      "Checking CZ for  Silver Spring\n",
      "Checking CZ for  Edmonton\n",
      "Checking CZ for  Patrocínio\n",
      "Checking CZ for  Cukai\n",
      "Checking CZ for  Lakewood\n",
      "Checking CZ for  Mountain View\n",
      "Checking CZ for  Chervonohrad\n",
      "Checking CZ for  Chaykovskiy\n",
      "Checking CZ for  Sabaneta\n",
      "Checking CZ for  White Rock\n",
      "Checking CZ for  Campo Mourão\n",
      "Checking CZ for  Oleksandriia\n",
      "Checking CZ for  Owariasahi\n",
      "Checking CZ for  Shikokuchūō\n",
      "Checking CZ for  Kuznetsk\n",
      "Checking CZ for  Maple Ridge\n",
      "Checking CZ for  Puerto Iguazú\n",
      "Checking CZ for  Courbevoic\n",
      "ERROR Courbevoic\n",
      "Checking CZ for  Atambua\n",
      "Checking CZ for  Saint Albans\n",
      "Checking CZ for  Kankakee\n",
      "Checking CZ for  Peterborough\n",
      "Checking CZ for  Bekobod\n",
      "Checking CZ for  Johns Creek\n",
      "Checking CZ for  Harlow\n",
      "Checking CZ for  Grosseto\n",
      "Checking CZ for  Carmen\n",
      "Checking CZ for  Burnley\n",
      "Checking CZ for  Velbert\n",
      "Checking CZ for  Ust’-Ilimsk\n",
      "Checking CZ for  Redditch\n",
      "Checking CZ for  Saunda\n",
      "Checking CZ for  Kongjiazhuangcun\n",
      "Checking CZ for  Minden\n",
      "Checking CZ for  Aracruz\n",
      "Checking CZ for  Ashoknagar\n",
      "Checking CZ for  Ubay\n",
      "Checking CZ for  Sesto San Giovanni\n",
      "Checking CZ for  Yurga\n",
      "Checking CZ for  Bhaktapur\n",
      "Checking CZ for  Banco Filipino International Village\n",
      "Checking CZ for  Bilecik\n",
      "Checking CZ for  Lucerne\n",
      "Checking CZ for  Siasi\n",
      "Checking CZ for  Flagstaff\n",
      "Checking CZ for  Xindian\n",
      "Checking CZ for  Planaltina\n",
      "Checking CZ for  Watampone\n",
      "Checking CZ for  Kātoya\n",
      "Checking CZ for  Paranavaí\n",
      "Checking CZ for  Muroran\n",
      "Checking CZ for  Apizaco\n",
      "Checking CZ for  Hukou\n",
      "Checking CZ for  Ōmihachiman\n",
      "Checking CZ for  Mpanda\n",
      "Checking CZ for  Franklin\n",
      "Checking CZ for  Purmerend\n",
      "Checking CZ for  Dar el Beïda\n",
      "Checking CZ for  Imam Qasim\n",
      "Checking CZ for  Kentaū\n",
      "Checking CZ for  Remedios de Escalada\n",
      "Checking CZ for  Xicotepec de Juárez\n",
      "Checking CZ for  Anapa\n",
      "Checking CZ for  Matão\n",
      "Checking CZ for  Hakkari\n",
      "Checking CZ for  Afşin\n",
      "Checking CZ for  Shuibian\n",
      "Checking CZ for  Kadi\n",
      "Checking CZ for  Xiedian\n",
      "Checking CZ for  Caldas\n",
      "Checking CZ for  Kimitsu\n",
      "Checking CZ for  Matalam\n",
      "Checking CZ for  Senhor do Bonfim\n",
      "Checking CZ for  Buhi\n",
      "Checking CZ for  Athi River\n",
      "Checking CZ for  Nowy Sącz\n",
      "Checking CZ for  Timóteo\n",
      "Checking CZ for  Dessau-Roßlau\n",
      "Checking CZ for  Lambunao\n",
      "Checking CZ for  Bulacan\n",
      "Checking CZ for  Novouralsk\n",
      "Checking CZ for  Mannārgudi\n",
      "Checking CZ for  Port of Spain\n",
      "Checking CZ for  Pozzuoli\n",
      "Checking CZ for  Pilar\n",
      "Checking CZ for  Hengkou\n",
      "Checking CZ for  Itá\n",
      "Checking CZ for  Kapalong\n",
      "Checking CZ for  Panzos\n",
      "Checking CZ for  Salina Cruz\n",
      "Checking CZ for  Tecate\n",
      "Checking CZ for  Hengelo\n",
      "Checking CZ for  Kashiwazaki\n",
      "Checking CZ for  Joplin\n",
      "Checking CZ for  La Louvière\n",
      "Checking CZ for  Aquiraz\n",
      "Checking CZ for  Parma\n",
      "Checking CZ for  Layton\n",
      "Checking CZ for  Campo Limpo\n",
      "Checking CZ for  Ahenkro\n",
      "Checking CZ for  Karanganyar\n",
      "Checking CZ for  Yonezawa\n",
      "Checking CZ for  Orihuela\n",
      "Checking CZ for  Deurne\n",
      "Checking CZ for  Shiji\n",
      "Checking CZ for  Gobernador Gálvez\n",
      "Checking CZ for  San Francisco\n",
      "Checking CZ for  Esteio\n",
      "Checking CZ for  Malapatan\n",
      "Checking CZ for  Azov\n",
      "Checking CZ for  Barili\n",
      "Checking CZ for  Meybod\n",
      "Checking CZ for  New Rochelle\n",
      "Checking CZ for  Yanggao\n",
      "Checking CZ for  Anderson\n",
      "Checking CZ for  Ipojuca\n",
      "Checking CZ for  Viedma\n",
      "Checking CZ for  Daugavpils\n",
      "Checking CZ for  Bargarh\n",
      "Checking CZ for  Lebanon\n",
      "Checking CZ for  San Cristóbal Verapaz\n",
      "Checking CZ for  Comitancillo\n",
      "Checking CZ for  Somerville\n",
      "Checking CZ for  San Ramón\n",
      "Checking CZ for  Rafḩā\n",
      "Checking CZ for  Varese\n",
      "Checking CZ for  Bulanık\n",
      "Checking CZ for  Samā’il\n",
      "Checking CZ for  Randfontein\n",
      "Checking CZ for  Batley\n",
      "Checking CZ for  Ādīgala\n",
      "Checking CZ for  Nagaoka\n",
      "Checking CZ for  Norderstedt\n",
      "Checking CZ for  Calandala\n",
      "Checking CZ for  Tala\n",
      "Checking CZ for  Antehiroka\n",
      "Checking CZ for  Cabadbaran\n",
      "Checking CZ for  Uvinza\n",
      "Checking CZ for  Tallaght\n",
      "Checking CZ for  Tagoloan\n",
      "Checking CZ for  Kāmāreddipet\n",
      "Checking CZ for  Zuwārah\n",
      "Checking CZ for  Yauco\n",
      "Checking CZ for  Bafut\n",
      "Checking CZ for  Tākestān\n",
      "Checking CZ for  Arni\n",
      "Checking CZ for  Echizen\n",
      "Checking CZ for  Lívingston\n",
      "ERROR Lívingston\n",
      "Checking CZ for  Los Patios\n",
      "Checking CZ for  Bolpur\n",
      "Checking CZ for  Mbalmayo\n",
      "Checking CZ for  Peruvancha\n",
      "Checking CZ for  Sint-Niklaas\n",
      "Checking CZ for  Taroudannt\n",
      "Checking CZ for  Namsan\n",
      "Checking CZ for  Simdega\n",
      "Checking CZ for  Gumlā\n",
      "Checking CZ for  Meïganga\n",
      "Checking CZ for  St. Joseph\n",
      "Checking CZ for  Qo‘ng‘irot Shahri\n",
      "Checking CZ for  Manmād\n",
      "Checking CZ for  Suramāla\n",
      "Checking CZ for  Plymouth\n",
      "Checking CZ for  Arsikere\n",
      "Checking CZ for  Zarzis\n",
      "Checking CZ for  Andahuaylas\n",
      "Checking CZ for  Jamshoro\n",
      "Checking CZ for  Tall ‘Afar\n",
      "Checking CZ for  Balad\n",
      "Checking CZ for  Masallātah\n",
      "Checking CZ for  Puerto Ayacucho\n",
      "Checking CZ for  San Carlos del Zulia\n",
      "Checking CZ for  Capenda Camulemba\n",
      "Checking CZ for  Kathri\n",
      "Checking CZ for  Nabatîyé\n",
      "Checking CZ for  Koktokay\n",
      "Checking CZ for  Scunthorpe\n",
      "Checking CZ for  Sremska Mitrovica\n",
      "Checking CZ for  Turhal\n",
      "Checking CZ for  Ben Gardane\n",
      "Checking CZ for  Tustin\n",
      "Checking CZ for  Sefrou\n",
      "Checking CZ for  Pátzcuaro\n",
      "Checking CZ for  San Jose\n",
      "Checking CZ for  Sokcho\n",
      "ERROR Sokcho\n",
      "Checking CZ for  Paco\n",
      "Checking CZ for  Kottagūdem\n",
      "Checking CZ for  Idah\n",
      "Checking CZ for  Chiquimula\n",
      "Checking CZ for  Lelystad\n",
      "Checking CZ for  Baracoa\n",
      "Checking CZ for  Zephyrhills\n",
      "Checking CZ for  Poblacion\n",
      "Checking CZ for  Ciudad Lerdo\n",
      "Checking CZ for  Jinhe\n",
      "Checking CZ for  Fiumicino\n",
      "Checking CZ for  Tissamaharama\n",
      "Checking CZ for  Târgovişte\n",
      "Checking CZ for  Akiruno\n",
      "Checking CZ for  Milpitas\n",
      "Checking CZ for  Florence\n",
      "Checking CZ for  Manhuaçu\n",
      "Checking CZ for  Calarcá\n",
      "Checking CZ for  Patikul\n",
      "Checking CZ for  Pleasanton\n",
      "Checking CZ for  Ezpeleta\n",
      "Checking CZ for  Banī Mazār\n",
      "Checking CZ for  Mahdia\n",
      "Checking CZ for  Mabai\n",
      "Checking CZ for  Krasnyi Luch\n",
      "Checking CZ for  Vila do Conde\n",
      "Checking CZ for  Galway\n",
      "Checking CZ for  Eséka\n",
      "Checking CZ for  Neumünster\n",
      "Checking CZ for  Robles\n",
      "Checking CZ for  Alfenas\n",
      "Checking CZ for  Boynton Beach\n",
      "Checking CZ for  Torres Vedras\n",
      "Checking CZ for  Yalta\n",
      "Checking CZ for  Jiangna\n",
      "Checking CZ for  Langarūd\n",
      "Checking CZ for  Afgooye\n",
      "Checking CZ for  Dudley\n",
      "Checking CZ for  Iwamizawa\n",
      "Checking CZ for  Villa María\n",
      "Checking CZ for  Yenakiieve\n",
      "Checking CZ for  Mangatarem\n",
      "Checking CZ for  Ban Talat Rangsit\n",
      "Checking CZ for  Focşani\n",
      "Checking CZ for  Sorgun\n",
      "Checking CZ for  Texarkana\n",
      "Checking CZ for  Owendo\n",
      "ERROR Owendo\n",
      "Checking CZ for  Gamagōri\n",
      "Checking CZ for  Schiedam\n",
      "Checking CZ for  Natori-shi\n",
      "Checking CZ for  Lisala\n",
      "Checking CZ for  Juventino Rosas\n",
      "Checking CZ for  Folsom\n",
      "Checking CZ for  Ciudad Lázaro Cárdenas\n",
      "Checking CZ for  Jaen\n",
      "Checking CZ for  Dobni Para\n",
      "Checking CZ for  Kadoma\n",
      "Checking CZ for  Hannō\n",
      "Checking CZ for  Klin\n",
      "Checking CZ for  Tīkamgarh\n",
      "Checking CZ for  Valdemoro\n",
      "Checking CZ for  Bellflower\n",
      "Checking CZ for  Ozërsk\n",
      "Checking CZ for  Handeni\n",
      "Checking CZ for  Būmahen\n",
      "Checking CZ for  Ubon Ratchathani\n",
      "Checking CZ for  Bahārestān\n",
      "Checking CZ for  Arāria\n",
      "Checking CZ for  Cuamba\n",
      "Checking CZ for  Huaral\n",
      "Checking CZ for  Pato Branco\n",
      "Checking CZ for  Rubí\n",
      "Checking CZ for  Madīnat as Sādāt\n",
      "Checking CZ for  Pharr\n",
      "Checking CZ for  Pèrèrè\n",
      "Checking CZ for  Telêmaco Borba\n",
      "Checking CZ for  Francisco Beltrão\n",
      "Checking CZ for  Homestead\n",
      "Checking CZ for  Bistriţa\n",
      "Checking CZ for  Subulussalam\n",
      "Checking CZ for  Tambacounda\n",
      "Checking CZ for  Valdosta\n",
      "Checking CZ for  Dome\n",
      "Checking CZ for  Nakhon Pathom\n",
      "Checking CZ for  Toboali\n",
      "Checking CZ for  Tierralta\n",
      "Checking CZ for  Barreiro\n",
      "Checking CZ for  Mosigkau\n",
      "Checking CZ for  Maizuru\n",
      "Checking CZ for  Bury\n",
      "Checking CZ for  Eastleigh\n",
      "Checking CZ for  Elbasan\n",
      "Checking CZ for  Pagbilao\n",
      "Checking CZ for  Villa Celina\n",
      "Checking CZ for  Alīgūdarz\n",
      "Checking CZ for  Zaandam\n",
      "Checking CZ for  Mooka\n",
      "Checking CZ for  Arlit\n",
      "Checking CZ for  Dondo\n",
      "Checking CZ for  Skarżysko-Kamienna\n",
      "Checking CZ for  Moju\n",
      "Checking CZ for  Upland\n",
      "Checking CZ for  Hengbei\n",
      "Checking CZ for  Kuvango\n",
      "Checking CZ for  Brixton\n",
      "Checking CZ for  Nitra\n",
      "Checking CZ for  Gyōda\n",
      "Checking CZ for  Sahuayo de Morelos\n",
      "Checking CZ for  Vyborg\n",
      "Checking CZ for  Evanston\n",
      "Checking CZ for  Aveiro\n",
      "Checking CZ for  Bauang\n",
      "Checking CZ for  Newark\n",
      "Checking CZ for  Elizabethtown\n",
      "Checking CZ for  Arkonam\n",
      "Checking CZ for  St. Augustine\n",
      "Checking CZ for  Rancho Cordova\n",
      "Checking CZ for  Bandar Emām\n",
      "Checking CZ for  Kashiba\n",
      "Checking CZ for  Jelenia Góra\n",
      "Checking CZ for  Banská Bystrica\n",
      "Checking CZ for  Alameda\n",
      "Checking CZ for  Rueil-Malmaison\n",
      "ERROR Rueil-Malmaison\n",
      "Checking CZ for  Béziers\n",
      "Checking CZ for  Pototan\n",
      "Checking CZ for  Qorveh\n",
      "Checking CZ for  Queluz\n",
      "Checking CZ for  Limay\n",
      "ERROR Limay\n",
      "Checking CZ for  Bamban\n",
      "Checking CZ for  Manbij\n",
      "Checking CZ for  Pingyi\n",
      "Checking CZ for  Huolu\n",
      "Checking CZ for  San Pedro Pinula\n",
      "Checking CZ for  Chino Hills\n",
      "Checking CZ for  Péhonko\n",
      "Checking CZ for  Manresa\n",
      "Checking CZ for  Argao\n",
      "Checking CZ for  Al Khānkah\n",
      "Checking CZ for  Pinheiro\n",
      "Checking CZ for  Chitembo\n",
      "Checking CZ for  Ilioúpoli\n",
      "Checking CZ for  Macabebe\n",
      "Checking CZ for  Kropotkin\n",
      "Checking CZ for  Malate\n",
      "Checking CZ for  Kuacjok\n",
      "Checking CZ for  Faranah\n",
      "Checking CZ for  Perris\n",
      "Checking CZ for  Mandiraja Kulon\n",
      "Checking CZ for  Bor\n",
      "Checking CZ for  Dias d’Ávila\n",
      "Checking CZ for  Schaumburg\n",
      "Checking CZ for  Kizugawa\n",
      "Checking CZ for  Godāwari̇̄\n",
      "Checking CZ for  Kendall\n",
      "Checking CZ for  Balqash\n",
      "Checking CZ for  Essaouira\n",
      "Checking CZ for  Tanuku\n",
      "Checking CZ for  Narra\n",
      "Checking CZ for  Koch Bihār\n",
      "Checking CZ for  Chengbin\n",
      "Checking CZ for  Fray Bartolomé de Las Casas\n",
      "Checking CZ for  Villa Victoria\n",
      "Checking CZ for  Camarillo\n",
      "Checking CZ for  Linkou\n",
      "Checking CZ for  Bamberg\n",
      "Checking CZ for  Kuniyamuttūr\n",
      "Checking CZ for  Kortrijk\n",
      "Checking CZ for  Kambam\n",
      "Checking CZ for  Anniston\n",
      "Checking CZ for  Huebampo\n",
      "Checking CZ for  Hasselt\n",
      "Checking CZ for  Bebedouro\n",
      "Checking CZ for  Sumter\n",
      "Checking CZ for  Numan\n",
      "Checking CZ for  Phuket\n",
      "Checking CZ for  Delmenhorst\n",
      "Checking CZ for  Basavakalyān\n",
      "Checking CZ for  Bodhan\n",
      "Checking CZ for  Unaí\n",
      "Checking CZ for  Mansfield\n",
      "Checking CZ for  Viersen\n",
      "Checking CZ for  Jonesboro\n",
      "Checking CZ for  Santa Catalina\n",
      "Checking CZ for  Hammond\n",
      "Checking CZ for  Hermosa\n",
      "Checking CZ for  Fnidq\n",
      "ERROR Fnidq\n",
      "Checking CZ for  Três Rios\n",
      "Checking CZ for  Usol’ye-Sibirskoye\n",
      "Checking CZ for  Carmichael\n",
      "Checking CZ for  Vorkuta\n",
      "Checking CZ for  Quatre Bornes\n",
      "Checking CZ for  Araripina\n",
      "Checking CZ for  Puli\n",
      "Checking CZ for  Arlington Heights\n",
      "Checking CZ for  Santa Inês\n",
      "Checking CZ for  Caxito\n",
      "Checking CZ for  Bracknell\n",
      "Checking CZ for  Ban Tha Khlong\n",
      "Checking CZ for  Cozumel\n",
      "Checking CZ for  Paisley\n",
      "Checking CZ for  Gelendzhik\n",
      "Checking CZ for  Pattoki\n",
      "Checking CZ for  Kayes\n",
      "Checking CZ for  Harunabad\n",
      "Checking CZ for  La Rochelle\n",
      "ERROR La Rochelle\n",
      "Checking CZ for  Aş Şuwayrah\n",
      "Checking CZ for  Roosendaal\n",
      "Checking CZ for  Bustos\n",
      "Checking CZ for  Morgantown\n",
      "Checking CZ for  Fukuchiyama\n",
      "Checking CZ for  Shūsh\n",
      "Checking CZ for  Palencia\n",
      "Checking CZ for  Casoria\n",
      "Checking CZ for  Keratsíni\n",
      "Checking CZ for  Umingan\n",
      "Checking CZ for  Tecamachalco\n",
      "Checking CZ for  Guildford\n",
      "Checking CZ for  Champigny-sur-Marne\n",
      "ERROR Champigny-sur-Marne\n",
      "Checking CZ for  Nikkō\n",
      "Checking CZ for  Talakag\n",
      "Checking CZ for  Balagtas\n",
      "Checking CZ for  Toyooka\n",
      "Checking CZ for  Balkh\n",
      "Checking CZ for  Bongabong\n",
      "Checking CZ for  Rheine\n",
      "Checking CZ for  Nagua\n",
      "Checking CZ for  Sarqan\n",
      "Checking CZ for  Berbérati\n",
      "Checking CZ for  Avilés\n",
      "Checking CZ for  Mao\n",
      "Checking CZ for  Marburg\n",
      "Checking CZ for  Baj Baj\n",
      "Checking CZ for  Daying\n",
      "Checking CZ for  Itapetinga\n",
      "Checking CZ for  Chatham\n",
      "Checking CZ for  Surt\n",
      "Checking CZ for  Shostka\n",
      "Checking CZ for  Balashov\n",
      "Checking CZ for  El Viejo\n",
      "Checking CZ for  Honjō\n",
      "Checking CZ for  Gurupi\n",
      "Checking CZ for  Pyapon\n",
      "Checking CZ for  Mafra\n",
      "Checking CZ for  E’erguna\n",
      "Checking CZ for  Nipāni\n",
      "Checking CZ for  Tacámbaro de Codallos\n",
      "Checking CZ for  Ait Ali\n",
      "Checking CZ for  Wyoming\n",
      "Checking CZ for  Ivanteyevka\n",
      "Checking CZ for  Aira\n",
      "Checking CZ for  Tsubame\n",
      "Checking CZ for  Siedlce\n",
      "Checking CZ for  Cotuí\n",
      "Checking CZ for  Daxincun\n",
      "Checking CZ for  Dschang\n",
      "Checking CZ for  İdil\n",
      "Checking CZ for  Virac\n",
      "ERROR Virac\n",
      "Checking CZ for  Zrenjanin\n",
      "Checking CZ for  Edgware\n",
      "Checking CZ for  Palma Soriano\n",
      "Checking CZ for  Abéché\n",
      "Checking CZ for  Fāzilka\n",
      "Checking CZ for  Khemis el Khechna\n",
      "Checking CZ for  Funing\n",
      "Checking CZ for  Gravatá\n",
      "Checking CZ for  Armant\n",
      "Checking CZ for  Cheyenne\n",
      "Checking CZ for  Al Musayyib\n",
      "Checking CZ for  Ibiúna\n",
      "Checking CZ for  Venado Tuerto\n",
      "Checking CZ for  Paysandú\n",
      "Checking CZ for  Kafr az Zayyāt\n",
      "Checking CZ for  Pasco\n",
      "Checking CZ for  Shājāpur\n",
      "Checking CZ for  So-Awa\n",
      "Checking CZ for  Watsonville\n",
      "Checking CZ for  Pau\n",
      "ERROR Pau\n",
      "Checking CZ for  Santo Ângelo\n",
      "Checking CZ for  Tuban\n",
      "Checking CZ for  Palmerston North\n",
      "Checking CZ for  Berdychiv\n",
      "Checking CZ for  Padre Hurtado\n",
      "Checking CZ for  Anzhero-Sudzhensk\n",
      "Checking CZ for  Palo\n",
      "Checking CZ for  Asti\n",
      "Checking CZ for  Pančevo\n",
      "Checking CZ for  Southfield\n",
      "Checking CZ for  Keshod\n",
      "Checking CZ for  East Ham\n",
      "Checking CZ for  Infanta\n",
      "Checking CZ for  Daisen\n",
      "Checking CZ for  Toyomamachi-teraike\n",
      "Checking CZ for  Nahāvand\n",
      "Checking CZ for  Weston-super-Mare\n",
      "Checking CZ for  Montepuez\n",
      "Checking CZ for  Pandacan\n",
      "Checking CZ for  Quixadá\n",
      "Checking CZ for  Kahror Pakka\n",
      "Checking CZ for  Lins\n",
      "Checking CZ for  Fancheng\n",
      "Checking CZ for  Zhlobin\n",
      "Checking CZ for  San Ramón de la Nueva Orán\n",
      "Checking CZ for  Chintāmani\n",
      "Checking CZ for  Ryūgasaki\n",
      "Checking CZ for  Manaoag\n",
      "Checking CZ for  Wausau\n",
      "Checking CZ for  Katano\n",
      "Checking CZ for  Tamanrasset\n",
      "Checking CZ for  Tailai\n",
      "Checking CZ for  Rochester Hills\n",
      "Checking CZ for  Gandía\n",
      "Checking CZ for  Toba Tek Singh\n",
      "Checking CZ for  Nabari\n",
      "Checking CZ for  Loveland\n",
      "Checking CZ for  Villa Elisa\n",
      "Checking CZ for  Alcalá de Guadaira\n",
      "Checking CZ for  Houmt Souk\n",
      "Checking CZ for  Catacaos\n",
      "Checking CZ for  Kengtung\n",
      "Checking CZ for  Ovalle\n",
      "Checking CZ for  Alexandria\n",
      "Checking CZ for  Sankt Gallen\n",
      "Checking CZ for  Espinal\n",
      "Checking CZ for  Jabuticabal\n",
      "Checking CZ for  Bakhmut\n",
      "Checking CZ for  Pilar\n",
      "ERROR Pilar\n",
      "Checking CZ for  Surendranagar\n",
      "Checking CZ for  Stakhanov\n",
      "Checking CZ for  Sentani\n",
      "Checking CZ for  Malappuram\n",
      "Checking CZ for  Madhubani\n",
      "Checking CZ for  Kargilik\n",
      "Checking CZ for  Cinisello Balsamo\n",
      "Checking CZ for  Pittsburg\n",
      "Checking CZ for  Lod\n",
      "Checking CZ for  Hammond\n",
      "Checking CZ for  Gladbeck\n",
      "Checking CZ for  Sidi Qacem\n",
      "Checking CZ for  Maghāghah\n",
      "Checking CZ for  Arta\n",
      "Checking CZ for  Santa Rosa\n",
      "Checking CZ for  Rio Largo\n",
      "Checking CZ for  Goiana\n",
      "Checking CZ for  South Jordan\n",
      "Checking CZ for  Arjona\n",
      "Checking CZ for  Battle Creek\n",
      "Checking CZ for  Bethlehem\n",
      "Checking CZ for  Lüneburg\n",
      "Checking CZ for  Jocotán\n",
      "Checking CZ for  Caserta\n",
      "Checking CZ for  Aïn Temouchent\n",
      "Checking CZ for  Redenção\n",
      "Checking CZ for  Fajardo\n",
      "Checking CZ for  Joensuu\n",
      "Checking CZ for  Jablah\n",
      "ERROR Jablah\n",
      "Checking CZ for  Ramla\n",
      "Checking CZ for  Nakatsugawa\n",
      "Checking CZ for  Davis\n",
      "Checking CZ for  Bokhtar\n",
      "Checking CZ for  Zhongcheng\n",
      "Checking CZ for  Kawartha Lakes\n",
      "Checking CZ for  Tindivanam\n",
      "Checking CZ for  Carlisle\n",
      "Checking CZ for  Srīvilliputtūr\n",
      "Checking CZ for  Kiyose\n",
      "Checking CZ for  Xinglong\n",
      "Checking CZ for  Rānāghāt\n",
      "Checking CZ for  Shadrinsk\n",
      "Checking CZ for  Kai\n",
      "Checking CZ for  South Shields\n",
      "Checking CZ for  Bonāb\n",
      "Checking CZ for  Apple Valley\n",
      "Checking CZ for  Saint-Maur-des-Fossés\n",
      "ERROR Saint-Maur-des-Fossés\n",
      "Checking CZ for  Ardakān\n",
      "Checking CZ for  Cửa Lô\n",
      "Checking CZ for  Acacías\n",
      "Checking CZ for  Shinkai\n",
      "Checking CZ for  Frontera\n",
      "Checking CZ for  Itapira\n",
      "Checking CZ for  Troisdorf\n",
      "Checking CZ for  Pawtucket\n",
      "Checking CZ for  Tissemsilt\n",
      "Checking CZ for  Wilhelmshaven\n",
      "Checking CZ for  Dubna\n",
      "Checking CZ for  Dongguan\n",
      "Checking CZ for  Kunitachi\n",
      "Checking CZ for  Pinamungahan\n",
      "Checking CZ for  Sasagawa\n",
      "Checking CZ for  East Kilbride\n",
      "Checking CZ for  Teyateyaneng\n",
      "Checking CZ for  Ciudad Real\n",
      "Checking CZ for  Zacatecoluca\n",
      "Checking CZ for  Ciudad Sandino\n",
      "Checking CZ for  Zadar\n",
      "Checking CZ for  Newcastle under Lyme\n",
      "Checking CZ for  Sangolquí\n",
      "Checking CZ for  Burton upon Trent\n",
      "Checking CZ for  Libon\n",
      "Checking CZ for  Chernogorsk\n",
      "Checking CZ for  Wheeling\n",
      "Checking CZ for  Flower Mound\n",
      "Checking CZ for  Gangammapeta\n",
      "Checking CZ for  Puqiancun\n",
      "Checking CZ for  Afak\n",
      "Checking CZ for  Dartford\n",
      "Checking CZ for  Tirumangalam\n",
      "Checking CZ for  Wisil\n",
      "Checking CZ for  Iju\n",
      "Checking CZ for  Bombo\n",
      "Checking CZ for  Al Muḩarraq\n",
      "Checking CZ for  Warabi\n",
      "Checking CZ for  Sapiranga\n",
      "Checking CZ for  Bugallon\n",
      "Checking CZ for  Tocumen\n",
      "Checking CZ for  Piotrków Trybunalski\n",
      "Checking CZ for  Harrisonburg\n",
      "Checking CZ for  Fouchana\n",
      "Checking CZ for  Amakusa\n",
      "Checking CZ for  Gela\n",
      "Checking CZ for  Tura\n",
      "Checking CZ for  Carpina\n",
      "Checking CZ for  Ambājogāi\n",
      "Checking CZ for  Palencia\n",
      "Checking CZ for  Juchitán de Zaragoza\n",
      "Checking CZ for  Dabra\n",
      "Checking CZ for  São Bento do Sul\n",
      "Checking CZ for  Molina de Segura\n",
      "Checking CZ for  El Palomar\n",
      "Checking CZ for  Cedar Park\n",
      "Checking CZ for  Darhan\n",
      "Checking CZ for  Darhan\n",
      "Checking CZ for  Oshkosh\n",
      "Checking CZ for  Dorsten\n",
      "Checking CZ for  Pozorrubio\n",
      "Checking CZ for  Toffo\n",
      "Checking CZ for  Tiznit\n",
      "Checking CZ for  Esperanza\n",
      "Checking CZ for  Évosmos\n",
      "Checking CZ for  Tanguiéta\n",
      "Checking CZ for  Tosu\n",
      "Checking CZ for  Moulay Abdallah\n",
      "Checking CZ for  Bayreuth\n",
      "Checking CZ for  Dalaguete\n",
      "Checking CZ for  Winchester\n",
      "Checking CZ for  Piraçununga\n",
      "Checking CZ for  Bitola\n",
      "Checking CZ for  Cannes\n",
      "Checking CZ for  Dayong\n",
      "Checking CZ for  Caguas\n",
      "Checking CZ for  Īṭahari̇̄\n",
      "Checking CZ for  Estepona\n",
      "Checking CZ for  Péda-Houéyogbé\n",
      "Checking CZ for  Zlín\n",
      "Checking CZ for  Canindé\n",
      "Checking CZ for  Kandori\n",
      "Checking CZ for  Shancheng\n",
      "Checking CZ for  Bozüyük\n",
      "Checking CZ for  Ellicott City\n",
      "Checking CZ for  Assab\n",
      "Checking CZ for  Gbawe\n",
      "Checking CZ for  Skellefteå\n",
      "Checking CZ for  Detmold\n",
      "Checking CZ for  Balingasag\n",
      "Checking CZ for  Pocatello\n",
      "Checking CZ for  Jōyō\n",
      "Checking CZ for  Wandiwāsh\n",
      "Checking CZ for  Ouaké\n",
      "Checking CZ for  Rāmhormoz\n",
      "Checking CZ for  Bongouanou\n",
      "Checking CZ for  San Juan Opico\n",
      "Checking CZ for  Khomeyn\n",
      "Checking CZ for  Miki\n",
      "Checking CZ for  Hilton Head Island\n",
      "Checking CZ for  Uspantán\n",
      "Checking CZ for  Silao\n",
      "Checking CZ for  Saquarema\n",
      "Checking CZ for  Curvelo\n",
      "Checking CZ for  Palmeira dos Índios\n",
      "Checking CZ for  Çınar\n",
      "Checking CZ for  Cherry Hill\n",
      "Checking CZ for  Chalándri\n",
      "Checking CZ for  Aprilia\n",
      "Checking CZ for  Izumiōtsu\n",
      "Checking CZ for  Mankono\n",
      "Checking CZ for  Karlstad\n",
      "Checking CZ for  Mineral’nyye Vody\n",
      "Checking CZ for  Kara-Balta\n",
      "Checking CZ for  Le Kram\n",
      "Checking CZ for  Okegawa\n",
      "Checking CZ for  Meshgīn Shahr\n",
      "Checking CZ for  Al Qā’im\n",
      "Checking CZ for  Gūdūr\n",
      "Checking CZ for  Ouro Prêto\n",
      "Checking CZ for  Yelabuga\n",
      "Checking CZ for  New Britain\n",
      "Checking CZ for  Mansfield\n",
      "Checking CZ for  Standerton\n",
      "Checking CZ for  Pedro Brand\n",
      "Checking CZ for  Woodbury\n",
      "Checking CZ for  Prince George\n",
      "Checking CZ for  Prey Veng\n",
      "Checking CZ for  Ra‘ananna\n",
      "Checking CZ for  Sharm ash Shaykh\n",
      "Checking CZ for  Gravesend\n",
      "Checking CZ for  Brookes Point\n",
      "Checking CZ for  Tatebayashi\n",
      "Checking CZ for  Kyōtanabe\n",
      "Checking CZ for  Le Bardo\n",
      "Checking CZ for  Tatsunochō-tominaga\n",
      "Checking CZ for  Lauderhill\n",
      "Checking CZ for  Vlaardingen\n",
      "Checking CZ for  Tamworth\n",
      "Checking CZ for  Samundri\n",
      "Checking CZ for  Lehi\n",
      "Checking CZ for  Dumangas\n",
      "Checking CZ for  Santa Rosa\n",
      "Checking CZ for  Alicia\n",
      "Checking CZ for  Dĩ An\n",
      "Checking CZ for  Yurihonjō\n",
      "Checking CZ for  Cunhinga\n",
      "Checking CZ for  Bolingbrook\n",
      "Checking CZ for  Hāveri\n",
      "Checking CZ for  Grand-Bassam\n",
      "Checking CZ for  Türkoğlu\n",
      "Checking CZ for  Beyşehir\n",
      "Checking CZ for  Yegoryevsk\n",
      "Checking CZ for  Brick\n",
      "Checking CZ for  Siuna\n",
      "Checking CZ for  Dale City\n",
      "Checking CZ for  Tulcea\n",
      "Checking CZ for  El Kef\n",
      "Checking CZ for  Nova Serrana\n",
      "Checking CZ for  Samadiāla\n",
      "Checking CZ for  Missouri City\n",
      "Checking CZ for  Gouda\n",
      "Checking CZ for  Ragusa\n",
      "Checking CZ for  Tarn Tāran\n",
      "Checking CZ for  Arnsberg\n",
      "Checking CZ for  Nandi Hills\n",
      "Checking CZ for  Birobidzhan\n",
      "Checking CZ for  Hoorn\n",
      "Checking CZ for  Mangalagiri\n",
      "Checking CZ for  João Monlevade\n",
      "Checking CZ for  Linares\n",
      "Checking CZ for  Bawku\n",
      "Checking CZ for  Vriddhāchalam\n",
      "Checking CZ for  Harrogate\n",
      "Checking CZ for  Copacabana\n",
      "Checking CZ for  Cao Bằng\n",
      "Checking CZ for  Kallakkurichchi\n",
      "Checking CZ for  Kasama\n",
      "Checking CZ for  El Hamma\n",
      "Checking CZ for  Lake Jackson\n",
      "Checking CZ for  Bandar-e Genāveh\n",
      "ERROR Bandar-e Genāveh\n",
      "Checking CZ for  Blagoevgrad\n",
      "ERROR Blagoevgrad\n",
      "Checking CZ for  Tupi\n",
      "ERROR Tupi\n",
      "Checking CZ for  Novoaltaysk\n",
      "ERROR Novoaltaysk\n",
      "Checking CZ for  Antibes\n",
      "ERROR Antibes\n",
      "Checking CZ for  Tongye\n",
      "Checking CZ for  Lala\n",
      "ERROR Lala\n",
      "Checking CZ for  Castrop-Rauxel\n",
      "Checking CZ for  Troitsk\n",
      "Checking CZ for  Picos\n",
      "Checking CZ for  Jose Abad Santos\n",
      "ERROR Jose Abad Santos\n",
      "Checking CZ for  Irecê\n",
      "Checking CZ for  Altoona\n",
      "Checking CZ for  Sault Ste. Marie\n",
      "Checking CZ for  Bagan Si Api-api\n",
      "Checking CZ for  Chapadinha\n",
      "Checking CZ for  Reconquista\n",
      "Checking CZ for  Nizhyn\n",
      "Checking CZ for  Quillota\n",
      "Checking CZ for  Belek\n",
      "ERROR Belek\n",
      "Checking CZ for  Crewe\n",
      "Checking CZ for  Tan-Tan\n",
      "Checking CZ for  Tokār\n",
      "Checking CZ for  Fada Ngourma\n",
      "Checking CZ for  Konin\n",
      "Checking CZ for  Benalmádena\n",
      "Checking CZ for  Shakargarh\n",
      "Checking CZ for  Ciudadela\n",
      "Checking CZ for  Landshut\n",
      "Checking CZ for  Bula\n",
      "Checking CZ for  San José de las Lajas\n",
      "Checking CZ for  Pattukkottai\n",
      "Checking CZ for  Almelo\n",
      "Checking CZ for  Gobindgarh\n",
      "Checking CZ for  Nabeul\n",
      "Checking CZ for  Doral\n",
      "Checking CZ for  Owensboro\n",
      "Checking CZ for  Brakpan\n",
      "Checking CZ for  Néa Smýrni\n",
      "Checking CZ for  Shibukawa\n",
      "Checking CZ for  Centreville\n",
      "Checking CZ for  Farroupilha\n",
      "Checking CZ for  Luján de Cuyo\n",
      "Checking CZ for  Moa\n",
      "Checking CZ for  Majalengka\n",
      "Checking CZ for  Baghlān\n",
      "Checking CZ for  Santa Rosa de Cabal\n",
      "Checking CZ for  Chaigoubu\n",
      "Checking CZ for  Alegrete\n",
      "Checking CZ for  Türkmenbaşy\n",
      "Checking CZ for  Naqadeh\n",
      "Checking CZ for  Çatalca\n",
      "Checking CZ for  San Vicente del Caguán\n",
      "Checking CZ for  Jinja\n",
      "Checking CZ for  Calais\n",
      "ERROR Calais\n",
      "Checking CZ for  Inuyama\n",
      "Checking CZ for  Ōtawara\n",
      "Checking CZ for  Mackay\n",
      "Checking CZ for  Padre Las Casas\n",
      "Checking CZ for  Kostiantynivka\n",
      "Checking CZ for  Lappeenranta\n",
      "Checking CZ for  Vsevolozhsk\n",
      "Checking CZ for  Mount Vernon\n",
      "Checking CZ for  Tocoa\n",
      "Checking CZ for  Baldwin Park\n",
      "Checking CZ for  Crateús\n",
      "Checking CZ for  Jingzhou\n",
      "Checking CZ for  Perote\n",
      "Checking CZ for  Chapayevsk\n",
      "Checking CZ for  Pavia\n",
      "Checking CZ for  Três Corações\n",
      "Checking CZ for  Catanauan\n",
      "Checking CZ for  Spijkenisse\n",
      "Checking CZ for  Aracati\n",
      "Checking CZ for  Södertälje\n",
      "Checking CZ for  Broomfield\n",
      "Checking CZ for  Tamazunchale\n",
      "Checking CZ for  Amparo\n",
      "Checking CZ for  Hương Trà\n",
      "Checking CZ for  Yafran\n",
      "Checking CZ for  Redlands\n",
      "Checking CZ for  Carles\n",
      "Checking CZ for  Sanwal\n",
      "Checking CZ for  Lüdenscheid\n",
      "Checking CZ for  Cleveland\n",
      "Checking CZ for  Inowrocław\n",
      "Checking CZ for  Mysłowice\n",
      "Checking CZ for  Vinhedo\n",
      "Checking CZ for  Zhuolu\n",
      "Checking CZ for  Concepción del Uruguay\n",
      "Checking CZ for  Lanxi\n",
      "Checking CZ for  Belovo\n",
      "Checking CZ for  Weligama\n",
      "Checking CZ for  Siruguppa\n",
      "Checking CZ for  Nepālgañj\n",
      "Checking CZ for  Tangalla\n",
      "Checking CZ for  Bacacay\n",
      "Checking CZ for  Hekinan\n",
      "Checking CZ for  Brandenburg\n",
      "Checking CZ for  Ede\n",
      "Checking CZ for  Sipalay\n",
      "ERROR Sipalay\n",
      "Checking CZ for  Belo Jardim\n",
      "Checking CZ for  Dazaifu\n",
      "Checking CZ for  Longkoucun\n",
      "Checking CZ for  Keshan\n",
      "Checking CZ for  Dothan\n",
      "Checking CZ for  Camden\n",
      "Checking CZ for  Drancy\n",
      "ERROR Drancy\n",
      "Checking CZ for  Pigcawayan\n",
      "Checking CZ for  Sangāreddi\n",
      "Checking CZ for  Zogbodomé\n",
      "Checking CZ for  Maroúsi\n",
      "Checking CZ for  Dambulla\n",
      "Checking CZ for  Goya\n",
      "Checking CZ for  Oroquieta\n",
      "Checking CZ for  Pacatuba\n",
      "Checking CZ for  Virudunagar\n",
      "Checking CZ for  Xiangjiaba\n",
      "Checking CZ for  Abancay\n",
      "Checking CZ for  Campo Formoso\n",
      "Checking CZ for  Penafiel\n",
      "Checking CZ for  Esbjerg\n",
      "Checking CZ for  San Fernando\n",
      "Checking CZ for  Palín\n",
      "Checking CZ for  Mérignac\n",
      "ERROR Mérignac\n",
      "Checking CZ for  Majadahonda\n",
      "Checking CZ for  Melton\n",
      "Checking CZ for  Casa Nova\n",
      "Checking CZ for  Turbaná\n",
      "Checking CZ for  Redmond\n",
      "Checking CZ for  Yoshikawa\n",
      "Checking CZ for  Warora\n",
      "Checking CZ for  Framingham\n",
      "Checking CZ for  Tibati\n",
      "Checking CZ for  Cremona\n",
      "Checking CZ for  Nizwá\n",
      "Checking CZ for  Kirovo-Chepetsk\n",
      "Checking CZ for  Camalig\n",
      "Checking CZ for  Najrān\n",
      "Checking CZ for  Ostrowiec Świętokrzyski\n",
      "Checking CZ for  Belo Tsiribihina\n",
      "Checking CZ for  Bella Vista\n",
      "Checking CZ for  Nilanga\n",
      "Checking CZ for  Myaydo\n",
      "Checking CZ for  Colón\n",
      "Checking CZ for  Al Līth\n",
      "Checking CZ for  Jackson\n",
      "Checking CZ for  Long Mỹ\n",
      "Checking CZ for  Borongan\n",
      "Checking CZ for  San Andrés\n",
      "Checking CZ for  Wenping\n",
      "Checking CZ for  Gumaca\n",
      "Checking CZ for  Stara Pazova\n",
      "Checking CZ for  Merzifon\n",
      "Checking CZ for  La Lima\n",
      "Checking CZ for  Janesville\n",
      "Checking CZ for  Chiryū\n",
      "Checking CZ for  Quixeramobim\n",
      "Checking CZ for  Čačak\n",
      "Checking CZ for  Paterna\n",
      "Checking CZ for  Mun’gyŏng\n",
      "Checking CZ for  Ishioka\n",
      "Checking CZ for  Valença\n",
      "Checking CZ for  Calauag\n",
      "Checking CZ for  Cajamar\n",
      "Checking CZ for  Bouaflé\n",
      "Checking CZ for  Patzún\n",
      "Checking CZ for  Sambrial\n",
      "Checking CZ for  Juana Díaz\n",
      "Checking CZ for  Piła\n",
      "Checking CZ for  Shrewsbury\n",
      "Checking CZ for  Dondo\n",
      "Checking CZ for  Florida\n",
      "Checking CZ for  Tarīn Kōṯ\n",
      "Checking CZ for  Alexandroúpoli\n",
      "Checking CZ for  Bakıxanov\n",
      "Checking CZ for  Kawm Umbū\n",
      "Checking CZ for  Sarnia\n",
      "Checking CZ for  Wood Buffalo\n",
      "Checking CZ for  Mandlā\n",
      "Checking CZ for  Saymayl\n",
      "Checking CZ for  Ostend\n",
      "Checking CZ for  La Estrella\n",
      "Checking CZ for  Pililla\n",
      "Checking CZ for  Santo Tirso\n",
      "Checking CZ for  Gosport\n",
      "Checking CZ for  Bitlis\n",
      "Checking CZ for  Parang\n",
      "Checking CZ for  Lomas del Mirador\n",
      "Checking CZ for  Nanfengcun\n",
      "Checking CZ for  Salamá\n",
      "Checking CZ for  Lisburn\n",
      "Checking CZ for  Rāyadrug\n",
      "Checking CZ for  Lajeado\n",
      "Checking CZ for  Halmstad\n",
      "Checking CZ for  Izmail\n",
      "Checking CZ for  Binalbagan\n",
      "Checking CZ for  Shahrixon\n",
      "Checking CZ for  Saint-Nazaire\n",
      "ERROR Saint-Nazaire\n",
      "Checking CZ for  Katori\n",
      "Checking CZ for  Villa Tunari\n",
      "Checking CZ for  Aschaffenburg\n",
      "Checking CZ for  Mansfield\n",
      "Checking CZ for  Goa\n",
      "Checking CZ for  Ajaccio\n",
      "Checking CZ for  Rāyagada\n",
      "Checking CZ for  Waukesha\n",
      "Checking CZ for  Ágios Dimítrios\n",
      "Checking CZ for  Sotik\n",
      "Checking CZ for  Talibon\n",
      "Checking CZ for  Las Piedras\n",
      "Checking CZ for  Ganthier\n",
      "Checking CZ for  Verkhnyaya Pyshma\n",
      "Checking CZ for  Jinsha\n",
      "Checking CZ for  Konongo\n",
      "Checking CZ for  Placetas\n",
      "Checking CZ for  Melong\n",
      "Checking CZ for  Musashimurayama\n",
      "Checking CZ for  Salima\n",
      "Checking CZ for  Morong\n",
      "Checking CZ for  Carpi\n",
      "Checking CZ for  Tamarac\n",
      "Checking CZ for  San Francisco del Rincón\n",
      "Checking CZ for  Gibara\n",
      "Checking CZ for  Ratangarh\n",
      "Checking CZ for  Wenatchee\n",
      "Checking CZ for  Bocholt\n",
      "Checking CZ for  Mārkāpur\n",
      "Checking CZ for  Bunbury\n",
      "Checking CZ for  Sihanoukville\n",
      "Checking CZ for  Mauban\n",
      "Checking CZ for  Tejupilco\n",
      "Checking CZ for  Alabang\n",
      "Checking CZ for  Warzat\n",
      "Checking CZ for  Ayvalık\n",
      "Checking CZ for  Nadi\n",
      "Checking CZ for  Daytona Beach\n",
      "Checking CZ for  Castle Rock\n",
      "Checking CZ for  Zográfos\n",
      "Checking CZ for  An Nu‘mānīyah\n",
      "Checking CZ for  Redondo Beach\n",
      "Checking CZ for  New Westminster\n",
      "Checking CZ for  Izalco\n",
      "Checking CZ for  Malaut\n",
      "Checking CZ for  Lowestoft\n",
      "Checking CZ for  Samraong\n",
      "Checking CZ for  Kopargo\n",
      "Checking CZ for  Wilmington\n",
      "Checking CZ for  Yukuhashi\n",
      "Checking CZ for  Quartu Sant’Elena\n",
      "Checking CZ for  Phitsanulok\n",
      "Checking CZ for  Kodungallūr\n",
      "Checking CZ for  San Marcos\n",
      "Checking CZ for  Corozal\n",
      "Checking CZ for  Kumanovo\n",
      "Checking CZ for  Union City\n",
      "Checking CZ for  Châteauguay\n",
      "Checking CZ for  Ejura\n",
      "Checking CZ for  Zinjibār\n",
      "Checking CZ for  Yambol\n",
      "Checking CZ for  Fatehābād\n",
      "Checking CZ for  Bāpatla\n",
      "Checking CZ for  Caçador\n",
      "Checking CZ for  Novomoskovsk\n",
      "Checking CZ for  Tumauini\n",
      "Checking CZ for  Ostrów Wielkopolski\n",
      "Checking CZ for  Şirvan\n",
      "Checking CZ for  Gardēz\n",
      "Checking CZ for  Eldersburg\n",
      "Checking CZ for  Rugby\n",
      "Checking CZ for  Badvel\n",
      "Checking CZ for  Loulé\n",
      "Checking CZ for  Yinying\n",
      "Checking CZ for  Chiang Rai\n",
      "Checking CZ for  Poblacion\n",
      "Checking CZ for  Shujaabad\n",
      "Checking CZ for  Stafford\n",
      "Checking CZ for  Vālpārai\n",
      "Checking CZ for  Esperanza\n",
      "Checking CZ for  Djemmal\n",
      "Checking CZ for  Chingford\n",
      "Checking CZ for  Cabudare\n",
      "Checking CZ for  Sankaranayinār Kovil\n",
      "Checking CZ for  Xangongo\n",
      "Checking CZ for  Uxbridge\n",
      "Checking CZ for  Conway\n",
      "Checking CZ for  Bayonne\n",
      "Checking CZ for  Zenica\n",
      "Checking CZ for  Chekhov\n",
      "Checking CZ for  Tenkāsi\n",
      "Checking CZ for  Guaynabo\n",
      "Checking CZ for  Bundaberg\n",
      "Checking CZ for  Sūratgarh\n",
      "Checking CZ for  Kaukhāli\n",
      "Checking CZ for  Altamura\n",
      "Checking CZ for  Caldas Novas\n",
      "Checking CZ for  Baiquan\n",
      "Checking CZ for  Mindelo\n",
      "Checking CZ for  São Sebastião do Paraíso\n",
      "Checking CZ for  Togoch’alē\n",
      "Checking CZ for  Būr Fu’ād\n",
      "Checking CZ for  Pavia\n",
      "Checking CZ for  Yawata-shimizui\n",
      "Checking CZ for  Aliaga\n",
      "Checking CZ for  Orani\n",
      "Checking CZ for  Dandeli\n",
      "Checking CZ for  Santa María La Pila\n",
      "Checking CZ for  Rocklin\n",
      "Checking CZ for  Minxiong\n",
      "Checking CZ for  Passaic\n",
      "Checking CZ for  Huwei\n",
      "Checking CZ for  Slatina\n",
      "Checking CZ for  Bopa\n",
      "Checking CZ for  Farshūţ\n",
      "Checking CZ for  Sheboygan\n",
      "Checking CZ for  Casas Adobes\n",
      "Checking CZ for  St. Charles\n",
      "Checking CZ for  Hujra Shah Muqim\n",
      "Checking CZ for  Şa‘dah\n",
      "Checking CZ for  Dimbokro\n",
      "Checking CZ for  Rizal\n",
      "Checking CZ for  Tinambac\n",
      "Checking CZ for  Havířov\n",
      "Checking CZ for  Luodong\n",
      "Checking CZ for  Kabirwala\n",
      "Checking CZ for  Eniwa\n",
      "Checking CZ for  Guzhou\n",
      "Checking CZ for  Gaura\n",
      "Checking CZ for  Pan’an\n",
      "Checking CZ for  Tsurugashima\n",
      "Checking CZ for  Érd\n",
      "Checking CZ for  Cahama\n",
      "Checking CZ for  Oshnavīyeh\n",
      "Checking CZ for  Lubin\n",
      "Checking CZ for  Sesvete\n",
      "Checking CZ for  Nansang\n",
      "Checking CZ for  Al ‘Āmirāt\n"
     ]
    }
   ],
   "source": [
    "import requests\n",
    "from tqdm.notebook import tqdm\n",
    "import time\n",
    "\n",
    "# Get the list of all cities\n",
    "df = pd.read_csv(\"../../ml-for-bem/data/worldcities.csv\").sort_values(by=\"population\",ascending=False)\n",
    "\n",
    "# Pick The 8000 most populous\n",
    "df = df[:8000]\n",
    "\n",
    "# Add a column for CZ\n",
    "df[\"CZ\"] = \"\"\n",
    "\n",
    "# Get the CZ from ubem.io\n",
    "for ix,row in tqdm(df.iterrows()):\n",
    "    print(f\"Checking CZ for \", row[\"city\"])\n",
    "    lat,lng = row[\"lat\"], row[\"lng\"]\n",
    "    try:\n",
    "        res = requests.get(f\"https://app.ubem.io/api/umibuilder/get_climate_zone?Lat={lat}&Lon={lng}\")\n",
    "        df.loc[ix, \"CZ\"] = list(res.json().values())[0][\"CZ\"]\n",
    "    except:\n",
    "        print(\"ERROR\", row[\"city\"])\n",
    "        pass\n",
    "    # Sleep to prevent accidental DDoS\n",
    "    time.sleep(0.1)\n",
    "\n",
    "# Save DF\n",
    "df.to_csv(\"8k_Cities_w_CZ.csv\")"
   ]
  },
  {
   "cell_type": "markdown",
   "metadata": {},
   "source": [
    "## Get EPWs for Cities"
   ]
  },
  {
   "cell_type": "code",
   "execution_count": 5,
   "metadata": {},
   "outputs": [
    {
     "name": "stderr",
     "output_type": "stream",
     "text": [
      "INFO:pyumi.epw:Getting weather file: RUS_Omsk.286980_IWEC\n"
     ]
    },
    {
     "name": "stdout",
     "output_type": "stream",
     "text": [
      "SUCCESS Surgut\n"
     ]
    },
    {
     "name": "stderr",
     "output_type": "stream",
     "text": [
      "INFO:pyumi.epw:Getting weather file: CHN_Heilongjiang.Hailun.507560_CSWD\n"
     ]
    },
    {
     "name": "stdout",
     "output_type": "stream",
     "text": [
      "SUCCESS Suihua\n"
     ]
    },
    {
     "name": "stderr",
     "output_type": "stream",
     "text": [
      "INFO:pyumi.epw:Getting weather file: CHN_Tibet.Pagri.557730_SWERA\n"
     ]
    },
    {
     "name": "stdout",
     "output_type": "stream",
     "text": [
      "SUCCESS Xigazê\n"
     ]
    },
    {
     "name": "stderr",
     "output_type": "stream",
     "text": [
      "INFO:pyumi.epw:Getting weather file: CHN_Nei.Mongol.Chifeng.542180_CSWD\n"
     ]
    },
    {
     "name": "stdout",
     "output_type": "stream",
     "text": [
      "SUCCESS Chifeng\n"
     ]
    },
    {
     "name": "stderr",
     "output_type": "stream",
     "text": [
      "INFO:pyumi.epw:Getting weather file: RUS_Moscow.276120_IWEC\n"
     ]
    },
    {
     "name": "stdout",
     "output_type": "stream",
     "text": [
      "SUCCESS Moscow\n"
     ]
    },
    {
     "name": "stderr",
     "output_type": "stream",
     "text": [
      "INFO:pyumi.epw:Getting weather file: IRN_Tabriz.407060_ITMY\n"
     ]
    },
    {
     "name": "stdout",
     "output_type": "stream",
     "text": [
      "SUCCESS Mosul\n"
     ]
    },
    {
     "name": "stderr",
     "output_type": "stream",
     "text": [
      "INFO:pyumi.epw:Getting weather file: CHN_Hebei.Zhangbei.533990_CSWD\n"
     ]
    },
    {
     "name": "stdout",
     "output_type": "stream",
     "text": [
      "SUCCESS Zhangjiakou\n"
     ]
    },
    {
     "name": "stderr",
     "output_type": "stream",
     "text": [
      "INFO:pyumi.epw:Getting weather file: USA_IL_Chicago-Midway.AP.725340_TMY\n"
     ]
    },
    {
     "name": "stdout",
     "output_type": "stream",
     "text": [
      "SUCCESS Chicago\n"
     ]
    },
    {
     "name": "stderr",
     "output_type": "stream",
     "text": [
      "INFO:pyumi.epw:Getting weather file: USA_WA_Seattle-Boeing.Field.727935_TMY3\n"
     ]
    },
    {
     "name": "stdout",
     "output_type": "stream",
     "text": [
      "SUCCESS Seattle\n"
     ]
    },
    {
     "name": "stderr",
     "output_type": "stream",
     "text": [
      "INFO:pyumi.epw:Getting weather file: CHN_Shaanxi.Xian.570360_CSWD\n"
     ]
    },
    {
     "name": "stdout",
     "output_type": "stream",
     "text": [
      "SUCCESS Xi’an\n"
     ]
    },
    {
     "name": "stderr",
     "output_type": "stream",
     "text": [
      "INFO:pyumi.epw:Getting weather file: KOR_Inchon.471120_IWEC\n"
     ]
    },
    {
     "name": "stdout",
     "output_type": "stream",
     "text": [
      "SUCCESS Seoul\n"
     ]
    },
    {
     "name": "stderr",
     "output_type": "stream",
     "text": [
      "INFO:pyumi.epw:Getting weather file: CHL_Santiago.855740_IWEC\n"
     ]
    },
    {
     "name": "stdout",
     "output_type": "stream",
     "text": [
      "SUCCESS Santiago\n"
     ]
    },
    {
     "name": "stderr",
     "output_type": "stream",
     "text": [
      "INFO:pyumi.epw:Getting weather file: IRN_Tehran-Mehrabad.407540_ITMY\n"
     ]
    },
    {
     "name": "stdout",
     "output_type": "stream",
     "text": [
      "SUCCESS Tehran\n"
     ]
    },
    {
     "name": "stderr",
     "output_type": "stream",
     "text": [
      "INFO:pyumi.epw:Getting weather file: JPN_Tokyo.Hyakuri.477150_IWEC\n"
     ]
    },
    {
     "name": "stdout",
     "output_type": "stream",
     "text": [
      "SUCCESS Tokyo\n"
     ]
    },
    {
     "name": "stderr",
     "output_type": "stream",
     "text": [
      "INFO:pyumi.epw:Getting weather file: EGY_Cairo.623660_IWEC\n"
     ]
    },
    {
     "name": "stdout",
     "output_type": "stream",
     "text": [
      "SUCCESS Cairo\n"
     ]
    },
    {
     "name": "stderr",
     "output_type": "stream",
     "text": [
      "INFO:pyumi.epw:Getting weather file: CHN_Guangdong.Guangzhou.592870_IWEC\n"
     ]
    },
    {
     "name": "stdout",
     "output_type": "stream",
     "text": [
      "SUCCESS Guangzhou\n"
     ]
    },
    {
     "name": "stderr",
     "output_type": "stream",
     "text": [
      "INFO:pyumi.epw:Getting weather file: IND_New.Delhi.421820_ISHRAE\n"
     ]
    },
    {
     "name": "stdout",
     "output_type": "stream",
     "text": [
      "SUCCESS Delhi\n"
     ]
    },
    {
     "name": "stderr",
     "output_type": "stream",
     "text": [
      "INFO:pyumi.epw:Getting weather file: BGD_Dhaka.419230_SWERA\n"
     ]
    },
    {
     "name": "stdout",
     "output_type": "stream",
     "text": [
      "SUCCESS Dhaka\n",
      "\n",
      "FAILED: Karachi\n"
     ]
    },
    {
     "name": "stderr",
     "output_type": "stream",
     "text": [
      "INFO:pyumi.epw:Getting weather file: SGP_Singapore.486980_IWEC\n"
     ]
    },
    {
     "name": "stdout",
     "output_type": "stream",
     "text": [
      "SUCCESS Jakarta\n"
     ]
    },
    {
     "name": "stderr",
     "output_type": "stream",
     "text": [
      "INFO:pyumi.epw:Getting weather file: RUS_Chita.307580_IWEC\n"
     ]
    },
    {
     "name": "stdout",
     "output_type": "stream",
     "text": [
      "SUCCESS Chita\n"
     ]
    },
    {
     "name": "stderr",
     "output_type": "stream",
     "text": [
      "INFO:pyumi.epw:Getting weather file: CHN_Heilongjiang.Qiqihar.507450_CSWD\n"
     ]
    },
    {
     "name": "stdout",
     "output_type": "stream",
     "text": [
      "SUCCESS Qiqihar\n"
     ]
    },
    {
     "name": "stderr",
     "output_type": "stream",
     "text": [
      "INFO:pyumi.epw:Getting weather file: CHN_Xinjiang.Uygur.Urumqi.514630_CSWD\n"
     ]
    },
    {
     "name": "stdout",
     "output_type": "stream",
     "text": [
      "SUCCESS Ürümqi\n"
     ]
    },
    {
     "name": "stderr",
     "output_type": "stream",
     "text": [
      "INFO:pyumi.epw:Getting weather file: CHN_Liaoning.Shenyang.543420_IWEC\n"
     ]
    },
    {
     "name": "stdout",
     "output_type": "stream",
     "text": [
      "SUCCESS Shenyang\n"
     ]
    },
    {
     "name": "stderr",
     "output_type": "stream",
     "text": [
      "INFO:pyumi.epw:Getting weather file: TUR_Ankara.171280_IWEC\n"
     ]
    },
    {
     "name": "stdout",
     "output_type": "stream",
     "text": [
      "SUCCESS Kayseri\n"
     ]
    },
    {
     "name": "stderr",
     "output_type": "stream",
     "text": [
      "INFO:pyumi.epw:Getting weather file: CHN_Shanxi.Houma.539630_CSWD\n"
     ]
    },
    {
     "name": "stdout",
     "output_type": "stream",
     "text": [
      "SUCCESS Linfen\n"
     ]
    },
    {
     "name": "stderr",
     "output_type": "stream",
     "text": [
      "INFO:pyumi.epw:Getting weather file: CHN_Liaoning.Dalian.546620_CSWD\n"
     ]
    },
    {
     "name": "stdout",
     "output_type": "stream",
     "text": [
      "SUCCESS Dalian\n"
     ]
    },
    {
     "name": "stderr",
     "output_type": "stream",
     "text": [
      "INFO:pyumi.epw:Getting weather file: CAN_BC_Vancouver.718920_CWEC\n"
     ]
    },
    {
     "name": "stdout",
     "output_type": "stream",
     "text": [
      "SUCCESS Vancouver\n"
     ]
    },
    {
     "name": "stderr",
     "output_type": "stream",
     "text": [
      "INFO:pyumi.epw:Getting weather file: CHN_Hebei.Raoyang.546060_CSWD\n"
     ]
    },
    {
     "name": "stdout",
     "output_type": "stream",
     "text": [
      "SUCCESS Baoding\n"
     ]
    },
    {
     "name": "stderr",
     "output_type": "stream",
     "text": [
      "INFO:pyumi.epw:Getting weather file: USA_NY_New.York.City-Central.Park.94728_TMY\n"
     ]
    },
    {
     "name": "stdout",
     "output_type": "stream",
     "text": [
      "SUCCESS New York\n"
     ]
    },
    {
     "name": "stderr",
     "output_type": "stream",
     "text": [
      "INFO:pyumi.epw:Getting weather file: CHN_Yunnan.Kunming.567780_CSWD\n"
     ]
    },
    {
     "name": "stdout",
     "output_type": "stream",
     "text": [
      "SUCCESS Qujing\n"
     ]
    },
    {
     "name": "stderr",
     "output_type": "stream",
     "text": [
      "INFO:pyumi.epw:Getting weather file: USA_CA_Burbank-Glendale-Passadena.Bob.Hope.AP.722880_TMY3\n"
     ]
    },
    {
     "name": "stdout",
     "output_type": "stream",
     "text": [
      "SUCCESS Los Angeles\n"
     ]
    },
    {
     "name": "stderr",
     "output_type": "stream",
     "text": [
      "INFO:pyumi.epw:Getting weather file: CHN_Shanghai.Shanghai.583620_SWERA\n"
     ]
    },
    {
     "name": "stdout",
     "output_type": "stream",
     "text": [
      "SUCCESS Shanghai\n"
     ]
    },
    {
     "name": "stderr",
     "output_type": "stream",
     "text": [
      "INFO:pyumi.epw:Getting weather file: PER_Lima.846280_IWEC\n"
     ]
    },
    {
     "name": "stdout",
     "output_type": "stream",
     "text": [
      "SUCCESS Lima\n"
     ]
    },
    {
     "name": "stderr",
     "output_type": "stream",
     "text": [
      "INFO:pyumi.epw:Getting weather file: São Paulo-Congonhas AP_SP_BRA\n"
     ]
    },
    {
     "name": "stdout",
     "output_type": "stream",
     "text": [
      "SUCCESS São Paulo\n"
     ]
    },
    {
     "name": "stderr",
     "output_type": "stream",
     "text": [
      "INFO:pyumi.epw:Getting weather file: IND_Amritsar.420710_ISHRAE\n"
     ]
    },
    {
     "name": "stdout",
     "output_type": "stream",
     "text": [
      "SUCCESS Lahore\n"
     ]
    },
    {
     "name": "stderr",
     "output_type": "stream",
     "text": [
      "INFO:pyumi.epw:Getting weather file: IND_Bangalore.432950_ISHRAE\n"
     ]
    },
    {
     "name": "stdout",
     "output_type": "stream",
     "text": [
      "SUCCESS Bangalore\n"
     ]
    },
    {
     "name": "stderr",
     "output_type": "stream",
     "text": [
      "INFO:pyumi.epw:Getting weather file: IND_Ahmedabad.426470_ISHRAE\n"
     ]
    },
    {
     "name": "stdout",
     "output_type": "stream",
     "text": [
      "SUCCESS Ahmedabad\n"
     ]
    },
    {
     "name": "stderr",
     "output_type": "stream",
     "text": [
      "INFO:pyumi.epw:Getting weather file: IND_Mumbai.430030_IWEC\n"
     ]
    },
    {
     "name": "stdout",
     "output_type": "stream",
     "text": [
      "SUCCESS Mumbai\n"
     ]
    },
    {
     "name": "stderr",
     "output_type": "stream",
     "text": [
      "INFO:pyumi.epw:Getting weather file: RUS_Yakutsk.249590_IWEC\n"
     ]
    },
    {
     "name": "stdout",
     "output_type": "stream",
     "text": [
      "SUCCESS Yakutsk\n"
     ]
    },
    {
     "name": "stderr",
     "output_type": "stream",
     "text": [
      "INFO:pyumi.epw:Getting weather file: CHN_Heilongjiang.Harbin.509530_IWEC\n"
     ]
    },
    {
     "name": "stdout",
     "output_type": "stream",
     "text": [
      "SUCCESS Harbin\n"
     ]
    },
    {
     "name": "stderr",
     "output_type": "stream",
     "text": [
      "INFO:pyumi.epw:Getting weather file: CHN_Nei.Mongol.Hohhot.534630_CSWD\n"
     ]
    },
    {
     "name": "stdout",
     "output_type": "stream",
     "text": [
      "SUCCESS Hohhot\n"
     ]
    },
    {
     "name": "stderr",
     "output_type": "stream",
     "text": [
      "INFO:pyumi.epw:Getting weather file: CHN_Shandong.Jinan.548230_CSWD\n"
     ]
    },
    {
     "name": "stdout",
     "output_type": "stream",
     "text": [
      "SUCCESS Tai’an\n"
     ]
    },
    {
     "name": "stderr",
     "output_type": "stream",
     "text": [
      "INFO:pyumi.epw:Getting weather file: IRN_Tabriz.407060_ITMY\n"
     ]
    },
    {
     "name": "stdout",
     "output_type": "stream",
     "text": [
      "SUCCESS Van\n"
     ]
    },
    {
     "name": "stderr",
     "output_type": "stream",
     "text": [
      "INFO:pyumi.epw:Getting weather file: CHN_Shanxi.Taiyuan.537720_CSWD\n"
     ]
    },
    {
     "name": "stdout",
     "output_type": "stream",
     "text": [
      "SUCCESS Taiyuan\n"
     ]
    },
    {
     "name": "stderr",
     "output_type": "stream",
     "text": [
      "INFO:pyumi.epw:Getting weather file: CAN_ON_Toronto.716240_CWEC\n"
     ]
    },
    {
     "name": "stdout",
     "output_type": "stream",
     "text": [
      "SUCCESS Toronto\n"
     ]
    },
    {
     "name": "stderr",
     "output_type": "stream",
     "text": [
      "INFO:pyumi.epw:Getting weather file: USA_OR_Portland.Intl.AP.726980_TMY3\n"
     ]
    },
    {
     "name": "stdout",
     "output_type": "stream",
     "text": [
      "SUCCESS Portland\n"
     ]
    },
    {
     "name": "stderr",
     "output_type": "stream",
     "text": [
      "INFO:pyumi.epw:Getting weather file: CHN_Hebei.Xingtai.537980_CSWD\n"
     ]
    },
    {
     "name": "stdout",
     "output_type": "stream",
     "text": [
      "SUCCESS Xingtai\n"
     ]
    },
    {
     "name": "stderr",
     "output_type": "stream",
     "text": [
      "INFO:pyumi.epw:Getting weather file: CHN_Beijing.Beijing.545110_CSWD\n"
     ]
    },
    {
     "name": "stdout",
     "output_type": "stream",
     "text": [
      "SUCCESS Beijing\n"
     ]
    },
    {
     "name": "stderr",
     "output_type": "stream",
     "text": [
      "INFO:pyumi.epw:Getting weather file: KEN_Nairobi-Wilson.637420_SWERA\n"
     ]
    },
    {
     "name": "stdout",
     "output_type": "stream",
     "text": [
      "SUCCESS Nairobi\n"
     ]
    },
    {
     "name": "stderr",
     "output_type": "stream",
     "text": [
      "INFO:pyumi.epw:Getting weather file: IND_Amritsar.420710_ISHRAE\n"
     ]
    },
    {
     "name": "stdout",
     "output_type": "stream",
     "text": [
      "SUCCESS Kabul\n"
     ]
    },
    {
     "name": "stderr",
     "output_type": "stream",
     "text": [
      "INFO:pyumi.epw:Getting weather file: MEX_Mexico.City.766790_IWEC\n"
     ]
    },
    {
     "name": "stdout",
     "output_type": "stream",
     "text": [
      "SUCCESS Mexico City\n"
     ]
    },
    {
     "name": "stderr",
     "output_type": "stream",
     "text": [
      "INFO:pyumi.epw:Getting weather file: EGY_Helwan.623780_ETMY\n"
     ]
    },
    {
     "name": "stdout",
     "output_type": "stream",
     "text": [
      "SUCCESS Giza\n"
     ]
    },
    {
     "name": "stderr",
     "output_type": "stream",
     "text": [
      "INFO:pyumi.epw:Getting weather file: CHN_Guangdong.Shenzhen.594930_SWERA\n"
     ]
    },
    {
     "name": "stdout",
     "output_type": "stream",
     "text": [
      "SUCCESS Shenzhen\n"
     ]
    },
    {
     "name": "stderr",
     "output_type": "stream",
     "text": [
      "INFO:pyumi.epw:Getting weather file: IND_Pune.430630_ISHRAE\n"
     ]
    },
    {
     "name": "stdout",
     "output_type": "stream",
     "text": [
      "SUCCESS Pune\n"
     ]
    },
    {
     "name": "stderr",
     "output_type": "stream",
     "text": [
      "INFO:pyumi.epw:Getting weather file: GHA_Accra.654720_SWERA\n"
     ]
    },
    {
     "name": "stdout",
     "output_type": "stream",
     "text": [
      "SUCCESS Kinshasa\n"
     ]
    },
    {
     "name": "stderr",
     "output_type": "stream",
     "text": [
      "INFO:pyumi.epw:Getting weather file: ETH_Gondar.633310_SWERA\n"
     ]
    },
    {
     "name": "stdout",
     "output_type": "stream",
     "text": [
      "SUCCESS Khartoum\n"
     ]
    },
    {
     "name": "stderr",
     "output_type": "stream",
     "text": [
      "INFO:pyumi.epw:Getting weather file: PHL_Manila.984290_IWEC\n"
     ]
    },
    {
     "name": "stdout",
     "output_type": "stream",
     "text": [
      "SUCCESS Manila\n"
     ]
    },
    {
     "name": "stderr",
     "output_type": "stream",
     "text": [
      "INFO:pyumi.epw:Getting weather file: RUS_Omsk.286980_IWEC\n"
     ]
    },
    {
     "name": "stdout",
     "output_type": "stream",
     "text": [
      "SUCCESS Nizhnevartovsk\n"
     ]
    },
    {
     "name": "stderr",
     "output_type": "stream",
     "text": [
      "INFO:pyumi.epw:Getting weather file: CHN_Sichuan.Leshan.563860_CSWD\n"
     ]
    },
    {
     "name": "stdout",
     "output_type": "stream",
     "text": [
      "SUCCESS Leshan\n"
     ]
    },
    {
     "name": "stderr",
     "output_type": "stream",
     "text": [
      "INFO:pyumi.epw:Getting weather file: CHN_Nei.Mongol.Tongliao.541350_CSWD\n"
     ]
    },
    {
     "name": "stdout",
     "output_type": "stream",
     "text": [
      "SUCCESS Tongliao\n"
     ]
    },
    {
     "name": "stderr",
     "output_type": "stream",
     "text": [
      "INFO:pyumi.epw:Getting weather file: RUS_Saint-Petersburg.260630_IWEC\n"
     ]
    },
    {
     "name": "stdout",
     "output_type": "stream",
     "text": [
      "SUCCESS Saint Petersburg\n"
     ]
    },
    {
     "name": "stderr",
     "output_type": "stream",
     "text": [
      "INFO:pyumi.epw:Getting weather file: IRN_Tabriz.407060_ITMY\n"
     ]
    },
    {
     "name": "stdout",
     "output_type": "stream",
     "text": [
      "SUCCESS Dahūk\n"
     ]
    },
    {
     "name": "stderr",
     "output_type": "stream",
     "text": [
      "INFO:pyumi.epw:Getting weather file: CHN_Shaanxi.Yulin.536460_CSWD\n"
     ]
    },
    {
     "name": "stdout",
     "output_type": "stream",
     "text": [
      "SUCCESS Yulinshi\n"
     ]
    },
    {
     "name": "stderr",
     "output_type": "stream",
     "text": [
      "INFO:pyumi.epw:Getting weather file: DEU_Berlin.103840_IWEC\n"
     ]
    },
    {
     "name": "stdout",
     "output_type": "stream",
     "text": [
      "SUCCESS Berlin\n"
     ]
    },
    {
     "name": "stderr",
     "output_type": "stream",
     "text": [
      "INFO:pyumi.epw:Getting weather file: CHL_Punta.Arenas.859340_IWEC\n"
     ]
    },
    {
     "name": "stdout",
     "output_type": "stream",
     "text": [
      "SUCCESS Comodoro Rivadavia\n"
     ]
    },
    {
     "name": "stderr",
     "output_type": "stream",
     "text": [
      "INFO:pyumi.epw:Getting weather file: CHN_Shaanxi.Xian.570360_CSWD\n"
     ]
    },
    {
     "name": "stdout",
     "output_type": "stream",
     "text": [
      "SUCCESS Weinan\n"
     ]
    },
    {
     "name": "stderr",
     "output_type": "stream",
     "text": [
      "INFO:pyumi.epw:Getting weather file: GBR_London.Gatwick.037760_IWEC\n"
     ]
    },
    {
     "name": "stdout",
     "output_type": "stream",
     "text": [
      "SUCCESS London\n"
     ]
    },
    {
     "name": "stderr",
     "output_type": "stream",
     "text": [
      "INFO:pyumi.epw:Getting weather file: CHN_Yunnan.Kunming.567780_CSWD\n"
     ]
    },
    {
     "name": "stdout",
     "output_type": "stream",
     "text": [
      "SUCCESS Kunming\n"
     ]
    },
    {
     "name": "stderr",
     "output_type": "stream",
     "text": [
      "INFO:pyumi.epw:Getting weather file: ISR_Jerusalem-Atarot.AP.401840_MSI\n"
     ]
    },
    {
     "name": "stdout",
     "output_type": "stream",
     "text": [
      "SUCCESS Amman\n"
     ]
    },
    {
     "name": "stderr",
     "output_type": "stream",
     "text": [
      "INFO:pyumi.epw:Getting weather file: ARG_Buenos.Aires.875760_IWEC\n"
     ]
    },
    {
     "name": "stdout",
     "output_type": "stream",
     "text": [
      "SUCCESS Buenos Aires\n"
     ]
    },
    {
     "name": "stderr",
     "output_type": "stream",
     "text": [
      "INFO:pyumi.epw:Getting weather file: USA_TX_Laredo.Intl.AP.722520_TMY\n"
     ]
    },
    {
     "name": "stdout",
     "output_type": "stream",
     "text": [
      "SUCCESS Monterrey\n"
     ]
    },
    {
     "name": "stderr",
     "output_type": "stream",
     "text": [
      "INFO:pyumi.epw:Getting weather file: CHN_Guangdong.Zhengcheng.592940_CSWD\n"
     ]
    },
    {
     "name": "stdout",
     "output_type": "stream",
     "text": [
      "SUCCESS Dongguan\n"
     ]
    },
    {
     "name": "stderr",
     "output_type": "stream",
     "text": [
      "INFO:pyumi.epw:Getting weather file: IND_Amritsar.420710_ISHRAE\n"
     ]
    },
    {
     "name": "stdout",
     "output_type": "stream",
     "text": [
      "SUCCESS Faisalabad\n"
     ]
    },
    {
     "name": "stderr",
     "output_type": "stream",
     "text": [
      "INFO:pyumi.epw:Getting weather file: BRA_Rio.de.Janeiro-Santos.Dumont.837550_SWERA\n"
     ]
    },
    {
     "name": "stdout",
     "output_type": "stream",
     "text": [
      "SUCCESS Rio de Janeiro\n"
     ]
    },
    {
     "name": "stderr",
     "output_type": "stream",
     "text": [
      "INFO:pyumi.epw:Getting weather file: SAU_Riyadh.404380_IWEC\n"
     ]
    },
    {
     "name": "stdout",
     "output_type": "stream",
     "text": [
      "SUCCESS Riyadh\n"
     ]
    },
    {
     "name": "stderr",
     "output_type": "stream",
     "text": [
      "INFO:pyumi.epw:Getting weather file: IND_Calcutta.428090_IWEC\n"
     ]
    },
    {
     "name": "stdout",
     "output_type": "stream",
     "text": [
      "SUCCESS Kolkāta\n"
     ]
    },
    {
     "name": "stderr",
     "output_type": "stream",
     "text": [
      "INFO:pyumi.epw:Getting weather file: CHN_Heilongjiang.Fujin.507880_CSWD\n"
     ]
    },
    {
     "name": "stdout",
     "output_type": "stream",
     "text": [
      "SUCCESS Komsomol’sk-na-Amure\n"
     ]
    },
    {
     "name": "stderr",
     "output_type": "stream",
     "text": [
      "INFO:pyumi.epw:Getting weather file: CHN_Heilongjiang.Anda.508540_CSWD\n"
     ]
    },
    {
     "name": "stdout",
     "output_type": "stream",
     "text": [
      "SUCCESS Daqing\n"
     ]
    },
    {
     "name": "stderr",
     "output_type": "stream",
     "text": [
      "INFO:pyumi.epw:Getting weather file: CHN_Nei.Mongol.Dongsheng.535430_CSWD\n"
     ]
    },
    {
     "name": "stdout",
     "output_type": "stream",
     "text": [
      "SUCCESS Baotou\n"
     ]
    },
    {
     "name": "stderr",
     "output_type": "stream",
     "text": [
      "INFO:pyumi.epw:Getting weather file: CHN_Jiangxi.Jian.577990_CSWD\n"
     ]
    },
    {
     "name": "stdout",
     "output_type": "stream",
     "text": [
      "SUCCESS Ji’an\n"
     ]
    },
    {
     "name": "stderr",
     "output_type": "stream",
     "text": [
      "INFO:pyumi.epw:Getting weather file: TUR_Ankara.171280_IWEC\n"
     ]
    },
    {
     "name": "stdout",
     "output_type": "stream",
     "text": [
      "SUCCESS Aksaray\n"
     ]
    },
    {
     "name": "stderr",
     "output_type": "stream",
     "text": [
      "INFO:pyumi.epw:Getting weather file: CHN_Shanxi.Yuanping.536730_CSWD\n"
     ]
    },
    {
     "name": "stdout",
     "output_type": "stream",
     "text": [
      "SUCCESS Xinzhou\n"
     ]
    },
    {
     "name": "stderr",
     "output_type": "stream",
     "text": [
      "INFO:pyumi.epw:Getting weather file: USA_MA_Boston-Logan.Intl.AP.725090_TMY\n"
     ]
    },
    {
     "name": "stdout",
     "output_type": "stream",
     "text": [
      "SUCCESS Boston\n"
     ]
    },
    {
     "name": "stderr",
     "output_type": "stream",
     "text": [
      "INFO:pyumi.epw:Getting weather file: CAN_BC_Vancouver.718920_CWEC\n"
     ]
    },
    {
     "name": "stdout",
     "output_type": "stream",
     "text": [
      "SUCCESS Surrey\n"
     ]
    },
    {
     "name": "stderr",
     "output_type": "stream",
     "text": [
      "INFO:pyumi.epw:Getting weather file: CHN_Shanxi.Yuncheng.539590_CSWD\n"
     ]
    },
    {
     "name": "stdout",
     "output_type": "stream",
     "text": [
      "SUCCESS Yuncheng\n"
     ]
    },
    {
     "name": "stderr",
     "output_type": "stream",
     "text": [
      "INFO:pyumi.epw:Getting weather file: CHN_Shandong.Juxian.549360_CSWD\n"
     ]
    },
    {
     "name": "stdout",
     "output_type": "stream",
     "text": [
      "SUCCESS Linyi\n"
     ]
    },
    {
     "name": "stderr",
     "output_type": "stream",
     "text": [
      "INFO:pyumi.epw:Getting weather file: USA_CA_San.Francisco.Intl.AP.724940_TMY3\n"
     ]
    },
    {
     "name": "stdout",
     "output_type": "stream",
     "text": [
      "SUCCESS San Francisco\n"
     ]
    },
    {
     "name": "stderr",
     "output_type": "stream",
     "text": [
      "INFO:pyumi.epw:Getting weather file: USA_CA_San.Diego-Montgomery.Field.722903_TMY3\n"
     ]
    },
    {
     "name": "stdout",
     "output_type": "stream",
     "text": [
      "SUCCESS San Diego\n"
     ]
    },
    {
     "name": "stderr",
     "output_type": "stream",
     "text": [
      "INFO:pyumi.epw:Getting weather file: TUR_Istanbul.170600_IWEC\n"
     ]
    },
    {
     "name": "stdout",
     "output_type": "stream",
     "text": [
      "SUCCESS Istanbul\n"
     ]
    },
    {
     "name": "stderr",
     "output_type": "stream",
     "text": [
      "INFO:pyumi.epw:Getting weather file: IRN_Tehran-Mehrabad.407540_ITMY\n"
     ]
    },
    {
     "name": "stdout",
     "output_type": "stream",
     "text": [
      "SUCCESS Kāshān\n"
     ]
    },
    {
     "name": "stderr",
     "output_type": "stream",
     "text": [
      "INFO:pyumi.epw:Getting weather file: CHN_Guangdong.Guangzhou.592870_IWEC\n"
     ]
    },
    {
     "name": "stdout",
     "output_type": "stream",
     "text": [
      "SUCCESS Foshan\n"
     ]
    },
    {
     "name": "stderr",
     "output_type": "stream",
     "text": [
      "INFO:pyumi.epw:Getting weather file: IND_Jaipur.423480_ISHRAE\n"
     ]
    },
    {
     "name": "stdout",
     "output_type": "stream",
     "text": [
      "SUCCESS Jaipur\n"
     ]
    },
    {
     "name": "stderr",
     "output_type": "stream",
     "text": [
      "INFO:pyumi.epw:Getting weather file: GHA_Accra.654720_SWERA\n"
     ]
    },
    {
     "name": "stdout",
     "output_type": "stream",
     "text": [
      "SUCCESS Luanda\n"
     ]
    },
    {
     "name": "stderr",
     "output_type": "stream",
     "text": [
      "INFO:pyumi.epw:Getting weather file: KEN_Mandera.636240_SWERA\n"
     ]
    },
    {
     "name": "stdout",
     "output_type": "stream",
     "text": [
      "SUCCESS Mogadishu\n"
     ]
    },
    {
     "name": "stderr",
     "output_type": "stream",
     "text": [
      "INFO:pyumi.epw:Getting weather file: THA_Bangkok.484560_IWEC\n"
     ]
    },
    {
     "name": "stdout",
     "output_type": "stream",
     "text": [
      "SUCCESS Bangkok\n"
     ]
    },
    {
     "name": "stderr",
     "output_type": "stream",
     "text": [
      "INFO:pyumi.epw:Getting weather file: JPN_Matsumoto.476180_IWEC\n"
     ]
    },
    {
     "name": "stdout",
     "output_type": "stream",
     "text": [
      "SUCCESS Fuji\n"
     ]
    },
    {
     "name": "stderr",
     "output_type": "stream",
     "text": [
      "INFO:pyumi.epw:Getting weather file: CHN_Heilongjiang.Mudanjiang.540940_CSWD\n"
     ]
    },
    {
     "name": "stdout",
     "output_type": "stream",
     "text": [
      "SUCCESS Mudanjiang\n"
     ]
    },
    {
     "name": "stderr",
     "output_type": "stream",
     "text": [
      "INFO:pyumi.epw:Getting weather file: CHN_Qinghai.Xining.528660_CSWD\n"
     ]
    },
    {
     "name": "stdout",
     "output_type": "stream",
     "text": [
      "SUCCESS Xining\n"
     ]
    },
    {
     "name": "stderr",
     "output_type": "stream",
     "text": [
      "INFO:pyumi.epw:Getting weather file: CHN_Jilin.Changchun.541610_CSWD\n"
     ]
    },
    {
     "name": "stdout",
     "output_type": "stream",
     "text": [
      "SUCCESS Changchun\n"
     ]
    },
    {
     "name": "stderr",
     "output_type": "stream",
     "text": [
      "INFO:pyumi.epw:Getting weather file: TUR_Ankara.171280_IWEC\n"
     ]
    },
    {
     "name": "stdout",
     "output_type": "stream",
     "text": [
      "SUCCESS Çorum\n"
     ]
    },
    {
     "name": "stderr",
     "output_type": "stream",
     "text": [
      "INFO:pyumi.epw:Getting weather file: CHN_Gansu.Lanzhou.528890_CSWD\n"
     ]
    },
    {
     "name": "stdout",
     "output_type": "stream",
     "text": [
      "SUCCESS Lanzhou\n"
     ]
    },
    {
     "name": "stderr",
     "output_type": "stream",
     "text": [
      "INFO:pyumi.epw:Getting weather file: USA_MI_Detroit-Metro.AP.725370_TMY2\n"
     ]
    },
    {
     "name": "stdout",
     "output_type": "stream",
     "text": [
      "SUCCESS Detroit\n"
     ]
    },
    {
     "name": "stderr",
     "output_type": "stream",
     "text": [
      "INFO:pyumi.epw:Getting weather file: CAN_BC_Victoria.717990_CWEC\n"
     ]
    },
    {
     "name": "stdout",
     "output_type": "stream",
     "text": [
      "SUCCESS Victoria\n"
     ]
    },
    {
     "name": "stderr",
     "output_type": "stream",
     "text": [
      "INFO:pyumi.epw:Getting weather file: CHN_Shaanxi.Xian.570360_CSWD\n"
     ]
    },
    {
     "name": "stdout",
     "output_type": "stream",
     "text": [
      "SUCCESS Xianyang\n"
     ]
    },
    {
     "name": "stderr",
     "output_type": "stream",
     "text": [
      "INFO:pyumi.epw:Getting weather file: CHN_Tianjin.Tianjin.545270_CSWD\n"
     ]
    },
    {
     "name": "stdout",
     "output_type": "stream",
     "text": [
      "SUCCESS Tianjin\n"
     ]
    },
    {
     "name": "stderr",
     "output_type": "stream",
     "text": [
      "INFO:pyumi.epw:Getting weather file: CHN_Yunnan.Kunming.567780_CSWD\n"
     ]
    },
    {
     "name": "stdout",
     "output_type": "stream",
     "text": [
      "SUCCESS Yuxi\n"
     ]
    },
    {
     "name": "stderr",
     "output_type": "stream",
     "text": [
      "INFO:pyumi.epw:Getting weather file: GRC_Athens.167160_IWEC\n"
     ]
    },
    {
     "name": "stdout",
     "output_type": "stream",
     "text": [
      "SUCCESS Athens\n"
     ]
    },
    {
     "name": "stderr",
     "output_type": "stream",
     "text": [
      "INFO:pyumi.epw:Getting weather file: JPN_Osaka.477710_IWEC\n"
     ]
    },
    {
     "name": "stdout",
     "output_type": "stream",
     "text": [
      "SUCCESS Ōsaka\n"
     ]
    },
    {
     "name": "stderr",
     "output_type": "stream",
     "text": [
      "INFO:pyumi.epw:Getting weather file: EGY_Alexandria.623180_ETMY\n"
     ]
    },
    {
     "name": "stdout",
     "output_type": "stream",
     "text": [
      "SUCCESS Alexandria\n"
     ]
    },
    {
     "name": "stderr",
     "output_type": "stream",
     "text": [
      "INFO:pyumi.epw:Getting weather file: TWN_Taipei.466960_IWEC\n"
     ]
    },
    {
     "name": "stdout",
     "output_type": "stream",
     "text": [
      "SUCCESS Taipei\n"
     ]
    },
    {
     "name": "stderr",
     "output_type": "stream",
     "text": [
      "INFO:pyumi.epw:Getting weather file: KWT_Kuwait.Intl.AP.405820_KISR\n"
     ]
    },
    {
     "name": "stdout",
     "output_type": "stream",
     "text": [
      "SUCCESS Kuwait City\n"
     ]
    },
    {
     "name": "stderr",
     "output_type": "stream",
     "text": [
      "INFO:pyumi.epw:Getting weather file: VNM_Hanoi.488200_IWEC\n"
     ]
    },
    {
     "name": "stdout",
     "output_type": "stream",
     "text": [
      "SUCCESS Hanoi\n"
     ]
    },
    {
     "name": "stderr",
     "output_type": "stream",
     "text": [
      "INFO:pyumi.epw:Getting weather file: EGY_Aswan.624140_ETMY\n"
     ]
    },
    {
     "name": "stdout",
     "output_type": "stream",
     "text": [
      "SUCCESS Jeddah\n"
     ]
    },
    {
     "name": "stderr",
     "output_type": "stream",
     "text": [
      "INFO:pyumi.epw:Getting weather file: GHA_Accra.654720_SWERA\n"
     ]
    },
    {
     "name": "stdout",
     "output_type": "stream",
     "text": [
      "SUCCESS Lagos\n"
     ]
    },
    {
     "name": "stderr",
     "output_type": "stream",
     "text": [
      "INFO:pyumi.epw:Getting weather file: RUS_Irkutsk.307100_IWEC\n"
     ]
    },
    {
     "name": "stdout",
     "output_type": "stream",
     "text": [
      "SUCCESS Bratsk\n"
     ]
    },
    {
     "name": "stderr",
     "output_type": "stream",
     "text": [
      "INFO:pyumi.epw:Getting weather file: CHN_Gansu.Yuzhong.529830_CSWD\n"
     ]
    },
    {
     "name": "stdout",
     "output_type": "stream",
     "text": [
      "SUCCESS Dingxi\n"
     ]
    },
    {
     "name": "stderr",
     "output_type": "stream",
     "text": [
      "INFO:pyumi.epw:Getting weather file: CHN_Shanxi.Datong.534870_CSWD\n"
     ]
    },
    {
     "name": "stdout",
     "output_type": "stream",
     "text": [
      "SUCCESS Xiping\n"
     ]
    },
    {
     "name": "stderr",
     "output_type": "stream",
     "text": [
      "INFO:pyumi.epw:Getting weather file: CHN_Liaoning.Shenyang.543420_CSWD\n"
     ]
    },
    {
     "name": "stdout",
     "output_type": "stream",
     "text": [
      "SUCCESS Anshan\n"
     ]
    },
    {
     "name": "stderr",
     "output_type": "stream",
     "text": [
      "INFO:pyumi.epw:Getting weather file: USA_WA_Bremerton.National.AP.727928_TMY3\n"
     ]
    },
    {
     "name": "stdout",
     "output_type": "stream",
     "text": [
      "SUCCESS Bremerton\n"
     ]
    },
    {
     "name": "stderr",
     "output_type": "stream",
     "text": [
      "INFO:pyumi.epw:Getting weather file: USA_CO_Denver-Stapleton.724690_TMY\n"
     ]
    },
    {
     "name": "stdout",
     "output_type": "stream",
     "text": [
      "SUCCESS Denver\n"
     ]
    },
    {
     "name": "stderr",
     "output_type": "stream",
     "text": [
      "INFO:pyumi.epw:Getting weather file: CHN_Shanxi.Yushe.537870_CSWD\n"
     ]
    },
    {
     "name": "stdout",
     "output_type": "stream",
     "text": [
      "SUCCESS Changzhi\n"
     ]
    },
    {
     "name": "stderr",
     "output_type": "stream",
     "text": [
      "INFO:pyumi.epw:Getting weather file: TUR_Ankara.171280_IWEC\n"
     ]
    },
    {
     "name": "stdout",
     "output_type": "stream",
     "text": [
      "SUCCESS Afyonkarahisar\n"
     ]
    },
    {
     "name": "stderr",
     "output_type": "stream",
     "text": [
      "INFO:pyumi.epw:Getting weather file: CHN_Hebei.Shijiazhuang.536980_CSWD\n"
     ]
    },
    {
     "name": "stdout",
     "output_type": "stream",
     "text": [
      "SUCCESS Shijiazhuang\n"
     ]
    },
    {
     "name": "stderr",
     "output_type": "stream",
     "text": [
      "INFO:pyumi.epw:Getting weather file: CHN_Henan.Nanyang.571780_CSWD\n"
     ]
    },
    {
     "name": "stdout",
     "output_type": "stream",
     "text": [
      "SUCCESS Nanyang\n"
     ]
    },
    {
     "name": "stderr",
     "output_type": "stream",
     "text": [
      "INFO:pyumi.epw:Getting weather file: KEN_Meru.636950_SWERA\n"
     ]
    },
    {
     "name": "stdout",
     "output_type": "stream",
     "text": [
      "SUCCESS Meru\n"
     ]
    },
    {
     "name": "stderr",
     "output_type": "stream",
     "text": [
      "INFO:pyumi.epw:Getting weather file: CHN_Gansu.Wudu.560960_CSWD\n"
     ]
    },
    {
     "name": "stdout",
     "output_type": "stream",
     "text": [
      "SUCCESS Longba\n"
     ]
    },
    {
     "name": "stderr",
     "output_type": "stream",
     "text": [
      "INFO:pyumi.epw:Getting weather file: CHN_Sichuan.Chengdu.562940_CSWD\n"
     ]
    },
    {
     "name": "stdout",
     "output_type": "stream",
     "text": [
      "SUCCESS Chengdu\n"
     ]
    },
    {
     "name": "stderr",
     "output_type": "stream",
     "text": [
      "INFO:pyumi.epw:Getting weather file: USA_AZ_Phoenix-Deer.Valley.AP.722784_TMY3\n"
     ]
    },
    {
     "name": "stdout",
     "output_type": "stream",
     "text": [
      "SUCCESS Phoenix\n"
     ]
    },
    {
     "name": "stderr",
     "output_type": "stream",
     "text": [
      "INFO:pyumi.epw:Getting weather file: CHN_Jiangxi.Ganzhou.579930_CSWD\n"
     ]
    },
    {
     "name": "stdout",
     "output_type": "stream",
     "text": [
      "SUCCESS Ganzhou\n"
     ]
    },
    {
     "name": "stderr",
     "output_type": "stream",
     "text": [
      "INFO:pyumi.epw:Getting weather file: IND_New.Delhi.421820_ISHRAE\n"
     ]
    },
    {
     "name": "stdout",
     "output_type": "stream",
     "text": [
      "SUCCESS Ghāziābād\n"
     ]
    },
    {
     "name": "stderr",
     "output_type": "stream",
     "text": [
      "INFO:pyumi.epw:Getting weather file: KEN_Mombasa-Moi.638200_SWERA\n"
     ]
    },
    {
     "name": "stdout",
     "output_type": "stream",
     "text": [
      "SUCCESS Dar es Salaam\n"
     ]
    },
    {
     "name": "stderr",
     "output_type": "stream",
     "text": [
      "INFO:pyumi.epw:Getting weather file: GHA_Accra.654720_SWERA\n"
     ]
    },
    {
     "name": "stdout",
     "output_type": "stream",
     "text": [
      "SUCCESS Kano\n"
     ]
    },
    {
     "name": "stderr",
     "output_type": "stream",
     "text": [
      "INFO:pyumi.epw:Getting weather file: MYS_Kota.Baharu.486150_IWEC\n"
     ]
    },
    {
     "name": "stdout",
     "output_type": "stream",
     "text": [
      "SUCCESS Ho Chi Minh City\n"
     ]
    },
    {
     "name": "stderr",
     "output_type": "stream",
     "text": [
      "INFO:pyumi.epw:Getting weather file: MNG_Ulaangom.442120_IWEC\n"
     ]
    },
    {
     "name": "stdout",
     "output_type": "stream",
     "text": [
      "SUCCESS Noginsk\n"
     ]
    },
    {
     "name": "stderr",
     "output_type": "stream",
     "text": [
      "INFO:pyumi.epw:Getting weather file: CHN_Heilongjiang.Jiamusi.508730_CSWD\n"
     ]
    },
    {
     "name": "stdout",
     "output_type": "stream",
     "text": [
      "SUCCESS Jiamusi\n"
     ]
    },
    {
     "name": "stderr",
     "output_type": "stream",
     "text": [
      "INFO:pyumi.epw:Getting weather file: CHN_Xinjiang.Uygur.Wusu.513460_CSWD\n"
     ]
    },
    {
     "name": "stdout",
     "output_type": "stream",
     "text": [
      "SUCCESS Shihezi\n"
     ]
    },
    {
     "name": "stderr",
     "output_type": "stream",
     "text": [
      "INFO:pyumi.epw:Getting weather file: CAN_PQ_Montreal.Jean.Brebeuf.716278_CWEC\n"
     ]
    },
    {
     "name": "stdout",
     "output_type": "stream",
     "text": [
      "SUCCESS Montréal\n"
     ]
    },
    {
     "name": "stderr",
     "output_type": "stream",
     "text": [
      "INFO:pyumi.epw:Getting weather file: IRN_Tabriz.407060_ITMY\n"
     ]
    },
    {
     "name": "stdout",
     "output_type": "stream",
     "text": [
      "SUCCESS Zākhū\n"
     ]
    },
    {
     "name": "stderr",
     "output_type": "stream",
     "text": [
      "INFO:pyumi.epw:Getting weather file: CHN_Ningxia.Hui.Yinchuan.536140_CSWD\n"
     ]
    },
    {
     "name": "stdout",
     "output_type": "stream",
     "text": [
      "SUCCESS Yinchuan\n"
     ]
    },
    {
     "name": "stderr",
     "output_type": "stream",
     "text": [
      "INFO:pyumi.epw:Getting weather file: CHN_Hebei.Leting.545390_CSWD\n"
     ]
    },
    {
     "name": "stdout",
     "output_type": "stream",
     "text": [
      "SUCCESS Qinhuangdao\n"
     ]
    },
    {
     "name": "stderr",
     "output_type": "stream",
     "text": [
      "INFO:pyumi.epw:Getting weather file: CHL_Concepcion.856820_IWEC\n"
     ]
    },
    {
     "name": "stdout",
     "output_type": "stream",
     "text": [
      "SUCCESS Temuco\n"
     ]
    },
    {
     "name": "stderr",
     "output_type": "stream",
     "text": [
      "INFO:pyumi.epw:Getting weather file: IRN_Yazd.408210_ITMY\n"
     ]
    },
    {
     "name": "stdout",
     "output_type": "stream",
     "text": [
      "SUCCESS Mashhad\n"
     ]
    },
    {
     "name": "stderr",
     "output_type": "stream",
     "text": [
      "INFO:pyumi.epw:Getting weather file: CHN_Jiangsu.Xuzhou.580270_CSWD\n"
     ]
    },
    {
     "name": "stdout",
     "output_type": "stream",
     "text": [
      "SUCCESS Tongshan\n"
     ]
    },
    {
     "name": "stderr",
     "output_type": "stream",
     "text": [
      "INFO:pyumi.epw:Getting weather file: USA_CA_San.Jose.Intl.AP.724945_TMY3\n"
     ]
    },
    {
     "name": "stdout",
     "output_type": "stream",
     "text": [
      "SUCCESS San Jose\n"
     ]
    },
    {
     "name": "stderr",
     "output_type": "stream",
     "text": [
      "INFO:pyumi.epw:Getting weather file: IRN_Esfahan.408000_ITMY\n"
     ]
    },
    {
     "name": "stdout",
     "output_type": "stream",
     "text": [
      "SUCCESS Eşfahān\n"
     ]
    },
    {
     "name": "stderr",
     "output_type": "stream",
     "text": [
      "INFO:pyumi.epw:Getting weather file: CHN_Chongqing.Chongqing.Shapingba.575160_SWERA\n"
     ]
    },
    {
     "name": "stdout",
     "output_type": "stream",
     "text": [
      "SUCCESS Chongqing\n"
     ]
    },
    {
     "name": "stderr",
     "output_type": "stream",
     "text": [
      "INFO:pyumi.epw:Getting weather file: IND_Sundernagar.8204_ISHRAE\n"
     ]
    },
    {
     "name": "stdout",
     "output_type": "stream",
     "text": [
      "SUCCESS Ludhiāna\n"
     ]
    },
    {
     "name": "stderr",
     "output_type": "stream",
     "text": [
      "INFO:pyumi.epw:Getting weather file: CHN_Fujian.Congwu.591330_CSWD\n"
     ]
    },
    {
     "name": "stdout",
     "output_type": "stream",
     "text": [
      "SUCCESS Quanzhou\n"
     ]
    },
    {
     "name": "stderr",
     "output_type": "stream",
     "text": [
      "INFO:pyumi.epw:Getting weather file: IND_Amritsar.420710_ISHRAE\n"
     ]
    },
    {
     "name": "stdout",
     "output_type": "stream",
     "text": [
      "SUCCESS Gujranwala\n"
     ]
    },
    {
     "name": "stderr",
     "output_type": "stream",
     "text": [
      "INFO:pyumi.epw:Getting weather file: BGD_Chittagong-Patenga.419780_SWERA\n"
     ]
    },
    {
     "name": "stdout",
     "output_type": "stream",
     "text": [
      "SUCCESS Chattogram\n"
     ]
    },
    {
     "name": "stderr",
     "output_type": "stream",
     "text": [
      "INFO:pyumi.epw:Getting weather file: GHA_Accra.654720_SWERA\n"
     ]
    },
    {
     "name": "stdout",
     "output_type": "stream",
     "text": [
      "SUCCESS Abuja\n"
     ]
    },
    {
     "name": "stderr",
     "output_type": "stream",
     "text": [
      "INFO:pyumi.epw:Getting weather file: IND_Chennai-Madras.432790_ISHRAE\n"
     ]
    },
    {
     "name": "stdout",
     "output_type": "stream",
     "text": [
      "SUCCESS Chennai\n"
     ]
    },
    {
     "name": "stderr",
     "output_type": "stream",
     "text": [
      "INFO:pyumi.epw:Getting weather file: MNG_Ulaangom.442120_IWEC\n"
     ]
    },
    {
     "name": "stdout",
     "output_type": "stream",
     "text": [
      "SUCCESS Norilsk\n"
     ]
    },
    {
     "name": "stderr",
     "output_type": "stream",
     "text": [
      "INFO:pyumi.epw:Getting weather file: CHN_Jilin.Changchun.541610_CSWD\n"
     ]
    },
    {
     "name": "stdout",
     "output_type": "stream",
     "text": [
      "SUCCESS Jilin\n"
     ]
    },
    {
     "name": "stderr",
     "output_type": "stream",
     "text": [
      "INFO:pyumi.epw:Getting weather file: CHN_Xinjiang.Urgur.Urumqi.514630_IWEC\n"
     ]
    },
    {
     "name": "stdout",
     "output_type": "stream",
     "text": [
      "SUCCESS Yan’an Beilu\n"
     ]
    },
    {
     "name": "stderr",
     "output_type": "stream",
     "text": [
      "INFO:pyumi.epw:Getting weather file: CHN_Jilin.Siping.541570_CSWD\n"
     ]
    },
    {
     "name": "stdout",
     "output_type": "stream",
     "text": [
      "SUCCESS Siping\n"
     ]
    },
    {
     "name": "stderr",
     "output_type": "stream",
     "text": [
      "INFO:pyumi.epw:Getting weather file: ITA_Bonifati.163370_IGDG\n"
     ]
    },
    {
     "name": "stdout",
     "output_type": "stream",
     "text": [
      "SUCCESS Cosenza\n"
     ]
    },
    {
     "name": "stderr",
     "output_type": "stream",
     "text": [
      "INFO:pyumi.epw:Getting weather file: CHN_Shanxi.Yuanping.536730_CSWD\n"
     ]
    },
    {
     "name": "stdout",
     "output_type": "stream",
     "text": [
      "SUCCESS Shuozhou\n"
     ]
    },
    {
     "name": "stderr",
     "output_type": "stream",
     "text": [
      "INFO:pyumi.epw:Getting weather file: CHN_Liaoning.Jinzhou.543370_CSWD\n"
     ]
    },
    {
     "name": "stdout",
     "output_type": "stream",
     "text": [
      "SUCCESS Jinzhou\n"
     ]
    },
    {
     "name": "stderr",
     "output_type": "stream",
     "text": [
      "INFO:pyumi.epw:Getting weather file: USA_OR_Eugene-Mahlon.Sweet.AP.726930_TMY3\n"
     ]
    },
    {
     "name": "stdout",
     "output_type": "stream",
     "text": [
      "SUCCESS Eugene\n"
     ]
    },
    {
     "name": "stderr",
     "output_type": "stream",
     "text": [
      "INFO:pyumi.epw:Getting weather file: CHN_Hebei.Xingtai.537980_CSWD\n"
     ]
    },
    {
     "name": "stdout",
     "output_type": "stream",
     "text": [
      "SUCCESS Handan\n"
     ]
    },
    {
     "name": "stderr",
     "output_type": "stream",
     "text": [
      "INFO:pyumi.epw:Getting weather file: CHN_Henan.Zhumadian.572900_CSWD\n"
     ]
    },
    {
     "name": "stdout",
     "output_type": "stream",
     "text": [
      "SUCCESS Zhoukou\n"
     ]
    },
    {
     "name": "stderr",
     "output_type": "stream",
     "text": [
      "INFO:pyumi.epw:Getting weather file: CHN_Yunnan.Lijiang.566510_CSWD\n"
     ]
    },
    {
     "name": "stdout",
     "output_type": "stream",
     "text": [
      "SUCCESS Dayan\n"
     ]
    },
    {
     "name": "stderr",
     "output_type": "stream",
     "text": [
      "INFO:pyumi.epw:Getting weather file: USA_NV_Las.Vegas-McCarran.Intl.AP.723860_TMY\n"
     ]
    },
    {
     "name": "stdout",
     "output_type": "stream",
     "text": [
      "SUCCESS Las Vegas\n"
     ]
    },
    {
     "name": "stderr",
     "output_type": "stream",
     "text": [
      "INFO:pyumi.epw:Getting weather file: CHN_Hubei.Wuhan.574940_CSWD\n"
     ]
    },
    {
     "name": "stdout",
     "output_type": "stream",
     "text": [
      "SUCCESS Wuhan\n"
     ]
    },
    {
     "name": "stderr",
     "output_type": "stream",
     "text": [
      "INFO:pyumi.epw:Getting weather file: MAR_Casablanca.Nouasser.601560_IWEC\n"
     ]
    },
    {
     "name": "stdout",
     "output_type": "stream",
     "text": [
      "SUCCESS El Kelaa des Srarhna\n"
     ]
    },
    {
     "name": "stderr",
     "output_type": "stream",
     "text": [
      "INFO:pyumi.epw:Getting weather file: CHN_Guangdong.Shantou.593160_CSWD\n"
     ]
    },
    {
     "name": "stdout",
     "output_type": "stream",
     "text": [
      "SUCCESS Jieyang\n"
     ]
    },
    {
     "name": "stderr",
     "output_type": "stream",
     "text": [
      "INFO:pyumi.epw:Getting weather file: IND_Pune.430630_ISHRAE\n"
     ]
    },
    {
     "name": "stdout",
     "output_type": "stream",
     "text": [
      "SUCCESS Chinchvad\n"
     ]
    },
    {
     "name": "stderr",
     "output_type": "stream",
     "text": [
      "INFO:pyumi.epw:Getting weather file: CHN_Guangdong.Dianbai.596640_CSWD\n"
     ]
    },
    {
     "name": "stdout",
     "output_type": "stream",
     "text": [
      "SUCCESS Maoming\n"
     ]
    },
    {
     "name": "stderr",
     "output_type": "stream",
     "text": [
      "INFO:pyumi.epw:Getting weather file: ARE_Abu.Dhabi.412170_IWEC\n"
     ]
    },
    {
     "name": "stdout",
     "output_type": "stream",
     "text": [
      "SUCCESS Dubai\n"
     ]
    },
    {
     "name": "stderr",
     "output_type": "stream",
     "text": [
      "INFO:pyumi.epw:Getting weather file: IND_Hyderabad.431280_ISHRAE\n"
     ]
    },
    {
     "name": "stdout",
     "output_type": "stream",
     "text": [
      "SUCCESS Hyderābād\n"
     ]
    },
    {
     "name": "stderr",
     "output_type": "stream",
     "text": [
      "INFO:pyumi.epw:Getting weather file: RUS_Omsk.286980_IWEC\n"
     ]
    },
    {
     "name": "stdout",
     "output_type": "stream",
     "text": [
      "SUCCESS Nefteyugansk\n"
     ]
    },
    {
     "name": "stderr",
     "output_type": "stream",
     "text": [
      "INFO:pyumi.epw:Getting weather file: CHN_Jilin.Baicheng.509360_CSWD\n"
     ]
    },
    {
     "name": "stdout",
     "output_type": "stream",
     "text": [
      "SUCCESS Baicheng\n"
     ]
    },
    {
     "name": "stderr",
     "output_type": "stream",
     "text": [
      "INFO:pyumi.epw:Getting weather file: CHN_Xinjiang.Uygur.Karamay.512430_CSWD\n"
     ]
    },
    {
     "name": "stdout",
     "output_type": "stream",
     "text": [
      "SUCCESS Karamay\n"
     ]
    },
    {
     "name": "stderr",
     "output_type": "stream",
     "text": [
      "INFO:pyumi.epw:Getting weather file: USA_MN_Minneapolis-St.Paul.Intl.AP.726580_TMY3\n"
     ]
    },
    {
     "name": "stdout",
     "output_type": "stream",
     "text": [
      "SUCCESS Minneapolis\n"
     ]
    },
    {
     "name": "stderr",
     "output_type": "stream",
     "text": [
      "INFO:pyumi.epw:Getting weather file: TUR_Ankara.171280_IWEC\n"
     ]
    },
    {
     "name": "stdout",
     "output_type": "stream",
     "text": [
      "SUCCESS Kırıkkale\n"
     ]
    },
    {
     "name": "stderr",
     "output_type": "stream",
     "text": [
      "INFO:pyumi.epw:Getting weather file: CHN_Gansu.Lanzhou.528890_CSWD\n"
     ]
    },
    {
     "name": "stdout",
     "output_type": "stream",
     "text": [
      "SUCCESS Baiyin\n"
     ]
    },
    {
     "name": "stderr",
     "output_type": "stream",
     "text": [
      "INFO:pyumi.epw:Getting weather file: CHN_Liaoning.Chaoyang.543240_CSWD\n"
     ]
    },
    {
     "name": "stdout",
     "output_type": "stream",
     "text": [
      "SUCCESS Chaoyang\n"
     ]
    },
    {
     "name": "stderr",
     "output_type": "stream",
     "text": [
      "INFO:pyumi.epw:Getting weather file: USA_OR_Salem.726940_TMY2\n"
     ]
    },
    {
     "name": "stdout",
     "output_type": "stream",
     "text": [
      "SUCCESS Salem\n"
     ]
    },
    {
     "name": "stderr",
     "output_type": "stream",
     "text": [
      "INFO:pyumi.epw:Getting weather file: CHN_Shanxi.Yuncheng.539590_CSWD\n"
     ]
    },
    {
     "name": "stdout",
     "output_type": "stream",
     "text": [
      "SUCCESS Sanmenxia\n"
     ]
    },
    {
     "name": "stderr",
     "output_type": "stream",
     "text": [
      "INFO:pyumi.epw:Getting weather file: CHN_Henan.Shangqiu.580050_CSWD\n"
     ]
    },
    {
     "name": "stdout",
     "output_type": "stream",
     "text": [
      "SUCCESS Heze\n"
     ]
    },
    {
     "name": "stderr",
     "output_type": "stream",
     "text": [
      "INFO:pyumi.epw:Getting weather file: PRT_Porto.085450_IWEC\n"
     ]
    },
    {
     "name": "stdout",
     "output_type": "stream",
     "text": [
      "SUCCESS Porto\n"
     ]
    },
    {
     "name": "stderr",
     "output_type": "stream",
     "text": [
      "INFO:pyumi.epw:Getting weather file: USA_CA_Riverside.Muni.AP.722869_TMY3\n"
     ]
    },
    {
     "name": "stdout",
     "output_type": "stream",
     "text": [
      "SUCCESS Riverside\n"
     ]
    },
    {
     "name": "stderr",
     "output_type": "stream",
     "text": [
      "INFO:pyumi.epw:Getting weather file: CHN_Zhejiang.Hangzhou.584570_CSWD\n"
     ]
    },
    {
     "name": "stdout",
     "output_type": "stream",
     "text": [
      "SUCCESS Hangzhou\n"
     ]
    },
    {
     "name": "stderr",
     "output_type": "stream",
     "text": [
      "INFO:pyumi.epw:Getting weather file: LBY_Tripoli.620100_IWEC\n"
     ]
    },
    {
     "name": "stdout",
     "output_type": "stream",
     "text": [
      "SUCCESS Tripoli\n"
     ]
    },
    {
     "name": "stderr",
     "output_type": "stream",
     "text": [
      "INFO:pyumi.epw:Getting weather file: CHN_Guangxi.Zhuang.Guiping.592540_CSWD\n"
     ]
    },
    {
     "name": "stdout",
     "output_type": "stream",
     "text": [
      "SUCCESS Yulin\n"
     ]
    },
    {
     "name": "stderr",
     "output_type": "stream",
     "text": [
      "INFO:pyumi.epw:Getting weather file: SEN_Dakar.616410_IWEC\n"
     ]
    },
    {
     "name": "stdout",
     "output_type": "stream",
     "text": [
      "SUCCESS Dakar\n"
     ]
    },
    {
     "name": "stderr",
     "output_type": "stream",
     "text": [
      "INFO:pyumi.epw:Getting weather file: IND_Allahabad.424750_ISHRAE\n"
     ]
    },
    {
     "name": "stdout",
     "output_type": "stream",
     "text": [
      "SUCCESS Prayagraj\n"
     ]
    },
    {
     "name": "stderr",
     "output_type": "stream",
     "text": [
      "INFO:pyumi.epw:Getting weather file: ETH_Combolcha.633330_SWERA\n"
     ]
    },
    {
     "name": "stdout",
     "output_type": "stream",
     "text": [
      "SUCCESS Sanaa\n"
     ]
    },
    {
     "name": "stderr",
     "output_type": "stream",
     "text": [
      "INFO:pyumi.epw:Getting weather file: MYS_Kuala.Lumpur.486470_IWEC\n"
     ]
    },
    {
     "name": "stdout",
     "output_type": "stream",
     "text": [
      "SUCCESS Kuala Lumpur\n"
     ]
    },
    {
     "name": "stderr",
     "output_type": "stream",
     "text": [
      "INFO:pyumi.epw:Getting weather file: JPN_Matsumoto.476180_IWEC\n"
     ]
    },
    {
     "name": "stdout",
     "output_type": "stream",
     "text": [
      "SUCCESS Ōmiyachō\n"
     ]
    },
    {
     "name": "stderr",
     "output_type": "stream",
     "text": [
      "INFO:pyumi.epw:Getting weather file: CHN_Heilongjiang.Jixi.509780_CSWD\n"
     ]
    },
    {
     "name": "stdout",
     "output_type": "stream",
     "text": [
      "SUCCESS Jixi\n"
     ]
    },
    {
     "name": "stderr",
     "output_type": "stream",
     "text": [
      "INFO:pyumi.epw:Getting weather file: CHN_Gansu.Yumenzhen.524360_CSWD\n"
     ]
    },
    {
     "name": "stdout",
     "output_type": "stream",
     "text": [
      "SUCCESS Yingmen\n"
     ]
    },
    {
     "name": "stderr",
     "output_type": "stream",
     "text": [
      "INFO:pyumi.epw:Getting weather file: CHN_Liaoning.Shenyang.543420_IWEC\n"
     ]
    },
    {
     "name": "stdout",
     "output_type": "stream",
     "text": [
      "SUCCESS Tieling\n"
     ]
    },
    {
     "name": "stderr",
     "output_type": "stream",
     "text": [
      "INFO:pyumi.epw:Getting weather file: IRN_Tabriz.407060_ITMY\n"
     ]
    },
    {
     "name": "stdout",
     "output_type": "stream",
     "text": [
      "SUCCESS Siirt\n"
     ]
    },
    {
     "name": "stderr",
     "output_type": "stream",
     "text": [
      "INFO:pyumi.epw:Getting weather file: CHN_Ningxia.Hui.Yinchuan.536140_CSWD\n"
     ]
    },
    {
     "name": "stdout",
     "output_type": "stream",
     "text": [
      "SUCCESS Wuzhong\n"
     ]
    },
    {
     "name": "stderr",
     "output_type": "stream",
     "text": [
      "INFO:pyumi.epw:Getting weather file: SVK_Bratislava.118160_IWEC\n"
     ]
    },
    {
     "name": "stdout",
     "output_type": "stream",
     "text": [
      "SUCCESS Budapest\n"
     ]
    },
    {
     "name": "stderr",
     "output_type": "stream",
     "text": [
      "INFO:pyumi.epw:Getting weather file: CAN_BC_Vancouver.718920_CWEC\n"
     ]
    },
    {
     "name": "stdout",
     "output_type": "stream",
     "text": [
      "SUCCESS Burnaby\n"
     ]
    },
    {
     "name": "stderr",
     "output_type": "stream",
     "text": [
      "INFO:pyumi.epw:Getting weather file: TUR_Ankara.171280_IWEC\n"
     ]
    },
    {
     "name": "stdout",
     "output_type": "stream",
     "text": [
      "SUCCESS Konya\n"
     ]
    },
    {
     "name": "stderr",
     "output_type": "stream",
     "text": [
      "INFO:pyumi.epw:Getting weather file: CHN_Shandong.Yanzhou.549160_CSWD\n"
     ]
    },
    {
     "name": "stdout",
     "output_type": "stream",
     "text": [
      "SUCCESS Jining\n"
     ]
    },
    {
     "name": "stderr",
     "output_type": "stream",
     "text": [
      "INFO:pyumi.epw:Getting weather file: CHN_Sichuan.Huili.566710_CSWD\n"
     ]
    },
    {
     "name": "stdout",
     "output_type": "stream",
     "text": [
      "SUCCESS Dadukou\n"
     ]
    },
    {
     "name": "stderr",
     "output_type": "stream",
     "text": [
      "INFO:pyumi.epw:Getting weather file: USA_CA_Chula.Vista-Brown.Field.Muni.AP.722904_TMY3\n"
     ]
    },
    {
     "name": "stdout",
     "output_type": "stream",
     "text": [
      "SUCCESS Tijuana\n"
     ]
    },
    {
     "name": "stderr",
     "output_type": "stream",
     "text": [
      "INFO:pyumi.epw:Getting weather file: JPN_Nagoya.476350_IWEC\n"
     ]
    },
    {
     "name": "stdout",
     "output_type": "stream",
     "text": [
      "SUCCESS Nagoya\n"
     ]
    },
    {
     "name": "stderr",
     "output_type": "stream",
     "text": [
      "INFO:pyumi.epw:Getting weather file: IRN_Tehran-Mehrabad.407540_ITMY\n"
     ]
    },
    {
     "name": "stdout",
     "output_type": "stream",
     "text": [
      "SUCCESS Qom\n"
     ]
    },
    {
     "name": "stderr",
     "output_type": "stream",
     "text": [
      "INFO:pyumi.epw:Getting weather file: USA_TX_Dallas-Love.Field.722583_TMY3\n"
     ]
    },
    {
     "name": "stdout",
     "output_type": "stream",
     "text": [
      "SUCCESS Dallas\n"
     ]
    },
    {
     "name": "stderr",
     "output_type": "stream",
     "text": [
      "INFO:pyumi.epw:Getting weather file: IND_New.Delhi.421820_ISHRAE\n"
     ]
    },
    {
     "name": "stdout",
     "output_type": "stream",
     "text": [
      "SUCCESS Farīdābād\n"
     ]
    },
    {
     "name": "stderr",
     "output_type": "stream",
     "text": [
      "INFO:pyumi.epw:Getting weather file: USA_FL_Miami.722020_TMY2\n"
     ]
    },
    {
     "name": "stdout",
     "output_type": "stream",
     "text": [
      "SUCCESS Miami\n"
     ]
    },
    {
     "name": "stderr",
     "output_type": "stream",
     "text": [
      "INFO:pyumi.epw:Getting weather file: ETH_Gondar.633310_SWERA\n"
     ]
    },
    {
     "name": "stdout",
     "output_type": "stream",
     "text": [
      "SUCCESS Omdurman\n"
     ]
    },
    {
     "name": "stderr",
     "output_type": "stream",
     "text": [
      "INFO:pyumi.epw:Getting weather file: IND_Surat.428400_ISHRAE\n"
     ]
    },
    {
     "name": "stdout",
     "output_type": "stream",
     "text": [
      "SUCCESS Sūrat\n"
     ]
    },
    {
     "name": "stderr",
     "output_type": "stream",
     "text": [
      "INFO:pyumi.epw:Getting weather file: MNG_Ulaangom.442120_IWEC\n"
     ]
    },
    {
     "name": "stdout",
     "output_type": "stream",
     "text": [
      "SUCCESS Kyzyl\n"
     ]
    },
    {
     "name": "stderr",
     "output_type": "stream",
     "text": [
      "INFO:pyumi.epw:Getting weather file: CHN_Gansu.Wushaoling.527870_CSWD\n"
     ]
    },
    {
     "name": "stdout",
     "output_type": "stream",
     "text": [
      "SUCCESS Wuwei\n"
     ]
    },
    {
     "name": "stderr",
     "output_type": "stream",
     "text": [
      "INFO:pyumi.epw:Getting weather file: CHN_Shanxi.Datong.534870_CSWD\n"
     ]
    },
    {
     "name": "stdout",
     "output_type": "stream",
     "text": [
      "SUCCESS Yunzhong\n"
     ]
    },
    {
     "name": "stderr",
     "output_type": "stream",
     "text": [
      "INFO:pyumi.epw:Getting weather file: CHN_Hubei.Yunxi.572510_CSWD\n"
     ]
    },
    {
     "name": "stdout",
     "output_type": "stream",
     "text": [
      "SUCCESS Shangzhou\n"
     ]
    },
    {
     "name": "stderr",
     "output_type": "stream",
     "text": [
      "INFO:pyumi.epw:Getting weather file: TUR_Ankara.171280_IWEC\n"
     ]
    },
    {
     "name": "stdout",
     "output_type": "stream",
     "text": [
      "SUCCESS Talas\n"
     ]
    },
    {
     "name": "stderr",
     "output_type": "stream",
     "text": [
      "INFO:pyumi.epw:Getting weather file: CHN_Qinghai.Gangca.527540_CSWD\n"
     ]
    },
    {
     "name": "stdout",
     "output_type": "stream",
     "text": [
      "SUCCESS Zhangye\n"
     ]
    },
    {
     "name": "stderr",
     "output_type": "stream",
     "text": [
      "INFO:pyumi.epw:Getting weather file: UKR_Kiev.333450_IWEC\n"
     ]
    },
    {
     "name": "stdout",
     "output_type": "stream",
     "text": [
      "SUCCESS Kyiv\n"
     ]
    },
    {
     "name": "stderr",
     "output_type": "stream",
     "text": [
      "INFO:pyumi.epw:Getting weather file: USA_WA_Tacoma-McChord.AFB.742060_TMY3\n"
     ]
    },
    {
     "name": "stdout",
     "output_type": "stream",
     "text": [
      "SUCCESS Tacoma\n"
     ]
    },
    {
     "name": "stderr",
     "output_type": "stream",
     "text": [
      "INFO:pyumi.epw:Getting weather file: CHN_Henan.Anyang.538980_CSWD\n"
     ]
    },
    {
     "name": "stdout",
     "output_type": "stream",
     "text": [
      "SUCCESS Hebi\n"
     ]
    },
    {
     "name": "stderr",
     "output_type": "stream",
     "text": [
      "INFO:pyumi.epw:Getting weather file: CHN_Henan.Shangqiu.580050_CSWD\n"
     ]
    },
    {
     "name": "stdout",
     "output_type": "stream",
     "text": [
      "SUCCESS Shangqiu\n"
     ]
    },
    {
     "name": "stderr",
     "output_type": "stream",
     "text": [
      "INFO:pyumi.epw:Getting weather file: PER_Arequipa.847520_IWEC\n"
     ]
    },
    {
     "name": "stdout",
     "output_type": "stream",
     "text": [
      "SUCCESS Arequipa\n"
     ]
    },
    {
     "name": "stderr",
     "output_type": "stream",
     "text": [
      "INFO:pyumi.epw:Getting weather file: IRN_Tehran-Mehrabad.407540_ITMY\n"
     ]
    },
    {
     "name": "stdout",
     "output_type": "stream",
     "text": [
      "SUCCESS Karaj\n"
     ]
    },
    {
     "name": "stderr",
     "output_type": "stream",
     "text": [
      "INFO:pyumi.epw:Getting weather file: CHN_Jiangxi.Nanjing.582380_SWERA\n"
     ]
    },
    {
     "name": "stdout",
     "output_type": "stream",
     "text": [
      "SUCCESS Nanjing\n"
     ]
    },
    {
     "name": "stderr",
     "output_type": "stream",
     "text": [
      "INFO:pyumi.epw:Getting weather file: PER_Lima.846280_IWEC\n"
     ]
    },
    {
     "name": "stdout",
     "output_type": "stream",
     "text": [
      "SUCCESS Callao\n"
     ]
    },
    {
     "name": "stderr",
     "output_type": "stream",
     "text": [
      "INFO:pyumi.epw:Getting weather file: USA_TX_Houston-William.P.Hobby.AP.722435_TMY3\n"
     ]
    },
    {
     "name": "stdout",
     "output_type": "stream",
     "text": [
      "SUCCESS Houston\n"
     ]
    },
    {
     "name": "stderr",
     "output_type": "stream",
     "text": [
      "INFO:pyumi.epw:Getting weather file: KWT_Kuwait.Intl.AP.405820_KISR\n"
     ]
    },
    {
     "name": "stdout",
     "output_type": "stream",
     "text": [
      "SUCCESS Al Başrah\n"
     ]
    },
    {
     "name": "stderr",
     "output_type": "stream",
     "text": [
      "INFO:pyumi.epw:Getting weather file: ECU_Quito.840710_IWEC\n"
     ]
    },
    {
     "name": "stdout",
     "output_type": "stream",
     "text": [
      "SUCCESS Timbío\n"
     ]
    },
    {
     "name": "stderr",
     "output_type": "stream",
     "text": [
      "INFO:pyumi.epw:Getting weather file: VEN_Caracas.804150_IWEC\n"
     ]
    },
    {
     "name": "stdout",
     "output_type": "stream",
     "text": [
      "SUCCESS Maracaibo\n"
     ]
    },
    {
     "name": "stderr",
     "output_type": "stream",
     "text": [
      "INFO:pyumi.epw:Getting weather file: MYS_Kuching.964130_IWEC\n"
     ]
    },
    {
     "name": "stdout",
     "output_type": "stream",
     "text": [
      "SUCCESS Surabaya\n"
     ]
    },
    {
     "name": "stderr",
     "output_type": "stream",
     "text": [
      "INFO:pyumi.epw:Getting weather file: RUS_Omsk.286980_IWEC\n"
     ]
    },
    {
     "name": "stdout",
     "output_type": "stream",
     "text": [
      "SUCCESS Novyy Urengoy\n"
     ]
    },
    {
     "name": "stderr",
     "output_type": "stream",
     "text": [
      "INFO:pyumi.epw:Getting weather file: CHN_Heilongjiang.Sunwu.505640_CSWD\n"
     ]
    },
    {
     "name": "stdout",
     "output_type": "stream",
     "text": [
      "SUCCESS Heihe\n"
     ]
    },
    {
     "name": "stderr",
     "output_type": "stream",
     "text": [
      "INFO:pyumi.epw:Getting weather file: CHN_Shanxi.Datong.534870_CSWD\n"
     ]
    },
    {
     "name": "stdout",
     "output_type": "stream",
     "text": [
      "SUCCESS Beichengqu\n"
     ]
    },
    {
     "name": "stderr",
     "output_type": "stream",
     "text": [
      "INFO:pyumi.epw:Getting weather file: CHN_Liaoning.Shenyang.543420_IWEC\n"
     ]
    },
    {
     "name": "stdout",
     "output_type": "stream",
     "text": [
      "SUCCESS Fushun\n"
     ]
    },
    {
     "name": "stderr",
     "output_type": "stream",
     "text": [
      "INFO:pyumi.epw:Getting weather file: TUR_Ankara.171280_IWEC\n"
     ]
    },
    {
     "name": "stdout",
     "output_type": "stream",
     "text": [
      "SUCCESS Kırşehir\n"
     ]
    },
    {
     "name": "stderr",
     "output_type": "stream",
     "text": [
      "INFO:pyumi.epw:Getting weather file: USA_UT_Salt.Lake.City.Intl.AP.725720_TMY\n"
     ]
    },
    {
     "name": "stdout",
     "output_type": "stream",
     "text": [
      "SUCCESS Salt Lake City\n"
     ]
    },
    {
     "name": "stderr",
     "output_type": "stream",
     "text": [
      "INFO:pyumi.epw:Getting weather file: GBR_Birmingham.035340_IWEC\n"
     ]
    },
    {
     "name": "stdout",
     "output_type": "stream",
     "text": [
      "SUCCESS Birmingham\n"
     ]
    },
    {
     "name": "stderr",
     "output_type": "stream",
     "text": [
      "INFO:pyumi.epw:Getting weather file: USA_WA_Olympia.727920_TMY2\n"
     ]
    },
    {
     "name": "stdout",
     "output_type": "stream",
     "text": [
      "SUCCESS Olympia\n"
     ]
    },
    {
     "name": "stderr",
     "output_type": "stream",
     "text": [
      "INFO:pyumi.epw:Getting weather file: IRN_Tabriz.407060_ITMY\n"
     ]
    },
    {
     "name": "stdout",
     "output_type": "stream",
     "text": [
      "SUCCESS Tabrīz\n"
     ]
    },
    {
     "name": "stderr",
     "output_type": "stream",
     "text": [
      "INFO:pyumi.epw:Getting weather file: CHN_Tianjin.Tianjin.545270_CSWD\n"
     ]
    },
    {
     "name": "stdout",
     "output_type": "stream",
     "text": [
      "SUCCESS Cangzhou\n"
     ]
    },
    {
     "name": "stderr",
     "output_type": "stream",
     "text": [
      "INFO:pyumi.epw:Getting weather file: MEX_Mexico.City.766790_IWEC\n"
     ]
    },
    {
     "name": "stdout",
     "output_type": "stream",
     "text": [
      "SUCCESS Aguascalientes\n"
     ]
    },
    {
     "name": "stderr",
     "output_type": "stream",
     "text": [
      "INFO:pyumi.epw:Getting weather file: USA_CA_Sacramento.724835_TMY2\n"
     ]
    },
    {
     "name": "stdout",
     "output_type": "stream",
     "text": [
      "SUCCESS Sacramento\n"
     ]
    },
    {
     "name": "stderr",
     "output_type": "stream",
     "text": [
      "INFO:pyumi.epw:Getting weather file: CHN_Anhui.Boxian.581020_CSWD\n"
     ]
    },
    {
     "name": "stdout",
     "output_type": "stream",
     "text": [
      "SUCCESS Fuyang\n"
     ]
    },
    {
     "name": "stderr",
     "output_type": "stream",
     "text": [
      "INFO:pyumi.epw:Getting weather file: CZ15RV2\n"
     ]
    },
    {
     "name": "stdout",
     "output_type": "stream",
     "text": [
      "SUCCESS Mexicali\n"
     ]
    },
    {
     "name": "stderr",
     "output_type": "stream",
     "text": [
      "INFO:pyumi.epw:Getting weather file: BRA_Belo.Horizonte-Pampulha.835830_SWERA\n"
     ]
    },
    {
     "name": "stdout",
     "output_type": "stream",
     "text": [
      "SUCCESS Belo Horizonte\n"
     ]
    },
    {
     "name": "stderr",
     "output_type": "stream",
     "text": [
      "INFO:pyumi.epw:Getting weather file: IND_New.Delhi.421820_ISHRAE\n"
     ]
    },
    {
     "name": "stdout",
     "output_type": "stream",
     "text": [
      "SUCCESS Meerut\n"
     ]
    },
    {
     "name": "stderr",
     "output_type": "stream",
     "text": [
      "INFO:pyumi.epw:Getting weather file: IND_Lucknow.423690_ISHRAE\n"
     ]
    },
    {
     "name": "stdout",
     "output_type": "stream",
     "text": [
      "SUCCESS Lucknow\n"
     ]
    },
    {
     "name": "stderr",
     "output_type": "stream",
     "text": [
      "INFO:pyumi.epw:Getting weather file: GHA_Accra.654720_SWERA\n"
     ]
    },
    {
     "name": "stdout",
     "output_type": "stream",
     "text": [
      "SUCCESS Ouagadougou\n"
     ]
    },
    {
     "name": "stderr",
     "output_type": "stream",
     "text": [
      "INFO:pyumi.epw:Getting weather file: SGP_Singapore.486980_IWEC\n"
     ]
    },
    {
     "name": "stdout",
     "output_type": "stream",
     "text": [
      "SUCCESS Singapore\n"
     ]
    },
    {
     "name": "stderr",
     "output_type": "stream",
     "text": [
      "INFO:pyumi.epw:Getting weather file: RUS_Omsk.286980_IWEC\n"
     ]
    },
    {
     "name": "stdout",
     "output_type": "stream",
     "text": [
      "SUCCESS Noyabrsk\n"
     ]
    },
    {
     "name": "stderr",
     "output_type": "stream",
     "text": [
      "INFO:pyumi.epw:Getting weather file: KAZ_Semipalatinsk.361770_IWEC\n"
     ]
    },
    {
     "name": "stdout",
     "output_type": "stream",
     "text": [
      "SUCCESS Novosibirsk\n"
     ]
    },
    {
     "name": "stderr",
     "output_type": "stream",
     "text": [
      "INFO:pyumi.epw:Getting weather file: CHN_Xinjiang.Uygur.Jinghe.513340_CSWD\n"
     ]
    },
    {
     "name": "stdout",
     "output_type": "stream",
     "text": [
      "SUCCESS Bole\n"
     ]
    },
    {
     "name": "stderr",
     "output_type": "stream",
     "text": [
      "INFO:pyumi.epw:Getting weather file: BLR_Minsk.268500_IWEC\n"
     ]
    },
    {
     "name": "stdout",
     "output_type": "stream",
     "text": [
      "SUCCESS Minsk\n"
     ]
    },
    {
     "name": "stderr",
     "output_type": "stream",
     "text": [
      "INFO:pyumi.epw:Getting weather file: TUR_Ankara.171280_IWEC\n"
     ]
    },
    {
     "name": "stdout",
     "output_type": "stream",
     "text": [
      "SUCCESS Nevşehir\n"
     ]
    },
    {
     "name": "stderr",
     "output_type": "stream",
     "text": [
      "INFO:pyumi.epw:Getting weather file: CHN_Gansu.Jiuquan.525330_CSWD\n"
     ]
    },
    {
     "name": "stdout",
     "output_type": "stream",
     "text": [
      "SUCCESS Xibeijie\n"
     ]
    },
    {
     "name": "stderr",
     "output_type": "stream",
     "text": [
      "INFO:pyumi.epw:Getting weather file: BOL_La.Paz.852010_IWEC\n"
     ]
    },
    {
     "name": "stdout",
     "output_type": "stream",
     "text": [
      "SUCCESS La Paz\n"
     ]
    },
    {
     "name": "stderr",
     "output_type": "stream",
     "text": [
      "INFO:pyumi.epw:Getting weather file: CAN_BC_Vancouver.718920_CWEC\n"
     ]
    },
    {
     "name": "stdout",
     "output_type": "stream",
     "text": [
      "SUCCESS Richmond\n"
     ]
    },
    {
     "name": "stderr",
     "output_type": "stream",
     "text": [
      "INFO:pyumi.epw:Getting weather file: CHN_Hebei.Shijiazhuang.536980_CSWD\n"
     ]
    },
    {
     "name": "stdout",
     "output_type": "stream",
     "text": [
      "SUCCESS Yangquan\n"
     ]
    },
    {
     "name": "stderr",
     "output_type": "stream",
     "text": [
      "INFO:pyumi.epw:Getting weather file: CHN_Jiangsu.Dongtai.582510_CSWD\n"
     ]
    },
    {
     "name": "stdout",
     "output_type": "stream",
     "text": [
      "SUCCESS Yancheng\n"
     ]
    },
    {
     "name": "stderr",
     "output_type": "stream",
     "text": [
      "INFO:pyumi.epw:Getting weather file: ZWE_Harare.677750_IWEC\n"
     ]
    },
    {
     "name": "stdout",
     "output_type": "stream",
     "text": [
      "SUCCESS Lubango\n"
     ]
    },
    {
     "name": "stderr",
     "output_type": "stream",
     "text": [
      "INFO:pyumi.epw:Getting weather file: SYR_Damascus.400800_IWEC\n"
     ]
    },
    {
     "name": "stdout",
     "output_type": "stream",
     "text": [
      "SUCCESS Aleppo\n"
     ]
    },
    {
     "name": "stderr",
     "output_type": "stream",
     "text": [
      "INFO:pyumi.epw:Getting weather file: ZAF_Johannesburg.683680_IWEC\n"
     ]
    },
    {
     "name": "stdout",
     "output_type": "stream",
     "text": [
      "SUCCESS Johannesburg\n"
     ]
    },
    {
     "name": "stderr",
     "output_type": "stream",
     "text": [
      "INFO:pyumi.epw:Getting weather file: IND_Sundernagar.8204_ISHRAE\n"
     ]
    },
    {
     "name": "stdout",
     "output_type": "stream",
     "text": [
      "SUCCESS Chandīgarh\n"
     ]
    },
    {
     "name": "stderr",
     "output_type": "stream",
     "text": [
      "INFO:pyumi.epw:Getting weather file: CHN_Fujian.Xiamen.591340_CSWD\n"
     ]
    },
    {
     "name": "stdout",
     "output_type": "stream",
     "text": [
      "SUCCESS Zhangzhou\n"
     ]
    },
    {
     "name": "stderr",
     "output_type": "stream",
     "text": [
      "INFO:pyumi.epw:Getting weather file: KWT_Kuwait.Intl.AP.405820_KISR\n"
     ]
    },
    {
     "name": "stdout",
     "output_type": "stream",
     "text": [
      "SUCCESS Ahvāz\n"
     ]
    },
    {
     "name": "stderr",
     "output_type": "stream",
     "text": [
      "INFO:pyumi.epw:Getting weather file: Vila Bela da Santíssima Trind_MT_BRA\n"
     ]
    },
    {
     "name": "stdout",
     "output_type": "stream",
     "text": [
      "SUCCESS Santa Cruz\n"
     ]
    },
    {
     "name": "stderr",
     "output_type": "stream",
     "text": [
      "INFO:pyumi.epw:Getting weather file: VEN_Caracas.804150_IWEC\n"
     ]
    },
    {
     "name": "stdout",
     "output_type": "stream",
     "text": [
      "SUCCESS Caracas\n"
     ]
    },
    {
     "name": "stderr",
     "output_type": "stream",
     "text": [
      "INFO:pyumi.epw:Getting weather file: GHA_Accra.654720_SWERA\n"
     ]
    },
    {
     "name": "stdout",
     "output_type": "stream",
     "text": [
      "SUCCESS Douala\n"
     ]
    },
    {
     "name": "stderr",
     "output_type": "stream",
     "text": [
      "INFO:pyumi.epw:Getting weather file: RUS_Omsk.286980_IWEC\n"
     ]
    },
    {
     "name": "stdout",
     "output_type": "stream",
     "text": [
      "SUCCESS Khanty-Mansiysk\n"
     ]
    },
    {
     "name": "stderr",
     "output_type": "stream",
     "text": [
      "INFO:pyumi.epw:Getting weather file: RUS_Ekaterinburg.284400_IWEC\n"
     ]
    },
    {
     "name": "stdout",
     "output_type": "stream",
     "text": [
      "SUCCESS Yekaterinburg\n"
     ]
    },
    {
     "name": "stderr",
     "output_type": "stream",
     "text": [
      "INFO:pyumi.epw:Getting weather file: CHN_Qinghai.Golmud.528180_CSWD\n"
     ]
    },
    {
     "name": "stdout",
     "output_type": "stream",
     "text": [
      "SUCCESS Golmud\n"
     ]
    },
    {
     "name": "stderr",
     "output_type": "stream",
     "text": [
      "INFO:pyumi.epw:Getting weather file: CHN_Liaoning.Shenyang.543420_CSWD\n"
     ]
    },
    {
     "name": "stdout",
     "output_type": "stream",
     "text": [
      "SUCCESS Liaoyang\n"
     ]
    },
    {
     "name": "stderr",
     "output_type": "stream",
     "text": [
      "INFO:pyumi.epw:Getting weather file: IRN_Tabriz.407060_ITMY\n"
     ]
    },
    {
     "name": "stdout",
     "output_type": "stream",
     "text": [
      "SUCCESS Ağrı\n"
     ]
    },
    {
     "name": "stderr",
     "output_type": "stream",
     "text": [
      "INFO:pyumi.epw:Getting weather file: CHN_Ningxia.Hui.Yinchuan.536140_CSWD\n"
     ]
    },
    {
     "name": "stdout",
     "output_type": "stream",
     "text": [
      "SUCCESS Zhongwei\n"
     ]
    },
    {
     "name": "stderr",
     "output_type": "stream",
     "text": [
      "INFO:pyumi.epw:Getting weather file: PRK_Pyongyang.470580_IWEC\n"
     ]
    },
    {
     "name": "stdout",
     "output_type": "stream",
     "text": [
      "SUCCESS Pyongyang\n"
     ]
    },
    {
     "name": "stderr",
     "output_type": "stream",
     "text": [
      "INFO:pyumi.epw:Getting weather file: USA_OR_Portland.726980_TMY2\n"
     ]
    },
    {
     "name": "stdout",
     "output_type": "stream",
     "text": [
      "SUCCESS Vancouver\n"
     ]
    },
    {
     "name": "stderr",
     "output_type": "stream",
     "text": [
      "INFO:pyumi.epw:Getting weather file: CHN_Hebei.Shijiazhuang.536980_CSWD\n"
     ]
    },
    {
     "name": "stdout",
     "output_type": "stream",
     "text": [
      "SUCCESS Dingzhou\n"
     ]
    },
    {
     "name": "stderr",
     "output_type": "stream",
     "text": [
      "INFO:pyumi.epw:Getting weather file: CHN_Hunan.Changning.578740_CSWD\n"
     ]
    },
    {
     "name": "stdout",
     "output_type": "stream",
     "text": [
      "SUCCESS Hengyang\n"
     ]
    },
    {
     "name": "stderr",
     "output_type": "stream",
     "text": [
      "INFO:pyumi.epw:Getting weather file: CHN_Yunnan.Lijiang.566510_CSWD\n"
     ]
    },
    {
     "name": "stdout",
     "output_type": "stream",
     "text": [
      "SUCCESS Dali\n"
     ]
    },
    {
     "name": "stderr",
     "output_type": "stream",
     "text": [
      "INFO:pyumi.epw:Getting weather file: SYR_Damascus.400800_IWEC\n"
     ]
    },
    {
     "name": "stdout",
     "output_type": "stream",
     "text": [
      "SUCCESS Damascus\n"
     ]
    },
    {
     "name": "stderr",
     "output_type": "stream",
     "text": [
      "INFO:pyumi.epw:Getting weather file: COL_Bogota.802220_IWEC\n"
     ]
    },
    {
     "name": "stdout",
     "output_type": "stream",
     "text": [
      "SUCCESS Bogotá\n"
     ]
    },
    {
     "name": "stderr",
     "output_type": "stream",
     "text": [
      "INFO:pyumi.epw:Getting weather file: EGY_Cairo.623660_IWEC\n"
     ]
    },
    {
     "name": "stdout",
     "output_type": "stream",
     "text": [
      "SUCCESS Shubrā al Khaymah\n"
     ]
    },
    {
     "name": "stderr",
     "output_type": "stream",
     "text": [
      "INFO:pyumi.epw:Getting weather file: CHN_Guangxi.Zhuang.Guilin.579570_CSWD\n"
     ]
    },
    {
     "name": "stdout",
     "output_type": "stream",
     "text": [
      "SUCCESS Guilin\n"
     ]
    },
    {
     "name": "stderr",
     "output_type": "stream",
     "text": [
      "INFO:pyumi.epw:Getting weather file: IND_New.Delhi.421820_ISHRAE\n"
     ]
    },
    {
     "name": "stdout",
     "output_type": "stream",
     "text": [
      "SUCCESS Najafgarh\n"
     ]
    },
    {
     "name": "stderr",
     "output_type": "stream",
     "text": [
      "INFO:pyumi.epw:Getting weather file: TWN_Taipei.466960_IWEC\n"
     ]
    },
    {
     "name": "stdout",
     "output_type": "stream",
     "text": [
      "SUCCESS Taichung\n"
     ]
    },
    {
     "name": "stderr",
     "output_type": "stream",
     "text": [
      "INFO:pyumi.epw:Getting weather file: IND_Ahmedabad.426470_ISHRAE\n"
     ]
    },
    {
     "name": "stdout",
     "output_type": "stream",
     "text": [
      "SUCCESS Vadodara\n"
     ]
    },
    {
     "name": "stderr",
     "output_type": "stream",
     "text": [
      "INFO:pyumi.epw:Getting weather file: THA_Bangkok.484560_IWEC\n"
     ]
    },
    {
     "name": "stdout",
     "output_type": "stream",
     "text": [
      "SUCCESS Rangoon\n"
     ]
    },
    {
     "name": "stderr",
     "output_type": "stream",
     "text": [
      "INFO:pyumi.epw:Getting weather file: JPN_Sapporo.474120_IWEC\n"
     ]
    },
    {
     "name": "stdout",
     "output_type": "stream",
     "text": [
      "SUCCESS Magadan\n"
     ]
    },
    {
     "name": "stderr",
     "output_type": "stream",
     "text": [
      "INFO:pyumi.epw:Getting weather file: CHN_Heilongjiang.Jiamusi.508730_CSWD\n"
     ]
    },
    {
     "name": "stdout",
     "output_type": "stream",
     "text": [
      "SUCCESS Shuangyashan\n"
     ]
    },
    {
     "name": "stderr",
     "output_type": "stream",
     "text": [
      "INFO:pyumi.epw:Getting weather file: CHN_Xinjiang.Uygur.Wusu.513460_CSWD\n"
     ]
    },
    {
     "name": "stdout",
     "output_type": "stream",
     "text": [
      "SUCCESS Kuytun\n"
     ]
    },
    {
     "name": "stderr",
     "output_type": "stream",
     "text": [
      "INFO:pyumi.epw:Getting weather file: CHN_Liaoning.Jinzhou.543370_CSWD\n"
     ]
    },
    {
     "name": "stdout",
     "output_type": "stream",
     "text": [
      "SUCCESS Fuxin\n"
     ]
    },
    {
     "name": "stderr",
     "output_type": "stream",
     "text": [
      "INFO:pyumi.epw:Getting weather file: IRN_Tabriz.407060_ITMY\n"
     ]
    },
    {
     "name": "stdout",
     "output_type": "stream",
     "text": [
      "SUCCESS Cizre\n"
     ]
    },
    {
     "name": "stderr",
     "output_type": "stream",
     "text": [
      "INFO:pyumi.epw:Getting weather file: CHN_Tibet.Lhasa.555910_CSWD\n"
     ]
    },
    {
     "name": "stdout",
     "output_type": "stream",
     "text": [
      "SUCCESS Lhasa\n"
     ]
    },
    {
     "name": "stderr",
     "output_type": "stream",
     "text": [
      "INFO:pyumi.epw:Getting weather file: DEU_Stuttgart.107380_IWEC\n"
     ]
    },
    {
     "name": "stdout",
     "output_type": "stream",
     "text": [
      "SUCCESS Stuttgart\n"
     ]
    },
    {
     "name": "stderr",
     "output_type": "stream",
     "text": [
      "INFO:pyumi.epw:Getting weather file: USA_OR_Medford-Rogue.Valley.Intl.AP.725970_TMY\n"
     ]
    },
    {
     "name": "stdout",
     "output_type": "stream",
     "text": [
      "SUCCESS Medford\n"
     ]
    },
    {
     "name": "stderr",
     "output_type": "stream",
     "text": [
      "INFO:pyumi.epw:Getting weather file: CHN_Henan.Anyang.538980_CSWD\n"
     ]
    },
    {
     "name": "stdout",
     "output_type": "stream",
     "text": [
      "SUCCESS Kaiyuan\n"
     ]
    },
    {
     "name": "stderr",
     "output_type": "stream",
     "text": [
      "INFO:pyumi.epw:Getting weather file: CHN_Henan.Zhumadian.572900_CSWD\n"
     ]
    },
    {
     "name": "stdout",
     "output_type": "stream",
     "text": [
      "SUCCESS Zhumadian\n"
     ]
    },
    {
     "name": "stderr",
     "output_type": "stream",
     "text": [
      "INFO:pyumi.epw:Getting weather file: CHL_Concepcion.856820_IWEC\n"
     ]
    },
    {
     "name": "stdout",
     "output_type": "stream",
     "text": [
      "SUCCESS Concepción\n"
     ]
    },
    {
     "name": "stderr",
     "output_type": "stream",
     "text": [
      "INFO:pyumi.epw:Getting weather file: USA_TX_El.Paso.Intl.AP.722700_TMY3\n"
     ]
    },
    {
     "name": "stdout",
     "output_type": "stream",
     "text": [
      "SUCCESS Juárez\n"
     ]
    },
    {
     "name": "stderr",
     "output_type": "stream",
     "text": [
      "INFO:pyumi.epw:Getting weather file: CHN_Hunan.Wugang.578530_CSWD\n"
     ]
    },
    {
     "name": "stdout",
     "output_type": "stream",
     "text": [
      "SUCCESS Shaoyang\n"
     ]
    },
    {
     "name": "stderr",
     "output_type": "stream",
     "text": [
      "INFO:pyumi.epw:Getting weather file: EGY_Cairo.623660_IWEC\n"
     ]
    },
    {
     "name": "stdout",
     "output_type": "stream",
     "text": [
      "SUCCESS Al Manşūrah\n"
     ]
    },
    {
     "name": "stderr",
     "output_type": "stream",
     "text": [
      "INFO:pyumi.epw:Getting weather file: CHN_Hunan.Changning.578740_CSWD\n"
     ]
    },
    {
     "name": "stdout",
     "output_type": "stream",
     "text": [
      "SUCCESS Chenzhou\n"
     ]
    },
    {
     "name": "stderr",
     "output_type": "stream",
     "text": [
      "INFO:pyumi.epw:Getting weather file: SEN_Dakar.616410_IWEC\n"
     ]
    },
    {
     "name": "stdout",
     "output_type": "stream",
     "text": [
      "SUCCESS Pikine\n"
     ]
    },
    {
     "name": "stderr",
     "output_type": "stream",
     "text": [
      "INFO:pyumi.epw:Getting weather file: CHN_Hainan.Haikou.597580_CSWD\n"
     ]
    },
    {
     "name": "stdout",
     "output_type": "stream",
     "text": [
      "SUCCESS Haikou\n"
     ]
    },
    {
     "name": "stderr",
     "output_type": "stream",
     "text": [
      "INFO:pyumi.epw:Getting weather file: ETH_Dire.Dawa.634710_SWERA\n"
     ]
    },
    {
     "name": "stdout",
     "output_type": "stream",
     "text": [
      "SUCCESS Boosaaso\n"
     ]
    },
    {
     "name": "stderr",
     "output_type": "stream",
     "text": [
      "INFO:pyumi.epw:Getting weather file: GHA_Accra.654720_SWERA\n"
     ]
    },
    {
     "name": "stdout",
     "output_type": "stream",
     "text": [
      "SUCCESS Abidjan\n"
     ]
    },
    {
     "name": "stderr",
     "output_type": "stream",
     "text": [
      "INFO:pyumi.epw:Getting weather file: CHN_Xinjiang.Uygur.Aksu.516280_CSWD\n"
     ]
    },
    {
     "name": "stdout",
     "output_type": "stream",
     "text": [
      "SUCCESS Karakol\n"
     ]
    },
    {
     "name": "stderr",
     "output_type": "stream",
     "text": [
      "INFO:pyumi.epw:Getting weather file: MNG_Ulaanbataar.442920_IWEC\n"
     ]
    },
    {
     "name": "stdout",
     "output_type": "stream",
     "text": [
      "SUCCESS Ulaanbaatar\n"
     ]
    },
    {
     "name": "stderr",
     "output_type": "stream",
     "text": [
      "INFO:pyumi.epw:Getting weather file: CHN_Xinjiang.Uygur.Urumqi.514630_CSWD\n"
     ]
    },
    {
     "name": "stdout",
     "output_type": "stream",
     "text": [
      "SUCCESS Fukang\n"
     ]
    },
    {
     "name": "stderr",
     "output_type": "stream",
     "text": [
      "INFO:pyumi.epw:Getting weather file: CHN_Liaoning.Benxi.543460_CSWD\n"
     ]
    },
    {
     "name": "stdout",
     "output_type": "stream",
     "text": [
      "SUCCESS Benxi\n"
     ]
    },
    {
     "name": "stderr",
     "output_type": "stream",
     "text": [
      "INFO:pyumi.epw:Getting weather file: IRN_Tabriz.407060_ITMY\n"
     ]
    },
    {
     "name": "stdout",
     "output_type": "stream",
     "text": [
      "SUCCESS Silopi\n"
     ]
    },
    {
     "name": "stderr",
     "output_type": "stream",
     "text": [
      "INFO:pyumi.epw:Getting weather file: CHN_Shanxi.Taiyuan.537720_CSWD\n"
     ]
    },
    {
     "name": "stdout",
     "output_type": "stream",
     "text": [
      "SUCCESS Yuci\n"
     ]
    },
    {
     "name": "stderr",
     "output_type": "stream",
     "text": [
      "INFO:pyumi.epw:Getting weather file: GBR_Aughton.033220_IWEC\n"
     ]
    },
    {
     "name": "stdout",
     "output_type": "stream",
     "text": [
      "SUCCESS Manchester\n"
     ]
    },
    {
     "name": "stderr",
     "output_type": "stream",
     "text": [
      "INFO:pyumi.epw:Getting weather file: USA_WA_Snohomish.County.AP.727937_TMY3\n"
     ]
    },
    {
     "name": "stdout",
     "output_type": "stream",
     "text": [
      "SUCCESS Marysville\n"
     ]
    },
    {
     "name": "stderr",
     "output_type": "stream",
     "text": [
      "INFO:pyumi.epw:Getting weather file: IRN_Tabriz.407060_ITMY\n"
     ]
    },
    {
     "name": "stdout",
     "output_type": "stream",
     "text": [
      "SUCCESS Yerevan\n"
     ]
    },
    {
     "name": "stderr",
     "output_type": "stream",
     "text": [
      "INFO:pyumi.epw:Getting weather file: CHN_Guizhou.Bijie.577070_CSWD\n"
     ]
    },
    {
     "name": "stdout",
     "output_type": "stream",
     "text": [
      "SUCCESS Bijie\n"
     ]
    },
    {
     "name": "stderr",
     "output_type": "stream",
     "text": [
      "INFO:pyumi.epw:Getting weather file: USA_TX_Laredo.Intl.AP.722520_TMY3\n"
     ]
    },
    {
     "name": "stdout",
     "output_type": "stream",
     "text": [
      "SUCCESS Torreón\n"
     ]
    },
    {
     "name": "stderr",
     "output_type": "stream",
     "text": [
      "INFO:pyumi.epw:Getting weather file: USA_TX_Marfa.AP.722640_TMY3\n"
     ]
    },
    {
     "name": "stdout",
     "output_type": "stream",
     "text": [
      "SUCCESS Chihuahua\n"
     ]
    },
    {
     "name": "stderr",
     "output_type": "stream",
     "text": [
      "INFO:pyumi.epw:Getting weather file: CHN_Guizhou.Zunyi.577130_CSWD\n"
     ]
    },
    {
     "name": "stdout",
     "output_type": "stream",
     "text": [
      "SUCCESS Zunyi\n"
     ]
    },
    {
     "name": "stderr",
     "output_type": "stream",
     "text": [
      "INFO:pyumi.epw:Getting weather file: MAR_Casablanca.Nouasser.601560_IWEC\n"
     ]
    },
    {
     "name": "stdout",
     "output_type": "stream",
     "text": [
      "SUCCESS Marrakech\n"
     ]
    },
    {
     "name": "stderr",
     "output_type": "stream",
     "text": [
      "INFO:pyumi.epw:Getting weather file: MAC_Macau.450110_IWEC\n"
     ]
    },
    {
     "name": "stdout",
     "output_type": "stream",
     "text": [
      "SUCCESS Jiangmen\n"
     ]
    },
    {
     "name": "stderr",
     "output_type": "stream",
     "text": [
      "INFO:pyumi.epw:Getting weather file: IND_Amritsar.420710_ISHRAE\n"
     ]
    },
    {
     "name": "stdout",
     "output_type": "stream",
     "text": [
      "SUCCESS Amritsar\n"
     ]
    },
    {
     "name": "stderr",
     "output_type": "stream",
     "text": [
      "INFO:pyumi.epw:Getting weather file: CHN_Fujian.Congwu.591330_CSWD\n"
     ]
    },
    {
     "name": "stdout",
     "output_type": "stream",
     "text": [
      "SUCCESS Kaohsiung\n"
     ]
    },
    {
     "name": "stderr",
     "output_type": "stream",
     "text": [
      "INFO:pyumi.epw:Getting weather file: IND_Bikaner.421650_ISHRAE\n"
     ]
    },
    {
     "name": "stdout",
     "output_type": "stream",
     "text": [
      "SUCCESS Multan\n"
     ]
    },
    {
     "name": "stderr",
     "output_type": "stream",
     "text": [
      "INFO:pyumi.epw:Getting weather file: MYS_George.Town.486010_IWEC\n"
     ]
    },
    {
     "name": "stdout",
     "output_type": "stream",
     "text": [
      "SUCCESS Medan\n"
     ]
    },
    {
     "name": "stderr",
     "output_type": "stream",
     "text": [
      "INFO:pyumi.epw:Getting weather file: RUS_Irkutsk.307100_IWEC\n"
     ]
    },
    {
     "name": "stdout",
     "output_type": "stream",
     "text": [
      "SUCCESS Ust’-Ilimsk\n"
     ]
    },
    {
     "name": "stderr",
     "output_type": "stream",
     "text": [
      "INFO:pyumi.epw:Getting weather file: CHN_Heilongjiang.Harbin.509530_IWEC\n"
     ]
    },
    {
     "name": "stdout",
     "output_type": "stream",
     "text": [
      "SUCCESS Yushu\n"
     ]
    },
    {
     "name": "stderr",
     "output_type": "stream",
     "text": [
      "INFO:pyumi.epw:Getting weather file: CHN_Xinjiang.Uygur.Tacheng.511330_CSWD\n"
     ]
    },
    {
     "name": "stdout",
     "output_type": "stream",
     "text": [
      "SUCCESS Tacheng\n"
     ]
    },
    {
     "name": "stderr",
     "output_type": "stream",
     "text": [
      "INFO:pyumi.epw:Getting weather file: SWE_Stockholm.Arlanda.024600_IWEC\n"
     ]
    },
    {
     "name": "stdout",
     "output_type": "stream",
     "text": [
      "SUCCESS Stockholm\n"
     ]
    },
    {
     "name": "stderr",
     "output_type": "stream",
     "text": [
      "INFO:pyumi.epw:Getting weather file: IRN_Tabriz.407060_ITMY\n"
     ]
    },
    {
     "name": "stdout",
     "output_type": "stream",
     "text": [
      "SUCCESS Patnos\n"
     ]
    },
    {
     "name": "stderr",
     "output_type": "stream",
     "text": [
      "INFO:pyumi.epw:Getting weather file: CHN_Xinjiang.Uygur.Yanqi.515670_CSWD\n"
     ]
    },
    {
     "name": "stdout",
     "output_type": "stream",
     "text": [
      "SUCCESS Korla\n"
     ]
    },
    {
     "name": "stderr",
     "output_type": "stream",
     "text": [
      "INFO:pyumi.epw:Getting weather file: CHN_Liaoning.Xingcheng.544550_CSWD\n"
     ]
    },
    {
     "name": "stdout",
     "output_type": "stream",
     "text": [
      "SUCCESS Huludao\n"
     ]
    },
    {
     "name": "stderr",
     "output_type": "stream",
     "text": [
      "INFO:pyumi.epw:Getting weather file: CHL_Concepcion.856820_IWEC\n"
     ]
    },
    {
     "name": "stdout",
     "output_type": "stream",
     "text": [
      "SUCCESS Valdivia\n"
     ]
    },
    {
     "name": "stderr",
     "output_type": "stream",
     "text": [
      "INFO:pyumi.epw:Getting weather file: IRN_Tabriz.407060_ITMY\n"
     ]
    },
    {
     "name": "stdout",
     "output_type": "stream",
     "text": [
      "SUCCESS Kirkuk\n"
     ]
    },
    {
     "name": "stderr",
     "output_type": "stream",
     "text": [
      "INFO:pyumi.epw:Getting weather file: CHN_Jiangxi.Yushan.586340_CSWD\n"
     ]
    },
    {
     "name": "stdout",
     "output_type": "stream",
     "text": [
      "SUCCESS Shangrao\n"
     ]
    },
    {
     "name": "stderr",
     "output_type": "stream",
     "text": [
      "INFO:pyumi.epw:Getting weather file: CHN_Yunnan.Kunming.567780_CSWD\n"
     ]
    },
    {
     "name": "stdout",
     "output_type": "stream",
     "text": [
      "SUCCESS Xiping\n"
     ]
    },
    {
     "name": "stderr",
     "output_type": "stream",
     "text": [
      "INFO:pyumi.epw:Getting weather file: BOL_La.Paz.852010_IWEC\n"
     ]
    },
    {
     "name": "stdout",
     "output_type": "stream",
     "text": [
      "SUCCESS Cochabamba\n"
     ]
    },
    {
     "name": "stderr",
     "output_type": "stream",
     "text": [
      "INFO:pyumi.epw:Getting weather file: CHN_Hubei.Macheng.573990_CSWD\n"
     ]
    },
    {
     "name": "stdout",
     "output_type": "stream",
     "text": [
      "SUCCESS Huanggang\n"
     ]
    },
    {
     "name": "stderr",
     "output_type": "stream",
     "text": [
      "INFO:pyumi.epw:Getting weather file: PER_Lima.846280_IWEC\n"
     ]
    },
    {
     "name": "stdout",
     "output_type": "stream",
     "text": [
      "SUCCESS Trujillo\n"
     ]
    },
    {
     "name": "stderr",
     "output_type": "stream",
     "text": [
      "INFO:pyumi.epw:Getting weather file: CHN_Guangxi.Zhuang.Guiping.592540_CSWD\n"
     ]
    },
    {
     "name": "stdout",
     "output_type": "stream",
     "text": [
      "SUCCESS Guigang\n"
     ]
    },
    {
     "name": "stderr",
     "output_type": "stream",
     "text": [
      "INFO:pyumi.epw:Getting weather file: IND_New.Delhi.421820_ISHRAE\n"
     ]
    },
    {
     "name": "stdout",
     "output_type": "stream",
     "text": [
      "SUCCESS Alīgarh\n"
     ]
    },
    {
     "name": "stderr",
     "output_type": "stream",
     "text": [
      "INFO:pyumi.epw:Getting weather file: ECU_Quito.840710_IWEC\n"
     ]
    },
    {
     "name": "stdout",
     "output_type": "stream",
     "text": [
      "SUCCESS Guayaquil\n"
     ]
    },
    {
     "name": "stderr",
     "output_type": "stream",
     "text": [
      "INFO:pyumi.epw:Getting weather file: PAK_Karachi.417800_IWEC\n"
     ]
    },
    {
     "name": "stdout",
     "output_type": "stream",
     "text": [
      "SUCCESS Hyderabad City\n"
     ]
    },
    {
     "name": "stderr",
     "output_type": "stream",
     "text": [
      "INFO:pyumi.epw:Getting weather file: GHA_Accra.654720_SWERA\n"
     ]
    },
    {
     "name": "stdout",
     "output_type": "stream",
     "text": [
      "SUCCESS Ibadan\n"
     ]
    },
    {
     "name": "stderr",
     "output_type": "stream",
     "text": [
      "INFO:pyumi.epw:Getting weather file: RUS_Ekaterinburg.284400_IWEC\n"
     ]
    },
    {
     "name": "stdout",
     "output_type": "stream",
     "text": [
      "SUCCESS Vorkuta\n"
     ]
    },
    {
     "name": "stderr",
     "output_type": "stream",
     "text": [
      "INFO:pyumi.epw:Getting weather file: RUS_Moscow.276120_IWEC\n"
     ]
    },
    {
     "name": "stdout",
     "output_type": "stream",
     "text": [
      "SUCCESS Nizhniy Novgorod\n"
     ]
    },
    {
     "name": "stderr",
     "output_type": "stream",
     "text": [
      "INFO:pyumi.epw:Getting weather file: IND_Jorhat.424230_ISHRAE\n"
     ]
    },
    {
     "name": "stdout",
     "output_type": "stream",
     "text": [
      "SUCCESS Jorhāt\n"
     ]
    },
    {
     "name": "stderr",
     "output_type": "stream",
     "text": [
      "INFO:pyumi.epw:Getting weather file: UKR_Kiev.333450_IWEC\n"
     ]
    },
    {
     "name": "stdout",
     "output_type": "stream",
     "text": [
      "SUCCESS Kharkiv\n"
     ]
    },
    {
     "name": "stderr",
     "output_type": "stream",
     "text": [
      "INFO:pyumi.epw:Getting weather file: TUR_Ankara.171280_IWEC\n"
     ]
    },
    {
     "name": "stdout",
     "output_type": "stream",
     "text": [
      "SUCCESS Niğde\n"
     ]
    },
    {
     "name": "stderr",
     "output_type": "stream",
     "text": [
      "INFO:pyumi.epw:Getting weather file: CHN_Ningxia.Hui.Yinchuan.536140_CSWD\n"
     ]
    },
    {
     "name": "stdout",
     "output_type": "stream",
     "text": [
      "SUCCESS Sizhan\n"
     ]
    },
    {
     "name": "stderr",
     "output_type": "stream",
     "text": [
      "INFO:pyumi.epw:Getting weather file: DEU_Munich.108660_IWEC\n"
     ]
    },
    {
     "name": "stdout",
     "output_type": "stream",
     "text": [
      "SUCCESS Munich\n"
     ]
    },
    {
     "name": "stderr",
     "output_type": "stream",
     "text": [
      "INFO:pyumi.epw:Getting weather file: USA_WA_Seattle-Boeing.Field.727935_TMY3\n"
     ]
    },
    {
     "name": "stdout",
     "output_type": "stream",
     "text": [
      "SUCCESS Bellevue\n"
     ]
    },
    {
     "name": "stderr",
     "output_type": "stream",
     "text": [
      "INFO:pyumi.epw:Getting weather file: CHN_Kinjiang.Uygar.Kashi.517090_SWERA\n"
     ]
    },
    {
     "name": "stdout",
     "output_type": "stream",
     "text": [
      "SUCCESS Kashgar\n"
     ]
    },
    {
     "name": "stderr",
     "output_type": "stream",
     "text": [
      "INFO:pyumi.epw:Getting weather file: ESP_Madrid.082210_SWEC\n"
     ]
    },
    {
     "name": "stdout",
     "output_type": "stream",
     "text": [
      "SUCCESS Madrid\n"
     ]
    },
    {
     "name": "stderr",
     "output_type": "stream",
     "text": [
      "INFO:pyumi.epw:Getting weather file: USA_CA_Concord-Buchanan.Field.724936_TMY3\n"
     ]
    },
    {
     "name": "stdout",
     "output_type": "stream",
     "text": [
      "SUCCESS Concord\n"
     ]
    },
    {
     "name": "stderr",
     "output_type": "stream",
     "text": [
      "INFO:pyumi.epw:Getting weather file: USA_AZ_Douglas-Bisbee.Douglas.Intl.AP.722735_TMY3\n"
     ]
    },
    {
     "name": "stdout",
     "output_type": "stream",
     "text": [
      "SUCCESS Hermosillo\n"
     ]
    },
    {
     "name": "stderr",
     "output_type": "stream",
     "text": [
      "INFO:pyumi.epw:Getting weather file: CHN_Sichuan.Nanchong.574110_CSWD\n"
     ]
    },
    {
     "name": "stdout",
     "output_type": "stream",
     "text": [
      "SUCCESS Nanchong\n"
     ]
    },
    {
     "name": "stderr",
     "output_type": "stream",
     "text": [
      "INFO:pyumi.epw:Getting weather file: Ceres_Santa Fe_ARG\n"
     ]
    },
    {
     "name": "stdout",
     "output_type": "stream",
     "text": [
      "SUCCESS Santiago del Estero\n"
     ]
    },
    {
     "name": "stderr",
     "output_type": "stream",
     "text": [
      "INFO:pyumi.epw:Getting weather file: CHN_Fujian.Shanghang.589180_CSWD\n"
     ]
    },
    {
     "name": "stdout",
     "output_type": "stream",
     "text": [
      "SUCCESS Meizhou\n"
     ]
    },
    {
     "name": "stderr",
     "output_type": "stream",
     "text": [
      "INFO:pyumi.epw:Getting weather file: SEN_Dakar.616410_IWEC\n"
     ]
    },
    {
     "name": "stdout",
     "output_type": "stream",
     "text": [
      "SUCCESS Nouakchott\n"
     ]
    },
    {
     "name": "stderr",
     "output_type": "stream",
     "text": [
      "INFO:pyumi.epw:Getting weather file: IND_Lucknow.423690_ISHRAE\n"
     ]
    },
    {
     "name": "stdout",
     "output_type": "stream",
     "text": [
      "SUCCESS Cawnpore\n"
     ]
    },
    {
     "name": "stderr",
     "output_type": "stream",
     "text": [
      "INFO:pyumi.epw:Getting weather file: EGY_Aswan.624140_ETMY\n"
     ]
    },
    {
     "name": "stdout",
     "output_type": "stream",
     "text": [
      "SUCCESS Mecca\n"
     ]
    },
    {
     "name": "stderr",
     "output_type": "stream",
     "text": [
      "INFO:pyumi.epw:Getting weather file: GHA_Accra.654720_SWERA\n"
     ]
    },
    {
     "name": "stdout",
     "output_type": "stream",
     "text": [
      "SUCCESS Boankra\n"
     ]
    },
    {
     "name": "stderr",
     "output_type": "stream",
     "text": [
      "INFO:pyumi.epw:Getting weather file: CHN_Shanxi.Yuanping.536730_CSWD\n"
     ]
    },
    {
     "name": "stdout",
     "output_type": "stream",
     "text": [
      "SUCCESS Fancheng\n"
     ]
    },
    {
     "name": "stderr",
     "output_type": "stream",
     "text": [
      "INFO:pyumi.epw:Getting weather file: RUS_Samara.289000_IWEC\n"
     ]
    },
    {
     "name": "stdout",
     "output_type": "stream",
     "text": [
      "SUCCESS Kazan\n"
     ]
    },
    {
     "name": "stderr",
     "output_type": "stream",
     "text": [
      "INFO:pyumi.epw:Getting weather file: USA_MT_Billings-Logan.Intl.AP.726770_TMY3\n"
     ]
    },
    {
     "name": "stdout",
     "output_type": "stream",
     "text": [
      "SUCCESS Billings\n"
     ]
    },
    {
     "name": "stderr",
     "output_type": "stream",
     "text": [
      "INFO:pyumi.epw:Getting weather file: CHN_Jilin.Linjiang.543740_CSWD\n"
     ]
    },
    {
     "name": "stdout",
     "output_type": "stream",
     "text": [
      "SUCCESS Baishan\n"
     ]
    },
    {
     "name": "stderr",
     "output_type": "stream",
     "text": [
      "INFO:pyumi.epw:Getting weather file: CHL_Concepcion.856820_IWEC\n"
     ]
    },
    {
     "name": "stdout",
     "output_type": "stream",
     "text": [
      "SUCCESS San Carlos de Bariloche\n"
     ]
    },
    {
     "name": "stderr",
     "output_type": "stream",
     "text": [
      "INFO:pyumi.epw:Getting weather file: CHN_Xinjiang.Uygur.Hami.522030_CSWD\n"
     ]
    },
    {
     "name": "stdout",
     "output_type": "stream",
     "text": [
      "SUCCESS Kumul\n"
     ]
    },
    {
     "name": "stderr",
     "output_type": "stream",
     "text": [
      "INFO:pyumi.epw:Getting weather file: DEU_Hamburg.101470_IWEC\n"
     ]
    },
    {
     "name": "stdout",
     "output_type": "stream",
     "text": [
      "SUCCESS Hamburg\n"
     ]
    },
    {
     "name": "stderr",
     "output_type": "stream",
     "text": [
      "INFO:pyumi.epw:Getting weather file: TUR_Ankara.171280_IWEC\n"
     ]
    },
    {
     "name": "stdout",
     "output_type": "stream",
     "text": [
      "SUCCESS Amasya\n"
     ]
    },
    {
     "name": "stderr",
     "output_type": "stream",
     "text": [
      "INFO:pyumi.epw:Getting weather file: CHN_Henan.Anyang.538980_CSWD\n"
     ]
    },
    {
     "name": "stdout",
     "output_type": "stream",
     "text": [
      "SUCCESS Dengtalu\n"
     ]
    },
    {
     "name": "stderr",
     "output_type": "stream",
     "text": [
      "INFO:pyumi.epw:Getting weather file: IRN_Tabriz.407060_ITMY\n"
     ]
    },
    {
     "name": "stdout",
     "output_type": "stream",
     "text": [
      "SUCCESS Baghdad\n"
     ]
    },
    {
     "name": "stderr",
     "output_type": "stream",
     "text": [
      "INFO:pyumi.epw:Getting weather file: CHL_Santiago.855740_IWEC\n"
     ]
    },
    {
     "name": "stdout",
     "output_type": "stream",
     "text": [
      "SUCCESS Puente Alto\n"
     ]
    },
    {
     "name": "stderr",
     "output_type": "stream",
     "text": [
      "INFO:pyumi.epw:Getting weather file: IRN_Yazd.408210_ITMY\n"
     ]
    },
    {
     "name": "stdout",
     "output_type": "stream",
     "text": [
      "SUCCESS Ashgabat\n"
     ]
    },
    {
     "name": "stderr",
     "output_type": "stream",
     "text": [
      "INFO:pyumi.epw:Getting weather file: CHN_Henan.Xinyang.572970_CSWD\n"
     ]
    },
    {
     "name": "stdout",
     "output_type": "stream",
     "text": [
      "SUCCESS Xinyang\n"
     ]
    },
    {
     "name": "stderr",
     "output_type": "stream",
     "text": [
      "INFO:pyumi.epw:Getting weather file: USA_AZ_Davis-Monthan.AFB.722745_TMY3\n"
     ]
    },
    {
     "name": "stdout",
     "output_type": "stream",
     "text": [
      "SUCCESS Tucson\n"
     ]
    },
    {
     "name": "stderr",
     "output_type": "stream",
     "text": [
      "INFO:pyumi.epw:Getting weather file: CHN_Guangdong.Shantou.593160_CSWD\n"
     ]
    },
    {
     "name": "stdout",
     "output_type": "stream",
     "text": [
      "SUCCESS Shantou\n"
     ]
    },
    {
     "name": "stderr",
     "output_type": "stream",
     "text": [
      "INFO:pyumi.epw:Getting weather file: IND_Kota.424520_ISHRAE\n"
     ]
    },
    {
     "name": "stdout",
     "output_type": "stream",
     "text": [
      "SUCCESS Kota\n"
     ]
    },
    {
     "name": "stderr",
     "output_type": "stream",
     "text": [
      "INFO:pyumi.epw:Getting weather file: KEN_Kisii.637090_SWERA\n"
     ]
    },
    {
     "name": "stdout",
     "output_type": "stream",
     "text": [
      "SUCCESS Mbuji-Mayi\n"
     ]
    },
    {
     "name": "stderr",
     "output_type": "stream",
     "text": [
      "INFO:pyumi.epw:Getting weather file: VEN_Caracas.804150_IWEC\n"
     ]
    },
    {
     "name": "stdout",
     "output_type": "stream",
     "text": [
      "SUCCESS Valencia\n"
     ]
    },
    {
     "name": "stderr",
     "output_type": "stream",
     "text": [
      "INFO:pyumi.epw:Getting weather file: PHL_Manila.984290_IWEC\n"
     ]
    },
    {
     "name": "stdout",
     "output_type": "stream",
     "text": [
      "SUCCESS Quezon City\n"
     ]
    },
    {
     "name": "stderr",
     "output_type": "stream",
     "text": [
      "INFO:pyumi.epw:Getting weather file: CAN_AB_Calgary.718770_CWEC\n"
     ]
    },
    {
     "name": "stdout",
     "output_type": "stream",
     "text": [
      "SUCCESS Calgary\n"
     ]
    },
    {
     "name": "stderr",
     "output_type": "stream",
     "text": [
      "INFO:pyumi.epw:Getting weather file: CHN_Shanxi.Datong.534870_CSWD\n"
     ]
    },
    {
     "name": "stdout",
     "output_type": "stream",
     "text": [
      "SUCCESS Wuling\n"
     ]
    },
    {
     "name": "stderr",
     "output_type": "stream",
     "text": [
      "INFO:pyumi.epw:Getting weather file: FIN_Helsinki.029740_IWEC\n"
     ]
    },
    {
     "name": "stdout",
     "output_type": "stream",
     "text": [
      "SUCCESS Helsinki\n"
     ]
    },
    {
     "name": "stderr",
     "output_type": "stream",
     "text": [
      "INFO:pyumi.epw:Getting weather file: TUR_Ankara.171280_IWEC\n"
     ]
    },
    {
     "name": "stdout",
     "output_type": "stream",
     "text": [
      "SUCCESS Yozgat\n"
     ]
    },
    {
     "name": "stderr",
     "output_type": "stream",
     "text": [
      "INFO:pyumi.epw:Getting weather file: USA_CO_Colorado.Springs-Peterson.Field.724660_TMY\n"
     ]
    },
    {
     "name": "stdout",
     "output_type": "stream",
     "text": [
      "SUCCESS Colorado Springs\n"
     ]
    },
    {
     "name": "stderr",
     "output_type": "stream",
     "text": [
      "INFO:pyumi.epw:Getting weather file: CHN_Liaoning.Dandong.544970_CSWD\n"
     ]
    },
    {
     "name": "stdout",
     "output_type": "stream",
     "text": [
      "SUCCESS Dandong\n"
     ]
    },
    {
     "name": "stderr",
     "output_type": "stream",
     "text": [
      "INFO:pyumi.epw:Getting weather file: ESP_Salamanca.082020_SWEC\n"
     ]
    },
    {
     "name": "stdout",
     "output_type": "stream",
     "text": [
      "SUCCESS Salamanca\n"
     ]
    },
    {
     "name": "stderr",
     "output_type": "stream",
     "text": [
      "INFO:pyumi.epw:Getting weather file: IRN_Tabriz.407060_ITMY\n"
     ]
    },
    {
     "name": "stdout",
     "output_type": "stream",
     "text": [
      "SUCCESS As Sulaymānīyah\n"
     ]
    },
    {
     "name": "stderr",
     "output_type": "stream",
     "text": [
      "INFO:pyumi.epw:Getting weather file: CHN_Shandong.Chaoyang.548080_CSWD\n"
     ]
    },
    {
     "name": "stdout",
     "output_type": "stream",
     "text": [
      "SUCCESS Liaocheng\n"
     ]
    },
    {
     "name": "stderr",
     "output_type": "stream",
     "text": [
      "INFO:pyumi.epw:Getting weather file: CHL_Santiago.855740_IWEC\n"
     ]
    },
    {
     "name": "stdout",
     "output_type": "stream",
     "text": [
      "SUCCESS Maipú\n"
     ]
    },
    {
     "name": "stderr",
     "output_type": "stream",
     "text": [
      "INFO:pyumi.epw:Getting weather file: GRC_Thessaloniki.166220_IWEC\n",
      "WARNING:urllib3.connectionpool:Retrying (Retry(total=2, connect=None, read=None, redirect=None, status=None)) after connection broken by 'ProtocolError('Connection aborted.', RemoteDisconnected('Remote end closed connection without response'))': /europe_wmo_region_6/GRC/GRC_Thessaloniki.166220_IWEC/GRC_Thessaloniki.166220_IWEC.epw\n"
     ]
    },
    {
     "name": "stdout",
     "output_type": "stream",
     "text": [
      "SUCCESS Thessaloníki\n"
     ]
    },
    {
     "name": "stderr",
     "output_type": "stream",
     "text": [
      "INFO:pyumi.epw:Getting weather file: CHN_Hunan.Changde.576620_CSWD\n"
     ]
    },
    {
     "name": "stdout",
     "output_type": "stream",
     "text": [
      "SUCCESS Changde\n"
     ]
    },
    {
     "name": "stderr",
     "output_type": "stream",
     "text": [
      "INFO:pyumi.epw:Getting weather file: IRN_Tabriz.407060_ITMY\n"
     ]
    },
    {
     "name": "stdout",
     "output_type": "stream",
     "text": [
      "SUCCESS Ar Ramādī\n"
     ]
    },
    {
     "name": "stderr",
     "output_type": "stream",
     "text": [
      "INFO:pyumi.epw:Getting weather file: CHN_Guangxi.Zhuang.Guiping.592540_CSWD\n"
     ]
    },
    {
     "name": "stdout",
     "output_type": "stream",
     "text": [
      "SUCCESS Liuzhou\n"
     ]
    },
    {
     "name": "stderr",
     "output_type": "stream",
     "text": [
      "INFO:pyumi.epw:Getting weather file: IND_Saharanpur.5217_ISHRAE\n"
     ]
    },
    {
     "name": "stdout",
     "output_type": "stream",
     "text": [
      "SUCCESS Morādābād\n"
     ]
    },
    {
     "name": "stderr",
     "output_type": "stream",
     "text": [
      "INFO:pyumi.epw:Getting weather file: IND_Allahabad.424750_ISHRAE\n"
     ]
    },
    {
     "name": "stdout",
     "output_type": "stream",
     "text": [
      "SUCCESS Mirzāpur\n"
     ]
    },
    {
     "name": "stderr",
     "output_type": "stream",
     "text": [
      "INFO:pyumi.epw:Getting weather file: ARE_Abu.Dhabi.412170_IWEC\n"
     ]
    },
    {
     "name": "stdout",
     "output_type": "stream",
     "text": [
      "SUCCESS Abu Dhabi\n"
     ]
    },
    {
     "name": "stderr",
     "output_type": "stream",
     "text": [
      "INFO:pyumi.epw:Getting weather file: Salvador_BA_BRA\n"
     ]
    },
    {
     "name": "stdout",
     "output_type": "stream",
     "text": [
      "SUCCESS Salvador\n"
     ]
    },
    {
     "name": "stderr",
     "output_type": "stream",
     "text": [
      "INFO:pyumi.epw:Getting weather file: RUS_Ekaterinburg.284400_IWEC\n"
     ]
    },
    {
     "name": "stdout",
     "output_type": "stream",
     "text": [
      "SUCCESS Chelyabinsk\n"
     ]
    },
    {
     "name": "stderr",
     "output_type": "stream",
     "text": [
      "INFO:pyumi.epw:Getting weather file: CHN_Qinghai.Xining.528660_CSWD\n"
     ]
    },
    {
     "name": "stdout",
     "output_type": "stream",
     "text": [
      "SUCCESS Qiaotou\n"
     ]
    },
    {
     "name": "stderr",
     "output_type": "stream",
     "text": [
      "INFO:pyumi.epw:Getting weather file: CHN_Jilin.Siping.541570_CSWD\n"
     ]
    },
    {
     "name": "stdout",
     "output_type": "stream",
     "text": [
      "SUCCESS Liaoyuan\n"
     ]
    },
    {
     "name": "stderr",
     "output_type": "stream",
     "text": [
      "INFO:pyumi.epw:Getting weather file: TUR_Ankara.171280_IWEC\n"
     ]
    },
    {
     "name": "stdout",
     "output_type": "stream",
     "text": [
      "SUCCESS Çankırı\n"
     ]
    },
    {
     "name": "stderr",
     "output_type": "stream",
     "text": [
      "INFO:pyumi.epw:Getting weather file: USA_UT_Ogden-Hinkley.AP.725750_TMY3\n"
     ]
    },
    {
     "name": "stdout",
     "output_type": "stream",
     "text": [
      "SUCCESS Ogden\n"
     ]
    },
    {
     "name": "stderr",
     "output_type": "stream",
     "text": [
      "INFO:pyumi.epw:Getting weather file: CHN_Liaoning.Yingkou.544710_CSWD\n"
     ]
    },
    {
     "name": "stdout",
     "output_type": "stream",
     "text": [
      "SUCCESS Yingkou\n"
     ]
    },
    {
     "name": "stderr",
     "output_type": "stream",
     "text": [
      "INFO:pyumi.epw:Getting weather file: CAN_BC_Abbotsford.711080_CWEC\n"
     ]
    },
    {
     "name": "stdout",
     "output_type": "stream",
     "text": [
      "SUCCESS Abbotsford\n"
     ]
    },
    {
     "name": "stderr",
     "output_type": "stream",
     "text": [
      "INFO:pyumi.epw:Getting weather file: CHN_Xinjiang.Uygur.Shache.518110_CSWD\n"
     ]
    },
    {
     "name": "stdout",
     "output_type": "stream",
     "text": [
      "SUCCESS Shache\n"
     ]
    },
    {
     "name": "stderr",
     "output_type": "stream",
     "text": [
      "INFO:pyumi.epw:Getting weather file: CHN_Shandong.Weifang.548430_CSWD\n"
     ]
    },
    {
     "name": "stdout",
     "output_type": "stream",
     "text": [
      "SUCCESS Qingdao\n"
     ]
    },
    {
     "name": "stderr",
     "output_type": "stream",
     "text": [
      "INFO:pyumi.epw:Getting weather file: USA_CA_Oakland.Intl.AP.724930_TMY3\n"
     ]
    },
    {
     "name": "stdout",
     "output_type": "stream",
     "text": [
      "SUCCESS Oakland\n"
     ]
    },
    {
     "name": "stderr",
     "output_type": "stream",
     "text": [
      "INFO:pyumi.epw:Getting weather file: USA_TX_El.Paso.722700_TMY2\n"
     ]
    },
    {
     "name": "stdout",
     "output_type": "stream",
     "text": [
      "SUCCESS El Paso\n"
     ]
    },
    {
     "name": "stderr",
     "output_type": "stream",
     "text": [
      "INFO:pyumi.epw:Getting weather file: CHN_Shanghai.Shanghai.583620_SWERA\n"
     ]
    },
    {
     "name": "stdout",
     "output_type": "stream",
     "text": [
      "SUCCESS Pudong\n"
     ]
    },
    {
     "name": "stderr",
     "output_type": "stream",
     "text": [
      "INFO:pyumi.epw:Getting weather file: USA_TX_Laredo.Intl.AP.722520_TMY\n"
     ]
    },
    {
     "name": "stdout",
     "output_type": "stream",
     "text": [
      "SUCCESS Saltillo\n"
     ]
    },
    {
     "name": "stderr",
     "output_type": "stream",
     "text": [
      "INFO:pyumi.epw:Getting weather file: CHN_Guangdong.Guangzhou.592870_IWEC\n"
     ]
    },
    {
     "name": "stdout",
     "output_type": "stream",
     "text": [
      "SUCCESS Zhaoqing\n"
     ]
    },
    {
     "name": "stderr",
     "output_type": "stream",
     "text": [
      "INFO:pyumi.epw:Getting weather file: IND_New.Delhi.421820_ISHRAE\n"
     ]
    },
    {
     "name": "stdout",
     "output_type": "stream",
     "text": [
      "SUCCESS Gurgaon\n"
     ]
    },
    {
     "name": "stderr",
     "output_type": "stream",
     "text": [
      "INFO:pyumi.epw:Getting weather file: COL_Bogota.802220_IWEC\n"
     ]
    },
    {
     "name": "stdout",
     "output_type": "stream",
     "text": [
      "SUCCESS Cali\n"
     ]
    },
    {
     "name": "stderr",
     "output_type": "stream",
     "text": [
      "INFO:pyumi.epw:Getting weather file: ARE_Abu.Dhabi.412170_IWEC\n"
     ]
    },
    {
     "name": "stdout",
     "output_type": "stream",
     "text": [
      "SUCCESS Muscat\n"
     ]
    },
    {
     "name": "stderr",
     "output_type": "stream",
     "text": [
      "INFO:pyumi.epw:Getting weather file: MYS_Kuching.964130_IWEC\n"
     ]
    },
    {
     "name": "stdout",
     "output_type": "stream",
     "text": [
      "SUCCESS Malang\n"
     ]
    },
    {
     "name": "stderr",
     "output_type": "stream",
     "text": [
      "INFO:pyumi.epw:Getting weather file: RUS_Omsk.286980_IWEC\n"
     ]
    },
    {
     "name": "stdout",
     "output_type": "stream",
     "text": [
      "SUCCESS Omsk\n"
     ]
    },
    {
     "name": "stderr",
     "output_type": "stream",
     "text": [
      "INFO:pyumi.epw:Getting weather file: CHN_Shanxi.Datong.534870_CSWD\n"
     ]
    },
    {
     "name": "stdout",
     "output_type": "stream",
     "text": [
      "SUCCESS Jincheng\n"
     ]
    },
    {
     "name": "stderr",
     "output_type": "stream",
     "text": [
      "INFO:pyumi.epw:Getting weather file: CHN_Jilin.Changchun.541610_CSWD\n"
     ]
    },
    {
     "name": "stdout",
     "output_type": "stream",
     "text": [
      "SUCCESS Gongzhuling\n"
     ]
    },
    {
     "name": "stderr",
     "output_type": "stream",
     "text": [
      "INFO:pyumi.epw:Getting weather file: IRN_Tabriz.407060_ITMY\n"
     ]
    },
    {
     "name": "stdout",
     "output_type": "stream",
     "text": [
      "SUCCESS Şırnak\n"
     ]
    },
    {
     "name": "stderr",
     "output_type": "stream",
     "text": [
      "INFO:pyumi.epw:Getting weather file: USA_UT_Provo.Muni.AWOS.725724_TMY3\n"
     ]
    },
    {
     "name": "stdout",
     "output_type": "stream",
     "text": [
      "SUCCESS Provo\n"
     ]
    },
    {
     "name": "stderr",
     "output_type": "stream",
     "text": [
      "INFO:pyumi.epw:Getting weather file: CHN_Liaoning.Xingcheng.544550_CSWD\n"
     ]
    },
    {
     "name": "stdout",
     "output_type": "stream",
     "text": [
      "SUCCESS Lianshan\n"
     ]
    },
    {
     "name": "stderr",
     "output_type": "stream",
     "text": [
      "INFO:pyumi.epw:Getting weather file: CAN_BC_Vancouver.718920_CWEC\n"
     ]
    },
    {
     "name": "stdout",
     "output_type": "stream",
     "text": [
      "SUCCESS Coquitlam\n"
     ]
    },
    {
     "name": "stderr",
     "output_type": "stream",
     "text": [
      "INFO:pyumi.epw:Getting weather file: IRN_Tabriz.407060_ITMY\n"
     ]
    },
    {
     "name": "stdout",
     "output_type": "stream",
     "text": [
      "SUCCESS Erbil\n"
     ]
    },
    {
     "name": "stderr",
     "output_type": "stream",
     "text": [
      "INFO:pyumi.epw:Getting weather file: CHN_Henan.Zhengzhou.570830_CSWD\n"
     ]
    },
    {
     "name": "stdout",
     "output_type": "stream",
     "text": [
      "SUCCESS Nangandao\n"
     ]
    },
    {
     "name": "stderr",
     "output_type": "stream",
     "text": [
      "INFO:pyumi.epw:Getting weather file: ZAF_Cape.Town.688160_IWEC\n"
     ]
    },
    {
     "name": "stdout",
     "output_type": "stream",
     "text": [
      "SUCCESS Cape Town\n"
     ]
    },
    {
     "name": "stderr",
     "output_type": "stream",
     "text": [
      "INFO:pyumi.epw:Getting weather file: ESP_Valencia.082840_IWEC\n"
     ]
    },
    {
     "name": "stdout",
     "output_type": "stream",
     "text": [
      "SUCCESS Valencia\n"
     ]
    },
    {
     "name": "stderr",
     "output_type": "stream",
     "text": [
      "INFO:pyumi.epw:Getting weather file: CHN_Hubei.Laohekou.572650_CSWD\n"
     ]
    },
    {
     "name": "stdout",
     "output_type": "stream",
     "text": [
      "SUCCESS Xiangyang\n"
     ]
    },
    {
     "name": "stderr",
     "output_type": "stream",
     "text": [
      "INFO:pyumi.epw:Getting weather file: IND_Sundernagar.8204_ISHRAE\n"
     ]
    },
    {
     "name": "stdout",
     "output_type": "stream",
     "text": [
      "SUCCESS Patiāla\n"
     ]
    },
    {
     "name": "stderr",
     "output_type": "stream",
     "text": [
      "INFO:pyumi.epw:Getting weather file: CHN_Guangdong.Guangzhou.592870_CSWD\n"
     ]
    },
    {
     "name": "stdout",
     "output_type": "stream",
     "text": [
      "SUCCESS Qingyuan\n"
     ]
    },
    {
     "name": "stderr",
     "output_type": "stream",
     "text": [
      "INFO:pyumi.epw:Getting weather file: IND_Amritsar.420710_ISHRAE\n"
     ]
    },
    {
     "name": "stdout",
     "output_type": "stream",
     "text": [
      "SUCCESS Jalandhar\n"
     ]
    },
    {
     "name": "stderr",
     "output_type": "stream",
     "text": [
      "INFO:pyumi.epw:Getting weather file: CUB_Casa.Blanca.783250_SWERA\n"
     ]
    },
    {
     "name": "stdout",
     "output_type": "stream",
     "text": [
      "SUCCESS Havana\n"
     ]
    },
    {
     "name": "stderr",
     "output_type": "stream",
     "text": [
      "INFO:pyumi.epw:Getting weather file: IND_Rajkot.427370_ISHRAE\n"
     ]
    },
    {
     "name": "stdout",
     "output_type": "stream",
     "text": [
      "SUCCESS Rājkot\n"
     ]
    },
    {
     "name": "stderr",
     "output_type": "stream",
     "text": [
      "INFO:pyumi.epw:Getting weather file: PRI_Mayaguez-Eugenio.Maria.de.Hostos.AP.785145_TMY3\n"
     ]
    },
    {
     "name": "stdout",
     "output_type": "stream",
     "text": [
      "SUCCESS Santo Domingo\n"
     ]
    },
    {
     "name": "stderr",
     "output_type": "stream",
     "text": [
      "INFO:pyumi.epw:Getting weather file: RUS_Samara.289000_IWEC\n"
     ]
    },
    {
     "name": "stdout",
     "output_type": "stream",
     "text": [
      "SUCCESS Samara\n"
     ]
    },
    {
     "name": "stderr",
     "output_type": "stream",
     "text": [
      "INFO:pyumi.epw:Getting weather file: CHN_Nei.Mongol.Bairin.Zuo.Qi.540270_CSWD\n"
     ]
    },
    {
     "name": "stdout",
     "output_type": "stream",
     "text": [
      "SUCCESS Mositai\n"
     ]
    },
    {
     "name": "stderr",
     "output_type": "stream",
     "text": [
      "INFO:pyumi.epw:Getting weather file: NOR_Oslo.Fornebu.014880_IWEC\n"
     ]
    },
    {
     "name": "stdout",
     "output_type": "stream",
     "text": [
      "SUCCESS Oslo\n"
     ]
    },
    {
     "name": "stderr",
     "output_type": "stream",
     "text": [
      "INFO:pyumi.epw:Getting weather file: IRN_Tabriz.407060_ITMY\n"
     ]
    },
    {
     "name": "stdout",
     "output_type": "stream",
     "text": [
      "SUCCESS Erciş\n"
     ]
    },
    {
     "name": "stderr",
     "output_type": "stream",
     "text": [
      "INFO:pyumi.epw:Getting weather file: CHN_Xinjiang.Uygur.Aksu.516280_CSWD\n"
     ]
    },
    {
     "name": "stdout",
     "output_type": "stream",
     "text": [
      "SUCCESS Aksu\n"
     ]
    },
    {
     "name": "stderr",
     "output_type": "stream",
     "text": [
      "INFO:pyumi.epw:Getting weather file: CHN_Shaanxi.Yanan.538450_CSWD\n"
     ]
    },
    {
     "name": "stdout",
     "output_type": "stream",
     "text": [
      "SUCCESS Yan’an\n"
     ]
    },
    {
     "name": "stderr",
     "output_type": "stream",
     "text": [
      "INFO:pyumi.epw:Getting weather file: USA_WA_Renton.Muni.AP.727934_TMY3\n"
     ]
    },
    {
     "name": "stdout",
     "output_type": "stream",
     "text": [
      "SUCCESS Kent\n"
     ]
    },
    {
     "name": "stderr",
     "output_type": "stream",
     "text": [
      "INFO:pyumi.epw:Getting weather file: CHN_Hebei.Raoyang.546060_CSWD\n"
     ]
    },
    {
     "name": "stdout",
     "output_type": "stream",
     "text": [
      "SUCCESS Renqiu\n"
     ]
    },
    {
     "name": "stderr",
     "output_type": "stream",
     "text": [
      "INFO:pyumi.epw:Getting weather file: CHN_Henan.Zhengzhou.570830_CSWD\n"
     ]
    },
    {
     "name": "stdout",
     "output_type": "stream",
     "text": [
      "SUCCESS Zhengzhou\n"
     ]
    },
    {
     "name": "stderr",
     "output_type": "stream",
     "text": [
      "INFO:pyumi.epw:Getting weather file: CHN_Sichuan.Huili.566710_CSWD\n"
     ]
    },
    {
     "name": "stdout",
     "output_type": "stream",
     "text": [
      "SUCCESS Huili Chengguanzhen\n"
     ]
    },
    {
     "name": "stderr",
     "output_type": "stream",
     "text": [
      "INFO:pyumi.epw:Getting weather file: MEX_Mexico.City.766790_IWEC\n"
     ]
    },
    {
     "name": "stdout",
     "output_type": "stream",
     "text": [
      "SUCCESS San Luis Potosí\n"
     ]
    },
    {
     "name": "stderr",
     "output_type": "stream",
     "text": [
      "INFO:pyumi.epw:Getting weather file: CHN_Anhui.Huoshan.583140_CSWD\n"
     ]
    },
    {
     "name": "stdout",
     "output_type": "stream",
     "text": [
      "SUCCESS Lu’an\n"
     ]
    },
    {
     "name": "stderr",
     "output_type": "stream",
     "text": [
      "INFO:pyumi.epw:Getting weather file: KWT_Kuwait.Intl.AP.405820_KISR\n"
     ]
    },
    {
     "name": "stdout",
     "output_type": "stream",
     "text": [
      "SUCCESS An Najaf\n"
     ]
    },
    {
     "name": "stderr",
     "output_type": "stream",
     "text": [
      "INFO:pyumi.epw:Getting weather file: CHN_Guangxi.Zhuang.Nanning.594310_CSWD\n"
     ]
    },
    {
     "name": "stdout",
     "output_type": "stream",
     "text": [
      "SUCCESS Nanning\n"
     ]
    },
    {
     "name": "stderr",
     "output_type": "stream",
     "text": [
      "INFO:pyumi.epw:Getting weather file: IND_New.Delhi.421820_ISHRAE\n"
     ]
    },
    {
     "name": "stdout",
     "output_type": "stream",
     "text": [
      "SUCCESS Kālkāji Devi\n"
     ]
    },
    {
     "name": "stderr",
     "output_type": "stream",
     "text": [
      "INFO:pyumi.epw:Getting weather file: VNM_Hanoi.488200_IWEC\n"
     ]
    },
    {
     "name": "stdout",
     "output_type": "stream",
     "text": [
      "SUCCESS Haiphong\n"
     ]
    },
    {
     "name": "stderr",
     "output_type": "stream",
     "text": [
      "INFO:pyumi.epw:Getting weather file: ARE_Abu.Dhabi.412170_IWEC\n"
     ]
    },
    {
     "name": "stdout",
     "output_type": "stream",
     "text": [
      "SUCCESS Sharjah\n"
     ]
    },
    {
     "name": "stderr",
     "output_type": "stream",
     "text": [
      "INFO:pyumi.epw:Getting weather file: Fortaleza-Pinto Martins Intl_CE_BRA\n"
     ]
    },
    {
     "name": "stdout",
     "output_type": "stream",
     "text": [
      "SUCCESS Fortaleza\n"
     ]
    },
    {
     "name": "stderr",
     "output_type": "stream",
     "text": [
      "INFO:pyumi.epw:Getting weather file: CHN_Heilongjiang.Jiamusi.508730_CSWD\n"
     ]
    },
    {
     "name": "stdout",
     "output_type": "stream",
     "text": [
      "SUCCESS Yichun\n"
     ]
    },
    {
     "name": "stderr",
     "output_type": "stream",
     "text": [
      "INFO:pyumi.epw:Getting weather file: USA_ID_Idaho.Falls-Fanning.Field.725785_TMY3\n"
     ]
    },
    {
     "name": "stdout",
     "output_type": "stream",
     "text": [
      "SUCCESS Idaho Falls\n"
     ]
    },
    {
     "name": "stderr",
     "output_type": "stream",
     "text": [
      "INFO:pyumi.epw:Getting weather file: RUS_Moscow.276120_IWEC\n"
     ]
    },
    {
     "name": "stdout",
     "output_type": "stream",
     "text": [
      "SUCCESS Voronezh\n"
     ]
    },
    {
     "name": "stderr",
     "output_type": "stream",
     "text": [
      "INFO:pyumi.epw:Getting weather file: IRN_Tabriz.407060_ITMY\n"
     ]
    },
    {
     "name": "stdout",
     "output_type": "stream",
     "text": [
      "SUCCESS Tatvan\n"
     ]
    },
    {
     "name": "stderr",
     "output_type": "stream",
     "text": [
      "INFO:pyumi.epw:Getting weather file: CHN_Nei.Mongol.Jartai.535020_CSWD\n"
     ]
    },
    {
     "name": "stdout",
     "output_type": "stream",
     "text": [
      "SUCCESS Wuhai\n"
     ]
    },
    {
     "name": "stderr",
     "output_type": "stream",
     "text": [
      "INFO:pyumi.epw:Getting weather file: CHN_Gansu.Xifengzhen.539230_CSWD\n"
     ]
    },
    {
     "name": "stdout",
     "output_type": "stream",
     "text": [
      "SUCCESS Qinbaling\n"
     ]
    },
    {
     "name": "stderr",
     "output_type": "stream",
     "text": [
      "INFO:pyumi.epw:Getting weather file: USA_WA_Bellingham.Intl.AP.727976_TMY3\n"
     ]
    },
    {
     "name": "stdout",
     "output_type": "stream",
     "text": [
      "SUCCESS Bellingham\n"
     ]
    },
    {
     "name": "stderr",
     "output_type": "stream",
     "text": [
      "INFO:pyumi.epw:Getting weather file: CHN_Hebei.Xingtai.537980_CSWD\n"
     ]
    },
    {
     "name": "stdout",
     "output_type": "stream",
     "text": [
      "SUCCESS Wu’an\n"
     ]
    },
    {
     "name": "stderr",
     "output_type": "stream",
     "text": [
      "INFO:pyumi.epw:Getting weather file: CHN_Hebei.Raoyang.546060_CSWD\n"
     ]
    },
    {
     "name": "stdout",
     "output_type": "stream",
     "text": [
      "SUCCESS Dezhou\n"
     ]
    },
    {
     "name": "stderr",
     "output_type": "stream",
     "text": [
      "INFO:pyumi.epw:Getting weather file: PRT_Porto.085450_IWEC\n"
     ]
    },
    {
     "name": "stdout",
     "output_type": "stream",
     "text": [
      "SUCCESS Aves\n"
     ]
    },
    {
     "name": "stderr",
     "output_type": "stream",
     "text": [
      "INFO:pyumi.epw:Getting weather file: IRN_Yazd.408210_ITMY\n"
     ]
    },
    {
     "name": "stdout",
     "output_type": "stream",
     "text": [
      "SUCCESS Kermān\n"
     ]
    },
    {
     "name": "stderr",
     "output_type": "stream",
     "text": [
      "INFO:pyumi.epw:Getting weather file: CHN_Jiangxi.Yichun.577930_CSWD\n"
     ]
    },
    {
     "name": "stdout",
     "output_type": "stream",
     "text": [
      "SUCCESS Yichun\n"
     ]
    },
    {
     "name": "stderr",
     "output_type": "stream",
     "text": [
      "INFO:pyumi.epw:Getting weather file: IND_Saharanpur.5217_ISHRAE\n"
     ]
    },
    {
     "name": "stdout",
     "output_type": "stream",
     "text": [
      "SUCCESS Sahāranpur\n"
     ]
    },
    {
     "name": "stderr",
     "output_type": "stream",
     "text": [
      "INFO:pyumi.epw:Getting weather file: CHN_Fujian.Xiamen.591340_CSWD\n"
     ]
    },
    {
     "name": "stdout",
     "output_type": "stream",
     "text": [
      "SUCCESS Xiamen\n"
     ]
    },
    {
     "name": "stderr",
     "output_type": "stream",
     "text": [
      "INFO:pyumi.epw:Getting weather file: IND_New.Delhi.421820_ISHRAE\n"
     ]
    },
    {
     "name": "stdout",
     "output_type": "stream",
     "text": [
      "SUCCESS Narela\n"
     ]
    },
    {
     "name": "stderr",
     "output_type": "stream",
     "text": [
      "INFO:pyumi.epw:Getting weather file: IND_Indore.427540_ISHRAE\n"
     ]
    },
    {
     "name": "stdout",
     "output_type": "stream",
     "text": [
      "SUCCESS Indore\n"
     ]
    },
    {
     "name": "stderr",
     "output_type": "stream",
     "text": [
      "INFO:pyumi.epw:Getting weather file: ETH_Dire.Dawa.634710_SWERA\n"
     ]
    },
    {
     "name": "stdout",
     "output_type": "stream",
     "text": [
      "SUCCESS Hargeysa\n"
     ]
    },
    {
     "name": "stderr",
     "output_type": "stream",
     "text": [
      "INFO:pyumi.epw:Getting weather file: GHA_Accra.654720_SWERA\n"
     ]
    },
    {
     "name": "stdout",
     "output_type": "stream",
     "text": [
      "SUCCESS Yaoundé\n"
     ]
    },
    {
     "name": "stderr",
     "output_type": "stream",
     "text": [
      "INFO:pyumi.epw:Getting weather file: RUS_Ekaterinburg.284400_IWEC\n"
     ]
    },
    {
     "name": "stdout",
     "output_type": "stream",
     "text": [
      "SUCCESS Ufa\n"
     ]
    },
    {
     "name": "stderr",
     "output_type": "stream",
     "text": [
      "INFO:pyumi.epw:Getting weather file: CHN_Xinjiang.Urgur.Urumqi.514630_IWEC\n"
     ]
    },
    {
     "name": "stdout",
     "output_type": "stream",
     "text": [
      "SUCCESS Wujiaqu\n"
     ]
    },
    {
     "name": "stderr",
     "output_type": "stream",
     "text": [
      "INFO:pyumi.epw:Getting weather file: RUS_Samara.289000_IWEC\n"
     ]
    },
    {
     "name": "stdout",
     "output_type": "stream",
     "text": [
      "SUCCESS Volgograd\n"
     ]
    },
    {
     "name": "stderr",
     "output_type": "stream",
     "text": [
      "INFO:pyumi.epw:Getting weather file: IRN_Tabriz.407060_ITMY\n"
     ]
    },
    {
     "name": "stdout",
     "output_type": "stream",
     "text": [
      "SUCCESS Hakkari\n"
     ]
    },
    {
     "name": "stderr",
     "output_type": "stream",
     "text": [
      "INFO:pyumi.epw:Getting weather file: RUS_Samara.289000_IWEC\n"
     ]
    },
    {
     "name": "stdout",
     "output_type": "stream",
     "text": [
      "SUCCESS Astrakhan\n"
     ]
    },
    {
     "name": "stderr",
     "output_type": "stream",
     "text": [
      "INFO:pyumi.epw:Getting weather file: CHN_Gansu.Pingliang.539150_CSWD\n"
     ]
    },
    {
     "name": "stdout",
     "output_type": "stream",
     "text": [
      "SUCCESS Pingliang\n"
     ]
    },
    {
     "name": "stderr",
     "output_type": "stream",
     "text": [
      "INFO:pyumi.epw:Getting weather file: CAN_BC_Abbotsford.711080_CWEC\n"
     ]
    },
    {
     "name": "stdout",
     "output_type": "stream",
     "text": [
      "SUCCESS Langley\n"
     ]
    },
    {
     "name": "stderr",
     "output_type": "stream",
     "text": [
      "INFO:pyumi.epw:Getting weather file: CHN_Hebei.Raoyang.546060_CSWD\n"
     ]
    },
    {
     "name": "stdout",
     "output_type": "stream",
     "text": [
      "SUCCESS Hejian\n"
     ]
    },
    {
     "name": "stderr",
     "output_type": "stream",
     "text": [
      "INFO:pyumi.epw:Getting weather file: CHN_Shandong.Jinan.548230_CSWD\n"
     ]
    },
    {
     "name": "stdout",
     "output_type": "stream",
     "text": [
      "SUCCESS Jinan\n"
     ]
    },
    {
     "name": "stderr",
     "output_type": "stream",
     "text": [
      "INFO:pyumi.epw:Getting weather file: ZAF_Cape.Town.688160_IWEC\n"
     ]
    },
    {
     "name": "stdout",
     "output_type": "stream",
     "text": [
      "SUCCESS Khayelitsha\n"
     ]
    },
    {
     "name": "stderr",
     "output_type": "stream",
     "text": [
      "INFO:pyumi.epw:Getting weather file: USA_CA_Fresno.Air.Terminal.723890_TMY3\n"
     ]
    },
    {
     "name": "stdout",
     "output_type": "stream",
     "text": [
      "SUCCESS Fresno\n"
     ]
    },
    {
     "name": "stderr",
     "output_type": "stream",
     "text": [
      "INFO:pyumi.epw:Getting weather file: MEX_Mexico.City.766790_IWEC\n"
     ]
    },
    {
     "name": "stdout",
     "output_type": "stream",
     "text": [
      "SUCCESS Guadalajara\n"
     ]
    },
    {
     "name": "stderr",
     "output_type": "stream",
     "text": [
      "INFO:pyumi.epw:Getting weather file: USA_TX_Laredo.Intl.AP.722520_TMY\n"
     ]
    },
    {
     "name": "stdout",
     "output_type": "stream",
     "text": [
      "SUCCESS Guadalupe\n"
     ]
    },
    {
     "name": "stderr",
     "output_type": "stream",
     "text": [
      "INFO:pyumi.epw:Getting weather file: CHN_Fujian.Fuzhou.588470_CSWD\n"
     ]
    },
    {
     "name": "stdout",
     "output_type": "stream",
     "text": [
      "SUCCESS Fuzhou\n"
     ]
    },
    {
     "name": "stderr",
     "output_type": "stream",
     "text": [
      "INFO:pyumi.epw:Getting weather file: IND_Amritsar.420710_ISHRAE\n"
     ]
    },
    {
     "name": "stdout",
     "output_type": "stream",
     "text": [
      "SUCCESS Sialkot City\n"
     ]
    },
    {
     "name": "stderr",
     "output_type": "stream",
     "text": [
      "INFO:pyumi.epw:Getting weather file: KEN_Kisii.637090_SWERA\n"
     ]
    },
    {
     "name": "stdout",
     "output_type": "stream",
     "text": [
      "SUCCESS Kananga\n"
     ]
    },
    {
     "name": "stderr",
     "output_type": "stream",
     "text": [
      "INFO:pyumi.epw:Getting weather file: GHA_Accra.654720_SWERA\n"
     ]
    },
    {
     "name": "stdout",
     "output_type": "stream",
     "text": [
      "SUCCESS Maiduguri\n"
     ]
    },
    {
     "name": "stderr",
     "output_type": "stream",
     "text": [
      "INFO:pyumi.epw:Getting weather file: IND_Nagpur.428670_ISHRAE\n"
     ]
    },
    {
     "name": "stdout",
     "output_type": "stream",
     "text": [
      "SUCCESS Nāgpur\n"
     ]
    },
    {
     "name": "stderr",
     "output_type": "stream",
     "text": [
      "INFO:pyumi.epw:Getting weather file: MNG_Ulaangom.442120_IWEC\n"
     ]
    },
    {
     "name": "stdout",
     "output_type": "stream",
     "text": [
      "SUCCESS Krasnoyarsk\n"
     ]
    },
    {
     "name": "stderr",
     "output_type": "stream",
     "text": [
      "INFO:pyumi.epw:Getting weather file: CHN_Shanxi.Datong.534870_CSWD\n"
     ]
    },
    {
     "name": "stdout",
     "output_type": "stream",
     "text": [
      "SUCCESS Longquan\n"
     ]
    },
    {
     "name": "stderr",
     "output_type": "stream",
     "text": [
      "INFO:pyumi.epw:Getting weather file: CAN_ON_Ottawa.716280_CWEC\n"
     ]
    },
    {
     "name": "stdout",
     "output_type": "stream",
     "text": [
      "SUCCESS Ottawa\n"
     ]
    },
    {
     "name": "stderr",
     "output_type": "stream",
     "text": [
      "INFO:pyumi.epw:Getting weather file: IRN_Tabriz.407060_ITMY\n"
     ]
    },
    {
     "name": "stdout",
     "output_type": "stream",
     "text": [
      "SUCCESS Bulanık\n"
     ]
    },
    {
     "name": "stderr",
     "output_type": "stream",
     "text": [
      "INFO:pyumi.epw:Getting weather file: CHN_Kinjiang.Uygur.Yining.514310_SWERA\n"
     ]
    },
    {
     "name": "stdout",
     "output_type": "stream",
     "text": [
      "SUCCESS Ailan Mubage\n"
     ]
    },
    {
     "name": "stderr",
     "output_type": "stream",
     "text": [
      "INFO:pyumi.epw:Getting weather file: JPN_Sapporo.474120_IWEC\n"
     ]
    },
    {
     "name": "stdout",
     "output_type": "stream",
     "text": [
      "SUCCESS Sapporo\n"
     ]
    },
    {
     "name": "stderr",
     "output_type": "stream",
     "text": [
      "INFO:pyumi.epw:Getting weather file: USA_OR_Portland-Hillsboro.AP.726986_TMY3\n"
     ]
    },
    {
     "name": "stdout",
     "output_type": "stream",
     "text": [
      "SUCCESS Hillsboro\n"
     ]
    },
    {
     "name": "stderr",
     "output_type": "stream",
     "text": [
      "INFO:pyumi.epw:Getting weather file: UZB_Tashkent.384570_IWEC\n"
     ]
    },
    {
     "name": "stdout",
     "output_type": "stream",
     "text": [
      "SUCCESS Khŭjand\n"
     ]
    },
    {
     "name": "stderr",
     "output_type": "stream",
     "text": [
      "INFO:pyumi.epw:Getting weather file: CHN_Guizhou.Weining.566910_CSWD\n"
     ]
    },
    {
     "name": "stdout",
     "output_type": "stream",
     "text": [
      "SUCCESS Zhaotong\n"
     ]
    },
    {
     "name": "stderr",
     "output_type": "stream",
     "text": [
      "INFO:pyumi.epw:Getting weather file: CHL_Santiago.855740_IWEC\n"
     ]
    },
    {
     "name": "stdout",
     "output_type": "stream",
     "text": [
      "SUCCESS La Florida\n"
     ]
    },
    {
     "name": "stderr",
     "output_type": "stream",
     "text": [
      "INFO:pyumi.epw:Getting weather file: ESP_Zaragoza.081600_SWEC\n"
     ]
    },
    {
     "name": "stdout",
     "output_type": "stream",
     "text": [
      "SUCCESS Zaragoza\n"
     ]
    },
    {
     "name": "stderr",
     "output_type": "stream",
     "text": [
      "INFO:pyumi.epw:Getting weather file: CHN_Sichuan.Wanyuan.572370_CSWD\n"
     ]
    },
    {
     "name": "stdout",
     "output_type": "stream",
     "text": [
      "SUCCESS Dazhou\n"
     ]
    },
    {
     "name": "stderr",
     "output_type": "stream",
     "text": [
      "INFO:pyumi.epw:Getting weather file: KWT_Kuwait.Intl.AP.405820_KISR\n"
     ]
    },
    {
     "name": "stdout",
     "output_type": "stream",
     "text": [
      "SUCCESS Karbalā’\n"
     ]
    },
    {
     "name": "stderr",
     "output_type": "stream",
     "text": [
      "INFO:pyumi.epw:Getting weather file: CHN_Guangxi.Zhuang.Baise.592110_CSWD\n"
     ]
    },
    {
     "name": "stdout",
     "output_type": "stream",
     "text": [
      "SUCCESS Baicheng\n"
     ]
    },
    {
     "name": "stderr",
     "output_type": "stream",
     "text": [
      "INFO:pyumi.epw:Getting weather file: IND_New.Delhi.421820_ISHRAE\n"
     ]
    },
    {
     "name": "stdout",
     "output_type": "stream",
     "text": [
      "SUCCESS Noida\n"
     ]
    },
    {
     "name": "stderr",
     "output_type": "stream",
     "text": [
      "INFO:pyumi.epw:Getting weather file: PRI_San.Juan.Intl.AP.785260_TMY3\n"
     ]
    },
    {
     "name": "stdout",
     "output_type": "stream",
     "text": [
      "SUCCESS San Juan\n"
     ]
    },
    {
     "name": "stderr",
     "output_type": "stream",
     "text": [
      "INFO:pyumi.epw:Getting weather file: ARE_Abu.Dhabi.412170_IWEC\n"
     ]
    },
    {
     "name": "stdout",
     "output_type": "stream",
     "text": [
      "SUCCESS Doha\n"
     ]
    },
    {
     "name": "stderr",
     "output_type": "stream",
     "text": [
      "INFO:pyumi.epw:Getting weather file: GHA_Accra.654720_SWERA\n"
     ]
    },
    {
     "name": "stdout",
     "output_type": "stream",
     "text": [
      "SUCCESS Accra\n"
     ]
    },
    {
     "name": "stderr",
     "output_type": "stream",
     "text": [
      "INFO:pyumi.epw:Getting weather file: RUS_Omsk.286980_IWEC\n"
     ]
    },
    {
     "name": "stdout",
     "output_type": "stream",
     "text": [
      "SUCCESS Nur-Sultan\n"
     ]
    },
    {
     "name": "stderr",
     "output_type": "stream",
     "text": [
      "INFO:pyumi.epw:Getting weather file: USA_MT_Missoula.727730_TMY2\n"
     ]
    },
    {
     "name": "stdout",
     "output_type": "stream",
     "text": [
      "SUCCESS Missoula\n"
     ]
    },
    {
     "name": "stderr",
     "output_type": "stream",
     "text": [
      "INFO:pyumi.epw:Getting weather file: CHN_Shandong.Jinan.548230_CSWD\n"
     ]
    },
    {
     "name": "stdout",
     "output_type": "stream",
     "text": [
      "SUCCESS Feicheng\n"
     ]
    },
    {
     "name": "stderr",
     "output_type": "stream",
     "text": [
      "INFO:pyumi.epw:Getting weather file: IRN_Tabriz.407060_ITMY\n"
     ]
    },
    {
     "name": "stdout",
     "output_type": "stream",
     "text": [
      "SUCCESS Tall ‘Afar\n"
     ]
    },
    {
     "name": "stderr",
     "output_type": "stream",
     "text": [
      "INFO:pyumi.epw:Getting weather file: CHN_Shanxi.Yuanping.536730_CSWD\n"
     ]
    },
    {
     "name": "stdout",
     "output_type": "stream",
     "text": [
      "SUCCESS Yuanping\n"
     ]
    },
    {
     "name": "stderr",
     "output_type": "stream",
     "text": [
      "INFO:pyumi.epw:Getting weather file: CHN_Xinjiang.Uygur.Bachu.517160_CSWD\n"
     ]
    },
    {
     "name": "stdout",
     "output_type": "stream",
     "text": [
      "SUCCESS Almaty\n"
     ]
    },
    {
     "name": "stderr",
     "output_type": "stream",
     "text": [
      "INFO:pyumi.epw:Getting weather file: USA_WA_Renton.Muni.AP.727934_TMY3\n"
     ]
    },
    {
     "name": "stdout",
     "output_type": "stream",
     "text": [
      "SUCCESS Renton\n"
     ]
    },
    {
     "name": "stderr",
     "output_type": "stream",
     "text": [
      "INFO:pyumi.epw:Getting weather file: USA_NM_Albuquerque.723650_TMY2\n"
     ]
    },
    {
     "name": "stdout",
     "output_type": "stream",
     "text": [
      "SUCCESS Albuquerque\n"
     ]
    },
    {
     "name": "stderr",
     "output_type": "stream",
     "text": [
      "INFO:pyumi.epw:Getting weather file: USA_PA_Philadelphia-NE.Philadelphia.AP.724085_TMY3\n"
     ]
    },
    {
     "name": "stdout",
     "output_type": "stream",
     "text": [
      "SUCCESS Philadelphia\n"
     ]
    },
    {
     "name": "stderr",
     "output_type": "stream",
     "text": [
      "INFO:pyumi.epw:Getting weather file: USA_CA_Oxnard.AP.723927_TMY3\n"
     ]
    },
    {
     "name": "stdout",
     "output_type": "stream",
     "text": [
      "SUCCESS Oxnard\n"
     ]
    },
    {
     "name": "stderr",
     "output_type": "stream",
     "text": [
      "INFO:pyumi.epw:Getting weather file: ESP_Murcia.084300_SWEC\n"
     ]
    },
    {
     "name": "stdout",
     "output_type": "stream",
     "text": [
      "SUCCESS Murcia\n"
     ]
    },
    {
     "name": "stderr",
     "output_type": "stream",
     "text": [
      "INFO:pyumi.epw:Getting weather file: CHN_Hunan.Lingling.578660_CSWD\n"
     ]
    },
    {
     "name": "stdout",
     "output_type": "stream",
     "text": [
      "SUCCESS Yongzhou\n"
     ]
    },
    {
     "name": "stderr",
     "output_type": "stream",
     "text": [
      "INFO:pyumi.epw:Getting weather file: ZWE_Harare.677750_IWEC\n"
     ]
    },
    {
     "name": "stdout",
     "output_type": "stream",
     "text": [
      "SUCCESS Bulawayo\n"
     ]
    },
    {
     "name": "stderr",
     "output_type": "stream",
     "text": [
      "INFO:pyumi.epw:Getting weather file: CHN_Guangxi.Zhuang.Hechi.590230_CSWD\n"
     ]
    },
    {
     "name": "stdout",
     "output_type": "stream",
     "text": [
      "SUCCESS Hechi\n"
     ]
    },
    {
     "name": "stderr",
     "output_type": "stream",
     "text": [
      "INFO:pyumi.epw:Getting weather file: IND_New.Delhi.421820_ISHRAE\n"
     ]
    },
    {
     "name": "stdout",
     "output_type": "stream",
     "text": [
      "SUCCESS Rasūlpur\n"
     ]
    },
    {
     "name": "stderr",
     "output_type": "stream",
     "text": [
      "INFO:pyumi.epw:Getting weather file: CHN_Fujian.Congwu.591330_CSWD\n"
     ]
    },
    {
     "name": "stdout",
     "output_type": "stream",
     "text": [
      "SUCCESS Tainan\n"
     ]
    },
    {
     "name": "stderr",
     "output_type": "stream",
     "text": [
      "INFO:pyumi.epw:Getting weather file: EGY_Hurghada.624630_ETMY\n"
     ]
    },
    {
     "name": "stdout",
     "output_type": "stream",
     "text": [
      "SUCCESS Medina\n"
     ]
    },
    {
     "name": "stderr",
     "output_type": "stream",
     "text": [
      "INFO:pyumi.epw:Getting weather file: SGP_Singapore.486980_IWEC\n"
     ]
    },
    {
     "name": "stdout",
     "output_type": "stream",
     "text": [
      "SUCCESS Bekasi\n"
     ]
    },
    {
     "name": "stderr",
     "output_type": "stream",
     "text": [
      "INFO:pyumi.epw:Getting weather file: CAN_AB_Edmonton.711230_CWEC\n"
     ]
    },
    {
     "name": "stdout",
     "output_type": "stream",
     "text": [
      "SUCCESS Edmonton\n"
     ]
    },
    {
     "name": "stderr",
     "output_type": "stream",
     "text": [
      "INFO:pyumi.epw:Getting weather file: CHN_Hebei.Huailai.544050_CSWD\n"
     ]
    },
    {
     "name": "stdout",
     "output_type": "stream",
     "text": [
      "SUCCESS Laiyuan\n"
     ]
    },
    {
     "name": "stderr",
     "output_type": "stream",
     "text": [
      "INFO:pyumi.epw:Getting weather file: LTU_Kaunas.266290_IWEC\n"
     ]
    },
    {
     "name": "stdout",
     "output_type": "stream",
     "text": [
      "SUCCESS Riga\n"
     ]
    },
    {
     "name": "stderr",
     "output_type": "stream",
     "text": [
      "INFO:pyumi.epw:Getting weather file: TUR_Ankara.171280_IWEC\n"
     ]
    },
    {
     "name": "stdout",
     "output_type": "stream",
     "text": [
      "SUCCESS Sorgun\n"
     ]
    },
    {
     "name": "stderr",
     "output_type": "stream",
     "text": [
      "INFO:pyumi.epw:Getting weather file: CHN_Shanxi.Jiexiu.538630_CSWD\n"
     ]
    },
    {
     "name": "stdout",
     "output_type": "stream",
     "text": [
      "SUCCESS Xiaoyi\n"
     ]
    },
    {
     "name": "stderr",
     "output_type": "stream",
     "text": [
      "INFO:pyumi.epw:Getting weather file: ROU_Bucharest.154200_IWEC\n"
     ]
    },
    {
     "name": "stdout",
     "output_type": "stream",
     "text": [
      "SUCCESS Bucharest\n"
     ]
    },
    {
     "name": "stderr",
     "output_type": "stream",
     "text": [
      "INFO:pyumi.epw:Getting weather file: CAN_BC_Vancouver.718920_CWEC\n"
     ]
    },
    {
     "name": "stdout",
     "output_type": "stream",
     "text": [
      "SUCCESS Delta\n"
     ]
    },
    {
     "name": "stderr",
     "output_type": "stream",
     "text": [
      "INFO:pyumi.epw:Getting weather file: IRN_Tabriz.407060_ITMY\n"
     ]
    },
    {
     "name": "stdout",
     "output_type": "stream",
     "text": [
      "SUCCESS Orūmīyeh\n"
     ]
    },
    {
     "name": "stderr",
     "output_type": "stream",
     "text": [
      "INFO:pyumi.epw:Getting weather file: TUR_Ankara.171280_IWEC\n"
     ]
    },
    {
     "name": "stdout",
     "output_type": "stream",
     "text": [
      "SUCCESS Ankara\n"
     ]
    },
    {
     "name": "stderr",
     "output_type": "stream",
     "text": [
      "INFO:pyumi.epw:Getting weather file: CHL_Antofagasta.854420_IWEC\n"
     ]
    },
    {
     "name": "stdout",
     "output_type": "stream",
     "text": [
      "SUCCESS Antofagasta\n"
     ]
    },
    {
     "name": "stderr",
     "output_type": "stream",
     "text": [
      "INFO:pyumi.epw:Getting weather file: PAK_Karachi.417800_IWEC\n"
     ]
    },
    {
     "name": "stdout",
     "output_type": "stream",
     "text": [
      "SUCCESS Kandahār\n"
     ]
    },
    {
     "name": "stderr",
     "output_type": "stream",
     "text": [
      "INFO:pyumi.epw:Getting weather file: USA_GA_Fulton.County.AP.722195_TMY3\n"
     ]
    },
    {
     "name": "stdout",
     "output_type": "stream",
     "text": [
      "SUCCESS Atlanta\n"
     ]
    },
    {
     "name": "stderr",
     "output_type": "stream",
     "text": [
      "INFO:pyumi.epw:Getting weather file: GRC_Andravida.166820_IWEC\n"
     ]
    },
    {
     "name": "stdout",
     "output_type": "stream",
     "text": [
      "SUCCESS Benghazi\n"
     ]
    },
    {
     "name": "stderr",
     "output_type": "stream",
     "text": [
      "INFO:pyumi.epw:Getting weather file: CHN_Guangxi.Zhuang.Qinzhou.596320_CSWD\n"
     ]
    },
    {
     "name": "stdout",
     "output_type": "stream",
     "text": [
      "SUCCESS Qinzhou\n"
     ]
    },
    {
     "name": "stderr",
     "output_type": "stream",
     "text": [
      "INFO:pyumi.epw:Getting weather file: KWT_KISR.Coastal.Station.405850_KISR\n"
     ]
    },
    {
     "name": "stdout",
     "output_type": "stream",
     "text": [
      "SUCCESS Ḩafr al Bāţin\n"
     ]
    },
    {
     "name": "stderr",
     "output_type": "stream",
     "text": [
      "INFO:pyumi.epw:Getting weather file: GHA_Accra.654720_SWERA\n"
     ]
    },
    {
     "name": "stdout",
     "output_type": "stream",
     "text": [
      "SUCCESS Brazzaville\n"
     ]
    },
    {
     "name": "stderr",
     "output_type": "stream",
     "text": [
      "INFO:pyumi.epw:Getting weather file: GHA_Accra.654720_SWERA\n"
     ]
    },
    {
     "name": "stdout",
     "output_type": "stream",
     "text": [
      "SUCCESS N’Djamena\n"
     ]
    },
    {
     "name": "stderr",
     "output_type": "stream",
     "text": [
      "INFO:pyumi.epw:Getting weather file: SGP_Singapore.486980_IWEC\n"
     ]
    },
    {
     "name": "stdout",
     "output_type": "stream",
     "text": [
      "SUCCESS Depok\n"
     ]
    },
    {
     "name": "stderr",
     "output_type": "stream",
     "text": [
      "INFO:pyumi.epw:Getting weather file: CHN_Heilongjiang.Jiamusi.508730_CSWD\n"
     ]
    },
    {
     "name": "stdout",
     "output_type": "stream",
     "text": [
      "SUCCESS Hegang\n"
     ]
    },
    {
     "name": "stderr",
     "output_type": "stream",
     "text": [
      "INFO:pyumi.epw:Getting weather file: KAZ_Semipalatinsk.361770_IWEC\n"
     ]
    },
    {
     "name": "stdout",
     "output_type": "stream",
     "text": [
      "SUCCESS Balqash\n"
     ]
    },
    {
     "name": "stderr",
     "output_type": "stream",
     "text": [
      "INFO:pyumi.epw:Getting weather file: RUS_Samara.289000_IWEC\n"
     ]
    },
    {
     "name": "stdout",
     "output_type": "stream",
     "text": [
      "SUCCESS Saratov\n"
     ]
    },
    {
     "name": "stderr",
     "output_type": "stream",
     "text": [
      "INFO:pyumi.epw:Getting weather file: IRN_Tabriz.407060_ITMY\n"
     ]
    },
    {
     "name": "stdout",
     "output_type": "stream",
     "text": [
      "SUCCESS Saymayl\n"
     ]
    },
    {
     "name": "stderr",
     "output_type": "stream",
     "text": [
      "INFO:pyumi.epw:Getting weather file: USA_NV_Reno-Tahoe.Intl.AP.724880_TMY\n"
     ]
    },
    {
     "name": "stdout",
     "output_type": "stream",
     "text": [
      "SUCCESS Reno\n"
     ]
    },
    {
     "name": "stderr",
     "output_type": "stream",
     "text": [
      "INFO:pyumi.epw:Getting weather file: POL_Warszawa.Okecie.123750_IMGW\n"
     ]
    },
    {
     "name": "stdout",
     "output_type": "stream",
     "text": [
      "SUCCESS Warsaw\n"
     ]
    },
    {
     "name": "stderr",
     "output_type": "stream",
     "text": [
      "INFO:pyumi.epw:Getting weather file: USA_WA_Seattle-Tacoma.727930_TMY2\n"
     ]
    },
    {
     "name": "stdout",
     "output_type": "stream",
     "text": [
      "SUCCESS Federal Way\n"
     ]
    },
    {
     "name": "stderr",
     "output_type": "stream",
     "text": [
      "INFO:pyumi.epw:Getting weather file: TUR_Ankara.171280_IWEC\n"
     ]
    },
    {
     "name": "stdout",
     "output_type": "stream",
     "text": [
      "SUCCESS Selçuklu\n"
     ]
    },
    {
     "name": "stderr",
     "output_type": "stream",
     "text": [
      "INFO:pyumi.epw:Getting weather file: CHN_Beijing.Beijing.545110_CSWD\n"
     ]
    },
    {
     "name": "stdout",
     "output_type": "stream",
     "text": [
      "SUCCESS Langfang\n"
     ]
    },
    {
     "name": "stderr",
     "output_type": "stream",
     "text": [
      "INFO:pyumi.epw:Getting weather file: USA_TX_Laredo.Intl.AP.722520_TMY3\n"
     ]
    },
    {
     "name": "stdout",
     "output_type": "stream",
     "text": [
      "SUCCESS Gómez Palacio\n"
     ]
    },
    {
     "name": "stderr",
     "output_type": "stream",
     "text": [
      "INFO:pyumi.epw:Getting weather file: USA_CA_Bakersfield.723840_TMY2\n"
     ]
    },
    {
     "name": "stdout",
     "output_type": "stream",
     "text": [
      "SUCCESS Bakersfield\n"
     ]
    },
    {
     "name": "stderr",
     "output_type": "stream",
     "text": [
      "INFO:pyumi.epw:Getting weather file: CHN_Hunan.Zhijiang.577450_CSWD\n"
     ]
    },
    {
     "name": "stdout",
     "output_type": "stream",
     "text": [
      "SUCCESS Huaihua\n"
     ]
    },
    {
     "name": "stderr",
     "output_type": "stream",
     "text": [
      "INFO:pyumi.epw:Getting weather file: EGY_Helwan.623780_ETMY\n"
     ]
    },
    {
     "name": "stdout",
     "output_type": "stream",
     "text": [
      "SUCCESS Ḩalwān\n"
     ]
    },
    {
     "name": "stderr",
     "output_type": "stream",
     "text": [
      "INFO:pyumi.epw:Getting weather file: CHN_Fujian.Congwu.591330_CSWD\n"
     ]
    },
    {
     "name": "stdout",
     "output_type": "stream",
     "text": [
      "SUCCESS Putian\n"
     ]
    },
    {
     "name": "stderr",
     "output_type": "stream",
     "text": [
      "INFO:pyumi.epw:Getting weather file: IND_Jaipur.423480_ISHRAE\n"
     ]
    },
    {
     "name": "stdout",
     "output_type": "stream",
     "text": [
      "SUCCESS Ajmer\n"
     ]
    },
    {
     "name": "stderr",
     "output_type": "stream",
     "text": [
      "INFO:pyumi.epw:Getting weather file: IND_Bhopal.426670_ISHRAE\n"
     ]
    },
    {
     "name": "stdout",
     "output_type": "stream",
     "text": [
      "SUCCESS Bhopāl\n"
     ]
    },
    {
     "name": "stderr",
     "output_type": "stream",
     "text": [
      "INFO:pyumi.epw:Getting weather file: IND_Jodhpur.423390_ISHRAE\n"
     ]
    },
    {
     "name": "stdout",
     "output_type": "stream",
     "text": [
      "SUCCESS Jodhpur\n"
     ]
    },
    {
     "name": "stderr",
     "output_type": "stream",
     "text": [
      "INFO:pyumi.epw:Getting weather file: SGP_Singapore.486980_IWEC\n"
     ]
    },
    {
     "name": "stdout",
     "output_type": "stream",
     "text": [
      "SUCCESS Tangerang\n"
     ]
    },
    {
     "name": "stderr",
     "output_type": "stream",
     "text": [
      "INFO:pyumi.epw:Getting weather file: RUS_Ekaterinburg.284400_IWEC\n"
     ]
    },
    {
     "name": "stdout",
     "output_type": "stream",
     "text": [
      "SUCCESS Perm\n"
     ]
    },
    {
     "name": "stderr",
     "output_type": "stream",
     "text": [
      "INFO:pyumi.epw:Getting weather file: CHN_Jilin.Changchun.541610_CSWD\n"
     ]
    },
    {
     "name": "stdout",
     "output_type": "stream",
     "text": [
      "SUCCESS Dehui\n"
     ]
    },
    {
     "name": "stderr",
     "output_type": "stream",
     "text": [
      "INFO:pyumi.epw:Getting weather file: IRN_Tabriz.407060_ITMY\n"
     ]
    },
    {
     "name": "stdout",
     "output_type": "stream",
     "text": [
      "SUCCESS Bitlis\n"
     ]
    },
    {
     "name": "stderr",
     "output_type": "stream",
     "text": [
      "INFO:pyumi.epw:Getting weather file: CHN_Kinjiang.Uygur.Kuqa.516440_SWERA\n"
     ]
    },
    {
     "name": "stdout",
     "output_type": "stream",
     "text": [
      "SUCCESS Kuqa\n"
     ]
    },
    {
     "name": "stderr",
     "output_type": "stream",
     "text": [
      "INFO:pyumi.epw:Getting weather file: USA_PA_Pittsburgh-Allegheny.County.AP.725205_TMY3\n"
     ]
    },
    {
     "name": "stdout",
     "output_type": "stream",
     "text": [
      "SUCCESS Pittsburgh\n"
     ]
    },
    {
     "name": "stderr",
     "output_type": "stream",
     "text": [
      "INFO:pyumi.epw:Getting weather file: PRT_Coimbra.085490_IWEC\n"
     ]
    },
    {
     "name": "stdout",
     "output_type": "stream",
     "text": [
      "SUCCESS Viseu\n"
     ]
    },
    {
     "name": "stderr",
     "output_type": "stream",
     "text": [
      "INFO:pyumi.epw:Getting weather file: CHN_Beijing.Beijing.545110_SWERA\n"
     ]
    },
    {
     "name": "stdout",
     "output_type": "stream",
     "text": [
      "SUCCESS Gaobeidian\n"
     ]
    },
    {
     "name": "stderr",
     "output_type": "stream",
     "text": [
      "INFO:pyumi.epw:Getting weather file: CHN_Jiangsu.Xuzhou.580270_CSWD\n"
     ]
    },
    {
     "name": "stdout",
     "output_type": "stream",
     "text": [
      "SUCCESS Suzhou\n"
     ]
    },
    {
     "name": "stderr",
     "output_type": "stream",
     "text": [
      "INFO:pyumi.epw:Getting weather file: CHN_Yunnan.Kunming.567780_CSWD\n"
     ]
    },
    {
     "name": "stdout",
     "output_type": "stream",
     "text": [
      "SUCCESS Lianran\n"
     ]
    },
    {
     "name": "stderr",
     "output_type": "stream",
     "text": [
      "INFO:pyumi.epw:Getting weather file: CZ08RV2\n"
     ]
    },
    {
     "name": "stdout",
     "output_type": "stream",
     "text": [
      "SUCCESS Mission Viejo\n"
     ]
    },
    {
     "name": "stderr",
     "output_type": "stream",
     "text": [
      "INFO:pyumi.epw:Getting weather file: CHN_Hubei.Wuhan.574940_CSWD\n"
     ]
    },
    {
     "name": "stdout",
     "output_type": "stream",
     "text": [
      "SUCCESS Xiaoganzhan\n"
     ]
    },
    {
     "name": "stderr",
     "output_type": "stream",
     "text": [
      "INFO:pyumi.epw:Getting weather file: ISR_Beer.Sheva.401900_MSI\n"
     ]
    },
    {
     "name": "stdout",
     "output_type": "stream",
     "text": [
      "SUCCESS Gaza\n"
     ]
    },
    {
     "name": "stderr",
     "output_type": "stream",
     "text": [
      "INFO:pyumi.epw:Getting weather file: CHN_Guangdong.Heyuan.592930_CSWD\n"
     ]
    },
    {
     "name": "stdout",
     "output_type": "stream",
     "text": [
      "SUCCESS Heyuan\n"
     ]
    },
    {
     "name": "stderr",
     "output_type": "stream",
     "text": [
      "INFO:pyumi.epw:Getting weather file: IND_New.Delhi.421820_ISHRAE\n"
     ]
    },
    {
     "name": "stdout",
     "output_type": "stream",
     "text": [
      "SUCCESS Loni\n"
     ]
    },
    {
     "name": "stderr",
     "output_type": "stream",
     "text": [
      "INFO:pyumi.epw:Getting weather file: IND_Patna.424920_ISHRAE\n"
     ]
    },
    {
     "name": "stdout",
     "output_type": "stream",
     "text": [
      "SUCCESS Patna\n"
     ]
    },
    {
     "name": "stderr",
     "output_type": "stream",
     "text": [
      "INFO:pyumi.epw:Getting weather file: GHA_Accra.654720_SWERA\n"
     ]
    },
    {
     "name": "stdout",
     "output_type": "stream",
     "text": [
      "SUCCESS Niamey\n"
     ]
    },
    {
     "name": "stderr",
     "output_type": "stream",
     "text": [
      "INFO:pyumi.epw:Getting weather file: Manaus-Gomez Intl AP_AM_BRA\n"
     ]
    },
    {
     "name": "stdout",
     "output_type": "stream",
     "text": [
      "SUCCESS Manaus\n"
     ]
    },
    {
     "name": "stderr",
     "output_type": "stream",
     "text": [
      "INFO:pyumi.epw:Getting weather file: BGD_Rangpur.418590_SWERA\n"
     ]
    },
    {
     "name": "stdout",
     "output_type": "stream",
     "text": [
      "SUCCESS Rangapukur\n"
     ]
    },
    {
     "name": "stderr",
     "output_type": "stream",
     "text": [
      "INFO:pyumi.epw:Getting weather file: LTU_Kaunas.266290_IWEC\n"
     ]
    },
    {
     "name": "stdout",
     "output_type": "stream",
     "text": [
      "SUCCESS Vilnius\n"
     ]
    },
    {
     "name": "stderr",
     "output_type": "stream",
     "text": [
      "INFO:pyumi.epw:Getting weather file: USA_WA_Spokane.727855_TMY2\n"
     ]
    },
    {
     "name": "stdout",
     "output_type": "stream",
     "text": [
      "SUCCESS Spokane\n"
     ]
    },
    {
     "name": "stderr",
     "output_type": "stream",
     "text": [
      "INFO:pyumi.epw:Getting weather file: USA_OH_Cleveland-Burke.Lakefront.AP.725245_TMY3\n"
     ]
    },
    {
     "name": "stdout",
     "output_type": "stream",
     "text": [
      "SUCCESS Cleveland\n"
     ]
    },
    {
     "name": "stderr",
     "output_type": "stream",
     "text": [
      "INFO:pyumi.epw:Getting weather file: ESP_Pontevedra.080440_SWEC\n"
     ]
    },
    {
     "name": "stdout",
     "output_type": "stream",
     "text": [
      "SUCCESS Santiago de Compostela\n"
     ]
    },
    {
     "name": "stderr",
     "output_type": "stream",
     "text": [
      "INFO:pyumi.epw:Getting weather file: UZB_Tashkent.384570_IWEC\n"
     ]
    },
    {
     "name": "stdout",
     "output_type": "stream",
     "text": [
      "SUCCESS Namangan\n"
     ]
    },
    {
     "name": "stderr",
     "output_type": "stream",
     "text": [
      "INFO:pyumi.epw:Getting weather file: CHN_Jiangsu.Dongtai.582510_CSWD\n"
     ]
    },
    {
     "name": "stdout",
     "output_type": "stream",
     "text": [
      "SUCCESS Taizhou\n"
     ]
    },
    {
     "name": "stderr",
     "output_type": "stream",
     "text": [
      "INFO:pyumi.epw:Getting weather file: CHL_Santiago.855740_IWEC\n"
     ]
    },
    {
     "name": "stdout",
     "output_type": "stream",
     "text": [
      "SUCCESS Viña del Mar\n"
     ]
    },
    {
     "name": "stderr",
     "output_type": "stream",
     "text": [
      "INFO:pyumi.epw:Getting weather file: ISR_Jerusalem-Atarot.AP.401840_MSI\n"
     ]
    },
    {
     "name": "stdout",
     "output_type": "stream",
     "text": [
      "SUCCESS Al Mafraq\n"
     ]
    },
    {
     "name": "stderr",
     "output_type": "stream",
     "text": [
      "INFO:pyumi.epw:Getting weather file: CHN_Sichuan.Mianyang.561960_CSWD\n"
     ]
    },
    {
     "name": "stdout",
     "output_type": "stream",
     "text": [
      "SUCCESS Mianyang\n"
     ]
    },
    {
     "name": "stderr",
     "output_type": "stream",
     "text": [
      "INFO:pyumi.epw:Getting weather file: IRN_Bandar.Abass.408750_ITMY\n"
     ]
    },
    {
     "name": "stdout",
     "output_type": "stream",
     "text": [
      "SUCCESS Zāhedān\n"
     ]
    },
    {
     "name": "stderr",
     "output_type": "stream",
     "text": [
      "INFO:pyumi.epw:Getting weather file: CHN_Guangxi.Zhuang.Wuzhou.592650_CSWD\n"
     ]
    },
    {
     "name": "stdout",
     "output_type": "stream",
     "text": [
      "SUCCESS Wuzhou\n"
     ]
    },
    {
     "name": "stderr",
     "output_type": "stream",
     "text": [
      "INFO:pyumi.epw:Getting weather file: KWT_Kuwait.Intl.AP.405820_KISR\n"
     ]
    },
    {
     "name": "stdout",
     "output_type": "stream",
     "text": [
      "SUCCESS Al ‘Amārah\n"
     ]
    },
    {
     "name": "stderr",
     "output_type": "stream",
     "text": [
      "INFO:pyumi.epw:Getting weather file: IND_Raipur.428750_ISHRAE\n"
     ]
    },
    {
     "name": "stdout",
     "output_type": "stream",
     "text": [
      "SUCCESS Bilāspur\n"
     ]
    },
    {
     "name": "stderr",
     "output_type": "stream",
     "text": [
      "INFO:pyumi.epw:Getting weather file: IND_Jaisalmer.423280_ISHRAE\n"
     ]
    },
    {
     "name": "stdout",
     "output_type": "stream",
     "text": [
      "SUCCESS Quetta\n"
     ]
    },
    {
     "name": "stderr",
     "output_type": "stream",
     "text": [
      "INFO:pyumi.epw:Getting weather file: THA_Bangkok.484560_IWEC\n"
     ]
    },
    {
     "name": "stdout",
     "output_type": "stream",
     "text": [
      "SUCCESS Phnom Penh\n"
     ]
    },
    {
     "name": "stderr",
     "output_type": "stream",
     "text": [
      "INFO:pyumi.epw:Getting weather file: NPL_Kathmandu.444540_SWERA\n"
     ]
    },
    {
     "name": "stdout",
     "output_type": "stream",
     "text": [
      "SUCCESS Kathmandu\n"
     ]
    },
    {
     "name": "stderr",
     "output_type": "stream",
     "text": [
      "INFO:pyumi.epw:Getting weather file: CAN_PQ_Quebec.717140_CWEC\n"
     ]
    },
    {
     "name": "stdout",
     "output_type": "stream",
     "text": [
      "SUCCESS Quebec City\n"
     ]
    },
    {
     "name": "stderr",
     "output_type": "stream",
     "text": [
      "INFO:pyumi.epw:Getting weather file: CHN_Gansu.Minqin.526810_CSWD\n"
     ]
    },
    {
     "name": "stdout",
     "output_type": "stream",
     "text": [
      "SUCCESS Jinchang\n"
     ]
    },
    {
     "name": "stderr",
     "output_type": "stream",
     "text": [
      "INFO:pyumi.epw:Getting weather file: BGR_Sofia.156140_IWEC\n"
     ]
    },
    {
     "name": "stdout",
     "output_type": "stream",
     "text": [
      "SUCCESS Sofia\n"
     ]
    },
    {
     "name": "stderr",
     "output_type": "stream",
     "text": [
      "INFO:pyumi.epw:Getting weather file: ESP_Lugo.080080_SWEC\n"
     ]
    },
    {
     "name": "stdout",
     "output_type": "stream",
     "text": [
      "SUCCESS Lugo\n"
     ]
    },
    {
     "name": "stderr",
     "output_type": "stream",
     "text": [
      "INFO:pyumi.epw:Getting weather file: CHN_Xinjiang.Uygur.Turpan.515730_CSWD\n"
     ]
    },
    {
     "name": "stdout",
     "output_type": "stream",
     "text": [
      "SUCCESS Turpan\n"
     ]
    },
    {
     "name": "stderr",
     "output_type": "stream",
     "text": [
      "INFO:pyumi.epw:Getting weather file: CHN_Anhui.Boxian.581020_CSWD\n"
     ]
    },
    {
     "name": "stdout",
     "output_type": "stream",
     "text": [
      "SUCCESS Bozhou\n"
     ]
    },
    {
     "name": "stderr",
     "output_type": "stream",
     "text": [
      "INFO:pyumi.epw:Getting weather file: KEN_Nairobi-Dagoretti.637410_SWERA\n"
     ]
    },
    {
     "name": "stdout",
     "output_type": "stream",
     "text": [
      "SUCCESS Kikuyu\n"
     ]
    },
    {
     "name": "stderr",
     "output_type": "stream",
     "text": [
      "INFO:pyumi.epw:Getting weather file: USA_CA_Chula.Vista-Brown.Field.Muni.AP.722904_TMY3\n"
     ]
    },
    {
     "name": "stdout",
     "output_type": "stream",
     "text": [
      "SUCCESS Ensenada\n"
     ]
    },
    {
     "name": "stderr",
     "output_type": "stream",
     "text": [
      "INFO:pyumi.epw:Getting weather file: AUS_NSW.Sydney.947680_RMY\n"
     ]
    },
    {
     "name": "stdout",
     "output_type": "stream",
     "text": [
      "SUCCESS Sydney\n"
     ]
    },
    {
     "name": "stderr",
     "output_type": "stream",
     "text": [
      "INFO:pyumi.epw:Getting weather file: SAU_Riyadh.404380_IWEC\n"
     ]
    },
    {
     "name": "stdout",
     "output_type": "stream",
     "text": [
      "SUCCESS Aţ Ţā’if\n"
     ]
    },
    {
     "name": "stderr",
     "output_type": "stream",
     "text": [
      "INFO:pyumi.epw:Getting weather file: ETH_Addis.Ababa-Bole.634500_SWERA\n"
     ]
    },
    {
     "name": "stdout",
     "output_type": "stream",
     "text": [
      "SUCCESS Addis Ababa\n"
     ]
    },
    {
     "name": "stderr",
     "output_type": "stream",
     "text": [
      "INFO:pyumi.epw:Getting weather file: IND_Amritsar.420710_ISHRAE\n"
     ]
    },
    {
     "name": "stdout",
     "output_type": "stream",
     "text": [
      "SUCCESS Jammu\n"
     ]
    },
    {
     "name": "stderr",
     "output_type": "stream",
     "text": [
      "INFO:pyumi.epw:Getting weather file: IND_Gwalior.423610_ISHRAE\n"
     ]
    },
    {
     "name": "stdout",
     "output_type": "stream",
     "text": [
      "SUCCESS Agwār\n"
     ]
    },
    {
     "name": "stderr",
     "output_type": "stream",
     "text": [
      "INFO:pyumi.epw:Getting weather file: ETH_Bahar.Dar.633320_SWERA\n"
     ]
    },
    {
     "name": "stdout",
     "output_type": "stream",
     "text": [
      "SUCCESS Al Mijlad\n"
     ]
    },
    {
     "name": "stderr",
     "output_type": "stream",
     "text": [
      "INFO:pyumi.epw:Getting weather file: GHA_Accra.654720_SWERA\n"
     ]
    },
    {
     "name": "stdout",
     "output_type": "stream",
     "text": [
      "SUCCESS Kumasi\n"
     ]
    },
    {
     "name": "stderr",
     "output_type": "stream",
     "text": [
      "INFO:pyumi.epw:Getting weather file: CHN_Heilongjiang.Jixi.509780_CSWD\n"
     ]
    },
    {
     "name": "stdout",
     "output_type": "stream",
     "text": [
      "SUCCESS Taihecun\n"
     ]
    },
    {
     "name": "stderr",
     "output_type": "stream",
     "text": [
      "INFO:pyumi.epw:Getting weather file: CHN_Liaoning.Xinmin.543330_CSWD\n"
     ]
    },
    {
     "name": "stdout",
     "output_type": "stream",
     "text": [
      "SUCCESS Xinmin\n"
     ]
    },
    {
     "name": "stderr",
     "output_type": "stream",
     "text": [
      "INFO:pyumi.epw:Getting weather file: USA_ID_Boise.Air.Terminal.726810_TMY3\n"
     ]
    },
    {
     "name": "stdout",
     "output_type": "stream",
     "text": [
      "SUCCESS Boise\n"
     ]
    },
    {
     "name": "stderr",
     "output_type": "stream",
     "text": [
      "INFO:pyumi.epw:Getting weather file: NLD_Amsterdam.062400_IWEC\n"
     ]
    },
    {
     "name": "stdout",
     "output_type": "stream",
     "text": [
      "SUCCESS Amsterdam\n"
     ]
    },
    {
     "name": "stderr",
     "output_type": "stream",
     "text": [
      "INFO:pyumi.epw:Getting weather file: USA_OR_Portland-Hillsboro.AP.726986_TMY3\n"
     ]
    },
    {
     "name": "stdout",
     "output_type": "stream",
     "text": [
      "SUCCESS Beaverton\n"
     ]
    },
    {
     "name": "stderr",
     "output_type": "stream",
     "text": [
      "INFO:pyumi.epw:Getting weather file: CHN_Hebei.Raoyang.546060_CSWD\n"
     ]
    },
    {
     "name": "stdout",
     "output_type": "stream",
     "text": [
      "SUCCESS Xinji\n"
     ]
    },
    {
     "name": "stderr",
     "output_type": "stream",
     "text": [
      "INFO:pyumi.epw:Getting weather file: CHN_Jiangsu.Huaiyang-Qingjiang.581440_CSWD\n"
     ]
    },
    {
     "name": "stdout",
     "output_type": "stream",
     "text": [
      "SUCCESS Suqian\n"
     ]
    },
    {
     "name": "stderr",
     "output_type": "stream",
     "text": [
      "INFO:pyumi.epw:Getting weather file: USA_CA_Concord-Buchanan.Field.724936_TMY3\n"
     ]
    },
    {
     "name": "stdout",
     "output_type": "stream",
     "text": [
      "SUCCESS Antioch\n"
     ]
    },
    {
     "name": "stderr",
     "output_type": "stream",
     "text": [
      "INFO:pyumi.epw:Getting weather file: IRN_Yazd.408210_ITMY\n"
     ]
    },
    {
     "name": "stdout",
     "output_type": "stream",
     "text": [
      "SUCCESS Herāt\n"
     ]
    },
    {
     "name": "stderr",
     "output_type": "stream",
     "text": [
      "INFO:pyumi.epw:Getting weather file: ESP_Barcelona.081810_IWEC\n"
     ]
    },
    {
     "name": "stdout",
     "output_type": "stream",
     "text": [
      "SUCCESS Barcelona\n"
     ]
    },
    {
     "name": "stderr",
     "output_type": "stream",
     "text": [
      "INFO:pyumi.epw:Getting weather file: IND_Dehradun.421110_ISHRAE\n"
     ]
    },
    {
     "name": "stdout",
     "output_type": "stream",
     "text": [
      "SUCCESS Dehra Dūn\n"
     ]
    },
    {
     "name": "stderr",
     "output_type": "stream",
     "text": [
      "INFO:pyumi.epw:Getting weather file: Brasilia_DF_BRA\n"
     ]
    },
    {
     "name": "stdout",
     "output_type": "stream",
     "text": [
      "SUCCESS Brasília\n"
     ]
    },
    {
     "name": "stderr",
     "output_type": "stream",
     "text": [
      "INFO:pyumi.epw:Getting weather file: IND_Amritsar.420710_ISHRAE\n"
     ]
    },
    {
     "name": "stdout",
     "output_type": "stream",
     "text": [
      "SUCCESS Chiniot\n"
     ]
    },
    {
     "name": "stderr",
     "output_type": "stream",
     "text": [
      "INFO:pyumi.epw:Getting weather file: IND_Gwalior.423610_ISHRAE\n"
     ]
    },
    {
     "name": "stdout",
     "output_type": "stream",
     "text": [
      "SUCCESS Āgra\n"
     ]
    },
    {
     "name": "stderr",
     "output_type": "stream",
     "text": [
      "INFO:pyumi.epw:Getting weather file: ETH_Gondar.633310_SWERA\n"
     ]
    },
    {
     "name": "stdout",
     "output_type": "stream",
     "text": [
      "SUCCESS Asmara\n"
     ]
    },
    {
     "name": "stderr",
     "output_type": "stream",
     "text": [
      "INFO:pyumi.epw:Getting weather file: IND_Vishakhapatnam.431500_ISHRAE\n"
     ]
    },
    {
     "name": "stdout",
     "output_type": "stream",
     "text": [
      "SUCCESS Vishākhapatnam\n"
     ]
    },
    {
     "name": "stderr",
     "output_type": "stream",
     "text": [
      "INFO:pyumi.epw:Getting weather file: CHN_Heilongjiang.Hailun.507560_CSWD\n"
     ]
    },
    {
     "name": "stdout",
     "output_type": "stream",
     "text": [
      "SUCCESS Hailun\n"
     ]
    },
    {
     "name": "stderr",
     "output_type": "stream",
     "text": [
      "INFO:pyumi.epw:Getting weather file: CHN_Jilin.Changchun.541610_CSWD\n"
     ]
    },
    {
     "name": "stdout",
     "output_type": "stream",
     "text": [
      "SUCCESS Meihekou\n"
     ]
    },
    {
     "name": "stderr",
     "output_type": "stream",
     "text": [
      "INFO:pyumi.epw:Getting weather file: CHN_Shanxi.Jiexiu.538630_CSWD\n"
     ]
    },
    {
     "name": "stdout",
     "output_type": "stream",
     "text": [
      "SUCCESS Fenyang\n"
     ]
    },
    {
     "name": "stderr",
     "output_type": "stream",
     "text": [
      "INFO:pyumi.epw:Getting weather file: CHN_Ningxia.Hui.Guyuan.538170_CSWD\n"
     ]
    },
    {
     "name": "stdout",
     "output_type": "stream",
     "text": [
      "SUCCESS Guyuan\n"
     ]
    },
    {
     "name": "stderr",
     "output_type": "stream",
     "text": [
      "INFO:pyumi.epw:Getting weather file: TUR_Ankara.171280_IWEC\n"
     ]
    },
    {
     "name": "stdout",
     "output_type": "stream",
     "text": [
      "SUCCESS Akşehir\n"
     ]
    },
    {
     "name": "stderr",
     "output_type": "stream",
     "text": [
      "INFO:pyumi.epw:Getting weather file: IRN_Tabriz.407060_ITMY\n"
     ]
    },
    {
     "name": "stdout",
     "output_type": "stream",
     "text": [
      "SUCCESS Makhachkala\n"
     ]
    },
    {
     "name": "stderr",
     "output_type": "stream",
     "text": [
      "INFO:pyumi.epw:Getting weather file: CHN_Henan.Nanyang.571780_CSWD\n"
     ]
    },
    {
     "name": "stdout",
     "output_type": "stream",
     "text": [
      "SUCCESS Pingdingshan\n"
     ]
    },
    {
     "name": "stderr",
     "output_type": "stream",
     "text": [
      "INFO:pyumi.epw:Getting weather file: CZ02RV2\n"
     ]
    },
    {
     "name": "stdout",
     "output_type": "stream",
     "text": [
      "SUCCESS Santa Rosa\n"
     ]
    },
    {
     "name": "stderr",
     "output_type": "stream",
     "text": [
      "INFO:pyumi.epw:Getting weather file: IRN_Yazd.408210_ITMY\n"
     ]
    },
    {
     "name": "stdout",
     "output_type": "stream",
     "text": [
      "SUCCESS Yazd\n"
     ]
    },
    {
     "name": "stderr",
     "output_type": "stream",
     "text": [
      "INFO:pyumi.epw:Getting weather file: CHN_Hunan.Changsha.576870_CSWD\n"
     ]
    },
    {
     "name": "stdout",
     "output_type": "stream",
     "text": [
      "SUCCESS Changsha\n"
     ]
    },
    {
     "name": "stderr",
     "output_type": "stream",
     "text": [
      "INFO:pyumi.epw:Getting weather file: PER_Lima.846280_IWEC\n"
     ]
    },
    {
     "name": "stdout",
     "output_type": "stream",
     "text": [
      "SUCCESS Chiclayo\n"
     ]
    },
    {
     "name": "stderr",
     "output_type": "stream",
     "text": [
      "INFO:pyumi.epw:Getting weather file: CHN_Guangdong.Shaoguan.590820_CSWD\n"
     ]
    },
    {
     "name": "stdout",
     "output_type": "stream",
     "text": [
      "SUCCESS Shaoguan\n"
     ]
    },
    {
     "name": "stderr",
     "output_type": "stream",
     "text": [
      "INFO:pyumi.epw:Getting weather file: IND_Amritsar.420710_ISHRAE\n"
     ]
    },
    {
     "name": "stdout",
     "output_type": "stream",
     "text": [
      "SUCCESS Shekhupura\n"
     ]
    },
    {
     "name": "stderr",
     "output_type": "stream",
     "text": [
      "INFO:pyumi.epw:Getting weather file: BGD_Dhaka.419230_SWERA\n"
     ]
    },
    {
     "name": "stdout",
     "output_type": "stream",
     "text": [
      "SUCCESS Nārāyanganj\n"
     ]
    },
    {
     "name": "stderr",
     "output_type": "stream",
     "text": [
      "INFO:pyumi.epw:Getting weather file: IND_Tiruchirapalli.433440_ISHRAE\n"
     ]
    },
    {
     "name": "stdout",
     "output_type": "stream",
     "text": [
      "SUCCESS Coimbatore\n"
     ]
    },
    {
     "name": "stderr",
     "output_type": "stream",
     "text": [
      "INFO:pyumi.epw:Getting weather file: SEN_Dakar.616410_IWEC\n"
     ]
    },
    {
     "name": "stdout",
     "output_type": "stream",
     "text": [
      "SUCCESS Bamako\n"
     ]
    },
    {
     "name": "stderr",
     "output_type": "stream",
     "text": [
      "INFO:pyumi.epw:Getting weather file: IRN_Tabriz.407060_ITMY\n"
     ]
    },
    {
     "name": "stdout",
     "output_type": "stream",
     "text": [
      "SUCCESS Erzurum\n"
     ]
    },
    {
     "name": "stderr",
     "output_type": "stream",
     "text": [
      "INFO:pyumi.epw:Getting weather file: CHN_Heilongjiang.Suifenhe.540960_CSWD\n"
     ]
    },
    {
     "name": "stdout",
     "output_type": "stream",
     "text": [
      "SUCCESS Vladivostok\n"
     ]
    },
    {
     "name": "stderr",
     "output_type": "stream",
     "text": [
      "INFO:pyumi.epw:Getting weather file: CHN_Hebei.Huailai.544050_CSWD\n"
     ]
    },
    {
     "name": "stdout",
     "output_type": "stream",
     "text": [
      "SUCCESS Zhangjiakou Shi Xuanhua Qu\n"
     ]
    },
    {
     "name": "stderr",
     "output_type": "stream",
     "text": [
      "INFO:pyumi.epw:Getting weather file: DNK_Copenhagen.061800_IWEC\n"
     ]
    },
    {
     "name": "stdout",
     "output_type": "stream",
     "text": [
      "SUCCESS Copenhagen\n"
     ]
    },
    {
     "name": "stderr",
     "output_type": "stream",
     "text": [
      "INFO:pyumi.epw:Getting weather file: USA_WA_Seattle-Boeing.Field.727935_TMY3\n"
     ]
    },
    {
     "name": "stdout",
     "output_type": "stream",
     "text": [
      "SUCCESS Kirkland\n"
     ]
    },
    {
     "name": "stderr",
     "output_type": "stream",
     "text": [
      "INFO:pyumi.epw:Getting weather file: CHN_Hebei.Raoyang.546060_CSWD\n"
     ]
    },
    {
     "name": "stdout",
     "output_type": "stream",
     "text": [
      "SUCCESS Botou\n"
     ]
    },
    {
     "name": "stderr",
     "output_type": "stream",
     "text": [
      "INFO:pyumi.epw:Getting weather file: CHN_Jiangxi.Nanchang.586060_CSWD\n"
     ]
    },
    {
     "name": "stdout",
     "output_type": "stream",
     "text": [
      "SUCCESS Jiujiang\n"
     ]
    },
    {
     "name": "stderr",
     "output_type": "stream",
     "text": [
      "INFO:pyumi.epw:Getting weather file: ZAF_Cape.Town.688160_IWEC\n"
     ]
    },
    {
     "name": "stdout",
     "output_type": "stream",
     "text": [
      "SUCCESS Mitchells Plain\n"
     ]
    },
    {
     "name": "stderr",
     "output_type": "stream",
     "text": [
      "INFO:pyumi.epw:Getting weather file: ZAF_Johannesburg.683680_IWEC\n"
     ]
    },
    {
     "name": "stdout",
     "output_type": "stream",
     "text": [
      "SUCCESS Maseru\n"
     ]
    },
    {
     "name": "stderr",
     "output_type": "stream",
     "text": [
      "INFO:pyumi.epw:Getting weather file: CHN_Anhui.Anqing.584240_CSWD\n"
     ]
    },
    {
     "name": "stdout",
     "output_type": "stream",
     "text": [
      "SUCCESS Anqing\n"
     ]
    },
    {
     "name": "stderr",
     "output_type": "stream",
     "text": [
      "INFO:pyumi.epw:Getting weather file: ISR_Eilat.401990_MSI\n"
     ]
    },
    {
     "name": "stdout",
     "output_type": "stream",
     "text": [
      "SUCCESS Tabūk\n"
     ]
    },
    {
     "name": "stderr",
     "output_type": "stream",
     "text": [
      "INFO:pyumi.epw:Getting weather file: GTM_Guatemala-La.Aurora.786410_SWERA\n"
     ]
    },
    {
     "name": "stdout",
     "output_type": "stream",
     "text": [
      "SUCCESS Guatemala City\n"
     ]
    },
    {
     "name": "stderr",
     "output_type": "stream",
     "text": [
      "INFO:pyumi.epw:Getting weather file: ECU_Quito.840710_IWEC\n"
     ]
    },
    {
     "name": "stdout",
     "output_type": "stream",
     "text": [
      "SUCCESS Piura\n"
     ]
    },
    {
     "name": "stderr",
     "output_type": "stream",
     "text": [
      "INFO:pyumi.epw:Getting weather file: CHN_Guangdong.Dianbai.596640_CSWD\n"
     ]
    },
    {
     "name": "stdout",
     "output_type": "stream",
     "text": [
      "SUCCESS Lianjiang\n"
     ]
    },
    {
     "name": "stderr",
     "output_type": "stream",
     "text": [
      "INFO:pyumi.epw:Getting weather file: IND_Sholapur.431170_ISHRAE\n"
     ]
    },
    {
     "name": "stdout",
     "output_type": "stream",
     "text": [
      "SUCCESS Solāpur\n"
     ]
    },
    {
     "name": "stderr",
     "output_type": "stream",
     "text": [
      "INFO:pyumi.epw:Getting weather file: GHA_Accra.654720_SWERA\n"
     ]
    },
    {
     "name": "stdout",
     "output_type": "stream",
     "text": [
      "SUCCESS Bamenda\n"
     ]
    },
    {
     "name": "stderr",
     "output_type": "stream",
     "text": [
      "INFO:pyumi.epw:Getting weather file: RUS_Ekaterinburg.284400_IWEC\n"
     ]
    },
    {
     "name": "stdout",
     "output_type": "stream",
     "text": [
      "SUCCESS Tyumen\n"
     ]
    },
    {
     "name": "stderr",
     "output_type": "stream",
     "text": [
      "INFO:pyumi.epw:Getting weather file: RUS_Moscow.276120_IWEC\n"
     ]
    },
    {
     "name": "stdout",
     "output_type": "stream",
     "text": [
      "SUCCESS Ryazan\n"
     ]
    },
    {
     "name": "stderr",
     "output_type": "stream",
     "text": [
      "INFO:pyumi.epw:Getting weather file: CHN_Shanxi.Jiexiu.538630_CSWD\n"
     ]
    },
    {
     "name": "stdout",
     "output_type": "stream",
     "text": [
      "SUCCESS Jiexiu\n"
     ]
    },
    {
     "name": "stderr",
     "output_type": "stream",
     "text": [
      "INFO:pyumi.epw:Getting weather file: CHN_Anhui.Tunxi.585310_CSWD\n"
     ]
    },
    {
     "name": "stdout",
     "output_type": "stream",
     "text": [
      "SUCCESS Huangshan\n"
     ]
    },
    {
     "name": "stderr",
     "output_type": "stream",
     "text": [
      "INFO:pyumi.epw:Getting weather file: CAN_BC_Victoria.717990_CWEC\n"
     ]
    },
    {
     "name": "stdout",
     "output_type": "stream",
     "text": [
      "SUCCESS Nanaimo\n"
     ]
    },
    {
     "name": "stderr",
     "output_type": "stream",
     "text": [
      "INFO:pyumi.epw:Getting weather file: CHN_Hebei.Raoyang.546060_CSWD\n"
     ]
    },
    {
     "name": "stdout",
     "output_type": "stream",
     "text": [
      "SUCCESS Shenzhou\n"
     ]
    },
    {
     "name": "stderr",
     "output_type": "stream",
     "text": [
      "INFO:pyumi.epw:Getting weather file: CHN_Henan.Zhengzhou.570830_CSWD\n"
     ]
    },
    {
     "name": "stdout",
     "output_type": "stream",
     "text": [
      "SUCCESS Huanglongsi\n"
     ]
    },
    {
     "name": "stderr",
     "output_type": "stream",
     "text": [
      "INFO:pyumi.epw:Getting weather file: KEN_Nakuru.637140_SWERA\n"
     ]
    },
    {
     "name": "stdout",
     "output_type": "stream",
     "text": [
      "SUCCESS Nakuru\n"
     ]
    },
    {
     "name": "stderr",
     "output_type": "stream",
     "text": [
      "INFO:pyumi.epw:Getting weather file: USA_CA_Camp.Pendleton.MCAS.722926_TMY3\n"
     ]
    },
    {
     "name": "stdout",
     "output_type": "stream",
     "text": [
      "SUCCESS Murrieta\n"
     ]
    },
    {
     "name": "stderr",
     "output_type": "stream",
     "text": [
      "INFO:pyumi.epw:Getting weather file: CHN_Sichuan.Yibin.564920_CSWD\n"
     ]
    },
    {
     "name": "stdout",
     "output_type": "stream",
     "text": [
      "SUCCESS Yibin\n"
     ]
    },
    {
     "name": "stderr",
     "output_type": "stream",
     "text": [
      "INFO:pyumi.epw:Getting weather file: EGY_Ismailia.624400_ETMY\n"
     ]
    },
    {
     "name": "stdout",
     "output_type": "stream",
     "text": [
      "SUCCESS Port Said\n"
     ]
    },
    {
     "name": "stderr",
     "output_type": "stream",
     "text": [
      "INFO:pyumi.epw:Getting weather file: CHN_Fujian.Fuzhou.588470_CSWD\n"
     ]
    },
    {
     "name": "stdout",
     "output_type": "stream",
     "text": [
      "SUCCESS Ningde\n"
     ]
    },
    {
     "name": "stderr",
     "output_type": "stream",
     "text": [
      "INFO:pyumi.epw:Getting weather file: SAU_Riyadh.404380_IWEC\n"
     ]
    },
    {
     "name": "stdout",
     "output_type": "stream",
     "text": [
      "SUCCESS Buraydah\n"
     ]
    },
    {
     "name": "stderr",
     "output_type": "stream",
     "text": [
      "INFO:pyumi.epw:Getting weather file: CHN_Hainan.Haikou.597580_CSWD\n"
     ]
    },
    {
     "name": "stdout",
     "output_type": "stream",
     "text": [
      "SUCCESS Leizhou\n"
     ]
    },
    {
     "name": "stderr",
     "output_type": "stream",
     "text": [
      "INFO:pyumi.epw:Getting weather file: ETH_Gondar.633310_SWERA\n"
     ]
    },
    {
     "name": "stdout",
     "output_type": "stream",
     "text": [
      "SUCCESS Khartoum North\n"
     ]
    },
    {
     "name": "stderr",
     "output_type": "stream",
     "text": [
      "INFO:pyumi.epw:Getting weather file: IND_Mumbai.430030_IWEC\n"
     ]
    },
    {
     "name": "stdout",
     "output_type": "stream",
     "text": [
      "SUCCESS Thāne\n"
     ]
    },
    {
     "name": "stderr",
     "output_type": "stream",
     "text": [
      "INFO:pyumi.epw:Getting weather file: CHN_Heilongjiang.Nenjiang.505570_CSWD\n"
     ]
    },
    {
     "name": "stdout",
     "output_type": "stream",
     "text": [
      "SUCCESS Nehe\n"
     ]
    },
    {
     "name": "stderr",
     "output_type": "stream",
     "text": [
      "INFO:pyumi.epw:Getting weather file: CHN_Jilin.Yanji.542920_CSWD\n"
     ]
    },
    {
     "name": "stdout",
     "output_type": "stream",
     "text": [
      "SUCCESS Yanji\n"
     ]
    },
    {
     "name": "stderr",
     "output_type": "stream",
     "text": [
      "INFO:pyumi.epw:Getting weather file: USA_CO_Aurora-Buckley.Field.ANGB.724695_TMY3\n"
     ]
    },
    {
     "name": "stdout",
     "output_type": "stream",
     "text": [
      "SUCCESS Aurora\n"
     ]
    },
    {
     "name": "stderr",
     "output_type": "stream",
     "text": [
      "INFO:pyumi.epw:Getting weather file: USA_WI_Milwaukee-Mitchell.Intl.AP.726400_TMY\n"
     ]
    },
    {
     "name": "stdout",
     "output_type": "stream",
     "text": [
      "SUCCESS Milwaukee\n"
     ]
    },
    {
     "name": "stderr",
     "output_type": "stream",
     "text": [
      "INFO:pyumi.epw:Getting weather file: CAN_BC_Vancouver.718920_CWEC\n"
     ]
    },
    {
     "name": "stdout",
     "output_type": "stream",
     "text": [
      "SUCCESS North Vancouver\n"
     ]
    },
    {
     "name": "stderr",
     "output_type": "stream",
     "text": [
      "INFO:pyumi.epw:Getting weather file: CHN_Shandong.Jinan.548230_CSWD\n"
     ]
    },
    {
     "name": "stdout",
     "output_type": "stream",
     "text": [
      "SUCCESS Yucheng\n"
     ]
    },
    {
     "name": "stderr",
     "output_type": "stream",
     "text": [
      "INFO:pyumi.epw:Getting weather file: USA_VA_Arlington-Ronald.Reagan.Washington.Natl.AP.724050_TMY3\n"
     ]
    },
    {
     "name": "stdout",
     "output_type": "stream",
     "text": [
      "SUCCESS Washington\n"
     ]
    },
    {
     "name": "stderr",
     "output_type": "stream",
     "text": [
      "INFO:pyumi.epw:Getting weather file: PER_Arequipa.847520_IWEC\n"
     ]
    },
    {
     "name": "stdout",
     "output_type": "stream",
     "text": [
      "SUCCESS Juliaca\n"
     ]
    },
    {
     "name": "stderr",
     "output_type": "stream",
     "text": [
      "INFO:pyumi.epw:Getting weather file: ZAF_Johannesburg.683680_IWEC\n"
     ]
    },
    {
     "name": "stdout",
     "output_type": "stream",
     "text": [
      "SUCCESS Kimberley\n"
     ]
    },
    {
     "name": "stderr",
     "output_type": "stream",
     "text": [
      "INFO:pyumi.epw:Getting weather file: CHN_Jiangxi.Nanjing.582380_SWERA\n"
     ]
    },
    {
     "name": "stdout",
     "output_type": "stream",
     "text": [
      "SUCCESS Yangzhou\n"
     ]
    },
    {
     "name": "stderr",
     "output_type": "stream",
     "text": [
      "INFO:pyumi.epw:Getting weather file: USA_TX_Laredo.Intl.AP.722520_TMY\n"
     ]
    },
    {
     "name": "stdout",
     "output_type": "stream",
     "text": [
      "SUCCESS Ciudad Apodaca\n"
     ]
    },
    {
     "name": "stderr",
     "output_type": "stream",
     "text": [
      "INFO:pyumi.epw:Getting weather file: MAC_Macau.450110_IWEC\n"
     ]
    },
    {
     "name": "stdout",
     "output_type": "stream",
     "text": [
      "SUCCESS Zhongshan\n"
     ]
    },
    {
     "name": "stderr",
     "output_type": "stream",
     "text": [
      "INFO:pyumi.epw:Getting weather file: IND_New.Delhi.421820_ISHRAE\n"
     ]
    },
    {
     "name": "stdout",
     "output_type": "stream",
     "text": [
      "SUCCESS Mathura\n"
     ]
    },
    {
     "name": "stderr",
     "output_type": "stream",
     "text": [
      "INFO:pyumi.epw:Getting weather file: Morrinhos_GO_BRA\n"
     ]
    },
    {
     "name": "stdout",
     "output_type": "stream",
     "text": [
      "SUCCESS Goiânia\n"
     ]
    },
    {
     "name": "stderr",
     "output_type": "stream",
     "text": [
      "INFO:pyumi.epw:Getting weather file: KWT_KISR.Coastal.Station.405850_KISR\n"
     ]
    },
    {
     "name": "stdout",
     "output_type": "stream",
     "text": [
      "SUCCESS Ad Dammām\n"
     ]
    },
    {
     "name": "stderr",
     "output_type": "stream",
     "text": [
      "INFO:pyumi.epw:Getting weather file: GHA_Accra.654720_SWERA\n"
     ]
    },
    {
     "name": "stdout",
     "output_type": "stream",
     "text": [
      "SUCCESS Port Harcourt\n"
     ]
    },
    {
     "name": "stderr",
     "output_type": "stream",
     "text": [
      "INFO:pyumi.epw:Getting weather file: CAN_MB_Winnipeg.718520_CWEC\n"
     ]
    },
    {
     "name": "stdout",
     "output_type": "stream",
     "text": [
      "SUCCESS Winnipeg\n"
     ]
    },
    {
     "name": "stderr",
     "output_type": "stream",
     "text": [
      "INFO:pyumi.epw:Getting weather file: RUS_Moscow.276120_IWEC\n"
     ]
    },
    {
     "name": "stdout",
     "output_type": "stream",
     "text": [
      "SUCCESS Lipetsk\n"
     ]
    },
    {
     "name": "stderr",
     "output_type": "stream",
     "text": [
      "INFO:pyumi.epw:Getting weather file: CHN_Tibet.Lhasa.555910_CSWD\n"
     ]
    },
    {
     "name": "stdout",
     "output_type": "stream",
     "text": [
      "SUCCESS Zêtang\n"
     ]
    },
    {
     "name": "stderr",
     "output_type": "stream",
     "text": [
      "INFO:pyumi.epw:Getting weather file: CZE_Prague.115180_IWEC\n"
     ]
    },
    {
     "name": "stdout",
     "output_type": "stream",
     "text": [
      "SUCCESS Prague\n"
     ]
    },
    {
     "name": "stderr",
     "output_type": "stream",
     "text": [
      "INFO:pyumi.epw:Getting weather file: USA_WA_Seattle-Tacoma.727930_TMY2\n"
     ]
    },
    {
     "name": "stdout",
     "output_type": "stream",
     "text": [
      "SUCCESS Auburn\n"
     ]
    },
    {
     "name": "stderr",
     "output_type": "stream",
     "text": [
      "INFO:pyumi.epw:Getting weather file: CHN_Henan.Anyang.538980_CSWD\n"
     ]
    },
    {
     "name": "stdout",
     "output_type": "stream",
     "text": [
      "SUCCESS Chengjiao\n"
     ]
    },
    {
     "name": "stderr",
     "output_type": "stream",
     "text": [
      "INFO:pyumi.epw:Getting weather file: CHN_Jiangsu.Ganyu.580400_CSWD\n"
     ]
    },
    {
     "name": "stdout",
     "output_type": "stream",
     "text": [
      "SUCCESS Xinpu\n"
     ]
    },
    {
     "name": "stderr",
     "output_type": "stream",
     "text": [
      "INFO:pyumi.epw:Getting weather file: PRT_Porto.085450_IWEC\n"
     ]
    },
    {
     "name": "stdout",
     "output_type": "stream",
     "text": [
      "SUCCESS Vila Nova de Gaia\n"
     ]
    },
    {
     "name": "stderr",
     "output_type": "stream",
     "text": [
      "INFO:pyumi.epw:Getting weather file: IRN_Yazd.408210_ITMY\n"
     ]
    },
    {
     "name": "stdout",
     "output_type": "stream",
     "text": [
      "SUCCESS Farāh\n"
     ]
    },
    {
     "name": "stderr",
     "output_type": "stream",
     "text": [
      "INFO:pyumi.epw:Getting weather file: AUS_VIC.Melbourne.948680_RMY\n"
     ]
    },
    {
     "name": "stdout",
     "output_type": "stream",
     "text": [
      "SUCCESS Melbourne\n"
     ]
    },
    {
     "name": "stderr",
     "output_type": "stream",
     "text": [
      "INFO:pyumi.epw:Getting weather file: EGY_Ismailia.624400_ETMY\n"
     ]
    },
    {
     "name": "stdout",
     "output_type": "stream",
     "text": [
      "SUCCESS Suez\n"
     ]
    },
    {
     "name": "stderr",
     "output_type": "stream",
     "text": [
      "INFO:pyumi.epw:Getting weather file: CHN_Fujian.Shanghang.589180_CSWD\n"
     ]
    },
    {
     "name": "stdout",
     "output_type": "stream",
     "text": [
      "SUCCESS Longyan\n"
     ]
    },
    {
     "name": "stderr",
     "output_type": "stream",
     "text": [
      "INFO:pyumi.epw:Getting weather file: IND_Chirtadurg.432330_ISHRAE\n"
     ]
    },
    {
     "name": "stdout",
     "output_type": "stream",
     "text": [
      "SUCCESS Davangere\n"
     ]
    },
    {
     "name": "stderr",
     "output_type": "stream",
     "text": [
      "INFO:pyumi.epw:Getting weather file: IND_Aurangabad.430140_ISHRAE\n"
     ]
    },
    {
     "name": "stdout",
     "output_type": "stream",
     "text": [
      "SUCCESS Aurangābād\n"
     ]
    },
    {
     "name": "stderr",
     "output_type": "stream",
     "text": [
      "INFO:pyumi.epw:Getting weather file: KEN_Kakamega.636870_SWERA\n"
     ]
    },
    {
     "name": "stdout",
     "output_type": "stream",
     "text": [
      "SUCCESS Bangui\n"
     ]
    },
    {
     "name": "stderr",
     "output_type": "stream",
     "text": [
      "INFO:pyumi.epw:Getting weather file: MYS_Kuching.964130_IWEC\n"
     ]
    },
    {
     "name": "stdout",
     "output_type": "stream",
     "text": [
      "SUCCESS Denpasar\n"
     ]
    },
    {
     "name": "stderr",
     "output_type": "stream",
     "text": [
      "INFO:pyumi.epw:Getting weather file: CHN_Tibet.Pagri.557730_SWERA\n"
     ]
    },
    {
     "name": "stdout",
     "output_type": "stream",
     "text": [
      "SUCCESS Shiliguri\n"
     ]
    },
    {
     "name": "stderr",
     "output_type": "stream",
     "text": [
      "INFO:pyumi.epw:Getting weather file: UKR_Kiev.333450_IWEC\n"
     ]
    },
    {
     "name": "stdout",
     "output_type": "stream",
     "text": [
      "SUCCESS Homyel’\n"
     ]
    },
    {
     "name": "stderr",
     "output_type": "stream",
     "text": [
      "INFO:pyumi.epw:Getting weather file: UZB_Tashkent.384570_IWEC\n"
     ]
    },
    {
     "name": "stdout",
     "output_type": "stream",
     "text": [
      "SUCCESS Taraz\n"
     ]
    },
    {
     "name": "stderr",
     "output_type": "stream",
     "text": [
      "INFO:pyumi.epw:Getting weather file: CHN_Liaoning.Yingkou.544710_CSWD\n"
     ]
    },
    {
     "name": "stdout",
     "output_type": "stream",
     "text": [
      "SUCCESS Haicheng\n"
     ]
    },
    {
     "name": "stderr",
     "output_type": "stream",
     "text": [
      "INFO:pyumi.epw:Getting weather file: CAN_BC_Abbotsford.711080_CWEC\n"
     ]
    },
    {
     "name": "stdout",
     "output_type": "stream",
     "text": [
      "SUCCESS Chilliwack\n"
     ]
    },
    {
     "name": "stderr",
     "output_type": "stream",
     "text": [
      "INFO:pyumi.epw:Getting weather file: CHN_Hebei.Xingtai.537980_CSWD\n"
     ]
    },
    {
     "name": "stdout",
     "output_type": "stream",
     "text": [
      "SUCCESS Shahe\n"
     ]
    },
    {
     "name": "stderr",
     "output_type": "stream",
     "text": [
      "INFO:pyumi.epw:Getting weather file: CHN_Hebei.Raoyang.546060_CSWD\n"
     ]
    },
    {
     "name": "stdout",
     "output_type": "stream",
     "text": [
      "SUCCESS Hengshui\n"
     ]
    },
    {
     "name": "stderr",
     "output_type": "stream",
     "text": [
      "INFO:pyumi.epw:Getting weather file: CHL_Santiago.855740_IWEC\n"
     ]
    },
    {
     "name": "stdout",
     "output_type": "stream",
     "text": [
      "SUCCESS San Bernardo\n"
     ]
    },
    {
     "name": "stderr",
     "output_type": "stream",
     "text": [
      "INFO:pyumi.epw:Getting weather file: ESP_Melilla.603380_SWEC\n"
     ]
    },
    {
     "name": "stdout",
     "output_type": "stream",
     "text": [
      "SUCCESS Oujda-Angad\n"
     ]
    },
    {
     "name": "stderr",
     "output_type": "stream",
     "text": [
      "INFO:pyumi.epw:Getting weather file: CHN_Hunan.Changsha.576870_SWERA\n"
     ]
    },
    {
     "name": "stdout",
     "output_type": "stream",
     "text": [
      "SUCCESS Yiyang\n"
     ]
    },
    {
     "name": "stderr",
     "output_type": "stream",
     "text": [
      "INFO:pyumi.epw:Getting weather file: EGY_Cairo.623660_IWEC\n"
     ]
    },
    {
     "name": "stdout",
     "output_type": "stream",
     "text": [
      "SUCCESS Al ‘Āshir min Ramaḑān\n"
     ]
    },
    {
     "name": "stderr",
     "output_type": "stream",
     "text": [
      "INFO:pyumi.epw:Getting weather file: CHN_Fujian.Nanping.588340_CSWD\n"
     ]
    },
    {
     "name": "stdout",
     "output_type": "stream",
     "text": [
      "SUCCESS Nanping\n"
     ]
    },
    {
     "name": "stderr",
     "output_type": "stream",
     "text": [
      "INFO:pyumi.epw:Getting weather file: IND_Amritsar.420710_ISHRAE\n"
     ]
    },
    {
     "name": "stdout",
     "output_type": "stream",
     "text": [
      "SUCCESS Jhang City\n"
     ]
    },
    {
     "name": "stderr",
     "output_type": "stream",
     "text": [
      "INFO:pyumi.epw:Getting weather file: CHN_Guangdong.Dianbai.596640_CSWD\n"
     ]
    },
    {
     "name": "stdout",
     "output_type": "stream",
     "text": [
      "SUCCESS Huazhou\n"
     ]
    },
    {
     "name": "stderr",
     "output_type": "stream",
     "text": [
      "INFO:pyumi.epw:Getting weather file: IND_Tiruchirapalli.433440_ISHRAE\n"
     ]
    },
    {
     "name": "stdout",
     "output_type": "stream",
     "text": [
      "SUCCESS Tiruppūr\n"
     ]
    },
    {
     "name": "stderr",
     "output_type": "stream",
     "text": [
      "INFO:pyumi.epw:Getting weather file: PHL_Manila.984290_IWEC\n"
     ]
    },
    {
     "name": "stdout",
     "output_type": "stream",
     "text": [
      "SUCCESS Davao\n"
     ]
    },
    {
     "name": "stderr",
     "output_type": "stream",
     "text": [
      "INFO:pyumi.epw:Getting weather file: RUS_Samara.289000_IWEC\n"
     ]
    },
    {
     "name": "stdout",
     "output_type": "stream",
     "text": [
      "SUCCESS Tolyatti\n"
     ]
    },
    {
     "name": "stderr",
     "output_type": "stream",
     "text": [
      "INFO:pyumi.epw:Getting weather file: CHN_Liaoning.Shenyang.543420_CSWD\n"
     ]
    },
    {
     "name": "stdout",
     "output_type": "stream",
     "text": [
      "SUCCESS Dengtacun\n"
     ]
    },
    {
     "name": "stderr",
     "output_type": "stream",
     "text": [
      "INFO:pyumi.epw:Getting weather file: UZB_Tashkent.384570_IWEC\n"
     ]
    },
    {
     "name": "stdout",
     "output_type": "stream",
     "text": [
      "SUCCESS Nukus\n"
     ]
    },
    {
     "name": "stderr",
     "output_type": "stream",
     "text": [
      "INFO:pyumi.epw:Getting weather file: USA_RI_Providence-T.F.Green.State.AP.725070_TMY\n"
     ]
    },
    {
     "name": "stdout",
     "output_type": "stream",
     "text": [
      "SUCCESS Providence\n"
     ]
    },
    {
     "name": "stderr",
     "output_type": "stream",
     "text": [
      "INFO:pyumi.epw:Getting weather file: ESP_Avila.082100_SWEC\n"
     ]
    },
    {
     "name": "stdout",
     "output_type": "stream",
     "text": [
      "SUCCESS Talavera de la Reina\n"
     ]
    },
    {
     "name": "stderr",
     "output_type": "stream",
     "text": [
      "INFO:pyumi.epw:Getting weather file: CHN_Hebei.Xingtai.537980_CSWD\n"
     ]
    },
    {
     "name": "stdout",
     "output_type": "stream",
     "text": [
      "SUCCESS Nangong\n"
     ]
    },
    {
     "name": "stderr",
     "output_type": "stream",
     "text": [
      "INFO:pyumi.epw:Getting weather file: CHN_Henan.Zhengzhou.570830_CSWD\n"
     ]
    },
    {
     "name": "stdout",
     "output_type": "stream",
     "text": [
      "SUCCESS Jiangguanchi\n"
     ]
    },
    {
     "name": "stderr",
     "output_type": "stream",
     "text": [
      "INFO:pyumi.epw:Getting weather file: CHL_Santiago.855740_IWEC\n"
     ]
    },
    {
     "name": "stdout",
     "output_type": "stream",
     "text": [
      "SUCCESS Valparaíso\n"
     ]
    },
    {
     "name": "stderr",
     "output_type": "stream",
     "text": [
      "INFO:pyumi.epw:Getting weather file: ISR_Jerusalem-Atarot.AP.401840_MSI\n"
     ]
    },
    {
     "name": "stdout",
     "output_type": "stream",
     "text": [
      "SUCCESS Az Zarqā’\n"
     ]
    },
    {
     "name": "stderr",
     "output_type": "stream",
     "text": [
      "INFO:pyumi.epw:Getting weather file: MAR_Casablanca.Nouasser.601560_IWEC\n"
     ]
    },
    {
     "name": "stdout",
     "output_type": "stream",
     "text": [
      "SUCCESS Casablanca\n"
     ]
    },
    {
     "name": "stderr",
     "output_type": "stream",
     "text": [
      "INFO:pyumi.epw:Getting weather file: PER_Lima.846280_IWEC\n"
     ]
    },
    {
     "name": "stdout",
     "output_type": "stream",
     "text": [
      "SUCCESS Chimbote\n"
     ]
    },
    {
     "name": "stderr",
     "output_type": "stream",
     "text": [
      "INFO:pyumi.epw:Getting weather file: USA_FL_Tampa.722110_TMY2\n"
     ]
    },
    {
     "name": "stdout",
     "output_type": "stream",
     "text": [
      "SUCCESS Tampa\n"
     ]
    },
    {
     "name": "stderr",
     "output_type": "stream",
     "text": [
      "INFO:pyumi.epw:Getting weather file: IND_New.Delhi.421820_ISHRAE\n"
     ]
    },
    {
     "name": "stdout",
     "output_type": "stream",
     "text": [
      "SUCCESS Delhi Cantonment\n"
     ]
    },
    {
     "name": "stderr",
     "output_type": "stream",
     "text": [
      "INFO:pyumi.epw:Getting weather file: GHA_Accra.654720_SWERA\n"
     ]
    },
    {
     "name": "stdout",
     "output_type": "stream",
     "text": [
      "SUCCESS Cacuaco\n"
     ]
    },
    {
     "name": "stderr",
     "output_type": "stream",
     "text": [
      "INFO:pyumi.epw:Getting weather file: ARE_Abu.Dhabi.412170_IWEC\n"
     ]
    },
    {
     "name": "stdout",
     "output_type": "stream",
     "text": [
      "SUCCESS Al ‘Ayn\n"
     ]
    },
    {
     "name": "stderr",
     "output_type": "stream",
     "text": [
      "INFO:pyumi.epw:Getting weather file: PHL_Manila.984290_IWEC\n"
     ]
    },
    {
     "name": "stdout",
     "output_type": "stream",
     "text": [
      "SUCCESS Caloocan City\n"
     ]
    },
    {
     "name": "stderr",
     "output_type": "stream",
     "text": [
      "INFO:pyumi.epw:Getting weather file: CHN_Heilongjiang.Anda.508540_CSWD\n"
     ]
    },
    {
     "name": "stdout",
     "output_type": "stream",
     "text": [
      "SUCCESS Zhaodong\n"
     ]
    },
    {
     "name": "stderr",
     "output_type": "stream",
     "text": [
      "INFO:pyumi.epw:Getting weather file: CHN_Jilin.Qian.Gorlos.509490_CSWD\n"
     ]
    },
    {
     "name": "stdout",
     "output_type": "stream",
     "text": [
      "SUCCESS Suoluntun\n"
     ]
    },
    {
     "name": "stderr",
     "output_type": "stream",
     "text": [
      "INFO:pyumi.epw:Getting weather file: USA_CO_Fort.Collins.AWOS.724769_TMY3\n"
     ]
    },
    {
     "name": "stdout",
     "output_type": "stream",
     "text": [
      "SUCCESS Fort Collins\n"
     ]
    },
    {
     "name": "stderr",
     "output_type": "stream",
     "text": [
      "INFO:pyumi.epw:Getting weather file: IRL_Dublin.039690_IWEC\n"
     ]
    },
    {
     "name": "stdout",
     "output_type": "stream",
     "text": [
      "SUCCESS Dublin\n"
     ]
    },
    {
     "name": "stderr",
     "output_type": "stream",
     "text": [
      "INFO:pyumi.epw:Getting weather file: USA_WA_Bellingham.Intl.AP.727976_TMY3\n"
     ]
    },
    {
     "name": "stdout",
     "output_type": "stream",
     "text": [
      "SUCCESS White Rock\n"
     ]
    },
    {
     "name": "stderr",
     "output_type": "stream",
     "text": [
      "INFO:pyumi.epw:Getting weather file: UZB_Tashkent.384570_IWEC\n"
     ]
    },
    {
     "name": "stdout",
     "output_type": "stream",
     "text": [
      "SUCCESS Andijon\n"
     ]
    },
    {
     "name": "stderr",
     "output_type": "stream",
     "text": [
      "INFO:pyumi.epw:Getting weather file: CHN_Shandong.Huimin.Xian.547250_CSWD\n"
     ]
    },
    {
     "name": "stdout",
     "output_type": "stream",
     "text": [
      "SUCCESS Binzhou\n"
     ]
    },
    {
     "name": "stderr",
     "output_type": "stream",
     "text": [
      "INFO:pyumi.epw:Getting weather file: ESP_Pontevedra.080440_SWEC\n"
     ]
    },
    {
     "name": "stdout",
     "output_type": "stream",
     "text": [
      "SUCCESS Vigo\n"
     ]
    },
    {
     "name": "stderr",
     "output_type": "stream",
     "text": [
      "INFO:pyumi.epw:Getting weather file: CHL_Santiago.855740_IWEC\n"
     ]
    },
    {
     "name": "stdout",
     "output_type": "stream",
     "text": [
      "SUCCESS San Juan\n"
     ]
    },
    {
     "name": "stderr",
     "output_type": "stream",
     "text": [
      "INFO:pyumi.epw:Getting weather file: CHN_Shanghai.Shanghai.583620_SWERA\n"
     ]
    },
    {
     "name": "stdout",
     "output_type": "stream",
     "text": [
      "SUCCESS Suzhou\n"
     ]
    },
    {
     "name": "stderr",
     "output_type": "stream",
     "text": [
      "INFO:pyumi.epw:Getting weather file: USA_AZ_Phoenix-Sky.Harbor.Intl.AP.722780_TMY3\n"
     ]
    },
    {
     "name": "stdout",
     "output_type": "stream",
     "text": [
      "SUCCESS Mesa\n"
     ]
    },
    {
     "name": "stderr",
     "output_type": "stream",
     "text": [
      "INFO:pyumi.epw:Getting weather file: CHN_Guangdong.Shantou.593160_CSWD\n"
     ]
    },
    {
     "name": "stdout",
     "output_type": "stream",
     "text": [
      "SUCCESS Chaozhou\n"
     ]
    },
    {
     "name": "stderr",
     "output_type": "stream",
     "text": [
      "INFO:pyumi.epw:Getting weather file: SEN_Dakar.616410_IWEC\n"
     ]
    },
    {
     "name": "stdout",
     "output_type": "stream",
     "text": [
      "SUCCESS Thiès\n"
     ]
    },
    {
     "name": "stderr",
     "output_type": "stream",
     "text": [
      "INFO:pyumi.epw:Getting weather file: IND_Jabalpur.426750_ISHRAE\n"
     ]
    },
    {
     "name": "stdout",
     "output_type": "stream",
     "text": [
      "SUCCESS Jabalpur\n"
     ]
    },
    {
     "name": "stderr",
     "output_type": "stream",
     "text": [
      "INFO:pyumi.epw:Getting weather file: IND_Bikaner.421650_ISHRAE\n"
     ]
    },
    {
     "name": "stdout",
     "output_type": "stream",
     "text": [
      "SUCCESS Bahawalpur\n"
     ]
    },
    {
     "name": "stderr",
     "output_type": "stream",
     "text": [
      "INFO:pyumi.epw:Getting weather file: Recife_PE_BRA\n"
     ]
    },
    {
     "name": "stdout",
     "output_type": "stream",
     "text": [
      "SUCCESS Recife\n"
     ]
    },
    {
     "name": "stderr",
     "output_type": "stream",
     "text": [
      "INFO:pyumi.epw:Getting weather file: CHN_Heilongjiang.Shangzhi.509680_CSWD\n"
     ]
    },
    {
     "name": "stdout",
     "output_type": "stream",
     "text": [
      "SUCCESS Shulan\n"
     ]
    },
    {
     "name": "stderr",
     "output_type": "stream",
     "text": [
      "INFO:pyumi.epw:Getting weather file: POL_Gdansk.Port.Polnocny.121400_IMGW\n"
     ]
    },
    {
     "name": "stdout",
     "output_type": "stream",
     "text": [
      "SUCCESS Gdańsk\n"
     ]
    },
    {
     "name": "stderr",
     "output_type": "stream",
     "text": [
      "INFO:pyumi.epw:Getting weather file: RUS_Samara.289000_IWEC\n"
     ]
    },
    {
     "name": "stdout",
     "output_type": "stream",
     "text": [
      "SUCCESS Atyraū\n"
     ]
    },
    {
     "name": "stderr",
     "output_type": "stream",
     "text": [
      "INFO:pyumi.epw:Getting weather file: RUS_Moscow.276120_IWEC\n"
     ]
    },
    {
     "name": "stdout",
     "output_type": "stream",
     "text": [
      "SUCCESS Rostov\n"
     ]
    },
    {
     "name": "stderr",
     "output_type": "stream",
     "text": [
      "INFO:pyumi.epw:Getting weather file: CAN_BC_Abbotsford.711080_CWEC\n"
     ]
    },
    {
     "name": "stdout",
     "output_type": "stream",
     "text": [
      "SUCCESS Maple Ridge\n"
     ]
    },
    {
     "name": "stderr",
     "output_type": "stream",
     "text": [
      "INFO:pyumi.epw:Getting weather file: IRN_Tabriz.407060_ITMY\n"
     ]
    },
    {
     "name": "stdout",
     "output_type": "stream",
     "text": [
      "SUCCESS Zanjān\n"
     ]
    },
    {
     "name": "stderr",
     "output_type": "stream",
     "text": [
      "INFO:pyumi.epw:Getting weather file: CHN_Shaanxi.Baoji.570160_SWERA\n"
     ]
    },
    {
     "name": "stdout",
     "output_type": "stream",
     "text": [
      "SUCCESS Baojishi\n"
     ]
    },
    {
     "name": "stderr",
     "output_type": "stream",
     "text": [
      "INFO:pyumi.epw:Getting weather file: ZWE_Harare.677750_IWEC\n"
     ]
    },
    {
     "name": "stdout",
     "output_type": "stream",
     "text": [
      "SUCCESS Moçâmedes\n"
     ]
    },
    {
     "name": "stderr",
     "output_type": "stream",
     "text": [
      "INFO:pyumi.epw:Getting weather file: UZB_Tashkent.384570_IWEC\n"
     ]
    },
    {
     "name": "stdout",
     "output_type": "stream",
     "text": [
      "SUCCESS Mazār-e Sharīf\n"
     ]
    },
    {
     "name": "stderr",
     "output_type": "stream",
     "text": [
      "INFO:pyumi.epw:Getting weather file: TUR_Izmir.172180_IWEC\n"
     ]
    },
    {
     "name": "stdout",
     "output_type": "stream",
     "text": [
      "SUCCESS İzmir\n"
     ]
    },
    {
     "name": "stderr",
     "output_type": "stream",
     "text": [
      "INFO:pyumi.epw:Getting weather file: USA_TX_Laredo.Intl.AP.722520_TMY\n"
     ]
    },
    {
     "name": "stdout",
     "output_type": "stream",
     "text": [
      "SUCCESS San Nicolás de los Garza\n"
     ]
    },
    {
     "name": "stderr",
     "output_type": "stream",
     "text": [
      "INFO:pyumi.epw:Getting weather file: CHN_Fujian.Fuzhou.588470_CSWD\n"
     ]
    },
    {
     "name": "stdout",
     "output_type": "stream",
     "text": [
      "SUCCESS Gulou\n"
     ]
    },
    {
     "name": "stderr",
     "output_type": "stream",
     "text": [
      "INFO:pyumi.epw:Getting weather file: KWT_Kuwait.Intl.AP.405820_KISR\n"
     ]
    },
    {
     "name": "stdout",
     "output_type": "stream",
     "text": [
      "SUCCESS Al Jahrā’\n"
     ]
    },
    {
     "name": "stderr",
     "output_type": "stream",
     "text": [
      "INFO:pyumi.epw:Getting weather file: KEN_Mombasa-Moi.638200_SWERA\n"
     ]
    },
    {
     "name": "stdout",
     "output_type": "stream",
     "text": [
      "SUCCESS Mombasa\n"
     ]
    },
    {
     "name": "stderr",
     "output_type": "stream",
     "text": [
      "INFO:pyumi.epw:Getting weather file: GHA_Accra.654720_SWERA\n"
     ]
    },
    {
     "name": "stdout",
     "output_type": "stream",
     "text": [
      "SUCCESS Kaduna\n"
     ]
    },
    {
     "name": "stderr",
     "output_type": "stream",
     "text": [
      "INFO:pyumi.epw:Getting weather file: SGP_Singapore.486980_IWEC\n"
     ]
    },
    {
     "name": "stdout",
     "output_type": "stream",
     "text": [
      "SUCCESS Sangereng\n"
     ]
    },
    {
     "name": "stderr",
     "output_type": "stream",
     "text": [
      "INFO:pyumi.epw:Getting weather file: RUS_Samara.289000_IWEC\n"
     ]
    },
    {
     "name": "stdout",
     "output_type": "stream",
     "text": [
      "SUCCESS Izhevsk\n"
     ]
    },
    {
     "name": "stderr",
     "output_type": "stream",
     "text": [
      "INFO:pyumi.epw:Getting weather file: RUS_Moscow.276120_IWEC\n"
     ]
    },
    {
     "name": "stdout",
     "output_type": "stream",
     "text": [
      "SUCCESS Tula\n"
     ]
    },
    {
     "name": "stderr",
     "output_type": "stream",
     "text": [
      "INFO:pyumi.epw:Getting weather file: CHN_Shanxi.Jiexiu.538630_CSWD\n"
     ]
    },
    {
     "name": "stdout",
     "output_type": "stream",
     "text": [
      "SUCCESS Huozhou\n"
     ]
    },
    {
     "name": "stderr",
     "output_type": "stream",
     "text": [
      "INFO:pyumi.epw:Getting weather file: DEU_Koln.105130_IWEC\n"
     ]
    },
    {
     "name": "stdout",
     "output_type": "stream",
     "text": [
      "SUCCESS Cologne\n"
     ]
    },
    {
     "name": "stderr",
     "output_type": "stream",
     "text": [
      "INFO:pyumi.epw:Getting weather file: TUR_Ankara.171280_IWEC\n"
     ]
    },
    {
     "name": "stdout",
     "output_type": "stream",
     "text": [
      "SUCCESS Turhal\n"
     ]
    },
    {
     "name": "stderr",
     "output_type": "stream",
     "text": [
      "INFO:pyumi.epw:Getting weather file: UZB_Tashkent.384570_IWEC\n"
     ]
    },
    {
     "name": "stdout",
     "output_type": "stream",
     "text": [
      "SUCCESS Türkmenabat\n"
     ]
    },
    {
     "name": "stderr",
     "output_type": "stream",
     "text": [
      "INFO:pyumi.epw:Getting weather file: CHN_Jiangsu.Xuzhou.580270_CSWD\n"
     ]
    },
    {
     "name": "stdout",
     "output_type": "stream",
     "text": [
      "SUCCESS Zaozhuang\n"
     ]
    },
    {
     "name": "stderr",
     "output_type": "stream",
     "text": [
      "INFO:pyumi.epw:Getting weather file: CHL_Santiago.855740_IWEC\n"
     ]
    },
    {
     "name": "stdout",
     "output_type": "stream",
     "text": [
      "SUCCESS Las Condes\n"
     ]
    },
    {
     "name": "stderr",
     "output_type": "stream",
     "text": [
      "INFO:pyumi.epw:Getting weather file: USA_CA_Long.Beach-Daugherty.Field.722970_TMY\n"
     ]
    },
    {
     "name": "stdout",
     "output_type": "stream",
     "text": [
      "SUCCESS Long Beach\n"
     ]
    },
    {
     "name": "stderr",
     "output_type": "stream",
     "text": [
      "INFO:pyumi.epw:Getting weather file: CHN_Sichuan.Luzhou.576020_CSWD\n"
     ]
    },
    {
     "name": "stdout",
     "output_type": "stream",
     "text": [
      "SUCCESS Luzhou\n"
     ]
    },
    {
     "name": "stderr",
     "output_type": "stream",
     "text": [
      "INFO:pyumi.epw:Getting weather file: ZWE_Harare.677750_IWEC\n"
     ]
    },
    {
     "name": "stdout",
     "output_type": "stream",
     "text": [
      "SUCCESS Beira\n"
     ]
    },
    {
     "name": "stderr",
     "output_type": "stream",
     "text": [
      "INFO:pyumi.epw:Getting weather file: CHN_Fujian.Yongan.589210_CSWD\n"
     ]
    },
    {
     "name": "stdout",
     "output_type": "stream",
     "text": [
      "SUCCESS Sanming\n"
     ]
    },
    {
     "name": "stderr",
     "output_type": "stream",
     "text": [
      "INFO:pyumi.epw:Getting weather file: IND_Amritsar.420710_ISHRAE\n"
     ]
    },
    {
     "name": "stdout",
     "output_type": "stream",
     "text": [
      "SUCCESS Gujrat\n"
     ]
    },
    {
     "name": "stderr",
     "output_type": "stream",
     "text": [
      "INFO:pyumi.epw:Getting weather file: BGD_Dhaka.419230_SWERA\n"
     ]
    },
    {
     "name": "stdout",
     "output_type": "stream",
     "text": [
      "SUCCESS Gāzipura\n"
     ]
    },
    {
     "name": "stderr",
     "output_type": "stream",
     "text": [
      "INFO:pyumi.epw:Getting weather file: ETH_Dire.Dawa.634710_SWERA\n"
     ]
    },
    {
     "name": "stdout",
     "output_type": "stream",
     "text": [
      "SUCCESS Burco\n"
     ]
    },
    {
     "name": "stderr",
     "output_type": "stream",
     "text": [
      "INFO:pyumi.epw:Getting weather file: MYS_Kuching.964130_IWEC\n"
     ]
    },
    {
     "name": "stdout",
     "output_type": "stream",
     "text": [
      "SUCCESS Semarang\n"
     ]
    },
    {
     "name": "stderr",
     "output_type": "stream",
     "text": [
      "INFO:pyumi.epw:Getting weather file: KAZ_Semipalatinsk.361770_IWEC\n"
     ]
    },
    {
     "name": "stdout",
     "output_type": "stream",
     "text": [
      "SUCCESS Barnaul\n"
     ]
    },
    {
     "name": "stderr",
     "output_type": "stream",
     "text": [
      "INFO:pyumi.epw:Getting weather file: CAN_ON_Simcoe.715270_CWEC\n"
     ]
    },
    {
     "name": "stdout",
     "output_type": "stream",
     "text": [
      "SUCCESS Kitchener\n"
     ]
    },
    {
     "name": "stderr",
     "output_type": "stream",
     "text": [
      "INFO:pyumi.epw:Getting weather file: UZB_Tashkent.384570_IWEC\n"
     ]
    },
    {
     "name": "stdout",
     "output_type": "stream",
     "text": [
      "SUCCESS Qyzylorda\n"
     ]
    },
    {
     "name": "stderr",
     "output_type": "stream",
     "text": [
      "INFO:pyumi.epw:Getting weather file: CHN_Kinjiang.Uygar.Kashi.517090_SWERA\n"
     ]
    },
    {
     "name": "stdout",
     "output_type": "stream",
     "text": [
      "SUCCESS Bishkek\n"
     ]
    },
    {
     "name": "stderr",
     "output_type": "stream",
     "text": [
      "INFO:pyumi.epw:Getting weather file: CHL_Concepcion.856820_IWEC\n"
     ]
    },
    {
     "name": "stdout",
     "output_type": "stream",
     "text": [
      "SUCCESS Padre Las Casas\n"
     ]
    },
    {
     "name": "stderr",
     "output_type": "stream",
     "text": [
      "INFO:pyumi.epw:Getting weather file: CHN_Shanxi.Yuncheng.539590_CSWD\n"
     ]
    },
    {
     "name": "stdout",
     "output_type": "stream",
     "text": [
      "SUCCESS Hejin\n"
     ]
    },
    {
     "name": "stderr",
     "output_type": "stream",
     "text": [
      "INFO:pyumi.epw:Getting weather file: CHN_Henan.Anyang.538980_CSWD\n"
     ]
    },
    {
     "name": "stdout",
     "output_type": "stream",
     "text": [
      "SUCCESS Puyang\n"
     ]
    },
    {
     "name": "stderr",
     "output_type": "stream",
     "text": [
      "INFO:pyumi.epw:Getting weather file: USA_CA_Mountain.View-Moffett.Field.NAS.745090_TMY\n",
      "WARNING:urllib3.connectionpool:Retrying (Retry(total=2, connect=None, read=None, redirect=None, status=None)) after connection broken by 'ProtocolError('Connection aborted.', RemoteDisconnected('Remote end closed connection without response'))': /north_and_central_america_wmo_region_4/USA/CA/USA_CA_Mountain.View-Moffett.Field.NAS.745090_TMY/USA_CA_Mountain.View-Moffett.Field.NAS.745090_TMY.epw\n"
     ]
    },
    {
     "name": "stdout",
     "output_type": "stream",
     "text": [
      "SUCCESS Fremont\n"
     ]
    },
    {
     "name": "stderr",
     "output_type": "stream",
     "text": [
      "INFO:pyumi.epw:Getting weather file: GRC_Athens.167160_IWEC\n"
     ]
    },
    {
     "name": "stdout",
     "output_type": "stream",
     "text": [
      "SUCCESS Piraeus\n"
     ]
    },
    {
     "name": "stderr",
     "output_type": "stream",
     "text": [
      "INFO:pyumi.epw:Getting weather file: CHN_Anhui.Hefei.583210_CSWD\n"
     ]
    },
    {
     "name": "stdout",
     "output_type": "stream",
     "text": [
      "SUCCESS Hefei\n"
     ]
    },
    {
     "name": "stderr",
     "output_type": "stream",
     "text": [
      "INFO:pyumi.epw:Getting weather file: TUN_Tunis.607150_IWEC\n"
     ]
    },
    {
     "name": "stdout",
     "output_type": "stream",
     "text": [
      "SUCCESS Sidi Bouzid\n"
     ]
    },
    {
     "name": "stderr",
     "output_type": "stream",
     "text": [
      "INFO:pyumi.epw:Getting weather file: CHN_Guangdong.Yangjiang.596630_CSWD\n"
     ]
    },
    {
     "name": "stdout",
     "output_type": "stream",
     "text": [
      "SUCCESS Yangjiang\n"
     ]
    },
    {
     "name": "stderr",
     "output_type": "stream",
     "text": [
      "INFO:pyumi.epw:Getting weather file: IND_Pune.430630_ISHRAE\n"
     ]
    },
    {
     "name": "stdout",
     "output_type": "stream",
     "text": [
      "SUCCESS Sirūr\n"
     ]
    },
    {
     "name": "stderr",
     "output_type": "stream",
     "text": [
      "INFO:pyumi.epw:Getting weather file: IND_Allahabad.424750_ISHRAE\n"
     ]
    },
    {
     "name": "stdout",
     "output_type": "stream",
     "text": [
      "SUCCESS Vārānasi\n"
     ]
    },
    {
     "name": "stderr",
     "output_type": "stream",
     "text": [
      "INFO:pyumi.epw:Getting weather file: GHA_Accra.654720_SWERA\n"
     ]
    },
    {
     "name": "stdout",
     "output_type": "stream",
     "text": [
      "SUCCESS Bauchi\n"
     ]
    },
    {
     "name": "stderr",
     "output_type": "stream",
     "text": [
      "INFO:pyumi.epw:Getting weather file: SEN_Dakar.616410_IWEC\n"
     ]
    },
    {
     "name": "stdout",
     "output_type": "stream",
     "text": [
      "SUCCESS Balandougou\n"
     ]
    },
    {
     "name": "stderr",
     "output_type": "stream",
     "text": [
      "INFO:pyumi.epw:Getting weather file: RUS_Samara.289000_IWEC\n"
     ]
    },
    {
     "name": "stdout",
     "output_type": "stream",
     "text": [
      "SUCCESS Ulyanovsk\n"
     ]
    },
    {
     "name": "stderr",
     "output_type": "stream",
     "text": [
      "INFO:pyumi.epw:Getting weather file: RUS_Moscow.276120_IWEC\n"
     ]
    },
    {
     "name": "stdout",
     "output_type": "stream",
     "text": [
      "SUCCESS Balashikha\n"
     ]
    },
    {
     "name": "stderr",
     "output_type": "stream",
     "text": [
      "INFO:pyumi.epw:Getting weather file: USA_WA_Pasco-Tri.Cities.AP.727845_TMY3\n"
     ]
    },
    {
     "name": "stdout",
     "output_type": "stream",
     "text": [
      "SUCCESS Kennewick\n"
     ]
    },
    {
     "name": "stderr",
     "output_type": "stream",
     "text": [
      "INFO:pyumi.epw:Getting weather file: KOR_Inchon.471120_IWEC\n"
     ]
    },
    {
     "name": "stdout",
     "output_type": "stream",
     "text": [
      "SUCCESS Goyang\n"
     ]
    },
    {
     "name": "stderr",
     "output_type": "stream",
     "text": [
      "INFO:pyumi.epw:Getting weather file: USA_WA_Seattle-Boeing.Field.727935_TMY3\n"
     ]
    },
    {
     "name": "stdout",
     "output_type": "stream",
     "text": [
      "SUCCESS Redmond\n"
     ]
    },
    {
     "name": "stderr",
     "output_type": "stream",
     "text": [
      "INFO:pyumi.epw:Getting weather file: CHN_Shanxi.Yuncheng.539590_CSWD\n"
     ]
    },
    {
     "name": "stdout",
     "output_type": "stream",
     "text": [
      "SUCCESS Hancheng\n"
     ]
    },
    {
     "name": "stderr",
     "output_type": "stream",
     "text": [
      "INFO:pyumi.epw:Getting weather file: CHN_Henan.Zhengzhou.570830_CSWD\n"
     ]
    },
    {
     "name": "stdout",
     "output_type": "stream",
     "text": [
      "SUCCESS Jiaozuo\n"
     ]
    },
    {
     "name": "stderr",
     "output_type": "stream",
     "text": [
      "INFO:pyumi.epw:Getting weather file: CHL_Santiago.855740_IWEC\n"
     ]
    },
    {
     "name": "stdout",
     "output_type": "stream",
     "text": [
      "SUCCESS Rancagua\n"
     ]
    },
    {
     "name": "stderr",
     "output_type": "stream",
     "text": [
      "INFO:pyumi.epw:Getting weather file: IRN_Tehran-Mehrabad.407540_ITMY\n"
     ]
    },
    {
     "name": "stdout",
     "output_type": "stream",
     "text": [
      "SUCCESS Eslāmshahr\n"
     ]
    },
    {
     "name": "stderr",
     "output_type": "stream",
     "text": [
      "INFO:pyumi.epw:Getting weather file: CHN_Hubei.Yichang.574610_CSWD\n"
     ]
    },
    {
     "name": "stdout",
     "output_type": "stream",
     "text": [
      "SUCCESS Xiaoxita\n"
     ]
    },
    {
     "name": "stderr",
     "output_type": "stream",
     "text": [
      "INFO:pyumi.epw:Getting weather file: EGY_Cairo.623660_IWEC\n"
     ]
    },
    {
     "name": "stdout",
     "output_type": "stream",
     "text": [
      "SUCCESS Ţanţā\n"
     ]
    },
    {
     "name": "stderr",
     "output_type": "stream",
     "text": [
      "INFO:pyumi.epw:Getting weather file: CHN_Guangxi.Zhuang.Wuzhou.592650_CSWD\n"
     ]
    },
    {
     "name": "stdout",
     "output_type": "stream",
     "text": [
      "SUCCESS Yunfu\n"
     ]
    },
    {
     "name": "stderr",
     "output_type": "stream",
     "text": [
      "INFO:pyumi.epw:Getting weather file: IND_Amritsar.420710_ISHRAE\n"
     ]
    },
    {
     "name": "stdout",
     "output_type": "stream",
     "text": [
      "SUCCESS Cantonment\n"
     ]
    },
    {
     "name": "stderr",
     "output_type": "stream",
     "text": [
      "INFO:pyumi.epw:Getting weather file: CHN_Yunnan.Mengla.569690_CSWD\n"
     ]
    },
    {
     "name": "stdout",
     "output_type": "stream",
     "text": [
      "SUCCESS Chiang Mai\n"
     ]
    },
    {
     "name": "stderr",
     "output_type": "stream",
     "text": [
      "INFO:pyumi.epw:Getting weather file: IND_Trivandram.433710_ISHRAE\n"
     ]
    },
    {
     "name": "stdout",
     "output_type": "stream",
     "text": [
      "SUCCESS Kochi\n"
     ]
    },
    {
     "name": "stderr",
     "output_type": "stream",
     "text": [
      "INFO:pyumi.epw:Getting weather file: GHA_Accra.654720_SWERA\n"
     ]
    },
    {
     "name": "stdout",
     "output_type": "stream",
     "text": [
      "SUCCESS Yopougon\n"
     ]
    },
    {
     "name": "stderr",
     "output_type": "stream",
     "text": [
      "INFO:pyumi.epw:Getting weather file: RUS_Irkutsk.307100_IWEC\n"
     ]
    },
    {
     "name": "stdout",
     "output_type": "stream",
     "text": [
      "SUCCESS Irkutsk\n"
     ]
    },
    {
     "name": "stderr",
     "output_type": "stream",
     "text": [
      "INFO:pyumi.epw:Getting weather file: RUS_Moscow.276120_IWEC\n"
     ]
    },
    {
     "name": "stdout",
     "output_type": "stream",
     "text": [
      "SUCCESS Kursk\n"
     ]
    },
    {
     "name": "stderr",
     "output_type": "stream",
     "text": [
      "INFO:pyumi.epw:Getting weather file: CHN_Shaanxi.Yulin.536460_CSWD\n"
     ]
    },
    {
     "name": "stdout",
     "output_type": "stream",
     "text": [
      "SUCCESS Shenmu\n"
     ]
    },
    {
     "name": "stderr",
     "output_type": "stream",
     "text": [
      "INFO:pyumi.epw:Getting weather file: CHN_Liaoning.Dalian.546620_CSWD\n"
     ]
    },
    {
     "name": "stdout",
     "output_type": "stream",
     "text": [
      "SUCCESS Wafangdian\n"
     ]
    },
    {
     "name": "stderr",
     "output_type": "stream",
     "text": [
      "INFO:pyumi.epw:Getting weather file: TUR_Ankara.171280_IWEC\n"
     ]
    },
    {
     "name": "stdout",
     "output_type": "stream",
     "text": [
      "SUCCESS Merzifon\n"
     ]
    },
    {
     "name": "stderr",
     "output_type": "stream",
     "text": [
      "INFO:pyumi.epw:Getting weather file: CHN_Hebei.Raoyang.546060_CSWD\n"
     ]
    },
    {
     "name": "stdout",
     "output_type": "stream",
     "text": [
      "SUCCESS Anguo\n"
     ]
    },
    {
     "name": "stderr",
     "output_type": "stream",
     "text": [
      "INFO:pyumi.epw:Getting weather file: CHN_Shaanxi.Hanzhong.571270_CSWD\n"
     ]
    },
    {
     "name": "stdout",
     "output_type": "stream",
     "text": [
      "SUCCESS Hanzhong\n"
     ]
    },
    {
     "name": "stderr",
     "output_type": "stream",
     "text": [
      "INFO:pyumi.epw:Getting weather file: MEX_Mexico.City.766790_IWEC\n"
     ]
    },
    {
     "name": "stdout",
     "output_type": "stream",
     "text": [
      "SUCCESS Fresnillo\n"
     ]
    },
    {
     "name": "stderr",
     "output_type": "stream",
     "text": [
      "INFO:pyumi.epw:Getting weather file: ZAF_Johannesburg.683680_IWEC\n"
     ]
    },
    {
     "name": "stdout",
     "output_type": "stream",
     "text": [
      "SUCCESS Welkom\n"
     ]
    },
    {
     "name": "stderr",
     "output_type": "stream",
     "text": [
      "INFO:pyumi.epw:Getting weather file: CHN_Zhejiang.Dinghai.584770_CSWD\n"
     ]
    },
    {
     "name": "stdout",
     "output_type": "stream",
     "text": [
      "SUCCESS Ningbo\n"
     ]
    },
    {
     "name": "stderr",
     "output_type": "stream",
     "text": [
      "INFO:pyumi.epw:Getting weather file: KEN_Makindu.637660_SWERA\n"
     ]
    },
    {
     "name": "stdout",
     "output_type": "stream",
     "text": [
      "SUCCESS Arusha\n"
     ]
    },
    {
     "name": "stderr",
     "output_type": "stream",
     "text": [
      "INFO:pyumi.epw:Getting weather file: CHN_Guangdong.Zhengcheng.592940_CSWD\n"
     ]
    },
    {
     "name": "stdout",
     "output_type": "stream",
     "text": [
      "SUCCESS Huizhou\n"
     ]
    },
    {
     "name": "stderr",
     "output_type": "stream",
     "text": [
      "INFO:pyumi.epw:Getting weather file: IND_New.Delhi.421820_ISHRAE\n"
     ]
    },
    {
     "name": "stdout",
     "output_type": "stream",
     "text": [
      "SUCCESS Rohtak\n"
     ]
    },
    {
     "name": "stderr",
     "output_type": "stream",
     "text": [
      "INFO:pyumi.epw:Getting weather file: KEN_Kisumu.637080_SWERA\n"
     ]
    },
    {
     "name": "stdout",
     "output_type": "stream",
     "text": [
      "SUCCESS Mbandaka\n"
     ]
    },
    {
     "name": "stderr",
     "output_type": "stream",
     "text": [
      "INFO:pyumi.epw:Getting weather file: VEN_Caracas.804150_IWEC\n"
     ]
    },
    {
     "name": "stdout",
     "output_type": "stream",
     "text": [
      "SUCCESS Catia La Mar\n"
     ]
    },
    {
     "name": "stderr",
     "output_type": "stream",
     "text": [
      "INFO:pyumi.epw:Getting weather file: IND_Tiruchirapalli.433440_ISHRAE\n"
     ]
    },
    {
     "name": "stdout",
     "output_type": "stream",
     "text": [
      "SUCCESS Madurai\n"
     ]
    },
    {
     "name": "stderr",
     "output_type": "stream",
     "text": [
      "INFO:pyumi.epw:Getting weather file: CHN_Heilongjiang.Fujin.507880_CSWD\n"
     ]
    },
    {
     "name": "stdout",
     "output_type": "stream",
     "text": [
      "SUCCESS Khabarovsk\n"
     ]
    },
    {
     "name": "stderr",
     "output_type": "stream",
     "text": [
      "INFO:pyumi.epw:Getting weather file: CHN_Shanxi.Yuncheng.539590_CSWD\n"
     ]
    },
    {
     "name": "stdout",
     "output_type": "stream",
     "text": [
      "SUCCESS Yongji\n"
     ]
    },
    {
     "name": "stderr",
     "output_type": "stream",
     "text": [
      "INFO:pyumi.epw:Getting weather file: CHN_Gansu.Jiuquan.525330_CSWD\n"
     ]
    },
    {
     "name": "stdout",
     "output_type": "stream",
     "text": [
      "SUCCESS Jiayuguan\n"
     ]
    },
    {
     "name": "stderr",
     "output_type": "stream",
     "text": [
      "INFO:pyumi.epw:Getting weather file: UKR_Odessa.338370_IWEC\n"
     ]
    },
    {
     "name": "stdout",
     "output_type": "stream",
     "text": [
      "SUCCESS Odesa\n"
     ]
    },
    {
     "name": "stderr",
     "output_type": "stream",
     "text": [
      "INFO:pyumi.epw:Getting weather file: CAN_BC_Vancouver.718920_CWEC\n"
     ]
    },
    {
     "name": "stdout",
     "output_type": "stream",
     "text": [
      "SUCCESS New Westminster\n"
     ]
    },
    {
     "name": "stderr",
     "output_type": "stream",
     "text": [
      "INFO:pyumi.epw:Getting weather file: IRN_Tehran-Mehrabad.407540_ITMY\n"
     ]
    },
    {
     "name": "stdout",
     "output_type": "stream",
     "text": [
      "SUCCESS Gorgān\n"
     ]
    },
    {
     "name": "stderr",
     "output_type": "stream",
     "text": [
      "INFO:pyumi.epw:Getting weather file: CHN_Hebei.Leting.545390_CSWD\n"
     ]
    },
    {
     "name": "stdout",
     "output_type": "stream",
     "text": [
      "SUCCESS Tangshan\n"
     ]
    },
    {
     "name": "stderr",
     "output_type": "stream",
     "text": [
      "INFO:pyumi.epw:Getting weather file: CHL_Santiago.855740_IWEC\n"
     ]
    },
    {
     "name": "stdout",
     "output_type": "stream",
     "text": [
      "SUCCESS Peñalolén\n"
     ]
    },
    {
     "name": "stderr",
     "output_type": "stream",
     "text": [
      "INFO:pyumi.epw:Getting weather file: MAR_Casablanca.Nouasser.601560_IWEC\n"
     ]
    },
    {
     "name": "stdout",
     "output_type": "stream",
     "text": [
      "SUCCESS Agadir\n"
     ]
    },
    {
     "name": "stderr",
     "output_type": "stream",
     "text": [
      "INFO:pyumi.epw:Getting weather file: CHN_Jiangxi.Nancheng.587150_CSWD\n"
     ]
    },
    {
     "name": "stdout",
     "output_type": "stream",
     "text": [
      "SUCCESS Fuzhou\n"
     ]
    },
    {
     "name": "stderr",
     "output_type": "stream",
     "text": [
      "INFO:pyumi.epw:Getting weather file: GRC_Andravida.166820_IWEC\n"
     ]
    },
    {
     "name": "stdout",
     "output_type": "stream",
     "text": [
      "SUCCESS Ajdābiyā\n"
     ]
    },
    {
     "name": "stderr",
     "output_type": "stream",
     "text": [
      "INFO:pyumi.epw:Getting weather file: MAC_Macau.450110_IWEC\n"
     ]
    },
    {
     "name": "stdout",
     "output_type": "stream",
     "text": [
      "SUCCESS Zhuhai\n"
     ]
    },
    {
     "name": "stderr",
     "output_type": "stream",
     "text": [
      "INFO:pyumi.epw:Getting weather file: IND_Amritsar.420710_ISHRAE\n"
     ]
    },
    {
     "name": "stdout",
     "output_type": "stream",
     "text": [
      "SUCCESS Bhawana\n"
     ]
    },
    {
     "name": "stderr",
     "output_type": "stream",
     "text": [
      "INFO:pyumi.epw:Getting weather file: IND_Guwahati.424100_ISHRAE\n"
     ]
    },
    {
     "name": "stdout",
     "output_type": "stream",
     "text": [
      "SUCCESS Guwāhāti\n"
     ]
    },
    {
     "name": "stderr",
     "output_type": "stream",
     "text": [
      "INFO:pyumi.epw:Getting weather file: SAU_Riyadh.404380_IWEC\n"
     ]
    },
    {
     "name": "stdout",
     "output_type": "stream",
     "text": [
      "SUCCESS Al Hufūf\n"
     ]
    },
    {
     "name": "stderr",
     "output_type": "stream",
     "text": [
      "INFO:pyumi.epw:Getting weather file: IND_Ranchi.427010_ISHRAE\n"
     ]
    },
    {
     "name": "stdout",
     "output_type": "stream",
     "text": [
      "SUCCESS Jamshedpur\n"
     ]
    },
    {
     "name": "stderr",
     "output_type": "stream",
     "text": [
      "INFO:pyumi.epw:Getting weather file: RUS_Moscow.276120_IWEC\n"
     ]
    },
    {
     "name": "stdout",
     "output_type": "stream",
     "text": [
      "SUCCESS Yaroslavl\n"
     ]
    },
    {
     "name": "stderr",
     "output_type": "stream",
     "text": [
      "INFO:pyumi.epw:Getting weather file: FIN_Helsinki.029740_IWEC\n"
     ]
    },
    {
     "name": "stdout",
     "output_type": "stream",
     "text": [
      "SUCCESS Tallinn\n"
     ]
    },
    {
     "name": "stderr",
     "output_type": "stream",
     "text": [
      "INFO:pyumi.epw:Getting weather file: CHN_Shanxi.Taiyuan.537720_CSWD\n"
     ]
    },
    {
     "name": "stdout",
     "output_type": "stream",
     "text": [
      "SUCCESS Gujiao\n"
     ]
    },
    {
     "name": "stderr",
     "output_type": "stream",
     "text": [
      "INFO:pyumi.epw:Getting weather file: USA_NY_Buffalo-Greater.Buffalo.Intl.AP.725280_TMY\n"
     ]
    },
    {
     "name": "stdout",
     "output_type": "stream",
     "text": [
      "SUCCESS Buffalo\n"
     ]
    },
    {
     "name": "stderr",
     "output_type": "stream",
     "text": [
      "INFO:pyumi.epw:Getting weather file: UZB_Tashkent.384570_IWEC\n"
     ]
    },
    {
     "name": "stdout",
     "output_type": "stream",
     "text": [
      "SUCCESS Qo‘qon\n"
     ]
    },
    {
     "name": "stderr",
     "output_type": "stream",
     "text": [
      "INFO:pyumi.epw:Getting weather file: CHN_Hubei.Yunxi.572510_CSWD\n"
     ]
    },
    {
     "name": "stdout",
     "output_type": "stream",
     "text": [
      "SUCCESS Shiyan\n"
     ]
    },
    {
     "name": "stderr",
     "output_type": "stream",
     "text": [
      "INFO:pyumi.epw:Getting weather file: MEX_Mexico.City.766790_IWEC\n"
     ]
    },
    {
     "name": "stdout",
     "output_type": "stream",
     "text": [
      "SUCCESS Guadalupe\n"
     ]
    },
    {
     "name": "stderr",
     "output_type": "stream",
     "text": [
      "INFO:pyumi.epw:Getting weather file: USA_CA_Stockton.Metro.AP.724920_TMY3\n"
     ]
    },
    {
     "name": "stdout",
     "output_type": "stream",
     "text": [
      "SUCCESS Stockton\n"
     ]
    },
    {
     "name": "stderr",
     "output_type": "stream",
     "text": [
      "INFO:pyumi.epw:Getting weather file: CHN_Hunan.Zhuzhou.577800_CSWD\n"
     ]
    },
    {
     "name": "stdout",
     "output_type": "stream",
     "text": [
      "SUCCESS Zhuzhou\n"
     ]
    },
    {
     "name": "stderr",
     "output_type": "stream",
     "text": [
      "INFO:pyumi.epw:Getting weather file: IND_Sundernagar.8204_ISHRAE\n"
     ]
    },
    {
     "name": "stdout",
     "output_type": "stream",
     "text": [
      "SUCCESS Padiāla\n"
     ]
    },
    {
     "name": "stderr",
     "output_type": "stream",
     "text": [
      "INFO:pyumi.epw:Getting weather file: AUS_QLD.Brisbane.945780_IWEC\n"
     ]
    },
    {
     "name": "stdout",
     "output_type": "stream",
     "text": [
      "SUCCESS Brisbane\n"
     ]
    },
    {
     "name": "stderr",
     "output_type": "stream",
     "text": [
      "INFO:pyumi.epw:Getting weather file: KWT_Kuwait.Intl.AP.405820_KISR\n"
     ]
    },
    {
     "name": "stdout",
     "output_type": "stream",
     "text": [
      "SUCCESS Madan\n"
     ]
    },
    {
     "name": "stderr",
     "output_type": "stream",
     "text": [
      "INFO:pyumi.epw:Getting weather file: Niterói_RJ_BRA\n"
     ]
    },
    {
     "name": "stdout",
     "output_type": "stream",
     "text": [
      "SUCCESS São Gonçalo\n"
     ]
    },
    {
     "name": "stderr",
     "output_type": "stream",
     "text": [
      "INFO:pyumi.epw:Getting weather file: GHA_Accra.654720_SWERA\n"
     ]
    },
    {
     "name": "stdout",
     "output_type": "stream",
     "text": [
      "SUCCESS Jalingo\n"
     ]
    },
    {
     "name": "stderr",
     "output_type": "stream",
     "text": [
      "INFO:pyumi.epw:Getting weather file: SGP_Singapore.486980_IWEC\n"
     ]
    },
    {
     "name": "stdout",
     "output_type": "stream",
     "text": [
      "SUCCESS Palembang\n"
     ]
    },
    {
     "name": "stderr",
     "output_type": "stream",
     "text": [
      "INFO:pyumi.epw:Getting weather file: CHN_Heilongjiang.Shangzhi.509680_CSWD\n"
     ]
    },
    {
     "name": "stdout",
     "output_type": "stream",
     "text": [
      "SUCCESS Shangzhi\n"
     ]
    },
    {
     "name": "stderr",
     "output_type": "stream",
     "text": [
      "INFO:pyumi.epw:Getting weather file: CAN_PQ_Montreal.Intl.AP.716270_CWEC\n"
     ]
    },
    {
     "name": "stdout",
     "output_type": "stream",
     "text": [
      "SUCCESS Laval\n"
     ]
    },
    {
     "name": "stderr",
     "output_type": "stream",
     "text": [
      "INFO:pyumi.epw:Getting weather file: USA_ID_Caldwell.AWOS.726813_TMY3\n"
     ]
    },
    {
     "name": "stdout",
     "output_type": "stream",
     "text": [
      "SUCCESS Nampa\n"
     ]
    },
    {
     "name": "stderr",
     "output_type": "stream",
     "text": [
      "INFO:pyumi.epw:Getting weather file: UKR_Odessa.338370_IWEC\n"
     ]
    },
    {
     "name": "stdout",
     "output_type": "stream",
     "text": [
      "SUCCESS Dnipro\n"
     ]
    },
    {
     "name": "stderr",
     "output_type": "stream",
     "text": [
      "INFO:pyumi.epw:Getting weather file: TUR_Ankara.171280_IWEC\n"
     ]
    },
    {
     "name": "stdout",
     "output_type": "stream",
     "text": [
      "SUCCESS Meram\n"
     ]
    },
    {
     "name": "stderr",
     "output_type": "stream",
     "text": [
      "INFO:pyumi.epw:Getting weather file: CHN_Gansu.Tianshui.570060_CSWD\n"
     ]
    },
    {
     "name": "stdout",
     "output_type": "stream",
     "text": [
      "SUCCESS Qincheng\n"
     ]
    },
    {
     "name": "stderr",
     "output_type": "stream",
     "text": [
      "INFO:pyumi.epw:Getting weather file: USA_CA_Camarillo.AWOS.723926_TMY3\n"
     ]
    },
    {
     "name": "stdout",
     "output_type": "stream",
     "text": [
      "SUCCESS Thousand Oaks\n"
     ]
    },
    {
     "name": "stderr",
     "output_type": "stream",
     "text": [
      "INFO:pyumi.epw:Getting weather file: USA_CA_Riverside.Muni.AP.722869_TMY3\n"
     ]
    },
    {
     "name": "stdout",
     "output_type": "stream",
     "text": [
      "SUCCESS Victorville\n"
     ]
    },
    {
     "name": "stderr",
     "output_type": "stream",
     "text": [
      "INFO:pyumi.epw:Getting weather file: CHN_Jiangxi.Nanjing.582380_SWERA\n"
     ]
    },
    {
     "name": "stdout",
     "output_type": "stream",
     "text": [
      "SUCCESS Chuzhou\n"
     ]
    },
    {
     "name": "stderr",
     "output_type": "stream",
     "text": [
      "INFO:pyumi.epw:Getting weather file: KWT_Kuwait.Intl.AP.405820_KISR\n"
     ]
    },
    {
     "name": "stdout",
     "output_type": "stream",
     "text": [
      "SUCCESS Ad Dīwānīyah\n"
     ]
    },
    {
     "name": "stderr",
     "output_type": "stream",
     "text": [
      "INFO:pyumi.epw:Getting weather file: CHN_Jilin.Linjiang.543740_CSWD\n"
     ]
    },
    {
     "name": "stdout",
     "output_type": "stream",
     "text": [
      "SUCCESS Kuaidamao\n"
     ]
    },
    {
     "name": "stderr",
     "output_type": "stream",
     "text": [
      "INFO:pyumi.epw:Getting weather file: KWT_Kuwait.Intl.AP.405820_KISR\n"
     ]
    },
    {
     "name": "stdout",
     "output_type": "stream",
     "text": [
      "SUCCESS Az Zubayr\n"
     ]
    },
    {
     "name": "stderr",
     "output_type": "stream",
     "text": [
      "INFO:pyumi.epw:Getting weather file: IND_Gwalior.423610_ISHRAE\n"
     ]
    },
    {
     "name": "stdout",
     "output_type": "stream",
     "text": [
      "SUCCESS Gwalior\n"
     ]
    },
    {
     "name": "stderr",
     "output_type": "stream",
     "text": [
      "INFO:pyumi.epw:Getting weather file: GHA_Accra.654720_SWERA\n"
     ]
    },
    {
     "name": "stdout",
     "output_type": "stream",
     "text": [
      "SUCCESS Jos\n"
     ]
    },
    {
     "name": "stderr",
     "output_type": "stream",
     "text": [
      "INFO:pyumi.epw:Getting weather file: GHA_Accra.654720_SWERA\n"
     ]
    },
    {
     "name": "stdout",
     "output_type": "stream",
     "text": [
      "SUCCESS Aba\n"
     ]
    }
   ],
   "source": [
    "import random\n",
    "import pandas as pd\n",
    "from pathlib import Path\n",
    "from pyumi.epw import Epw\n",
    "import time\n",
    "\n",
    "# Get list of 8k most populous cities with their CZs\n",
    "df = pd.read_csv(\"8k_Cities_w_CZ.csv\")\n",
    "\n",
    "# Drop any which errored when fetching cz\n",
    "df = df[~(df[\"CZ\"].isna())]\n",
    "\n",
    "# Sort by CZ, then population\n",
    "df = df.sort_values(by=[\"CZ\",\"population\"],ascending=False)\n",
    "\n",
    "\n",
    "# Make a dict of columns and add a few then create new df\n",
    "cols = {col: [] for col in df.columns}\n",
    "cols[\"idx\"] = []\n",
    "cols[\"slug\"] = []\n",
    "top_cities = pd.DataFrame(cols)\n",
    "\n",
    "# Get the nth most populous city in each climate zone, then fetch epw\n",
    "for i in range(50):\n",
    "    for cz in df[\"CZ\"].unique():\n",
    "        # Get the cities in each climate zone\n",
    "        czdf = df[df[\"CZ\"] == cz]\n",
    "\n",
    "        # make sure the nth most populous city is defined for this cz\n",
    "        if i < len(czdf):\n",
    "            # Get the lat lon and try to download epw\n",
    "            city = czdf.iloc[i]\n",
    "            lat = city[\"lat\"]\n",
    "            lng = city[\"lng\"]\n",
    "            try:\n",
    "                time.sleep(random.random()*5+1)\n",
    "                city_epw = Epw.from_nrel(lat=lat,lon=lng)\n",
    "            except BaseException as e:\n",
    "                print(e)\n",
    "                print(\"FAILED:\",city[\"city\"])\n",
    "                continue\n",
    "            else:\n",
    "                # Save the epw and add it to the array\n",
    "                print(\"SUCCESS\",city[\"city\"])\n",
    "                slug = f\"cityidx_{len(top_cities):04d}_{city_epw.name}\"\n",
    "                out_path = Path(\"./global_epws_indexed\") / slug\n",
    "                city_epw.save(out_path)\n",
    "                city[\"slug\"] = slug\n",
    "                city[\"idx\"] = len(top_cities)\n",
    "                top_cities.loc[len(top_cities)] = city\n",
    "\n",
    "# save the results and paths\n",
    "top_cities.to_csv(Path(\"./global_epws_indexed.csv\"))"
   ]
  },
  {
   "cell_type": "markdown",
   "metadata": {},
   "source": [
    "### Old Loop for ResStock 'cities.csv' "
   ]
  },
  {
   "cell_type": "code",
   "execution_count": null,
   "metadata": {},
   "outputs": [
    {
     "name": "stderr",
     "output_type": "stream",
     "text": [
      "INFO:pyumi.epw:Getting weather file: CZ09RV2\n",
      "INFO:pyumi.epw:Getting weather file: USA_NY_New.York-Central.Park.725033_TMY3\n",
      "INFO:pyumi.epw:Getting weather file: USA_FL_Southwest.Florida.Intl.AP.722108_TMY3\n",
      "INFO:pyumi.epw:Getting weather file: USA_CA_Stockton.Metro.AP.724920_TMY3\n",
      "INFO:pyumi.epw:Getting weather file: USA_IL_Cahokia.AP.725314_TMY3\n",
      "INFO:pyumi.epw:Getting weather file: USA_TX_Houston-William.P.Hobby.AP.722435_TMY3\n",
      "INFO:pyumi.epw:Getting weather file: USA_CA_Santa.Ana-John.Wayne.AP.722977_TMY3\n",
      "INFO:pyumi.epw:Getting weather file: USA_OK_Tulsa.723560_TMY2\n",
      "INFO:pyumi.epw:Getting weather file: USA_OH_Dayton-Wright.Patterson.AFB.745700_TMY\n",
      "INFO:pyumi.epw:Getting weather file: USA_MI_Grand.Rapids-Kent.County.Intl.AP.726350_TMY\n",
      "INFO:pyumi.epw:Getting weather file: USA_GA_Dekalb.Peachtree.AP.722196_TMY3\n",
      "INFO:pyumi.epw:Getting weather file: USA_WA_Snohomish.County.AP.727937_TMY3\n",
      "INFO:pyumi.epw:Getting weather file: USA_MD_Baltimore-Washington.Intl.AP.724060_TMY\n",
      "INFO:pyumi.epw:Getting weather file: USA_OH_Akron.725210_TMY2\n",
      "INFO:pyumi.epw:Getting weather file: USA_AZ_Flagstaff-Pulliam.AP.723755_TMY3\n",
      "INFO:pyumi.epw:Getting weather file: USA_WI_Milwaukee-Mitchell.Intl.AP.726400_TMY\n",
      "INFO:pyumi.epw:Getting weather file: USA_PA_Philadelphia.Intl.AP.724080_TMY3\n",
      "INFO:pyumi.epw:Getting weather file: USA_CA_Santa.Barbara.Muni.AP.723925_TMY3\n",
      "INFO:pyumi.epw:Getting weather file: USA_CO_Colorado.Springs-Peterson.Field.724660_TMY\n",
      "INFO:pyumi.epw:Getting weather file: USA_FL_Fort.Lauderdale.Executive.AP.722039_TMY3\n",
      "INFO:pyumi.epw:Getting weather file: USA_CT_New.Haven-Tweed.AP.725045_TMY3\n",
      "INFO:pyumi.epw:Getting weather file: USA_AR_Little.Rock-Adams.Field.723403_TMY3\n",
      "INFO:pyumi.epw:Getting weather file: USA_CA_Napa.County.AP.724955_TMY3\n",
      "INFO:pyumi.epw:Getting weather file: USA_KS_Olathe-Johnson.County.Executive.AP.724468_TMY3\n",
      "INFO:pyumi.epw:Getting weather file: USA_IL_Chicago-Midway.AP.725340_TMY\n",
      "INFO:pyumi.epw:Getting weather file: USA_WA_Spokane-Felts.Field.727856_TMY3\n",
      "INFO:pyumi.epw:Getting weather file: USA_OH_Youngstown.Rgnl.AP.725250_TMY3\n",
      "INFO:pyumi.epw:Getting weather file: USA_NV_Las.Vegas-McCarran.Intl.AP.723860_TMY\n",
      "INFO:pyumi.epw:Getting weather file: USA_NV_Las.Vegas-McCarran.Intl.AP.723860_TMY3\n",
      "INFO:pyumi.epw:Getting weather file: USA_FL_Tampa.722110_TMY2\n",
      "INFO:pyumi.epw:Getting weather file: USA_FL_Daytona.Beach.722056_TMY2\n",
      "INFO:pyumi.epw:Getting weather file: USA_TX_Dallas-Addison.AP.722598_TMY3\n",
      "INFO:pyumi.epw:Getting weather file: USA_TX_Dallas-Addison.AP.722598_TMY3\n",
      "INFO:pyumi.epw:Getting weather file: USA_VA_Arlington-Ronald.Reagan.Washington.Natl.AP.724050_TMY3\n",
      "INFO:pyumi.epw:Getting weather file: USA_WY_Casper-Natrona.County.Intl.AP.725690_TMY3\n",
      "INFO:pyumi.epw:Getting weather file: USA_NM_Albuquerque.723650_TMY2\n",
      "INFO:pyumi.epw:Getting weather file: USA_TX_Dallas-Love.Field.722583_TMY3\n",
      "INFO:pyumi.epw:Getting weather file: USA_IN_Fort.Wayne.725330_TMY2\n",
      "INFO:pyumi.epw:Getting weather file: USA_CA_Mountain.View-Moffett.Field.NAS.745090_TMY3\n",
      "INFO:pyumi.epw:Getting weather file: USA_IA_Waterloo.725480_TMY2\n",
      "INFO:pyumi.epw:Getting weather file: USA_PA_Pittsburgh-Allegheny.County.AP.725205_TMY3\n",
      "INFO:pyumi.epw:Getting weather file: USA_AR_Fort.Smith.723440_TMY2\n",
      "INFO:pyumi.epw:Getting weather file: USA_NC_Charlotte-Douglas.Intl.AP.723140_TMY\n",
      "INFO:pyumi.epw:Getting weather file: USA_CO_Greeley-Weld.County.AWOS.724768_TMY3\n",
      "INFO:pyumi.epw:Getting weather file: USA_FL_Fort.Lauderdale.Executive.AP.722039_TMY3\n",
      "INFO:pyumi.epw:Getting weather file: USA_WI_Milwaukee-Mitchell.Intl.AP.726400_TMY\n",
      "INFO:pyumi.epw:Getting weather file: USA_OK_Oklahoma.City-Tinker.AFB.723540_TMY3\n",
      "INFO:pyumi.epw:Getting weather file: USA_OH_Cincinnati.Muni.AP-Lunken.Field.724297_TMY3\n",
      "INFO:pyumi.epw:Getting weather file: USA_NH_Manchester.Muni.AP.743945_TMY3\n",
      "INFO:pyumi.epw:Getting weather file: USA_FL_St.Petersburg-Clearwater.Intl.AP.722116_TMY3\n",
      "INFO:pyumi.epw:Getting weather file: USA_NV_Nellis.AFB.723865_TMY3\n",
      "INFO:pyumi.epw:Getting weather file: USA_TX_Harlingen-Valley.Intl.AP.722505_TMY3\n",
      "INFO:pyumi.epw:Getting weather file: USA_ND_Grand.Forks.Intl.AP.727576_TMY3\n",
      "INFO:pyumi.epw:Getting weather file: USA_IA_Des.Moines.Intl.AP.725460_TMY3\n",
      "INFO:pyumi.epw:Getting weather file: USA_NY_Rochester-Greater.Rochester.Intl.AP.725290_TMY\n",
      "INFO:pyumi.epw:Getting weather file: USA_MN_St.Paul-Downtown.AP.726584_TMY3\n",
      "INFO:pyumi.epw:Getting weather file: USA_TX_College.Station-Easterwood.Field.722445_TMY3\n",
      "INFO:pyumi.epw:Getting weather file: USA_TN_Memphis.723340_TMY2\n",
      "INFO:pyumi.epw:Getting weather file: USA_FL_Fort.Myers-Page.Field.722106_TMY3\n",
      "INFO:pyumi.epw:Getting weather file: USA_FL_Melbourne.Rgnl.AP.722040_TMY3\n",
      "INFO:pyumi.epw:Getting weather file: USA_MI_Detroit-City.AP.725375_TMY3\n",
      "INFO:pyumi.epw:Getting weather file: USA_FL_West.Palm.Beach.Intl.AP.722030_TMY\n",
      "INFO:pyumi.epw:Getting weather file: USA_SC_Greenville-Downtown.AP.723119_TMY3\n",
      "INFO:pyumi.epw:Getting weather file: USA_CO_Denver-Stapleton.724690_TMY\n",
      "INFO:pyumi.epw:Getting weather file: USA_MA_Worcester.725095_TMY2\n",
      "INFO:pyumi.epw:Getting weather file: USA_WI_Janesville-Rock.County.AP.726415_TMY3\n",
      "INFO:pyumi.epw:Getting weather file: USA_CA_Chino.AP.722899_TMY3\n",
      "INFO:pyumi.epw:Getting weather file: USA_VA_Arlington-Ronald.Reagan.Washington.Natl.AP.724050_TMY3\n",
      "INFO:pyumi.epw:Getting weather file: USA_NE_Omaha-Eppley.Airfield.725500_TMY\n",
      "INFO:pyumi.epw:Getting weather file: USA_RI_Providence-T.F.Green.State.AP.725070_TMY\n",
      "INFO:pyumi.epw:Getting weather file: USA_CO_Boulder.724699_TMY2\n",
      "INFO:pyumi.epw:Getting weather file: USA_AZ_Phoenix-Sky.Harbor.Intl.AP.722780_TMY\n",
      "INFO:pyumi.epw:Getting weather file: USA_KY_Lexington-Bluegrass.AP.724220_TMY\n",
      "INFO:pyumi.epw:Getting weather file: USA_NV_Las.Vegas-McCarran.Intl.AP.723860_TMY\n",
      "INFO:pyumi.epw:Getting weather file: USA_CA_Van.Nuys.AP.722886_TMY3\n",
      "INFO:pyumi.epw:Getting weather file: USA_WA_Yakima.727810_TMY2\n",
      "INFO:pyumi.epw:Getting weather file: USA_CA_Fresno.723890_TMY2\n",
      "INFO:pyumi.epw:Getting weather file: USA_CA_San.Jose.Intl.AP.724945_TMY3\n",
      "INFO:pyumi.epw:Getting weather file: USA_WA_Seattle-Boeing.Field.727935_TMY3\n",
      "INFO:pyumi.epw:Getting weather file: USA_SD_Ellsworth.AFB.726625_TMY3\n",
      "INFO:pyumi.epw:Getting weather file: USA_MI_Detroit-City.AP.725375_TMY\n",
      "INFO:pyumi.epw:Getting weather file: USA_FL_Miami.722020_TMY2\n",
      "INFO:pyumi.epw:Getting weather file: USA_AL_Birmingham.722280_TMY2\n",
      "INFO:pyumi.epw:Getting weather file: USA_WI_Milwaukee-Mitchell.Intl.AP.726400_TMY\n",
      "INFO:pyumi.epw:Getting weather file: USA_TX_Longview-Gregg.County.AP.722470_TMY3\n",
      "INFO:pyumi.epw:Getting weather file: USA_OK_Oklahoma.City-Wiley.Post.Field.723544_TMY3\n",
      "INFO:pyumi.epw:Getting weather file: USA_NV_Las.Vegas-McCarran.Intl.AP.723860_TMY3\n",
      "INFO:pyumi.epw:Getting weather file: USA_CA_San.Diego-Lindbergh.Field.722900_TMY\n",
      "INFO:pyumi.epw:Getting weather file: USA_FL_Miami.722020_TMY2\n",
      "INFO:pyumi.epw:Getting weather file: USA_WA_Renton.Muni.AP.727934_TMY3\n",
      "INFO:pyumi.epw:Getting weather file: USA_TX_Midland-Odessa.722650_TMY2\n",
      "INFO:pyumi.epw:Getting weather file: USA_CA_Bakersfield.723840_TMY2\n",
      "INFO:pyumi.epw:Getting weather file: USA_FL_Fort.Lauderdale.Intl.AP.722025_TMY3\n",
      "INFO:pyumi.epw:Getting weather file: USA_CT_Danbury.Muni.AP.725086_TMY3\n",
      "INFO:pyumi.epw:Getting weather file: USA_LA_Barksdale.AFB.722485_TMY3\n",
      "INFO:pyumi.epw:Getting weather file: USA_MD_Salisbury-Wicomico.County.Rgnl.AP.724045_TMY3\n",
      "INFO:pyumi.epw:Getting weather file: USA_IL_Chicago-Midway.AP.725340_TMY\n",
      "INFO:pyumi.epw:Getting weather file: USA_CO_Fort.Collins.AWOS.724769_TMY3\n",
      "INFO:pyumi.epw:Getting weather file: USA_UT_Salt.Lake.City.725720_TMY2\n",
      "INFO:pyumi.epw:Getting weather file: USA_CO_Pueblo.724640_TMY2\n",
      "INFO:pyumi.epw:Getting weather file: USA_FL_Orlando.Executive.AP.722053_TMY\n",
      "INFO:pyumi.epw:Getting weather file: USA_MN_Minneapolis-St.Paul.Intl.AP.726580_TMY3\n",
      "INFO:pyumi.epw:Getting weather file: USA_VA_Langley.AFB.745980_TMY3\n",
      "INFO:pyumi.epw:Getting weather file: USA_CA_San.Jose.Intl.AP.724945_TMY3\n",
      "INFO:pyumi.epw:Getting weather file: USA_IN_Delaware.County-Johnson.Field.725336_TMY3\n",
      "INFO:pyumi.epw:Getting weather file: USA_CA_Santa.Monica.Muni.AP.722885_TMY3\n",
      "INFO:pyumi.epw:Getting weather file: USA_MN_Minneapolis-St.Paul.Intl.AP.726580_TMY3\n",
      "INFO:pyumi.epw:Getting weather file: USA_NC_Greensboro-Piedmont.Triad.Intl.AP.723170_TMY\n",
      "INFO:pyumi.epw:Getting weather file: USA_GA_Macon-Middle.Georgia.Rgnl.AP.722170_TMY\n",
      "INFO:pyumi.epw:Getting weather file: USA_FL_St.Petersburg-Clearwater.Intl.AP.722116_TMY3\n",
      "INFO:pyumi.epw:Getting weather file: USA_IL_Chicago-Midway.AP.725340_TMY\n",
      "INFO:pyumi.epw:Getting weather file: USA_MT_Great.Falls.727755_TMY2\n",
      "INFO:pyumi.epw:Getting weather file: USA_FL_St.Petersburg-Albert.Whitted.Station.722104_TMY3\n",
      "INFO:pyumi.epw:Getting weather file: USA_MI_Detroit.Metro.AP.725370_TMY3\n",
      "INFO:pyumi.epw:Getting weather file: USA_NC_Asheville.Rgnl.AP.723150_TMY\n",
      "INFO:pyumi.epw:Getting weather file: USA_CA_Palmdale.AP.723820_TMY3\n",
      "INFO:pyumi.epw:Getting weather file: USA_CA_March.AFB.722860_TMY3\n",
      "INFO:pyumi.epw:Getting weather file: USA_CO_Denver-Stapleton.724690_TMY\n",
      "INFO:pyumi.epw:Getting weather file: USA_TN_Memphis.Intl.AP.723340_TMY3\n",
      "INFO:pyumi.epw:Getting weather file: USA_NY_New.York-LaGuardia.AP.725030_TMY\n",
      "INFO:pyumi.epw:Getting weather file: USA_OH_Dayton-Wright.Patterson.AFB.745700_TMY\n",
      "INFO:pyumi.epw:Getting weather file: USA_MN_St.Paul-Downtown.AP.726584_TMY3\n",
      "INFO:pyumi.epw:Getting weather file: USA_FL_Fort.Pierce-St.Lucie.County.AP.722103_TMY3\n",
      "INFO:pyumi.epw:Getting weather file: USA_CA_Fullerton.Muni.AP.722976_TMY3\n",
      "INFO:pyumi.epw:Getting weather file: USA_VA_Arlington-Ronald.Reagan.Washington.Natl.AP.724050_TMY3\n",
      "INFO:pyumi.epw:Getting weather file: USA_TX_Beaumont-Port.Arthur.722410_TMY2\n",
      "INFO:pyumi.epw:Getting weather file: USA_MN_Minneapolis-Crystal.AP.726575_TMY3\n",
      "INFO:pyumi.epw:Getting weather file: USA_KS_Wichita.724500_TMY2\n",
      "INFO:pyumi.epw:Getting weather file: USA_FL_Melbourne.Rgnl.AP.722040_TMY3\n",
      "INFO:pyumi.epw:Getting weather file: USA_AZ_Luke.AFB.722785_TMY3\n",
      "INFO:pyumi.epw:Getting weather file: USA_NV_Reno-Tahoe.Intl.AP.724880_TMY\n",
      "INFO:pyumi.epw:Getting weather file: USA_AZ_Phoenix-Sky.Harbor.Intl.AP.722780_TMY3\n",
      "INFO:pyumi.epw:Getting weather file: USA_CT_Bridgeport-Sikorsky.Mem.AP.725040_TMY3\n",
      "INFO:pyumi.epw:Getting weather file: USA_ND_Fargo-Hector.Intl.AP.727530_TMY\n",
      "INFO:pyumi.epw:Getting weather file: USA_AZ_Yuma.Intl.AP.722800_TMY3\n",
      "INFO:pyumi.epw:Getting weather file: USA_CA_Santa.Ana-John.Wayne.AP.722977_TMY3\n",
      "INFO:pyumi.epw:Getting weather file: USA_VA_Langley.AFB.745980_TMY3\n",
      "INFO:pyumi.epw:Getting weather file: USA_MN_Minneapolis-Crystal.AP.726575_TMY3\n",
      "INFO:pyumi.epw:Getting weather file: USA_UT_Provo.Muni.AWOS.725724_TMY3\n",
      "INFO:pyumi.epw:Getting weather file: USA_IA_Cedar.Rapids.Muni.AP.725450_TMY3\n",
      "INFO:pyumi.epw:Getting weather file: USA_MA_Norwood.Mem.AP.725098_TMY3\n",
      "INFO:pyumi.epw:Getting weather file: USA_CA_Stockton.Metro.AP.724920_TMY3\n",
      "INFO:pyumi.epw:Getting weather file: USA_FL_West.Palm.Beach.722030_TMY2\n",
      "INFO:pyumi.epw:Getting weather file: USA_MT_Billings-Logan.Intl.AP.726770_TMY\n",
      "INFO:pyumi.epw:Getting weather file: USA_MA_Chicopee.Falls-Westover.AFB.744910_TMY3\n",
      "INFO:pyumi.epw:Getting weather file: USA_IL_Springfield.724390_TMY2\n",
      "INFO:pyumi.epw:Getting weather file: USA_AZ_Phoenix-Deer.Valley.AP.722784_TMY3\n",
      "INFO:pyumi.epw:Getting weather file: USA_MI_Flint.726370_TMY2\n",
      "INFO:pyumi.epw:Getting weather file: USA_AZ_Phoenix-Sky.Harbor.Intl.AP.722780_TMY3\n",
      "INFO:pyumi.epw:Getting weather file: USA_TX_San.Antonio-Kelly.AFB.722535_TMY3\n",
      "INFO:pyumi.epw:Getting weather file: USA_NC_Raleigh-Durham.723060_TMY2\n",
      "INFO:pyumi.epw:Getting weather file: USA_WY_Cheyenne.725640_TMY2\n",
      "INFO:pyumi.epw:Getting weather file: USA_IL_Rockford-Greater.Rockford.AP.725430_TMY3\n",
      "INFO:pyumi.epw:Getting weather file: USA_CA_San.Francisco.Intl.AP.724940_TMY3\n",
      "INFO:pyumi.epw:Getting weather file: USA_FL_Fort.Lauderdale.Intl.AP.722025_TMY3\n",
      "INFO:pyumi.epw:Getting weather file: USA_NC_Charlotte-Douglas.Intl.AP.723140_TMY3\n",
      "INFO:pyumi.epw:Getting weather file: USA_NY_New.York-Central.Park.725033_TMY3\n",
      "INFO:pyumi.epw:Getting weather file: USA_AZ_Casa.Grande.AWOS.722748_TMY3\n",
      "INFO:pyumi.epw:Getting weather file: USA_FL_Gainesville.Rgnl.AP.722146_TMY3\n",
      "INFO:pyumi.epw:Getting weather file: USA_OK_Oklahoma.City-Will.Rogers.World.AP.723530_TMY\n",
      "INFO:pyumi.epw:Getting weather file: USA_OH_Cleveland-Hopkins.Intl.AP.725240_TMY3\n",
      "INFO:pyumi.epw:Getting weather file: USA_TN_Nashville.723270_TMY2\n",
      "INFO:pyumi.epw:Getting weather file: USA_TX_Dallas-Addison.AP.722598_TMY3\n",
      "INFO:pyumi.epw:Getting weather file: USA_CA_Fullerton.Muni.AP.722976_TMY3\n",
      "INFO:pyumi.epw:Getting weather file: USA_NV_Reno-Tahoe.Intl.AP.724880_TMY\n",
      "INFO:pyumi.epw:Getting weather file: USA_TX_Dallas-Addison.AP.722598_TMY3\n",
      "INFO:pyumi.epw:Getting weather file: USA_MS_Gulfport-Biloxi.Intl.AP.747685_TMY3\n",
      "INFO:pyumi.epw:Getting weather file: USA_MO_Columbia.724450_TMY2\n",
      "INFO:pyumi.epw:Getting weather file: USA_NC_Raleigh-Durham.723060_TMY2\n",
      "INFO:pyumi.epw:Getting weather file: USA_OH_Columbus-Port.Columbus.Intl.AP.724280_TMY3\n",
      "INFO:pyumi.epw:Getting weather file: USA_IL_Peoria-Greater.Peoria.AP.725320_TMY3\n",
      "INFO:pyumi.epw:Getting weather file: USA_TX_Fort.Worth-Meacham.AP.722596_TMY3\n",
      "INFO:pyumi.epw:Getting weather file: USA_MN_Minneapolis-St.Paul.Intl.AP.726580_TMY3\n",
      "INFO:pyumi.epw:Getting weather file: USA_TX_Austin-Mueller.Muni.AP.722540_TMY3\n",
      "INFO:pyumi.epw:Getting weather file: USA_CA_Sacramento.Metro.AP.724839_TMY3\n",
      "INFO:pyumi.epw:Getting weather file: USA_IN_Monroe.County.AP.724375_TMY3\n",
      "INFO:pyumi.epw:Getting weather file: USA_FL_Fort.Lauderdale.Executive.AP.722039_TMY3\n",
      "INFO:pyumi.epw:Getting weather file: USA_AL_Maxwell.AFB.722265_TMY3\n",
      "INFO:pyumi.epw:Getting weather file: USA_CA_Santa.Ana-John.Wayne.AP.722977_TMY3\n",
      "INFO:pyumi.epw:Getting weather file: USA_MO_Kansas.City.Downtown.AP.724463_TMY3\n",
      "INFO:pyumi.epw:Getting weather file: USA_OH_Toledo.725360_TMY2\n",
      "INFO:pyumi.epw:Getting weather file: USA_AZ_Davis-Monthan.AFB.722745_TMY3\n",
      "INFO:pyumi.epw:Getting weather file: USA_OH_Mansfield-Lahm.Muni.AP.725246_TMY3\n",
      "INFO:pyumi.epw:Getting weather file: USA_MO_St.Louis-Spirit.of.St.Louis.AP.724345_TMY3\n",
      "INFO:pyumi.epw:Getting weather file: USA_TX_Fort.Worth.722596_TMY2\n",
      "INFO:pyumi.epw:Getting weather file: CZ09RV2\n",
      "INFO:pyumi.epw:Getting weather file: USA_MI_Kalamazoo-Battle.Creek.Intl.AP.726357_TMY3\n",
      "INFO:pyumi.epw:Getting weather file: USA_FL_Fort.Lauderdale.Intl.AP.722025_TMY3\n",
      "INFO:pyumi.epw:Getting weather file: USA_CO_Golden-NREL.724666_TMY3\n",
      "INFO:pyumi.epw:Getting weather file: USA_VA_Arlington-Ronald.Reagan.Washington.Natl.AP.724050_TMY3\n",
      "INFO:pyumi.epw:Getting weather file: USA_VA_Norfolk.723080_TMY2\n",
      "INFO:pyumi.epw:Getting weather file: USA_NY_Buffalo-Greater.Buffalo.Intl.AP.725280_TMY\n",
      "INFO:pyumi.epw:Getting weather file: USA_NC_Winston.Salem-Smith.Reynolds.AP.723193_TMY3\n",
      "INFO:pyumi.epw:Getting weather file: USA_CT_Danbury.Muni.AP.725086_TMY3\n",
      "INFO:pyumi.epw:Getting weather file: USA_WI_La.Crosse.726430_TMY2\n",
      "INFO:pyumi.epw:Getting weather file: USA_OH_Cincinnati.Muni.AP-Lunken.Field.724297_TMY3\n",
      "INFO:pyumi.epw:Getting weather file: USA_OR_Portland.Intl.AP.726980_TMY3\n",
      "INFO:pyumi.epw:Getting weather file: USA_WI_Wittman.Rgnl.AP.726456_TMY3\n",
      "INFO:pyumi.epw:Getting weather file: USA_CA_Fullerton.Muni.AP.722976_TMY3\n",
      "INFO:pyumi.epw:Getting weather file: USA_CA_Carlsbad.722927_TMY3\n",
      "INFO:pyumi.epw:Getting weather file: USA_TX_Amarillo.723630_TMY2\n",
      "INFO:pyumi.epw:Getting weather file: USA_AL_Huntsville.723230_TMY2\n",
      "INFO:pyumi.epw:Getting weather file: USA_FL_Tampa.722110_TMY2\n",
      "INFO:pyumi.epw:Getting weather file: USA_CA_Camarillo.AWOS.723926_TMY3\n",
      "INFO:pyumi.epw:Getting weather file: USA_WA_Tacoma-McChord.AFB.742060_TMY3\n",
      "INFO:pyumi.epw:Getting weather file: USA_MO_Joplin.Muni.AP.723495_TMY3\n",
      "INFO:pyumi.epw:Getting weather file: USA_TX_El.Paso.Intl.AP.722700_TMY3\n",
      "INFO:pyumi.epw:Getting weather file: CZ03RV2\n",
      "INFO:pyumi.epw:Getting weather file: USA_NY_Syracuse-Hancock.Intl.AP.725190_TMY\n",
      "INFO:pyumi.epw:Getting weather file: USA_UT_Salt.Lake.City.725720_TMY2\n",
      "INFO:pyumi.epw:Getting weather file: USA_GA_Atlanta-Hartsfield-Jackson.Intl.AP.722190_TMY\n",
      "INFO:pyumi.epw:Getting weather file: USA_TN_Knoxville-McGhee.Tyson.AP.723260_TMY\n",
      "INFO:pyumi.epw:Getting weather file: USA_MO_Kansas.City.Downtown.AP.724463_TMY3\n",
      "INFO:pyumi.epw:Getting weather file: CZ10RV2\n",
      "INFO:pyumi.epw:Getting weather file: USA_OR_Redmond-Roberts.Field.726835_TMY3\n",
      "INFO:pyumi.epw:Getting weather file: USA_LA_New.Orleans-Lakefront.AP.722315_TMY3\n",
      "INFO:pyumi.epw:Getting weather file: USA_GA_Columbus.722255_TMY2\n",
      "INFO:pyumi.epw:Getting weather file: USA_AL_Auburn-Opelika.AP.722284_TMY3\n",
      "INFO:pyumi.epw:Getting weather file: USA_CT_Hartford-Bradley.Intl.AP.725080_TMY\n",
      "INFO:pyumi.epw:Getting weather file: USA_VA_Oceana.NAS.723075_TMY3\n",
      "INFO:pyumi.epw:Getting weather file: USA_WA_Olympia.727920_TMY2\n",
      "INFO:pyumi.epw:Getting weather file: USA_KY_Fort.Campbell.AAF.746710_TMY3\n",
      "INFO:pyumi.epw:Getting weather file: USA_FL_Naples.Muni.AP.722038_TMY3\n",
      "INFO:pyumi.epw:Getting weather file: USA_CO_Grand.Junction-Walker.Field.724760_TMY\n",
      "INFO:pyumi.epw:Getting weather file: USA_OR_Eugene-Mahlon.Sweet.AP.726930_TMY3\n",
      "INFO:pyumi.epw:Getting weather file: USA_CA_Los.Angeles.722950_TMY2\n",
      "INFO:pyumi.epw:Getting weather file: USA_MN_Duluth.727450_TMY2\n",
      "INFO:pyumi.epw:Getting weather file: USA_NE_Lincoln.Muni.AP.725510_TMY3\n",
      "INFO:pyumi.epw:Getting weather file: USA_FL_Sarasota-Bradenton.Intl.AP.722115_TMY3\n",
      "INFO:pyumi.epw:Getting weather file: USA_CA_Oakland.Intl.AP.724930_TMY3\n",
      "INFO:pyumi.epw:Getting weather file: USA_LA_Shreveport.Downtown.722484_TMY3\n",
      "INFO:pyumi.epw:Getting weather file: USA_NY_Binghamton-Edwin.A.Link.Field.725150_TMY3\n",
      "INFO:pyumi.epw:Getting weather file: USA_VA_Richmond.724010_TMY2\n",
      "INFO:pyumi.epw:Getting weather file: USA_OH_Cleveland-Burke.Lakefront.AP.725245_TMY3\n",
      "INFO:pyumi.epw:Getting weather file: USA_WI_Green.Bay-Austin.Straubel.Intl.AP.726450_TMY\n",
      "INFO:pyumi.epw:Getting weather file: USA_WA_Spokane-Felts.Field.727856_TMY3\n",
      "INFO:pyumi.epw:Getting weather file: USA_MN_Edin.Prairie-Flying.Cloud.AP.726579_TMY3\n",
      "INFO:pyumi.epw:Getting weather file: USA_NC_Fayetteville.Muni.AP.723035_TMY3\n",
      "INFO:pyumi.epw:Getting weather file: USA_WI_Madison-Dane.County.Rgnl.AP.726410_TMY\n",
      "INFO:pyumi.epw:Getting weather file: USA_AZ_Casa.Grande.AWOS.722748_TMY3\n",
      "INFO:pyumi.epw:Getting weather file: USA_MT_Missoula.727730_TMY2\n",
      "INFO:pyumi.epw:Getting weather file: USA_FL_St.Petersburg-Clearwater.Intl.AP.722116_TMY3\n",
      "INFO:pyumi.epw:Getting weather file: USA_IN_Lafayette-Purdue.University.AP.724386_TMY3\n",
      "INFO:pyumi.epw:Getting weather file: USA_SD_Sioux.Falls.726510_TMY2\n",
      "INFO:pyumi.epw:Getting weather file: USA_AZ_Tucson.Intl.AP.722740_TMY3\n",
      "INFO:pyumi.epw:Getting weather file: USA_GA_Dekalb.Peachtree.AP.722196_TMY3\n",
      "INFO:pyumi.epw:Getting weather file: USA_NV_Nellis.AFB.723865_TMY3\n",
      "INFO:pyumi.epw:Getting weather file: USA_MI_Oakland.County.Intl.AP.726375_TMY3\n",
      "INFO:pyumi.epw:Getting weather file: USA_MA_Chicopee.Falls-Westover.AFB.744910_TMY3\n",
      "INFO:pyumi.epw:Getting weather file: USA_WI_Manitowac.Muni.AWOS.726455_TMY3\n",
      "INFO:pyumi.epw:Getting weather file: USA_FL_Fort.Lauderdale.Executive.AP.722039_TMY3\n",
      "INFO:pyumi.epw:Getting weather file: USA_UT_Saint.George.AWOS.724754_TMY3\n",
      "INFO:pyumi.epw:Getting weather file: USA_CT_Bridgeport-Sikorsky.Mem.AP.725040_TMY3\n",
      "INFO:pyumi.epw:Getting weather file: USA_CA_Santa.Ana-John.Wayne.AP.722977_TMY3\n",
      "INFO:pyumi.epw:Getting weather file: USA_AR_Little.Rock-Adams.Field.723403_TMY\n",
      "INFO:pyumi.epw:Getting weather file: CZ08RV2\n",
      "INFO:pyumi.epw:Getting weather file: USA_AZ_Davis-Monthan.AFB.722745_TMY3\n",
      "INFO:pyumi.epw:Getting weather file: USA_IL_University.of.Illinois-Willard.AP.725315_TMY3\n",
      "INFO:pyumi.epw:Getting weather file: USA_VA_Arlington-Ronald.Reagan.Washington.Natl.AP.724050_TMY3\n",
      "INFO:pyumi.epw:Getting weather file: USA_OR_Corvallis.Muni.AP.726945_TMY3\n",
      "INFO:pyumi.epw:Getting weather file: USA_MS_Jackson.722350_TMY2\n",
      "INFO:pyumi.epw:Getting weather file: USA_GA_Savannah-Hunter.AAF.747804_TMY3\n",
      "INFO:pyumi.epw:Getting weather file: USA_CA_Livermore.Muni.AP.724927_TMY3\n",
      "INFO:pyumi.epw:Getting weather file: USA_MA_Boston-Logan.Intl.AP.725090_TMY\n",
      "INFO:pyumi.epw:Getting weather file: USA_MO_St.Louis-Spirit.of.St.Louis.AP.724345_TMY3\n",
      "INFO:pyumi.epw:Getting weather file: USA_MA_Boston-Logan.Intl.AP.725090_TMY\n",
      "INFO:pyumi.epw:Getting weather file: USA_FL_Fort.Lauderdale.Executive.AP.722039_TMY3\n",
      "INFO:pyumi.epw:Getting weather file: USA_CA_Napa.County.AP.724955_TMY3\n",
      "INFO:pyumi.epw:Getting weather file: USA_AL_Huntsville.Intl.AP-Jones.Field.723230_TMY3\n",
      "INFO:pyumi.epw:Getting weather file: USA_MI_Detroit-City.AP.725375_TMY\n",
      "INFO:pyumi.epw:Getting weather file: USA_TX_Midland.Intl.AP.722650_TMY\n",
      "INFO:pyumi.epw:Getting weather file: USA_CA_Oakland.Intl.AP.724930_TMY3\n",
      "INFO:pyumi.epw:Getting weather file: USA_FL_Fort.Lauderdale.Executive.AP.722039_TMY3\n",
      "INFO:pyumi.epw:Getting weather file: USA_IN_Indianapolis.Intl.AP.724380_TMY3\n",
      "INFO:pyumi.epw:Getting weather file: USA_IL_Waukegan.Rgnl.AP.725347_TMY3\n",
      "INFO:pyumi.epw:Getting weather file: USA_MI_Detroit-Metro.AP.725370_TMY2\n",
      "INFO:pyumi.epw:Getting weather file: USA_IA_Cedar.Rapids.Muni.AP.725450_TMY3\n",
      "INFO:pyumi.epw:Getting weather file: USA_CA_San.Diego-Montgomery.Field.722903_TMY3\n",
      "INFO:pyumi.epw:Getting weather file: USA_CA_Redding.Muni.AP.725920_TMY3\n",
      "INFO:pyumi.epw:Getting weather file: USA_TX_Lubbock.722670_TMY2\n",
      "INFO:pyumi.epw:Getting weather file: USA_NM_Albuquerque.723650_TMY2\n",
      "INFO:pyumi.epw:Getting weather file: USA_WA_Seattle-Boeing.Field.727935_TMY3\n",
      "INFO:pyumi.epw:Getting weather file: USA_LA_Baton.Rouge-Ryan.AP.722317_TMY\n",
      "INFO:pyumi.epw:Getting weather file: USA_FL_Jacksonville.NAS.722065_TMY3\n",
      "INFO:pyumi.epw:Getting weather file: USA_GA_Dekalb.Peachtree.AP.722196_TMY3\n",
      "INFO:pyumi.epw:Getting weather file: USA_TX_Wichita.Falls.723510_TMY2\n",
      "INFO:pyumi.epw:Getting weather file: USA_CO_Denver-Stapleton.724690_TMY\n",
      "INFO:pyumi.epw:Getting weather file: USA_TX_Corpus.Christi.722510_TMY2\n",
      "INFO:pyumi.epw:Getting weather file: USA_NM_Santa.Fe.County.Muni.AP.723656_TMY3\n",
      "INFO:pyumi.epw:Getting weather file: USA_CA_Sacramento.724835_TMY2\n",
      "INFO:pyumi.epw:Getting weather file: USA_OH_Cleveland-Hopkins.Intl.AP.725240_TMY3\n",
      "INFO:pyumi.epw:Getting weather file: USA_SC_Charleston.722080_TMY2\n",
      "INFO:pyumi.epw:Getting weather file: USA_CA_Long.Beach-Daugherty.Field.722970_TMY3\n",
      "INFO:pyumi.epw:Getting weather file: USA_FL_Ocala.Muni.AWOS.722055_TMY3\n",
      "INFO:pyumi.epw:Getting weather file: USA_FL_Fort.Lauderdale.Intl.AP.722025_TMY3\n",
      "INFO:pyumi.epw:Getting weather file: USA_CA_Palm.Springs.Intl.AP.722868_TMY3\n",
      "INFO:pyumi.epw:Getting weather file: USA_WA_Snohomish.County.AP.727937_TMY3\n",
      "INFO:pyumi.epw:Getting weather file: USA_FL_Tallahassee.722140_TMY2\n",
      "INFO:pyumi.epw:Getting weather file: USA_TN_Chattanooga-Lovell.Field.AP.723240_TMY\n",
      "INFO:pyumi.epw:Getting weather file: USA_TX_Galveston.722420_TMY3\n",
      "INFO:pyumi.epw:Getting weather file: USA_FL_West.Palm.Beach.722030_TMY2\n",
      "INFO:pyumi.epw:Getting weather file: CZ09RV2\n",
      "INFO:pyumi.epw:Getting weather file: USA_CA_Mountain.View-Moffett.Field.NAS.745090_TMY3\n",
      "INFO:pyumi.epw:Getting weather file: USA_AZ_Prescott.723723_TMY2\n",
      "INFO:pyumi.epw:Getting weather file: USA_NC_Raleigh-Durham.723060_TMY2\n",
      "INFO:pyumi.epw:Getting weather file: USA_RI_Pawtucket.AWOS.725054_TMY3\n",
      "INFO:pyumi.epw:Getting weather file: USA_CA_Fullerton.Muni.AP.722976_TMY3\n",
      "INFO:pyumi.epw:Getting weather file: USA_UT_Salt.Lake.City.725720_TMY2\n",
      "INFO:pyumi.epw:Getting weather file: USA_FL_MacDill.AFB.747880_TMY3\n",
      "INFO:pyumi.epw:Getting weather file: USA_VA_Arlington-Ronald.Reagan.Washington.Natl.AP.724050_TMY3\n",
      "INFO:pyumi.epw:Getting weather file: USA_IL_Du.Page.AP.725305_TMY3\n",
      "INFO:pyumi.epw:Getting weather file: USA_OH_Dayton.745700_TMY2\n",
      "INFO:pyumi.epw:Getting weather file: USA_CT_Hartford-Bradley.Intl.AP.725080_TMY\n",
      "INFO:pyumi.epw:Getting weather file: USA_FL_Fort.Lauderdale.Intl.AP.722025_TMY3\n",
      "INFO:pyumi.epw:Getting weather file: USA_NY_Utica-Oneida.County.AP.725197_TMY3\n",
      "INFO:pyumi.epw:Getting weather file: USA_NJ_Newark.Intl.AP.725020_TMY3\n",
      "INFO:pyumi.epw:Getting weather file: USA_NY_White.Plains-Westchester.County.AP.725037_TMY3\n",
      "INFO:pyumi.epw:Getting weather file: USA_NY_Buffalo-Greater.Buffalo.Intl.AP.725280_TMY\n",
      "INFO:pyumi.epw:Getting weather file: USA_MT_Bozeman-Gallatin.Field.726797_TMY3\n",
      "INFO:pyumi.epw:Getting weather file: USA_FL_Tampa.722110_TMY2\n",
      "INFO:pyumi.epw:Getting weather file: USA_MN_Minneapolis-Crystal.AP.726575_TMY3\n",
      "INFO:pyumi.epw:Getting weather file: USA_OH_Akron.725210_TMY2\n",
      "INFO:pyumi.epw:Getting weather file: USA_CO_Golden-NREL.724666_TMY3\n",
      "INFO:pyumi.epw:Getting weather file: USA_NC_Greensboro-Piedmont.Triad.Intl.AP.723170_TMY\n",
      "INFO:pyumi.epw:Getting weather file: USA_MO_Kansas.City.Downtown.AP.724463_TMY3\n",
      "INFO:pyumi.epw:Getting weather file: USA_TX_Fort.Hood.722570_TMY3\n",
      "INFO:pyumi.epw:Getting weather file: USA_FL_Miami.722020_TMY2\n",
      "INFO:pyumi.epw:Getting weather file: USA_CA_Stockton.Metro.AP.724920_TMY3\n",
      "INFO:pyumi.epw:Getting weather file: USA_IN_Delaware.County-Johnson.Field.725336_TMY3\n",
      "INFO:pyumi.epw:Getting weather file: CZ02RV2\n",
      "INFO:pyumi.epw:Getting weather file: USA_RI_Providence-T.F.Green.State.AP.725070_TMY\n",
      "INFO:pyumi.epw:Getting weather file: USA_IA_Des.Moines.725460_TMY2\n",
      "INFO:pyumi.epw:Getting weather file: USA_ID_Boise.Air.Terminal.726810_TMY3\n",
      "INFO:pyumi.epw:Getting weather file: USA_SC_Columbia.723100_TMY2\n",
      "INFO:pyumi.epw:Getting weather file: USA_NC_New.River.MCAS.723096_TMY3\n",
      "INFO:pyumi.epw:Getting weather file: USA_LA_New.Orleans.722315_TMY2\n",
      "INFO:pyumi.epw:Getting weather file: USA_TX_Houston-Ellington.AFB.722436_TMY3\n",
      "INFO:pyumi.epw:Getting weather file: USA_FL_Lakeland.Linder.Rgnl.AP.722119_TMY3\n",
      "INFO:pyumi.epw:Getting weather file: USA_NC_Charlotte-Douglas.Intl.AP.723140_TMY\n",
      "INFO:pyumi.epw:Getting weather file: USA_MI_Lansing-Capital.City.AP.725390_TMY3\n",
      "INFO:pyumi.epw:Getting weather file: USA_OK_Oklahoma.City-Tinker.AFB.723540_TMY3\n",
      "INFO:pyumi.epw:Getting weather file: USA_NC_Pitt.Greenville.AP.723065_TMY3\n",
      "INFO:pyumi.epw:Getting weather file: USA_OR_Portland-Troutdale.AP.726985_TMY3\n",
      "INFO:pyumi.epw:Getting weather file: USA_KS_Olathe-Johnson.County.Industrial.AP.724475_TMY3\n",
      "INFO:pyumi.epw:Getting weather file: USA_PA_Reading.Mem.AP-Spaatz.Field.725103_TMY3\n",
      "INFO:pyumi.epw:Getting weather file: USA_NY_Albany.725180_TMY2\n",
      "INFO:pyumi.epw:Getting weather file: USA_CA_Mountain.View-Moffett.Field.NAS.745090_TMY\n",
      "INFO:pyumi.epw:Getting weather file: USA_TX_Abilene.Rgnl.AP.722660_TMY3\n",
      "INFO:pyumi.epw:Getting weather file: USA_MN_Rochester.726440_TMY2\n",
      "INFO:pyumi.epw:Getting weather file: USA_AL_Tuscaloosa.Muni.AP.722286_TMY3\n",
      "INFO:pyumi.epw:Getting weather file: USA_CA_Santa.Ana-John.Wayne.AP.722977_TMY3\n",
      "INFO:pyumi.epw:Getting weather file: USA_WY_Worland.Muni.AP.726665_TMY3\n",
      "INFO:pyumi.epw:Getting weather file: USA_NY_New.York-LaGuardia.AP.725030_TMY\n",
      "INFO:pyumi.epw:Getting weather file: USA_AL_Muscle.Shoals.Rgnl.AP.723235_TMY3\n",
      "INFO:pyumi.epw:Getting weather file: USA_ME_Portland.Intl.Jetport.726060_TMY3\n",
      "INFO:pyumi.epw:Getting weather file: USA_TN_Nashville.723270_TMY2\n",
      "INFO:pyumi.epw:Getting weather file: USA_IL_Chicago-OHare.Intl.AP.725300_TMY3\n",
      "INFO:pyumi.epw:Getting weather file: USA_TN_Bristol-TriCities.Rgnl.AP.723183_TMY3\n",
      "INFO:pyumi.epw:Getting weather file: USA_ND_Minot.727676_TMY2\n",
      "INFO:pyumi.epw:Getting weather file: USA_GA_Warner.Robins.AFB.722175_TMY3\n",
      "INFO:pyumi.epw:Getting weather file: USA_IN_Evansville.724320_TMY2\n",
      "INFO:pyumi.epw:Getting weather file: USA_TX_Beaumont-Port.Arthur.722410_TMY2\n",
      "INFO:pyumi.epw:Getting weather file: USA_CA_Riverside.Muni.AP.722869_TMY3\n",
      "INFO:pyumi.epw:Getting weather file: USA_WA_Bellingham.Intl.AP.727976_TMY3\n",
      "INFO:pyumi.epw:Getting weather file: USA_MI_Detroit.Metro.AP.725370_TMY3\n",
      "INFO:pyumi.epw:Getting weather file: USA_WA_Seattle-Boeing.Field.727935_TMY3\n",
      "INFO:pyumi.epw:Getting weather file: USA_RI_Providence-T.F.Green.State.AP.725070_TMY3\n",
      "INFO:pyumi.epw:Getting weather file: USA_MO_Kansas.City.Downtown.AP.724463_TMY3\n",
      "INFO:pyumi.epw:Getting weather file: USA_FL_Fort.Myers-Page.Field.722106_TMY3\n",
      "INFO:pyumi.epw:Getting weather file: USA_IL_Moline-Quad.City.Intl.AP.725440_TMY3\n",
      "INFO:pyumi.epw:Getting weather file: USA_CO_Fort.Collins.AWOS.724769_TMY3\n",
      "INFO:pyumi.epw:Getting weather file: USA_NY_New.York-Central.Park.725033_TMY3\n",
      "INFO:pyumi.epw:Getting weather file: USA_NJ_Newark.725020_TMY2\n",
      "INFO:pyumi.epw:Getting weather file: USA_MD_Andrews.AFB.745940_TMY3\n",
      "INFO:pyumi.epw:Getting weather file: USA_MO_Springfield.724400_TMY2\n",
      "INFO:pyumi.epw:Getting weather file: USA_TX_Draughon-Miller.Central.Texas.AP.722577_TMY3\n",
      "INFO:pyumi.epw:Getting weather file: USA_TX_Tyler-Pounds.Field.722448_TMY3\n",
      "INFO:pyumi.epw:Getting weather file: USA_ID_Idaho.Falls-Fanning.Field.725785_TMY3\n",
      "INFO:pyumi.epw:Getting weather file: USA_MI_Battle.Creek-Kellogg.AP.725396_TMY3\n",
      "INFO:pyumi.epw:Getting weather file: USA_CA_Palm.Springs-Thermal.AP.747187_TMY3\n",
      "INFO:pyumi.epw:Getting weather file: USA_CA_Oxnard.AP.723927_TMY3\n",
      "INFO:pyumi.epw:Getting weather file: USA_CA_Chula.Vista-Brown.Field.Muni.AP.722904_TMY3\n",
      "INFO:pyumi.epw:Getting weather file: USA_FL_Fort.Lauderdale.Executive.AP.722039_TMY3\n",
      "INFO:pyumi.epw:Getting weather file: USA_CA_Camp.Pendleton.MCAS.722926_TMY3\n",
      "INFO:pyumi.epw:Getting weather file: USA_IL_Bloomington.Normal-Central.Illinois.Rgnl.AP.724397_TMY3\n",
      "INFO:pyumi.epw:Getting weather file: USA_NC_Wilmington.723013_TMY2\n",
      "INFO:pyumi.epw:Getting weather file: USA_NC_Charlotte-Douglas.Intl.AP.723140_TMY\n",
      "INFO:pyumi.epw:Getting weather file: USA_CA_Fullerton.Muni.AP.722976_TMY3\n",
      "INFO:pyumi.epw:Getting weather file: USA_FL_St.Petersburg-Clearwater.Intl.AP.722116_TMY3\n",
      "INFO:pyumi.epw:Getting weather file: USA_FL_St.Petersburg-Clearwater.Intl.AP.722116_TMY3\n",
      "INFO:pyumi.epw:Getting weather file: USA_WA_Seattle-Tacoma.727930_TMY2\n",
      "INFO:pyumi.epw:Getting weather file: USA_AR_Fayetteville-Drake.Field.723445_TMY3\n"
     ]
    }
   ],
   "source": [
    "%%capture\n",
    "cities = pd.read_csv(\"./cities.csv\")\n",
    "city_map = {}\n",
    "for ix, row in cities.iterrows():\n",
    "    print(f\"Fetching Epw for {row['city']}\")\n",
    "    lat, lon = row[\"latitude\"], row[\"longitude\"]\n",
    "    city_epw = Epw.from_nrel(lat, lon)\n",
    "    \"\"\"In case we want to mutate the epw to create variations per city\"\"\"\n",
    "    dbt = np.array(city_epw.dry_bulb_temperature.values)\n",
    "    dpt = np.array(city_epw.dew_point_temperature.values)\n",
    "    rh = np.array(city_epw.relative_humidity.values)\n",
    "    wind_dir = np.array(city_epw.wind_direction.values)\n",
    "    wind_speed = np.array(city_epw.wind_speed.values)\n",
    "    rad_norm= np.array(city_epw.direct_normal_radiation.values)\n",
    "    rad_hor = np.array(city_epw.diffuse_horizontal_radiation.values)\n",
    "\n",
    "    \"\"\"Save it\"\"\"\n",
    "    slug = f\"cityidx_{ix:04d}_{city_epw.name}\"\n",
    "    out_path = Path(\"./city_epws_indexed\") / slug\n",
    "    city_epw.save(out_path)\n",
    "    city_map[row['city']] = {\n",
    "        'epw': slug,\n",
    "        'idx': ix\n",
    "    }\n",
    "    print(f\"Saved EPW for {row['city']}: {out_path}\")\n",
    "\n",
    "with open('city_map.json', 'w') as f:\n",
    "    json.dump(city_map, f)"
   ]
  }
 ],
 "metadata": {
  "interpreter": {
   "hash": "b28d6c767bba6074716622251e46d7b06b4f3a574214780a29c5cdfb14800233"
  },
  "kernelspec": {
   "display_name": "Python 3.8.16 64-bit ('ml-for-ubem': conda)",
   "language": "python",
   "name": "python3"
  },
  "language_info": {
   "codemirror_mode": {
    "name": "ipython",
    "version": 3
   },
   "file_extension": ".py",
   "mimetype": "text/x-python",
   "name": "python",
   "nbconvert_exporter": "python",
   "pygments_lexer": "ipython3",
   "version": "3.8.17"
  },
  "orig_nbformat": 4
 },
 "nbformat": 4,
 "nbformat_minor": 2
}
